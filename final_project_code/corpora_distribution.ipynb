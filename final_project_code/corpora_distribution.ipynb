{
 "cells": [
  {
   "cell_type": "code",
   "execution_count": 1,
   "metadata": {},
   "outputs": [
    {
     "name": "stdout",
     "output_type": "stream",
     "text": [
      "[nltk_data] Downloading package gutenberg to\n",
      "[nltk_data]     C:\\Users\\Timot\\AppData\\Roaming\\nltk_data...\n",
      "[nltk_data]   Package gutenberg is already up-to-date!\n"
     ]
    }
   ],
   "source": [
    "#Special module written for this class\n",
    "#This provides access to data and to helper functions from previous weeks\n",
    "import nltk \n",
    "nltk.download('gutenberg')\n",
    "import lucem_illud #pip install git+git://github.com/Computational-Content-Analysis-2018/lucem_illud.git\n",
    "\n",
    "#All these packages need to be installed from pip\n",
    "import requests #for http requests\n",
    "import nltk #the Natural Language Toolkit\n",
    "import pandas as pd #gives us DataFrames\n",
    "import matplotlib.pyplot as plt #For graphics\n",
    "import wordcloud #Makes word clouds\n",
    "import numpy as np #For divergences/distances\n",
    "import scipy #For divergences/distances\n",
    "import seaborn as sns #makes our plots look nicer\n",
    "import sklearn.manifold #For a manifold plot\n",
    "from nltk.corpus import stopwords #For stopwords\n",
    "import json #For API responses\n",
    "import urllib.parse #For joining urls\n",
    "\n",
    "#This 'magic' command makes the plots work better\n",
    "#in the notebook, don't use it outside of a notebook\n",
    "%matplotlib inline"
   ]
  },
  {
   "cell_type": "code",
   "execution_count": 2,
   "metadata": {
    "collapsed": true
   },
   "outputs": [],
   "source": [
    "anthro_df = pd.read_pickle(r'C:\\Users\\Timot\\Documents\\final_project\\anthro_data\\anthro_norm_filt_df.pk1')\n",
    "econ_df = pd.read_pickle(r'C:\\Users\\Timot\\Documents\\final_project\\econ_data\\econ_norm_filt_df.pk1')\n",
    "ling_df = pd.read_pickle(r'C:\\Users\\Timot\\Documents\\final_project\\ling_data\\ling_norm_filt_df.pk1')\n",
    "soc_df = pd.read_pickle(r'C:\\Users\\Timot\\Documents\\final_project\\soc_data\\soc_norm_filt_df.pk1')"
   ]
  },
  {
   "cell_type": "code",
   "execution_count": null,
   "metadata": {
    "collapsed": true
   },
   "outputs": [],
   "source": [
    "anthroWords = set(anthro_df['normalized_tokens'].sum())\n",
    "econWords = set(econ_df['normalized_tokens'].sum())\n",
    "lingWords = set(ling_df['normalized_tokens'].sum())\n",
    "socWords = set(soc_df['normalized_tokens'].sum())\n",
    "\n",
    "#Change & to | if you want to keep all words\n",
    "overlapWords = anthroWords & econWords & lingWords & socWords\n",
    "\n",
    "overlapWordsDict = {word: index for index, word in enumerate(overlapWords)}\n",
    "overlapWordsDict['student']"
   ]
  },
  {
   "cell_type": "code",
   "execution_count": null,
   "metadata": {
    "collapsed": true
   },
   "outputs": [],
   "source": [
    "\n",
    "def makeProbsArray(dfColumn, overlapDict):\n",
    "    words = dfColumn.sum()\n",
    "    countList = [0] * len(overlapDict)\n",
    "    for word in words:\n",
    "        try:\n",
    "            countList[overlapDict[word]] += 1\n",
    "        except KeyError:\n",
    "            #The word is not common so we skip it\n",
    "            pass\n",
    "    countArray = np.array(countList)\n",
    "    return countArray / countArray.sum()\n",
    "\n",
    "whProbArray = makeProbsArray(whReleases['normalized_tokens'], overlapWordsDict)\n",
    "kenProbArray = makeProbsArray(kenReleases['normalized_tokens'], overlapWordsDict)\n",
    "kenProbArray.sum()\n",
    "#There is a little bit of a floating point math error\n",
    "#but it's too small to see with print and too small matter here"
   ]
  },
  {
   "cell_type": "code",
   "execution_count": null,
   "metadata": {
    "collapsed": true
   },
   "outputs": [],
   "source": [
    "#computes divergence\n",
    "wh_kenDivergence = scipy.stats.entropy(whProbArray, kenProbArray)\n",
    "print (wh_kenDivergence)\n",
    "ken_whDivergence = scipy.stats.entropy(kenProbArray, whProbArray)\n",
    "print (ken_whDivergence)"
   ]
  },
  {
   "cell_type": "code",
   "execution_count": null,
   "metadata": {
    "collapsed": true
   },
   "outputs": [],
   "source": [
    "#displays the words the most distinguish the corpora\n",
    "wh_kenDivergence_ew = scipy.special.kl_div(whProbArray, kenProbArray)\n",
    "kl_df = pandas.DataFrame(list(overlapWordsDict.keys()), columns = ['word'], index = list(overlapWordsDict.values()))\n",
    "kl_df = kl_df.sort_index()\n",
    "kl_df['elementwise divergence'] = wh_kenDivergence_ew\n",
    "kl_df[:10]"
   ]
  },
  {
   "cell_type": "code",
   "execution_count": null,
   "metadata": {
    "collapsed": true
   },
   "outputs": [],
   "source": []
  },
  {
   "cell_type": "code",
   "execution_count": null,
   "metadata": {
    "collapsed": true
   },
   "outputs": [],
   "source": []
  }
 ],
 "metadata": {
  "kernelspec": {
   "display_name": "Python 3",
   "language": "python",
   "name": "python3"
  },
  "language_info": {
   "codemirror_mode": {
    "name": "ipython",
    "version": 3
   },
   "file_extension": ".py",
   "mimetype": "text/x-python",
   "name": "python",
   "nbconvert_exporter": "python",
   "pygments_lexer": "ipython3",
   "version": "3.6.3"
  }
 },
 "nbformat": 4,
 "nbformat_minor": 2
}
