{
 "cells": [
  {
   "cell_type": "markdown",
   "metadata": {},
   "source": [
    "# Week 2 - Corpus Linguistics\n",
    "\n",
    "This week, we take text corpora that we have developed, spidered, scraped, and encoded, and we find and count words and simple phrases and properties of those counts (e.g., word frequency distributions). Initially, we model how to search corpora for keywords or phrases. Next, we examine the distributions of terms and phrases across a corpus, and the corelation between different words and phrase counts. In order to do this effectively, we coarsely disambiguate words based of part-of-speech (POS) tagging, and normalize them through stemming and lemmatization. Next we distinguish *important* words and phrase within the corpus, and image them with Wordls! Then we calculate word frequenceis, conditional frequences (the frequency of word *shock* conditional on the presence of word *awe*), and statistically significant collocations of lengths 2 through $n$. Finally, we calculate and visualize Differences (Divergences and Distances) between the word frequency distributions from two corpora. \n",
    "\n",
    "For this notebook we will be using the following packages"
   ]
  },
  {
   "cell_type": "code",
<<<<<<< HEAD
   "execution_count": 4,
   "metadata": {},
   "outputs": [
    {
     "name": "stdout",
     "output_type": "stream",
     "text": [
      "[nltk_data] Downloading package punkt to\n",
      "[nltk_data]     /home/timothyelder/nltk_data...\n",
      "[nltk_data]   Package punkt is already up-to-date!\n",
      "[nltk_data] Downloading package stopwords to\n",
      "[nltk_data]     /home/timothyelder/nltk_data...\n",
      "[nltk_data]   Package stopwords is already up-to-date!\n"
     ]
    }
   ],
=======
   "execution_count": null,
   "metadata": {
    "collapsed": true
   },
   "outputs": [],
>>>>>>> d195bdb541288306c8d9b6aa1962ebe4ae022cde
   "source": [
    "#Special module written for this class\n",
    "#This provides access to data and to helper functions from previous weeks\n",
    "import lucem_illud #pip install git+git://github.com/Computational-Content-Analysis-2018/lucem_illud.git\n",
    "\n",
    "#All these packages need to be installed from pip\n",
    "import requests #for http requests\n",
    "import nltk #the Natural Language Toolkit\n",
    "import pandas #gives us DataFrames\n",
    "import matplotlib.pyplot as plt #For graphics\n",
    "import wordcloud #Makes word clouds\n",
    "import numpy as np #For divergences/distances\n",
    "import scipy #For divergences/distances\n",
    "import seaborn as sns #makes our plots look nicer\n",
    "import sklearn.manifold #For a manifold plot\n",
    "from nltk.corpus import stopwords #For stopwords\n",
    "import json #For API responses\n",
    "import urllib.parse #For joining urls\n",
<<<<<<< HEAD
    "nltk.download('punkt')\n",
    "nltk.download('stopwords')\n",
    "import os\n",
    "import re\n",
=======
>>>>>>> d195bdb541288306c8d9b6aa1962ebe4ae022cde
    "\n",
    "#This 'magic' command makes the plots work better\n",
    "#in the notebook, don't use it outside of a notebook\n",
    "%matplotlib inline"
   ]
  },
  {
   "cell_type": "markdown",
   "metadata": {},
   "source": [
    "# Retrieving exemplary corpora\n",
    "\n",
    "To get started we will need some examples. Let's start by downloading one of the corpuses from `nltk`, a Natural Language Toolkit developed by computational linguists at the University of Pennsylvania. Let's take a look at how that works.\n",
    "\n",
    "First we can get a list of works available from the Gutenburg corpus, with the [corpus module](http://www.nltk.org/api/nltk.corpus.html). To do this we will need to tell nltk where the data are, and download them if need be."
   ]
  },
  {
   "cell_type": "code",
<<<<<<< HEAD
   "execution_count": 75,
   "metadata": {},
   "outputs": [
    {
     "name": "stdout",
     "output_type": "stream",
     "text": [
      "['austen-emma.txt', 'austen-persuasion.txt', 'austen-sense.txt', 'bible-kjv.txt', 'blake-poems.txt', 'bryant-stories.txt', 'burgess-busterbrown.txt', 'carroll-alice.txt', 'chesterton-ball.txt', 'chesterton-brown.txt', 'chesterton-thursday.txt', 'edgeworth-parents.txt', 'melville-moby_dick.txt', 'milton-paradise.txt', 'shakespeare-caesar.txt', 'shakespeare-hamlet.txt', 'shakespeare-macbeth.txt', 'whitman-leaves.txt']\n",
      "18\n"
     ]
    }
   ],
=======
   "execution_count": null,
   "metadata": {
    "collapsed": false
   },
   "outputs": [],
>>>>>>> d195bdb541288306c8d9b6aa1962ebe4ae022cde
   "source": [
    "#You should have them already downloaded in the data directory\n",
    "try:\n",
    "    #adding path for both local and server, only one of these will actually be used at a time\n",
    "    nltk.data.path.append('/project2/macs60000/shared_data/nltk')\n",
    "    nltk.data.path.append('../data')\n",
    "    #Check that everything is in place\n",
    "    nltk.corpus.gutenberg.fileids()\n",
    "except LookupError:\n",
    "    print(\"You have to download all the documents\")\n",
    "    print(\"Downloading to ../data this should only take a couple minutes\")\n",
    "    nltk.download('all', download_dir = '../data')\n",
    "    nltk.data.path.append('../data')\n",
    "#If you haven't downloaded the copura then you will have to run `nltk.download()`\n",
    "print(nltk.corpus.gutenberg.fileids())\n",
    "print(len(nltk.corpus.gutenberg.fileids()))"
   ]
  },
  {
   "cell_type": "markdown",
   "metadata": {},
   "source": [
    "We can also look at the individual works"
   ]
  },
  {
   "cell_type": "code",
<<<<<<< HEAD
   "execution_count": 76,
   "metadata": {},
   "outputs": [
    {
     "data": {
      "text/plain": [
       "\"[Paradise Lost by John Milton 1667] \\n \\n \\nBook I \\n \\n \\nOf Man's first disobedience, and the fruit \\nOf that forbidden tree whose mortal taste \\nBrought death into the World, and all our woe, \\nWith loss of Eden, till one greater Man \\nRestore us, and regain the blissful seat, \\nSing, Heavenly Muse, that, on the secret top \\nOf Oreb, or of Sinai, didst inspire \\nThat shepherd who first taught the chosen seed \\nIn the beginning how the heavens and earth \\nRose out of Chaos: or, if Sion hill \\nDelight thee more, and Siloa's brook that flowed \\nFast by the oracle of God, I thence \\nInvoke thy aid to my adventurous song, \\nThat with no middle flight intends to soar \\nAbove th' Aonian mount, while it pursues \\nThings unattempted yet in prose or rhyme. \\nAnd chiefly thou, O Spirit, that dost prefer \\nBefore all temples th' upright heart and pure, \\nInstruct me, for thou know'st; thou from the first \\nWast present, and, with mighty wings outspread, \\nDove-like sat'st brooding on the vast Abyss, \\nAnd mad'st it pregn\""
      ]
     },
     "execution_count": 76,
     "metadata": {},
     "output_type": "execute_result"
    }
   ],
   "source": [
    "nltk.corpus.gutenberg.raw('milton-paradise.txt')[:1000]"
=======
   "execution_count": null,
   "metadata": {
    "collapsed": false
   },
   "outputs": [],
   "source": [
    "nltk.corpus.gutenberg.raw('shakespeare-macbeth.txt')[2000:4000]"
>>>>>>> d195bdb541288306c8d9b6aa1962ebe4ae022cde
   ]
  },
  {
   "cell_type": "markdown",
   "metadata": {},
   "source": [
    "All the listed works have been nicely marked up and classified for us so we can do much better than just looking at raw text."
   ]
  },
  {
   "cell_type": "code",
<<<<<<< HEAD
   "execution_count": 77,
   "metadata": {},
   "outputs": [
    {
     "name": "stdout",
     "output_type": "stream",
     "text": [
      "['[', 'The', 'Tragedie', 'of', 'Macbeth', 'by', ...]\n"
     ]
    }
   ],
   "source": [
    "print(nltk.corpus.gutenberg.words('shakespeare-macbeth.txt'))"
   ]
  },
  {
   "cell_type": "code",
   "execution_count": 78,
   "metadata": {},
   "outputs": [
    {
     "name": "stdout",
     "output_type": "stream",
     "text": [
      "[['[', 'The', 'Tragedie', 'of', 'Macbeth', 'by', 'William', 'Shakespeare', '1603', ']'], ['Actus', 'Primus', '.'], ...]\n"
     ]
    }
   ],
   "source": [
=======
   "execution_count": null,
   "metadata": {
    "collapsed": false
   },
   "outputs": [],
   "source": [
    "print(nltk.corpus.gutenberg.words('shakespeare-macbeth.txt'))\n",
>>>>>>> d195bdb541288306c8d9b6aa1962ebe4ae022cde
    "print(nltk.corpus.gutenberg.sents('shakespeare-macbeth.txt'))"
   ]
  },
  {
   "cell_type": "markdown",
   "metadata": {},
   "source": [
    "# Counting words\n",
    "\n",
    "If we want to do some analysis we can start by simply counting the number of times each word occurs within the corpus."
   ]
  },
  {
   "cell_type": "code",
<<<<<<< HEAD
   "execution_count": 79,
   "metadata": {},
   "outputs": [
    {
     "data": {
      "text/html": [
       "<div>\n",
       "<style scoped>\n",
       "    .dataframe tbody tr th:only-of-type {\n",
       "        vertical-align: middle;\n",
       "    }\n",
       "\n",
       "    .dataframe tbody tr th {\n",
       "        vertical-align: top;\n",
       "    }\n",
       "\n",
       "    .dataframe thead th {\n",
       "        text-align: right;\n",
       "    }\n",
       "</style>\n",
       "<table border=\"1\" class=\"dataframe\">\n",
       "  <thead>\n",
       "    <tr style=\"text-align: right;\">\n",
       "      <th></th>\n",
       "      <th>count</th>\n",
       "      <th>word</th>\n",
       "    </tr>\n",
       "  </thead>\n",
       "  <tbody>\n",
       "    <tr>\n",
       "      <th>0</th>\n",
       "      <td>4</td>\n",
       "      <td>[</td>\n",
       "    </tr>\n",
       "    <tr>\n",
       "      <th>1</th>\n",
       "      <td>650</td>\n",
       "      <td>the</td>\n",
       "    </tr>\n",
       "    <tr>\n",
       "      <th>2</th>\n",
       "      <td>2</td>\n",
       "      <td>tragedie</td>\n",
       "    </tr>\n",
       "    <tr>\n",
       "      <th>3</th>\n",
       "      <td>338</td>\n",
       "      <td>of</td>\n",
       "    </tr>\n",
       "    <tr>\n",
       "      <th>4</th>\n",
       "      <td>62</td>\n",
       "      <td>macbeth</td>\n",
       "    </tr>\n",
       "    <tr>\n",
       "      <th>5</th>\n",
       "      <td>49</td>\n",
       "      <td>by</td>\n",
       "    </tr>\n",
       "    <tr>\n",
       "      <th>6</th>\n",
       "      <td>1</td>\n",
       "      <td>william</td>\n",
       "    </tr>\n",
       "    <tr>\n",
       "      <th>7</th>\n",
       "      <td>1</td>\n",
       "      <td>shakespeare</td>\n",
       "    </tr>\n",
       "    <tr>\n",
       "      <th>8</th>\n",
       "      <td>1</td>\n",
       "      <td>1603</td>\n",
       "    </tr>\n",
       "    <tr>\n",
       "      <th>9</th>\n",
       "      <td>4</td>\n",
       "      <td>]</td>\n",
       "    </tr>\n",
       "  </tbody>\n",
       "</table>\n",
       "</div>"
      ],
      "text/plain": [
       "   count         word\n",
       "0      4            [\n",
       "1    650          the\n",
       "2      2     tragedie\n",
       "3    338           of\n",
       "4     62      macbeth\n",
       "5     49           by\n",
       "6      1      william\n",
       "7      1  shakespeare\n",
       "8      1         1603\n",
       "9      4            ]"
      ]
     },
     "execution_count": 79,
     "metadata": {},
     "output_type": "execute_result"
    }
   ],
=======
   "execution_count": null,
   "metadata": {
    "collapsed": false
   },
   "outputs": [],
>>>>>>> d195bdb541288306c8d9b6aa1962ebe4ae022cde
   "source": [
    "def wordCounter(wordLst):\n",
    "    wordCounts = {}\n",
    "    for word in wordLst:\n",
    "        #We usually need to normalize the case\n",
    "        wLower = word.lower()\n",
    "        if wLower in wordCounts:\n",
    "            wordCounts[wLower] += 1\n",
    "        else:\n",
    "            wordCounts[wLower] = 1\n",
    "    #convert to DataFrame\n",
    "    countsForFrame = {'word' : [], 'count' : []}\n",
    "    for w, c in wordCounts.items():\n",
    "        countsForFrame['word'].append(w)\n",
    "        countsForFrame['count'].append(c)\n",
    "    return pandas.DataFrame(countsForFrame)\n",
    "\n",
    "countedWords = wordCounter(nltk.corpus.gutenberg.words('shakespeare-macbeth.txt'))\n",
    "countedWords[:10]"
   ]
  },
  {
   "cell_type": "markdown",
   "metadata": {},
   "source": [
    "Notice how `wordCounter()` is not a very complicated function. That is because the hard parts have already been done by `nltk`. If we were using unprocessed text we would have to tokenize and determine what to do with the non-word characters.\n",
    "\n",
    "nltk also offers a built-in way for getting a frequency distribution from a list of words:"
   ]
  },
  {
   "cell_type": "code",
<<<<<<< HEAD
   "execution_count": 80,
   "metadata": {},
   "outputs": [
    {
     "name": "stdout",
     "output_type": "stream",
     "text": [
      "62\n"
     ]
    }
   ],
=======
   "execution_count": null,
   "metadata": {
    "collapsed": false
   },
   "outputs": [],
>>>>>>> d195bdb541288306c8d9b6aa1962ebe4ae022cde
   "source": [
    "words = [word.lower() for word in nltk.corpus.gutenberg.words('shakespeare-macbeth.txt')]\n",
    "freq = nltk.FreqDist(words)\n",
    "print (freq['macbeth'])"
   ]
  },
  {
   "cell_type": "markdown",
   "metadata": {},
   "source": [
    "Lets sort and plot our counts to investigate the shape of our word frequency distribution.\n",
    "\n",
    "First we need to sort the words by count."
   ]
  },
  {
   "cell_type": "code",
<<<<<<< HEAD
   "execution_count": 81,
   "metadata": {},
   "outputs": [
    {
     "data": {
      "text/html": [
       "<div>\n",
       "<style scoped>\n",
       "    .dataframe tbody tr th:only-of-type {\n",
       "        vertical-align: middle;\n",
       "    }\n",
       "\n",
       "    .dataframe tbody tr th {\n",
       "        vertical-align: top;\n",
       "    }\n",
       "\n",
       "    .dataframe thead th {\n",
       "        text-align: right;\n",
       "    }\n",
       "</style>\n",
       "<table border=\"1\" class=\"dataframe\">\n",
       "  <thead>\n",
       "    <tr style=\"text-align: right;\">\n",
       "      <th></th>\n",
       "      <th>count</th>\n",
       "      <th>word</th>\n",
       "    </tr>\n",
       "  </thead>\n",
       "  <tbody>\n",
       "    <tr>\n",
       "      <th>29</th>\n",
       "      <td>1962</td>\n",
       "      <td>,</td>\n",
       "    </tr>\n",
       "    <tr>\n",
       "      <th>12</th>\n",
       "      <td>1235</td>\n",
       "      <td>.</td>\n",
       "    </tr>\n",
       "    <tr>\n",
       "      <th>1</th>\n",
       "      <td>650</td>\n",
       "      <td>the</td>\n",
       "    </tr>\n",
       "    <tr>\n",
       "      <th>36</th>\n",
       "      <td>637</td>\n",
       "      <td>'</td>\n",
       "    </tr>\n",
       "    <tr>\n",
       "      <th>16</th>\n",
       "      <td>546</td>\n",
       "      <td>and</td>\n",
       "    </tr>\n",
       "    <tr>\n",
       "      <th>64</th>\n",
       "      <td>477</td>\n",
       "      <td>:</td>\n",
       "    </tr>\n",
       "    <tr>\n",
       "      <th>54</th>\n",
       "      <td>384</td>\n",
       "      <td>to</td>\n",
       "    </tr>\n",
       "    <tr>\n",
       "      <th>56</th>\n",
       "      <td>348</td>\n",
       "      <td>i</td>\n",
       "    </tr>\n",
       "    <tr>\n",
       "      <th>3</th>\n",
       "      <td>338</td>\n",
       "      <td>of</td>\n",
       "    </tr>\n",
       "    <tr>\n",
       "      <th>27</th>\n",
       "      <td>241</td>\n",
       "      <td>?</td>\n",
       "    </tr>\n",
       "    <tr>\n",
       "      <th>84</th>\n",
       "      <td>241</td>\n",
       "      <td>a</td>\n",
       "    </tr>\n",
       "    <tr>\n",
       "      <th>43</th>\n",
       "      <td>238</td>\n",
       "      <td>that</td>\n",
       "    </tr>\n",
       "    <tr>\n",
       "      <th>153</th>\n",
       "      <td>224</td>\n",
       "      <td>d</td>\n",
       "    </tr>\n",
       "    <tr>\n",
       "      <th>487</th>\n",
       "      <td>206</td>\n",
       "      <td>you</td>\n",
       "    </tr>\n",
       "    <tr>\n",
       "      <th>110</th>\n",
       "      <td>203</td>\n",
       "      <td>my</td>\n",
       "    </tr>\n",
       "    <tr>\n",
       "      <th>28</th>\n",
       "      <td>201</td>\n",
       "      <td>in</td>\n",
       "    </tr>\n",
       "    <tr>\n",
       "      <th>66</th>\n",
       "      <td>188</td>\n",
       "      <td>is</td>\n",
       "    </tr>\n",
       "    <tr>\n",
       "      <th>242</th>\n",
       "      <td>165</td>\n",
       "      <td>not</td>\n",
       "    </tr>\n",
       "    <tr>\n",
       "      <th>122</th>\n",
       "      <td>161</td>\n",
       "      <td>it</td>\n",
       "    </tr>\n",
       "    <tr>\n",
       "      <th>55</th>\n",
       "      <td>153</td>\n",
       "      <td>with</td>\n",
       "    </tr>\n",
       "    <tr>\n",
       "      <th>95</th>\n",
       "      <td>146</td>\n",
       "      <td>his</td>\n",
       "    </tr>\n",
       "    <tr>\n",
       "      <th>45</th>\n",
       "      <td>137</td>\n",
       "      <td>be</td>\n",
       "    </tr>\n",
       "    <tr>\n",
       "      <th>474</th>\n",
       "      <td>137</td>\n",
       "      <td>macb</td>\n",
       "    </tr>\n",
       "    <tr>\n",
       "      <th>37</th>\n",
       "      <td>131</td>\n",
       "      <td>s</td>\n",
       "    </tr>\n",
       "    <tr>\n",
       "      <th>501</th>\n",
       "      <td>126</td>\n",
       "      <td>your</td>\n",
       "    </tr>\n",
       "    <tr>\n",
       "      <th>196</th>\n",
       "      <td>123</td>\n",
       "      <td>our</td>\n",
       "    </tr>\n",
       "    <tr>\n",
       "      <th>413</th>\n",
       "      <td>122</td>\n",
       "      <td>haue</td>\n",
       "    </tr>\n",
       "    <tr>\n",
       "      <th>162</th>\n",
       "      <td>120</td>\n",
       "      <td>but</td>\n",
       "    </tr>\n",
       "    <tr>\n",
       "      <th>87</th>\n",
       "      <td>118</td>\n",
       "      <td>what</td>\n",
       "    </tr>\n",
       "    <tr>\n",
       "      <th>391</th>\n",
       "      <td>113</td>\n",
       "      <td>me</td>\n",
       "    </tr>\n",
       "    <tr>\n",
       "      <th>...</th>\n",
       "      <td>...</td>\n",
       "      <td>...</td>\n",
       "    </tr>\n",
       "    <tr>\n",
       "      <th>105</th>\n",
       "      <td>49</td>\n",
       "      <td>good</td>\n",
       "    </tr>\n",
       "    <tr>\n",
       "      <th>630</th>\n",
       "      <td>49</td>\n",
       "      <td>was</td>\n",
       "    </tr>\n",
       "    <tr>\n",
       "      <th>5</th>\n",
       "      <td>49</td>\n",
       "      <td>by</td>\n",
       "    </tr>\n",
       "    <tr>\n",
       "      <th>289</th>\n",
       "      <td>49</td>\n",
       "      <td>rosse</td>\n",
       "    </tr>\n",
       "    <tr>\n",
       "      <th>880</th>\n",
       "      <td>48</td>\n",
       "      <td>lady</td>\n",
       "    </tr>\n",
       "    <tr>\n",
       "      <th>478</th>\n",
       "      <td>48</td>\n",
       "      <td>t</td>\n",
       "    </tr>\n",
       "    <tr>\n",
       "      <th>567</th>\n",
       "      <td>48</td>\n",
       "      <td>them</td>\n",
       "    </tr>\n",
       "    <tr>\n",
       "      <th>529</th>\n",
       "      <td>46</td>\n",
       "      <td>time</td>\n",
       "    </tr>\n",
       "    <tr>\n",
       "      <th>250</th>\n",
       "      <td>45</td>\n",
       "      <td>if</td>\n",
       "    </tr>\n",
       "    <tr>\n",
       "      <th>104</th>\n",
       "      <td>43</td>\n",
       "      <td>like</td>\n",
       "    </tr>\n",
       "    <tr>\n",
       "      <th>386</th>\n",
       "      <td>43</td>\n",
       "      <td>her</td>\n",
       "    </tr>\n",
       "    <tr>\n",
       "      <th>297</th>\n",
       "      <td>42</td>\n",
       "      <td>should</td>\n",
       "    </tr>\n",
       "    <tr>\n",
       "      <th>306</th>\n",
       "      <td>42</td>\n",
       "      <td>st</td>\n",
       "    </tr>\n",
       "    <tr>\n",
       "      <th>453</th>\n",
       "      <td>42</td>\n",
       "      <td>did</td>\n",
       "    </tr>\n",
       "    <tr>\n",
       "      <th>735</th>\n",
       "      <td>42</td>\n",
       "      <td>let</td>\n",
       "    </tr>\n",
       "    <tr>\n",
       "      <th>116</th>\n",
       "      <td>41</td>\n",
       "      <td>say</td>\n",
       "    </tr>\n",
       "    <tr>\n",
       "      <th>22</th>\n",
       "      <td>40</td>\n",
       "      <td>when</td>\n",
       "    </tr>\n",
       "    <tr>\n",
       "      <th>473</th>\n",
       "      <td>39</td>\n",
       "      <td>banquo</td>\n",
       "    </tr>\n",
       "    <tr>\n",
       "      <th>254</th>\n",
       "      <td>39</td>\n",
       "      <td>were</td>\n",
       "    </tr>\n",
       "    <tr>\n",
       "      <th>49</th>\n",
       "      <td>39</td>\n",
       "      <td>where</td>\n",
       "    </tr>\n",
       "    <tr>\n",
       "      <th>468</th>\n",
       "      <td>39</td>\n",
       "      <td>make</td>\n",
       "    </tr>\n",
       "    <tr>\n",
       "      <th>198</th>\n",
       "      <td>38</td>\n",
       "      <td>o</td>\n",
       "    </tr>\n",
       "    <tr>\n",
       "      <th>230</th>\n",
       "      <td>38</td>\n",
       "      <td>lord</td>\n",
       "    </tr>\n",
       "    <tr>\n",
       "      <th>129</th>\n",
       "      <td>38</td>\n",
       "      <td>doe</td>\n",
       "    </tr>\n",
       "    <tr>\n",
       "      <th>665</th>\n",
       "      <td>37</td>\n",
       "      <td>tis</td>\n",
       "    </tr>\n",
       "    <tr>\n",
       "      <th>30</th>\n",
       "      <td>37</td>\n",
       "      <td>or</td>\n",
       "    </tr>\n",
       "    <tr>\n",
       "      <th>21</th>\n",
       "      <td>36</td>\n",
       "      <td>1</td>\n",
       "    </tr>\n",
       "    <tr>\n",
       "      <th>252</th>\n",
       "      <td>36</td>\n",
       "      <td>must</td>\n",
       "    </tr>\n",
       "    <tr>\n",
       "      <th>489</th>\n",
       "      <td>35</td>\n",
       "      <td>may</td>\n",
       "    </tr>\n",
       "    <tr>\n",
       "      <th>38</th>\n",
       "      <td>35</td>\n",
       "      <td>done</td>\n",
       "    </tr>\n",
       "  </tbody>\n",
       "</table>\n",
       "<p>100 rows × 2 columns</p>\n",
       "</div>"
      ],
      "text/plain": [
       "     count    word\n",
       "29    1962       ,\n",
       "12    1235       .\n",
       "1      650     the\n",
       "36     637       '\n",
       "16     546     and\n",
       "64     477       :\n",
       "54     384      to\n",
       "56     348       i\n",
       "3      338      of\n",
       "27     241       ?\n",
       "84     241       a\n",
       "43     238    that\n",
       "153    224       d\n",
       "487    206     you\n",
       "110    203      my\n",
       "28     201      in\n",
       "66     188      is\n",
       "242    165     not\n",
       "122    161      it\n",
       "55     153    with\n",
       "95     146     his\n",
       "45     137      be\n",
       "474    137    macb\n",
       "37     131       s\n",
       "501    126    your\n",
       "196    123     our\n",
       "413    122    haue\n",
       "162    120     but\n",
       "87     118    what\n",
       "391    113      me\n",
       "..     ...     ...\n",
       "105     49    good\n",
       "630     49     was\n",
       "5       49      by\n",
       "289     49   rosse\n",
       "880     48    lady\n",
       "478     48       t\n",
       "567     48    them\n",
       "529     46    time\n",
       "250     45      if\n",
       "104     43    like\n",
       "386     43     her\n",
       "297     42  should\n",
       "306     42      st\n",
       "453     42     did\n",
       "735     42     let\n",
       "116     41     say\n",
       "22      40    when\n",
       "473     39  banquo\n",
       "254     39    were\n",
       "49      39   where\n",
       "468     39    make\n",
       "198     38       o\n",
       "230     38    lord\n",
       "129     38     doe\n",
       "665     37     tis\n",
       "30      37      or\n",
       "21      36       1\n",
       "252     36    must\n",
       "489     35     may\n",
       "38      35    done\n",
       "\n",
       "[100 rows x 2 columns]"
      ]
     },
     "execution_count": 81,
     "metadata": {},
     "output_type": "execute_result"
    }
   ],
=======
   "execution_count": null,
   "metadata": {
    "collapsed": false
   },
   "outputs": [],
>>>>>>> d195bdb541288306c8d9b6aa1962ebe4ae022cde
   "source": [
    "#Doing this in place (changing the original DataFrame) as we don't need the unsorted DataFrame\n",
    "countedWords.sort_values('count', ascending=False, inplace=True)\n",
    "countedWords[:100]"
   ]
  },
  {
   "cell_type": "markdown",
   "metadata": {},
   "source": [
    "Punctuation and very common words (articles 'a' and 'the'; prepositions 'of' and 'to') make up the most common values, but this isn't very interesting and can actually get in the way of our analysis. We may remove these 'function words' by removing according to a stopword list, setting some frequency threshold, or using a weighting scheme (like tf.idf) to decrease their influence (all modeled later in this tutorial)."
   ]
  },
  {
   "cell_type": "code",
<<<<<<< HEAD
   "execution_count": 82,
   "metadata": {},
   "outputs": [
    {
     "data": {
      "image/png": "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\n",
      "text/plain": [
       "<matplotlib.figure.Figure at 0x7fb7613d86a0>"
      ]
     },
     "metadata": {},
     "output_type": "display_data"
    }
   ],
=======
   "execution_count": null,
   "metadata": {
    "collapsed": false
   },
   "outputs": [],
>>>>>>> d195bdb541288306c8d9b6aa1962ebe4ae022cde
   "source": [
    "#Creating a figure and axis lets us do things like change the scaling or add a title\n",
    "fig = plt.figure()\n",
    "ax = fig.add_subplot(111)\n",
    "plt.plot(range(len(countedWords)), countedWords['count'])\n",
    "plt.show()"
   ]
  },
  {
   "cell_type": "markdown",
   "metadata": {},
   "source": [
    "This shows that likelihood of a word occurring is inversely proportional to its rank. This effect is called [Zipf's Law](https://en.wikipedia.org/wiki/Zipf%27s_law), and suggests that the most frequent word will occur approximately twice as often as the second most frequent word, three times as often as the third most frequent word, etc. Zipf's law is most easily observed by plotting the data on a log-log graph, with the axes being log (rank order) and log (frequency) resulting in a linear relationship."
   ]
  },
  {
   "cell_type": "code",
<<<<<<< HEAD
   "execution_count": 83,
   "metadata": {},
   "outputs": [
    {
     "data": {
      "image/png": "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\n",
      "text/plain": [
       "<matplotlib.figure.Figure at 0x7fb718ee8550>"
      ]
     },
     "metadata": {},
     "output_type": "display_data"
    }
   ],
=======
   "execution_count": null,
   "metadata": {
    "collapsed": false
   },
   "outputs": [],
>>>>>>> d195bdb541288306c8d9b6aa1962ebe4ae022cde
   "source": [
    "fig = plt.figure()\n",
    "ax = fig.add_subplot(111)\n",
    "plt.plot(range(len(countedWords)), countedWords['count'])\n",
    "ax.set_yscale('log')\n",
    "ax.set_xscale('log')\n",
    "plt.show()"
   ]
  },
  {
   "cell_type": "markdown",
   "metadata": {},
   "source": [
    "(The same relationship occurs in many other rankings, such as population ranks of cities, corporation sizes, income rankings, etc.) \n",
    "\n",
    "The distribution was imagined by Zipf to be driven by a principle of 'least effort' where speakers did not work any harder than necessary to communicate a given idea, but the basis for this relationship is still not well understood and conforms at least as well to a process of [preferential attachment](https://en.wikipedia.org/wiki/Preferential_attachment) whereby people disproportionately attend to popular words.\n",
    "\n",
    "There are many other properties of words we can examine. First lets look surrounding words with the concordance. To do this we need to load the text into a `ConcordanceIndex`"
   ]
  },
  {
   "cell_type": "code",
<<<<<<< HEAD
   "execution_count": 84,
   "metadata": {},
=======
   "execution_count": null,
   "metadata": {
    "collapsed": true
   },
>>>>>>> d195bdb541288306c8d9b6aa1962ebe4ae022cde
   "outputs": [],
   "source": [
    "macbethIndex = nltk.text.ConcordanceIndex(nltk.corpus.gutenberg.words('shakespeare-macbeth.txt'))"
   ]
  },
  {
   "cell_type": "markdown",
   "metadata": {},
   "source": [
    "Then we can retrieve all the words that cooccur with a word in a given word window. Let's first look at `'macbeth'`."
   ]
  },
  {
   "cell_type": "code",
<<<<<<< HEAD
   "execution_count": 85,
   "metadata": {},
   "outputs": [
    {
     "name": "stdout",
     "output_type": "stream",
     "text": [
      "No matches\n"
     ]
    }
   ],
=======
   "execution_count": null,
   "metadata": {
    "collapsed": false
   },
   "outputs": [],
>>>>>>> d195bdb541288306c8d9b6aa1962ebe4ae022cde
   "source": [
    "macbethIndex.print_concordance('macbeth')"
   ]
  },
  {
   "cell_type": "markdown",
   "metadata": {},
   "source": [
    "Weird?! `'macbeth'` doesn't occur anywhere in the the text. What happened?\n",
    "\n",
    "`ConcordanceIndex` is case sensitive, lets try looking for `'Macbeth'`"
   ]
  },
  {
   "cell_type": "code",
<<<<<<< HEAD
   "execution_count": 86,
   "metadata": {},
   "outputs": [
    {
     "name": "stdout",
     "output_type": "stream",
     "text": [
      "Displaying 25 of 61 matches:\n",
      "                                  Macbeth by William Shakespeare 1603 ] Act\n",
      " the Heath 3 . There to meet with Macbeth 1 . I come , Gray - Malkin All . \n",
      "but all ' s too weake : For braue Macbeth ( well hee deserues that Name ) D\n",
      "smay ' d not this our Captaines , Macbeth and Banquoh ? Cap . Yes , as Spar\n",
      ", And with his former Title greet Macbeth Rosse . Ile see it done King . Wh\n",
      " King . What he hath lost , Noble Macbeth hath wonne . Exeunt . Scena Terti\n",
      "ithin . 3 . A Drumme , a Drumme : Macbeth doth come All . The weyward Siste\n",
      ", the Charme ' s wound vp . Enter Macbeth and Banquo . Macb . So foule and \n",
      "an : what are you ? 1 . All haile Macbeth , haile to thee Thane of Glamis 2\n",
      "hee Thane of Glamis 2 . All haile Macbeth , haile to thee Thane of Cawdor 3\n",
      "hee Thane of Cawdor 3 . All haile Macbeth , that shalt be King hereafter Ba\n",
      ". Hayle 3 . Hayle 1 . Lesser than Macbeth , and greater 2 . Not so happy , \n",
      "hough thou be none : So all haile Macbeth , and Banquo 1 . Banquo , and Mac\n",
      "eth , and Banquo 1 . Banquo , and Macbeth , all haile Macb . Stay you imper\n",
      "he King hath happily receiu ' d , Macbeth , The newes of thy successe : and\n",
      "gh the roughest Day Banq . Worthy Macbeth , wee stay vpon your leysure Macb\n",
      "I built An absolute Trust . Enter Macbeth , Banquo , Rosse , and Angus . O \n",
      "ke , To cry , hold , hold . Enter Macbeth . Great Glamys , worthy Cawdor , \n",
      "ruice ouer the Stage . Then enter Macbeth Macb . If it were done , when ' t\n",
      "re giues way to in repose . Enter Macbeth , and a Seruant with a Torch . Gi\n",
      "hether they liue , or dye . Enter Macbeth . Macb . Who ' s there ? what hoa\n",
      "ard a voyce cry , Sleep no more : Macbeth does murther Sleepe , the innocen\n",
      "ore Cawdor Shall sleepe no more : Macbeth shall sleepe no more Lady . Who w\n",
      " made a Shift to cast him . Enter Macbeth . Macd . Is thy Master stirring ?\n",
      "selues : awake , awake , Exeunt . Macbeth and Lenox . Ring the Alarum Bell \n"
     ]
    }
   ],
=======
   "execution_count": null,
   "metadata": {
    "collapsed": false
   },
   "outputs": [],
>>>>>>> d195bdb541288306c8d9b6aa1962ebe4ae022cde
   "source": [
    "macbethIndex.print_concordance('Macbeth')"
   ]
  },
  {
   "cell_type": "markdown",
   "metadata": {},
   "source": [
    "That's better. What about something a lot less frequent?"
   ]
  },
  {
   "cell_type": "code",
<<<<<<< HEAD
   "execution_count": 87,
   "metadata": {},
   "outputs": [
    {
     "name": "stdout",
     "output_type": "stream",
     "text": [
      "    count        word\n",
      "80      7  donalbaine\n",
      "Displaying 7 of 7 matches:\n",
      "m within . Enter King Malcome , Donalbaine , Lenox , with attendants , mee\n",
      "Enter King , Lenox , Malcolme , Donalbaine , and Attendants . King . Is ex\n",
      "rches . Enter King , Malcolme , Donalbaine , Banquo , Lenox , Macduff , Ro\n",
      " ' th ' second Chamber ? Lady . Donalbaine Mac . This is a sorry sight Lad\n",
      "er , and Treason , Banquo , and Donalbaine : Malcolme awake , Shake off th\n",
      "to brag of . Enter Malcolme and Donalbaine . Donal . What is amisse ? Macb\n",
      "were subborned , Malcolme , and Donalbaine the Kings two Sonnes Are stolne\n"
     ]
    }
   ],
=======
   "execution_count": null,
   "metadata": {
    "collapsed": false
   },
   "outputs": [],
>>>>>>> d195bdb541288306c8d9b6aa1962ebe4ae022cde
   "source": [
    "print(countedWords[countedWords['word'] == 'donalbaine'])\n",
    "macbethIndex.print_concordance('Donalbaine')"
   ]
  },
  {
   "cell_type": "markdown",
   "metadata": {},
   "source": [
    "# Getting and working with raw text\n",
    "\n",
    "First, we will retrieve a collection of press releases from a *GitHub API* that archived them, based on a number of analyses by Justin Grimmer, a political scientist whose work we will read next week, and who will be joining the University of Chicago next July!\n",
    "\n",
    "GitHub API requests are made to `'https://api.github.com/'` and responses are in JSON, similar to Tumblr's API.\n",
    "\n",
    "We will get the information on [github.com/lintool/GrimmerSenatePressReleases](https://github.com/lintool/GrimmerSenatePressReleases) as it contains a nice set documents."
   ]
  },
  {
   "cell_type": "code",
<<<<<<< HEAD
   "execution_count": 2,
   "metadata": {},
   "outputs": [
    {
     "name": "stdout",
     "output_type": "stream",
     "text": [
      "dict_keys(['id', 'name', 'full_name', 'owner', 'private', 'html_url', 'description', 'fork', 'url', 'forks_url', 'keys_url', 'collaborators_url', 'teams_url', 'hooks_url', 'issue_events_url', 'events_url', 'assignees_url', 'branches_url', 'tags_url', 'blobs_url', 'git_tags_url', 'git_refs_url', 'trees_url', 'statuses_url', 'languages_url', 'stargazers_url', 'contributors_url', 'subscribers_url', 'subscription_url', 'commits_url', 'git_commits_url', 'comments_url', 'issue_comment_url', 'contents_url', 'compare_url', 'merges_url', 'archive_url', 'downloads_url', 'issues_url', 'pulls_url', 'milestones_url', 'notifications_url', 'labels_url', 'releases_url', 'deployments_url', 'created_at', 'updated_at', 'pushed_at', 'git_url', 'ssh_url', 'clone_url', 'svn_url', 'homepage', 'size', 'stargazers_count', 'watchers_count', 'language', 'has_issues', 'has_projects', 'has_downloads', 'has_wiki', 'has_pages', 'forks_count', 'mirror_url', 'archived', 'open_issues_count', 'license', 'forks', 'open_issues', 'watchers', 'default_branch', 'network_count', 'subscribers_count'])\n",
      "Grimmer's Senate Press Releases\n"
     ]
    }
   ],
=======
   "execution_count": null,
   "metadata": {
    "collapsed": false
   },
   "outputs": [],
>>>>>>> d195bdb541288306c8d9b6aa1962ebe4ae022cde
   "source": [
    "r = requests.get('https://api.github.com/repos/lintool/GrimmerSenatePressReleases')\n",
    "senateReleasesData = json.loads(r.text)\n",
    "print(senateReleasesData.keys())\n",
    "print(senateReleasesData['description'])"
   ]
  },
  {
   "cell_type": "markdown",
   "metadata": {},
   "source": [
    "What we are interested in here is the `'contents_url'`"
   ]
  },
  {
   "cell_type": "code",
<<<<<<< HEAD
   "execution_count": 3,
   "metadata": {},
   "outputs": [
    {
     "name": "stdout",
     "output_type": "stream",
     "text": [
      "https://api.github.com/repos/lintool/GrimmerSenatePressReleases/contents/{+path}\n"
     ]
    }
   ],
=======
   "execution_count": null,
   "metadata": {
    "collapsed": false
   },
   "outputs": [],
>>>>>>> d195bdb541288306c8d9b6aa1962ebe4ae022cde
   "source": [
    "print(senateReleasesData['contents_url'])"
   ]
  },
  {
   "cell_type": "markdown",
   "metadata": {},
   "source": [
    "We can use this to get any or all of the files from the repo."
   ]
  },
  {
   "cell_type": "code",
<<<<<<< HEAD
   "execution_count": 4,
   "metadata": {},
   "outputs": [
    {
     "data": {
      "text/plain": [
       "{'_links': {'git': 'https://api.github.com/repos/lintool/GrimmerSenatePressReleases/git/blobs/f524289ee563dca58690c8d36c23dce5dbd9962a',\n",
       "  'html': 'https://github.com/lintool/GrimmerSenatePressReleases/blob/master/raw/Whitehouse/10Apr2007Whitehouse123.txt',\n",
       "  'self': 'https://api.github.com/repos/lintool/GrimmerSenatePressReleases/contents/raw/Whitehouse/10Apr2007Whitehouse123.txt?ref=master'},\n",
       " 'download_url': 'https://raw.githubusercontent.com/lintool/GrimmerSenatePressReleases/master/raw/Whitehouse/10Apr2007Whitehouse123.txt',\n",
       " 'git_url': 'https://api.github.com/repos/lintool/GrimmerSenatePressReleases/git/blobs/f524289ee563dca58690c8d36c23dce5dbd9962a',\n",
       " 'html_url': 'https://github.com/lintool/GrimmerSenatePressReleases/blob/master/raw/Whitehouse/10Apr2007Whitehouse123.txt',\n",
       " 'name': '10Apr2007Whitehouse123.txt',\n",
       " 'path': 'raw/Whitehouse/10Apr2007Whitehouse123.txt',\n",
       " 'sha': 'f524289ee563dca58690c8d36c23dce5dbd9962a',\n",
       " 'size': 2206,\n",
       " 'type': 'file',\n",
       " 'url': 'https://api.github.com/repos/lintool/GrimmerSenatePressReleases/contents/raw/Whitehouse/10Apr2007Whitehouse123.txt?ref=master'}"
      ]
     },
     "execution_count": 4,
     "metadata": {},
     "output_type": "execute_result"
    }
   ],
=======
   "execution_count": null,
   "metadata": {
    "collapsed": false
   },
   "outputs": [],
>>>>>>> d195bdb541288306c8d9b6aa1962ebe4ae022cde
   "source": [
    "r = requests.get('https://api.github.com/repos/lintool/GrimmerSenatePressReleases/contents/raw/Whitehouse')\n",
    "whitehouseLinks = json.loads(r.text)\n",
    "whitehouseLinks[0]"
   ]
  },
  {
   "cell_type": "markdown",
   "metadata": {},
   "source": [
    "Now we have a list of information about Whitehouse press releases. Let's look at one of them."
   ]
  },
  {
   "cell_type": "code",
<<<<<<< HEAD
   "execution_count": 5,
   "metadata": {},
   "outputs": [
    {
     "name": "stdout",
     "output_type": "stream",
     "text": [
      "SEN. WHITEHOUSE SHARES WESTERLY GIRL'S STORY IN PUSH FOR STEM CELL RESEARCH\n",
      "  Sharing the story of Lila Barber, a 12 year old girl from Westerly, Sen. Sheldon Whitehouse (D-R.I.) on Tuesday, April 10, 2007, illustrated the hope stem cell research can offer in a speech on the Senate floor in favor of legislation to expand federal funding for stem cell research.  \n",
      "   Whitehouse met Lila two weeks ago. She was diagnosed two years ago with osteosarcoma, a cancerous bone condition, and last year underwent cadaver bone transplant surgery. The procedure saved her leg and is helping her remain cancer-free, but the transplanted tissue will not grow with her and likely will break down over time. Stem cell research, Whitehouse explained, could vastly improve the care of patients like Lila by allowing surgeons to enhance transplants with a patient's own stem cells, which could replace the lost bone and cartilage, or grow entirely new replacement bones and joints. \n",
      "   \"Stem cell research gives hope\n"
     ]
    },
    {
     "data": {
      "text/plain": [
       "2206"
      ]
     },
     "execution_count": 5,
     "metadata": {},
     "output_type": "execute_result"
    }
   ],
=======
   "execution_count": null,
   "metadata": {
    "collapsed": false
   },
   "outputs": [],
>>>>>>> d195bdb541288306c8d9b6aa1962ebe4ae022cde
   "source": [
    "r = requests.get(whitehouseLinks[0]['download_url'])\n",
    "whitehouseRelease = r.text\n",
    "print(whitehouseRelease[:1000])\n",
    "len(whitehouseRelease)"
   ]
  },
  {
   "cell_type": "markdown",
   "metadata": {},
   "source": [
    "Now we have a string of correctly encoded text, similar to those we constructed from last week's assignment. For analysis of its words, next we need to tokenize it, or to split it into a sequence of tokens or word instances."
   ]
  },
  {
   "cell_type": "code",
<<<<<<< HEAD
   "execution_count": 6,
   "metadata": {},
   "outputs": [
    {
     "data": {
      "text/plain": [
       "['STEM',\n",
       " 'CELL',\n",
       " 'RESEARCH',\n",
       " 'Sharing',\n",
       " 'the',\n",
       " 'story',\n",
       " 'of',\n",
       " 'Lila',\n",
       " 'Barber',\n",
       " ',',\n",
       " 'a',\n",
       " '12',\n",
       " 'year',\n",
       " 'old',\n",
       " 'girl',\n",
       " 'from',\n",
       " 'Westerly',\n",
       " ',',\n",
       " 'Sen.',\n",
       " 'Sheldon']"
      ]
     },
     "execution_count": 6,
     "metadata": {},
     "output_type": "execute_result"
    }
   ],
=======
   "execution_count": null,
   "metadata": {
    "collapsed": false
   },
   "outputs": [],
>>>>>>> d195bdb541288306c8d9b6aa1962ebe4ae022cde
   "source": [
    "whTokens = nltk.word_tokenize(whitehouseRelease)\n",
    "whTokens[10:30]"
   ]
  },
  {
   "cell_type": "markdown",
   "metadata": {},
   "source": [
    "`whTokens` is a list of 'words' constructed from nltk's `word_tokenize` method built on the [Penn Treebank tokenizer](http://www.nltk.org/api/nltk.tokenize.html#module-nltk.tokenize.treebank). While it's better than `.split(' ')`, a general python string method that splits on whitespace, it is not perfect. There are many different ways to tokenize a string. `word_tokenize` is unfortunately unaware of sentences and is essentially a complicated regular expression (regex) run across the string.\n",
    "\n",
    "If we want to find sentences we can use something like `nltk.sent_tokenize()`, which implements the [Punkt Sentence tokenizer](http://www.nltk.org/api/nltk.tokenize.html#nltk.tokenize.punkt.PunktSentenceTokenizer), a machine learning based algorithm that works well for many European languages.\n",
    "\n",
    "We could also use the [Stanford tokenizer](http://www.nltk.org/api/nltk.tokenize.html#module-nltk.tokenize.stanford) or construct our own regex with [`RegexpTokenizer()`](http://www.nltk.org/api/nltk.tokenize.html#module-nltk.tokenize.regexp). Picking the correct tokenizer is important as the tokens form the base of our analysis.\n",
    "\n",
    "For our purposes in this example, the Penn Treebank tokenizer is fine.\n",
    "\n",
    "To use the list of tokens in `nltk`, and take advantage of functions like `concordance`, shown above, we can convert it into a `Text`."
   ]
  },
  {
   "cell_type": "code",
<<<<<<< HEAD
   "execution_count": 7,
   "metadata": {},
   "outputs": [
    {
     "name": "stdout",
     "output_type": "stream",
     "text": [
      "Displaying 5 of 5 matches:\n",
      "rl from Westerly , Sen. Sheldon Whitehouse ( D-R.I. ) on Tuesday , April 1\n",
      "unding for stem cell research . Whitehouse met Lila two weeks ago . She wa\n",
      "ver time . Stem cell research , Whitehouse explained , could vastly improv\n",
      "ch might help or even cure , '' Whitehouse said . Whitehouse also praised \n",
      "ven cure , '' Whitehouse said . Whitehouse also praised the efforts of Rho\n"
     ]
    }
   ],
=======
   "execution_count": null,
   "metadata": {
    "collapsed": false
   },
   "outputs": [],
>>>>>>> d195bdb541288306c8d9b6aa1962ebe4ae022cde
   "source": [
    "whText = nltk.Text(whTokens)\n",
    "\n",
    "whitehouseIndex = nltk.text.ConcordanceIndex(whText) \n",
    "whitehouseIndex.print_concordance('Whitehouse')"
   ]
  },
  {
   "cell_type": "markdown",
   "metadata": {},
   "source": [
    "*Note* that the `Text` class is for doing rapid, exploratory analysis. It provides an easy interface to many of the operations we want to do, but it does not allow us much control over the particular operations it glosses. When you are doing a more complete analysis, you should be using the module specifically designed for that task instead of the shortcut method `Text` provides, e.g. use  [`collocations` Module](http://www.nltk.org/api/nltk.html#module-nltk.collocations) instead of `.collocations()`.\n",
    "\n",
    "Now that we have gotten this loaded, let's glance at few features we will delve into more deeply later.\n",
    "\n",
    "For example, we can find words that statistically tend to occur together and typically have a composite, idiomatic meaning irreducible to the semantics of its component words. We will do this later with more control over exactly how these are identified."
   ]
  },
  {
   "cell_type": "code",
<<<<<<< HEAD
   "execution_count": 8,
   "metadata": {},
   "outputs": [
    {
     "name": "stdout",
     "output_type": "stream",
     "text": [
      "Rhode Island; stem cells; cell research; Cell Enhancement; Enhancement\n",
      "Act; President Bush; Stem Cell; stem cell; Stem cell\n"
     ]
    }
   ],
=======
   "execution_count": null,
   "metadata": {
    "collapsed": false
   },
   "outputs": [],
>>>>>>> d195bdb541288306c8d9b6aa1962ebe4ae022cde
   "source": [
    "whText.collocations()"
   ]
  },
  {
   "cell_type": "markdown",
   "metadata": {},
   "source": [
    "Or we can pick a word (or words) and find what words tend to occur around it."
   ]
  },
  {
   "cell_type": "code",
<<<<<<< HEAD
   "execution_count": 9,
   "metadata": {},
   "outputs": [
    {
     "name": "stdout",
     "output_type": "stream",
     "text": [
      "for_cell hope_cell ._cell own_cells ``_cell of_cell on_cells the_cell\n",
      "embryonic_cells\n"
     ]
    }
   ],
=======
   "execution_count": null,
   "metadata": {
    "collapsed": false
   },
   "outputs": [],
>>>>>>> d195bdb541288306c8d9b6aa1962ebe4ae022cde
   "source": [
    "whText.common_contexts(['stem'])"
   ]
  },
  {
   "cell_type": "markdown",
   "metadata": {},
   "source": [
    "We can also just count the number of times the word occurs."
   ]
  },
  {
   "cell_type": "code",
<<<<<<< HEAD
   "execution_count": 10,
   "metadata": {},
   "outputs": [
    {
     "data": {
      "text/plain": [
       "5"
      ]
     },
     "execution_count": 10,
     "metadata": {},
     "output_type": "execute_result"
    }
   ],
=======
   "execution_count": null,
   "metadata": {
    "collapsed": false
   },
   "outputs": [],
>>>>>>> d195bdb541288306c8d9b6aa1962ebe4ae022cde
   "source": [
    "whText.count('cell')"
   ]
  },
  {
   "cell_type": "markdown",
   "metadata": {},
   "source": [
    "\n",
    "We can also plot each time a set of words occurs."
   ]
  },
  {
   "cell_type": "code",
<<<<<<< HEAD
   "execution_count": 11,
   "metadata": {},
   "outputs": [
    {
     "data": {
      "image/png": "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\n",
      "text/plain": [
       "<matplotlib.figure.Figure at 0x2b9405a29b38>"
      ]
     },
     "metadata": {},
     "output_type": "display_data"
    }
   ],
=======
   "execution_count": null,
   "metadata": {
    "collapsed": false
   },
   "outputs": [],
>>>>>>> d195bdb541288306c8d9b6aa1962ebe4ae022cde
   "source": [
    "sns.reset_orig() #Seaborn messes with this plot, disabling it\n",
    "whText.dispersion_plot(['Sen.','stem', 'cell', 'federal' ,'Lila', 'Barber', 'Whitehouse'])\n",
    "sns.set() #Re-enabling seaborn"
   ]
  },
  {
   "cell_type": "markdown",
   "metadata": {},
   "source": [
    "If we want to do an analysis of all the Whitehouse press releases we will first need to obtain them. By looking at the API we can see the the URL we want is [https://api.github.com/repos/lintool/GrimmerSenatePressReleases/contents/raw/Whitehouse](https://api.github.com/repos/lintool/GrimmerSenatePressReleases/contents/raw/Whitehouse), so we can create a function to scrape the individual files.\n",
    "\n",
    "If you want to know more about downloading from APIs, refer back to the 1st notebook."
   ]
  },
  {
   "cell_type": "code",
<<<<<<< HEAD
   "execution_count": 12,
   "metadata": {},
   "outputs": [
    {
     "data": {
      "text/html": [
       "<div>\n",
       "<style scoped>\n",
       "    .dataframe tbody tr th:only-of-type {\n",
       "        vertical-align: middle;\n",
       "    }\n",
       "\n",
       "    .dataframe tbody tr th {\n",
       "        vertical-align: top;\n",
       "    }\n",
       "\n",
       "    .dataframe thead th {\n",
       "        text-align: right;\n",
       "    }\n",
       "</style>\n",
       "<table border=\"1\" class=\"dataframe\">\n",
       "  <thead>\n",
       "    <tr style=\"text-align: right;\">\n",
       "      <th></th>\n",
       "      <th>download_url</th>\n",
       "      <th>html_url</th>\n",
       "      <th>name</th>\n",
       "      <th>path</th>\n",
       "      <th>text</th>\n",
       "    </tr>\n",
       "  </thead>\n",
       "  <tbody>\n",
       "    <tr>\n",
       "      <th>0</th>\n",
       "      <td>https://raw.githubusercontent.com/lintool/Grim...</td>\n",
       "      <td>https://github.com/lintool/GrimmerSenatePressR...</td>\n",
       "      <td>10Apr2007Whitehouse123.txt</td>\n",
       "      <td>raw/Whitehouse/10Apr2007Whitehouse123.txt</td>\n",
       "      <td>SEN. WHITEHOUSE SHARES WESTERLY GIRL'S STORY I...</td>\n",
       "    </tr>\n",
       "    <tr>\n",
       "      <th>1</th>\n",
       "      <td>https://raw.githubusercontent.com/lintool/Grim...</td>\n",
       "      <td>https://github.com/lintool/GrimmerSenatePressR...</td>\n",
       "      <td>10Apr2008Whitehouse2.txt</td>\n",
       "      <td>raw/Whitehouse/10Apr2008Whitehouse2.txt</td>\n",
       "      <td>SEN. WHITEHOUSE SAYS PRESIDENT BUSH MUST BEGIN...</td>\n",
       "    </tr>\n",
       "    <tr>\n",
       "      <th>2</th>\n",
       "      <td>https://raw.githubusercontent.com/lintool/Grim...</td>\n",
       "      <td>https://github.com/lintool/GrimmerSenatePressR...</td>\n",
       "      <td>10Apr2008Whitehouse3.txt</td>\n",
       "      <td>raw/Whitehouse/10Apr2008Whitehouse3.txt</td>\n",
       "      <td>EPA MUST REVIEW LEGAL PROCESS TO ROOT OUT POLI...</td>\n",
       "    </tr>\n",
       "    <tr>\n",
       "      <th>3</th>\n",
       "      <td>https://raw.githubusercontent.com/lintool/Grim...</td>\n",
       "      <td>https://github.com/lintool/GrimmerSenatePressR...</td>\n",
       "      <td>10Aug2007Whitehouse78.txt</td>\n",
       "      <td>raw/Whitehouse/10Aug2007Whitehouse78.txt</td>\n",
       "      <td>R.I. SENATORS PRAISE SEN. DENIAL OF LNG FACILI...</td>\n",
       "    </tr>\n",
       "    <tr>\n",
       "      <th>4</th>\n",
       "      <td>https://raw.githubusercontent.com/lintool/Grim...</td>\n",
       "      <td>https://github.com/lintool/GrimmerSenatePressR...</td>\n",
       "      <td>10Jan2008Whitehouse35.txt</td>\n",
       "      <td>raw/Whitehouse/10Jan2008Whitehouse35.txt</td>\n",
       "      <td>SEN. WHITEHOUSE COMMENTS ON ONE-YEAR ANNIVERSA...</td>\n",
       "    </tr>\n",
       "  </tbody>\n",
       "</table>\n",
       "</div>"
      ],
      "text/plain": [
       "                                        download_url  \\\n",
       "0  https://raw.githubusercontent.com/lintool/Grim...   \n",
       "1  https://raw.githubusercontent.com/lintool/Grim...   \n",
       "2  https://raw.githubusercontent.com/lintool/Grim...   \n",
       "3  https://raw.githubusercontent.com/lintool/Grim...   \n",
       "4  https://raw.githubusercontent.com/lintool/Grim...   \n",
       "\n",
       "                                            html_url  \\\n",
       "0  https://github.com/lintool/GrimmerSenatePressR...   \n",
       "1  https://github.com/lintool/GrimmerSenatePressR...   \n",
       "2  https://github.com/lintool/GrimmerSenatePressR...   \n",
       "3  https://github.com/lintool/GrimmerSenatePressR...   \n",
       "4  https://github.com/lintool/GrimmerSenatePressR...   \n",
       "\n",
       "                         name                                       path  \\\n",
       "0  10Apr2007Whitehouse123.txt  raw/Whitehouse/10Apr2007Whitehouse123.txt   \n",
       "1    10Apr2008Whitehouse2.txt    raw/Whitehouse/10Apr2008Whitehouse2.txt   \n",
       "2    10Apr2008Whitehouse3.txt    raw/Whitehouse/10Apr2008Whitehouse3.txt   \n",
       "3   10Aug2007Whitehouse78.txt   raw/Whitehouse/10Aug2007Whitehouse78.txt   \n",
       "4   10Jan2008Whitehouse35.txt   raw/Whitehouse/10Jan2008Whitehouse35.txt   \n",
       "\n",
       "                                                text  \n",
       "0  SEN. WHITEHOUSE SHARES WESTERLY GIRL'S STORY I...  \n",
       "1  SEN. WHITEHOUSE SAYS PRESIDENT BUSH MUST BEGIN...  \n",
       "2  EPA MUST REVIEW LEGAL PROCESS TO ROOT OUT POLI...  \n",
       "3  R.I. SENATORS PRAISE SEN. DENIAL OF LNG FACILI...  \n",
       "4  SEN. WHITEHOUSE COMMENTS ON ONE-YEAR ANNIVERSA...  "
      ]
     },
     "execution_count": 12,
     "metadata": {},
     "output_type": "execute_result"
    }
   ],
=======
   "execution_count": null,
   "metadata": {
    "collapsed": false
   },
   "outputs": [],
>>>>>>> d195bdb541288306c8d9b6aa1962ebe4ae022cde
   "source": [
    "def getGithubFiles(target, maxFiles = 100):\n",
    "    #We are setting a max so our examples don't take too long to run\n",
    "    #For converting to a DataFrame\n",
    "    releasesDict = {\n",
    "        'name' : [], #The name of the file\n",
    "        'text' : [], #The text of the file, watch out for binary files\n",
    "        'path' : [], #The path in the git repo to the file\n",
    "        'html_url' : [], #The url to see the file on Github\n",
    "        'download_url' : [], #The url to download the file\n",
    "    }\n",
    "\n",
    "    #Get the directory information from Github\n",
    "    r = requests.get(target)\n",
    "    filesLst = json.loads(r.text)\n",
    "\n",
    "    for fileDict in filesLst[:maxFiles]:\n",
    "        #These are provided by the directory\n",
    "        releasesDict['name'].append(fileDict['name'])\n",
    "        releasesDict['path'].append(fileDict['path'])\n",
    "        releasesDict['html_url'].append(fileDict['html_url'])\n",
    "        releasesDict['download_url'].append(fileDict['download_url'])\n",
    "\n",
    "        #We need to download the text though\n",
    "        text = requests.get(fileDict['download_url']).text\n",
    "        releasesDict['text'].append(text)\n",
    "\n",
    "    return pandas.DataFrame(releasesDict)\n",
    "\n",
    "whReleases = getGithubFiles('https://api.github.com/repos/lintool/GrimmerSenatePressReleases/contents/raw/Whitehouse', maxFiles = 10)\n",
    "whReleases[:5]"
   ]
  },
  {
   "cell_type": "markdown",
   "metadata": {},
   "source": [
    "If you are having trouble downloading the data uncomment this next cell"
   ]
  },
  {
   "cell_type": "code",
<<<<<<< HEAD
   "execution_count": 13,
   "metadata": {},
=======
   "execution_count": null,
   "metadata": {
    "collapsed": true
   },
>>>>>>> d195bdb541288306c8d9b6aa1962ebe4ae022cde
   "outputs": [],
   "source": [
    "#whReleases = pandas.read_csv('../data/whReleases.csv')"
   ]
  },
  {
<<<<<<< HEAD
   "cell_type": "code",
   "execution_count": 14,
   "metadata": {},
   "outputs": [
    {
     "name": "stdout",
     "output_type": "stream",
     "text": [
      "                                        download_url  \\\n",
      "0  https://raw.githubusercontent.com/lintool/Grim...   \n",
      "1  https://raw.githubusercontent.com/lintool/Grim...   \n",
      "2  https://raw.githubusercontent.com/lintool/Grim...   \n",
      "3  https://raw.githubusercontent.com/lintool/Grim...   \n",
      "4  https://raw.githubusercontent.com/lintool/Grim...   \n",
      "5  https://raw.githubusercontent.com/lintool/Grim...   \n",
      "6  https://raw.githubusercontent.com/lintool/Grim...   \n",
      "7  https://raw.githubusercontent.com/lintool/Grim...   \n",
      "8  https://raw.githubusercontent.com/lintool/Grim...   \n",
      "9  https://raw.githubusercontent.com/lintool/Grim...   \n",
      "\n",
      "                                            html_url  \\\n",
      "0  https://github.com/lintool/GrimmerSenatePressR...   \n",
      "1  https://github.com/lintool/GrimmerSenatePressR...   \n",
      "2  https://github.com/lintool/GrimmerSenatePressR...   \n",
      "3  https://github.com/lintool/GrimmerSenatePressR...   \n",
      "4  https://github.com/lintool/GrimmerSenatePressR...   \n",
      "5  https://github.com/lintool/GrimmerSenatePressR...   \n",
      "6  https://github.com/lintool/GrimmerSenatePressR...   \n",
      "7  https://github.com/lintool/GrimmerSenatePressR...   \n",
      "8  https://github.com/lintool/GrimmerSenatePressR...   \n",
      "9  https://github.com/lintool/GrimmerSenatePressR...   \n",
      "\n",
      "                         name                                       path  \\\n",
      "0  10Apr2007Whitehouse123.txt  raw/Whitehouse/10Apr2007Whitehouse123.txt   \n",
      "1    10Apr2008Whitehouse2.txt    raw/Whitehouse/10Apr2008Whitehouse2.txt   \n",
      "2    10Apr2008Whitehouse3.txt    raw/Whitehouse/10Apr2008Whitehouse3.txt   \n",
      "3   10Aug2007Whitehouse78.txt   raw/Whitehouse/10Aug2007Whitehouse78.txt   \n",
      "4   10Jan2008Whitehouse35.txt   raw/Whitehouse/10Jan2008Whitehouse35.txt   \n",
      "5    10Mar2008Whitehouse8.txt    raw/Whitehouse/10Mar2008Whitehouse8.txt   \n",
      "6   10Sep2007Whitehouse72.txt   raw/Whitehouse/10Sep2007Whitehouse72.txt   \n",
      "7  11Apr2007Whitehouse122.txt  raw/Whitehouse/11Apr2007Whitehouse122.txt   \n",
      "8  11Jan2007Whitehouse161.txt  raw/Whitehouse/11Jan2007Whitehouse161.txt   \n",
      "9    11Mar2008Whitehouse7.txt    raw/Whitehouse/11Mar2008Whitehouse7.txt   \n",
      "\n",
      "                                                text  \n",
      "0  SEN. WHITEHOUSE SHARES WESTERLY GIRL'S STORY I...  \n",
      "1  SEN. WHITEHOUSE SAYS PRESIDENT BUSH MUST BEGIN...  \n",
      "2  EPA MUST REVIEW LEGAL PROCESS TO ROOT OUT POLI...  \n",
      "3  R.I. SENATORS PRAISE SEN. DENIAL OF LNG FACILI...  \n",
      "4  SEN. WHITEHOUSE COMMENTS ON ONE-YEAR ANNIVERSA...  \n",
      "5  SENS. REED, WHITEHOUSE WELCOME RHODE ISLAND ST...  \n",
      "6  REP. WHITEHOUSE ISSUES STATEMENT ON GEN. PETRA...  \n",
      "7  SEN. WHITEHOUSE URGES BUSH FOR NEW DIRECTION I...  \n",
      "8  SENS. REED, WHITEHOUSE URGE PORTUGAL TO RECONS...  \n",
      "9  WHITEHOUSE UNVEILS 'BUSH DEBT': $7.7 TRILLION ...  \n"
     ]
    }
   ],
   "source": [
    "print(whReleases)"
   ]
  },
  {
=======
>>>>>>> d195bdb541288306c8d9b6aa1962ebe4ae022cde
   "cell_type": "markdown",
   "metadata": {},
   "source": [
    "Now we have all the texts in a DataFrame we can look at a few things.\n",
    "\n",
    "First let's tokenize the texts with the same tokenizer as we used before. We will just save the tokens as a list for now; no need to convert to `Text`s."
   ]
  },
  {
   "cell_type": "code",
<<<<<<< HEAD
   "execution_count": 15,
   "metadata": {},
=======
   "execution_count": null,
   "metadata": {
    "collapsed": true
   },
>>>>>>> d195bdb541288306c8d9b6aa1962ebe4ae022cde
   "outputs": [],
   "source": [
    "whReleases['tokenized_text'] = whReleases['text'].apply(lambda x: nltk.word_tokenize(x))"
   ]
  },
  {
   "cell_type": "markdown",
   "metadata": {},
   "source": [
    "Now lets see how long each of the press releases is:"
   ]
  },
  {
   "cell_type": "code",
<<<<<<< HEAD
   "execution_count": 16,
   "metadata": {},
   "outputs": [
    {
     "data": {
      "text/plain": [
       "0    397\n",
       "1    344\n",
       "2    553\n",
       "3    216\n",
       "4    257\n",
       "5    380\n",
       "6    270\n",
       "7    521\n",
       "8    484\n",
       "9    482\n",
       "Name: word_counts, dtype: int64"
      ]
     },
     "execution_count": 16,
     "metadata": {},
     "output_type": "execute_result"
    }
   ],
=======
   "execution_count": null,
   "metadata": {
    "collapsed": false
   },
   "outputs": [],
>>>>>>> d195bdb541288306c8d9b6aa1962ebe4ae022cde
   "source": [
    "whReleases['word_counts'] = whReleases['tokenized_text'].apply(lambda x: len(x))\n",
    "whReleases['word_counts']"
   ]
  },
  {
   "cell_type": "markdown",
   "metadata": {},
   "source": [
    "## <span style=\"color:red\">*Exercise 1*</span>\n",
    "\n",
    "<span style=\"color:red\">Construct cells immediately below this that input and interrogate a corpus relating to your anticipated final project. Turn your text into an nltk `Text` object, and explore all of the features examined above, and others that relate to better understanding your corpus in relation to your research question. </span>"
   ]
  },
  {
   "cell_type": "markdown",
   "metadata": {},
   "source": [
<<<<<<< HEAD
    "For exercise 1 I will be analyzing a dataframe with all but three of Joseph Conrad's novels."
   ]
  },
  {
   "cell_type": "code",
   "execution_count": 103,
   "metadata": {},
   "outputs": [],
   "source": [
    "f = open('../Joseph Conrad/heart_of_darkness.txt')"
   ]
  },
  {
   "cell_type": "code",
   "execution_count": 104,
   "metadata": {},
   "outputs": [],
   "source": [
    "#This cell's code is from the first assignment where we create a data frame using a folder full of text files. Specifically the\n",
    "#following lines of code are calling up the folder '../Joseph Conrad\" and then creating lists, then populating them. \n",
    "targetDir = '../Joseph Conrad'\n",
    "conradText = []\n",
    "conradFileName = []\n",
    "\n",
    "for file in (file for file in os.scandir(targetDir) if file.is_file() and not file.name.startswith('.')):\n",
    "    with open(file.path) as f:\n",
    "        conradText.append(f.read())\n",
    "    conradFileName.append(file.name)"
   ]
  },
  {
   "cell_type": "code",
   "execution_count": 105,
   "metadata": {},
   "outputs": [
    {
     "data": {
      "text/html": [
       "<div>\n",
       "<style scoped>\n",
       "    .dataframe tbody tr th:only-of-type {\n",
       "        vertical-align: middle;\n",
       "    }\n",
       "\n",
       "    .dataframe tbody tr th {\n",
       "        vertical-align: top;\n",
       "    }\n",
       "\n",
       "    .dataframe thead th {\n",
       "        text-align: right;\n",
       "    }\n",
       "</style>\n",
       "<table border=\"1\" class=\"dataframe\">\n",
       "  <thead>\n",
       "    <tr style=\"text-align: right;\">\n",
       "      <th></th>\n",
       "      <th>text</th>\n",
       "    </tr>\n",
       "  </thead>\n",
       "  <tbody>\n",
       "    <tr>\n",
       "      <th>almayer's_folly.txt</th>\n",
       "      <td>﻿ALMAYER'S FOLLY:  A STORY OF AN EASTERN RIVER...</td>\n",
       "    </tr>\n",
       "    <tr>\n",
       "      <th>the_rescue.txt</th>\n",
       "      <td>﻿THE RESCUE\\n\\nA ROMANCE OF THE SHALLOWS\\n\\n\\n...</td>\n",
       "    </tr>\n",
       "    <tr>\n",
       "      <th>an_outcast_of_the_islands.txt</th>\n",
       "      <td>﻿AN OUTCAST OF THE ISLANDS\\n\\nby Joseph Conrad...</td>\n",
       "    </tr>\n",
       "    <tr>\n",
       "      <th>heart_of_darkness.txt</th>\n",
       "      <td>﻿HEART OF DARKNESS\\n\\nBy Joseph Conrad\\n\\n\\n\\n...</td>\n",
       "    </tr>\n",
       "    <tr>\n",
       "      <th>under_western_eyes.txt</th>\n",
       "      <td>﻿UNDER WESTERN EYES\\n\\nby JOSEPH CONRAD\\n\\n\\n\\...</td>\n",
       "    </tr>\n",
       "    <tr>\n",
       "      <th>the_inheritors.txt</th>\n",
       "      <td>﻿THE INHERITORS\\n\\n_An Extravagant Story_\\n\\nB...</td>\n",
       "    </tr>\n",
       "    <tr>\n",
       "      <th>the_arrow_of_gold.txt</th>\n",
       "      <td>﻿\\n                                   THE\\n   ...</td>\n",
       "    </tr>\n",
       "    <tr>\n",
       "      <th>the_secret_agent.txt</th>\n",
       "      <td>﻿\\n                                   THE\\n   ...</td>\n",
       "    </tr>\n",
       "    <tr>\n",
       "      <th>victory.txt</th>\n",
       "      <td>﻿VICTORY: AN ISLAND TALE\\n\\nBy Joseph Conrad\\n...</td>\n",
       "    </tr>\n",
       "    <tr>\n",
       "      <th>end_of_the_tether.txt</th>\n",
       "      <td>﻿THE END OF THE TETHER\\n\\n\\nBy Joseph Conrad\\n...</td>\n",
       "    </tr>\n",
       "    <tr>\n",
       "      <th>chance.txt</th>\n",
       "      <td>﻿Chance, A Tale in Two Parts, by Joseph Conrad...</td>\n",
       "    </tr>\n",
       "    <tr>\n",
       "      <th>nostromo.txt</th>\n",
       "      <td>﻿NOSTROMO\\n\\nA TALE OF THE SEABOARD\\n\\n\\nBy Jo...</td>\n",
       "    </tr>\n",
       "    <tr>\n",
       "      <th>typhoon.txt</th>\n",
       "      <td>﻿The Project Gutenberg EBook of Typhoon, by Jo...</td>\n",
       "    </tr>\n",
       "    <tr>\n",
       "      <th>lord_jim.txt</th>\n",
       "      <td>﻿LORD JIM\\n\\nBY JOSEPH CONRAD\\n\\n\\n\\nAUTHOR’S ...</td>\n",
       "    </tr>\n",
       "    <tr>\n",
       "      <th>romance.txt</th>\n",
       "      <td>﻿ROMANCE\\n\\n\\nBy Joseph Conrad\\n\\nand\\n\\nF.M. ...</td>\n",
       "    </tr>\n",
       "    <tr>\n",
       "      <th>the_shadow_line.txt</th>\n",
       "      <td>﻿THE SHADOW-LINE\\n\\nA CONFESSION\\n\\nBy Joseph ...</td>\n",
       "    </tr>\n",
       "  </tbody>\n",
       "</table>\n",
       "</div>"
      ],
      "text/plain": [
       "                                                                            text\n",
       "almayer's_folly.txt            ﻿ALMAYER'S FOLLY:  A STORY OF AN EASTERN RIVER...\n",
       "the_rescue.txt                 ﻿THE RESCUE\\n\\nA ROMANCE OF THE SHALLOWS\\n\\n\\n...\n",
       "an_outcast_of_the_islands.txt  ﻿AN OUTCAST OF THE ISLANDS\\n\\nby Joseph Conrad...\n",
       "heart_of_darkness.txt          ﻿HEART OF DARKNESS\\n\\nBy Joseph Conrad\\n\\n\\n\\n...\n",
       "under_western_eyes.txt         ﻿UNDER WESTERN EYES\\n\\nby JOSEPH CONRAD\\n\\n\\n\\...\n",
       "the_inheritors.txt             ﻿THE INHERITORS\\n\\n_An Extravagant Story_\\n\\nB...\n",
       "the_arrow_of_gold.txt          ﻿\\n                                   THE\\n   ...\n",
       "the_secret_agent.txt           ﻿\\n                                   THE\\n   ...\n",
       "victory.txt                    ﻿VICTORY: AN ISLAND TALE\\n\\nBy Joseph Conrad\\n...\n",
       "end_of_the_tether.txt          ﻿THE END OF THE TETHER\\n\\n\\nBy Joseph Conrad\\n...\n",
       "chance.txt                     ﻿Chance, A Tale in Two Parts, by Joseph Conrad...\n",
       "nostromo.txt                   ﻿NOSTROMO\\n\\nA TALE OF THE SEABOARD\\n\\n\\nBy Jo...\n",
       "typhoon.txt                    ﻿The Project Gutenberg EBook of Typhoon, by Jo...\n",
       "lord_jim.txt                   ﻿LORD JIM\\n\\nBY JOSEPH CONRAD\\n\\n\\n\\nAUTHOR’S ...\n",
       "romance.txt                    ﻿ROMANCE\\n\\n\\nBy Joseph Conrad\\n\\nand\\n\\nF.M. ...\n",
       "the_shadow_line.txt            ﻿THE SHADOW-LINE\\n\\nA CONFESSION\\n\\nBy Joseph ..."
      ]
     },
     "execution_count": 105,
     "metadata": {},
     "output_type": "execute_result"
    }
   ],
   "source": [
    "#In this cell we are actually creating the DataFrame which is populated by the texts from the folder called up above.\n",
    "conrad_df = pandas.DataFrame({'text' : conradText}, index = conradFileName)\n",
    "conrad_df"
=======
    "# Filtering and normalizing text\n",
    "\n",
    "As we want to start comparing the different releases we may choose to do a bit of filtering and normalizing that will allow us to focus on what we most care about. We can first make all of the words lower case, then drop the non-word tokens. Next, we can remove some 'stop words', stem the remaining words to remove suffixes, prefixes and (in some languages) infixes, or lemmatize tokens by intelligently grouping inflected or variant forms of the same word (e.g., with a stemmer and a dictionary). \n",
    "\n",
    "To begin this process, we will first define a function to work over the tokenized lists, then another to add normalized tokens to a new column."
   ]
  },
  {
   "cell_type": "markdown",
   "metadata": {},
   "source": [
    "Nltk has a built-in list of stopwords. They are already imported in the import section. Let's first take a look at what they are."
>>>>>>> d195bdb541288306c8d9b6aa1962ebe4ae022cde
   ]
  },
  {
   "cell_type": "code",
<<<<<<< HEAD
   "execution_count": 106,
   "metadata": {},
   "outputs": [],
   "source": [
    "#Now this line of code is doing a lot of work. Rather than calling up a particular instance from the data frame, and then \n",
    "#converting it to raw rext and then tokenizing it, this line tokenizes the whole dataframe. In parantheses, after 'conrad_df'\n",
    "#the ['text'] is indicating what column of the data frame we are calling up. In this case we want the full texts and not the titles. \n",
    "conradTokens = nltk.word_tokenize(conrad_df['text'].sum())"
   ]
  },
  {
   "cell_type": "code",
   "execution_count": 107,
   "metadata": {},
   "outputs": [
    {
     "data": {
      "text/plain": [
       "1854584"
      ]
     },
     "execution_count": 107,
     "metadata": {},
     "output_type": "execute_result"
    }
   ],
   "source": [
    "#this line of code is checking to make sure that I did the tokenization right by displaying the number of tokens. \n",
    "#Considering how much data we are working with these commands might take a second so be patient.\n",
    "len(conradTokens)"
   ]
  },
  {
   "cell_type": "code",
   "execution_count": 108,
   "metadata": {},
   "outputs": [
    {
     "name": "stdout",
     "output_type": "stream",
     "text": [
      "['neat', ',', 'cool', ',', 'and', 'sad-eyed', ',', 'wrote', 'rapidly', 'and', 'in', 'silence', 'amidst', 'the', 'din', 'of', 'the', 'working', 'gangs', 'rolling', 'casks', 'or', 'shifting', 'cases', 'to', 'a', 'muttered', 'song', ',', 'ending', 'with', 'a', 'desperate', 'yell', '.', 'At', 'the', 'upper', 'end', ',', 'facing', 'the', 'great', 'door', ',', 'there', 'was', 'a', 'larger', 'space', 'railed', 'off', ',', 'well', 'lighted', ';', 'there', 'the', 'noise', 'was', 'subdued', 'by', 'distance', ',', 'and', 'above', 'it', 'rose', 'the', 'soft', 'and', 'continuous', 'clink', 'of', 'silver', 'guilders', 'which', 'other', 'discreet', 'Chinamen', 'were', 'counting', 'and', 'piling', 'up', 'under', 'the', 'supervision', 'of', 'Mr.', 'Vinck', ',', 'the', 'cashier', ',', 'the', 'genius', 'presiding', 'in', 'the', 'place', '--', 'the', 'right', 'hand', 'of', 'the', 'Master', '.', 'In', 'that', 'clear', 'space', 'Almayer', 'worked', 'at', 'his', 'table', 'not', 'far', 'from', 'a', 'little', 'green', 'painted', 'door', ',', 'by', 'which', 'always', 'stood', 'a', 'Malay', 'in', 'a', 'red', 'sash', 'and', 'turban', ',', 'and', 'whose', 'hand', ',', 'holding', 'a', 'small', 'string', 'dangling', 'from', 'above', ',', 'moved', 'up', 'and', 'down', 'with', 'the', 'regularity', 'of', 'a', 'machine', '.', 'The', 'string', 'worked', 'a', 'punkah', 'on', 'the', 'other', 'side', 'of', 'the', 'green', 'door', ',', 'where', 'the', 'so-called', 'private', 'office', 'was', ',', 'and', 'where', 'old', 'Hudig', '--', 'the', 'Master', '--', 'sat', 'enthroned', ',', 'holding', 'noisy', 'receptions', '.', 'Sometimes', 'the', 'little', 'door', 'would', 'fly', 'open', 'disclosing', 'to', 'the', 'outer', 'world', ',', 'through', 'the', 'bluish', 'haze', 'of', 'tobacco', 'smoke', ',', 'a', 'long', 'table', 'loaded', 'with', 'bottles', 'of', 'various', 'shapes', 'and', 'tall', 'water-pitchers', ',', 'rattan', 'easy-chairs', 'occupied', 'by', 'noisy', 'men', 'in', 'sprawling', 'attitudes', ',', 'while', 'the', 'Master', 'would', 'put', 'his', 'head', 'through', 'and', ',', 'holding', 'by', 'the', 'handle', ',', 'would', 'grunt', 'confidentially', 'to', 'Vinck', ';', 'perhaps', 'send', 'an', 'order', 'thundering', 'down', 'the', 'warehouse', ',', 'or', 'spy', 'a', 'hesitating', 'stranger', 'and', 'greet', 'him', 'with', 'a', 'friendly', 'roar', ',', '``', 'Welgome', ',', 'Gapitan', '!', 'ver', \"'\", 'you', 'gome', 'vrom', '?', 'Bali', ',', 'eh', '?', 'Got', 'bonies', '?', 'I', 'vant', 'bonies', '!', 'Vant', 'all', 'you', 'got', ';', 'ha', '!', 'ha', '!', 'ha', '!', 'Gome', 'in', '!', \"''\", 'Then', 'the', 'stranger', 'was', 'dragged', 'in', ',', 'in', 'a', 'tempest', 'of', 'yells', ',', 'the', 'door', 'was', 'shut', ',', 'and', 'the', 'usual', 'noises', 'refilled', 'the', 'place', ';', 'the', 'song', 'of', 'the', 'workmen', ',', 'the', 'rumble', 'of', 'barrels', ',', 'the', 'scratch', 'of', 'rapid', 'pens', ';', 'while', 'above', 'all', 'rose', 'the', 'musical', 'chink', 'of', 'broad', 'silver', 'pieces', 'streaming', 'ceaselessly', 'through', 'the', 'yellow', 'fingers', 'of', 'the', 'attentive', 'Chinamen', '.', 'At', 'that', 'time', 'Macassar', 'was', 'teeming', 'with', 'life', 'and', 'commerce', '.', 'It', 'was', 'the', 'point', 'in', 'the', 'islands', 'where', 'tended', 'all', 'those', 'bold', 'spirits', 'who', ',', 'fitting', 'out', 'schooners', 'on', 'the', 'Australian', 'coast', ',', 'invaded', 'the', 'Malay', 'Archipelago', 'in', 'search', 'of', 'money', 'and', 'adventure', '.', 'Bold', ',', 'reckless', ',', 'keen', 'in', 'business', ',', 'not', 'disinclined', 'for', 'a', 'brush', 'with', 'the', 'pirates', 'that', 'were', 'to', 'be', 'found', 'on', 'many', 'a', 'coast', 'as', 'yet', ',', 'making', 'money', 'fast', ',', 'they', 'used', 'to', 'have', 'a', 'general', '``', 'rendezvous', \"''\", 'in', 'the', 'bay', 'for', 'purposes', 'of', 'trade', 'and', 'dissipation', '.', 'The', 'Dutch', 'merchants', 'called', 'those', 'men', 'English', 'pedlars', ';', 'some', 'of', 'them', 'were', 'undoubtedly', 'gentlemen', 'for', 'whom', 'that', 'kind', 'of', 'life', 'had', 'a', 'charm', ';', 'most', 'were', 'seamen', ';', 'the', 'acknowledged', 'king', 'of', 'them', 'all', 'was', 'Tom', 'Lingard', ',', 'he', 'whom', 'the', 'Malays', ',', 'honest', 'or', 'dishonest', ',', 'quiet', 'fishermen', 'or', 'desperate', 'cut-throats', ',', 'recognised', 'as', \"''\", 'the', 'Rajah-Laut', \"''\", '--', 'the', 'King', 'of', 'the', 'Sea', '.', 'Almayer', 'had', 'heard', 'of', 'him', 'before', 'he', 'had', 'been', 'three', 'days', 'in', 'Macassar', ',', 'had', 'heard', 'the', 'stories', 'of', 'his', 'smart', 'business', 'transactions', ',', 'his', 'loves', ',', 'and', 'also', 'of', 'his', 'desperate', 'fights', 'with', 'the', 'Sulu', 'pirates', ',', 'together', 'with', 'the', 'romantic', 'tale', 'of', 'some', 'child', '--', 'a', 'girl', '--', 'found', 'in', 'a', 'piratical', 'prau', 'by', 'the', 'victorious', 'Lingard', ',', 'when', ',', 'after', 'a', 'long', 'contest', ',', 'he', 'boarded', 'the', 'craft', ',', 'driving', 'the', 'crew', 'overboard', '.', 'This', 'girl', ',', 'it', 'was', 'generally', 'known', ',', 'Lingard', 'had', 'adopted', ',', 'was', 'having', 'her', 'educated', 'in', 'some', 'convent', 'in', 'Java', ',', 'and', 'spoke', 'of', 'her', 'as', '``', 'my', 'daughter', '.', \"''\", 'He', 'had', 'sworn', 'a', 'mighty', 'oath', 'to', 'marry', 'her', 'to', 'a', 'white', 'man', 'before', 'he', 'went', 'home', 'and', 'to', 'leave', 'her', 'all', 'his', 'money', '.', '``', 'And', 'Captain', 'Lingard', 'has', 'lots', 'of', 'money', ',', \"''\", 'would', 'say', 'Mr.', 'Vinck', 'solemnly', ',', 'with', 'his', 'head', 'on', 'one', 'side', ',', \"''\", 'lots', 'of', 'money', ';', 'more', 'than', 'Hudig', '!', \"''\", 'And', 'after', 'a', 'pause', '--', 'just', 'to', 'let', 'his', 'hearers', 'recover', 'from', 'their', 'astonishment', 'at', 'such', 'an', 'incredible', 'assertion', '--', 'he', 'would', 'add', 'in', 'an', 'explanatory', 'whisper', ',', '``', 'You', 'know', ',', 'he', 'has', 'discovered', 'a', 'river', '.', \"''\", 'That', 'was', 'it', '!', 'He', 'had', 'discovered', 'a', 'river', '!', 'That', 'was', 'the', 'fact', 'placing', 'old', 'Lingard', 'so', 'much', 'above', 'the', 'common', 'crowd', 'of', 'sea-going', 'adventurers', 'who', 'traded', 'with', 'Hudig', 'in', 'the', 'daytime', 'and', 'drank', 'champagne', ',', 'gambled', ',', 'sang', 'noisy', 'songs', ',', 'and', 'made', 'love', 'to', 'half-caste', 'girls', 'under', 'the', 'broad', 'verandah', 'of', 'the', 'Sunda', 'Hotel', 'at', 'night', '.', 'Into', 'that', 'river', ',', 'whose', 'entrances', 'himself', 'only', 'knew', ',', 'Lingard', 'used', 'to', 'take', 'his', 'assorted', 'cargo', 'of', 'Manchester', 'goods', ',', 'brass', 'gongs', ',', 'rifles', 'and', 'gunpowder', '.', 'His', 'brig', '_Flash_', ',', 'which', 'he', 'commanded', 'himself', ',', 'would', 'on', 'those', 'occasions', 'disappear', 'quietly', 'during', 'the', 'night', 'from', 'the', 'roadstead', 'while', 'his', 'companions', 'were', 'sleeping', 'off', 'the', 'effects', 'of', 'the', 'midnight', 'carouse', ',', 'Lingard', 'seeing', 'them', 'drunk', 'under', 'the', 'table', 'before', 'going', 'on', 'board', ',', 'himself', 'unaffected', 'by', 'any', 'amount', 'of', 'liquor', '.', 'Many', 'tried', 'to', 'follow', 'him', 'and', 'find', 'that', 'land', 'of', 'plenty', 'for', 'gutta-percha', 'and', 'rattans', ',', 'pearl', 'shells', 'and', 'birds', \"'\", 'nests', ',', 'wax', 'and', 'gum-dammar', ',', 'but', 'the', 'little', '_Flash_', 'could', 'outsail', 'every', 'craft', 'in', 'those', 'seas', '.', 'A', 'few', 'of', 'them', 'came', 'to', 'grief', 'on', 'hidden', 'sandbanks', 'and', 'coral', 'reefs', ',', 'losing', 'their', 'all', 'and', 'barely', 'escaping', 'with', 'life', 'from', 'the', 'cruel', 'grip', 'of', 'this', 'sunny', 'and', 'smiling', 'sea', ';', 'others', 'got', 'discouraged', ';', 'and', 'for', 'many', 'years', 'the', 'green', 'and', 'peaceful-looking', 'islands', 'guarding', 'the', 'entrances', 'to', 'the', 'promised', 'land', 'kept', 'their', 'secret', 'with', 'all', 'the', 'merciless', 'serenity', 'of', 'tropical', 'nature', '.', 'And', 'so', 'Lingard', 'came', 'and', 'went', 'on', 'his', 'secret', 'or', 'open', 'expeditions', ',', 'becoming', 'a', 'hero', 'in', 'Almayer', \"'s\", 'eyes', 'by', 'the', 'boldness', 'and', 'enormous', 'profits', 'of', 'his', 'ventures', ',', 'seeming', 'to', 'Almayer', 'a', 'very', 'great', 'man', 'indeed', 'as', 'he', 'saw', 'him', 'marching', 'up', 'the', 'warehouse', ',', 'grunting', 'a', \"''\", 'how', 'are', 'you', '?', \"''\", 'to', 'Vinck', ',', 'or', 'greeting', 'Hudig', ',', 'the', 'Master', ',', 'with', 'a', 'boisterous', \"''\", 'Hallo', ',', 'old', 'pirate', '!', 'Alive', 'yet', '?', \"''\", 'as', 'a', 'preliminary', 'to', 'transacting', 'business', 'behind', 'the', 'little', 'green', 'door', '.', 'Often', 'of', 'an', 'evening', ',', 'in', 'the', 'silence', 'of', 'the', 'then', 'deserted', 'warehouse', ',', 'Almayer', 'putting', 'away', 'his', 'papers', 'before', 'driving', 'home', 'with', 'Mr.', 'Vinck', ',', 'in', 'whose', 'household', 'he', 'lived', ',', 'would', 'pause', 'listening', 'to', 'the', 'noise', 'of', 'a', 'hot', 'discussion', 'in', 'the', 'private', 'office', ',', 'would', 'hear', 'the', 'deep', 'and', 'monotonous', 'growl', 'of', 'the', 'Master', ',', 'and', 'the', 'roared-out', 'interruptions', 'of', 'Lingard', '--', 'two', 'mastiffs', 'fighting', 'over', 'a', 'marrowy', 'bone', '.', 'But', 'to', \"Almayer's\", 'ears', 'it', 'sounded', 'like', 'a', 'quarrel', 'of', 'Titans', '--', 'a', 'battle', 'of', 'the', 'gods', '.', 'After', 'a', 'year', 'or', 'so', 'Lingard', ',', 'having', 'been', 'brought', 'often', 'in', 'contact', 'with', 'Almayer', 'in', 'the', 'course', 'of', 'business', ',', 'took', 'a', 'sudden', 'and', ',', 'to', 'the', 'onlookers', ',', 'a', 'rather', 'inexplicable', 'fancy', 'to', 'the', 'young', 'man', '.', 'He', 'sang', 'his', 'praises', ',', 'late', 'at', 'night', ',', 'over', 'a', 'convivial', 'glass', 'to', 'his', 'cronies', 'in', 'the', 'Sunda', 'Hotel', ',', 'and', 'one', 'fine', 'morning', 'electrified', 'Vinck', 'by', 'declaring', 'that', 'he', 'must', 'have', '``', 'that', 'young', 'fellow', 'for', 'a', 'supercargo', '.', 'Kind', 'of', 'captain', \"'s\", 'clerk', '.', 'Do', 'all', 'my', 'quill-driving', 'for', 'me', '.', \"''\", 'Hudig', 'consented', '.', 'Almayer', ',', 'with', 'youth', \"'s\", 'natural', 'craving', 'for', 'change', ',', 'was', 'nothing', 'loth', ',', 'and', 'packing', 'his', 'few', 'belongings', ',', 'started', 'in', 'the', '_Flash_', 'on', 'one', 'of', 'those', 'long', 'cruises', 'when', 'the', 'old', 'seaman', 'was', 'wont', 'to', 'visit', 'almost', 'every', 'island', 'in', 'the', 'archipelago', '.', 'Months', 'slipped', 'by', ',', 'and', 'Lingard', \"'s\", 'friendship', 'seemed', 'to', 'increase', '.', 'Often', 'pacing', 'the', 'deck', 'with', 'Almayer', ',', 'when', 'the', 'faint', 'night', 'breeze', ',', 'heavy', 'with', 'aromatic', 'exhalations', 'of', 'the', 'islands', ',', 'shoved', 'the', 'brig', 'gently', 'along', 'under', 'the', 'peaceful', 'and', 'sparkling', 'sky', ',', 'did', 'the', 'old', 'seaman', 'open', 'his', 'heart', 'to', 'his', 'entranced', 'listener', '.', 'He', 'spoke', 'of', 'his', 'past', 'life', ',', 'of', 'escaped', 'dangers', ',', 'of', 'big', 'profits', 'in', 'his', 'trade', ',', 'of', 'new', 'combinations', 'that', 'were', 'in', 'the', 'future', 'to', 'bring', 'profits', 'bigger', 'still', '.', 'Often', 'he', 'had', 'mentioned', 'his', 'daughter', ',', 'the', 'girl', 'found', 'in', 'the', 'pirate', 'prau', ',', 'speaking', 'of', 'her', 'with', 'a', 'strange', 'assumption', 'of', 'fatherly', 'tenderness', '.', '``', 'She', 'must', 'be', 'a', 'big', 'girl', 'now', ',', \"''\", 'he', 'used', 'to', 'say', '.', '``', 'It', \"'s\", 'nigh', 'unto', 'four', 'years', 'since', 'I', 'have', 'seen', 'her', '!', 'Damme', ',', 'Almayer', ',', 'if', 'I', 'do', \"n't\", 'think', 'we', 'will', 'run', 'into', 'Sourabaya', 'this', 'trip', '.', \"''\", 'And', 'after', 'such', 'a', 'declaration', 'he', 'always', 'dived', 'into', 'his', 'cabin', 'muttering', 'to', 'himself', ',', \"''\", 'Something', 'must', 'be', 'done', '--', 'must', 'be', 'done', '.', \"''\", 'More', 'than', 'once', 'he', 'would', 'astonish', 'Almayer', 'by', 'walking', 'up', 'to', 'him', 'rapidly', ',', 'clearing', 'his', 'throat', 'with', 'a', 'powerful', \"''\", 'Hem', '!', \"''\", 'as', 'if', 'he', 'was', 'going', 'to', 'say', 'something', ',', 'and', 'then', 'turning', 'abruptly', 'away', 'to', 'lean', 'over', 'the', 'bulwarks', 'in', 'silence', ',', 'and', 'watch', ',', 'motionless', ',', 'for', 'hours', ',', 'the', 'gleam', 'and', 'sparkle', 'of', 'the', 'phosphorescent', 'sea', 'along', 'the', \"ship's\", 'side', '.', 'It', 'was', 'the', 'night', 'before', 'arriving', 'in', 'Sourabaya', 'when', 'one', 'of', 'those', 'attempts', 'at', 'confidential', 'communication', 'succeeded', '.', 'After', 'clearing', 'his', 'throat', 'he', 'spoke', '.', 'He', 'spoke', 'to', 'some', 'purpose', '.', 'He', 'wanted', 'Almayer', 'to', 'marry', 'his', 'adopted', 'daughter', '.', '``', 'And', 'do', \"n't\", 'you', 'kick', 'because', 'you', \"'re\", 'white', '!', \"''\", 'he', 'shouted', ',', 'suddenly', ',', 'not', 'giving', 'the', 'surprised', 'young', 'man', 'the', 'time', 'to', 'say', 'a', 'word', '.', '``', 'None', 'of', 'that', 'with', 'me', '!', 'Nobody', 'will', 'see', 'the', 'colour', 'of', 'your', \"wife's\", 'skin', '.', 'The', 'dollars', 'are', 'too', 'thick', 'for', 'that', ',', 'I', 'tell', 'you', '!', 'And', 'mind', 'you', ',', 'they', 'will', 'be', 'thicker', 'yet', 'before', 'I', 'die', '.', 'There', 'will', 'be', 'millions', ',', 'Kaspar', '!', 'Millions', 'I', 'say', '!', 'And', 'all', 'for', 'her', '--', 'and', 'for', 'you', ',', 'if', 'you', 'do', 'what', 'you', 'are', 'told', '.', \"''\", 'Startled', 'by', 'the', 'unexpected', 'proposal', ',', 'Almayer', 'hesitated', ',', 'and', 'remained', 'silent', 'for', 'a', 'minute', '.', 'He', 'was', 'gifted', 'with', 'a', 'strong', 'and', 'active', 'imagination', ',', 'and', 'in', 'that', 'short', 'space', 'of', 'time', 'he', 'saw', ',', 'as', 'in', 'a', 'flash', 'of', 'dazzling', 'light', ',', 'great', 'piles', 'of', 'shining', 'guilders', ',', 'and', 'realised', 'all', 'the', 'possibilities', 'of', 'an', 'opulent', 'existence', '.', 'The', 'consideration', ',', 'the', 'indolent', 'ease', 'of', 'life', '--', 'for', 'which', 'he', 'felt', 'himself', 'so', 'well', 'fitted', '--', 'his', 'ships', ',', 'his', 'warehouses', ',', 'his', 'merchandise', '(', 'old', 'Lingard', 'would', 'not', 'live', 'for', 'ever', ')', ',', 'and', ',', 'crowning', 'all', ',', 'in', 'the', 'far', 'future', 'gleamed', 'like', 'a', 'fairy', 'palace', 'the', 'big', 'mansion', 'in', 'Amsterdam', ',', 'that', 'earthly', 'paradise', 'of', 'his', 'dreams', ',', 'where', ',', 'made', 'king', 'amongst', 'men', 'by', 'old', 'Lingard', \"'s\", 'money', ',', 'he', 'would', 'pass', 'the', 'evening', 'of', 'his', 'days', 'in', 'inexpressible', 'splendour', '.', 'As', 'to', 'the', 'other', 'side', 'of', 'the', 'picture', '--', 'the', 'companionship', 'for', 'life', 'of', 'a', 'Malay', 'girl', ',', 'that', 'legacy', 'of', 'a', 'boatful', 'of', 'pirates', '--', 'there', 'was', 'only', 'within', 'him', 'a', 'confused', 'consciousness', 'of', 'shame', 'that', 'he', 'a', 'white', 'man', '--', 'Still', ',', 'a', 'convent', 'education', 'of', 'four', 'years', '!', '--', 'and', 'then', 'she', 'may', 'mercifully', 'die', '.', 'He', 'was', 'always', 'lucky', ',', 'and', 'money', 'is', 'powerful', '!', 'Go', 'through', 'it', '.', 'Why', 'not', '?', 'He', 'had', 'a', 'vague', 'idea', 'of', 'shutting', 'her', 'up', 'somewhere', ',', 'anywhere', ',', 'out', 'of', 'his', 'gorgeous', 'future', '.', 'Easy', 'enough', 'to', 'dispose', 'of', 'a', 'Malay', 'woman', ',', 'a', 'slave', ',', 'after', 'all', ',', 'to', 'his', 'Eastern', 'mind', ',', 'convent', 'or', 'no', 'convent', ',', 'ceremony', 'or', 'no', 'ceremony', '.', 'He', 'lifted', 'his', 'head', 'and', 'confronted', 'the', 'anxious', 'yet', 'irate', 'seaman', '.', '``', 'I', '--', 'of', 'course', '--', 'anything', 'you', 'wish', ',', 'Captain', 'Lingard', '.', \"''\", '``', 'Call', 'me', 'father', ',', 'my', 'boy', '.', 'She', 'does', ',', \"''\", 'said', 'the', 'mollified', 'old', 'adventurer', '.', '``', 'Damme', ',', 'though', ',', 'if', 'I', 'did', \"n't\", 'think', 'you', 'were', 'going', 'to', 'refuse', '.', 'Mind', 'you', ',', 'Kaspar', ',', 'I', 'always', 'get', 'my', 'way', ',', 'so', 'it', 'would', 'have', 'been', 'no', 'use', '.', 'But', 'you', 'are', 'no', 'fool', '.', \"''\", 'He', 'remembered', 'well', 'that', 'time', '--', 'the', 'look', ',', 'the', 'accent', ',', 'the', 'words', ',', 'the', 'effect', 'they', 'produced', 'on', 'him', ',', 'his', 'very', 'surroundings', '.', 'He', 'remembered', 'the', 'narrow', 'slanting', 'deck', 'of', 'the', 'brig', ',', 'the', 'silent', 'sleeping', 'coast', ',', 'the', 'smooth', 'black', 'surface', 'of', 'the', 'sea', 'with', 'a', 'great', 'bar', 'of', 'gold', 'laid', 'on', 'it', 'by', 'the', 'rising', 'moon', '.', 'He', 'remembered', 'it', 'all', ',', 'and', 'he', 'remembered', 'his', 'feelings', 'of', 'mad', 'exultation', 'at', 'the', 'thought', 'of', 'that', 'fortune', 'thrown', 'into', 'his', 'hands', '.', 'He', 'was', 'no', 'fool', 'then', ',', 'and', 'he', 'was', 'no', 'fool', 'now', '.', 'Circumstances', 'had', 'been', 'against', 'him', ';', 'the', 'fortune', 'was', 'gone', ',', 'but', 'hope', 'remained', '.', 'He', 'shivered', 'in', 'the', 'night', 'air', ',', 'and', 'suddenly', 'became', 'aware', 'of', 'the', 'intense', 'darkness', 'which', ',', 'on', 'the', 'sun', \"'s\", 'departure', ',', 'had', 'closed', 'in', 'upon', 'the', 'river', ',', 'blotting', 'out', 'the', 'outlines', 'of', 'the', 'opposite', 'shore', '.', 'Only', 'the', 'fire', 'of', 'dry', 'branches', 'lit', 'outside', 'the', 'stockade', 'of', 'the', 'Rajah', \"'s\", 'compound', 'called', 'fitfully', 'into', 'view', 'the', 'ragged', 'trunks', 'of', 'the', 'surrounding', 'trees', ',', 'putting', 'a', 'stain', 'of', 'glowing', 'red', 'half-way', 'across', 'the', 'river', 'where', 'the', 'drifting', 'logs', 'were', 'hurrying', 'towards', 'the', 'sea', 'through', 'the', 'impenetrable', 'gloom', '.', 'He', 'had', 'a', 'hazy', 'recollection', 'of', 'having', 'been', 'called', 'some', 'time', 'during', 'the', 'evening', 'by', 'his', 'wife', '.', 'To', 'his', 'dinner', 'probably', '.', 'But', 'a', 'man', 'busy', 'contemplating', 'the', 'wreckage', 'of', 'his', 'past', 'in', 'the', 'dawn', 'of', 'new', 'hopes', 'can', 'not', 'be', 'hungry', 'whenever', 'his', 'rice', 'is', 'ready', '.', 'Time', 'he', 'went', 'home', ',', 'though', ';', 'it', 'was', 'getting', 'late', '.', 'He', 'stepped', 'cautiously', 'on', 'the', 'loose', 'planks', 'towards', 'the', 'ladder', '.', 'A', 'lizard', ',', 'disturbed', 'by', 'the', 'noise', ',', 'emitted', 'a', 'plaintive', 'note', 'and', 'scurried', 'through', 'the', 'long', 'grass', 'growing', 'on', 'the', 'bank', '.', 'Almayer', 'descended', 'the', 'ladder', 'carefully', ',', 'now', 'thoroughly', 'recalled', 'to', 'the', 'realities', 'of', 'life', 'by', 'the', 'care', 'necessary', 'to', 'prevent', 'a', 'fall', 'on', 'the', 'uneven', 'ground', 'where', 'the', 'stones', ',', 'decaying', 'planks', ',', 'and', 'half-sawn', 'beams', 'were', 'piled', 'up', 'in', 'inextricable', 'confusion', '.', 'As', 'he', 'turned', 'towards', 'the', 'house', 'where', 'he', 'lived', '--', \"''\", 'my', 'old', 'house', \"''\", 'he', 'called', 'it', '--', 'his', 'ear', 'detected', 'the', 'splash', 'of', 'paddles', 'away', 'in', 'the', 'darkness', 'of', 'the', 'river', '.', 'He', 'stood', 'still', 'in', 'the', 'path', ',', 'attentive', 'and', 'surprised', 'at', 'anybody', 'being', 'on', 'the', 'river', 'at', 'this', 'late', 'hour', 'during', 'such', 'a', 'heavy', 'freshet', '.', 'Now', 'he', 'could', 'hear', 'the', 'paddles', 'distinctly', ',', 'and', 'even', 'a', 'rapidly', 'exchanged', 'word', 'in', 'low', 'tones', ',', 'the', 'heavy', 'breathing', 'of', 'men', 'fighting', 'with', 'the', 'current', ',', 'and', 'hugging', 'the', 'bank', 'on', 'which', 'he', 'stood', '.', 'Quite', 'close', ',', 'too', ',', 'but', 'it', 'was', 'too', 'dark', 'to', 'distinguish', 'anything', 'under', 'the', 'overhanging', 'bushes', '.', '``', 'Arabs', ',', 'no', 'doubt', ',', \"''\", 'muttered', 'Almayer', 'to', 'himself', ',', 'peering', 'into', 'the', 'solid', 'blackness', '.', '``', 'What', 'are', 'they', 'up', 'to', 'now', '?', 'Some', 'of', 'Abdulla', \"'s\", 'business', ';', 'curse', 'him', '!', \"''\", 'The', 'boat', 'was', 'very', 'close', 'now', '.', '``', 'Oh', ',', 'ya', '!', 'Man', '!', \"''\", 'hailed', 'Almayer', '.', 'The', 'sound', 'of', 'voices', 'ceased', ',', 'but', 'the', 'paddles', 'worked', 'as', 'furiously', 'as', 'before', '.', 'Then', 'the', 'bush', 'in', 'front', 'of', 'Almayer', 'shook', ',', 'and', 'the', 'sharp', 'sound', 'of', 'the', 'paddles', 'falling', 'into', 'the', 'canoe', 'rang', 'in', 'the', 'quiet', 'night', '.', 'They', 'were', 'holding', 'on', 'to', 'the', 'bush', 'now', ';', 'but', 'Almayer', 'could', 'hardly', 'make', 'out', 'an', 'indistinct', 'dark', 'shape', 'of', 'a', 'man', \"'s\", 'head', 'and', 'shoulders', 'above', 'the', 'bank', '.', '``', 'You', 'Abdulla', '?', \"''\", 'said', 'Almayer', ',', 'doubtfully', '.', 'A', 'grave', 'voice', 'answered', '--', \"''\", 'Tuan', 'Almayer', 'is', 'speaking', 'to', 'a', 'friend', '.', 'There', 'is', 'no', 'Arab', 'here', '.', \"''\", 'Almayer', \"'s\", 'heart', 'gave', 'a', 'great', 'leap', '.', '``', 'Dain', '!', \"''\", 'he', 'exclaimed', '.', '``', 'At', 'last', '!', 'at', 'last', '!', 'I', 'have', 'been', 'waiting', 'for', 'you', 'every', 'day', 'and', 'every', 'night', '.', 'I', 'had', 'nearly', 'given', 'you', 'up', '.', \"''\", '``', 'Nothing', 'could', 'have', 'stopped', 'me', 'from', 'coming', 'back', 'here', ',', \"''\", 'said', 'the', 'other', ',', 'almost', 'violently', '.', '``', 'Not', 'even', 'death', ',', \"''\", 'he', 'whispered', 'to', 'himself', '.', '``', 'This', 'is', 'a', 'friend', \"'s\", 'talk', ',', 'and', 'is', 'very', 'good', ',', \"''\", 'said', 'Almayer', ',', 'heartily', '.', '``', 'But', 'you', 'are', 'too', 'far', 'here', '.', 'Drop', 'down', 'to', 'the', 'jetty', 'and', 'let', 'your', 'men', 'cook', 'their', 'rice', 'in', 'my', 'campong', 'while', 'we', 'talk', 'in', 'the', 'house', '.', \"''\", 'There', 'was', 'no', 'answer', 'to', 'that', 'invitation', '.', '``', 'What', 'is', 'it', '?', \"''\", 'asked', 'Almayer', ',', 'uneasily', '.', '``', 'There', 'is', 'nothing', 'wrong', 'with', 'the', 'brig', ',', 'I', 'hope', '?', \"''\", '``', 'The', 'brig', 'is', 'where', 'no', 'Orang', 'Blanda', 'can', 'lay', 'his', 'hands', 'on', 'her', ',', \"''\", 'said', 'Dain', ',', 'with', 'a', 'gloomy', 'tone', 'in', 'his', 'voice', ',', 'which', 'Almayer', ',', 'in', 'his', 'elation', ',', 'failed', 'to', 'notice', '.', '``', 'Right', ',', \"''\", 'he', 'said', '.', '``', 'But', 'where', 'are', 'all', 'your', 'men', '?', 'There', 'are', 'only', 'two', 'with', 'you', '.', \"''\", '``', 'Listen', ',', 'Tuan', 'Almayer', ',', \"''\", 'said', 'Dain', '.', '``', 'To-morrow', \"'s\", 'sun', 'shall', 'see', 'me', 'in', 'your', 'house', ',', 'and', 'then', 'we', 'will', 'talk', '.', 'Now', 'I', 'must', 'go', 'to', 'the', 'Rajah', '.', \"''\", '``', 'To', 'the', 'Rajah', '!', 'Why', '?', 'What', 'do', 'you', 'want', 'with', 'Lakamba', '?', \"''\", '``', 'Tuan', ',', 'to-morrow', 'we', 'talk', 'like', 'friends', '.', 'I', 'must', 'see', 'Lakamba', 'to-night', '.', \"''\", '``', 'Dain', ',', 'you', 'are', 'not', 'going', 'to', 'abandon', 'me', 'now', ',', 'when', 'all', 'is', 'ready', '?', \"''\", 'asked', 'Almayer', ',', 'in', 'a', 'pleading', 'voice', '.', '``', 'Have', 'I', 'not', 'returned', '?', 'But', 'I', 'must', 'see', 'Lakamba', 'first', 'for', 'your', 'good', 'and', 'mine', '.', \"''\", 'The', 'shadowy', 'head', 'disappeared', 'abruptly', '.', 'The', 'bush', ',', 'released', 'from', 'the', 'grasp', 'of', 'the', 'bowman', ',', 'sprung', 'back', 'with', 'a', 'swish', ',', 'scattering', 'a', 'shower', 'of', 'muddy', 'water', 'over', 'Almayer', ',', 'as', 'he', 'bent', 'forward', ',', 'trying', 'to', 'see', '.', 'In', 'a', 'little', 'while', 'the', 'canoe', 'shot', 'into', 'the', 'streak', 'of', 'light', 'that', 'streamed', 'on', 'the', 'river', 'from', 'the', 'big', 'fire', 'on', 'the', 'opposite', 'shore', ',', 'disclosing', 'the', 'outline', 'of', 'two', 'men', 'bending', 'to', 'their', 'work', ',', 'and', 'a', 'third', 'figure', 'in', 'the', 'stern', 'flourishing', 'the', 'steering', 'paddle', ',', 'his', 'head', 'covered', 'with', 'an', 'enormous', 'round', 'hat', ',', 'like', 'a', 'fantastically', 'exaggerated', 'mushroom', '.', 'Almayer', 'watched', 'the', 'canoe', 'till', 'it', 'passed', 'out', 'of', 'the', 'line', 'of', 'light', '.', 'Shortly', 'after', 'the', 'murmur', 'of', 'many', 'voices', 'reached', 'him', 'across', 'the', 'water', '.', 'He', 'could', 'see', 'the', 'torches', 'being', 'snatched', 'out', 'of', 'the', 'burning', 'pile', ',', 'and', 'rendering', 'visible', 'for', 'a', 'moment', 'the', 'gate', 'in', 'the', 'stockade', 'round', 'which', 'they', 'crowded', '.', 'Then', 'they', 'went', 'in', 'apparently', '.', 'The', 'torches', 'disappeared', ',', 'and', 'the', 'scattered', 'fire', 'sent', 'out', 'only', 'a', 'dim', 'and', 'fitful', 'glare', '.', 'Almayer', 'stepped', 'homewards', 'with', 'long', 'strides', 'and', 'mind', 'uneasy', '.', 'Surely', 'Dain', 'was', 'not', 'thinking', 'of', 'playing', 'him', 'false', '.', 'It', 'was', 'absurd', '.', 'Dain', 'and', 'Lakamba', 'were', 'both', 'too', 'much', 'interested', 'in', 'the', 'success', 'of', 'his', 'scheme', '.', 'Trusting', 'to', 'Malays', 'was', 'poor', 'work', ';', 'but', 'then', 'even', 'Malays', 'have', 'some', 'sense', 'and', 'understand', 'their', 'own', 'interest', '.', 'All', 'would', 'be', 'well', '--', 'must', 'be', 'well', '.', 'At', 'this', 'point', 'in', 'his', 'meditation', 'he', 'found', 'himself', 'at', 'the', 'foot', 'of', 'the', 'steps', 'leading', 'to', 'the', 'verandah', 'of', 'his', 'home', '.', 'From', 'the', 'low', 'point', 'of', 'land', 'where', 'he', 'stood', 'he', 'could', 'see', 'both', 'branches', 'of', 'the', 'river', '.', 'The', 'main', 'branch', 'of', 'the', 'Pantai', 'was', 'lost', 'in', 'complete', 'darkness', ',', 'for', 'the', 'fire', 'at', 'the', 'Rajah', \"'s\", 'had', 'gone', 'out', 'altogether', ';', 'but', 'up', 'the', 'Sambir', 'reach', 'his', 'eye', 'could', 'follow', 'the', 'long', 'line', 'of', 'Malay', 'houses', 'crowding', 'the', 'bank', ',', 'with', 'here', 'and', 'there', 'a', 'dim', 'light', 'twinkling', 'through', 'bamboo', 'walls', ',', 'or', 'a', 'smoky', 'torch', 'burning', 'on', 'the', 'platforms', 'built', 'out', 'over', 'the', 'river', '.', 'Further', 'away', ',', 'where', 'the', 'island', 'ended', 'in', 'a', 'low', 'cliff', ',', 'rose', 'a', 'dark', 'mass', 'of', 'buildings', 'towering', 'above', 'the', 'Malay', 'structures', '.', 'Founded', 'solidly', 'on', 'a', 'firm', 'ground', 'with', 'plenty', 'of', 'space', ',', 'starred', 'by', 'many', 'lights', 'burning', 'strong', 'and', 'white', ',', 'with', 'a', 'suggestion', 'of', 'paraffin', 'and', 'lamp-', 'glasses', ',', 'stood', 'the', 'house', 'and', 'the', 'godowns', 'of', 'Abdulla', 'bin', 'Selim', ',', 'the', 'great', 'trader', 'of', 'Sambir', '.', 'To', 'Almayer', 'the', 'sight', 'was', 'very', 'distasteful', ',', 'and', 'he', 'shook', 'his', 'fist', 'towards', 'the', 'buildings', 'that', 'in', 'their', 'evident', 'prosperity', 'looked', 'to', 'him', 'cold', 'and', 'insolent', ',', 'and', 'contemptuous', 'of', 'his', 'own', 'fallen', 'fortunes', '.', 'He', 'mounted', 'the', 'steps', 'of', 'his', 'house', 'slowly', '.', 'In', 'the', 'middle', 'of', 'the', 'verandah', 'there', 'was', 'a', 'round', 'table', '.', 'On', 'it', 'a', 'paraffin', 'lamp', 'without', 'a', 'globe', 'shed', 'a', 'hard', 'glare', 'on', 'the', 'three', 'inner', 'sides', '.', 'The', 'fourth', 'side', 'was', 'open', ',', 'and', 'faced', 'the', 'river', '.', 'Between', 'the', 'rough', 'supports', 'of', 'the', 'high-pitched', 'roof', 'hung', 'torn', 'rattan', 'screens', '.', 'There', 'was', 'no', 'ceiling', ',', 'and', 'the', 'harsh', 'brilliance', 'of', 'the', 'lamp', 'was', 'toned', 'above', 'into', 'a', 'soft', 'half-', 'light', 'that', 'lost', 'itself', 'in', 'the', 'obscurity', 'amongst', 'the', 'rafters', '.', 'The', 'front', 'wall', 'was', 'cut', 'in', 'two', 'by', 'the', 'doorway', 'of', 'a', 'central', 'passage', 'closed', 'by', 'a', 'red', 'curtain', '.', 'The', 'women', \"'s\", 'room', 'opened', 'into', 'that', 'passage', ',', 'which', 'led', 'to', 'the', 'back', 'courtyard', 'and', 'to', 'the', 'cooking', 'shed', '.', 'In', 'one', 'of', 'the', 'side', 'walls', 'there', 'was', 'a', 'doorway', '.', 'Half', 'obliterated', 'words', '--', \"''\", 'Office', ':', 'Lingard', 'and', 'Co.', \"''\", '--', 'were', 'still', 'legible', 'on', 'the', 'dusty', 'door', ',', 'which', 'looked', 'as', 'if', 'it', 'had', 'not', 'been', 'opened', 'for', 'a', 'very', 'long', 'time', '.', 'Close', 'to', 'the', 'other', 'side', 'wall', 'stood', 'a', 'bent-', 'wood', 'rocking-chair', ',', 'and', 'by', 'the', 'table', 'and', 'about', 'the', 'verandah', 'four', 'wooden', 'armchairs', 'straggled', 'forlornly', ',', 'as', 'if', 'ashamed', 'of', 'their', 'shabby', 'surroundings', '.', 'A', 'heap', 'of', 'common', 'mats', 'lay', 'in', 'one', 'corner', ',', 'with', 'an', 'old', 'hammock', 'slung', 'diagonally', 'above', '.', 'In', 'the', 'other', 'corner', ',', 'his', 'head', 'wrapped', 'in', 'a', 'piece', 'of', 'red', 'calico', ',', 'huddled', 'into', 'a', 'shapeless', 'heap', ',', 'slept', 'a', 'Malay', ',', 'one', 'of', 'Almayer', \"'s\", 'domestic', 'slaves', '--', \"''\", 'my', 'own', 'people', ',', \"''\", 'he', 'used', 'to', 'call', 'them', '.', 'A', 'numerous', 'and', 'representative', 'assembly', 'of', 'moths', 'were', 'holding', 'high', 'revels', 'round', 'the', 'lamp', 'to', 'the', 'spirited', 'music', 'of', 'swarming', 'mosquitoes', '.', 'Under', 'the', 'palm-leaf', 'thatch', 'lizards', 'raced', 'on', 'the', 'beams', 'calling', 'softly', '.', 'A', 'monkey', ',', 'chained', 'to', 'one', 'of', 'the', 'verandah', 'supports', '--', 'retired', 'for', 'the', 'night', 'under', 'the', 'eaves', '--', 'peered', 'and', 'grinned', 'at', 'Almayer', ',', 'as', 'it', 'swung', 'to', 'one', 'of', 'the', 'bamboo', 'roof', 'sticks', 'and', 'caused', 'a', 'shower', 'of', 'dust', 'and', 'bits', 'of', 'dried', 'leaves', 'to', 'settle', 'on', 'the', 'shabby', 'table', '.', 'The', 'floor', 'was', 'uneven', ',', 'with', 'many', 'withered', 'plants', 'and', 'dried', 'earth', 'scattered', 'about', '.', 'A', 'general', 'air', 'of', 'squalid', 'neglect', 'pervaded', 'the', 'place', '.', 'Great', 'red', 'stains', 'on', 'the', 'floor', 'and', 'walls', 'testified', 'to', 'frequent', 'and', 'indiscriminate', 'betel-nut', 'chewing', '.', 'The', 'light', 'breeze', 'from', 'the', 'river', 'swayed', 'gently', 'the', 'tattered', 'blinds', ',', 'sending', 'from', 'the', 'woods', 'opposite', 'a', 'faint', 'and', 'sickly', 'perfume', 'as', 'of', 'decaying', 'flowers', '.', 'Under', 'Almayer', \"'s\", 'heavy', 'tread', 'the', 'boards', 'of', 'the', 'verandah', 'creaked', 'loudly', '.', 'The', 'sleeper', 'in', 'the', 'corner', 'moved', 'uneasily', ',', 'muttering', 'indistinct', 'words', '.', 'There', 'was', 'a', 'slight', 'rustle', 'behind', 'the', 'curtained', 'doorway', ',', 'and', 'a', 'soft', 'voice', 'asked', 'in', 'Malay', ',', '``', 'Is', 'it', 'you', ',', 'father', '?', \"''\", '``', 'Yes', ',', 'Nina', '.', 'I', 'am', 'hungry', '.', 'Is', 'everybody', 'asleep', 'in', 'this', 'house', '?', \"''\", 'Almayer', 'spoke', 'jovially', 'and', 'dropped', 'with', 'a', 'contented', 'sigh', 'into', 'the', 'armchair', 'nearest', 'to', 'the', 'table', '.', 'Nina', 'Almayer', 'came', 'through', 'the', 'curtained', 'doorway', 'followed', 'by', 'an', 'old', 'Malay', 'woman', ',', 'who', 'busied', 'herself', 'in', 'setting', 'upon', 'the', 'table', 'a', 'plateful', 'of', 'rice', 'and', 'fish', ',', 'a', 'jar', 'of', 'water', ',', 'and', 'a', 'bottle', 'half', 'full', 'of', 'genever', '.', 'After', 'carefully', 'placing', 'before', 'her', 'master', 'a', 'cracked', 'glass', 'tumbler', 'and', 'a', 'tin', 'spoon', 'she', 'went', 'away', 'noiselessly', '.', 'Nina', 'stood', 'by', 'the', 'table', ',', 'one', 'hand', 'lightly', 'resting', 'on', 'its', 'edge', ',', 'the', 'other', 'hanging', 'listlessly', 'by', 'her', 'side', '.', 'Her', 'face', 'turned', 'towards', 'the', 'outer', 'darkness', ',', 'through', 'which', 'her', 'dreamy', 'eyes', 'seemed', 'to', 'see', 'some', 'entrancing', 'picture', ',', 'wore', 'a', 'look', 'of', 'impatient', 'expectancy', '.', 'She', 'was', 'tall', 'for', 'a', 'half-', 'caste', ',', 'with', 'the', 'correct', 'profile', 'of', 'the', 'father', ',', 'modified', 'and', 'strengthened', 'by', 'the', 'squareness', 'of', 'the', 'lower', 'part', 'of', 'the', 'face', 'inherited', 'from', 'her', 'maternal', 'ancestors', '--', 'the', 'Sulu', 'pirates', '.', 'Her', 'firm', 'mouth', ',', 'with', 'the', 'lips', 'slightly', 'parted', 'and', 'disclosing', 'a', 'gleam', 'of', 'white', 'teeth', ',', 'put', 'a', 'vague', 'suggestion', 'of', 'ferocity', 'into', 'the', 'impatient', 'expression', 'of', 'her', 'features', '.', 'And', 'yet', 'her', 'dark', 'and', 'perfect', 'eyes', 'had', 'all', 'the', 'tender', 'softness', 'of', 'expression', 'common', 'to', 'Malay', 'women', ',', 'but', 'with', 'a', 'gleam', 'of', 'superior', 'intelligence', ';', 'they', 'looked', 'gravely', ',', 'wide', 'open', 'and', 'steady', ',', 'as', 'if', 'facing', 'something', 'invisible', 'to', 'all', 'other', 'eyes', ',', 'while', 'she', 'stood', 'there', 'all', 'in', 'white', ',', 'straight', ',', 'flexible', ',', 'graceful', ',', 'unconscious', 'of', 'herself', ',', 'her', 'low', 'but', 'broad', 'forehead', 'crowned', 'with', 'a', 'shining', 'mass', 'of', 'long', 'black', 'hair', 'that', 'fell', 'in', 'heavy', 'tresses', 'over', 'her', 'shoulders', ',', 'and', 'made', 'her', 'pale', 'olive', 'complexion', 'look', 'paler', 'still', 'by', 'the', 'contrast', 'of', 'its', 'coal-black', 'hue', '.', 'Almayer', 'attacked', 'his', 'rice', 'greedily', ',', 'but', 'after', 'a', 'few', 'mouthfuls', 'he', 'paused', ',', 'spoon', 'in', 'hand', ',', 'and', 'looked', 'at', 'his', 'daughter', 'curiously', '.', '``', 'Did', 'you', 'hear', 'a', 'boat', 'pass', 'about', 'half', 'an', 'hour', 'ago', 'Nina', '?', \"''\", 'he', 'asked', '.', 'The', 'girl', 'gave', 'him', 'a', 'quick', 'glance', ',', 'and', 'moving', 'away', 'from', 'the', 'light', 'stood', 'with', 'her', 'back', 'to', 'the', 'table', '.', '``', 'No', ',', \"''\", 'she', 'said', ',', 'slowly', '.', '``', 'There', 'was', 'a', 'boat', '.', 'At', 'last', '!', 'Dain', 'himself', ';', 'and', 'he', 'went', 'on', 'to', 'Lakamba', '.', 'I', 'know', 'it', ',', 'for', 'he', 'told', 'me', 'so', '.', 'I', 'spoke', 'to', 'him', ',', 'but', 'he', 'would', 'not', 'come', 'here', 'to-night', '.', 'Will', 'come', 'to-morrow', ',', 'he', 'said', '.', \"''\", 'He', 'swallowed', 'another', 'spoonful', ',', 'then', 'said', '--', \"''\", 'I', 'am', 'almost', 'happy', 'to-night', ',', 'Nina', '.', 'I', 'can', 'see', 'the', 'end', 'of', 'a', 'long', 'road', ',', 'and', 'it', 'leads', 'us', 'away', 'from', 'this', 'miserable', 'swamp', '.', 'We', 'shall', 'soon', 'get', 'away', 'from', 'here', ',', 'I', 'and', 'you', ',', 'my', 'dear', 'little', 'girl', ',', 'and', 'then', '--', \"''\", 'He', 'rose', 'from', 'the', 'table', 'and', 'stood', 'looking', 'fixedly', 'before', 'him', 'as', 'if', 'contemplating', 'some', 'enchanting', 'vision', '.', '``', 'And', 'then', ',', \"''\", 'he', 'went', 'on', ',', '``', 'we', 'shall', 'be', 'happy', ',', 'you', 'and', 'I', '.', 'Live', 'rich', 'and', 'respected', 'far', 'from', 'here', ',', 'and', 'forget', 'this', 'life', ',', 'and', 'all', 'this', 'struggle', ',', 'and', 'all', 'this', 'misery', '!', \"''\", 'He', 'approached', 'his', 'daughter', 'and', 'passed', 'his', 'hand', 'caressingly', 'over', 'her', 'hair', '.', '``', 'It', 'is', 'bad', 'to', 'have', 'to', 'trust', 'a', 'Malay', ',', \"''\", 'he', 'said', ',', '``', 'but', 'I', 'must', 'own', 'that', 'this', 'Dain', 'is', 'a', 'perfect', 'gentleman', '--', 'a', 'perfect', 'gentleman', ',', \"''\", 'he', 'repeated', '.', '``', 'Did', 'you', 'ask', 'him', 'to', 'come', 'here', ',', 'father', '?', \"''\", 'inquired', 'Nina', ',', 'not', 'looking', 'at', 'him', '.', '``', 'Well', ',', 'of', 'course', '.', 'We', 'shall', 'start', 'on', 'the', 'day', 'after', 'to-morrow', ',', \"''\", 'said', 'Almayer', ',', 'joyously', '.', '``', 'We', 'must', 'not', 'lose', 'any', 'time', '.', 'Are', 'you', 'glad', ',', 'little', 'girl', '?', \"''\", 'She', 'was', 'nearly', 'as', 'tall', 'as', 'himself', ',', 'but', 'he', 'liked', 'to', 'recall', 'the', 'time', 'when', 'she', 'was', 'little', 'and', 'they', 'were', 'all', 'in', 'all', 'to', 'each', 'other', '.', '``', 'I', 'am', 'glad', ',', \"''\", 'she', 'said', ',', 'very', 'low', '.', '``', 'Of', 'course', ',', \"''\", 'said', 'Almayer', ',', 'vivaciously', ',', '``', 'you', 'can', 'not', 'imagine', 'what', 'is', 'before', 'you', '.', 'I', 'myself', 'have', 'not', 'been', 'to', 'Europe', ',', 'but', 'I', 'have', 'heard', 'my', 'mother', 'talk', 'so', 'often', 'that', 'I', 'seem', 'to', 'know', 'all', 'about', 'it', '.', 'We', 'shall', 'live', 'a', '--', 'a', 'glorious', 'life', '.', 'You', 'shall', 'see', '.', \"''\", 'Again', 'he', 'stood', 'silent', 'by', 'his', 'daughter', \"'s\", 'side', 'looking', 'at', 'that', 'enchanting', 'vision', '.', 'After', 'a', 'while', 'he', 'shook', 'his', 'clenched', 'hand', 'towards', 'the', 'sleeping', 'settlement', '.', '``', 'Ah', '!', 'my', 'friend', 'Abdulla', ',', \"''\", 'he', 'cried', ',', '``', 'we', 'shall', 'see', 'who', 'will', 'have', 'the', 'best', 'of', 'it', 'after', 'all', 'these', 'years', '!', \"''\", 'He', 'looked', 'up', 'the', 'river', 'and', 'remarked', 'calmly', ':', \"''\", 'Another', 'thunderstorm', '.', 'Well', '!', 'No', 'thunder', 'will', 'keep', 'me', 'awake', 'to-night', ',', 'I', 'know', '!', 'Good-night', ',', 'little', 'girl', ',', \"''\", 'he', 'whispered', ',', 'tenderly', 'kissing', 'her', 'cheek', '.', '``', 'You', 'do', 'not', 'seem', 'to', 'be', 'very', 'happy', 'to-night', ',', 'but', 'to-morrow', 'you', 'will', 'show', 'a', 'brighter', 'face', '.', 'Eh', '?', \"''\", 'Nina', 'had', 'listened', 'to', 'her', 'father', 'with', 'her', 'face', 'unmoved', ',', 'with', 'her', 'half-closed', 'eyes', 'still', 'gazing', 'into', 'the', 'night', 'now', 'made', 'more', 'intense', 'by', 'a', 'heavy', 'thunder-cloud', 'that', 'had', 'crept', 'down', 'from', 'the', 'hills', 'blotting', 'out', 'the', 'stars', ',', 'merging', 'sky', ',', 'forest', ',', 'and', 'river', 'into', 'one', 'mass', 'of', 'almost', 'palpable', 'blackness', '.', 'The', 'faint', 'breeze', 'had', 'died', 'out', ',', 'but', 'the', 'distant', 'rumble', 'of', 'thunder', 'and', 'pale', 'flashes', 'of', 'lightning', 'gave', 'warning', 'of', 'the', 'approaching', 'storm', '.', 'With', 'a', 'sigh', 'the', 'girl', 'turned', 'towards', 'the', 'table', '.', 'Almayer', 'was', 'in', 'his', 'hammock', 'now', ',', 'already', 'half', 'asleep', '.', '``', 'Take', 'the', 'lamp', ',', 'Nina', ',', \"''\", 'he', 'muttered', ',', 'drowsily', '.', '``', 'This', 'place', 'is', 'full', 'of', 'mosquitoes', '.', 'Go', 'to', 'sleep', ',', 'daughter', '.', \"''\", 'But', 'Nina', 'put', 'the', 'lamp', 'out', 'and', 'turned', 'back', 'again', 'towards', 'the', 'balustrade', 'of', 'the', 'verandah', ',', 'standing', 'with', 'her', 'arm', 'round', 'the', 'wooden', 'support', 'and', 'looking', 'eagerly', 'towards', 'the', 'Pantai', 'reach', '.', 'And', 'motionless', 'there', 'in', 'the', 'oppressive', 'calm', 'of', 'the', 'tropical', 'night', 'she', 'could', 'see', 'at', 'each', 'flash', 'of', 'lightning', 'the', 'forest', 'lining', 'both', 'banks', 'up', 'the', 'river', ',', 'bending', 'before', 'the', 'furious', 'blast', 'of', 'the', 'coming', 'tempest', ',', 'the', 'upper', 'reach', 'of', 'the', 'river', 'whipped', 'into', 'white', 'foam', 'by', 'the', 'wind', ',', 'and', 'the', 'black', 'clouds', 'torn', 'into', 'fantastic', 'shapes', 'trailing', 'low', 'over', 'the', 'swaying', 'trees', '.', 'Round', 'her', 'all', 'was', 'as', 'yet', 'stillness', 'and', 'peace', ',', 'but', 'she', 'could', 'hear', 'afar', 'off', 'the', 'roar', 'of', 'the', 'wind', ',', 'the', 'hiss', 'of', 'heavy', 'rain', ',', 'the', 'wash', 'of', 'the', 'waves', 'on', 'the', 'tormented', 'river', '.', 'It', 'came', 'nearer', 'and', 'nearer', ',', 'with', 'loud', 'thunder-claps', 'and', 'long', 'flashes', 'of', 'vivid', 'lightning', ',', 'followed', 'by', 'short', 'periods', 'of', 'appalling', 'blackness', '.', 'When', 'the', 'storm', 'reached', 'the', 'low', 'point', 'dividing', 'the', 'river', ',', 'the', 'house', 'shook', 'in', 'the', 'wind', ',', 'and', 'the', 'rain', 'pattered', 'loudly', 'on', 'the', 'palm-leaf', 'roof', ',', 'the', 'thunder', 'spoke', 'in', 'one', 'prolonged', 'roll', ',', 'and', 'the', 'incessant', 'lightning', 'disclosed', 'a', 'turmoil', 'of', 'leaping', 'waters', ',', 'driving', 'logs', ',', 'and', 'the', 'big', 'trees', 'bending', 'before', 'a', 'brutal', 'and', 'merciless', 'force', '.', 'Undisturbed', 'by', 'the', 'nightly', 'event', 'of', 'the', 'rainy', 'monsoon', ',', 'the', 'father', 'slept', 'quietly', ',', 'oblivious', 'alike', 'of', 'his', 'hopes', ',', 'his', 'misfortunes', ',', 'his', 'friends', ',', 'and', 'his', 'enemies', ';', 'and', 'the', 'daughter', 'stood', 'motionless', ',', 'at', 'each', 'flash', 'of', 'lightning', 'eagerly', 'scanning', 'the', 'broad', 'river', 'with', 'a', 'steady', 'and', 'anxious', 'gaze', '.', 'CHAPTER', 'II', '.', 'When', ',', 'in', 'compliance', 'with', 'Lingard', \"'s\", 'abrupt', 'demand', ',', 'Almayer', 'consented', 'to', 'wed', 'the', 'Malay', 'girl', ',', 'no', 'one', 'knew', 'that', 'on', 'the', 'day', 'when', 'the', 'interesting', 'young', 'convert', 'had', 'lost', 'all', 'her', 'natural', 'relations', 'and', 'found', 'a', 'white', 'father', ',', 'she', 'had', 'been', 'fighting', 'desperately', 'like', 'the', 'rest', 'of', 'them', 'on', 'board', 'the', 'prau', ',', 'and', 'was', 'only', 'prevented', 'from', 'leaping', 'overboard', ',', 'like', 'the', 'few', 'other', 'survivors', ',', 'by', 'a', 'severe', 'wound', 'in', 'the', 'leg', '.', 'There', ',', 'on', 'the', 'fore-deck', 'of', 'the', 'prau', ',', 'old', 'Lingard', 'found', 'her', 'under', 'a', 'heap', 'of', 'dead', 'and', 'dying', 'pirates', ',', 'and', 'had', 'her', 'carried', 'on', 'the', 'poop', 'of', 'the', '_Flash_', 'before', 'the', 'Malay', 'craft', 'was', 'set', 'on', 'fire', 'and', 'sent', 'adrift', '.', 'She', 'was', 'conscious', ',', 'and', 'in', 'the', 'great', 'peace', 'and', 'stillness', 'of', 'the', 'tropical', 'evening', 'succeeding', 'the', 'turmoil', 'of', 'the', 'battle', ',', 'she', 'watched', 'all', 'she', 'held', 'dear', 'on', 'earth', 'after', 'her', 'own', 'savage', 'manner', ',', 'drift', 'away', 'into', 'the', 'gloom', 'in', 'a', 'great', 'roar', 'of', 'flame', 'and', 'smoke', '.', 'She', 'lay', 'there', 'unheeding', 'the', 'careful', 'hands', 'attending', 'to', 'her', 'wound', ',', 'silent', 'and', 'absorbed', 'in', 'gazing', 'at', 'the', 'funeral', 'pile', 'of', 'those', 'brave', 'men', 'she', 'had', 'so', 'much', 'admired', 'and', 'so', 'well', 'helped', 'in', 'their', 'contest', 'with', 'the', 'redoubtable', '``', 'Rajah-Laut', '.', \"''\", '*', '*', '*', '*', '*', 'The', 'light', 'night', 'breeze', 'fanned', 'the', 'brig', 'gently', 'to', 'the', 'southward', ',', 'and', 'the', 'great', 'blaze', 'of', 'light', 'got', 'smaller', 'and', 'smaller', 'till', 'it', 'twinkled', 'only', 'on', 'the', 'horizon', 'like', 'a', 'setting', 'star', '.', 'It', 'set', ':', 'the', 'heavy', 'canopy', 'of', 'smoke', 'reflected', 'the', 'glare', 'of', 'hidden', 'flames', 'for', 'a', 'short', 'time', 'and', 'then', 'disappeared', 'also', '.', 'She', 'realised', 'that', 'with', 'this', 'vanishing', 'gleam', 'her', 'old', 'life', 'departed', 'too', '.', 'Thenceforth', 'there', 'was', 'slavery', 'in', 'the', 'far', 'countries', ',', 'amongst', 'strangers', ',', 'in', 'unknown', 'and', 'perhaps', 'terrible', 'surroundings', '.', 'Being', 'fourteen', 'years', 'old', ',', 'she', 'realised', 'her', 'position', 'and', 'came', 'to', 'that', 'conclusion', ',', 'the', 'only', 'one', 'possible', 'to', 'a', 'Malay', 'girl', ',', 'soon', 'ripened', 'under', 'a', 'tropical', 'sun', ',', 'and', 'not', 'unaware', 'of', 'her', 'personal', 'charms', ',', 'of', 'which', 'she', 'heard', 'many', 'a', 'young', 'brave', 'warrior', 'of', 'her', 'father', \"'s\", 'crew', 'express', 'an', 'appreciative', 'admiration', '.', 'There', 'was', 'in', 'her', 'the', 'dread', 'of', 'the', 'unknown', ';', 'otherwise', 'she', 'accepted', 'her', 'position', 'calmly', ',', 'after', 'the', 'manner', 'of', 'her', 'people', ',', 'and', 'even', 'considered', 'it', 'quite', 'natural', ';', 'for', 'was', 'she', 'not', 'a', 'daughter', 'of', 'warriors', ',', 'conquered', 'in', 'battle', ',', 'and', 'did', 'she', 'not', 'belong', 'rightfully', 'to', 'the', 'victorious', 'Rajah', '?', 'Even', 'the', 'evident', 'kindness', 'of', 'the', 'terrible', 'old', 'man', 'must', 'spring', ',', 'she', 'thought', ',', 'from', 'admiration', 'for', 'his', 'captive', ',', 'and', 'the', 'flattered', 'vanity', 'eased', 'for', 'her', 'the', 'pangs', 'of', 'sorrow', 'after', 'such', 'an', 'awful', 'calamity', '.', 'Perhaps', 'had', 'she', 'known', 'of', 'the', 'high', 'walls', ',', 'the', 'quiet', 'gardens', ',', 'and', 'the', 'silent', 'nuns', 'of', 'the', 'Samarang', 'convent', ',', 'where', 'her', 'destiny', 'was', 'leading', 'her', ',', 'she', 'would', 'have', 'sought', 'death', 'in', 'her', 'dread', 'and', 'hate', 'of', 'such', 'a', 'restraint', '.', 'But', 'in', 'imagination', 'she', 'pictured', 'to', 'herself', 'the', 'usual', 'life', 'of', 'a', 'Malay', 'girl', '--', 'the', 'usual', 'succession', 'of', 'heavy', 'work', 'and', 'fierce', 'love', ',', 'of', 'intrigues', ',', 'gold', 'ornaments', ',', 'of', 'domestic', 'drudgery', ',', 'and', 'of', 'that', 'great', 'but', 'occult', 'influence', 'which', 'is', 'one', 'of', 'the', 'few', 'rights', 'of', 'half-savage', 'womankind', '.', 'But', 'her', 'destiny', 'in', 'the', 'rough', 'hands', 'of', 'the', 'old', 'sea-dog', ',', 'acting', 'under', 'unreasoning', 'impulses', 'of', 'the', 'heart', ',', 'took', 'a', 'strange', 'and', 'to', 'her', 'a', 'terrible', 'shape', '.', 'She', 'bore', 'it', 'all', '--', 'the', 'restraint', 'and', 'the', 'teaching', 'and', 'the', 'new', 'faith', '--', 'with', 'calm', 'submission', ',', 'concealing', 'her', 'hate', 'and', 'contempt', 'for', 'all', 'that', 'new', 'life', '.', 'She', 'learned', 'the', 'language', 'very', 'easily', ',', 'yet', 'understood', 'but', 'little', 'of', 'the', 'new', 'faith', 'the', 'good', 'sisters', 'taught', 'her', ',', 'assimilating', 'quickly', 'only', 'the', 'superstitious', 'elements', 'of', 'the', 'religion', '.', 'She', 'called', 'Lingard', 'father', ',', 'gently', 'and', 'caressingly', ',', 'at', 'each', 'of', 'his', 'short', 'and', 'noisy', 'visits', ',', 'under', 'the', 'clear', 'impression', 'that', 'he', 'was', 'a', 'great', 'and', 'dangerous', 'power', 'it', 'was', 'good', 'to', 'propitiate', '.', 'Was', 'he', 'not', 'now', 'her', 'master', '?', 'And', 'during', 'those', 'long', 'four', 'years', 'she', 'nourished', 'a', 'hope', 'of', 'finding', 'favour', 'in', 'his', 'eyes', 'and', 'ultimately', 'becoming', 'his', 'wife', ',', 'counsellor', ',', 'and', 'guide', '.', 'Those', 'dreams', 'of', 'the', 'future', 'were', 'dispelled', 'by', 'the', 'Rajah', 'Laut', \"'s\", '``', 'fiat', ',', \"''\", 'which', 'made', 'Almayer', \"'s\", 'fortune', ',', 'as', 'that', 'young', 'man', 'fondly', 'hoped', '.', 'And', 'dressed', 'in', 'the', 'hateful', 'finery', 'of', 'Europe', ',', 'the', 'centre', 'of', 'an', 'interested', 'circle', 'of', 'Batavian', 'society', ',', 'the', 'young', 'convert', 'stood', 'before', 'the', 'altar', 'with', 'an', 'unknown', 'and', 'sulky-looking', 'white', 'man', '.', 'For', 'Almayer', 'was', 'uneasy', ',', 'a', 'little', 'disgusted', ',', 'and', 'greatly', 'inclined', 'to', 'run', 'away', '.', 'A', 'judicious', 'fear', 'of', 'the', 'adopted', 'father-in-law', 'and', 'a', 'just', 'regard', 'for', 'his', 'own', 'material', 'welfare', 'prevented', 'him', 'from', 'making', 'a', 'scandal', ';', 'yet', ',', 'while', 'swearing', 'fidelity', ',', 'he', 'was', 'concocting', 'plans', 'for', 'getting', 'rid', 'of', 'the', 'pretty', 'Malay', 'girl', 'in', 'a', 'more', 'or', 'less', 'distant', 'future', '.', 'She', ',', 'however', ',', 'had', 'retained', 'enough', 'of', 'conventual', 'teaching', 'to', 'understand', 'well', 'that', 'according', 'to', 'white', 'men', \"'s\", 'laws', 'she', 'was', 'going', 'to', 'be', 'Almayer', \"'s\", 'companion', 'and', 'not', 'his', 'slave', ',', 'and', 'promised', 'to', 'herself', 'to', 'act', 'accordingly', '.', 'So', 'when', 'the', '_Flash_', 'freighted', 'with', 'materials', 'for', 'building', 'a', 'new', 'house', 'left', 'the', 'harbour', 'of', 'Batavia', ',', 'taking', 'away', 'the', 'young', 'couple', 'into', 'the', 'unknown', 'Borneo', ',', 'she', 'did', 'not', 'carry', 'on', 'her', 'deck', 'so', 'much', 'love', 'and', 'happiness', 'as', 'old', 'Lingard', 'was', 'wont', 'to', 'boast', 'of', 'before', 'his', 'casual', 'friends', 'in', 'the', 'verandahs', 'of', 'various', 'hotels', '.', 'The', 'old', 'seaman', 'himself', 'was', 'perfectly', 'happy', '.', 'Now', 'he', 'had', 'done', 'his', 'duty', 'by', 'the', 'girl', '.', '``', 'You', 'know', 'I', 'made', 'her', 'an', 'orphan', ',', \"''\", 'he', 'often', 'concluded', 'solemnly', ',', 'when', 'talking', 'about', 'his', 'own', 'affairs', 'to', 'a', 'scratch', 'audience', 'of', 'shore', 'loafers', '--', 'as', 'it', 'was', 'his', 'habit', 'to', 'do', '.', 'And', 'the', 'approbative', 'shouts', 'of', 'his', 'half-intoxicated', 'auditors', 'filled', 'his', 'simple', 'soul', 'with', 'delight', 'and', 'pride', '.', '``', 'I', 'carry', 'everything', 'right', 'through', ',', \"''\", 'was', 'another', 'of', 'his', 'sayings', ',', 'and', 'in', 'pursuance', 'of', 'that', 'principle', 'he', 'pushed', 'the', 'building', 'of', 'house', 'and', 'godowns', 'on', 'the', 'Pantai', 'River', 'with', 'feverish', 'haste', '.', 'The', 'house', 'for', 'the', 'young', 'couple', ';', 'the', 'godowns', 'for', 'the', 'big', 'trade', 'Almayer', 'was', 'going', 'to', 'develop', 'while', 'he', '(', 'Lingard', ')', 'would', 'be', 'able', 'to', 'give', 'himself', 'up', 'to', 'some', 'mysterious', 'work', 'which', 'was', 'only', 'spoken', 'of', 'in', 'hints', ',', 'but', 'was', 'understood', 'to', 'relate', 'to', 'gold', 'and', 'diamonds', 'in', 'the', 'interior', 'of', 'the', 'island', '.', 'Almayer', 'was', 'impatient', 'too', '.', 'Had', 'he', 'known', 'what', 'was', 'before', 'him', 'he', 'might', 'not', 'have', 'been', 'so', 'eager', 'and', 'full', 'of', 'hope', 'as', 'he', 'stood', 'watching', 'the', 'last', 'canoe', 'of', 'the', 'Lingard', 'expedition', 'disappear', 'in', 'the', 'bend', 'up', 'the', 'river', '.', 'When', ',', 'turning', 'round', ',', 'he', 'beheld', 'the', 'pretty', 'little', 'house', ',', 'the', 'big', 'godowns', 'built', 'neatly', 'by', 'an', 'army', 'of', 'Chinese', 'carpenters', ',', 'the', 'new', 'jetty', 'round', 'which', 'were', 'clustered', 'the', 'trading', 'canoes', ',', 'he', 'felt', 'a', 'sudden', 'elation', 'in', 'the', 'thought', 'that', 'the', 'world', 'was', 'his', '.', 'But', 'the', 'world', 'had', 'to', 'be', 'conquered', 'first', ',', 'and', 'its', 'conquest', 'was', 'not', 'so', 'easy', 'as', 'he', 'thought', '.', 'He', 'was', 'very', 'soon', 'made', 'to', 'understand', 'that', 'he', 'was', 'not', 'wanted', 'in', 'that', 'corner', 'of', 'it', 'where', 'old', 'Lingard', 'and', 'his', 'own', 'weak', 'will', 'placed', 'him', ',', 'in', 'the', 'midst', 'of', 'unscrupulous', 'intrigues', 'and', 'of', 'a', 'fierce', 'trade', 'competition', '.', 'The', 'Arabs', 'had', 'found', 'out', 'the', 'river', ',', 'had', 'established', 'a', 'trading', 'post', 'in', 'Sambir', ',', 'and', 'where', 'they', 'traded', 'they', 'would', 'be', 'masters', 'and', 'suffer', 'no', 'rival', '.', 'Lingard', 'returned', 'unsuccessful', 'from', 'his', 'first', 'expedition', ',', 'and', 'departed', 'again', 'spending', 'all', 'the', 'profits', 'of', 'the', 'legitimate', 'trade', 'on', 'his', 'mysterious', 'journeys', '.', 'Almayer', 'struggled', 'with', 'the', 'difficulties', 'of', 'his', 'position', ',', 'friendless', 'and', 'unaided', ',', 'save', 'for', 'the', 'protection', 'given', 'to', 'him', 'for', 'Lingard', \"'s\", 'sake', 'by', 'the', 'old', 'Rajah', ',', 'the', 'predecessor', 'of', 'Lakamba', '.', 'Lakamba', 'himself', ',', 'then', 'living', 'as', 'a', 'private', 'individual', 'on', 'a', 'rice', 'clearing', ',', 'seven', 'miles', 'down', 'the', 'river', ',', 'exercised', 'all', 'his', 'influence', 'towards', 'the', 'help', 'of', 'the', 'white', 'man', \"'s\", 'enemies', ',', 'plotting', 'against', 'the', 'old', 'Rajah', 'and', 'Almayer', 'with', 'a', 'certainty', 'of', 'combination', ',', 'pointing', 'clearly', 'to', 'a', 'profound', 'knowledge', 'of', 'their', 'most', 'secret', 'affairs', '.', 'Outwardly', 'friendly', ',', 'his', 'portly', 'form', 'was', 'often', 'to', 'be', 'seen', 'on', \"Almayer's\", 'verandah', ';', 'his', 'green', 'turban', 'and', 'gold-embroidered', 'jacket', 'shone', 'in', 'the', 'front', 'rank', 'of', 'the', 'decorous', 'throng', 'of', 'Malays', 'coming', 'to', 'greet', 'Lingard', 'on', 'his', 'returns', 'from', 'the', 'interior', ';', 'his', 'salaams', 'were', 'of', 'the', 'lowest', ',', 'and', 'his', 'hand-', 'shakings', 'of', 'the', 'heartiest', ',', 'when', 'welcoming', 'the', 'old', 'trader', '.', 'But', 'his', 'small', 'eyes', 'took', 'in', 'the', 'signs', 'of', 'the', 'times', ',', 'and', 'he', 'departed', 'from', 'those', 'interviews', 'with', 'a', 'satisfied', 'and', 'furtive', 'smile', 'to', 'hold', 'long', 'consultations', 'with', 'his', 'friend', 'and', 'ally', ',', 'Syed', 'Abdulla', ',', 'the', 'chief', 'of', 'the', 'Arab', 'trading', 'post', ',', 'a', 'man', 'of', 'great', 'wealth', 'and', 'of', 'great', 'influence', 'in', 'the', 'islands', '.', 'It', 'was', 'currently', 'believed', 'at', 'that', 'time', 'in', 'the', 'settlement', 'that', \"Lakamba's\", 'visits', 'to', 'Almayer', \"'s\", 'house', 'were', 'not', 'limited', 'to', 'those', 'official', 'interviews', '.', 'Often', 'on', 'moonlight', 'nights', 'the', 'belated', 'fishermen', 'of', 'Sambira', 'saw', 'a', 'small', 'canoe', 'shooting', 'out', 'from', 'the', 'narrow', 'creek', 'at', 'the', 'back', 'of', 'the', 'white', \"man's\", 'house', ',', 'and', 'the', 'solitary', 'occupant', 'paddle', 'cautiously', 'down', 'the', 'river', 'in', 'the', 'deep', 'shadows', 'of', 'the', 'bank', ';', 'and', 'those', 'events', ',', 'duly', 'reported', ',', 'were', 'discussed', 'round', 'the', 'evening', 'fires', 'far', 'into', 'the', 'night', 'with', 'the', 'cynicism', 'of', 'expression', 'common', 'to', 'aristocratic', 'Malays', ',', 'and', 'with', 'a', 'malicious', 'pleasure', 'in', 'the', 'domestic', 'misfortunes', 'of', 'the', 'Orang', 'Blando', '--', 'the', 'hated', 'Dutchman', '.', 'Almayer', 'went', 'on', 'struggling', 'desperately', ',', 'but', 'with', 'a', 'feebleness', 'of', 'purpose', 'depriving', 'him', 'of', 'all', 'chance', 'of', 'success', 'against', 'men', 'so', 'unscrupulous', 'and', 'resolute', 'as', 'his', 'rivals', 'the', 'Arabs', '.', 'The', 'trade', 'fell', 'away', 'from', 'the', 'large', 'godowns', ',', 'and', 'the', 'godowns', 'themselves', 'rotted', 'piecemeal', '.', 'The', 'old', \"man's\", 'banker', ',', 'Hudig', 'of', 'Macassar', ',', 'failed', ',', 'and', 'with', 'this', 'went', 'the', 'whole', 'available', 'capital', '.', 'The', 'profits', 'of', 'past', 'years', 'had', 'been', 'swallowed', 'up', 'in', \"Lingard's\", 'exploring', 'craze', '.', 'Lingard', 'was', 'in', 'the', 'interior', '--', 'perhaps', 'dead', '--', 'at', 'all', 'events', 'giving', 'no', 'sign', 'of', 'life', '.', 'Almayer', 'stood', 'alone', 'in', 'the', 'midst', 'of', 'those', 'adverse', 'circumstances', ',', 'deriving', 'only', 'a', 'little', 'comfort', 'from', 'the', 'companionship', 'of', 'his', 'little', 'daughter', ',', 'born', 'two', 'years', 'after', 'the', 'marriage', ',', 'and', 'at', 'the', 'time', 'some', 'six', 'years', 'old', '.', 'His', 'wife', 'had', 'soon', 'commenced', 'to', 'treat', 'him', 'with', 'a', 'savage', 'contempt', 'expressed', 'by', 'sulky', 'silence', ',', 'only', 'occasionally', 'varied', 'by', 'a', 'flood', 'of', 'savage', 'invective', '.', 'He', 'felt', 'she', 'hated', 'him', ',', 'and', 'saw', 'her', 'jealous', 'eyes', 'watching', 'himself', 'and', 'the', 'child', 'with', 'almost', 'an', 'expression', 'of', 'hate', '.', 'She', 'was', 'jealous', 'of', 'the', 'little', 'girl', \"'s\", 'evident', 'preference', 'for', 'the', 'father', ',', 'and', 'Almayer', 'felt', 'he', 'was', 'not', 'safe', 'with', 'that', 'woman', 'in', 'the', 'house', '.', 'While', 'she', 'was', 'burning', 'the', 'furniture', ',', 'and', 'tearing', 'down', 'the', 'pretty', 'curtains', 'in', 'her', 'unreasoning', 'hate', 'of', 'those', 'signs', 'of', 'civilisation', ',', 'Almayer', ',', 'cowed', 'by', 'these', 'outbursts', 'of', 'savage', 'nature', ',', 'meditated', 'in', 'silence', 'on', 'the', 'best', 'way', 'of', 'getting', 'rid', 'of', 'her', '.', 'He', 'thought', 'of', 'everything', ';', 'even', 'planned', 'murder', 'in', 'an', 'undecided', 'and', 'feeble', 'sort', 'of', 'way', ',', 'but', 'dared', 'do', 'nothing', '--', 'expecting', 'every', 'day', 'the', 'return', 'of', 'Lingard', 'with', 'news', 'of', 'some', 'immense', 'good', 'fortune', '.', 'He', 'returned', 'indeed', ',', 'but', 'aged', ',', 'ill', ',', 'a', 'ghost', 'of', 'his', 'former', 'self', ',', 'with', 'the', 'fire', 'of', 'fever', 'burning', 'in', 'his', 'sunken', 'eyes', ',', 'almost', 'the', 'only', 'survivor', 'of', 'the', 'numerous', 'expedition', '.', 'But', 'he', 'was', 'successful', 'at', 'last', '!', 'Untold', 'riches', 'were', 'in', 'his', 'grasp', ';', 'he', 'wanted', 'more', 'money', '--', 'only', 'a', 'little', 'more', 'torealise', 'a', 'dream', 'of', 'fabulous', 'fortune', '.', 'And', 'Hudig', 'had', 'failed', '!', 'Almayer', 'scraped', 'all', 'he', 'could', 'together', ',', 'but', 'the', 'old', 'man', 'wanted', 'more', '.', 'If', 'Almayer', 'could', 'not', 'get', 'it', 'he', 'would', 'go', 'to', 'Singapore', '--', 'to', 'Europe', 'even', ',', 'but', 'before', 'all', 'to', 'Singapore', ';', 'and', 'he', 'would', 'take', 'the', 'little', 'Nina', 'with', 'him', '.', 'The', 'child', 'must', 'be', 'brought', 'up', 'decently', '.', 'He', 'had', 'good', 'friends', 'in', 'Singapore', 'who', 'would', 'take', 'care', 'of', 'her', 'and', 'have', 'her', 'taught', 'properly', '.', 'All', 'would', 'be', 'well', ',', 'and', 'that', 'girl', ',', 'upon', 'whom', 'the', 'old', 'seaman', 'seemed', 'to', 'have', 'transferred', 'all', 'his', 'former', 'affection', 'for', 'the', 'mother', ',', 'would', 'be', 'the', 'richest', 'woman', 'in', 'the', 'East', '--', 'in', 'the', 'world', 'even', '.', 'So', 'old', 'Lingard', 'shouted', ',', 'pacing', 'the', 'verandah', 'with', 'his', 'heavy', 'quarter-', 'deck', 'step', ',', 'gesticulating', 'with', 'a', 'smouldering', 'cheroot', ';', 'ragged', ',', 'dishevelled', ',', 'enthusiastic', ';', 'and', 'Almayer', ',', 'sitting', 'huddled', 'up', 'on', 'a', 'pile', 'of', 'mats', ',', 'thought', 'with', 'dread', 'of', 'the', 'separation', 'with', 'the', 'only', 'human', 'being', 'he', 'loved', '--', 'with', 'greater', 'dread', 'still', ',', 'perhaps', ',', 'of', 'the', 'scene', 'with', 'his', 'wife', ',', 'the', 'savage', 'tigress', 'deprived', 'of', 'her', 'young', '.', 'She', 'will', 'poison', 'me', ',', 'thought', 'the', 'poor', 'wretch', ',', 'well', 'aware', 'of', 'that', 'easy', 'and', 'final', 'manner', 'of', 'solving', 'the', 'social', ',', 'political', ',', 'or', 'family', 'problems', 'in', 'Malay', 'life', '.', 'To', 'his', 'great', 'surprise', 'she', 'took', 'the', 'news', 'very', 'quietly', ',', 'giving', 'only', 'him', 'and', 'Lingard', 'a', 'furtive', 'glance', ',', 'and', 'saying', 'not', 'a', 'word', '.', 'This', ',', 'however', ',', 'did', 'not', 'prevent', 'her', 'the', 'next', 'day', 'from', 'jumping', 'into', 'the', 'river', 'and', 'swimming', 'after', 'the', 'boat', 'in', 'which', 'Lingard', 'was', 'carrying', 'away', 'the', 'nurse', 'with', 'the', 'screaming', 'child', '.', 'Almayer', 'had', 'to', 'give', 'chase', 'with', 'his', 'whale-boat', 'and', 'drag', 'her', 'in', 'by', 'the', 'hair', 'in', 'the', 'midst', 'of', 'cries', 'and', 'curses', 'enough', 'to', 'make', 'heaven', 'fall', '.', 'Yet', 'after', 'two', 'days', 'spent', 'in', 'wailing', ',', 'she', 'returned', 'to', 'her', 'former', 'mode', 'of', 'life', ',', 'chewing', 'betel-nut', ',', 'and', 'sitting', 'all', 'day', 'amongst', 'her', 'women', 'in', 'stupefied', 'idleness', '.', 'She', 'aged', 'very', 'rapidly', 'after', 'that', ',', 'and', 'only', 'roused', 'herself', 'from', 'her', 'apathy', 'to', 'acknowledge', 'by', 'a', 'scathing', 'remark', 'or', 'an', 'insulting', 'exclamation', 'the', 'accidental', 'presence', 'of', 'her', 'husband', '.', 'He', 'had', 'built', 'for', 'her', 'a', 'riverside', 'hut', 'in', 'the', 'compound', 'where', 'she', 'dwelt', 'in', 'perfect', 'seclusion', '.', 'Lakamba', \"'s\", 'visits', 'had', 'ceased', 'when', ',', 'by', 'a', 'convenient', 'decree', 'of', 'Providence', 'and', 'the', 'help', 'of', 'a', 'little', 'scientific', 'manipulation', ',', 'the', 'old', 'ruler', 'of', 'Sambir', 'departed', 'this', 'life', '.', 'Lakamba', 'reigned', 'in', 'his', 'stead', 'now', ',', 'having', 'been', 'well', 'served', 'by', 'his', 'Arab', 'friends', 'with', 'the', 'Dutch', 'authorities', '.', 'Syed', 'Abdulla', 'was', 'the', 'great', 'man', 'and', 'trader', 'of', 'the', 'Pantai', '.', 'Almayer', 'lay', 'ruined', 'and', 'helpless', 'under', 'the', 'close-meshed', 'net', 'of', 'their', 'intrigues', ',', 'owing', 'his', 'life', 'only', 'to', 'his', 'supposed', 'knowledge', 'of', 'Lingard', \"'s\", 'valuable', 'secret', '.', 'Lingard', 'had', 'disappeared', '.', 'He', 'wrote', 'once', 'from', 'Singapore', 'saying', 'the', 'child', 'was', 'well', ',', 'and', 'under', 'the', 'care', 'of', 'a', 'Mrs.', 'Vinck', ',', 'and', 'that', 'he', 'himself', 'was', 'going', 'to', 'Europe', 'to', 'raise', 'money', 'for', 'the', 'great', 'enterprise', '.', '``', 'He', 'was', 'coming', 'back', 'soon', '.', 'There', 'would', 'be', 'no', 'difficulties', ',', \"''\", 'he', 'wrote', ';', '``', 'people', 'would', 'rush', 'in', 'with', 'their', 'money', '.', \"''\", 'Evidently', 'they', 'did', 'not', ',', 'for', 'there', 'was', 'only', 'one', 'letter', 'more', 'from', 'him', 'saying', 'he', 'was', 'ill', ',', 'had', 'found', 'no', 'relation', 'living', ',', 'but', 'little', 'else', 'besides', '.', 'Then', 'came', 'a', 'complete', 'silence', '.', 'Europe', 'had', 'swallowed', 'up', 'the', 'Rajah', 'Laut', 'apparently', ',', 'and', 'Almayer', 'looked', 'vainly', 'westward', 'for', 'a', 'ray', 'of', 'light', 'out', 'of', 'the', 'gloom', 'of', 'his', 'shattered', 'hopes', '.', 'Years', 'passed', ',', 'and', 'the', 'rare', 'letters', 'from', 'Mrs.', 'Vinck', ',', 'later', 'on', 'from', 'the', 'girl', 'herself', ',', 'were', 'the', 'only', 'thing', 'to', 'be', 'looked', 'to', 'to', 'make', 'life', 'bearable', 'amongst', 'the', 'triumphant', 'savagery', 'of', 'the', 'river', '.', 'Almayer', 'lived', 'now', 'alone', ',', 'having', 'even', 'ceased', 'to', 'visit', 'his', 'debtors', 'who', 'would', 'not', 'pay', ',', 'sure', 'of', 'Lakamba', \"'s\", 'protection', '.', 'The', 'faithful', 'Sumatrese', 'Ali', 'cooked', 'his', 'rice', 'and', 'made', 'his', 'coffee', ',', 'for', 'he', 'dared', 'not', 'trust', 'any', 'one', 'else', ',', 'and', 'least', 'of', 'all', 'his', 'wife', '.', 'He', 'killed', 'time', 'wandering', 'sadly', 'in', 'the', 'overgrown', 'paths', 'round', 'the', 'house', ',', 'visiting', 'the', 'ruined', 'godowns', 'where', 'a', 'few', 'brass', 'guns', 'covered', 'with', 'verdigris', 'and', 'only', 'a', 'few', 'broken', 'cases', 'of', 'mouldering', 'Manchester', 'goods', 'reminded', 'him', 'of', 'the', 'good', 'early', 'times', 'when', 'all', 'this', 'was', 'full', 'of', 'life', 'and', 'merchandise', ',', 'and', 'he', 'overlooked', 'a', 'busy', 'scene', 'on', 'the', 'river', 'bank', ',', 'his', 'little', 'daughter', 'by', 'his', 'side', '.', 'Now', 'the', 'up-country', 'canoes', 'glided', 'past', 'the', 'little', 'rotten', 'wharf', 'of', 'Lingard', 'and', 'Co.', ',', 'to', 'paddle', 'up', 'the', 'Pantai', 'branch', ',', 'and', 'cluster', 'round', 'the', 'new', 'jetty', 'belonging', 'to', 'Abdulla', '.', 'Not', 'that', 'they', 'loved', 'Abdulla', ',', 'but', 'they', 'dared', 'not', 'trade', 'with', 'the', 'man', 'whose', 'star', 'had', 'set', '.', 'Had', 'they', 'done', 'so', 'they', 'knew', 'there', 'was', 'no', 'mercy', 'to', 'be', 'expected', 'from', 'Arab', 'or', 'Rajah', ';', 'no', 'rice', 'to', 'be', 'got', 'on', 'credit', 'in', 'the', 'times', 'of', 'scarcity', 'from', 'either', ';', 'and', 'Almayer', 'could', 'not', 'help', 'them', ',', 'having', 'at', 'times', 'hardly', 'enough', 'for', 'himself', '.', 'Almayer', ',', 'in', 'his', 'isolation', 'and', 'despair', ',', 'often', 'envied', 'his', 'near', 'neighbour', 'the', 'Chinaman', ',', 'Jim-', 'Eng', ',', 'whom', 'he', 'could', 'see', 'stretched', 'on', 'a', 'pile', 'of', 'cool', 'mats', ',', 'a', 'wooden', 'pillow', 'under', 'his', 'head', ',', 'an', 'opium', 'pipe', 'in', 'his', 'nerveless', 'fingers', '.', 'He', 'did', 'not', 'seek', ',', 'however', ',', 'consolation', 'in', 'opium', '--', 'perhaps', 'it', 'was', 'too', 'expensive', '--', 'perhaps', 'his', 'white', 'man', \"'s\", 'pride', 'saved', 'him', 'from', 'that', 'degradation', ';', 'but', 'most', 'likely', 'it', 'was', 'the', 'thought', 'of', 'his', 'little', 'daughter', 'in', 'the', 'far-off', 'Straits', 'Settlements', '.', 'He', 'heard', 'from', 'her', 'oftener', 'since', 'Abdulla', 'bought', 'a', 'steamer', ',', 'which', 'ran', 'now', 'between', 'Singapore', 'and', 'the', 'Pantai', 'settlement', 'every', 'three', 'months', 'or', 'so', '.', 'Almayer', 'felt', 'himself', 'nearer', 'his', 'daughter', '.', 'He', 'longed', 'to', 'see', 'her', ',', 'and', 'planned', 'a', 'voyage', 'to', 'Singapore', ',', 'but', 'put', 'off', 'his', 'departure', 'from', 'year', 'to', 'year', ',', 'always', 'expecting', 'some', 'favourable', 'turn', 'of', 'fortune', '.', 'He', 'did', 'not', 'want', 'to', 'meet', 'her', 'with', 'empty', 'hands', 'and', 'with', 'no', 'words', 'of', 'hope', 'on', 'his', 'lips', '.', 'He', 'could', 'not', 'take', 'her', 'back', 'into', 'that', 'savage', 'life', 'to', 'which', 'he', 'was', 'condemned', 'himself', '.', 'He', 'was', 'also', 'a', 'little', 'afraid', 'of', 'her', '.', 'What', 'would', 'she', 'think', 'of', 'him', '?', 'He', 'reckoned', 'the', 'years', '.', 'A', 'grown', 'woman', '.', 'A', 'civilised', 'woman', ',', 'young', 'and', 'hopeful', ';', 'while', 'he', 'felt', 'old', 'and', 'hopeless', ',', 'and', 'very', 'much', 'like', 'those', 'savages', 'round', 'him', '.', 'He', 'asked', 'himself', 'what', 'was', 'going', 'to', 'be', 'her', 'future', '.', 'He', 'could', 'not', 'answer', 'that', 'question', 'yet', ',', 'and', 'he', 'dared', 'not', 'face', 'her', '.', 'And', 'yet', 'he', 'longed', 'after', 'her', '.', 'He', 'hesitated', 'for', 'years', '.', 'His', 'hesitation', 'was', 'put', 'an', 'end', 'to', 'by', 'Nina', \"'s\", 'unexpected', 'appearance', 'in', 'Sambir', '.', 'She', 'arrived', 'in', 'the', 'steamer', 'under', 'the', 'captain', \"'s\", 'care', '.', 'Almayer', 'beheld', 'her', 'with', 'surprise', 'not', 'unmixed', 'with', 'wonder', '.', 'During', 'those', 'ten', 'years', 'the', 'child', 'had', 'changed', 'into', 'a', 'woman', ',', 'black-haired', ',', 'olive-skinned', ',', 'tall', ',', 'and', 'beautiful', ',', 'with', 'great', 'sad', 'eyes', ',', 'where', 'the', 'startled', 'expression', 'common', 'to', 'Malay', 'womankind', 'was', 'modified', 'by', 'a', 'thoughtful', 'tinge', 'inherited', 'from', 'her', 'European', 'ancestry', '.', 'Almayer', 'thought', 'with', 'dismay', 'of', 'the', 'meeting', 'of', 'his', 'wife', 'and', 'daughter', ',', 'of', 'what', 'this', 'grave', 'girl', 'in', 'European', 'clothes', 'would', 'think', 'of', 'her', 'betel-nut', 'chewing', 'mother', ',', 'squatting', 'in', 'a', 'dark', 'hut', ',', 'disorderly', ',', 'half', 'naked', ',', 'and', 'sulky', '.', 'He', 'also', 'feared', 'an', 'outbreak', 'of', 'temper', 'on', 'the', 'part', 'of', 'that', 'pest', 'of', 'a', 'woman', 'he', 'had', 'hitherto', 'managed', 'to', 'keep', 'tolerably', 'quiet', ',', 'thereby', 'saving', 'the', 'remnants', 'of', 'his', 'dilapidated', 'furniture', '.', 'And', 'he', 'stood', 'there', 'before', 'the', 'closed', 'door', 'of', 'the', 'hut', 'in', 'the', 'blazing', 'sunshine', 'listening', 'to', 'the', 'murmur', 'of', 'voices', ',', 'wondering', 'what', 'went', 'on', 'inside', ',', 'wherefrom', 'all', 'the', 'servant-maids', 'had', 'been', 'expelled', 'at', 'the', 'beginning', 'of', 'the', 'interview', ',', 'and', 'now', 'stood', 'clustered', 'by', 'the', 'palings', 'with', 'half-covered', 'faces', 'in', 'a', 'chatter', 'of', 'curious', 'speculation', '.', 'He', 'forgot', 'himself', 'there', 'trying', 'to', 'catch', 'a', 'stray', 'word', 'through', 'the', 'bamboo', 'walls', ',', 'till', 'the', 'captain', 'of', 'the', 'steamer', ',', 'who', 'had', 'walked', 'up', 'with', 'the', 'girl', ',', 'fearing', 'a', 'sunstroke', ',', 'took', 'him', 'under', 'the', 'arm', 'and', 'led', 'him', 'into', 'the', 'shade', 'of', 'his', 'own', 'verandah', ':', 'where', 'Nina', \"'s\", 'trunk', 'stood', 'already', ',', 'having', 'been', 'landed', 'by', 'the', 'steamer', \"'s\", 'men', '.', 'As', 'soon', 'as', 'Captain', 'Ford', 'had', 'his', 'glass', 'before', 'him', 'and', 'his', 'cheroot', 'lighted', ',', 'Almayer', 'asked', 'for', 'the', 'explanation', 'of', 'his', \"daughter's\", 'unexpected', 'arrival', '.', 'Ford', 'said', 'little', 'beyond', 'generalising', 'in', 'vague', 'but', 'violent', 'terms', 'upon', 'the', 'foolishness', 'of', 'women', 'in', 'general', ',', 'and', 'of', 'Mrs.', 'Vinck', 'in', 'particular', '.', '``', 'You', 'know', ',', 'Kaspar', ',', \"''\", 'said', 'he', ',', 'in', 'conclusion', ',', 'to', 'the', 'excited', 'Almayer', ',', '``', 'it', 'is', 'deucedly', 'awkward', 'to', 'have', 'a', 'half-caste', 'girl', 'in', 'the', 'house', '.', 'There', \"'s\", 'such', 'a', 'lot', 'of', 'fools', 'about', '.', 'There', 'was', 'that', 'young', 'fellow', 'from', 'the', 'bank', 'who', 'used', 'to', 'ride', 'to', 'the', 'Vinck', 'bungalow', 'early', 'and', 'late', '.', 'That', 'old', 'woman', 'thought', 'it', 'was', 'for', 'that', 'Emma', 'of', 'hers', '.', 'When', 'she', 'found', 'out', 'what', 'he', 'wanted', 'exactly', ',', 'there', 'was', 'a', 'row', ',', 'I', 'can', 'tell', 'you', '.', 'She', 'would', 'not', 'have', 'Nina', '--', 'not', 'an', 'hour', 'longer', '--', 'in', 'the', 'house', '.', 'Fact', 'is', ',', 'I', 'heard', 'of', 'this', 'affair', 'and', 'took', 'the', 'girl', 'to', 'my', 'wife', '.', 'My', 'wife', 'is', 'a', 'pretty', 'good', 'woman', '--', 'as', 'women', 'go', '--', 'and', 'upon', 'my', 'word', 'we', 'would', 'have', 'kept', 'the', 'girl', 'for', 'you', ',', 'only', 'she', 'would', 'not', 'stay', '.', 'Now', ',', 'then', '!', 'Do', \"n't\", 'flare', 'up', ',', 'Kaspar', '.', 'Sit', 'still', '.', 'What', 'can', 'you', 'do', '?', 'It', 'is', 'better', 'so', '.', 'Let', 'her', 'stay', 'with', 'you', '.', 'She', 'was', 'never', 'happy', 'over', 'there', '.', 'Those', 'two', 'Vinck', 'girls', 'are', 'no', 'better', 'than', 'dressed-up', 'monkeys', '.', 'They', 'slighted', 'her', '.', 'You', 'ca', \"n't\", 'make', 'her', 'white', '.', 'It', \"'s\", 'no', 'use', 'you', 'swearing', 'at', 'me', '.', 'You', 'ca', \"n't\", '.', 'She', 'is', 'a', 'good', 'girl', 'for', 'all']\n"
     ]
    }
   ],
   "source": [
    "#this line of code prints out the first thousand tokens. Looks about right. \n",
    "print(conradTokens[1000:10000])"
=======
   "execution_count": null,
   "metadata": {
    "collapsed": false,
    "scrolled": false
   },
   "outputs": [],
   "source": [
    "print(', '.join(stopwords.words('english')))"
   ]
  },
  {
   "cell_type": "markdown",
   "metadata": {},
   "source": [
    "We can remove these stopwords from the analysis by fiat, but we could also take a more principled approach by looking at the frequency distribution of words and selecting a specific cut-off associated with the preservation of 'meaningful words' identified upon inspection. Alternatively, we could automatically set a cut-off by rule, such as removal of all words more frequent then the most frequent verb, or the most frequent noun (not pronoun), or some term of central interest. "
   ]
  },
  {
   "cell_type": "markdown",
   "metadata": {},
   "source": [
    "Lets generate our own stop list now."
>>>>>>> d195bdb541288306c8d9b6aa1962ebe4ae022cde
   ]
  },
  {
   "cell_type": "code",
<<<<<<< HEAD
   "execution_count": 109,
   "metadata": {},
   "outputs": [
    {
     "data": {
      "text/html": [
       "<div>\n",
       "<style scoped>\n",
       "    .dataframe tbody tr th:only-of-type {\n",
       "        vertical-align: middle;\n",
       "    }\n",
       "\n",
       "    .dataframe tbody tr th {\n",
       "        vertical-align: top;\n",
       "    }\n",
       "\n",
       "    .dataframe thead th {\n",
       "        text-align: right;\n",
       "    }\n",
       "</style>\n",
       "<table border=\"1\" class=\"dataframe\">\n",
       "  <thead>\n",
       "    <tr style=\"text-align: right;\">\n",
       "      <th></th>\n",
       "      <th>count</th>\n",
       "      <th>word</th>\n",
       "    </tr>\n",
       "  </thead>\n",
       "  <tbody>\n",
       "    <tr>\n",
       "      <th>0</th>\n",
       "      <td>1</td>\n",
       "      <td>﻿almayer</td>\n",
       "    </tr>\n",
       "    <tr>\n",
       "      <th>1</th>\n",
       "      <td>1588</td>\n",
       "      <td>'s</td>\n",
       "    </tr>\n",
       "    <tr>\n",
       "      <th>2</th>\n",
       "      <td>107</td>\n",
       "      <td>folly</td>\n",
       "    </tr>\n",
       "    <tr>\n",
       "      <th>3</th>\n",
       "      <td>2433</td>\n",
       "      <td>:</td>\n",
       "    </tr>\n",
       "    <tr>\n",
       "      <th>4</th>\n",
       "      <td>40697</td>\n",
       "      <td>a</td>\n",
       "    </tr>\n",
       "    <tr>\n",
       "      <th>5</th>\n",
       "      <td>284</td>\n",
       "      <td>story</td>\n",
       "    </tr>\n",
       "    <tr>\n",
       "      <th>6</th>\n",
       "      <td>56201</td>\n",
       "      <td>of</td>\n",
       "    </tr>\n",
       "    <tr>\n",
       "      <th>7</th>\n",
       "      <td>5970</td>\n",
       "      <td>an</td>\n",
       "    </tr>\n",
       "    <tr>\n",
       "      <th>8</th>\n",
       "      <td>47</td>\n",
       "      <td>eastern</td>\n",
       "    </tr>\n",
       "    <tr>\n",
       "      <th>9</th>\n",
       "      <td>502</td>\n",
       "      <td>river</td>\n",
       "    </tr>\n",
       "    <tr>\n",
       "      <th>10</th>\n",
       "      <td>6635</td>\n",
       "      <td>by</td>\n",
       "    </tr>\n",
       "    <tr>\n",
       "      <th>11</th>\n",
       "      <td>19</td>\n",
       "      <td>joseph</td>\n",
       "    </tr>\n",
       "    <tr>\n",
       "      <th>12</th>\n",
       "      <td>18</td>\n",
       "      <td>conrad</td>\n",
       "    </tr>\n",
       "    <tr>\n",
       "      <th>13</th>\n",
       "      <td>4</td>\n",
       "      <td>qui</td>\n",
       "    </tr>\n",
       "    <tr>\n",
       "      <th>14</th>\n",
       "      <td>612</td>\n",
       "      <td>de</td>\n",
       "    </tr>\n",
       "    <tr>\n",
       "      <th>15</th>\n",
       "      <td>1</td>\n",
       "      <td>nous</td>\n",
       "    </tr>\n",
       "    <tr>\n",
       "      <th>16</th>\n",
       "      <td>1</td>\n",
       "      <td>n'a</td>\n",
       "    </tr>\n",
       "    <tr>\n",
       "      <th>17</th>\n",
       "      <td>1</td>\n",
       "      <td>eu</td>\n",
       "    </tr>\n",
       "    <tr>\n",
       "      <th>18</th>\n",
       "      <td>2</td>\n",
       "      <td>sa</td>\n",
       "    </tr>\n",
       "    <tr>\n",
       "      <th>19</th>\n",
       "      <td>1</td>\n",
       "      <td>terre</td>\n",
       "    </tr>\n",
       "  </tbody>\n",
       "</table>\n",
       "</div>"
      ],
      "text/plain": [
       "    count      word\n",
       "0       1  ﻿almayer\n",
       "1    1588        's\n",
       "2     107     folly\n",
       "3    2433         :\n",
       "4   40697         a\n",
       "5     284     story\n",
       "6   56201        of\n",
       "7    5970        an\n",
       "8      47   eastern\n",
       "9     502     river\n",
       "10   6635        by\n",
       "11     19    joseph\n",
       "12     18    conrad\n",
       "13      4       qui\n",
       "14    612        de\n",
       "15      1      nous\n",
       "16      1       n'a\n",
       "17      1        eu\n",
       "18      2        sa\n",
       "19      1     terre"
      ]
     },
     "execution_count": 109,
     "metadata": {},
     "output_type": "execute_result"
    }
   ],
   "source": [
    "def wordCounter(wordLst):\n",
    "    wordCounts = {}\n",
    "    for word in wordLst:\n",
    "        #We usually need to normalize the case\n",
    "        wLower = word.lower()\n",
    "        if wLower in wordCounts:\n",
    "            wordCounts[wLower] += 1\n",
    "        else:\n",
    "            wordCounts[wLower] = 1\n",
    "    #convert to DataFrame\n",
    "    countsForFrame = {'word' : [], 'count' : []}\n",
    "    for w, c in wordCounts.items():\n",
    "        countsForFrame['word'].append(w)\n",
    "        countsForFrame['count'].append(c)\n",
    "    return pandas.DataFrame(countsForFrame)\n",
    "\n",
    "countedWords = wordCounter(conradTokens)\n",
    "countedWords[:20]"
   ]
  },
  {
   "cell_type": "code",
   "execution_count": 110,
   "metadata": {},
   "outputs": [
    {
     "name": "stdout",
     "output_type": "stream",
     "text": [
      "18\n"
     ]
    }
   ],
   "source": [
    "words = [word.lower() for word in conradTokens]\n",
    "freq = nltk.FreqDist(words)\n",
    "print (freq['conrad'])"
   ]
  },
  {
   "cell_type": "code",
   "execution_count": 111,
   "metadata": {},
   "outputs": [
    {
     "data": {
      "text/html": [
       "<div>\n",
       "<style scoped>\n",
       "    .dataframe tbody tr th:only-of-type {\n",
       "        vertical-align: middle;\n",
       "    }\n",
       "\n",
       "    .dataframe tbody tr th {\n",
       "        vertical-align: top;\n",
       "    }\n",
       "\n",
       "    .dataframe thead th {\n",
       "        text-align: right;\n",
       "    }\n",
       "</style>\n",
       "<table border=\"1\" class=\"dataframe\">\n",
       "  <thead>\n",
       "    <tr style=\"text-align: right;\">\n",
       "      <th></th>\n",
       "      <th>count</th>\n",
       "      <th>word</th>\n",
       "    </tr>\n",
       "  </thead>\n",
       "  <tbody>\n",
       "    <tr>\n",
       "      <th>21</th>\n",
       "      <td>99721</td>\n",
       "      <td>,</td>\n",
       "    </tr>\n",
       "    <tr>\n",
       "      <th>51</th>\n",
       "      <td>92182</td>\n",
       "      <td>the</td>\n",
       "    </tr>\n",
       "    <tr>\n",
       "      <th>32</th>\n",
       "      <td>86936</td>\n",
       "      <td>.</td>\n",
       "    </tr>\n",
       "    <tr>\n",
       "      <th>6</th>\n",
       "      <td>56201</td>\n",
       "      <td>of</td>\n",
       "    </tr>\n",
       "    <tr>\n",
       "      <th>4</th>\n",
       "      <td>40697</td>\n",
       "      <td>a</td>\n",
       "    </tr>\n",
       "    <tr>\n",
       "      <th>50</th>\n",
       "      <td>38616</td>\n",
       "      <td>to</td>\n",
       "    </tr>\n",
       "    <tr>\n",
       "      <th>84</th>\n",
       "      <td>37037</td>\n",
       "      <td>and</td>\n",
       "    </tr>\n",
       "    <tr>\n",
       "      <th>77</th>\n",
       "      <td>28964</td>\n",
       "      <td>he</td>\n",
       "    </tr>\n",
       "    <tr>\n",
       "      <th>55</th>\n",
       "      <td>27621</td>\n",
       "      <td>i</td>\n",
       "    </tr>\n",
       "    <tr>\n",
       "      <th>158</th>\n",
       "      <td>26789</td>\n",
       "      <td>in</td>\n",
       "    </tr>\n",
       "    <tr>\n",
       "      <th>67</th>\n",
       "      <td>22948</td>\n",
       "      <td>his</td>\n",
       "    </tr>\n",
       "    <tr>\n",
       "      <th>198</th>\n",
       "      <td>21811</td>\n",
       "      <td>was</td>\n",
       "    </tr>\n",
       "    <tr>\n",
       "      <th>118</th>\n",
       "      <td>20100</td>\n",
       "      <td>that</td>\n",
       "    </tr>\n",
       "    <tr>\n",
       "      <th>80</th>\n",
       "      <td>17432</td>\n",
       "      <td>it</td>\n",
       "    </tr>\n",
       "    <tr>\n",
       "      <th>78</th>\n",
       "      <td>16294</td>\n",
       "      <td>had</td>\n",
       "    </tr>\n",
       "    <tr>\n",
       "      <th>6564</th>\n",
       "      <td>15973</td>\n",
       "      <td>“</td>\n",
       "    </tr>\n",
       "    <tr>\n",
       "      <th>6565</th>\n",
       "      <td>15559</td>\n",
       "      <td>”</td>\n",
       "    </tr>\n",
       "    <tr>\n",
       "      <th>85</th>\n",
       "      <td>15322</td>\n",
       "      <td>with</td>\n",
       "    </tr>\n",
       "    <tr>\n",
       "      <th>569</th>\n",
       "      <td>14193</td>\n",
       "      <td>you</td>\n",
       "    </tr>\n",
       "    <tr>\n",
       "      <th>6538</th>\n",
       "      <td>13314</td>\n",
       "      <td>’</td>\n",
       "    </tr>\n",
       "    <tr>\n",
       "      <th>110</th>\n",
       "      <td>12057</td>\n",
       "      <td>on</td>\n",
       "    </tr>\n",
       "    <tr>\n",
       "      <th>30</th>\n",
       "      <td>11874</td>\n",
       "      <td>--</td>\n",
       "    </tr>\n",
       "    <tr>\n",
       "      <th>81</th>\n",
       "      <td>11680</td>\n",
       "      <td>for</td>\n",
       "    </tr>\n",
       "    <tr>\n",
       "      <th>180</th>\n",
       "      <td>11201</td>\n",
       "      <td>her</td>\n",
       "    </tr>\n",
       "    <tr>\n",
       "      <th>216</th>\n",
       "      <td>11006</td>\n",
       "      <td>as</td>\n",
       "    </tr>\n",
       "    <tr>\n",
       "      <th>116</th>\n",
       "      <td>10343</td>\n",
       "      <td>at</td>\n",
       "    </tr>\n",
       "    <tr>\n",
       "      <th>503</th>\n",
       "      <td>9954</td>\n",
       "      <td>not</td>\n",
       "    </tr>\n",
       "    <tr>\n",
       "      <th>399</th>\n",
       "      <td>9572</td>\n",
       "      <td>she</td>\n",
       "    </tr>\n",
       "    <tr>\n",
       "      <th>102</th>\n",
       "      <td>8849</td>\n",
       "      <td>but</td>\n",
       "    </tr>\n",
       "    <tr>\n",
       "      <th>365</th>\n",
       "      <td>8566</td>\n",
       "      <td>him</td>\n",
       "    </tr>\n",
       "    <tr>\n",
       "      <th>...</th>\n",
       "      <td>...</td>\n",
       "      <td>...</td>\n",
       "    </tr>\n",
       "    <tr>\n",
       "      <th>304</th>\n",
       "      <td>2971</td>\n",
       "      <td>did</td>\n",
       "    </tr>\n",
       "    <tr>\n",
       "      <th>126</th>\n",
       "      <td>2931</td>\n",
       "      <td>time</td>\n",
       "    </tr>\n",
       "    <tr>\n",
       "      <th>808</th>\n",
       "      <td>2898</td>\n",
       "      <td>are</td>\n",
       "    </tr>\n",
       "    <tr>\n",
       "      <th>858</th>\n",
       "      <td>2886</td>\n",
       "      <td>do</td>\n",
       "    </tr>\n",
       "    <tr>\n",
       "      <th>434</th>\n",
       "      <td>2873</td>\n",
       "      <td>their</td>\n",
       "    </tr>\n",
       "    <tr>\n",
       "      <th>203</th>\n",
       "      <td>2849</td>\n",
       "      <td>only</td>\n",
       "    </tr>\n",
       "    <tr>\n",
       "      <th>343</th>\n",
       "      <td>2840</td>\n",
       "      <td>some</td>\n",
       "    </tr>\n",
       "    <tr>\n",
       "      <th>703</th>\n",
       "      <td>2752</td>\n",
       "      <td>know</td>\n",
       "    </tr>\n",
       "    <tr>\n",
       "      <th>634</th>\n",
       "      <td>2705</td>\n",
       "      <td>them</td>\n",
       "    </tr>\n",
       "    <tr>\n",
       "      <th>279</th>\n",
       "      <td>2658</td>\n",
       "      <td>over</td>\n",
       "    </tr>\n",
       "    <tr>\n",
       "      <th>155</th>\n",
       "      <td>2650</td>\n",
       "      <td>himself</td>\n",
       "    </tr>\n",
       "    <tr>\n",
       "      <th>670</th>\n",
       "      <td>2649</td>\n",
       "      <td>when</td>\n",
       "    </tr>\n",
       "    <tr>\n",
       "      <th>123</th>\n",
       "      <td>2616</td>\n",
       "      <td>eyes</td>\n",
       "    </tr>\n",
       "    <tr>\n",
       "      <th>122</th>\n",
       "      <td>2553</td>\n",
       "      <td>before</td>\n",
       "    </tr>\n",
       "    <tr>\n",
       "      <th>210</th>\n",
       "      <td>2501</td>\n",
       "      <td>more</td>\n",
       "    </tr>\n",
       "    <tr>\n",
       "      <th>959</th>\n",
       "      <td>2459</td>\n",
       "      <td>your</td>\n",
       "    </tr>\n",
       "    <tr>\n",
       "      <th>551</th>\n",
       "      <td>2443</td>\n",
       "      <td>head</td>\n",
       "    </tr>\n",
       "    <tr>\n",
       "      <th>3</th>\n",
       "      <td>2433</td>\n",
       "      <td>:</td>\n",
       "    </tr>\n",
       "    <tr>\n",
       "      <th>449</th>\n",
       "      <td>2423</td>\n",
       "      <td>little</td>\n",
       "    </tr>\n",
       "    <tr>\n",
       "      <th>276</th>\n",
       "      <td>2406</td>\n",
       "      <td>down</td>\n",
       "    </tr>\n",
       "    <tr>\n",
       "      <th>421</th>\n",
       "      <td>2392</td>\n",
       "      <td>after</td>\n",
       "    </tr>\n",
       "    <tr>\n",
       "      <th>719</th>\n",
       "      <td>2364</td>\n",
       "      <td>made</td>\n",
       "    </tr>\n",
       "    <tr>\n",
       "      <th>125</th>\n",
       "      <td>2363</td>\n",
       "      <td>about</td>\n",
       "    </tr>\n",
       "    <tr>\n",
       "      <th>878</th>\n",
       "      <td>2257</td>\n",
       "      <td>seemed</td>\n",
       "    </tr>\n",
       "    <tr>\n",
       "      <th>76</th>\n",
       "      <td>2228</td>\n",
       "      <td>too</td>\n",
       "    </tr>\n",
       "    <tr>\n",
       "      <th>209</th>\n",
       "      <td>2217</td>\n",
       "      <td>now</td>\n",
       "    </tr>\n",
       "    <tr>\n",
       "      <th>298</th>\n",
       "      <td>2113</td>\n",
       "      <td>see</td>\n",
       "    </tr>\n",
       "    <tr>\n",
       "      <th>488</th>\n",
       "      <td>2110</td>\n",
       "      <td>other</td>\n",
       "    </tr>\n",
       "    <tr>\n",
       "      <th>161</th>\n",
       "      <td>2088</td>\n",
       "      <td>away</td>\n",
       "    </tr>\n",
       "    <tr>\n",
       "      <th>378</th>\n",
       "      <td>2018</td>\n",
       "      <td>nothing</td>\n",
       "    </tr>\n",
       "  </tbody>\n",
       "</table>\n",
       "<p>100 rows × 2 columns</p>\n",
       "</div>"
      ],
      "text/plain": [
       "      count     word\n",
       "21    99721        ,\n",
       "51    92182      the\n",
       "32    86936        .\n",
       "6     56201       of\n",
       "4     40697        a\n",
       "50    38616       to\n",
       "84    37037      and\n",
       "77    28964       he\n",
       "55    27621        i\n",
       "158   26789       in\n",
       "67    22948      his\n",
       "198   21811      was\n",
       "118   20100     that\n",
       "80    17432       it\n",
       "78    16294      had\n",
       "6564  15973        “\n",
       "6565  15559        ”\n",
       "85    15322     with\n",
       "569   14193      you\n",
       "6538  13314        ’\n",
       "110   12057       on\n",
       "30    11874       --\n",
       "81    11680      for\n",
       "180   11201      her\n",
       "216   11006       as\n",
       "116   10343       at\n",
       "503    9954      not\n",
       "399    9572      she\n",
       "102    8849      but\n",
       "365    8566      him\n",
       "...     ...      ...\n",
       "304    2971      did\n",
       "126    2931     time\n",
       "808    2898      are\n",
       "858    2886       do\n",
       "434    2873    their\n",
       "203    2849     only\n",
       "343    2840     some\n",
       "703    2752     know\n",
       "634    2705     them\n",
       "279    2658     over\n",
       "155    2650  himself\n",
       "670    2649     when\n",
       "123    2616     eyes\n",
       "122    2553   before\n",
       "210    2501     more\n",
       "959    2459     your\n",
       "551    2443     head\n",
       "3      2433        :\n",
       "449    2423   little\n",
       "276    2406     down\n",
       "421    2392    after\n",
       "719    2364     made\n",
       "125    2363    about\n",
       "878    2257   seemed\n",
       "76     2228      too\n",
       "209    2217      now\n",
       "298    2113      see\n",
       "488    2110    other\n",
       "161    2088     away\n",
       "378    2018  nothing\n",
       "\n",
       "[100 rows x 2 columns]"
      ]
     },
     "execution_count": 111,
     "metadata": {},
     "output_type": "execute_result"
    }
   ],
   "source": [
    "countedWords.sort_values('count', ascending=False, inplace=True)\n",
    "countedWords[:100]"
=======
   "execution_count": null,
   "metadata": {
    "collapsed": false
   },
   "outputs": [],
   "source": [
    "countsDict = {}\n",
    "for word in whReleases['tokenized_text'].sum():\n",
    "    if word in countsDict:\n",
    "        countsDict[word] += 1\n",
    "    else:\n",
    "        countsDict[word] = 1\n",
    "word_counts = sorted(countsDict.items(), key = lambda x : x[1], reverse = True)\n",
    "word_counts[:20]"
   ]
  },
  {
   "cell_type": "markdown",
   "metadata": {},
   "source": [
    "We can look at this and pick the cutoff, usually it is at the first noun. So we will cut all words before `'Whitehouse'`."
>>>>>>> d195bdb541288306c8d9b6aa1962ebe4ae022cde
   ]
  },
  {
   "cell_type": "code",
<<<<<<< HEAD
   "execution_count": 112,
   "metadata": {},
   "outputs": [
    {
     "data": {
      "image/png": "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\n",
      "text/plain": [
       "<matplotlib.figure.Figure at 0x7fb71b5ac8d0>"
      ]
     },
     "metadata": {},
     "output_type": "display_data"
    }
   ],
   "source": [
    "fig = plt.figure()\n",
    "ax = fig.add_subplot(111)\n",
    "plt.plot(range(len(countedWords)), countedWords['count'])\n",
    "plt.show()"
   ]
  },
  {
   "cell_type": "code",
   "execution_count": 113,
   "metadata": {},
   "outputs": [
    {
     "data": {
      "image/png": "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\n",
      "text/plain": [
       "<matplotlib.figure.Figure at 0x7fb718f1ffd0>"
      ]
     },
     "metadata": {},
     "output_type": "display_data"
    }
   ],
   "source": [
    "fig = plt.figure()\n",
    "ax = fig.add_subplot(111)\n",
    "plt.plot(range(len(countedWords)), countedWords['count'])\n",
    "ax.set_yscale('log')\n",
    "ax.set_xscale('log')\n",
    "plt.show()"
=======
   "execution_count": null,
   "metadata": {
    "collapsed": false
   },
   "outputs": [],
   "source": [
    "#The stop list is then all words that occur before the first noun\n",
    "stop_words_freq = []\n",
    "for word, count in word_counts:\n",
    "    if word == 'Whitehouse':\n",
    "        break\n",
    "    else:\n",
    "        stop_words_freq.append(word)\n",
    "stop_words_freq\n",
    "wordnet = nltk.stem.WordNetLemmatizer()\n",
    "wordnet.lemmatize('are')"
   ]
  },
  {
   "cell_type": "markdown",
   "metadata": {},
   "source": [
    "Now we can create our function to normalize the tokens"
>>>>>>> d195bdb541288306c8d9b6aa1962ebe4ae022cde
   ]
  },
  {
   "cell_type": "code",
<<<<<<< HEAD
   "execution_count": 114,
   "metadata": {},
   "outputs": [],
   "source": [
    "conradIndex = nltk.text.ConcordanceIndex(conradTokens)"
   ]
  },
  {
   "cell_type": "code",
   "execution_count": 115,
   "metadata": {},
   "outputs": [
    {
     "name": "stdout",
     "output_type": "stream",
     "text": [
      "Displaying 11 of 11 matches:\n",
      "                                  Conrad Qui de nous n'a eu sa terre promi\n",
      "ROMANCE OF THE SHALLOWS By Joseph Conrad ‘ Allas ! ’ quod she , ‘ that eve\n",
      " OUTCAST OF THE ISLANDS by Joseph Conrad _Pues el delito mayor Del hombre \n",
      "swer.﻿HEART OF DARKNESS By Joseph Conrad I The Nellie , a cruising yawl , \n",
      "ICTORY : AN ISLAND TALE By Joseph Conrad NOTE TO THE FIRST EDITION The las\n",
      " ﻿THE END OF THE TETHER By Joseph Conrad I For a long time after the cours\n",
      ", A Tale in Two Parts , by Joseph Conrad . _______________________________\n",
      " A TALE OF THE SEABOARD By Joseph Conrad “ So foul a sky clears not withou\n",
      "berg EBook of Typhoon , by Joseph Conrad This eBook is for the use of anyo\n",
      "9 -- July 1900.﻿ROMANCE By Joseph Conrad and F.M . Hueffer COPYRIGHT , 190\n",
      "HADOW-LINE A CONFESSION By Joseph Conrad “ Worthy of my undying regard ” T\n"
     ]
    }
   ],
   "source": [
    "conradIndex.print_concordance('Conrad')"
   ]
  },
  {
   "cell_type": "code",
   "execution_count": 116,
   "metadata": {},
   "outputs": [
    {
     "name": "stdout",
     "output_type": "stream",
     "text": [
      "Displaying 25 of 466 matches:\n",
      "r , almost violently . `` Not even death , '' he whispered to himself . `` \n",
      "eading her , she would have sought death in her dread and hate of such a re\n",
      " mass of corruption below , at the death and decay from which they sprang .\n",
      "eat chief , the master of life and death , knew the sunshine of life only i\n",
      "n their own purposes , for life or death . After a short silence , Babalatc\n",
      "n that no man could look at him in death and be able to say , 'This is my f\n",
      "sterious return and the unexpected death of the man who had become known to\n",
      "lso spoke of a fight and of Dain's death on board his own vessel . And now \n",
      "n 's visit to the Rajah and of his death when crossing the river in the dar\n",
      "rse of life and the consolation of death . And she knew nothing of it all .\n",
      " the first victim , no doubt , and death would be his reward . And underlyi\n",
      "chi . Would n't that be worse than death itself ? And there was that half-w\n",
      "rs with that man ? Have I not seen death in that man 's eyes more than once\n",
      "'' `` I am an old man and fear not death , '' answered Babalatchi , with a \n",
      " , as one of the proofs of Dain 's death , to be sent in with the official \n",
      " the sleep of men weary of dealing death ? Have you felt about you the stro\n",
      "le at once . You know he found his death on the river , '' he added cheerfu\n",
      "y that would have suggested sudden death had it not been for the melodious \n",
      "poke of the deception as to Dain's death of which he had been the victim on\n",
      "ut the smallest branches , carried death to their victims in an exulting ri\n",
      "ome sign of danger . He feared not death , yet he desired ardently to live \n",
      ". If he saw her again he felt that death would be too terrible . With horro\n",
      "ay from the forests that were like death . He murmured the name of Nina int\n",
      "lk , Tuan . It is easy to send out death , but can your wisdom recall the l\n",
      "d of bringing you life I bring you death , for he will betray unless I leav\n"
     ]
    }
   ],
   "source": [
    "conradIndex.print_concordance('death')"
   ]
  },
  {
   "cell_type": "code",
   "execution_count": 117,
   "metadata": {},
   "outputs": [
    {
     "name": "stdout",
     "output_type": "stream",
     "text": [
      "Displaying 25 of 351 matches:\n",
      "is life , the beginning of a new existence for him . His father , a subordi\n",
      " the possibilities of an opulent existence . The consideration , the indole\n",
      "avage intrusion into their daily existence with wonderful equanimity . He d\n",
      "only events of her three years ' existence . She did not die from despair a\n",
      "bdulla , firmly persuaded of the existence of some more important dealings \n",
      "eous vision of a splendid future existence for himself and Nina . He hardly\n",
      "nly then to a knowledge of a new existence , that her life was complete onl\n",
      "before sunrise ; they forgot the existence of the great forests surrounding\n",
      "ore the dawn . Such had been her existence before the coming of the brig wi\n",
      " ; he turned away and forgot her existence . Taminah saw Almayer standing o\n",
      "ank in the dreamy joy of her new existence without troubling about its mean\n",
      "and angry at the fact of her own existence . It seemed so unreasonable , so\n",
      "ld be no splendour and no joy in existence . Crouching in his shady hiding-\n",
      "have doubted the fact of his own existence , but as he lay looking ardently\n",
      "could . Every vestige of Nina 's existence had been destroyed ; and now wit\n",
      "his breath was the breath of its existence . He felt all this confusedly , \n",
      "elf within the circle of another existence , governed by his impulse , near\n",
      "ner that , in the decline of her existence , had been much ill-used by a pa\n",
      "incible belief in the reality of existence would come back , insidious and \n",
      " she accepted the necessities of existence . Years before , as an attache o\n",
      "ts and the monotony of a worldly existence . There were things that from th\n",
      "rly forgotten , these people ’ s existence . Immada stood slight and rigid \n",
      "d what a violent scoundrel ! The existence of such a man in the time we liv\n",
      "but then you will admit that the existence of such a man is a disgrace to c\n",
      "e also could be equal to such an existence ; and her heart was dilated with\n"
     ]
    }
   ],
   "source": [
    "conradIndex.print_concordance('existence')"
   ]
  },
  {
   "cell_type": "code",
   "execution_count": 118,
   "metadata": {},
   "outputs": [
    {
     "name": "stdout",
     "output_type": "stream",
     "text": [
      "Displaying 25 of 111 matches:\n",
      "above -- as if struck with sudden horror at the seething mass of corruptio\n",
      " into stone with astonishment and horror , for he was certain now that he \n",
      "ter , '' he added , with affected horror . `` That I have seen myself . ''\n",
      "e his reward . And underlying the horror of this situation there was the d\n",
      "e closed his eyes again in amazed horror and sat up straight in the chair \n",
      "eath would be too terrible . With horror he , the descendant of Rajahs and\n",
      " memory filled him with dread and horror of death ; for should it come bef\n",
      "nding pursuit , of the bewildered horror and sombre fury , of their women \n",
      "as a surprise , a shock , a vague horror at the thought of the destructive\n",
      " “ Patience ! Didn ’ t he see the horror of it ? ” -- “ I don ’ t know . H\n",
      "t be explained away . It wasn ’ t horror that she felt , but a sort of con\n",
      "me to her . The very magnitude of horror steadied her , seemed to calm her\n",
      " Lingard looked at it with secret horror . “ Who ’ s that ? ” he asked in \n",
      "his dark intrigue filled him with horror . He could understand Vinck . The\n",
      " His impulse of fear and apparent horror did not dismay her in the least .\n",
      " that frightened him : it was the horror of bewildered life where he could\n",
      "iffened himself in repulsion , in horror , in the mysterious revolt of his\n",
      " in sudden immobility , as if the horror of the situation , the overwhelmi\n",
      "ce of its return and the hopeless horror of their solitude -- in the midst\n",
      "hardly alive . He had a disgusted horror of himself that , as he looked at\n",
      " as if strangled . She saw in the horror of the passing seconds the half-n\n",
      "s no more than a breath : “ ‘ The horror ! The horror ! ’ “ I blew the can\n",
      "n a breath : “ ‘ The horror ! The horror ! ’ “ I blew the candle out and l\n",
      "ummed up -- he had judged . ‘ The horror ! ’ He was a remarkable man . Aft\n",
      "to hear the whispered cry , “ The horror ! The horror ! ” “ The dusk was f\n"
     ]
    }
   ],
   "source": [
    "conradIndex.print_concordance('horror')"
   ]
  },
  {
   "cell_type": "code",
   "execution_count": 119,
   "metadata": {},
   "outputs": [
    {
     "name": "stdout",
     "output_type": "stream",
     "text": [
      "Displaying 25 of 121 matches:\n",
      " Mr. Kurtz. ’ On my asking who Mr. Kurtz was , he said he was a first-class\n",
      "estions elicited from him that Mr. Kurtz was at present in charge of a trad\n",
      " for a moment . ‘ When you see Mr. Kurtz ’ he went on , ‘ tell him from me \n",
      " in jeopardy , and its chief , Mr. Kurtz , was ill. Hoped it was not true .\n",
      "s ill. Hoped it was not true . Mr. Kurtz was ... I felt weary and irritable\n",
      " I felt weary and irritable . Hang Kurtz , I thought . I interrupted him by\n",
      "d him by saying I had heard of Mr. Kurtz on the coast . ‘ Ah ! So they talk\n",
      "n he began again , assuring me Mr. Kurtz was the best agent he had , an exc\n",
      "good deal , exclaimed , ‘ Ah , Mr. Kurtz ! ’ broke the stick of sealing-wax\n",
      "en , talking . I heard the name of Kurtz pronounced , then the words , ‘ ta\n",
      "in it . To my question he said Mr. Kurtz had painted this -- in this very s\n",
      "ray , ’ said I , ‘ who is this Mr. Kurtz ? ’ “ ‘ The chief of the Inner Sta\n",
      "ay . It was great fun . ‘ When Mr. Kurtz , ’ I continued , severely , ‘ is \n",
      "pecially by you , who will see Mr. Kurtz long before I can have that pleasu\n",
      " could see that the coming of that Kurtz had upset them both not a little .\n",
      "t from there , and I had heard Mr. Kurtz was in there . I had heard enough \n",
      "t have gone so far as to fight for Kurtz , but I went for him near enough t\n",
      "t somehow would be of help to that Kurtz whom at the time I did not see -- \n",
      " is not to gaze at the moon. ’ Mr. Kurtz was a ‘ universal genius , ’ but e\n",
      "-- and rivets were what really Mr. Kurtz wanted , if he had only known it .\n",
      " then I would give some thought to Kurtz . I wasn ’ t very interested in hi\n",
      "ence . They had been talking about Kurtz . “ I was broad awake by this time\n",
      "rge of an English half-caste clerk Kurtz had with him ; that Kurtz had appa\n",
      "te clerk Kurtz had with him ; that Kurtz had apparently intended to return \n",
      "otive . As to me , I seemed to see Kurtz for the first time . It was a dist\n"
     ]
    }
   ],
   "source": [
    "conradIndex.print_concordance('Kurtz')"
   ]
  },
  {
   "cell_type": "code",
   "execution_count": 120,
   "metadata": {},
   "outputs": [],
   "source": [
    "#this line of code, I think, creates a NLTK text object.\n",
    "conradText = nltk.Text(conradTokens)"
   ]
  },
  {
   "cell_type": "code",
   "execution_count": 121,
   "metadata": {},
   "outputs": [
    {
     "name": "stdout",
     "output_type": "stream",
     "text": [
      "Mrs. Travers; Mrs Fyne; Mrs Verloc; Miss Haldin; Peter Ivanovitch;\n",
      "Chief Inspector; Doña Rita; Mrs. Gould; Charles Gould; Assistant\n",
      "Commissioner; Captain Whalley; San Tome; Mr. Jones; Van Wyk; Dr.\n",
      "Monygham; Captain Mitchell; could see; Rio Medio; Inspector Heat;\n",
      "white man\n"
     ]
    }
   ],
   "source": [
    "conradText.collocations()"
   ]
  },
  {
   "cell_type": "code",
   "execution_count": 122,
   "metadata": {},
   "outputs": [
    {
     "name": "stdout",
     "output_type": "stream",
     "text": [
      "even_, sought_in the_and and_, or_. in_and unexpected_of dain's_on\n",
      "his_when of_. and_would than_itself seen_in not_, 's_, dealing_?\n",
      "his_on sudden_had dain's_of carried_to\n"
     ]
    }
   ],
   "source": [
    "conradText.common_contexts(['death'])"
   ]
  },
  {
   "cell_type": "code",
   "execution_count": 123,
   "metadata": {},
   "outputs": [
    {
     "name": "stdout",
     "output_type": "stream",
     "text": [
      "sudden_at and_, affected_. the_of amazed_and with_he and_of\n",
      "bewildered_and vague_at t_that of_steadied secret_. with_.\n",
      "apparent_did in_, hopeless_of disgusted_of the_! of_the in_.\n"
     ]
    }
   ],
   "source": [
    "conradText.common_contexts(['horror'])"
   ]
  },
  {
   "cell_type": "code",
   "execution_count": 124,
   "metadata": {},
   "outputs": [
    {
     "name": "stdout",
     "output_type": "stream",
     "text": [
      "judicious_of and_before the_which nameless_creep delicious_the its_.\n",
      "in_, for_of his_the and_. no_except the_wore with_. and_that the_of\n",
      "we_? and_not in_of your_in own_,\n"
     ]
    }
   ],
   "source": [
    "conradText.common_contexts(['fear'])"
   ]
  },
  {
   "cell_type": "code",
   "execution_count": 125,
   "metadata": {},
   "outputs": [
    {
     "data": {
      "text/plain": [
       "111"
      ]
     },
     "execution_count": 125,
     "metadata": {},
     "output_type": "execute_result"
    }
   ],
   "source": [
    "conradText.count('horror')"
   ]
  },
  {
   "cell_type": "code",
   "execution_count": 126,
   "metadata": {},
   "outputs": [
    {
     "data": {
      "image/png": "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\n",
      "text/plain": [
       "<matplotlib.figure.Figure at 0x7fb7250b0400>"
      ]
     },
     "metadata": {},
     "output_type": "display_data"
    }
   ],
   "source": [
    "sns.reset_orig() #Seaborn messes with this plot, disabling it\n",
    "conradText.dispersion_plot(['existence','death', 'horror', 'nature' ,'sea', 'Kurtz', 'Fear'])\n",
    "sns.set() #Re-enabling seaborn"
   ]
  },
  {
   "cell_type": "code",
   "execution_count": 127,
   "metadata": {},
   "outputs": [],
   "source": [
    "conrad_df['tokenized_text'] = conrad_df['text'].apply(lambda x: nltk.word_tokenize(x))"
   ]
  },
  {
   "cell_type": "code",
   "execution_count": 128,
   "metadata": {},
   "outputs": [
    {
     "data": {
      "text/plain": [
       "almayer's_folly.txt               73592\n",
       "the_rescue.txt                   162329\n",
       "an_outcast_of_the_islands.txt    128575\n",
       "heart_of_darkness.txt             46363\n",
       "under_western_eyes.txt           135160\n",
       "the_inheritors.txt                76718\n",
       "the_arrow_of_gold.txt            126895\n",
       "the_secret_agent.txt             106796\n",
       "victory.txt                      144599\n",
       "end_of_the_tether.txt             61768\n",
       "chance.txt                       161517\n",
       "nostromo.txt                     200945\n",
       "typhoon.txt                       36251\n",
       "lord_jim.txt                     157066\n",
       "romance.txt                      188559\n",
       "the_shadow_line.txt               47465\n",
       "Name: word_counts, dtype: int64"
      ]
     },
     "execution_count": 128,
     "metadata": {},
     "output_type": "execute_result"
    }
   ],
   "source": [
    "conrad_df['word_counts'] = conrad_df['tokenized_text'].apply(lambda x: len(x))\n",
    "conrad_df['word_counts']"
   ]
  },
  {
   "cell_type": "markdown",
   "metadata": {},
   "source": [
    "# Filtering and normalizing text\n",
    "\n",
    "As we want to start comparing the different releases we may choose to do a bit of filtering and normalizing that will allow us to focus on what we most care about. We can first make all of the words lower case, then drop the non-word tokens. Next, we can remove some 'stop words', stem the remaining words to remove suffixes, prefixes and (in some languages) infixes, or lemmatize tokens by intelligently grouping inflected or variant forms of the same word (e.g., with a stemmer and a dictionary). \n",
    "\n",
    "To begin this process, we will first define a function to work over the tokenized lists, then another to add normalized tokens to a new column."
   ]
  },
  {
   "cell_type": "markdown",
   "metadata": {},
   "source": [
    "Nltk has a built-in list of stopwords. They are already imported in the import section. Let's first take a look at what they are."
   ]
  },
  {
   "cell_type": "code",
   "execution_count": 129,
   "metadata": {
    "scrolled": false
   },
   "outputs": [
    {
     "name": "stdout",
     "output_type": "stream",
     "text": [
      "i, me, my, myself, we, our, ours, ourselves, you, you're, you've, you'll, you'd, your, yours, yourself, yourselves, he, him, his, himself, she, she's, her, hers, herself, it, it's, its, itself, they, them, their, theirs, themselves, what, which, who, whom, this, that, that'll, these, those, am, is, are, was, were, be, been, being, have, has, had, having, do, does, did, doing, a, an, the, and, but, if, or, because, as, until, while, of, at, by, for, with, about, against, between, into, through, during, before, after, above, below, to, from, up, down, in, out, on, off, over, under, again, further, then, once, here, there, when, where, why, how, all, any, both, each, few, more, most, other, some, such, no, nor, not, only, own, same, so, than, too, very, s, t, can, will, just, don, don't, should, should've, now, d, ll, m, o, re, ve, y, ain, aren, aren't, couldn, couldn't, didn, didn't, doesn, doesn't, hadn, hadn't, hasn, hasn't, haven, haven't, isn, isn't, ma, mightn, mightn't, mustn, mustn't, needn, needn't, shan, shan't, shouldn, shouldn't, wasn, wasn't, weren, weren't, won, won't, wouldn, wouldn't\n"
     ]
    }
   ],
   "source": [
    "#print(', '.join(stopwords.words('english')))"
   ]
  },
  {
   "cell_type": "markdown",
   "metadata": {},
   "source": [
    "We can remove these stopwords from the analysis by fiat, but we could also take a more principled approach by looking at the frequency distribution of words and selecting a specific cut-off associated with the preservation of 'meaningful words' identified upon inspection. Alternatively, we could automatically set a cut-off by rule, such as removal of all words more frequent then the most frequent verb, or the most frequent noun (not pronoun), or some term of central interest. "
   ]
  },
  {
   "cell_type": "markdown",
   "metadata": {},
   "source": [
    "Lets generate our own stop list now."
   ]
  },
  {
   "cell_type": "code",
   "execution_count": 17,
   "metadata": {},
   "outputs": [
    {
     "data": {
      "text/plain": [
       "[('the', 179),\n",
       " (',', 173),\n",
       " ('.', 136),\n",
       " ('of', 112),\n",
       " ('to', 112),\n",
       " ('and', 108),\n",
       " ('in', 64),\n",
       " ('a', 61),\n",
       " (\"'s\", 50),\n",
       " ('that', 41),\n",
       " ('our', 39),\n",
       " ('for', 35),\n",
       " ('on', 33),\n",
       " ('is', 33),\n",
       " ('Whitehouse', 31),\n",
       " ('``', 30),\n",
       " ('Iraq', 28),\n",
       " ('Bush', 27),\n",
       " ('President', 25),\n",
       " ('(', 24)]"
      ]
     },
     "execution_count": 17,
     "metadata": {},
     "output_type": "execute_result"
    }
   ],
   "source": [
    "countsDict = {}\n",
    "for word in whReleases['tokenized_text'].sum():\n",
    "    if word in countsDict:\n",
    "        countsDict[word] += 1\n",
    "    else:\n",
    "        countsDict[word] = 1\n",
    "word_counts = sorted(countsDict.items(), key = lambda x : x[1], reverse = True)\n",
    "word_counts[:20]"
   ]
  },
  {
   "cell_type": "markdown",
   "metadata": {},
   "source": [
    "We can look at this and pick the cutoff, usually it is at the first noun. So we will cut all words before `'Whitehouse'`."
   ]
  },
  {
   "cell_type": "code",
   "execution_count": 18,
   "metadata": {},
   "outputs": [
    {
     "data": {
      "text/plain": [
       "'are'"
      ]
     },
     "execution_count": 18,
     "metadata": {},
     "output_type": "execute_result"
    }
   ],
   "source": [
    "#The stop list is then all words that occur before the first noun\n",
    "stop_words_freq = []\n",
    "for word, count in word_counts:\n",
    "    if word == 'Whitehouse':\n",
    "        break\n",
    "    else:\n",
    "        stop_words_freq.append(word)\n",
    "stop_words_freq\n",
    "wordnet = nltk.stem.WordNetLemmatizer()\n",
    "wordnet.lemmatize('are')"
   ]
  },
  {
   "cell_type": "markdown",
   "metadata": {},
   "source": [
    "Now we can create our function to normalize the tokens"
   ]
  },
  {
   "cell_type": "code",
   "execution_count": 19,
   "metadata": {},
   "outputs": [
    {
     "data": {
      "text/html": [
       "<div>\n",
       "<style scoped>\n",
       "    .dataframe tbody tr th:only-of-type {\n",
       "        vertical-align: middle;\n",
       "    }\n",
       "\n",
       "    .dataframe tbody tr th {\n",
       "        vertical-align: top;\n",
       "    }\n",
       "\n",
       "    .dataframe thead th {\n",
       "        text-align: right;\n",
       "    }\n",
       "</style>\n",
       "<table border=\"1\" class=\"dataframe\">\n",
       "  <thead>\n",
       "    <tr style=\"text-align: right;\">\n",
       "      <th></th>\n",
       "      <th>download_url</th>\n",
       "      <th>html_url</th>\n",
       "      <th>name</th>\n",
       "      <th>path</th>\n",
       "      <th>text</th>\n",
       "      <th>tokenized_text</th>\n",
       "      <th>word_counts</th>\n",
       "      <th>normalized_tokens</th>\n",
       "      <th>normalized_tokens_count</th>\n",
       "    </tr>\n",
       "  </thead>\n",
       "  <tbody>\n",
       "    <tr>\n",
       "      <th>0</th>\n",
       "      <td>https://raw.githubusercontent.com/lintool/Grim...</td>\n",
       "      <td>https://github.com/lintool/GrimmerSenatePressR...</td>\n",
       "      <td>10Apr2007Whitehouse123.txt</td>\n",
       "      <td>raw/Whitehouse/10Apr2007Whitehouse123.txt</td>\n",
       "      <td>SEN. WHITEHOUSE SHARES WESTERLY GIRL'S STORY I...</td>\n",
       "      <td>[SEN., WHITEHOUSE, SHARES, WESTERLY, GIRL, 'S,...</td>\n",
       "      <td>397</td>\n",
       "      <td>[whitehous, share, westerli, girl, stori, push...</td>\n",
       "      <td>231</td>\n",
       "    </tr>\n",
       "    <tr>\n",
       "      <th>1</th>\n",
       "      <td>https://raw.githubusercontent.com/lintool/Grim...</td>\n",
       "      <td>https://github.com/lintool/GrimmerSenatePressR...</td>\n",
       "      <td>10Apr2008Whitehouse2.txt</td>\n",
       "      <td>raw/Whitehouse/10Apr2008Whitehouse2.txt</td>\n",
       "      <td>SEN. WHITEHOUSE SAYS PRESIDENT BUSH MUST BEGIN...</td>\n",
       "      <td>[SEN., WHITEHOUSE, SAYS, PRESIDENT, BUSH, MUST...</td>\n",
       "      <td>344</td>\n",
       "      <td>[whitehous, say, presid, bush, must, begin, br...</td>\n",
       "      <td>171</td>\n",
       "    </tr>\n",
       "    <tr>\n",
       "      <th>2</th>\n",
       "      <td>https://raw.githubusercontent.com/lintool/Grim...</td>\n",
       "      <td>https://github.com/lintool/GrimmerSenatePressR...</td>\n",
       "      <td>10Apr2008Whitehouse3.txt</td>\n",
       "      <td>raw/Whitehouse/10Apr2008Whitehouse3.txt</td>\n",
       "      <td>EPA MUST REVIEW LEGAL PROCESS TO ROOT OUT POLI...</td>\n",
       "      <td>[EPA, MUST, REVIEW, LEGAL, PROCESS, TO, ROOT, ...</td>\n",
       "      <td>553</td>\n",
       "      <td>[epa, must, review, legal, process, root, poli...</td>\n",
       "      <td>305</td>\n",
       "    </tr>\n",
       "    <tr>\n",
       "      <th>3</th>\n",
       "      <td>https://raw.githubusercontent.com/lintool/Grim...</td>\n",
       "      <td>https://github.com/lintool/GrimmerSenatePressR...</td>\n",
       "      <td>10Aug2007Whitehouse78.txt</td>\n",
       "      <td>raw/Whitehouse/10Aug2007Whitehouse78.txt</td>\n",
       "      <td>R.I. SENATORS PRAISE SEN. DENIAL OF LNG FACILI...</td>\n",
       "      <td>[R.I, ., SENATORS, PRAISE, SEN, ., DENIAL, OF,...</td>\n",
       "      <td>216</td>\n",
       "      <td>[senat, prais, sen, denial, lng, facil, permit...</td>\n",
       "      <td>115</td>\n",
       "    </tr>\n",
       "    <tr>\n",
       "      <th>4</th>\n",
       "      <td>https://raw.githubusercontent.com/lintool/Grim...</td>\n",
       "      <td>https://github.com/lintool/GrimmerSenatePressR...</td>\n",
       "      <td>10Jan2008Whitehouse35.txt</td>\n",
       "      <td>raw/Whitehouse/10Jan2008Whitehouse35.txt</td>\n",
       "      <td>SEN. WHITEHOUSE COMMENTS ON ONE-YEAR ANNIVERSA...</td>\n",
       "      <td>[SEN., WHITEHOUSE, COMMENTS, ON, ONE-YEAR, ANN...</td>\n",
       "      <td>257</td>\n",
       "      <td>[whitehous, comment, anniversari, presid, bush...</td>\n",
       "      <td>132</td>\n",
       "    </tr>\n",
       "    <tr>\n",
       "      <th>5</th>\n",
       "      <td>https://raw.githubusercontent.com/lintool/Grim...</td>\n",
       "      <td>https://github.com/lintool/GrimmerSenatePressR...</td>\n",
       "      <td>10Mar2008Whitehouse8.txt</td>\n",
       "      <td>raw/Whitehouse/10Mar2008Whitehouse8.txt</td>\n",
       "      <td>SENS. REED, WHITEHOUSE WELCOME RHODE ISLAND ST...</td>\n",
       "      <td>[SENS, ., REED, ,, WHITEHOUSE, WELCOME, RHODE,...</td>\n",
       "      <td>380</td>\n",
       "      <td>[sen, reed, whitehous, welcom, rhode, island, ...</td>\n",
       "      <td>195</td>\n",
       "    </tr>\n",
       "    <tr>\n",
       "      <th>6</th>\n",
       "      <td>https://raw.githubusercontent.com/lintool/Grim...</td>\n",
       "      <td>https://github.com/lintool/GrimmerSenatePressR...</td>\n",
       "      <td>10Sep2007Whitehouse72.txt</td>\n",
       "      <td>raw/Whitehouse/10Sep2007Whitehouse72.txt</td>\n",
       "      <td>REP. WHITEHOUSE ISSUES STATEMENT ON GEN. PETRA...</td>\n",
       "      <td>[REP., WHITEHOUSE, ISSUES, STATEMENT, ON, GEN....</td>\n",
       "      <td>270</td>\n",
       "      <td>[whitehous, issu, statement, petraeu, iraq, re...</td>\n",
       "      <td>118</td>\n",
       "    </tr>\n",
       "    <tr>\n",
       "      <th>7</th>\n",
       "      <td>https://raw.githubusercontent.com/lintool/Grim...</td>\n",
       "      <td>https://github.com/lintool/GrimmerSenatePressR...</td>\n",
       "      <td>11Apr2007Whitehouse122.txt</td>\n",
       "      <td>raw/Whitehouse/11Apr2007Whitehouse122.txt</td>\n",
       "      <td>SEN. WHITEHOUSE URGES BUSH FOR NEW DIRECTION I...</td>\n",
       "      <td>[SEN., WHITEHOUSE, URGES, BUSH, FOR, NEW, DIRE...</td>\n",
       "      <td>521</td>\n",
       "      <td>[whitehous, urg, bush, new, direct, iraq, shel...</td>\n",
       "      <td>257</td>\n",
       "    </tr>\n",
       "    <tr>\n",
       "      <th>8</th>\n",
       "      <td>https://raw.githubusercontent.com/lintool/Grim...</td>\n",
       "      <td>https://github.com/lintool/GrimmerSenatePressR...</td>\n",
       "      <td>11Jan2007Whitehouse161.txt</td>\n",
       "      <td>raw/Whitehouse/11Jan2007Whitehouse161.txt</td>\n",
       "      <td>SENS. REED, WHITEHOUSE URGE PORTUGAL TO RECONS...</td>\n",
       "      <td>[SENS, ., REED, ,, WHITEHOUSE, URGE, PORTUGAL,...</td>\n",
       "      <td>484</td>\n",
       "      <td>[sen, reed, whitehous, urg, portug, reconsid, ...</td>\n",
       "      <td>254</td>\n",
       "    </tr>\n",
       "    <tr>\n",
       "      <th>9</th>\n",
       "      <td>https://raw.githubusercontent.com/lintool/Grim...</td>\n",
       "      <td>https://github.com/lintool/GrimmerSenatePressR...</td>\n",
       "      <td>11Mar2008Whitehouse7.txt</td>\n",
       "      <td>raw/Whitehouse/11Mar2008Whitehouse7.txt</td>\n",
       "      <td>WHITEHOUSE UNVEILS 'BUSH DEBT': $7.7 TRILLION ...</td>\n",
       "      <td>[WHITEHOUSE, UNVEILS, 'BUSH, DEBT, ', :, $, 7....</td>\n",
       "      <td>482</td>\n",
       "      <td>[whitehous, unveil, debt, trillion, foregon, s...</td>\n",
       "      <td>260</td>\n",
       "    </tr>\n",
       "  </tbody>\n",
       "</table>\n",
       "</div>"
      ],
      "text/plain": [
       "                                        download_url  \\\n",
       "0  https://raw.githubusercontent.com/lintool/Grim...   \n",
       "1  https://raw.githubusercontent.com/lintool/Grim...   \n",
       "2  https://raw.githubusercontent.com/lintool/Grim...   \n",
       "3  https://raw.githubusercontent.com/lintool/Grim...   \n",
       "4  https://raw.githubusercontent.com/lintool/Grim...   \n",
       "5  https://raw.githubusercontent.com/lintool/Grim...   \n",
       "6  https://raw.githubusercontent.com/lintool/Grim...   \n",
       "7  https://raw.githubusercontent.com/lintool/Grim...   \n",
       "8  https://raw.githubusercontent.com/lintool/Grim...   \n",
       "9  https://raw.githubusercontent.com/lintool/Grim...   \n",
       "\n",
       "                                            html_url  \\\n",
       "0  https://github.com/lintool/GrimmerSenatePressR...   \n",
       "1  https://github.com/lintool/GrimmerSenatePressR...   \n",
       "2  https://github.com/lintool/GrimmerSenatePressR...   \n",
       "3  https://github.com/lintool/GrimmerSenatePressR...   \n",
       "4  https://github.com/lintool/GrimmerSenatePressR...   \n",
       "5  https://github.com/lintool/GrimmerSenatePressR...   \n",
       "6  https://github.com/lintool/GrimmerSenatePressR...   \n",
       "7  https://github.com/lintool/GrimmerSenatePressR...   \n",
       "8  https://github.com/lintool/GrimmerSenatePressR...   \n",
       "9  https://github.com/lintool/GrimmerSenatePressR...   \n",
       "\n",
       "                         name                                       path  \\\n",
       "0  10Apr2007Whitehouse123.txt  raw/Whitehouse/10Apr2007Whitehouse123.txt   \n",
       "1    10Apr2008Whitehouse2.txt    raw/Whitehouse/10Apr2008Whitehouse2.txt   \n",
       "2    10Apr2008Whitehouse3.txt    raw/Whitehouse/10Apr2008Whitehouse3.txt   \n",
       "3   10Aug2007Whitehouse78.txt   raw/Whitehouse/10Aug2007Whitehouse78.txt   \n",
       "4   10Jan2008Whitehouse35.txt   raw/Whitehouse/10Jan2008Whitehouse35.txt   \n",
       "5    10Mar2008Whitehouse8.txt    raw/Whitehouse/10Mar2008Whitehouse8.txt   \n",
       "6   10Sep2007Whitehouse72.txt   raw/Whitehouse/10Sep2007Whitehouse72.txt   \n",
       "7  11Apr2007Whitehouse122.txt  raw/Whitehouse/11Apr2007Whitehouse122.txt   \n",
       "8  11Jan2007Whitehouse161.txt  raw/Whitehouse/11Jan2007Whitehouse161.txt   \n",
       "9    11Mar2008Whitehouse7.txt    raw/Whitehouse/11Mar2008Whitehouse7.txt   \n",
       "\n",
       "                                                text  \\\n",
       "0  SEN. WHITEHOUSE SHARES WESTERLY GIRL'S STORY I...   \n",
       "1  SEN. WHITEHOUSE SAYS PRESIDENT BUSH MUST BEGIN...   \n",
       "2  EPA MUST REVIEW LEGAL PROCESS TO ROOT OUT POLI...   \n",
       "3  R.I. SENATORS PRAISE SEN. DENIAL OF LNG FACILI...   \n",
       "4  SEN. WHITEHOUSE COMMENTS ON ONE-YEAR ANNIVERSA...   \n",
       "5  SENS. REED, WHITEHOUSE WELCOME RHODE ISLAND ST...   \n",
       "6  REP. WHITEHOUSE ISSUES STATEMENT ON GEN. PETRA...   \n",
       "7  SEN. WHITEHOUSE URGES BUSH FOR NEW DIRECTION I...   \n",
       "8  SENS. REED, WHITEHOUSE URGE PORTUGAL TO RECONS...   \n",
       "9  WHITEHOUSE UNVEILS 'BUSH DEBT': $7.7 TRILLION ...   \n",
       "\n",
       "                                      tokenized_text  word_counts  \\\n",
       "0  [SEN., WHITEHOUSE, SHARES, WESTERLY, GIRL, 'S,...          397   \n",
       "1  [SEN., WHITEHOUSE, SAYS, PRESIDENT, BUSH, MUST...          344   \n",
       "2  [EPA, MUST, REVIEW, LEGAL, PROCESS, TO, ROOT, ...          553   \n",
       "3  [R.I, ., SENATORS, PRAISE, SEN, ., DENIAL, OF,...          216   \n",
       "4  [SEN., WHITEHOUSE, COMMENTS, ON, ONE-YEAR, ANN...          257   \n",
       "5  [SENS, ., REED, ,, WHITEHOUSE, WELCOME, RHODE,...          380   \n",
       "6  [REP., WHITEHOUSE, ISSUES, STATEMENT, ON, GEN....          270   \n",
       "7  [SEN., WHITEHOUSE, URGES, BUSH, FOR, NEW, DIRE...          521   \n",
       "8  [SENS, ., REED, ,, WHITEHOUSE, URGE, PORTUGAL,...          484   \n",
       "9  [WHITEHOUSE, UNVEILS, 'BUSH, DEBT, ', :, $, 7....          482   \n",
       "\n",
       "                                   normalized_tokens  normalized_tokens_count  \n",
       "0  [whitehous, share, westerli, girl, stori, push...                      231  \n",
       "1  [whitehous, say, presid, bush, must, begin, br...                      171  \n",
       "2  [epa, must, review, legal, process, root, poli...                      305  \n",
       "3  [senat, prais, sen, denial, lng, facil, permit...                      115  \n",
       "4  [whitehous, comment, anniversari, presid, bush...                      132  \n",
       "5  [sen, reed, whitehous, welcom, rhode, island, ...                      195  \n",
       "6  [whitehous, issu, statement, petraeu, iraq, re...                      118  \n",
       "7  [whitehous, urg, bush, new, direct, iraq, shel...                      257  \n",
       "8  [sen, reed, whitehous, urg, portug, reconsid, ...                      254  \n",
       "9  [whitehous, unveil, debt, trillion, foregon, s...                      260  "
      ]
     },
     "execution_count": 19,
     "metadata": {},
     "output_type": "execute_result"
    }
   ],
   "source": [
=======
   "execution_count": null,
   "metadata": {
    "collapsed": false
   },
   "outputs": [],
   "source": [
>>>>>>> d195bdb541288306c8d9b6aa1962ebe4ae022cde
    "stop_words_nltk = stopwords.words('english')\n",
    "#stop_words = [\"the\",\"it\",\"she\",\"he\", \"a\"] #Uncomment this line if you want to use your own list of stopwords.\n",
    "\n",
    "#The stemmers and lemmers need to be initialized before bing run\n",
    "porter = nltk.stem.porter.PorterStemmer()\n",
    "snowball = nltk.stem.snowball.SnowballStemmer('english')\n",
    "wordnet = nltk.stem.WordNetLemmatizer()\n",
    "\n",
    "def normlizeTokens(tokenLst, stopwordLst = None, stemmer = None, lemmer = None):\n",
    "    #We can use a generator here as we just need to iterate over it\n",
    "\n",
    "    #Lowering the case and removing non-words\n",
    "    workingIter = (w.lower() for w in tokenLst if w.isalpha())\n",
    "\n",
    "    #Now we can use the semmer, if provided\n",
    "    if stemmer is not None:\n",
    "        workingIter = (stemmer.stem(w) for w in workingIter)\n",
    "        \n",
    "    #And the lemmer\n",
    "    if lemmer is not None:\n",
    "        workingIter = (lemmer.lemmatize(w) for w in workingIter)\n",
    "    \n",
    "    #And remove the stopwords\n",
    "    if stopwordLst is not None:\n",
    "        workingIter = (w for w in workingIter if w not in stopwordLst)\n",
    "    #We will return a list with the stopwords removed\n",
    "    return list(workingIter)\n",
    "\n",
    "whReleases['normalized_tokens'] = whReleases['tokenized_text'].apply(lambda x: normlizeTokens(x, stopwordLst = stop_words_nltk, stemmer = porter))\n",
    "\n",
    "whReleases['normalized_tokens_count'] = whReleases['normalized_tokens'].apply(lambda x: len(x))\n",
    "\n",
    "whReleases"
   ]
  },
  {
   "cell_type": "markdown",
   "metadata": {},
   "source": [
    "The stemmer we use here is called the [Porter Stemmer](http://www.nltk.org/api/nltk.stem.html#module-nltk.stem.porter), there are many others, including another good one by the same person (Martin Porter) called the [Snowball Stemmer](http://www.nltk.org/api/nltk.stem.html#module-nltk.stem.snowball) or 'another stemmer' called the [Lancaster Stemmer](http://www.nltk.org/_modules/nltk/stem/lancaster.html). We can also normalize our words by lemmatizing them, or matching word variants or inflected forms to a common morpheme in a dictionary like [WordNet](https://wordnet.princeton.edu) through intelligent stemming rules. (The WordNet function `morphy` returns the given word if it cannot be matched to a word in the dictionary).\n",
    "\n",
    "Now that it is cleaned we start analyzing the dataset. We can start by finding frequency distributions for the dataset. Lets start looking at all the press releases together. The [`ConditionalFreqDist`](http://www.nltk.org/api/nltk.html#nltk.probability.ConditionalProbDist) class reads in an iterable of tuples, the first element is the condition and the second the focal word. For starters, we will use word lengths as the conditions, but tags or clusters will provide more useful results."
   ]
  },
  {
   "cell_type": "code",
<<<<<<< HEAD
   "execution_count": 20,
   "metadata": {},
   "outputs": [
    {
     "name": "stdout",
     "output_type": "stream",
     "text": [
      "2038\n"
     ]
    }
   ],
=======
   "execution_count": null,
   "metadata": {
    "collapsed": false
   },
   "outputs": [],
>>>>>>> d195bdb541288306c8d9b6aa1962ebe4ae022cde
   "source": [
    "#.sum() adds together the lists from each row into a single list\n",
    "whcfdist = nltk.ConditionalFreqDist(((len(w), w) for w in whReleases['normalized_tokens'].sum()))\n",
    "\n",
    "#print the number of words\n",
    "print(whcfdist.N())"
   ]
  },
  {
   "cell_type": "markdown",
   "metadata": {},
   "source": [
    "From this we can lookup the distributions of different word lengths"
   ]
  },
  {
   "cell_type": "code",
<<<<<<< HEAD
   "execution_count": 21,
   "metadata": {},
   "outputs": [
    {
     "data": {
      "image/png": "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\n",
      "text/plain": [
       "<matplotlib.figure.Figure at 0x2b940e3b3860>"
      ]
     },
     "metadata": {},
     "output_type": "display_data"
    }
   ],
=======
   "execution_count": null,
   "metadata": {
    "collapsed": false
   },
   "outputs": [],
>>>>>>> d195bdb541288306c8d9b6aa1962ebe4ae022cde
   "source": [
    "whcfdist[3].plot()"
   ]
  },
  {
   "cell_type": "markdown",
   "metadata": {},
   "source": [
    "See that the most frequent 3-character word is \"thi\". But what is \"thi\"? It is actually \"this\" stemmed by the Porter Stemmer. "
   ]
  },
  {
   "cell_type": "code",
<<<<<<< HEAD
   "execution_count": 22,
   "metadata": {},
   "outputs": [
    {
     "name": "stdout",
     "output_type": "stream",
     "text": [
      "thi\n"
     ]
    }
   ],
=======
   "execution_count": null,
   "metadata": {
    "collapsed": false
   },
   "outputs": [],
>>>>>>> d195bdb541288306c8d9b6aa1962ebe4ae022cde
   "source": [
    "porter = nltk.stem.porter.PorterStemmer()\n",
    "print (porter.stem('this'))"
   ]
  },
  {
   "cell_type": "markdown",
   "metadata": {},
   "source": [
    "Let's try with the Snowball Stemer. See that \"this\" is corretly stemmed as a 4-character word. "
   ]
  },
  {
   "cell_type": "code",
<<<<<<< HEAD
   "execution_count": 23,
   "metadata": {},
   "outputs": [
    {
     "name": "stdout",
     "output_type": "stream",
     "text": [
      "this\n"
     ]
    },
    {
     "data": {
      "image/png": "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\n",
      "text/plain": [
       "<matplotlib.figure.Figure at 0x2b940e44d208>"
      ]
     },
     "metadata": {},
     "output_type": "display_data"
    }
   ],
=======
   "execution_count": null,
   "metadata": {
    "collapsed": false
   },
   "outputs": [],
>>>>>>> d195bdb541288306c8d9b6aa1962ebe4ae022cde
   "source": [
    "print (snowball.stem('this'))\n",
    "\n",
    "whReleases['normalized_tokens'] = whReleases['tokenized_text'].apply(lambda x: normlizeTokens(x, stopwordLst = stop_words_nltk, stemmer = snowball))\n",
    "whReleases['normalized_tokens_count'] = whReleases['normalized_tokens'].apply(lambda x: len(x))\n",
    "whcfdist = nltk.ConditionalFreqDist(((len(w), w) for w in whReleases['normalized_tokens'].sum()))\n",
    "whcfdist[3].plot()"
   ]
  },
  {
   "cell_type": "markdown",
   "metadata": {},
   "source": [
    "We can also create a Conditional Probability Distribution or [`ConditionalProbDist`](http://www.nltk.org/api/nltk.html#nltk.probability.ConditionalProbDist) from the `ConditionalFreqDist`. To do this, however, we need a model for the probability distribution. A simple model is [`ELEProbDist`](http://www.nltk.org/api/nltk.html#nltk.probability.ELEProbDist) which gives the expected likelihood estimate for the probability distribution of the experiment used to generate the observed frequency distribution. "
   ]
  },
  {
   "cell_type": "code",
<<<<<<< HEAD
   "execution_count": 24,
   "metadata": {},
   "outputs": [
    {
     "name": "stdout",
     "output_type": "stream",
     "text": [
      "us\n",
      "0.6470588235294118\n"
     ]
    }
   ],
=======
   "execution_count": null,
   "metadata": {
    "collapsed": false
   },
   "outputs": [],
>>>>>>> d195bdb541288306c8d9b6aa1962ebe4ae022cde
   "source": [
    "whcpdist = nltk.ConditionalProbDist(whcfdist, nltk.ELEProbDist)\n",
    "\n",
    "#print the most common 2 letter word\n",
    "print(whcpdist[2].max())\n",
    "\n",
    "#And its probability\n",
    "print(whcpdist[2].prob(whcpdist[2].max()))"
   ]
  },
  {
   "cell_type": "markdown",
   "metadata": {},
   "source": [
    "Length is one feature of a word, but there are many more important features we care about. Another critical feature is a word's role in the sentence, or its part of speech (POS). Here, we will be classifying words according to their part of speech (POS), using the [`nltk.pos_tag()`](http://www.nltk.org/api/nltk.tag.html#nltk.tag.pos_tag). The tags used here are those from the [Brown Corpus tagset](http://www.scs.leeds.ac.uk/amalgam/tagsets/brown.html)."
   ]
  },
  {
   "cell_type": "code",
<<<<<<< HEAD
   "execution_count": 25,
   "metadata": {},
=======
   "execution_count": null,
   "metadata": {
    "collapsed": true
   },
>>>>>>> d195bdb541288306c8d9b6aa1962ebe4ae022cde
   "outputs": [],
   "source": [
    "whReleases['normalized_tokens_POS'] = [nltk.pos_tag(t) for t in whReleases['normalized_tokens']]"
   ]
  },
  {
   "cell_type": "markdown",
   "metadata": {},
   "source": [
    "This gives us a new column with the part of speech as a short initialism and the word in a tuple, exactly how the `nltk.ConditionalFreqDist()` function wants them. We can now construct another conditional frequency distribution."
   ]
  },
  {
   "cell_type": "code",
<<<<<<< HEAD
   "execution_count": 26,
   "metadata": {},
   "outputs": [
    {
     "data": {
      "text/plain": [
       "[('whitehous', FreqDist({'JJ': 39, 'NN': 1})),\n",
       " ('share', FreqDist({'NN': 4})),\n",
       " ('wester', FreqDist({'NN': 1, 'RBR': 1})),\n",
       " ('girl', FreqDist({'NN': 2})),\n",
       " ('stori', FreqDist({'FW': 2})),\n",
       " ('push', FreqDist({'NN': 2})),\n",
       " ('stem', FreqDist({'NN': 12})),\n",
       " ('cell', FreqDist({'NN': 9, 'VBP': 3})),\n",
       " ('research', FreqDist({'NN': 9})),\n",
       " ('lila', FreqDist({'CD': 1, 'JJ': 1, 'NN': 2}))]"
      ]
     },
     "execution_count": 26,
     "metadata": {},
     "output_type": "execute_result"
    }
   ],
=======
   "execution_count": null,
   "metadata": {
    "collapsed": false
   },
   "outputs": [],
>>>>>>> d195bdb541288306c8d9b6aa1962ebe4ae022cde
   "source": [
    "whcfdist_WordtoPOS = nltk.ConditionalFreqDist(whReleases['normalized_tokens_POS'].sum())\n",
    "list(whcfdist_WordtoPOS.items())[:10]"
   ]
  },
  {
   "cell_type": "markdown",
   "metadata": {},
   "source": [
    "This gives the frequency of each word as each part of speech...which can be uninformative and boring."
   ]
  },
  {
   "cell_type": "code",
<<<<<<< HEAD
   "execution_count": 27,
   "metadata": {},
   "outputs": [
    {
     "data": {
      "image/png": "iVBORw0KGgoAAAANSUhEUgAAAisAAAG/CAYAAACZsZfgAAAABHNCSVQICAgIfAhkiAAAAAlwSFlzAAAPYQAAD2EBqD+naQAAADl0RVh0U29mdHdhcmUAbWF0cGxvdGxpYiB2ZXJzaW9uIDIuMS4xLCBodHRwOi8vbWF0cGxvdGxpYi5vcmcvAOZPmwAAIABJREFUeJzs3Xl0lPX9/v/nZJJMNghhJ+xrwpIEggsgGhVsAUEDYVFcwGq1UhdA+1H7PV30tFp/R4gKrrhVrUhYZRFBEKkirYCQhC1hhyyQAIkJCZkkM/P7IzSVihLCTN4zk+txDofzTu6ZXK1vhot77nndFpfL5UJERETESwWYDiAiIiLyc1RWRERExKuprIiIiIhXU1kRERERr6ayIiIiIl5NZUVERES8msqKiIiIeDWVFREREfFqKisiIiLi1QJNB3CHwsJSjzxvZaWd/ft30aNHX4KDbR75GdL4aF+JJ2hfiad4cm+1atWkTsfpzMrPcDgc5/0u4g7aV+IJ2lfiKd6wt1RWRERExKuprIiIiIhXU1kRERERr6ayIiIiIl5NZUVERES8msqKiIiIeDWVFREREfFqKisiIiLi1VRWRERExKuprIiIiIhXM35voBtvvJHc3NwffX3y5Mn86U9/MpBIREREvInxsrJo0aLz7jewb98+7rnnHkaMGGEwlYiIiHgL42WlefPm563ffPNNOnXqxFVXXWUokYiIiHgT42XlhyorK1m+fDn33HMPFovlEh5nd/vdIPfllvCPzw/QrpmLu9qcdetzS+Nmt1ec97uIO2hfiad4dm81qdNRXlVW1q1bR2lpKWPHjr2kx+3fv8vtWTZklFP4fSWF38O7q3czckDYJRUokYvJyztsOoL4Ie0r8RRP7K1OndrU6TivKiuLFy/muuuuo02buoX/jx49+rr9zMovw86w69guqh0ududU0aFtOLde08mtP0MaJ7u9gry8w0RHd8FmCzEdR/yE9pV4ijfsLa8pK7m5uXzzzTfMmTPnkh8bHGxze57YLmHcM6KSeauyAVi7NY9WUREMG9jB7T9LGiebLYTQ0DDTMcTPaF+Jp5jcW14zZ2XJkiW0aNGC66+/3nSUWv17NGdYXGjt+qPPs9m6t8BgIhERkcbHK8qK0+lkyZIlJCcnExjoNSd7ABjQ1cYvr4wGwAW8uWI3WUeLzIYSERFpRLyirHzzzTfk5eWRkpJiOsoFjRnckWvi2gJQ7XDy8uJMcgrPGE4lIiLSOHhFWRk6dChZWVl07drVdJQLslgsTBkRS1y3FgCctVeTmpbO6RJ9RFBERMTTvKKs+IJAawAPJvelS9uaz4QXldqZnZZOWUWV4WQiIiL+TWXlEoQEBzJ9QgKto2ouus07WcacRRlUVbv3Y9MiIiLyXyorl6hpeDAzJybQNCwIgOyc73lz+W6cTpfhZCIiIv5JZaUeWkeF8eiEBGxBVgC2ZRfy0bpsXC4VFhEREXdTWamnru2a8tux/bAG1Izg/+K7XD791xHDqURERPyPyspl6NetBVNHxtauF288yKbMfIOJRERE/I/KymW6Jq4dKUndatfvfrqXzIOnDCYSERHxLyorbjBqUGeGJdbcM8jpcvHq0p0cyi8xnEpERMQ/qKy4gcVi4fbhPbkiphUA9ioHLy5M50RRueFkIiIivk9lxU0CAiz8ekwfenVsBkBpeRWpC9IpKas0nExERMS3qay4UVCglYdT4mjfMhyAguKzvLgwnYrKasPJREREfJfKipuFhwQxY2ICUU1sABw+XsqrS3dS7XAaTiYiIuKbVFY8oHnTEGZOTCDMFgjAzkOneW/1Xg2NExERqQeVFQ9p3yqCR8bHE2it+b/4m53HWbzxoOFUIiIivkdlxYN6dWzGA7f0wXJu/em/jrB+W47RTCIiIr5GZcXDBsa05o5f9Kpdf/R5Nlv3FhhMJCIi4ltUVhrAjYkduHlwZwBcwJsrdpN1tMhsKBERER+hstJAxl3XjWvi2gJQ7XDy8uJMcgrPGE4lIiLi/VRWGojFYmHKiFjiurUA4Ky9mtS0dE6XVBhOJiIi4t1UVhpQoDWAB5P70qVtEwCKSu3MTkunrKLKcDIRERHvpbLSwEKCA5k+IYHWUaEA5J0sY86iDKqqHYaTiYiIeCeVFQOahgczc2ICTcOCAMjO+Z43l+/G6dTQOBERkf+lsmJI66gwHp2QgC3ICsC27EI+WpetKbciIiL/Q2XFoK7tmvLbsf2wBtSMjfviu1w+/dcRw6lERES8i8qKYf26tWDqyNja9eKNB9mUmW8wkYiIiHdRWfEC18S1IyWpW+363U/3knnwlMFEIiIi3kNlxUuMGtSZYYkdAHC6XLy6dCeH8ksMpxIRETFPZcVLWCwWbh/ekytiWgFgr3Lw4sJ0ThSVG04mIiJilsqKFwkIsPDrMX3o1bEZAKXlVaQuSKekrNJwMhEREXNUVrxMUKCVh1PiaN8yHICC4rO8uDCdispqw8lERETMUFnxQuEhQcyYmEBUExsAh4+X8urSnVQ7nIaTiYiINDyVFS/VvGkIMycmEGYLBGDnodO8t3qvhsaJiEijo7Lixdq3iuCR8fEEWmv+M32z8zhL/nnQcCoREZGGpbLi5Xp1bMYDt/TBcm69avMR1m/LMZpJRESkIams+ICBMa2ZfFOv2vVHn2ezdW+BwUQiIiINR2XFRwwb2IGbB3cGwAW8uWI32ceKzYYSERFpACorPmTcdd24pl9bAKodTl5elEFu4RnDqURERDxLZcWHWCwWpoyMpV+35gCU26uZnZbO6ZIKw8lEREQ8R2XFxwRaA5iW3I8ubZsAUFRqJzUtnbKKKsPJREREPENlxQeFBAcyfUICrZuFApB7sow5izOpqnYYTiYiIuJ+Kis+qml4MDMnJdAkLAiA7GPFvLliN06nhsaJiIh/UVnxYa2jwpg+IQFbkBWAbVmFzF+3T1NuRUTEr6is+Liu7ZoybWw/rAE1Y+PWf5fDp/86YjiViIiI+6is+IG4bi2YOjK2dr1440E2ZeYbTCQiIuI+Kit+4pq4dqQkdatdv7d6L5kHTxlMJCIi4h5eUVZOnDjB448/ztVXX018fDxjxowhMzPTdCyfM2pQZ25MbA+Aw+ni1aU7OZRfYjiViIjI5TFeVr7//ntuv/12goKCmDdvHqtWreKJJ54gMjLSdDSfY7FYmDy8FwNjWgFgr3Lw4sJ0ThSVG04mIiJSf8bLyrx582jbti3PPfcc8fHxdOzYkaFDh9KpUyfT0XxSQICF+8f0oVeHmrJXWl5F6oJ0SsoqDScTERGpn0DTAb744guGDh3KI488wpYtW2jTpg2TJ09m4sSJdX6Oyko7Dof7B6LZ7RXn/e5Lfn1zT2Yv2kX+qbMUFJ9l9oLtPJrSh5Bgq+lojZ4v7yvxXtpX4ime3VtN6nSUxWV4KEdcXBwA99xzDyNGjCAjI4Nnn32WZ555huTk5Do9x8aNGz0Z0WeVnnXy0VellFbU/Cfu0iqQsVeH137MWURExKSkpKQ6HWf8zIrL5aJfv37MnDkTgD59+rB//37mz59f57LSo0dfj51Zycs7THR0F2y2ELc/f0No2aac2Qt3cdbu4HBhNd8cCOKum7pjsaiwmOIP+0q8j/aVeIo37C3jZaVVq1Z07979vK9169aNNWvW1Pk5goNt7o51HpsthNDQMI/+DE/p3iGMR8cn8MLHO6h2OPn3npO0bBZOSlL3iz9YPMqX95V4L+0r8RSTe8v4BbaJiYkcOnTovK8dPnyY9u3bG0rkf3p1bMYDt/ThP+dSVm0+wvptOUYziYiI1JXxsjJlyhTS09N5/fXXOXLkCCtWrCAtLY3JkyebjuZXBsa0ZvJNvWrXH32ezda9BQYTiYiI1I3xshIfH8/cuXNZtWoVo0eP5tVXX+X3v/89t9xyi+lofmfYwA7cPLgzAC7gzRW7yT5WbDaUiIjIRRi/ZgXghhtu4IYbbjAdo1EYd103ikvtbNp5nGqHk5cXZfDUnYm0bxVhOpqIiMgFGT+zIg3LYrEwZWQs/bo1B6DcXs3stHROl2g2g4iIeCeVlUYo0BrAtOR+dGlbM4ynqNROalo6ZRVVhpOJiIj8mMpKIxUSHMj0CQm0bhYKQO7JMuYszqSq2v3zakRERC6Hykoj1jQ8mJmTEmgSFgRA9rFi3lyxG6fT6FBjERGR86isNHKto8KYPiEBW1DNPYO2ZRUyf90+DN+FQUREpJbKitC1XVOmje1Xe8+g9d/l8Om/jhhOJSIiUkNlRQCI69aCqSNja9eLNx5kU2a+wUQiIiI1VFak1jVx7UhJ6la7fm/1XjIPnjKYSERERGVF/seoQZ25MbHmvkwOp4tXl+7kUH6J4VQiItKYqazIeSwWC5OH92JgTCsA7FUOXlqYTkFRueFkIiLSWKmsyI8EBFi4f0wfenWIBKCkvIrZC9IpKas0nExERBojlRW5oKBAKw+Pj6d9y3AACorP8uLCdCoqqw0nExGRxkZlRX5SeEgQMyYmENXEBsDh46W8umwn1Q6n4WQiItKYqKzIz2reNIQZExMIs9XcoHvnwdP8ffVeDY0TEZEGo7IiF9WhVQQPp8QRaK3ZLpt2HmfJPw8aTiUiIo2FyorUSUynKO4f0wfLufWqzUf44rsco5lERKRxUFmROrsitjWTb+pVu/7H2my2ZRUYTCQiIo2ByopckmEDOzBqUGcAXMAby3eTfazYbCgREfFrKityyVKSujGkX1sAqh1OXl6UQW7hGcOpRETEX6msyCWzWCxMHRlLv67NASi3VzM7LZ3TJRWGk4mIiD9SWZF6CbQGMG1sPzq3bQJAUamd1IXplFdUGU4mIiL+RmVF6i0kOJDpExJo3SwUgNzCMl5enElVtcNwMhER8ScqK3JZIsODmTEpgSZhQQBkHytm3ordOJ0aGiciIu6hsiKXrU1UGNMnJBAcVLOdtmYVMn/9Pk25FRERt1BZEbfo2q4p05LjCLDUjI1bvy2H1f8+ajiViIj4A5UVcZv47i2YOjK2dr3oywNsysw3mEhERPyByoq41dD4dqQkdatdv7d6L5kHTxlMJCIivk5lRdxu1KDO3JjYHgCH08WrS3dyKL/EcCoREfFVKividhaLhcnDezEwphUA9ioHLy1Mp6Co3HAyERHxRSor4hEBARbuH9OHXh0iASgpr2L2gnRKyioNJxMREV+jsiIeExRo5eHx8bRvGQ5AQfFZXlyYTkVlteFkIiLiS1RWxKPCQ4KYMTGBqCY2AA4fL+XVZTupdjgNJxMREV+hsiIe17xpCDMmJhBmCwRg58HT/H31Xg2NExGROlFZkQbRoVUED6fEEWit2XKbdh5nyT8PGk4lIiK+QGVFGkxMpyjuH9MHy7n1qs1H+OK7HKOZRETE+6msSIO6IrY1k2/qVbv+x9pstmUVGEwkIiLeTmVFGtywgR0YNagzAC7gjeW7yT5WbDaUiIh4LZUVMSIlqRtD+rUFoNrh5OVFGeQWnjGcSkREvJHKihhhsViYOjKWfl2bA1Bur2Z2WjqnSyoMJxMREW+jsiLGBFoDmDa2H53bNgGgqNRO6sJ0yiuqDCcTERFvorIiRoUEBzJ9QgKtm4UCkFtYxsuLM6mqdhhOJiIi3kJlRYyLDA9mxqQEmoQFAZB9rJh5K3bjdGponIiIqKyIl2gTFcb0CQkEB9Vsya1Zhcxfv09TbkVERGVFvEfXdk2ZlhxHgKVmbNz6bTms/vdRw6lERMQ0lRXxKvHdWzB1ZGztetGXB/hmZ77BRCIiYprxsjJnzhxiYmLO+zVixAjTscSgofHtGHddt9r1u5/uZefBUwYTiYiISYGmAwD07NmTd999t3ZttVoNphFvcPPgzhSdsbPhu1wcThevLN3JE3cMoEvbpqajiYhIAzN+ZgVqykmrVq1qfzVv3tx0JDHMYrFwx/BeDOzVCgB7lYMX09IpKCo3nExERBqaV5xZOXLkCEOHDsVms9G/f38ee+wxoqOj6/z4yko7Dof753LY7RXn/S4N786bulJ8poIDeaWUlFcx6+MdPDaxb+3HnH2R9pV4gvaVeIpn91aTOh1lcRn+bOjGjRspLy+na9euFBYW8sorr3DixAlWrFhBREREnZ9D/FdFpZP5m85wqtQJQNtmViYOiSA40GI4mYiIXI6kpKQ6HWe8rPyvkpISbrjhBp588kkmTJhQp8fk5p702JmVvLzDREd3wWYLcfvzS90Vldp5IW0XxWcqAejTuRm/GdMLq9Ur3sm8JNpX4gnaV+IpntxbnTq1qdNxXvE20A81bdqULl26cPRo3edrBAfbPJgIbLYQQkPDPPoz5OeFhoYxc1J/nvvwO87aq9l9pJgFG4/yq1G9sVh88wyL9pV4gvaVeIrJveV1/ywtKyvj2LFjtGrVynQU8TIdWkXwSEocgdaacrIp8zhLvzpoOJWIiHia8bLy/PPP8+2335KTk8N3333HQw89REBAAKNHjzYdTbxQTKco7h/Tl/+cS1n5zRE2fJdjNJOIiHiW8beBjh8/zsyZMykuLqZ58+YMHDiQtLQ0fXxZftIVsa25fXhPPlq3D4AP12bTNNzGwBidjRMR8UfGy0pqaqrpCOKDhl/RkaIzdlb/6ygu4I3lu3j8tv706tjMdDQREXEz428DidTX+KTuDO7bFoBqh5OXF2WQe7LMcCoREXE3lRXxWRaLhXtGxdK3a81bhuX2alLTdnC6REOxRET8icqK+LRAawDTkvvRuW3NFMTTJXZSF6ZTXlFlOJmIiLiLyor4vFBbINMnJNCqWc2wotzCMl5enElVtfsHBYqISMNTWRG/EBkezMxJ/WvvGZR9rJh5K3bjdHrVgGYREakHlRXxG22iwpg+IYHgoJptvTWrkPnr9+Fld5QQEZFLpLIifqVru6ZMS44j4NwI/vXbclj977rfukFERLyPyor4nfjuLZg6MrZ2vejLA3yzM99gIhERuRwqK+KXhsa3Y9x13WrX7366l50HTxlMJCIi9aWyIn7r5sGduSGxPQAOp4tXlu7k8PESw6lERORSqayI37JYLNwxvBcDe9XcM8he5eDFtHQKisoNJxMRkUuhsiJ+LSDAwq/H9KFnh0gASsqrmJ2WTklZpeFkIiJSVyor4veCg6w8Mj6e6JbhABQUneWlRelUVFYbTiYiInWhsiKNQnhIEDMnJhDVxAbAofxSXlu2i2qH03AyERG5GJUVaTSaNw1hxsQEQm2BAGQePMXfP9uroXEiIl5OZUUalQ6tIngkJY5Aa83QuE2Zx1n61UHDqURE5OeorEijE9MpivvH9MVybr3ymyNs+C7HaCYREflpKivSKF0R25rbh/esXX+4NpttWYUGE4mIyE9RWZFGa/gVHRk5qBMALuCN5bvIPlZsNpSIiPyIyoo0auOTujO4b1sAqh1OXl6UQe7JMsOpRETkh1RWpFGzWCzcMyqWvl2bA1BuryY1bQenSyoMJxMRkf9QWZFGL9AawLTkfnRu2wSA0yV2UhemU15RZTiZiIiAyooIAKG2QKZPSKBVsxAAcgvLmLM4k6pqh+FkIiKisiJyTmR4MDMn9iciNAiArGPFzFu5B6eGxomIGKWyIvIDbZqHMX1CAsFBNX80tu4t4ON1+zTlVkTEILeVla1bt7Jw4UIOHtQ0UPFt3aKbMi05jgBLzdi4ddty+OzfRw2nEhFpvOpVVh577DGeeuqp2vX8+fO58847+cMf/kBycjKbN292W0ARE+K7t2DqyNja9cIvD/DNznyDiUREGq96lZVt27Zx7bXX1q7ffPNNJkyYwLZt2/jlL3/J3Llz3RZQxJSh8e0Ye1232vW7n+5l56FTBhOJiDRO9Sorp0+fpnXr1gDs27eP/Px87r77bsLDwxk7dizZ2dluDSliyujBnbkhsT0ADqeLV5bu5MjxUsOpREQal3qVlWbNmpGbmwvAV199RatWrejZs+Y+Kw6HA6fT6b6EIgZZLBbuGN6LxF6tALBXOkhN20FB8VnDyUREGo96lZXrrruOF154geeff54333yTUaNG1X5v3759dOjQwW0BRUwLCLBw/5g+9OgQCUBJeRWzF+ygpLzScDIRkcahXmXliSeeYOjQoXz99dckJSXx8MMP137v888/Z+jQoW4LKOINgoOsPJIST7sWYQAUFJ3lpYXp2Cs1NE5ExNMC6/OgJk2a8Nxzz13we/Pnz7+sQCLeKiI0iJkT+/Psh9soKrVzKL+U1z7ZyUPj4gi0amSRiIin1OsVdtiwYezdu/eC38vOzmbYsGGXFUrEW7WIDGHGhARCbTU9P+PAKd5fk6WhcSIiHlSvspKbm0tl5YXfr6+oqOD48eOXFUrEm3VoHcHD4+IItNYMjfs6I5+lXx0ynEpExH/VuazY7XaKi4spKioC4MyZMxQXF5/368SJE6xbt672Y80i/iq2cxS/HtMXy7n1ym8Os+G7HKOZRET8VZ2vWZk3bx6vvPIKUPNxznvvvfcnj33ooYcuP5mIl7sytjXFw3syf90+AD5cm03TcBsDY1oZTiYi4l/qXFaGDx9O+/btcblc/P73v+fBBx+kU6dO5x0TFBRE9+7d6d27t9uDinijm67oSPEZO6v/dRQX8MbyXTx+W396dWxmOpqIiN+oc1mJjY0lNrbmXikWi4WkpCSaN2/usWAivmJ8UneKSyvZvOs41Q4nLy/K4Km7BtK+ZbjpaCIifqFeF9iOHTtWRUXkHIvFwj2jYunbtebPRLm9mtS0HZwuqTCcTETEP9RrzkpFRQWvvvoqa9as4fjx4xf8ZNCePXsuO5yIrwi0BjAtuR//3/ztHDleyukSO6kL03nqjkTCQoJMxxMR8Wn1KitPP/00K1euZPTo0XTv3p2gIL0Yi4TaApk+IYFnP9hKYXEFuYVlzFmcycxJCQQFWk3HExHxWfUqKxs2bOCJJ57gzjvvdHceEZ8WGR7MzIn9+esH2zhztoqsY8XMW7mH39zalwCL5eJPICIiP1Kva1asVitdunRxcxQR/9CmeRjTJyQQHFTzx2vr3gI+XrdPU25FROqpXmXl9ttv55NPPnF3FhG/0S26KdOS42rPpqzblsNn/z5qOJWIiG+q19tAISEhbNu2jUmTJjFkyBCaNm163vctFgtTp0695Od94403mD17NnfffTf/7//9v/pEE/Ea8d1bMHVkLO98WnOx+cIvDxAZEcyA7pGGk4mI+JZ6lZUXXngBgLy8PNLT03/0/fqUlYyMDBYsWEBMTEx9Iol4paHx7Sg6Y2fpPw8C8O6newm5JYYQw7lERHxJvcrKT91xub7Kysr43e9+x1/+8hdee+01tz63iGmjB3em+IydDd/l4nC6mLcqm4mDw+hqOpiIiI+oV1lxt2eeeYakpCSGDBlSr7JSWWnH4XC4PZfdXnHe7yL1Ne6aDpz+vpz0A0XYq5ws/lcZnTp8T7RuIyRuotcr8RTP7q0mdTqqXmVly5YtFz3myiuvrNNzrVq1it27d7No0aL6RAFg//5d9X5sXeTlHfbo80vjcH2si5NFVnJPOyivdPHKJ1lMHhpBmK1e17mLXJBer8RTPLG3OnVqU6fj6lVW7rrrLiwWy3kfxbT8zwyJukywzc/P569//SvvvPMONputPlEA6NGjr8fOrOTlHSY6ugs2m64ykMv3aIdqZqVlcqLITnGZk1U7HDyaEoMtSEPj5PLo9Uo8xRv2Vr3KyrJly370teLiYjZt2sTatWt5+umn6/Q8u3bt4tSpU4wbN672aw6Hgy1btvCPf/yDzMxMrNaLv4gHB9e/6NSFzRZCaGiYR3+GNA6hofBQch+en7+DMxUujpwo4701B3loXByBVp1hkcun1yvxFJN7q15l5T93X/5fgwYNIiQkhAULFjBo0KCLPs+gQYNYsWLFeV976qmn6NatG7/+9a/rVFREfE3zpjZSBkWQ9k05ZysdZBw4xftrsrhnZOyPzlCKiEg9h8L9nMTERDZu3FinYyMiIujVq9d5v8LCwmjWrBm9evVydzQRr9GqqZX7x/Qi0FpTTr7OyGfpV4cMpxIR8U5uLyvr1q2jWbNm7n5aEb/Tq0Mkvx7Tl/+cS1n5zWE2bM81mklExBvV622g3/zmNz/6WlVVFYcOHSI/P5/f/e539Q70wQcf1PuxIr7mytjWFA/vyfx1+wD4cG0WkeHBJPbSZ5pFRP6jXmWlrKzsR1+z2WwMGTKEX/7yl1x77bWXHUyksbjpio4Ul9pZ/e+juFzwxvJdPH5bf3p20BlKERGoZ1nR2Q8R90q5vjvFZ+xs3nWCqmonLy/K4Mk7B9K+ZbjpaCIixl32NSsVFRUUFBRQUaGpiSL1FWCxcM+o3vTt2hyAsopqUtN2UFRqN5xMRMS8epeVDRs2kJKSQmJiIklJSSQmJpKSklLnTwKJyPkCrQFMS+5H5zY146dPl9hJTdtBeUWV4WQiImbVq6ysW7eOadOmERQUxJNPPsmsWbN44oknCA4O5sEHH2TdunXuzinSKITaApk+IZ6WkTVTInMKy5i7JJOqaqfhZCIi5tSrrMydO5ebb76Zjz/+mLvvvptRo0YxZcoU5s+fz6hRo5g7d667c4o0GpERNh6b1J+I0CAA9h4t5q2Vu3H+4PYWIiKNSb3KysGDB0lOTr7g92699VYOHjx4WaFEGrs2zcOYPiGB4KCaP6Jb9hbw8fp9592PS0SksahXWYmMjOTQoQtP2zx06BCRkZGXFUpEoFt0U6Yl9yPg3Aj+dVtz+Ozbo4ZTiYg0vHqVlVGjRjF79mwWLlxISUkJAKWlpSxcuJAXX3yRm2++2a0hRRqr+O4tmTIypna9cMMBNu88bjCRiEjDq9eclccee4y8vDz+8Ic/8Mc//hGr1YrD4cDlcvGLX/yCmTNnujunSKN1bXw0xaX22nsHvfPpHpqGB9d+zFlExN/Vq6wEBwczZ84csrKy2Lp1KyUlJURGRjJw4EBiYmIu/gQicklGD+lC0ZlKvtyei8PpYu7STJ6cnEjntk1MRxMR8bg6vw2Un5/PuHHjzpujEhMTwx133MGDDz7I5MmTOX78OOPGjePYsWMeCSvSWFksFu68qRcDerYEwF7pIDWV0P0fAAAgAElEQVRtBwXFZw0nExHxvDqXlXfeeYewsDCSkpJ+8pikpCTCw8N5++233RJORP4rIMDCA7f0pUeHmgvYS8qrmL1gByXllYaTiYh4Vp3LyhdffEFKSspFj0tJSeHrr7++rFAicmHBQVYeSYmnXYswAAqKzvLSwnTslQ7DyUREPKfOZeXEiRN07Njxosd16NCBEydOXFYoEflpEaFBzJzYn6gmNgAO5Zfy2ic7qXZoyq2I+Kc6l5Xw8HCKioouelxxcTFhYWGXFUpEfl6LyBBmTEgg1FZzjXzGgVO8vyZLQ+NExC/Vuaz069ePTz/99KLHrVq1in79+l1WKBG5uA6tI3h4XByB1pqhcV9n5Nd+vFlExJ/UuaxMnjyZ1atXM3fuXByOH78/7nQ6mTt3Lp999hl33HGHW0OKyIXFdo7i12P6Yjm3XvnNYTZszzWaSUTE3eo8Z2XYsGHcd999zJ07l48//pjBgwcTHR0N1HysefPmzZw8eZJ7772XG2+80WOBReR8V8a2pnh4T+av2wfAh2uziAwPJrFXK8PJRETc45KGwj3++ONceeWVvPPOO6xZs4bKypqPTNpsNhITE/nLX/7ysx9tFhHPuOmKjhSX2ln976O4XPDG8l08flt/enZoZjqaiMhlu+QJtklJSSQlJeFwOCguLsblchEVFYXVavVEPhGpo5Tru1N8xs7mXSeoqnby8qIMnrxzIO1bhpuOJiJyWep1I0MAq9VKixYtaNmypYqKiBcIsFi4Z1Tv2nsGlVVUk5q2g6JSu+FkIiKXp95lRUS8T6A1gGnJ/ejcpuaeQadL7KSm7aC8ospwMhGR+lNZEfEzobZApk+Ip2VkCAA5hWXMXZJJVbWGxomIb1JZEfFDkRE2HpvUn4jQIAD2Hi3mrZW7cWponIj4IJUVET/VpnkY0yckEBxU88d8y94CPl6/T1NuRcTnqKyI+LFu0U2ZltyPAEvN2Lh1W3P47NujhlOJiFwalRURPxffvSVTRsbUrhduOMDmnccNJhIRuTQqKyKNwLXx0Yy9tmvt+p1P97Dr0GmDiURE6k5lRaSRGD2kC9cPaA+Aw+li7tJMjhwvNZxKROTiVFZEGgmLxcKdN/ViQM+WANgrHaQuTKeg+KzhZCIiP09lRaQRCQiw8MAtfenRIRKAkrJKUhfsoKS80nAyEZGfprIi0sgEB1l5JCWedi3CADhRdJaXFmZgr3QYTiYicmEqKyKNUERoEDMn9qdZRDAAh/JLeO2TnTicmnIrIt5HZUWkkWoRGcLMif0JtdXciDTjwCn+/lmWhsaJiNdRWRFpxDq0juDhcfEEWmuGxn2dkc+yrw4ZTiUicj6VFZFGLrZzFPeN7oPl3HrFN4f5cnuu0UwiIj+ksiIiXNW7DbcN61m7/mBtFt9lFxpMJCLyXyorIgLATVd2ZMTVnQBwueCN5bvYl1NsOJWIiMqKiPzA+Ou7M7hvGwCqqp28vCiDvJNlhlOJSGOnsiIitQIsFu4Z1Zu+XZsDUFZRTWraDopK7YaTiUhjprIiIucJtAYwLbkfnds0AeBUiZ3UtB2UV1QZTiYijZXKioj8SKgtkOkT4mkZGQJATmEZc5dkUlWtoXEi0vBUVkTkgiIjbDw2qT8RoUEA7D1azFsrd+PU0DgRaWAqKyLyk9o0D2P6hASCg2peKrbsLeDj9fs05VZEGpTxsvLRRx8xZswYEhMTSUxMZNKkSWzcuNF0LBE5p1t0U6Yl9yPAUjM2bt3WHD779qjhVCLSmBgvK23btuXxxx9n8eLFLF68mEGDBvHb3/6Wffv2mY4mIufEd2/JlJExteuFGw6weedxg4lEpDExXlZuvPFGkpKS6Nq1K127dmXGjBmEhYWxY8cO09FE5AeujY9m7LVda9fvfLqHXYdOG0wkIo1FoOkAP+RwOPjss88oLy9nwIABdX5cZaUdh8Ph9jx2e8V5v4u4gy/vq2EDWlNYXMbXmQU4nC7mLslg+vi+dGodbjpao+fL+0q8m2f3VpM6HWVxecGVcllZWdx2223Y7XbCwsKYNWsWSUlJdX68rnERaThOl4vlW8rZf7xm7kqYzcLkoRE0C7caTiYivqauf9d7RVmprKwkPz+fkpIS1q5dy8KFC/nwww/p0aNHnR6fm3vSY2dW8vIOEx3dBZstxO3PL42TP+yrymonc5bs4WB+KQCtm4Uwc0JfmoQFGU7WePnDvhLv5Mm91alTmzod5xVvAwUHB9O5c2cA4uLiyMzM5P333+eZZ56p4+NtnoyHzRZCaGiYR3+GND6+vK9CgekT+/Pch9vIP1VOQXEFb6zcx//dPgBbsM6wmOTL+0q8m8m9ZfwC2wtxOp1UVlaajiEiPyMiNIiZE/vTLCIYgEP5Jbz2yU4cTk25FRH3Ml5WZs+ezdatW8nJySErK4tZs2bx7bffMmbMGNPRROQiWkSGMHNif0JtNWdTMg6c4u+fZWlonIi4lfG3gU6ePMn//d//UVBQQJMmTYiJieHtt9/mmmuuMR1NROqgQ+sIHh4Xz+y0HVQ7XHydkU9UhI2x13UzHU1E/ITxsvLss8+ajiAilym2cxT3je7DG5/swgWs+OYwUU1sXD+gveloIuIHjL8NJCL+4arebbhtWM/a9Qdrs/guu9BgIhHxFyorIuI2N13ZkRFXdwLA5YI3lu9iX06x4VQi4utUVkTErcZf351BfWtmJ1RVO3l5UQZ5J8sMpxIRX6ayIiJuFWCx8KtRvenbJQqAsopqUtN2UFRqN5xMRHyVyoqIuF2gNYBpY+Po1CYCgFMldlLT0imvqDacTER8kcqKiHhEqC2QGRMSaBlZM547p/AMc5dkUFWtoXEicmlUVkTEYyIjbMyc1J+I0Jp7Bu09WsxbK3fj1NA4EbkEKisi4lFtm4fx6IR4goNqXm627C1gwfr9mnIrInWmsiIiHtc9OpIHb+1HgMUCwOdbj7Hm22OGU4mIr1BZEZEGkdCjJVNGxNSu0zbsZ/Ou4wYTiYivUFkRkQZzbUI0ydd2rV2/s2oPuw6fNphIRHyByoqINKgxQ7rU3jPI4XQxd0kmR46XGk4lIt5MZUVEGpTFYuHOm3oxoGdLAOyVDlIXplNYfNZwMhHxViorItLgAgIsPHBLX3p0iASgpKyS2Qt2UFpeaTiZiHgjlRURMSI4yMojKfG0axEGwImis7y0KAN7pcNwMhHxNiorImJMRGgQMyf2p1lEMAAH80p47ZOdOJyacisi/6WyIiJGtYgMYebE/oTarABkHDjF3z/L0tA4EamlsiIixnVoHcHD4+IJtNYMjfs6I59lXx0ynEpEvIXKioh4hdjOUdw3ug+Wc+sV3xzmy+25RjOJiHdQWRERr3FV7zbcNqxn7fqDtVl8l11oMJGIeAOVFRHxKjdd2ZERV3cCwOWCN5bvYl9OseFUImKSyoqIeJ3x13dnUN82AFRVO3l5UQZ5J8sMpxIRU1RWRMTrBFgs/GpUb/p2iQKgrKKa1LQdFJXaDScTERNUVkTEKwVaA5g2No5ObSIAOFViJzUtnfKKasPJRKShqayIiNcKtQUyY0ICLSNDAMgpPMPcJRlUVWtonEhjorIiIl4tMsLGzEn9iQgNAmDv0WLeWrkbp4bGiTQaKisi4vXaNg/j0QnxBAfVvGRt2VvAgvX7NeVWpJFQWRERn9A9OpIHb+1HgKVmbNznW4+x5ttjhlOJSENQWRERn5HQoyVTRsTUrtM27GfzruMGE4lIQ1BZERGfcm1CNMnXdq1dv7NqD7sOnzaYSEQ8TWVFRHzOmCFduL5/NAAOp4u5SzI5crzUcCoR8RSVFRHxORaLhTt/EcOAni0BsFc6SF2YTmHxWcPJRMQTVFZExCcFBFh44Ja+9GgfCUBJWSWzF+ygtLzScDIRcTeVFRHxWcFBVh4ZH0+7FmEAnCg6y0uLMrBXOgwnExF3UlkREZ8WERrEjIkJNIsIBuBgXgmvf7ITh1NTbkX8hcqKiPi8lpGhzJjYn1CbFYD0A6d4/7MsDY0T8RMqKyLiFzq2juChcfEEWmuGxn2Vkc8nXx8ynEpE3EFlRUT8Ru/OUdw3uk/tevmmw3y5PddgIhFxB5UVEfErV/Vuw23DetauP1ibxfbsQoOJRORyqayIiN/5xZUdGXF1JwBcLnh9+S7253xvOJWI1JfKioj4pfHXd2dQ3zYAVFU7eWlROvmnygynEpH6UFkREb8UYLHwq1G96dslCoCyimpmL9hBUandcDIRuVQqKyLitwKtAUwbG0enNhEAnCqxk5qWTnlFteFkInIpVFZExK+F2gKZMSGBlpEhAOQUnmHukgyqqjU0TsRXqKyIiN+LjLAxc1J/IkKDANh7tJi3V+3GqaFxIj7BeFl54403SElJYcCAAQwePJhp06Zx8OBB07FExM+0bR7GoxPiCQ6qedn7dk8BC9bv15RbER9gvKx8++233HHHHaSlpfHuu+9SXV3NvffeS3l5ueloIuJnukdH8uCt/Qiw1Ey5/XzrMdZ8e8xwKhG5GONl5e2332bcuHH07NmT2NhY/va3v5GXl8euXbtMRxMRP5TQoyVTRsTUrtM27GfzruMGE4nIxQSaDvC/SktLAYiMjKzzYyor7Tgc7r8lvN1ecd7vIu6gfWXeFb2aUVjUgZX/ygHgnVV7CAl0Edup7q873kb7SjzFs3urSZ2Osri86A1bp9PJgw8+SElJCfPnz6/z4zZu3OjBVCLij1wuF+syzpJ+pBKAICvcNjSCNpFe9284Eb+VlJRUp+O8qqz86U9/4quvvuKjjz6ibdu2dX5cbu5Jj51Zycs7THR0F2y2ELc/vzRO2lfew+l0MW9VNhkHiwBoEhbE4xP71n7M2ZdoX4mneHJvderUpk7Hec0/IZ555hm+/PJLPvzww0sqKgDBwTYPpaphs4UQGhrm0Z8hjY/2lXeYNjaeFz7ewf7c7yktr+LVT7L4/V0DaRIWbDpavWhfiaeY3FvGL7B1uVw888wzfP755/z973+nY8eOpiOJSCMSHGTlkfHxtGtR8yJ8ougsLy3KwF7p/rO1IlI/xsvK008/zfLly5k1axbh4eEUFhZSWFhIRYUuEhORhhERGsSMiQk0i6g5m3Iwr4TXP9mJw6kptyLewHhZmT9/PqWlpdx1110MHTq09tenn35qOpqINCItI0OZMbE/oTYrAOkHTvH+Z1kaGifiBYxfs5KVlWU6gogIAB1bR/DQuHhS03ZQ7XDxVUY+UU1sJF/bzXQ0kUbN+JkVERFv0rtzFPeN7lO7Xr7pMF9uzzWYSERUVkRE/sdVvdtw27CetesP1maxPbvQYCKRxk1lRUTkAn5xZUdGXNUJAJcLXl++i/053xtOJdI4qayIiPyE8Td0Z1DfmqFVVdVOXlqUTv6pMsOpRBoflRURkZ8QYLHwq1G96dMlCoCyimpmL9hBUandcDKRxkVlRUTkZwRaA/jt2Dg6tY4A4FSJndS0dMorqg0nE2k8VFZERC4i1BbIjIkJtfcMyik8w9wlGVRVa2icSENQWRERqYPICBszJ/UnIjQIgL1Hi3l71W6cGhon4nEqKyIiddS2eRiPTognOLDmpfPbPQWkfbHfcCoR/6eyIiJyCbpHR/Kb5H4EWCwArN1yjM/+fdRwKhH/prIiInKJ+vdoyd0jYmrXaRv2869dxw0mEvFvKisiIvVwXUI0ydd2rV2/vWoPuw+fNphIxH+prIiI1NOYIV24vn80AA6ni7lLMjl6otRwKhH/o7IiIlJPFouFO38Rw4CeLQGoqHSQmpZOYfFZw8lE/IvKiojIZQgIsPDALX3p0T4SgO/LKpmdlk5peaXhZCL+Q2VFROQyBQdZeWR8PO1ahAFw4nQ5Ly/KwF7lMJxMxD+orIiIuEFEaBAzJibQLCIYgAN5Jby+bCcOp6bcilwulRURETdpGRnKjIn9CbVZAUg/cIoP1mTh0pRbkcuisiIi4kYdW0fw0Lh4Aq01Q+P+mZ7PJ18fMpxKxLeprIiIuFnvzlHcN7pP7Xr5psN8uSPXYCIR36ayIiLiAVf1bsNtw3rWrj9Yk8X27EKDiUR8l8qKiIiH/OLKjoy4qhMALhe8vnwX+3O+N5xKxPeorIiIeND4G7ozqG8bAKqqnby0KJ38U2WGU4n4FpUVEREPCrBY+NWo3vTpEgVAWUU1sxfsoKjUbjiZiO9QWRER8bBAawC/HRtHp9YRAJwqsZOalk55RbXhZCK+QWVFRKQBhNoCmTExgZaRIQDkFJ5h7pIMqqo1NE7kYlRWREQaSGSEjZmT+hMRGgTA3qPFvL1qN04NjRP5WSorIiINqG3zMB6dEE9wYM3L77d7Ckj7Yr/hVCLeTWVFRKSBdY+O5DfJ/Qiw1Ey5XbvlGJ/9+6jhVCLeS2VFRMSA/j1acveImNp12ob9/GvXcYOJRLyXyoqIiCHXJUSTPLRr7frtVXvYffi0wUQi3kllRUTEoDHXdCGpfzQADqeLuUsyOXqi1HAqEe+isiIiYpDFYuHOX/Sif4+WAFRUOkhNS6ew+KzhZCLeQ2VFRMQwa0AAD9zal+7tmwLwfVkls9PSKS2vNJxMxDuorIiIeAFbkJVHxyfQrkUYACdOl/PyogzsVQ7DyUTMU1kREfESEaFBzJiYQGREMAAH8kp4fdlOHE5NuZXGTWVFRMSLtIwMZcaEBEJtVgDSD5zigzVZuDTlVhoxlRURES/TqU0THhobhzWgZmjcP9Pz+eTrQ4ZTiZijsiIi4oV6d2nOfaP71K6XbzrMlztyDSYSMUdlRUTES13dpw23DetZu/5gTRbb9xUaTCRihsqKiIgX+8WVHRlxVScAXC5445Nd7M/93nAqkYalsiIi4uXG39CdQX3bAFBZ7eSlhenknyoznEqk4aisiIh4uQCLhV+N6k2fLlEAlFVUM3tBOkWldsPJRBqGyoqIiA8ItAbw27FxdGodAcCpkgpeXJhOeUW14WQinqeyIiLiI0JtgcyYmEDLyBAAjhWc4ZWlmVRVa2ic+DfjZWXLli385je/YejQocTExLBu3TrTkUREvFZkhI2Zk/oTERoEwJ4jRby9ajdODY0TP2a8rJSXlxMTE8Mf//hH01FERHxC2+ZhPDohnuDAmpfwb/cUsPSro4ZTiXhOoOkASUlJJCUlmY4hIuJTukdH8pvkfsxdnInT5eKL7fk4K0Po2tV0MhH3M15W3KGy0o7D4f47k9rtFef9LuIO2lfiLjHtw7jtxq58tP4gAF/uquDrvf/GYjiX+JdAawBXdA8iOtoTr1lN6pbBAz+5we3fv8ujz5+Xd9ijzy+Nk/aVuEN0OAyJCeGbrJq/SKodunZF3KvK4WD7ISdX9zzs9ufu1KlNnY7zi7LSo0dfj51Zycs7THR0F2y2ELc/vzRO2lfibl26uGja9AjfZRcSGBiExWL8ckTxI9YAiOuA0dcsvygrwcE2jz6/zRZCaGiYR3+GND7aV+JOY4Z0oV+7Crp2jdW+Erc6e7acQ4f2Gn3NUv0WERERr2b8zEpZWRlHj/73I3c5OTns2bOHyMhIoqOjDSYTERERb2C8rOzcuZO77767dv3cc88BMHbsWP72t7+ZiiUiIiJewnhZufrqq8nKyjIdQ0RERLyUrlkRERERr6ayIiIiIl5NZUVERES8msqKiIiIeDWVFREREfFqKisiIiLi1VRWRERExKuprIiIiIhXU1kRERERr6ayIiIiIl7N4nK5XKZDiIiIiPwUnVkRERERr6ayIiIiIl5NZUVERES8msqKiIiIeDWVFREREfFqKisiIiLi1VRWRERExKuprIiIiIhXU1kRERERr6ayIiIiIl5NZUVERES8WqDpACIiUncPPfTQRY+xWq20atWKIUOGcOONNzZAKhHPUlkR8ZDy8nKef/55vvjiC6qqqhg8eDB/+MMfaN68uelo4sMiIiKwWCw/e4zT6eTw4cMsXLiQX/3qVzz66KMNlE7EM3TX5XOWLVtWp+OSk5M9nET8xXPPPUdaWhpjxozBZrOxcuVKEhMTeeWVV0xHk0biyy+/5M9//jNffvml6Sji444dO0ZFRQXdu3cnIKDhryDRmZVz/vrXv/7k9ywWC+Xl5TgcDpUVqbPPP/+cZ599lpEjRwI1RXfixIlUV1cTGKg/elI/l/I20KBBg+jXr18DpBJ/UVVVxWuvvcbu3btJSEjg/vvv53e/+x2rV68GoGvXrrz55pt06NChQXPpFfOcLVu2XPDrBQUFzJ07lyVLljBkyJAGTiW+7MSJEyQmJtau+/btS2BgIAUFBURHRxtMJr6sSZMmFz3mh28D3XPPPQ2QSvzFrFmz+OSTT7jxxhtZvHgxGRkZHDp0iFmzZmGxWHj11VdJTU1l1qxZDZpLZeUnnDlzhnnz5vH+++/Ts2dP3nrrLQYNGmQ6lvgQp9NJUFDQeV+zWq04HA5DicQfPPfcc3U+9j9vA02fPt2DicSfrFmzhr/97W8kJSVx6NAhRo4cyRtvvEFSUhIALVq04PHHH2/wXCor/6OyspJ//OMfvP7660RFRfHcc88xYsQI07HEB7lcLqZMmXLeWz4VFRU8+OCD55WYpUuXmognjUBiYqLeBpJLUlBQQGxsLFDzlk9wcDCdO3eu/X6XLl04efJkg+dSWTnH5XKxbNkyXn75Zaqrq5k5cybjx4/HarWajiY+6kLXFgwbNsxAEmmsmjZtyty5c03HEB/icDjO+weW1Wo97+/BgIAATHwuR2XlnFtuuYVjx45x5513MmXKFEJDQzl79uyPjouIiDCQTnxRXS6EFBHxNl999VXttVEul4vNmzeTnZ0NQGlpqZFM+ujyOf857QVccIaBy+XCYrGwZ8+ehowlfqiyspKqqirCw8NNRxEROc8P/y78OXv37vVwkvOprJzz7bff1um4q666ysNJxJ8sXry49iOAt9xyC7NmzeLdd9/F4XAwaNAgZs+eTVRUlOmYIiJ1Vl5eTlhYWIP+TJUVEQ957bXXeP311xkwYAB79uxhxIgRrF+/nrvvvpuAgAA++OADrr/+ep5++mnTUUVELsput/PRRx/x1ltvsWnTpgb92bpm5ZzY2NiLjrC2WCzs3r27gRKJr1u6dCl//etfGT16NJmZmUycOJHU1NTaT5f17NmTP//5z2ZDioj8QGVlJXPmzGHTpk0EBwdz3333MXz4cBYtWsSLL76I1WplypQpDZ5LZeWcn7tifvv27Xz44YdGroAW35WXl8fAgQMBiIuLw2q10qtXr9rvx8bGUlhYaCqeiMiPvPTSSyxYsIAhQ4bw3Xff8eijj5KSksL27dt56qmnGDFihJFPyaqsnDN8+PAffe3AgQPMnj2bDRs2MGbMGN0MTC5JdXU1wcHBteugoKDz5qtoQJyIeJvPPvuM559/nmHDhpGdnc0tt9xCVVUVy5cvv+i7D56ksnIBJ06cYM6cOSxbtoyhQ4eybNmy8/5FLFJX+/fvP+/sycGDBykrKwOgqKjIVCwRkQs6ceJE7SDBXr16ERwczNSpU40WFVBZOU9paSmvv/46H374Ib179+a9997jiiuuMB1LfNj/vrf7wAMPADXXP/3n4/AiIt7C4XD86AxwQ3/y50L0aaBz5s2bx1tvvUXLli2ZMWPGBd8WErkUWVlZdRoi2L59+wZIIyJycbGxsVx33XW1b2Fv2LCBQYMGERoaet5xDT0ZWWXlnNjYWEJCQhg8ePDPXjyk0dVSV7GxscTHxzN+/HhGjRql6cci4vWeeuqpOh13KTfUdAeVlXOefPLJOp2Sb+j/QOK7tm7dyuLFi1mzZg0ul4tf/vKXjB8/Xm8tiohcIpUVEQ8rLy9n9erVLF26lK1bt9K5c2dSUlJITk6mdevWpuOJiHg9lRWRBnTkyBGWLFnCJ598wsmTJxk6dCivv/666VgiIl5NZUWkgZWVlbFy5Upmz55NSUmJbo4pInIR+uiySAPZsmVL7TUsAQEBjBw5kvHjx5uOJSLi9XRmRcSDTpw4wdKlS1m6dClHjhxhwIABjB8/npEjR3rF7AIREV+gMysiHnLfffexefNmoqKiuPXWW0lJSaFbt26mY4mI+ByVFREPCQwM5KWXXuKGG24wcuMvERF/obeBRERExKsFmA4gIiIi8nNUVkRERMSrqayIiIiIV9MFtiJyUcuXL+f999/n0KFDuFwu2rRpQ2JiIjNnzqRFixam453nxhtv5Prrr+ePf/yj6Sgi4iYqKyLys+bNm8esWbOYOnUqjzzyCC6Xi3379rFixQoKCgq8rqyIiP9RWRGRn/XBBx8wduxYnnzyydqvJSUlcd999+F0Og0mE5HGQtesiMjPKikp+cm7QwcE/PclZNmyZdx+++1cddVVXHnlldx1111kZGScd/ycOXMYMGAAu3fvZtKkScTHxzN27Fh2796N3W7nT3/6E1deeSXXXXcd77333nmPffLJJxk9ejQbN25k9OjRxMXFMW7cOHbs2HHR/w3bt2/n7rvvpn///gwcOJDHHnuMU6dOnXfMm2++yU033URcXByDBw9m6tSpHDt2rI7/L4mIJ+nMioj8rL59+/Lxxx/ToUMHrr/+elq1anXB43JyckhOTqZTp05UVlaycuVK7rjjDpYvX07Xrl1rj6uqquKJJ55g6tSptGzZkhdeeIGHHnqIxMREWrRowYsvvsj69et57rnniI+PJzExsfaxhYWFPP300zz88MM0bdqUefPmce+997J27dqffDtq+/bt3HXXXSQlJZGamsrZs2d58cUXefDBB0lLSwNqitZLL73EI488Qv//v137CWn6j+M4/lyhifAdzSxNrHbR+SdxdbC5jCF0CKIIoYOXJh6c6BCREY6k8LQQhEI9aAVK4UEPXQy8dQjsUiM0yosWgbiBmjjFYtp+h/h9fw3N+Plbv3Z4PWCw7/f7+Xy/bz6nF+/Px+kkFovx+gfAxG4AAAQGSURBVPVrNjY2UriSIrJfCisisqc7d+7g9/vp6uoCoLCwkNraWhoaGigsLDTH+f1+8/+3b984f/48MzMzPH36lI6ODvNZPB4nEAjg8XjMsc3NzVRWVhIMBgFwuVxMTk4yOTmZFFZWV1e5d+8e1dXVAFRVVeHxeBgZGUn6xo96e3s5ffo0/f39WCwWAIqLi80ujcfjYXp6GofDgc/nM+ddvHjxP62biKSOtoFEZE/FxcVMTEwwNDTEjRs3MAyDx48fc/XqVd6/f2+Om5ubo7W1FbfbTWlpKeXl5Xz48IGPHz8mve/AgQNm2ACw2+0AuN1u897Bgwc5efIkkUgkaa5hGElzDcPA7Xb/dCtoc3OTcDjMpUuX2N7eZmtri62tLex2O8ePH2dmZgaAsrIy3r17RygU4tWrV8Tj8X2tlYj8HuqsiMgvZWZm4vF4zG7Iixcv8Pl8DAwM0N/fz/r6Oo2NjeTk5NDZ2UlBQQGHDh2iq6uLr1+/Jr0rKyuLzMxM8zojIwP4Hjx+lJGRsWNuTk7OjtqOHDnC3NzcrnWvra2xvb1NKBQiFArteL64uAhAXV0dGxsbjI2NMTw8jGEYXLt2jUAgQFZW1q+WR0R+M4UVEfnXLly4QElJiRkS3rx5QyQSYXBwkJKSEnNcLBYjPz8/Zd9dWVnZcW95efmn52gMw8BiseDz+Xbd1rHZbMD3bo/X68Xr9RKNRnn27Bm9vb3YbDZaW1tTVr+I7I+2gURkT0tLSzvuffnyhcXFRXJzc81r+KdLAhAOh1lYWEhpLbFYjJcvXyZdT01NUVlZuev47OxsnE4n8/PzVFRU7Pj9eObmb3l5eTQ2NuJwOJifn09p/SKyP+qsiMierly5Qm1tLTU1NRw7doxoNMqTJ0/4/PkzXq8XAKfTSXZ2Nt3d3TQ1NRGNRunr6yMvLy+ltRw+fJhbt27R1taGYRg8ePCARCJh1rGbmzdv4vV6aW9v5/Lly1itViKRCFNTU9TV1XHu3Dlu376N1WrF6XRitVoJh8PMzs5SX1+f0vpFZH8UVkRkT36/n+fPn3P37l1WVlaw2Ww4HA6Gh4dxuVwA5Obmcv/+fXp6emhpacFut9Pd3c3Dhw9TWsvRo0cJBAL09PTw6dMnioqKePTokdnh2c3Zs2cZHR2lr6+PYDBIPB4nPz8fl8vFqVOnADhz5gxjY2OMj4+zubnJiRMnCAaDXL9+PaX1i8j+WBKJROJPFyEi8iudnZ28ffuWiYmJP12KiPzPdGZFRERE0prCioiIiKQ1bQOJiIhIWlNnRURERNKawoqIiIikNYUVERERSWsKKyIiIpLWFFZEREQkrSmsiIiISFpTWBEREZG0prAiIiIiaU1hRURERNLaX46I0L2BpcWNAAAAAElFTkSuQmCC\n",
      "text/plain": [
       "<matplotlib.figure.Figure at 0x2b940e46a198>"
      ]
     },
     "metadata": {},
     "output_type": "display_data"
    }
   ],
=======
   "execution_count": null,
   "metadata": {
    "collapsed": false
   },
   "outputs": [],
>>>>>>> d195bdb541288306c8d9b6aa1962ebe4ae022cde
   "source": [
    "whcfdist_WordtoPOS['administr'].plot()"
   ]
  },
  {
   "cell_type": "markdown",
   "metadata": {},
   "source": [
    "What we want is the converse; the frequency of each part of speech for each word."
   ]
  },
  {
   "cell_type": "code",
<<<<<<< HEAD
   "execution_count": 28,
   "metadata": {},
=======
   "execution_count": null,
   "metadata": {
    "collapsed": true
   },
>>>>>>> d195bdb541288306c8d9b6aa1962ebe4ae022cde
   "outputs": [],
   "source": [
    "whcfdist_POStoWord = nltk.ConditionalFreqDist((p, w) for w, p in whReleases['normalized_tokens_POS'].sum())"
   ]
  },
  {
   "cell_type": "markdown",
   "metadata": {},
   "source": [
    "We can now identify and collect all of the superlative adjectives"
   ]
  },
  {
   "cell_type": "code",
<<<<<<< HEAD
   "execution_count": 29,
   "metadata": {},
   "outputs": [
    {
     "data": {
      "text/plain": [
       "FreqDist({'best': 1, 'strongest': 2})"
      ]
     },
     "execution_count": 29,
     "metadata": {},
     "output_type": "execute_result"
    }
   ],
=======
   "execution_count": null,
   "metadata": {
    "collapsed": false
   },
   "outputs": [],
>>>>>>> d195bdb541288306c8d9b6aa1962ebe4ae022cde
   "source": [
    "whcfdist_POStoWord['JJS']"
   ]
  },
  {
   "cell_type": "markdown",
   "metadata": {},
   "source": [
    "Or look at the most common nouns"
   ]
  },
  {
   "cell_type": "code",
<<<<<<< HEAD
   "execution_count": 30,
   "metadata": {},
   "outputs": [
    {
     "data": {
      "text/plain": [
       "[('bush', 24), ('presid', 23), ('iraq', 22), ('rhode', 18), ('island', 18)]"
      ]
     },
     "execution_count": 30,
     "metadata": {},
     "output_type": "execute_result"
    }
   ],
=======
   "execution_count": null,
   "metadata": {
    "collapsed": false
   },
   "outputs": [],
>>>>>>> d195bdb541288306c8d9b6aa1962ebe4ae022cde
   "source": [
    "whcfdist_POStoWord['NN'].most_common(5)"
   ]
  },
  {
   "cell_type": "markdown",
   "metadata": {},
   "source": [
    "Or plot the base form verbs against their number of occurrences"
   ]
  },
  {
   "cell_type": "code",
<<<<<<< HEAD
   "execution_count": 31,
   "metadata": {},
   "outputs": [
    {
     "data": {
      "image/png": "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\n",
      "text/plain": [
       "<matplotlib.figure.Figure at 0x2b941054db00>"
      ]
     },
     "metadata": {},
     "output_type": "display_data"
    }
   ],
=======
   "execution_count": null,
   "metadata": {
    "collapsed": false
   },
   "outputs": [],
>>>>>>> d195bdb541288306c8d9b6aa1962ebe4ae022cde
   "source": [
    "whcfdist_POStoWord['VB'].plot()"
   ]
  },
  {
   "cell_type": "markdown",
   "metadata": {},
   "source": [
    "We can then do a similar analysis of the word probabilities"
   ]
  },
  {
   "cell_type": "code",
<<<<<<< HEAD
   "execution_count": 32,
   "metadata": {},
   "outputs": [
    {
     "name": "stdout",
     "output_type": "stream",
     "text": [
      "bush\n",
      "0.017844136926438457\n"
     ]
    }
   ],
=======
   "execution_count": null,
   "metadata": {
    "collapsed": false
   },
   "outputs": [],
>>>>>>> d195bdb541288306c8d9b6aa1962ebe4ae022cde
   "source": [
    "whcpdist_POStoWord = nltk.ConditionalProbDist(whcfdist_POStoWord, nltk.ELEProbDist)\n",
    "\n",
    "#print the most common nouns\n",
    "print(whcpdist_POStoWord['NN'].max())\n",
    "\n",
    "#And its probability\n",
    "print(whcpdist_POStoWord['NN'].prob(whcpdist_POStoWord['NN'].max()))"
   ]
  },
  {
   "cell_type": "markdown",
   "metadata": {},
   "source": [
    "We can even create a...wait for it...*WORD CLOUD* or Wordl to gaze at and draw mystical, approximate inferences about important nouns and verbs in our corpus:"
   ]
  },
  {
   "cell_type": "code",
<<<<<<< HEAD
   "execution_count": 33,
   "metadata": {},
   "outputs": [
    {
     "data": {
      "image/png": "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\n",
      "text/plain": [
       "<matplotlib.figure.Figure at 0x2b94105fcb38>"
      ]
     },
     "metadata": {},
     "output_type": "display_data"
    }
   ],
=======
   "execution_count": null,
   "metadata": {
    "collapsed": false
   },
   "outputs": [],
>>>>>>> d195bdb541288306c8d9b6aa1962ebe4ae022cde
   "source": [
    "wc = wordcloud.WordCloud(background_color=\"white\", max_words=500, width= 1000, height = 1000, mode ='RGBA', scale=.5).generate(' '.join(whReleases['normalized_tokens'].sum()))\n",
    "plt.imshow(wc)\n",
    "plt.axis(\"off\")\n",
    "plt.savefig(\"whitehouse_word_cloud.pdf\", format = 'pdf')"
   ]
  },
  {
   "cell_type": "markdown",
   "metadata": {},
   "source": [
    "## <span style=\"color:red\">*Exercise 2*</span>\n",
    "\n",
    "<span style=\"color:red\">Construct cells immediately below this that filter, stem and lemmatize the tokens in your corpus, and then creates plots (with titles and labels) that map the word frequency distribution, word probability distribution, and at least two conditional probability distributions that help us better understand the social and cultural game underlying the production of your corpus. Create a wordl of words (or normalized words) and add a few vague comments about what mysteries are revealed through it.</span>"
   ]
  },
  {
<<<<<<< HEAD
   "cell_type": "code",
   "execution_count": 147,
   "metadata": {},
   "outputs": [
    {
     "data": {
      "text/plain": [
       "[(',', 99721),\n",
       " ('.', 86936),\n",
       " ('the', 84391),\n",
       " ('of', 55783),\n",
       " ('a', 38654),\n",
       " ('to', 38137),\n",
       " ('and', 33319),\n",
       " ('I', 27621),\n",
       " ('in', 25710),\n",
       " ('was', 21627),\n",
       " ('his', 21532),\n",
       " ('that', 18782),\n",
       " ('he', 18556),\n",
       " ('had', 16155),\n",
       " ('“', 15973),\n",
       " ('”', 15559),\n",
       " ('with', 14946),\n",
       " ('’', 13314),\n",
       " ('it', 11959),\n",
       " ('--', 11874),\n",
       " ('on', 11651),\n",
       " ('you', 11053),\n",
       " ('for', 10943),\n",
       " ('her', 10698),\n",
       " ('He', 10407),\n",
       " ('as', 10317),\n",
       " ('at', 9604),\n",
       " ('not', 9415),\n",
       " ('him', 8558),\n",
       " ('?', 8120),\n",
       " (';', 7942),\n",
       " ('The', 7725),\n",
       " ('me', 7680),\n",
       " ('!', 6956),\n",
       " ('have', 6831),\n",
       " ('my', 6676),\n",
       " ('by', 6439),\n",
       " ('is', 6429),\n",
       " ('she', 6144),\n",
       " ('from', 6112),\n",
       " ('be', 6098),\n",
       " ('s', 5873),\n",
       " ('all', 5771),\n",
       " ('an', 5751),\n",
       " ('It', 5473),\n",
       " ('but', 5458),\n",
       " ('would', 5390),\n",
       " ('out', 5167),\n",
       " ('said', 5065),\n",
       " ('this', 4868),\n",
       " ('been', 4803),\n",
       " ('up', 4624),\n",
       " ('man', 4593),\n",
       " ('t', 4506),\n",
       " ('no', 4273),\n",
       " ('could', 4253),\n",
       " ('very', 4244),\n",
       " ('were', 4242),\n",
       " (\"''\", 4185),\n",
       " ('there', 4178),\n",
       " ('if', 4129),\n",
       " ('which', 3929),\n",
       " ('like', 3901),\n",
       " ('one', 3887),\n",
       " ('And', 3702),\n",
       " ('``', 3582),\n",
       " ('She', 3428),\n",
       " ('into', 3427),\n",
       " ('But', 3391),\n",
       " ('so', 3352),\n",
       " ('what', 3173),\n",
       " ('You', 3139),\n",
       " ('or', 3095),\n",
       " ('time', 2899),\n",
       " ('who', 2793),\n",
       " ('did', 2787),\n",
       " ('are', 2766),\n",
       " ('their', 2746),\n",
       " ('know', 2744),\n",
       " ('they', 2717),\n",
       " ('them', 2699),\n",
       " ('some', 2652),\n",
       " ('himself', 2645),\n",
       " ('then', 2639),\n",
       " ('over', 2637),\n",
       " ('eyes', 2613),\n",
       " ('only', 2604),\n",
       " ('do', 2477),\n",
       " ('more', 2443),\n",
       " ('head', 2439),\n",
       " (':', 2433),\n",
       " ('before', 2415),\n",
       " ('little', 2404),\n",
       " ('down', 2383),\n",
       " ('made', 2360),\n",
       " ('about', 2344),\n",
       " ('your', 2331),\n",
       " ('seemed', 2250),\n",
       " ('too', 2173),\n",
       " ('other', 2089),\n",
       " ('away', 2085),\n",
       " ('see', 2063),\n",
       " ('when', 2057),\n",
       " ('A', 2043),\n",
       " ('after', 1987),\n",
       " ('back', 1973),\n",
       " ('face', 1969),\n",
       " ('What', 1952),\n",
       " ('now', 1925),\n",
       " ('we', 1924),\n",
       " ('great', 1900),\n",
       " ('its', 1878),\n",
       " ('upon', 1869),\n",
       " ('can', 1857),\n",
       " ('There', 1844),\n",
       " ('without', 1815),\n",
       " ('any', 1800),\n",
       " ('than', 1798),\n",
       " ('way', 1798),\n",
       " ('men', 1775),\n",
       " ('voice', 1766),\n",
       " ('am', 1761),\n",
       " ('much', 1754),\n",
       " ('‘', 1747),\n",
       " ('old', 1739),\n",
       " ('went', 1729),\n",
       " ('nothing', 1723),\n",
       " ('will', 1717),\n",
       " ('must', 1712),\n",
       " ('life', 1687),\n",
       " ('hand', 1681),\n",
       " ('long', 1674),\n",
       " ('never', 1671),\n",
       " ('go', 1671),\n",
       " ('came', 1667),\n",
       " ('two', 1665),\n",
       " ('looked', 1661),\n",
       " ('under', 1634),\n",
       " ('say', 1627),\n",
       " ('even', 1613),\n",
       " ('\\x94', 1598),\n",
       " ('They', 1596),\n",
       " (\"'s\", 1587),\n",
       " ('...', 1558),\n",
       " ('thought', 1543),\n",
       " ('white', 1537),\n",
       " ('come', 1529),\n",
       " ('think', 1502),\n",
       " ('last', 1490),\n",
       " ('something', 1462),\n",
       " ('heard', 1455),\n",
       " ('here', 1444),\n",
       " ('His', 1415),\n",
       " ('off', 1415),\n",
       " ('own', 1388),\n",
       " ('Lingard', 1382),\n",
       " ('us', 1371),\n",
       " ('first', 1359),\n",
       " ('our', 1328),\n",
       " ('good', 1327),\n",
       " ('No', 1320),\n",
       " ('That', 1318),\n",
       " ('through', 1297),\n",
       " ('sort', 1291),\n",
       " ('again', 1283),\n",
       " ('has', 1275),\n",
       " ('moment', 1270),\n",
       " ('Mr.', 1263),\n",
       " ('while', 1247),\n",
       " ('get', 1244),\n",
       " ('these', 1241),\n",
       " ('side', 1221),\n",
       " ('enough', 1219),\n",
       " ('make', 1207),\n",
       " ('don', 1205),\n",
       " ('where', 1204),\n",
       " ('being', 1204),\n",
       " ('people', 1201),\n",
       " (\"n't\", 1167),\n",
       " ('once', 1153),\n",
       " ('woman', 1150),\n",
       " ('such', 1145),\n",
       " ('still', 1142),\n",
       " ('got', 1137),\n",
       " ('well', 1131),\n",
       " ('should', 1130),\n",
       " ('light', 1125),\n",
       " ('thing', 1107),\n",
       " ('felt', 1106),\n",
       " ('world', 1102),\n",
       " ('day', 1100),\n",
       " ('hands', 1092),\n",
       " ('This', 1090),\n",
       " ('asked', 1083),\n",
       " ('going', 1076),\n",
       " ('In', 1075),\n",
       " ('look', 1070),\n",
       " ('may', 1067),\n",
       " ('though', 1065),\n",
       " ('suddenly', 1062),\n",
       " ('saw', 1060),\n",
       " ('mind', 1055),\n",
       " ('just', 1049),\n",
       " ('We', 1049),\n",
       " ('door', 1047),\n",
       " ('night', 1046),\n",
       " ('round', 1044),\n",
       " ('words', 1043),\n",
       " ('looking', 1037),\n",
       " ('Mrs.', 1035),\n",
       " ('end', 1027),\n",
       " ('left', 1026),\n",
       " ('tell', 1026),\n",
       " ('how', 1014),\n",
       " ('ship', 1008),\n",
       " ('myself', 991),\n",
       " ('stood', 989),\n",
       " ('Captain', 986),\n",
       " ('because', 981),\n",
       " ('course', 979),\n",
       " ('black', 974),\n",
       " ('house', 963),\n",
       " ('Mr', 954),\n",
       " ('seen', 947),\n",
       " ('those', 938),\n",
       " ('against', 933),\n",
       " ('let', 928),\n",
       " ('turned', 926),\n",
       " ('girl', 922),\n",
       " ('put', 909),\n",
       " ('Then', 901),\n",
       " ('yet', 893),\n",
       " ('every', 891),\n",
       " ('want', 886),\n",
       " ('ever', 880),\n",
       " ('Yes', 877),\n",
       " (')', 876),\n",
       " ('(', 874),\n",
       " ('young', 872),\n",
       " ('sea', 871),\n",
       " ('began', 863),\n",
       " ('right', 863),\n",
       " ('room', 863),\n",
       " ('take', 861),\n",
       " ('many', 855),\n",
       " ('tone', 848),\n",
       " ('dark', 835),\n",
       " ('might', 830),\n",
       " ('anything', 827),\n",
       " ('most', 825),\n",
       " ('far', 823),\n",
       " ('between', 821),\n",
       " ('perhaps', 802),\n",
       " ('done', 802),\n",
       " ('heart', 801),\n",
       " ('shall', 796),\n",
       " ('took', 786),\n",
       " ('another', 782),\n",
       " ('silence', 780),\n",
       " ('Almayer', 778),\n",
       " ('knew', 772),\n",
       " ('Razumov', 770),\n",
       " ('word', 763),\n",
       " ('things', 763),\n",
       " ('told', 762),\n",
       " ('Verloc', 758),\n",
       " ('years', 757),\n",
       " ('Don', 756),\n",
       " ('till', 751),\n",
       " ('behind', 749),\n",
       " ('Heyst', 747),\n",
       " ('air', 743),\n",
       " ('gone', 741),\n",
       " ('At', 738),\n",
       " ('For', 737),\n",
       " ('understand', 732),\n",
       " ('believe', 715),\n",
       " ('water', 714),\n",
       " ('alone', 707),\n",
       " ('feet', 704),\n",
       " ('Mrs', 702),\n",
       " ('sat', 699),\n",
       " ('open', 699),\n",
       " ('above', 694),\n",
       " ('give', 691),\n",
       " ('As', 689),\n",
       " ('whole', 684),\n",
       " ('found', 684),\n",
       " ('few', 683),\n",
       " ('same', 682),\n",
       " ('towards', 673),\n",
       " ('low', 670),\n",
       " ('each', 670),\n",
       " ('matter', 657),\n",
       " ('always', 657),\n",
       " ('place', 656),\n",
       " ('talk', 653),\n",
       " ('big', 652),\n",
       " ('Travers', 652),\n",
       " ('small', 649),\n",
       " ('gave', 649),\n",
       " ('hear', 647),\n",
       " ('days', 646),\n",
       " ('Oh', 646),\n",
       " ('lips', 645),\n",
       " ('short', 640),\n",
       " ('remained', 631),\n",
       " ('almost', 628),\n",
       " ('sound', 628),\n",
       " ('If', 625),\n",
       " ('table', 618),\n",
       " ('Why', 618),\n",
       " ('didn', 616),\n",
       " ('boat', 615),\n",
       " ('full', 612),\n",
       " ('slowly', 608),\n",
       " ('three', 607),\n",
       " ('together', 603),\n",
       " ('coming', 601),\n",
       " ('wanted', 596),\n",
       " ('herself', 596),\n",
       " ('Gould', 596),\n",
       " ('Fyne', 593),\n",
       " ('dead', 592),\n",
       " ('also', 592),\n",
       " ('When', 592),\n",
       " ('All', 591),\n",
       " ('mean', 588),\n",
       " ('part', 587),\n",
       " ('de', 576),\n",
       " ('lost', 571),\n",
       " ('arm', 571),\n",
       " ('wife', 569),\n",
       " ('quite', 566),\n",
       " ('arms', 559),\n",
       " ('really', 557),\n",
       " ('called', 552),\n",
       " ('certain', 552),\n",
       " ('moved', 545),\n",
       " ('poor', 543),\n",
       " ('along', 542),\n",
       " ('Not', 539),\n",
       " ('love', 537),\n",
       " ('earth', 536),\n",
       " ('near', 536),\n",
       " ('name', 536),\n",
       " ('Well', 533),\n",
       " ('answered', 527),\n",
       " ('keep', 527),\n",
       " ('better', 526),\n",
       " ('rather', 525),\n",
       " ('suppose', 525),\n",
       " ('clear', 524),\n",
       " ('My', 517),\n",
       " ('sight', 514),\n",
       " ('doubt', 514),\n",
       " ('morning', 514),\n",
       " ('manner', 513),\n",
       " ('speak', 513),\n",
       " ('work', 511),\n",
       " ('having', 510),\n",
       " ('body', 507),\n",
       " ('itself', 504),\n",
       " ('kept', 503),\n",
       " ('half', 503),\n",
       " ('Her', 503),\n",
       " ('feeling', 502),\n",
       " ('river', 498),\n",
       " ('idea', 496),\n",
       " ('One', 495),\n",
       " ('whom', 493),\n",
       " ('fellow', 493),\n",
       " ('fear', 493),\n",
       " ('high', 492),\n",
       " ('amongst', 491),\n",
       " ('board', 490),\n",
       " ('passed', 488),\n",
       " ('since', 485),\n",
       " ('sir', 485),\n",
       " ('fact', 483),\n",
       " ('silent', 482),\n",
       " ('heavy', 480),\n",
       " ('sense', 480),\n",
       " ('appeared', 479),\n",
       " ('deep', 478),\n",
       " ('else', 477),\n",
       " ('why', 477),\n",
       " ('hair', 476),\n",
       " ('walked', 476),\n",
       " ('became', 475),\n",
       " ('find', 473),\n",
       " ('within', 471),\n",
       " ('To', 470),\n",
       " ('fell', 469),\n",
       " ('kind', 468),\n",
       " ('spoke', 468),\n",
       " ('added', 467),\n",
       " ('death', 466),\n",
       " ('close', 463),\n",
       " ('used', 461),\n",
       " ('deck', 459),\n",
       " ('smile', 459),\n",
       " ('How', 458),\n",
       " ('ready', 455),\n",
       " ('power', 454),\n",
       " ('forward', 454),\n",
       " ('Haldin', 454),\n",
       " ('women', 451),\n",
       " ('true', 447),\n",
       " ('mine', 442),\n",
       " ('whose', 441),\n",
       " ('set', 437),\n",
       " ('new', 435),\n",
       " ('already', 433),\n",
       " ('straight', 432),\n",
       " ('sudden', 431),\n",
       " ('person', 431),\n",
       " ('both', 429),\n",
       " ('soul', 429),\n",
       " ('father', 428),\n",
       " ('Babalatchi', 426),\n",
       " ('care', 423),\n",
       " ('home', 421),\n",
       " ('call', 420),\n",
       " ('cried', 420),\n",
       " ('across', 418),\n",
       " ('remember', 417),\n",
       " ('friend', 414),\n",
       " ('point', 412),\n",
       " ('murmured', 412),\n",
       " ('mother', 411),\n",
       " ('given', 411),\n",
       " ('hold', 410),\n",
       " ('Do', 409),\n",
       " ('help', 408),\n",
       " ('taken', 408),\n",
       " ('chair', 408),\n",
       " ('Willems', 406),\n",
       " ('After', 405),\n",
       " ('On', 404),\n",
       " ('stopped', 401),\n",
       " ('ve', 401),\n",
       " ('darkness', 400),\n",
       " ('glance', 397),\n",
       " ('muttered', 395),\n",
       " ('known', 394),\n",
       " ('red', 393),\n",
       " ('brought', 391),\n",
       " ('strange', 388),\n",
       " ('town', 387),\n",
       " ('wonder', 385),\n",
       " ('Of', 385),\n",
       " ('soon', 383),\n",
       " ('business', 383),\n",
       " ('making', 383),\n",
       " ('breath', 381),\n",
       " ('thinking', 380),\n",
       " ('faint', 380),\n",
       " ('child', 379),\n",
       " ('turn', 379),\n",
       " ('evening', 376),\n",
       " ('leave', 376),\n",
       " ('tried', 376),\n",
       " ('Powell', 376),\n",
       " ('ground', 374),\n",
       " ('With', 374),\n",
       " ('fire', 372),\n",
       " ('answer', 370),\n",
       " ('lot', 369),\n",
       " ('perfectly', 369),\n",
       " ('shadow', 368),\n",
       " ('lying', 368),\n",
       " ('raised', 368),\n",
       " ('country', 367),\n",
       " ('struck', 367),\n",
       " ('money', 366),\n",
       " ('expression', 366),\n",
       " ('captain', 364),\n",
       " ('figure', 363),\n",
       " ('everything', 362),\n",
       " ('Anthony', 362),\n",
       " ('afraid', 361),\n",
       " ('Ricardo', 361),\n",
       " ('truth', 360),\n",
       " ('Jim', 359),\n",
       " ('less', 358),\n",
       " ('ask', 358),\n",
       " ('least', 358),\n",
       " ('whether', 356),\n",
       " ('feel', 354),\n",
       " ('hard', 353),\n",
       " ('mere', 353),\n",
       " ('existence', 351),\n",
       " ('past', 351),\n",
       " ('Nostromo', 351),\n",
       " ('Schomberg', 350),\n",
       " ('shoulders', 348),\n",
       " ('ran', 348),\n",
       " ('breast', 348),\n",
       " ('quiet', 347)]"
      ]
     },
     "execution_count": 147,
     "metadata": {},
     "output_type": "execute_result"
    }
   ],
   "source": [
    "countsDict = {}\n",
    "for word in conradTokens:\n",
    "    if word in countsDict:\n",
    "        countsDict[word] += 1\n",
    "    else:\n",
    "        countsDict[word] = 1\n",
    "word_counts = sorted(countsDict.items(), key = lambda x : x[1], reverse = True)\n",
    "word_counts[:500]"
   ]
  },
  {
   "cell_type": "code",
   "execution_count": 148,
   "metadata": {},
   "outputs": [
    {
     "data": {
      "text/plain": [
       "1854584"
      ]
     },
     "execution_count": 148,
     "metadata": {},
     "output_type": "execute_result"
    }
   ],
   "source": [
    "len(conradTokens)"
=======
   "cell_type": "markdown",
   "metadata": {},
   "source": [
    "# Collocations"
   ]
  },
  {
   "cell_type": "markdown",
   "metadata": {},
   "source": [
    "As illustrated above, we might want to find significant bigrams (two-word phrases), trigrams (three-word phrases), n-grams (*n*-word phrases) or skip-grams (noncontinguous 'phrases' with skip-length *n*). We will begin with the [`nltk.collocations.BigramCollocationFinder`](http://www.nltk.org/api/nltk.html?highlight=bigramcollocationfinder#nltk.collocations.BigramCollocationFinder) class, which can be given raw lists of strings with the `from_words()` method. By default it only looks at continuous bigrams but there is an option (`window_size`) to allow skip-grams."
>>>>>>> d195bdb541288306c8d9b6aa1962ebe4ae022cde
   ]
  },
  {
   "cell_type": "code",
<<<<<<< HEAD
   "execution_count": 149,
   "metadata": {},
   "outputs": [
    {
     "data": {
      "text/plain": [
       "'are'"
      ]
     },
     "execution_count": 149,
     "metadata": {},
     "output_type": "execute_result"
    }
   ],
   "source": [
    "#The stop list is then all words that occur before the first noun\n",
    "stop_words_freq = []\n",
    "for word, count in word_counts:\n",
    "    if word == 'time':\n",
    "        break\n",
    "    else:\n",
    "        stop_words_freq.append(word)\n",
    "stop_words_freq\n",
    "wordnet = nltk.stem.WordNetLemmatizer()\n",
    "wordnet.lemmatize('are')"
   ]
  },
  {
   "cell_type": "code",
   "execution_count": 150,
   "metadata": {},
   "outputs": [
    {
     "data": {
      "text/html": [
       "<div>\n",
       "<style scoped>\n",
       "    .dataframe tbody tr th:only-of-type {\n",
       "        vertical-align: middle;\n",
       "    }\n",
       "\n",
       "    .dataframe tbody tr th {\n",
       "        vertical-align: top;\n",
       "    }\n",
       "\n",
       "    .dataframe thead th {\n",
       "        text-align: right;\n",
       "    }\n",
       "</style>\n",
       "<table border=\"1\" class=\"dataframe\">\n",
       "  <thead>\n",
       "    <tr style=\"text-align: right;\">\n",
       "      <th></th>\n",
       "      <th>text</th>\n",
       "      <th>tokenized_text</th>\n",
       "      <th>word_counts</th>\n",
       "      <th>normalized_tokens</th>\n",
       "      <th>normalized_tokens_count</th>\n",
       "    </tr>\n",
       "  </thead>\n",
       "  <tbody>\n",
       "    <tr>\n",
       "      <th>almayer's_folly.txt</th>\n",
       "      <td>﻿ALMAYER'S FOLLY:  A STORY OF AN EASTERN RIVER...</td>\n",
       "      <td>[﻿ALMAYER, 'S, FOLLY, :, A, STORY, OF, AN, EAS...</td>\n",
       "      <td>73592</td>\n",
       "      <td>[folli, stori, eastern, river, joseph, conrad,...</td>\n",
       "      <td>33399</td>\n",
       "    </tr>\n",
       "    <tr>\n",
       "      <th>the_rescue.txt</th>\n",
       "      <td>﻿THE RESCUE\\n\\nA ROMANCE OF THE SHALLOWS\\n\\n\\n...</td>\n",
       "      <td>[﻿THE, RESCUE, A, ROMANCE, OF, THE, SHALLOWS, ...</td>\n",
       "      <td>162329</td>\n",
       "      <td>[rescu, romanc, shallow, joseph, conrad, alla,...</td>\n",
       "      <td>67964</td>\n",
       "    </tr>\n",
       "    <tr>\n",
       "      <th>an_outcast_of_the_islands.txt</th>\n",
       "      <td>﻿AN OUTCAST OF THE ISLANDS\\n\\nby Joseph Conrad...</td>\n",
       "      <td>[﻿AN, OUTCAST, OF, THE, ISLANDS, by, Joseph, C...</td>\n",
       "      <td>128575</td>\n",
       "      <td>[outcast, island, joseph, conrad, el, delito, ...</td>\n",
       "      <td>55248</td>\n",
       "    </tr>\n",
       "    <tr>\n",
       "      <th>heart_of_darkness.txt</th>\n",
       "      <td>﻿HEART OF DARKNESS\\n\\nBy Joseph Conrad\\n\\n\\n\\n...</td>\n",
       "      <td>[﻿HEART, OF, DARKNESS, By, Joseph, Conrad, I, ...</td>\n",
       "      <td>46363</td>\n",
       "      <td>[dark, joseph, conrad, nelli, cruis, yawl, swu...</td>\n",
       "      <td>19222</td>\n",
       "    </tr>\n",
       "    <tr>\n",
       "      <th>under_western_eyes.txt</th>\n",
       "      <td>﻿UNDER WESTERN EYES\\n\\nby JOSEPH CONRAD\\n\\n\\n\\...</td>\n",
       "      <td>[﻿UNDER, WESTERN, EYES, by, JOSEPH, CONRAD, “,...</td>\n",
       "      <td>135160</td>\n",
       "      <td>[western, eye, joseph, conrad, would, take, li...</td>\n",
       "      <td>56876</td>\n",
       "    </tr>\n",
       "    <tr>\n",
       "      <th>the_inheritors.txt</th>\n",
       "      <td>﻿THE INHERITORS\\n\\n_An Extravagant Story_\\n\\nB...</td>\n",
       "      <td>[﻿THE, INHERITORS, _An, Extravagant, Story_, B...</td>\n",
       "      <td>76718</td>\n",
       "      <td>[inheritor, extravag, joseph, conrad, ford, hu...</td>\n",
       "      <td>29713</td>\n",
       "    </tr>\n",
       "    <tr>\n",
       "      <th>the_arrow_of_gold.txt</th>\n",
       "      <td>﻿\\n                                   THE\\n   ...</td>\n",
       "      <td>[﻿, THE, ARROW, OF, GOLD, A, STORY, BETWEEN, T...</td>\n",
       "      <td>126895</td>\n",
       "      <td>[arrow, gold, stori, two, note, joseph, conrad...</td>\n",
       "      <td>51285</td>\n",
       "    </tr>\n",
       "    <tr>\n",
       "      <th>the_secret_agent.txt</th>\n",
       "      <td>﻿\\n                                   THE\\n   ...</td>\n",
       "      <td>[﻿, THE, SECRET, AGENT, A, SIMPLE, TALE, BY, J...</td>\n",
       "      <td>106796</td>\n",
       "      <td>[secret, agent, simpl, tale, joseph, conrad, s...</td>\n",
       "      <td>47571</td>\n",
       "    </tr>\n",
       "    <tr>\n",
       "      <th>victory.txt</th>\n",
       "      <td>﻿VICTORY: AN ISLAND TALE\\n\\nBy Joseph Conrad\\n...</td>\n",
       "      <td>[﻿VICTORY, :, AN, ISLAND, TALE, By, Joseph, Co...</td>\n",
       "      <td>144599</td>\n",
       "      <td>[island, tale, joseph, conrad, note, first, ed...</td>\n",
       "      <td>59278</td>\n",
       "    </tr>\n",
       "    <tr>\n",
       "      <th>end_of_the_tether.txt</th>\n",
       "      <td>﻿THE END OF THE TETHER\\n\\n\\nBy Joseph Conrad\\n...</td>\n",
       "      <td>[﻿THE, END, OF, THE, TETHER, By, Joseph, Conra...</td>\n",
       "      <td>61768</td>\n",
       "      <td>[end, tether, joseph, conrad, long, time, cour...</td>\n",
       "      <td>27543</td>\n",
       "    </tr>\n",
       "    <tr>\n",
       "      <th>chance.txt</th>\n",
       "      <td>﻿Chance, A Tale in Two Parts, by Joseph Conrad...</td>\n",
       "      <td>[﻿Chance, ,, A, Tale, in, Two, Parts, ,, by, J...</td>\n",
       "      <td>161517</td>\n",
       "      <td>[tale, two, part, joseph, conrad, although, th...</td>\n",
       "      <td>68995</td>\n",
       "    </tr>\n",
       "    <tr>\n",
       "      <th>nostromo.txt</th>\n",
       "      <td>﻿NOSTROMO\\n\\nA TALE OF THE SEABOARD\\n\\n\\nBy Jo...</td>\n",
       "      <td>[﻿NOSTROMO, A, TALE, OF, THE, SEABOARD, By, Jo...</td>\n",
       "      <td>200945</td>\n",
       "      <td>[tale, seaboard, joseph, conrad, foul, sky, cl...</td>\n",
       "      <td>90007</td>\n",
       "    </tr>\n",
       "    <tr>\n",
       "      <th>typhoon.txt</th>\n",
       "      <td>﻿The Project Gutenberg EBook of Typhoon, by Jo...</td>\n",
       "      <td>[﻿The, Project, Gutenberg, EBook, of, Typhoon,...</td>\n",
       "      <td>36251</td>\n",
       "      <td>[project, gutenberg, ebook, typhoon, joseph, c...</td>\n",
       "      <td>15803</td>\n",
       "    </tr>\n",
       "    <tr>\n",
       "      <th>lord_jim.txt</th>\n",
       "      <td>﻿LORD JIM\\n\\nBY JOSEPH CONRAD\\n\\n\\n\\nAUTHOR’S ...</td>\n",
       "      <td>[﻿LORD, JIM, BY, JOSEPH, CONRAD, AUTHOR, ’, S,...</td>\n",
       "      <td>157066</td>\n",
       "      <td>[jim, joseph, conrad, author, note, thi, novel...</td>\n",
       "      <td>65887</td>\n",
       "    </tr>\n",
       "    <tr>\n",
       "      <th>romance.txt</th>\n",
       "      <td>﻿ROMANCE\\n\\n\\nBy Joseph Conrad\\n\\nand\\n\\nF.M. ...</td>\n",
       "      <td>[﻿ROMANCE, By, Joseph, Conrad, and, F.M, ., Hu...</td>\n",
       "      <td>188559</td>\n",
       "      <td>[joseph, conrad, hueffer, copyright, doubleday...</td>\n",
       "      <td>78941</td>\n",
       "    </tr>\n",
       "    <tr>\n",
       "      <th>the_shadow_line.txt</th>\n",
       "      <td>﻿THE SHADOW-LINE\\n\\nA CONFESSION\\n\\nBy Joseph ...</td>\n",
       "      <td>[﻿THE, SHADOW-LINE, A, CONFESSION, By, Joseph,...</td>\n",
       "      <td>47465</td>\n",
       "      <td>[confess, joseph, conrad, worthi, undi, regard...</td>\n",
       "      <td>19597</td>\n",
       "    </tr>\n",
       "  </tbody>\n",
       "</table>\n",
       "</div>"
      ],
      "text/plain": [
       "                                                                            text  \\\n",
       "almayer's_folly.txt            ﻿ALMAYER'S FOLLY:  A STORY OF AN EASTERN RIVER...   \n",
       "the_rescue.txt                 ﻿THE RESCUE\\n\\nA ROMANCE OF THE SHALLOWS\\n\\n\\n...   \n",
       "an_outcast_of_the_islands.txt  ﻿AN OUTCAST OF THE ISLANDS\\n\\nby Joseph Conrad...   \n",
       "heart_of_darkness.txt          ﻿HEART OF DARKNESS\\n\\nBy Joseph Conrad\\n\\n\\n\\n...   \n",
       "under_western_eyes.txt         ﻿UNDER WESTERN EYES\\n\\nby JOSEPH CONRAD\\n\\n\\n\\...   \n",
       "the_inheritors.txt             ﻿THE INHERITORS\\n\\n_An Extravagant Story_\\n\\nB...   \n",
       "the_arrow_of_gold.txt          ﻿\\n                                   THE\\n   ...   \n",
       "the_secret_agent.txt           ﻿\\n                                   THE\\n   ...   \n",
       "victory.txt                    ﻿VICTORY: AN ISLAND TALE\\n\\nBy Joseph Conrad\\n...   \n",
       "end_of_the_tether.txt          ﻿THE END OF THE TETHER\\n\\n\\nBy Joseph Conrad\\n...   \n",
       "chance.txt                     ﻿Chance, A Tale in Two Parts, by Joseph Conrad...   \n",
       "nostromo.txt                   ﻿NOSTROMO\\n\\nA TALE OF THE SEABOARD\\n\\n\\nBy Jo...   \n",
       "typhoon.txt                    ﻿The Project Gutenberg EBook of Typhoon, by Jo...   \n",
       "lord_jim.txt                   ﻿LORD JIM\\n\\nBY JOSEPH CONRAD\\n\\n\\n\\nAUTHOR’S ...   \n",
       "romance.txt                    ﻿ROMANCE\\n\\n\\nBy Joseph Conrad\\n\\nand\\n\\nF.M. ...   \n",
       "the_shadow_line.txt            ﻿THE SHADOW-LINE\\n\\nA CONFESSION\\n\\nBy Joseph ...   \n",
       "\n",
       "                                                                  tokenized_text  \\\n",
       "almayer's_folly.txt            [﻿ALMAYER, 'S, FOLLY, :, A, STORY, OF, AN, EAS...   \n",
       "the_rescue.txt                 [﻿THE, RESCUE, A, ROMANCE, OF, THE, SHALLOWS, ...   \n",
       "an_outcast_of_the_islands.txt  [﻿AN, OUTCAST, OF, THE, ISLANDS, by, Joseph, C...   \n",
       "heart_of_darkness.txt          [﻿HEART, OF, DARKNESS, By, Joseph, Conrad, I, ...   \n",
       "under_western_eyes.txt         [﻿UNDER, WESTERN, EYES, by, JOSEPH, CONRAD, “,...   \n",
       "the_inheritors.txt             [﻿THE, INHERITORS, _An, Extravagant, Story_, B...   \n",
       "the_arrow_of_gold.txt          [﻿, THE, ARROW, OF, GOLD, A, STORY, BETWEEN, T...   \n",
       "the_secret_agent.txt           [﻿, THE, SECRET, AGENT, A, SIMPLE, TALE, BY, J...   \n",
       "victory.txt                    [﻿VICTORY, :, AN, ISLAND, TALE, By, Joseph, Co...   \n",
       "end_of_the_tether.txt          [﻿THE, END, OF, THE, TETHER, By, Joseph, Conra...   \n",
       "chance.txt                     [﻿Chance, ,, A, Tale, in, Two, Parts, ,, by, J...   \n",
       "nostromo.txt                   [﻿NOSTROMO, A, TALE, OF, THE, SEABOARD, By, Jo...   \n",
       "typhoon.txt                    [﻿The, Project, Gutenberg, EBook, of, Typhoon,...   \n",
       "lord_jim.txt                   [﻿LORD, JIM, BY, JOSEPH, CONRAD, AUTHOR, ’, S,...   \n",
       "romance.txt                    [﻿ROMANCE, By, Joseph, Conrad, and, F.M, ., Hu...   \n",
       "the_shadow_line.txt            [﻿THE, SHADOW-LINE, A, CONFESSION, By, Joseph,...   \n",
       "\n",
       "                               word_counts  \\\n",
       "almayer's_folly.txt                  73592   \n",
       "the_rescue.txt                      162329   \n",
       "an_outcast_of_the_islands.txt       128575   \n",
       "heart_of_darkness.txt                46363   \n",
       "under_western_eyes.txt              135160   \n",
       "the_inheritors.txt                   76718   \n",
       "the_arrow_of_gold.txt               126895   \n",
       "the_secret_agent.txt                106796   \n",
       "victory.txt                         144599   \n",
       "end_of_the_tether.txt                61768   \n",
       "chance.txt                          161517   \n",
       "nostromo.txt                        200945   \n",
       "typhoon.txt                          36251   \n",
       "lord_jim.txt                        157066   \n",
       "romance.txt                         188559   \n",
       "the_shadow_line.txt                  47465   \n",
       "\n",
       "                                                               normalized_tokens  \\\n",
       "almayer's_folly.txt            [folli, stori, eastern, river, joseph, conrad,...   \n",
       "the_rescue.txt                 [rescu, romanc, shallow, joseph, conrad, alla,...   \n",
       "an_outcast_of_the_islands.txt  [outcast, island, joseph, conrad, el, delito, ...   \n",
       "heart_of_darkness.txt          [dark, joseph, conrad, nelli, cruis, yawl, swu...   \n",
       "under_western_eyes.txt         [western, eye, joseph, conrad, would, take, li...   \n",
       "the_inheritors.txt             [inheritor, extravag, joseph, conrad, ford, hu...   \n",
       "the_arrow_of_gold.txt          [arrow, gold, stori, two, note, joseph, conrad...   \n",
       "the_secret_agent.txt           [secret, agent, simpl, tale, joseph, conrad, s...   \n",
       "victory.txt                    [island, tale, joseph, conrad, note, first, ed...   \n",
       "end_of_the_tether.txt          [end, tether, joseph, conrad, long, time, cour...   \n",
       "chance.txt                     [tale, two, part, joseph, conrad, although, th...   \n",
       "nostromo.txt                   [tale, seaboard, joseph, conrad, foul, sky, cl...   \n",
       "typhoon.txt                    [project, gutenberg, ebook, typhoon, joseph, c...   \n",
       "lord_jim.txt                   [jim, joseph, conrad, author, note, thi, novel...   \n",
       "romance.txt                    [joseph, conrad, hueffer, copyright, doubleday...   \n",
       "the_shadow_line.txt            [confess, joseph, conrad, worthi, undi, regard...   \n",
       "\n",
       "                               normalized_tokens_count  \n",
       "almayer's_folly.txt                              33399  \n",
       "the_rescue.txt                                   67964  \n",
       "an_outcast_of_the_islands.txt                    55248  \n",
       "heart_of_darkness.txt                            19222  \n",
       "under_western_eyes.txt                           56876  \n",
       "the_inheritors.txt                               29713  \n",
       "the_arrow_of_gold.txt                            51285  \n",
       "the_secret_agent.txt                             47571  \n",
       "victory.txt                                      59278  \n",
       "end_of_the_tether.txt                            27543  \n",
       "chance.txt                                       68995  \n",
       "nostromo.txt                                     90007  \n",
       "typhoon.txt                                      15803  \n",
       "lord_jim.txt                                     65887  \n",
       "romance.txt                                      78941  \n",
       "the_shadow_line.txt                              19597  "
      ]
     },
     "execution_count": 150,
     "metadata": {},
     "output_type": "execute_result"
    }
   ],
   "source": [
    "stop_words_nltk = stopwords.words('english')\n",
    "#stop_words = [\"the\",\"it\",\"she\",\"he\", \"a\"] #Uncomment this line if you want to use your own list of stopwords.\n",
    "\n",
    "#The stemmers and lemmers need to be initialized before bing run\n",
    "porter = nltk.stem.porter.PorterStemmer()\n",
    "snowball = nltk.stem.snowball.SnowballStemmer('english')\n",
    "wordnet = nltk.stem.WordNetLemmatizer()\n",
    "\n",
    "def normlizeTokens(tokenLst, stopwordLst = None, stemmer = None, lemmer = None):\n",
    "    #We can use a generator here as we just need to iterate over it\n",
    "\n",
    "    #Lowering the case and removing non-words\n",
    "    workingIter = (w.lower() for w in tokenLst if w.isalpha())\n",
    "\n",
    "    #Now we can use the semmer, if provided\n",
    "    if stemmer is not None:\n",
    "        workingIter = (stemmer.stem(w) for w in workingIter)\n",
    "        \n",
    "    #And the lemmer\n",
    "    if lemmer is not None:\n",
    "        workingIter = (lemmer.lemmatize(w) for w in workingIter)\n",
    "    \n",
    "    #And remove the stopwords\n",
    "    if stopwordLst is not None:\n",
    "        workingIter = (w for w in workingIter if w not in stopwordLst)\n",
    "    #We will return a list with the stopwords removed\n",
    "    return list(workingIter)\n",
    "\n",
    "conrad_df['normalized_tokens'] = conrad_df['tokenized_text'].apply(lambda x: normlizeTokens(x, stopwordLst = stop_words_nltk, stemmer = porter))\n",
    "\n",
    "conrad_df['normalized_tokens_count'] = conrad_df['normalized_tokens'].apply(lambda x: len(x))\n",
    "\n",
    "conrad_df"
   ]
  },
  {
   "cell_type": "code",
   "execution_count": 151,
   "metadata": {},
   "outputs": [
    {
     "name": "stdout",
     "output_type": "stream",
     "text": [
      "787329\n"
     ]
    }
   ],
   "source": [
    "#.sum() adds together the lists from each row into a single list\n",
    "conrad_cfdist = nltk.ConditionalFreqDist(((len(w), w) for w in conrad_df['normalized_tokens'].sum()))\n",
    "\n",
    "#print the number of words\n",
    "print(conrad_cfdist.N())"
   ]
  },
  {
   "cell_type": "code",
   "execution_count": 152,
   "metadata": {},
   "outputs": [
    {
     "data": {
      "image/png": "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\n",
      "text/plain": [
       "<matplotlib.figure.Figure at 0x7fb71358c080>"
      ]
     },
     "metadata": {},
     "output_type": "display_data"
    }
   ],
   "source": [
    "#using the porter stemmer\n",
    "conrad_cfdist[3].plot()"
   ]
  },
  {
   "cell_type": "code",
   "execution_count": 153,
   "metadata": {},
   "outputs": [
    {
     "data": {
      "image/png": "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\n",
      "text/plain": [
       "<matplotlib.figure.Figure at 0x7fb7108c5160>"
      ]
     },
     "metadata": {},
     "output_type": "display_data"
    }
   ],
   "source": [
    "#using snowball stemmer\n",
    "conrad_df['normalized_tokens'] = conrad_df['tokenized_text'].apply(lambda x: normlizeTokens(x, stopwordLst = stop_words_nltk, stemmer = snowball))\n",
    "conrad_df['normalized_tokens_count'] = conrad_df['normalized_tokens'].apply(lambda x: len(x))\n",
    "conradcfdist = nltk.ConditionalFreqDist(((len(w), w) for w in conrad_df['normalized_tokens'].sum()))\n",
    "conradcfdist[3].plot()"
   ]
  },
  {
   "cell_type": "code",
   "execution_count": 154,
   "metadata": {},
   "outputs": [
    {
     "name": "stdout",
     "output_type": "stream",
     "text": [
      "hi\n",
      "0.4038485227092755\n"
     ]
    }
   ],
   "source": [
    "#conditional probability distribution\n",
    "conrad_cpdist = nltk.ConditionalProbDist(conrad_cfdist, nltk.ELEProbDist)\n",
    "\n",
    "#print the most common 2 letter word\n",
    "print(conrad_cpdist[2].max())\n",
    "\n",
    "#And its probability\n",
    "print(conrad_cpdist[2].prob(conrad_cpdist[2].max()))"
   ]
  },
  {
   "cell_type": "code",
   "execution_count": 155,
   "metadata": {},
   "outputs": [],
   "source": [
    "#this line of code will classify words according to their part of speech (POS) using the nltk.pos.tag() function. \n",
    "conrad_df['normalized_tokens_POS'] = [nltk.pos_tag(t) for t in conrad_df['normalized_tokens']]"
   ]
  },
  {
   "cell_type": "code",
   "execution_count": 156,
   "metadata": {},
   "outputs": [
    {
     "data": {
      "text/plain": [
       "[('folli',\n",
       "  FreqDist({'JJ': 31,\n",
       "            'NN': 61,\n",
       "            'NNS': 3,\n",
       "            'RB': 3,\n",
       "            'VB': 2,\n",
       "            'VBD': 2,\n",
       "            'VBP': 5,\n",
       "            'VBZ': 3})),\n",
       " ('stori',\n",
       "  FreqDist({'FW': 16,\n",
       "            'JJ': 112,\n",
       "            'JJR': 1,\n",
       "            'NN': 118,\n",
       "            'NNS': 14,\n",
       "            'RB': 9,\n",
       "            'VB': 5,\n",
       "            'VBD': 26,\n",
       "            'VBN': 1,\n",
       "            'VBP': 11,\n",
       "            'VBZ': 7})),\n",
       " ('eastern', FreqDist({'JJ': 47})),\n",
       " ('river',\n",
       "  FreqDist({'IN': 2, 'JJ': 8, 'NN': 471, 'RB': 28, 'VB': 6, 'VBP': 4})),\n",
       " ('joseph', FreqDist({'NN': 19})),\n",
       " ('conrad', FreqDist({'JJ': 2, 'NN': 15, 'VBP': 1})),\n",
       " ('qui', FreqDist({'FW': 1, 'NN': 3})),\n",
       " ('de',\n",
       "  FreqDist({'FW': 178,\n",
       "            'IN': 421,\n",
       "            'JJ': 4,\n",
       "            'NN': 1,\n",
       "            'NNS': 4,\n",
       "            'RB': 1,\n",
       "            'VB': 2,\n",
       "            'VBN': 1})),\n",
       " ('nous', FreqDist({'JJ': 1})),\n",
       " ('eu', FreqDist({'NNS': 1})),\n",
       " ('sa', FreqDist({'NN': 1, 'VBP': 1})),\n",
       " ('terr', FreqDist({'JJ': 1})),\n",
       " ('promis',\n",
       "  FreqDist({'FW': 1,\n",
       "            'IN': 1,\n",
       "            'JJ': 40,\n",
       "            'NN': 131,\n",
       "            'NNS': 10,\n",
       "            'RB': 3,\n",
       "            'VB': 7,\n",
       "            'VBD': 3,\n",
       "            'VBN': 1,\n",
       "            'VBP': 6,\n",
       "            'VBZ': 2})),\n",
       " ('son', FreqDist({'JJ': 14, 'NN': 214, 'VB': 5, 'VBP': 4})),\n",
       " ('jour', FreqDist({'NN': 1})),\n",
       " ('et', FreqDist({'FW': 7, 'JJ': 1, 'NN': 3, 'VBP': 1})),\n",
       " ('fin', FreqDist({'NN': 2})),\n",
       " ('en', FreqDist({'IN': 5})),\n",
       " ('exil',\n",
       "  FreqDist({'FW': 1,\n",
       "            'IN': 1,\n",
       "            'JJ': 6,\n",
       "            'NN': 19,\n",
       "            'RB': 2,\n",
       "            'VBD': 1,\n",
       "            'VBP': 1,\n",
       "            'VBZ': 3})),\n",
       " ('amiel', FreqDist({'NN': 1})),\n",
       " ('fisher', FreqDist({'RB': 2})),\n",
       " ('unwin', FreqDist({'JJ': 2})),\n",
       " ('adelphi', FreqDist({'NN': 2, 'VBZ': 1})),\n",
       " ('terrac', FreqDist({'JJ': 3, 'NN': 12, 'NNS': 1, 'RB': 1, 'VBP': 1})),\n",
       " ('memori',\n",
       "  FreqDist({'FW': 75,\n",
       "            'JJ': 31,\n",
       "            'NN': 73,\n",
       "            'NNS': 25,\n",
       "            'RB': 3,\n",
       "            'RBR': 2,\n",
       "            'VB': 1,\n",
       "            'VBD': 1,\n",
       "            'VBP': 3,\n",
       "            'VBZ': 3})),\n",
       " ('b', FreqDist({'JJ': 1, 'NN': 10})),\n",
       " ('chapter', FreqDist({'NN': 259, 'RB': 1, 'VB': 2, 'VBP': 2})),\n",
       " ('kaspar', FreqDist({'JJ': 1, 'NN': 12})),\n",
       " ('makan', FreqDist({'NN': 3})),\n",
       " ('shrill', FreqDist({'JJ': 6, 'NN': 44, 'RB': 1, 'VB': 3})),\n",
       " ('voic',\n",
       "  FreqDist({'FW': 86,\n",
       "            'IN': 50,\n",
       "            'JJ': 232,\n",
       "            'NN': 1484,\n",
       "            'NNP': 2,\n",
       "            'NNS': 70,\n",
       "            'RB': 23,\n",
       "            'VB': 6,\n",
       "            'VBD': 7,\n",
       "            'VBN': 1,\n",
       "            'VBP': 38,\n",
       "            'VBZ': 9})),\n",
       " ('startl',\n",
       "  FreqDist({'JJ': 89,\n",
       "            'NN': 162,\n",
       "            'NNS': 5,\n",
       "            'RB': 3,\n",
       "            'VB': 13,\n",
       "            'VBD': 17,\n",
       "            'VBN': 2,\n",
       "            'VBP': 10,\n",
       "            'VBZ': 4})),\n",
       " ('almay',\n",
       "  FreqDist({'IN': 40,\n",
       "            'JJ': 232,\n",
       "            'NN': 375,\n",
       "            'NNS': 20,\n",
       "            'RB': 44,\n",
       "            'RP': 1,\n",
       "            'VB': 10,\n",
       "            'VBD': 9,\n",
       "            'VBP': 31,\n",
       "            'VBZ': 16})),\n",
       " ('dream',\n",
       "  FreqDist({'JJ': 4,\n",
       "            'NN': 272,\n",
       "            'RB': 3,\n",
       "            'RBR': 1,\n",
       "            'VB': 23,\n",
       "            'VBN': 1,\n",
       "            'VBP': 7,\n",
       "            'VBZ': 3})),\n",
       " ('splendid', FreqDist({'JJ': 29, 'NN': 18, 'RB': 1, 'VB': 2, 'VBD': 19})),\n",
       " ('futur',\n",
       "  FreqDist({'JJ': 64,\n",
       "            'NN': 128,\n",
       "            'NNS': 7,\n",
       "            'RB': 6,\n",
       "            'RBR': 1,\n",
       "            'VB': 1,\n",
       "            'VBN': 1,\n",
       "            'VBP': 6,\n",
       "            'VBZ': 2})),\n",
       " ('unpleas', FreqDist({'JJ': 59, 'NNS': 4, 'RB': 1, 'VB': 1})),\n",
       " ('realiti',\n",
       "  FreqDist({'JJ': 17,\n",
       "            'NN': 65,\n",
       "            'NNS': 1,\n",
       "            'VB': 6,\n",
       "            'VBD': 1,\n",
       "            'VBP': 9,\n",
       "            'VBZ': 4})),\n",
       " ('present', FreqDist({'JJ': 380, 'NN': 36, 'VB': 11, 'VBD': 1})),\n",
       " ('hour', FreqDist({'NN': 591})),\n",
       " ('heard',\n",
       "  FreqDist({'CD': 1,\n",
       "            'FW': 2,\n",
       "            'JJ': 71,\n",
       "            'JJR': 1,\n",
       "            'NN': 741,\n",
       "            'NNS': 22,\n",
       "            'RB': 163,\n",
       "            'RBR': 1,\n",
       "            'VB': 96,\n",
       "            'VBD': 162,\n",
       "            'VBN': 190,\n",
       "            'VBP': 12})),\n",
       " ('mani',\n",
       "  FreqDist({'CD': 54,\n",
       "            'FW': 24,\n",
       "            'IN': 4,\n",
       "            'JJ': 221,\n",
       "            'JJR': 1,\n",
       "            'NN': 426,\n",
       "            'NNP': 5,\n",
       "            'NNS': 63,\n",
       "            'RB': 19,\n",
       "            'VB': 9,\n",
       "            'VBD': 23,\n",
       "            'VBN': 4,\n",
       "            'VBP': 21,\n",
       "            'VBZ': 13})),\n",
       " ('year', FreqDist({'NN': 952})),\n",
       " ('everi',\n",
       "  FreqDist({'CC': 4,\n",
       "            'DT': 3,\n",
       "            'FW': 27,\n",
       "            'IN': 9,\n",
       "            'JJ': 378,\n",
       "            'NN': 388,\n",
       "            'NNS': 6,\n",
       "            'RB': 38,\n",
       "            'VB': 22,\n",
       "            'VBD': 18,\n",
       "            'VBN': 1,\n",
       "            'VBP': 71,\n",
       "            'VBZ': 21})),\n",
       " ('like',\n",
       "  FreqDist({'FW': 1, 'IN': 4217, 'JJ': 22, 'NN': 3, 'RB': 3, 'VB': 138})),\n",
       " ('less', FreqDist({'CC': 23, 'IN': 1, 'JJR': 184, 'RBR': 154, 'VB': 4})),\n",
       " ('matter',\n",
       "  FreqDist({'JJ': 10,\n",
       "            'JJR': 6,\n",
       "            'NN': 715,\n",
       "            'RB': 12,\n",
       "            'RBR': 9,\n",
       "            'VB': 18,\n",
       "            'VBP': 6})),\n",
       " ('would', FreqDist({'MD': 5492})),\n",
       " ('end',\n",
       "  FreqDist({'FW': 1, 'JJ': 108, 'NN': 982, 'RB': 3, 'VB': 102, 'VBP': 49})),\n",
       " ('soon', FreqDist({'RB': 390})),\n",
       " ('shuffl',\n",
       "  FreqDist({'JJ': 29, 'NN': 33, 'NNS': 1, 'VB': 1, 'VBD': 1, 'VBP': 1})),\n",
       " ('uneasili', FreqDist({'JJ': 34, 'NN': 11, 'RB': 2, 'VBP': 1})),\n",
       " ('took', FreqDist({'VBD': 788})),\n",
       " ('notic', FreqDist({'JJ': 355, 'NN': 1, 'VB': 6})),\n",
       " ('call',\n",
       "  FreqDist({'JJ': 102, 'NN': 834, 'NNS': 2, 'RB': 2, 'VB': 185, 'VBP': 18})),\n",
       " ('lean', FreqDist({'JJ': 403, 'NN': 20, 'VB': 4, 'VBP': 9, 'VBZ': 6})),\n",
       " ('elbow',\n",
       "  FreqDist({'CC': 1,\n",
       "            'FW': 4,\n",
       "            'IN': 2,\n",
       "            'JJ': 40,\n",
       "            'NN': 164,\n",
       "            'NNS': 2,\n",
       "            'RB': 11,\n",
       "            'VB': 3,\n",
       "            'VBD': 2,\n",
       "            'VBP': 12,\n",
       "            'VBZ': 4})),\n",
       " ('balustrad', FreqDist({'IN': 2, 'JJ': 9, 'NN': 32, 'VBD': 1})),\n",
       " ('verandah',\n",
       "  FreqDist({'FW': 6,\n",
       "            'IN': 2,\n",
       "            'JJ': 33,\n",
       "            'NN': 105,\n",
       "            'NNS': 2,\n",
       "            'RB': 8,\n",
       "            'VBD': 1,\n",
       "            'VBP': 5,\n",
       "            'VBZ': 1})),\n",
       " ('went', FreqDist({'VBD': 1733})),\n",
       " ('look',\n",
       "  FreqDist({'CC': 6,\n",
       "            'FW': 6,\n",
       "            'JJ': 48,\n",
       "            'JJR': 17,\n",
       "            'JJS': 1,\n",
       "            'NN': 2699,\n",
       "            'NNS': 9,\n",
       "            'RB': 13,\n",
       "            'RBR': 17,\n",
       "            'VB': 422,\n",
       "            'VBD': 6,\n",
       "            'VBN': 5,\n",
       "            'VBP': 830,\n",
       "            'VBZ': 4})),\n",
       " ('fix',\n",
       "  FreqDist({'JJ': 96,\n",
       "            'NN': 147,\n",
       "            'NNS': 3,\n",
       "            'RB': 3,\n",
       "            'VB': 4,\n",
       "            'VBD': 2,\n",
       "            'VBP': 9,\n",
       "            'VBZ': 8})),\n",
       " ('great', FreqDist({'JJ': 2157})),\n",
       " ('flow', FreqDist({'IN': 1, 'JJ': 30, 'NN': 79, 'VB': 7, 'VBP': 1})),\n",
       " ('indiffer', FreqDist({'JJ': 9, 'NN': 114, 'VB': 7, 'VBP': 53})),\n",
       " ('hurri',\n",
       "  FreqDist({'JJ': 71,\n",
       "            'NN': 201,\n",
       "            'NNS': 3,\n",
       "            'RB': 5,\n",
       "            'VB': 5,\n",
       "            'VBD': 5,\n",
       "            'VBN': 2,\n",
       "            'VBP': 4,\n",
       "            'VBZ': 2})),\n",
       " ('befor',\n",
       "  FreqDist({'FW': 2,\n",
       "            'IN': 94,\n",
       "            'JJ': 902,\n",
       "            'NN': 1085,\n",
       "            'NNS': 105,\n",
       "            'RB': 66,\n",
       "            'RP': 2,\n",
       "            'VB': 61,\n",
       "            'VBD': 130,\n",
       "            'VBN': 6,\n",
       "            'VBP': 71,\n",
       "            'VBZ': 29})),\n",
       " ('eye', FreqDist({'NN': 2941})),\n",
       " ('time', FreqDist({'NN': 3285})),\n",
       " ('sunset', FreqDist({'JJ': 2, 'NN': 40, 'VBD': 10, 'VBN': 17})),\n",
       " ('perhap',\n",
       "  FreqDist({'FW': 3,\n",
       "            'IN': 16,\n",
       "            'JJ': 164,\n",
       "            'NN': 702,\n",
       "            'NNS': 25,\n",
       "            'RB': 61,\n",
       "            'VB': 57,\n",
       "            'VBD': 9,\n",
       "            'VBN': 3,\n",
       "            'VBP': 22,\n",
       "            'VBZ': 7})),\n",
       " ('becaus',\n",
       "  FreqDist({'CD': 1,\n",
       "            'FW': 1,\n",
       "            'IN': 35,\n",
       "            'JJ': 120,\n",
       "            'JJR': 1,\n",
       "            'NN': 772,\n",
       "            'NNS': 21,\n",
       "            'RB': 33,\n",
       "            'VB': 23,\n",
       "            'VBD': 11,\n",
       "            'VBN': 1,\n",
       "            'VBP': 23,\n",
       "            'VBZ': 10})),\n",
       " ('sink', FreqDist({'JJ': 5, 'NN': 58, 'VB': 18, 'VBP': 36})),\n",
       " ('sun',\n",
       "  FreqDist({'JJ': 44,\n",
       "            'NN': 255,\n",
       "            'NNS': 3,\n",
       "            'RB': 1,\n",
       "            'VB': 2,\n",
       "            'VBD': 6,\n",
       "            'VBP': 4,\n",
       "            'VBZ': 5})),\n",
       " ('spread', FreqDist({'JJ': 16, 'NN': 89, 'VB': 4, 'VBD': 7, 'VBP': 6})),\n",
       " ('glow', FreqDist({'IN': 1, 'JJ': 115, 'NN': 84, 'VB': 2, 'VBP': 3})),\n",
       " ('gold', FreqDist({'JJ': 14, 'NN': 167, 'VB': 2, 'VBN': 1, 'VBP': 1})),\n",
       " ('ting', FreqDist({'NN': 3, 'VBG': 45})),\n",
       " ('water', FreqDist({'NN': 826})),\n",
       " ('pantai', FreqDist({'JJ': 3, 'NN': 17, 'NNS': 2, 'VBP': 1})),\n",
       " ('thought',\n",
       "  FreqDist({'JJ': 136,\n",
       "            'NN': 259,\n",
       "            'RB': 12,\n",
       "            'RP': 2,\n",
       "            'VB': 51,\n",
       "            'VBD': 1040,\n",
       "            'VBN': 536})),\n",
       " ('often', FreqDist({'RB': 268})),\n",
       " ('busi',\n",
       "  FreqDist({'IN': 21,\n",
       "            'JJ': 87,\n",
       "            'NN': 369,\n",
       "            'NNS': 10,\n",
       "            'RB': 15,\n",
       "            'VB': 7,\n",
       "            'VBD': 6,\n",
       "            'VBP': 9,\n",
       "            'VBZ': 3})),\n",
       " ('fail',\n",
       "  FreqDist({'JJ': 44,\n",
       "            'NN': 46,\n",
       "            'NNS': 1,\n",
       "            'RB': 1,\n",
       "            'VB': 20,\n",
       "            'VBN': 1,\n",
       "            'VBP': 72})),\n",
       " ('secur',\n",
       "  FreqDist({'JJ': 29,\n",
       "            'NN': 47,\n",
       "            'NNS': 3,\n",
       "            'RB': 1,\n",
       "            'VB': 4,\n",
       "            'VBD': 2,\n",
       "            'VBN': 2,\n",
       "            'VBP': 18})),\n",
       " ('dishonest', FreqDist({'JJS': 2, 'NN': 2})),\n",
       " ('cours',\n",
       "  FreqDist({'JJ': 16,\n",
       "            'NN': 116,\n",
       "            'NNS': 708,\n",
       "            'RB': 1,\n",
       "            'VB': 14,\n",
       "            'VBD': 2,\n",
       "            'VBN': 1,\n",
       "            'VBP': 16,\n",
       "            'VBZ': 109})),\n",
       " ('meant',\n",
       "  FreqDist({'CD': 2,\n",
       "            'FW': 1,\n",
       "            'JJ': 64,\n",
       "            'NN': 89,\n",
       "            'NNS': 3,\n",
       "            'RB': 2,\n",
       "            'RBR': 1,\n",
       "            'VB': 13,\n",
       "            'VBD': 111,\n",
       "            'VBN': 22,\n",
       "            'VBP': 1})),\n",
       " ('yet', FreqDist({'CC': 1, 'RB': 1028})),\n",
       " ('honest',\n",
       "  FreqDist({'JJ': 10, 'JJS': 71, 'NN': 30, 'RB': 4, 'VB': 1, 'VBP': 1})),\n",
       " ('exert', FreqDist({'JJ': 28, 'NN': 17, 'RB': 1, 'VB': 2, 'VBP': 3})),\n",
       " ('nina',\n",
       "  FreqDist({'CC': 3,\n",
       "            'FW': 10,\n",
       "            'IN': 11,\n",
       "            'JJ': 88,\n",
       "            'NN': 46,\n",
       "            'NNS': 20,\n",
       "            'RB': 48,\n",
       "            'VB': 1,\n",
       "            'VBP': 3,\n",
       "            'VBZ': 1})),\n",
       " ('absorb',\n",
       "  FreqDist({'IN': 3,\n",
       "            'JJ': 20,\n",
       "            'NN': 24,\n",
       "            'NNS': 1,\n",
       "            'RB': 3,\n",
       "            'VB': 9,\n",
       "            'VBD': 2,\n",
       "            'VBP': 6,\n",
       "            'VBZ': 2})),\n",
       " ('wealth', FreqDist({'NN': 89, 'VBD': 1, 'VBP': 2, 'WP': 1})),\n",
       " ('power', FreqDist({'NN': 597})),\n",
       " ('away', FreqDist({'JJ': 4, 'RB': 1671, 'RP': 412, 'VB': 1})),\n",
       " ('coast', FreqDist({'JJ': 22, 'NN': 236, 'RB': 2, 'VBD': 3, 'VBP': 3})),\n",
       " ('dwelt', FreqDist({'NN': 15, 'RB': 2, 'VBD': 13})),\n",
       " ('forget', FreqDist({'JJ': 7, 'NN': 142, 'NNS': 3, 'VB': 140, 'VBP': 8})),\n",
       " ('bitter', FreqDist({'IN': 1, 'JJ': 160, 'NN': 73, 'RB': 2, 'VB': 2}))]"
      ]
     },
     "execution_count": 156,
     "metadata": {},
     "output_type": "execute_result"
    }
   ],
   "source": [
    "conrad_cfdist_WordtoPOS = nltk.ConditionalFreqDist(conrad_df['normalized_tokens_POS'].sum())\n",
    "list(conrad_cfdist_WordtoPOS.items())[:100]"
   ]
  },
  {
   "cell_type": "code",
   "execution_count": 157,
   "metadata": {},
   "outputs": [],
   "source": [
    "#frequency for each part of speech for each word\n",
    "conrad_cfdist_POStoWord = nltk.ConditionalFreqDist((p, w) for w, p in conrad_df['normalized_tokens_POS'].sum())"
   ]
  },
  {
   "cell_type": "code",
   "execution_count": 158,
   "metadata": {},
   "outputs": [
    {
     "data": {
      "text/plain": [
       "FreqDist({'river': 471,\n",
       "          'joseph': 19,\n",
       "          'conrad': 15,\n",
       "          'qui': 3,\n",
       "          'promis': 131,\n",
       "          'son': 214,\n",
       "          'jour': 1,\n",
       "          'et': 3,\n",
       "          'sa': 1,\n",
       "          'fin': 2,\n",
       "          'exil': 19,\n",
       "          'amiel': 1,\n",
       "          'adelphi': 2,\n",
       "          'terrac': 12,\n",
       "          'memori': 73,\n",
       "          'b': 10,\n",
       "          'chapter': 259,\n",
       "          'kaspar': 12,\n",
       "          'makan': 3,\n",
       "          'shrill': 44,\n",
       "          'startl': 162,\n",
       "          'almay': 375,\n",
       "          'dream': 272,\n",
       "          'realiti': 65,\n",
       "          'hour': 591,\n",
       "          'voic': 1484,\n",
       "          'heard': 741,\n",
       "          'year': 952,\n",
       "          'matter': 715,\n",
       "          'call': 834,\n",
       "          'elbow': 164,\n",
       "          'balustrad': 32,\n",
       "          'look': 2699,\n",
       "          'fix': 147,\n",
       "          'flow': 79,\n",
       "          'indiffer': 114,\n",
       "          'hurri': 201,\n",
       "          'eye': 2941,\n",
       "          'time': 3285,\n",
       "          'sink': 58,\n",
       "          'sun': 255,\n",
       "          'gold': 167,\n",
       "          'water': 826,\n",
       "          'pantai': 17,\n",
       "          'fail': 46,\n",
       "          'secur': 47,\n",
       "          'dishonest': 2,\n",
       "          'meant': 89,\n",
       "          'nina': 46,\n",
       "          'wealth': 89,\n",
       "          'power': 597,\n",
       "          'dwelt': 15,\n",
       "          'mani': 426,\n",
       "          'forget': 142,\n",
       "          'toil': 64,\n",
       "          'strife': 24,\n",
       "          'vision': 204,\n",
       "          'reward': 49,\n",
       "          'europ': 81,\n",
       "          'daughter': 244,\n",
       "          'respect': 227,\n",
       "          'blood': 178,\n",
       "          'presenc': 157,\n",
       "          'beauti': 120,\n",
       "          'wit': 68,\n",
       "          'triumph': 49,\n",
       "          'struggl': 141,\n",
       "          'coast': 236,\n",
       "          'prison': 156,\n",
       "          'reach': 236,\n",
       "          'let': 579,\n",
       "          'return': 369,\n",
       "          'interest': 443,\n",
       "          'share': 128,\n",
       "          'week': 161,\n",
       "          'perhap': 702,\n",
       "          'alreadi': 220,\n",
       "          'decay': 33,\n",
       "          'life': 1711,\n",
       "          'rain': 78,\n",
       "          'roll': 219,\n",
       "          'angri': 132,\n",
       "          'muddi': 33,\n",
       "          'flood': 58,\n",
       "          'inattent': 3,\n",
       "          'log': 59,\n",
       "          'tree': 199,\n",
       "          'branch': 85,\n",
       "          'swirl': 14,\n",
       "          'roar': 39,\n",
       "          'drift': 106,\n",
       "          'ground': 436,\n",
       "          'watch': 582,\n",
       "          'languid': 56,\n",
       "          'swung': 87,\n",
       "          'slowli': 353,\n",
       "          'round': 885,\n",
       "          'foam': 44,\n",
       "          'obstruct': 3,\n",
       "          'stream': 194,\n",
       "          'denud': 3,\n",
       "          'hand': 2844,\n",
       "          'lift': 174,\n",
       "          'mute': 55,\n",
       "          'appeal': 98,\n",
       "          'brutal': 12,\n",
       "          'violenc': 77,\n",
       "          'fate': 215,\n",
       "          'see': 450,\n",
       "          'point': 637,\n",
       "          'sea': 942,\n",
       "          'envi': 24,\n",
       "          'lot': 368,\n",
       "          'thing': 1885,\n",
       "          'dark': 683,\n",
       "          'altogeth': 41,\n",
       "          'probabl': 125,\n",
       "          'till': 559,\n",
       "          'sight': 193,\n",
       "          'celeb': 9,\n",
       "          'macassar': 13,\n",
       "          'distanc': 228,\n",
       "          'imaginari': 6,\n",
       "          'voyag': 37,\n",
       "          'lag': 3,\n",
       "          'slim': 9,\n",
       "          'land': 457,\n",
       "          'dutch': 52,\n",
       "          'dusti': 28,\n",
       "          'jetti': 71,\n",
       "          'woo': 5,\n",
       "          'fortun': 109,\n",
       "          'hudig': 54,\n",
       "          'import': 216,\n",
       "          'exist': 45,\n",
       "          'father': 383,\n",
       "          'subordin': 18,\n",
       "          'employ': 45,\n",
       "          'botan': 1,\n",
       "          'garden': 89,\n",
       "          'buitenzorg': 1,\n",
       "          'doubt': 578,\n",
       "          'place': 793,\n",
       "          'firm': 185,\n",
       "          'man': 4687,\n",
       "          'poison': 55,\n",
       "          'shore': 211,\n",
       "          'java': 11,\n",
       "          'meagr': 17,\n",
       "          'comfort': 138,\n",
       "          'parent': 22,\n",
       "          'grumbl': 24,\n",
       "          'day': 1757,\n",
       "          'mother': 348,\n",
       "          'depth': 111,\n",
       "          'bewail': 1,\n",
       "          'amsterdam': 3,\n",
       "          'posit': 401,\n",
       "          'cigar': 75,\n",
       "          'dealer': 8,\n",
       "          'home': 437,\n",
       "          'heart': 899,\n",
       "          'lighter': 44,\n",
       "          'pocket': 210,\n",
       "          'speak': 419,\n",
       "          'arithmet': 1,\n",
       "          'readi': 309,\n",
       "          'conquer': 30,\n",
       "          'world': 1145,\n",
       "          'stifl': 29,\n",
       "          'heat': 225,\n",
       "          'pleasur': 74,\n",
       "          'regret': 92,\n",
       "          'imag': 73,\n",
       "          'avenu': 17,\n",
       "          'gin': 17,\n",
       "          'case': 331,\n",
       "          'door': 1031,\n",
       "          'dim': 140,\n",
       "          'delight': 54,\n",
       "          'glare': 145,\n",
       "          'street': 442,\n",
       "          'space': 219,\n",
       "          'amongst': 283,\n",
       "          'pile': 50,\n",
       "          'merchandis': 8,\n",
       "          'amidst': 4,\n",
       "          'din': 10,\n",
       "          'work': 669,\n",
       "          'gang': 31,\n",
       "          'cask': 8,\n",
       "          'shift': 51,\n",
       "          'mutter': 461,\n",
       "          'song': 44,\n",
       "          'end': 982,\n",
       "          'desper': 115,\n",
       "          'yell': 79,\n",
       "          'face': 2204,\n",
       "          'rail': 153,\n",
       "          'abov': 346,\n",
       "          'guilder': 11,\n",
       "          'discreet': 53,\n",
       "          'supervis': 6,\n",
       "          'vinck': 24,\n",
       "          'cashier': 3,\n",
       "          'genius': 56,\n",
       "          'presid': 38,\n",
       "          'master': 306,\n",
       "          'tabl': 444,\n",
       "          'paint': 74,\n",
       "          'turban': 12,\n",
       "          'string': 17,\n",
       "          'dangl': 10,\n",
       "          'move': 759,\n",
       "          'regular': 5,\n",
       "          'machin': 9,\n",
       "          'side': 1122,\n",
       "          'privat': 97,\n",
       "          'enthron': 5,\n",
       "          'hold': 143,\n",
       "          'sometim': 212,\n",
       "          'littl': 1218,\n",
       "          'disclos': 56,\n",
       "          'outer': 40,\n",
       "          'bluish': 3,\n",
       "          'haze': 18,\n",
       "          'tobacco': 35,\n",
       "          'load': 84,\n",
       "          'shape': 259,\n",
       "          'rattan': 14,\n",
       "          'occupi': 23,\n",
       "          'head': 2351,\n",
       "          'handl': 80,\n",
       "          'send': 57,\n",
       "          'order': 446,\n",
       "          'thunder': 86,\n",
       "          'hesit': 202,\n",
       "          'stranger': 143,\n",
       "          'greet': 89,\n",
       "          'welgom': 1,\n",
       "          'gapitan': 1,\n",
       "          'ver': 1,\n",
       "          'gome': 1,\n",
       "          'bali': 5,\n",
       "          'eh': 97,\n",
       "          'boni': 32,\n",
       "          'vant': 2,\n",
       "          'ha': 158,\n",
       "          'drag': 61,\n",
       "          'tempest': 7,\n",
       "          'nois': 84,\n",
       "          'barrel': 28,\n",
       "          'scratch': 33,\n",
       "          'music': 50,\n",
       "          'chink': 15,\n",
       "          'silver': 239,\n",
       "          'piec': 186,\n",
       "          'ceaseless': 14,\n",
       "          'finger': 256,\n",
       "          'commerc': 7,\n",
       "          'island': 249,\n",
       "          'spirit': 215,\n",
       "          'fit': 111,\n",
       "          'schooner': 138,\n",
       "          'invad': 26,\n",
       "          'malay': 177,\n",
       "          'search': 92,\n",
       "          'money': 377,\n",
       "          'adventur': 95,\n",
       "          'busi': 369,\n",
       "          'disinclin': 3,\n",
       "          'brush': 32,\n",
       "          'pirat': 86,\n",
       "          'fast': 10,\n",
       "          'rendezv': 1,\n",
       "          'bay': 80,\n",
       "          'purpos': 231,\n",
       "          'trade': 184,\n",
       "          'dissip': 6,\n",
       "          'merchant': 48,\n",
       "          'kind': 598,\n",
       "          'charm': 158,\n",
       "          'tom': 54,\n",
       "          'lingard': 535,\n",
       "          'recognis': 45,\n",
       "          'transact': 28,\n",
       "          'love': 340,\n",
       "          'fight': 145,\n",
       "          'sulu': 5,\n",
       "          'togeth': 175,\n",
       "          'tale': 113,\n",
       "          'child': 300,\n",
       "          'girl': 728,\n",
       "          'board': 541,\n",
       "          'craft': 107,\n",
       "          'drive': 94,\n",
       "          'crew': 66,\n",
       "          'adopt': 6,\n",
       "          'convent': 83,\n",
       "          'oath': 10,\n",
       "          'marri': 87,\n",
       "          'befor': 1085,\n",
       "          'leav': 374,\n",
       "          'assert': 25,\n",
       "          'discov': 165,\n",
       "          'fact': 611,\n",
       "          'crowd': 133,\n",
       "          'daytim': 8,\n",
       "          'drank': 40,\n",
       "          'champagn': 9,\n",
       "          'gambl': 19,\n",
       "          'noisi': 11,\n",
       "          'verandah': 105,\n",
       "          'sunda': 2,\n",
       "          'hotel': 118,\n",
       "          'night': 1131,\n",
       "          'entranc': 75,\n",
       "          'use': 694,\n",
       "          'assort': 6,\n",
       "          'cargo': 48,\n",
       "          'brass': 94,\n",
       "          'gong': 6,\n",
       "          'rifl': 36,\n",
       "          'gunpowd': 10,\n",
       "          'brig': 245,\n",
       "          'command': 232,\n",
       "          'dure': 267,\n",
       "          'roadstead': 16,\n",
       "          'companion': 167,\n",
       "          'effect': 323,\n",
       "          'midnight': 34,\n",
       "          'ani': 654,\n",
       "          'amount': 79,\n",
       "          'liquor': 12,\n",
       "          'tri': 521,\n",
       "          'find': 37,\n",
       "          'plenti': 29,\n",
       "          'pearl': 14,\n",
       "          'shell': 21,\n",
       "          'bird': 78,\n",
       "          'wax': 12,\n",
       "          'everi': 388,\n",
       "          'sandbank': 25,\n",
       "          'reef': 35,\n",
       "          'lose': 9,\n",
       "          'bare': 181,\n",
       "          'cruel': 103,\n",
       "          'grip': 92,\n",
       "          'sunni': 9,\n",
       "          'smile': 445,\n",
       "          'guard': 92,\n",
       "          'merciless': 25,\n",
       "          'expedit': 32,\n",
       "          'becom': 223,\n",
       "          'hero': 29,\n",
       "          'enorm': 191,\n",
       "          'profit': 39,\n",
       "          'ventur': 41,\n",
       "          'veri': 2447,\n",
       "          'inde': 235,\n",
       "          'grunt': 89,\n",
       "          'boister': 7,\n",
       "          'hallo': 16,\n",
       "          'aliv': 72,\n",
       "          'desert': 92,\n",
       "          'paper': 361,\n",
       "          'household': 51,\n",
       "          'live': 27,\n",
       "          'discuss': 54,\n",
       "          'offic': 156,\n",
       "          'monoton': 41,\n",
       "          'growl': 114,\n",
       "          'marrowi': 1,\n",
       "          'bone': 71,\n",
       "          'sound': 570,\n",
       "          'quarrel': 78,\n",
       "          'titan': 4,\n",
       "          'battl': 46,\n",
       "          'cours': 116,\n",
       "          'onlook': 5,\n",
       "          'fanci': 123,\n",
       "          'convivi': 1,\n",
       "          'glass': 283,\n",
       "          'croni': 7,\n",
       "          'fine': 37,\n",
       "          'declar': 49,\n",
       "          'captain': 982,\n",
       "          'clerk': 52,\n",
       "          'consent': 39,\n",
       "          'youth': 167,\n",
       "          'pack': 39,\n",
       "          'cruis': 8,\n",
       "          'seaman': 66,\n",
       "          'visit': 165,\n",
       "          'month': 228,\n",
       "          'slip': 130,\n",
       "          'friendship': 60,\n",
       "          'pace': 167,\n",
       "          'deck': 424,\n",
       "          'faint': 451,\n",
       "          'breez': 96,\n",
       "          'heavi': 345,\n",
       "          'aromat': 3,\n",
       "          'gentl': 234,\n",
       "          'sparkl': 47,\n",
       "          'sky': 235,\n",
       "          'escap': 188,\n",
       "          'danger': 404,\n",
       "          'combin': 34,\n",
       "          'futur': 128,\n",
       "          'bring': 109,\n",
       "          'strang': 283,\n",
       "          'tender': 194,\n",
       "          'sinc': 272,\n",
       "          'damm': 3,\n",
       "          'trip': 80,\n",
       "          'cabin': 176,\n",
       "          'someth': 414,\n",
       "          'onc': 465,\n",
       "          'walk': 449,\n",
       "          'throat': 218,\n",
       "          'hem': 8,\n",
       "          'bulwark': 19,\n",
       "          'silenc': 563,\n",
       "          'motionless': 205,\n",
       "          'gleam': 259,\n",
       "          'phosphoresc': 4,\n",
       "          'arriv': 109,\n",
       "          'attempt': 130,\n",
       "          'confidenti': 55,\n",
       "          'want': 79,\n",
       "          'kick': 34,\n",
       "          'becaus': 772,\n",
       "          'shout': 357,\n",
       "          'give': 26,\n",
       "          'surpris': 278,\n",
       "          'word': 1818,\n",
       "          'none': 82,\n",
       "          'nobodi': 103,\n",
       "          'dollar': 64,\n",
       "          'thick': 117,\n",
       "          'tell': 551,\n",
       "          'mind': 961,\n",
       "          'thicker': 10,\n",
       "          'die': 327,\n",
       "          'propos': 49,\n",
       "          'minut': 233,\n",
       "          'gift': 88,\n",
       "          'dazzl': 36,\n",
       "          'shine': 86,\n",
       "          'realis': 13,\n",
       "          'possibl': 295,\n",
       "          'consider': 44,\n",
       "          'indol': 25,\n",
       "          'ship': 939,\n",
       "          'fairi': 4,\n",
       "          'palac': 43,\n",
       "          'mansion': 13,\n",
       "          'earth': 445,\n",
       "          'paradis': 22,\n",
       "          'pictur': 39,\n",
       "          'companionship': 11,\n",
       "          'legaci': 4,\n",
       "          'boat': 742,\n",
       "          'onli': 938,\n",
       "          'confus': 103,\n",
       "          'shame': 78,\n",
       "          'vagu': 171,\n",
       "          'idea': 620,\n",
       "          'easi': 85,\n",
       "          'dispos': 36,\n",
       "          'woman': 1160,\n",
       "          'ceremoni': 34,\n",
       "          'boy': 202,\n",
       "          'doe': 202,\n",
       "          'think': 316,\n",
       "          'refus': 70,\n",
       "          'way': 1865,\n",
       "          'fool': 212,\n",
       "          'rememb': 445,\n",
       "          'produc': 92,\n",
       "          'surround': 108,\n",
       "          'sleep': 114,\n",
       "          'surfac': 78,\n",
       "          'bar': 133,\n",
       "          'rise': 165,\n",
       "          'moon': 85,\n",
       "          'exult': 67,\n",
       "          'circumst': 86,\n",
       "          'hope': 335,\n",
       "          'air': 749,\n",
       "          'becam': 354,\n",
       "          'awar': 42,\n",
       "          'departur': 38,\n",
       "          'blot': 10,\n",
       "          'opposit': 63,\n",
       "          'fire': 531,\n",
       "          'dri': 149,\n",
       "          'stockad': 81,\n",
       "          'rajah': 187,\n",
       "          'compound': 47,\n",
       "          'view': 336,\n",
       "          'trunk': 63,\n",
       "          'impenetr': 59,\n",
       "          'gloom': 136,\n",
       "          'hazi': 8,\n",
       "          'wife': 579,\n",
       "          'dinner': 71,\n",
       "          'contempl': 100,\n",
       "          'wreckag': 7,\n",
       "          'dawn': 108,\n",
       "          'hungri': 48,\n",
       "          'whenev': 37,\n",
       "          'rice': 57,\n",
       "          'step': 670,\n",
       "          'lizard': 7,\n",
       "          'disturb': 128,\n",
       "          'emit': 38,\n",
       "          'plaintiv': 14,\n",
       "          'note': 212,\n",
       "          'scurri': 6,\n",
       "          'grass': 145,\n",
       "          'grow': 114,\n",
       "          'bank': 239,\n",
       "          'ladder': 45,\n",
       "          'care': 615,\n",
       "          'recal': 5,\n",
       "          'prevent': 70,\n",
       "          'fall': 340,\n",
       "          'stone': 220,\n",
       "          'plank': 50,\n",
       "          'beam': 33,\n",
       "          'turn': 650,\n",
       "          'ear': 121,\n",
       "          'detect': 28,\n",
       "          'splash': 66,\n",
       "          'freshet': 1,\n",
       "          'tone': 906,\n",
       "          'hug': 29,\n",
       "          'anyth': 357,\n",
       "          'peer': 42,\n",
       "          'abdulla': 174,\n",
       "          'ya': 7,\n",
       "          'hail': 72,\n",
       "          'bush': 136,\n",
       "          'front': 135,\n",
       "          'shook': 177,\n",
       "          'paddl': 64,\n",
       "          'cano': 208,\n",
       "          'rang': 110,\n",
       "          'shoulder': 635,\n",
       "          'answer': 572,\n",
       "          'tuan': 67,\n",
       "          'friend': 589,\n",
       "          'arab': 36,\n",
       "          'dain': 172,\n",
       "          'exclaim': 217,\n",
       "          'death': 490,\n",
       "          'whisper': 196,\n",
       "          'talk': 1073,\n",
       "          'good': 22,\n",
       "          'heartili': 18,\n",
       "          'invit': 57,\n",
       "          'ask': 829,\n",
       "          'orang': 31,\n",
       "          'blanda': 13,\n",
       "          'gloomi': 75,\n",
       "          'right': 146,\n",
       "          'whi': 629,\n",
       "          'lakamba': 116,\n",
       "          'mine': 383,\n",
       "          'shadowi': 54,\n",
       "          'bowman': 3,\n",
       "          'sprung': 19,\n",
       "          'scatter': 71,\n",
       "          'shower': 33,\n",
       "          'bent': 108,\n",
       "          'shot': 136,\n",
       "          'streak': 35,\n",
       "          'steer': 58,\n",
       "          'cover': 199,\n",
       "          'fantast': 33,\n",
       "          'exagger': 52,\n",
       "          'mushroom': 6,\n",
       "          'line': 355,\n",
       "          'light': 474,\n",
       "          'murmur': 500,\n",
       "          'burn': 193,\n",
       "          'render': 49,\n",
       "          'visibl': 97,\n",
       "          'moment': 1415,\n",
       "          'gate': 203,\n",
       "          'torch': 62,\n",
       "          'play': 223,\n",
       "          'success': 272,\n",
       "          'scheme': 41,\n",
       "          'trust': 281,\n",
       "          'medit': 142,\n",
       "          'complet': 336,\n",
       "          'sambir': 77,\n",
       "          'wall': 459,\n",
       "          'smoki': 19,\n",
       "          'platform': 46,\n",
       "          'cliff': 39,\n",
       "          'mass': 190,\n",
       "          'build': 51,\n",
       "          'tower': 54,\n",
       "          'structur': 17,\n",
       "          'star': 180,\n",
       "          'suggest': 50,\n",
       "          'paraffin': 4,\n",
       "          'bin': 4,\n",
       "          'trader': 85,\n",
       "          'fist': 73,\n",
       "          'insol': 27,\n",
       "          'contemptu': 87,\n",
       "          'middl': 144,\n",
       "          'lamp': 118,\n",
       "          'globe': 28,\n",
       "          'support': 97,\n",
       "          'roof': 106,\n",
       "          'hung': 209,\n",
       "          'screen': 34,\n",
       "          'ceil': 38,\n",
       "          'harsh': 15,\n",
       "          'brillianc': 36,\n",
       "          'rafter': 4,\n",
       "          'cut': 161,\n",
       "          'curtain': 100,\n",
       "          'room': 972,\n",
       "          'passag': 159,\n",
       "          'cook': 61,\n",
       "          'obliter': 6,\n",
       "          'wood': 152,\n",
       "          'wooden': 36,\n",
       "          'armchair': 44,\n",
       "          'shabbi': 39,\n",
       "          'mat': 69,\n",
       "          'corner': 273,\n",
       "          'hammock': 43,\n",
       "          'slung': 7,\n",
       "          'diagon': 8,\n",
       "          'wrap': 67,\n",
       "          'calico': 15,\n",
       "          'huddl': 16,\n",
       "          'shapeless': 28,\n",
       "          'heap': 44,\n",
       "          'domest': 16,\n",
       "          'numer': 9,\n",
       "          'revel': 40,\n",
       "          'swarm': 21,\n",
       "          'mosquito': 12,\n",
       "          'thatch': 15,\n",
       "          'race': 107,\n",
       "          'monkey': 20,\n",
       "          'chain': 85,\n",
       "          'retir': 54,\n",
       "          'eav': 9,\n",
       "          'grin': 56,\n",
       "          'bamboo': 36,\n",
       "          'stick': 89,\n",
       "          'caus': 209,\n",
       "          'dust': 114,\n",
       "          'bit': 248,\n",
       "          'settl': 90,\n",
       "          'floor': 303,\n",
       "          'wither': 16,\n",
       "          'plant': 65,\n",
       "          'neglect': 17,\n",
       "          'stain': 26,\n",
       "          'testifi': 12,\n",
       "          'indiscrimin': 5,\n",
       "          'chew': 10,\n",
       "          'tatter': 7,\n",
       "          'perfum': 17,\n",
       "          'flower': 72,\n",
       "          'creak': 18,\n",
       "          'sleeper': 11,\n",
       "          'indistinct': 12,\n",
       "          'slight': 42,\n",
       "          'rustl': 64,\n",
       "          'everybodi': 93,\n",
       "          'drop': 471,\n",
       "          'content': 33,\n",
       "          'plate': 68,\n",
       "          'jar': 24,\n",
       "          'bottl': 65,\n",
       "          'half': 373,\n",
       "          'genev': 1,\n",
       "          'crack': 77,\n",
       "          'tumbler': 18,\n",
       "          'tin': 25,\n",
       "          'spoon': 11,\n",
       "          'rest': 410,\n",
       "          'edg': 130,\n",
       "          'hang': 287,\n",
       "          'dreami': 37,\n",
       "          'cast': 92,\n",
       "          'correct': 11,\n",
       "          'profil': 22,\n",
       "          'modifi': 2,\n",
       "          'strengthen': 8,\n",
       "          'squar': 88,\n",
       "          'part': 897,\n",
       "          'inherit': 39,\n",
       "          'ancestor': 11,\n",
       "          'mouth': 236,\n",
       "          'lip': 559,\n",
       "          'feroc': 28,\n",
       "          'impati': 93,\n",
       "          'express': 421,\n",
       "          'featur': 78,\n",
       "          'perfect': 126,\n",
       "          'steadi': 140,\n",
       "          'flexibl': 7,\n",
       "          'grace': 98,\n",
       "          'forehead': 78,\n",
       "          'crown': 17,\n",
       "          'hair': 459,\n",
       "          'tress': 15,\n",
       "          'complexion': 57,\n",
       "          'paler': 6,\n",
       "          'attack': 70,\n",
       "          'greedili': 6,\n",
       "          'paus': 294,\n",
       "          'pass': 781,\n",
       "          'glanc': 652,\n",
       "          'spoke': 51,\n",
       "          'come': 151,\n",
       "          'road': 240,\n",
       "          'miseri': 66,\n",
       "          'approach': 300,\n",
       "          'caress': 37,\n",
       "          'gentleman': 168,\n",
       "          'repeat': 372,\n",
       "          'inquir': 63,\n",
       "          'tall': 48,\n",
       "          'glad': 49,\n",
       "          'vivaci': 8,\n",
       "          'imagin': 307,\n",
       "          'settlement': 118,\n",
       "          'ah': 147,\n",
       "          'cri': 534,\n",
       "          'remark': 443,\n",
       "          'thunderstorm': 19,\n",
       "          'awak': 30,\n",
       "          'kiss': 14,\n",
       "          'cheek': 161,\n",
       "          'happi': 106,\n",
       "          'unmov': 4,\n",
       "          'crept': 22,\n",
       "          'hill': 116,\n",
       "          'rumbl': 42,\n",
       "          'pale': 67,\n",
       "          'flash': 127,\n",
       "          'lightn': 51,\n",
       "          'storm': 57,\n",
       "          'take': 120,\n",
       "          'arm': 1080,\n",
       "          'calm': 178,\n",
       "          'tropic': 71,\n",
       "          'blast': 28,\n",
       "          'whip': 21,\n",
       "          'wind': 263,\n",
       "          'cloud': 160,\n",
       "          'trail': 45,\n",
       "          'wash': 38,\n",
       "          'torment': 67,\n",
       "          'loud': 42,\n",
       "          'vivid': 48,\n",
       "          'period': 81,\n",
       "          'divid': 13,\n",
       "          'patter': 15,\n",
       "          'prolong': 13,\n",
       "          'incess': 19,\n",
       "          'turmoil': 21,\n",
       "          'bend': 44,\n",
       "          'forc': 256,\n",
       "          'event': 152,\n",
       "          'raini': 6,\n",
       "          'monsoon': 12,\n",
       "          'enemi': 88,\n",
       "          'complianc': 2,\n",
       "          'demand': 75,\n",
       "          'convert': 10,\n",
       "          'relat': 62,\n",
       "          'prau': 23,\n",
       "          'survivor': 4,\n",
       "          'sever': 212,\n",
       "          'leg': 228,\n",
       "          'carri': 332,\n",
       "          'poop': 90,\n",
       "          'peac': 185,\n",
       "          'manner': 507,\n",
       "          'flame': 178,\n",
       "          'unheed': 2,\n",
       "          'wound': 40,\n",
       "          'absorb': 24,\n",
       "          'gaze': 266,\n",
       "          'funer': 18,\n",
       "          'admir': 124,\n",
       "          'redoubt': 4,\n",
       "          'fan': 42,\n",
       "          'blaze': 110,\n",
       "          'twinkl': 40,\n",
       "          'horizon': 77,\n",
       "          'canopi': 10,\n",
       "          'disappear': 24,\n",
       "          'depart': 92,\n",
       "          'thenceforth': 1,\n",
       "          'slaveri': 10,\n",
       "          'terribl': 110,\n",
       "          'person': 791,\n",
       "          'appreci': 49,\n",
       "          'otherwis': 27,\n",
       "          'quit': 449,\n",
       "          'victori': 20,\n",
       "          'flatter': 33,\n",
       "          'vaniti': 39,\n",
       "          'aw': 126,\n",
       "          'calam': 16,\n",
       "          'silent': 111,\n",
       "          'nun': 9,\n",
       "          'lead': 100,\n",
       "          'dread': 69,\n",
       "          'hate': 229,\n",
       "          'restraint': 38,\n",
       "          'intrigu': 57,\n",
       "          'ornament': 20,\n",
       "          'drudgeri': 2,\n",
       "          'occult': 14,\n",
       "          'womankind': 3,\n",
       "          'destini': 39,\n",
       "          'act': 209,\n",
       "          'conceal': 111,\n",
       "          'learn': 54,\n",
       "          'languag': 48,\n",
       "          'easili': 43,\n",
       "          'faith': 187,\n",
       "          'sister': 222,\n",
       "          'element': 29,\n",
       "          'religion': 15,\n",
       "          'impress': 239,\n",
       "          'propiti': 9,\n",
       "          'counsellor': 5,\n",
       "          'guid': 56,\n",
       "          'dispel': 3,\n",
       "          'laut': 28,\n",
       "          'fiat': 1,\n",
       "          'fond': 36,\n",
       "          'dress': 147,\n",
       "          'fineri': 1,\n",
       "          'centr': 48,\n",
       "          'circl': 92,\n",
       "          'societi': 62,\n",
       "          'altar': 10,\n",
       "          'disgust': 86,\n",
       "          'regard': 86,\n",
       "          'materi': 85,\n",
       "          'make': 162,\n",
       "          'scandal': 54,\n",
       "          'fidel': 49,\n",
       "          'concoct': 4,\n",
       "          'plan': 150,\n",
       "          'howev': 266,\n",
       "          'conventu': 1,\n",
       "          'teach': 11,\n",
       "          'law': 95,\n",
       "          'accord': 91,\n",
       "          'freight': 6,\n",
       "          'borneo': 4,\n",
       "          'wont': 3,\n",
       "          'boast': 40,\n",
       "          'affair': 269,\n",
       "          'audienc': 21,\n",
       "          'loafer': 13,\n",
       "          'habit': 121,\n",
       "          'approb': 6,\n",
       "          'auditor': 1,\n",
       "          'fill': 166,\n",
       "          'soul': 426,\n",
       "          'pursuanc': 5,\n",
       "          'principl': 52,\n",
       "          'push': 181,\n",
       "          'hast': 60,\n",
       "          'coupl': 103,\n",
       "          'hint': 109,\n",
       "          'understood': 125,\n",
       "          'diamond': 23,\n",
       "          'beheld': 23,\n",
       "          'pretti': 60,\n",
       "          'godown': 4,\n",
       "          'elat': 3,\n",
       "          'midst': 85,\n",
       "          'fierc': 86,\n",
       "          'competit': 6,\n",
       "          'post': 81,\n",
       "          'suffer': 149,\n",
       "          'unsuccess': 1,\n",
       "          'legitim': 12,\n",
       "          'mysteri': 308,\n",
       "          'journey': 67,\n",
       "          'difficulti': 116,\n",
       "          'friendless': 4,\n",
       "          'save': 40,\n",
       "          'protect': 54,\n",
       "          'sake': 80,\n",
       "          'predecessor': 8,\n",
       "          'exercis': 37,\n",
       "          'influenc': 81,\n",
       "          'help': 366,\n",
       "          'plot': 81,\n",
       "          'certainti': 6,\n",
       "          'knowledg': 121,\n",
       "          'port': 159,\n",
       "          'form': 377,\n",
       "          'jacket': 97,\n",
       "          'shone': 57,\n",
       "          'rank': 44,\n",
       "          'decor': 31,\n",
       "          'salaam': 6,\n",
       "          'shake': 56,\n",
       "          'heartiest': 1,\n",
       "          'welcom': 57,\n",
       "          'interview': 63,\n",
       "          'satisfi': 32,\n",
       "          'furtiv': 14,\n",
       "          'consult': 47,\n",
       "          'chief': 284,\n",
       "          'believ': 609,\n",
       "          'limit': 67,\n",
       "          'belat': 2,\n",
       "          'shoot': 63,\n",
       "          'creek': 51,\n",
       "          'solitari': 44,\n",
       "          'occup': 36,\n",
       "          'shadow': 420,\n",
       "          'report': 138,\n",
       "          'aristocrat': 34,\n",
       "          'malici': 16,\n",
       "          'misfortun': 36,\n",
       "          'blando': 1,\n",
       "          'dutchman': 3,\n",
       "          'feebl': 42,\n",
       "          'depriv': 18,\n",
       "          'chanc': 266,\n",
       "          'resolut': 86,\n",
       "          'themselv': 165,\n",
       "          'rot': 31,\n",
       "          'piecem': 5,\n",
       "          'banker': 12,\n",
       "          'avail': 6,\n",
       "          'capit': 51,\n",
       "          'swallow': 30,\n",
       "          'explor': 25,\n",
       "          'craze': 11,\n",
       "          'sign': 332,\n",
       "          'alon': 498,\n",
       "          'marriag': 30,\n",
       "          'treat': 79,\n",
       "          'savag': 116,\n",
       "          'contempt': 127,\n",
       "          'sulki': 16,\n",
       "          'occasion': 23,\n",
       "          'vari': 23,\n",
       "          'evid': 99,\n",
       "          'furnitur': 38,\n",
       "          'civilis': 19,\n",
       "          'cow': 12,\n",
       "          'natur': 169,\n",
       "          'sort': 1236,\n",
       "          'dare': 187,\n",
       "          'news': 177,\n",
       "          'age': 237,\n",
       "          'ill': 52,\n",
       "          'self': 25,\n",
       "          'fever': 29,\n",
       "          'grasp': 94,\n",
       "          'torealis': 1,\n",
       "          'fabul': 13,\n",
       "          'scrape': 32,\n",
       "          'singapor': 15,\n",
       "          'proper': 13,\n",
       "          'affect': 87,\n",
       "          'smoulder': 25,\n",
       "          'cheroot': 17,\n",
       "          'dishevel': 17,\n",
       "          'enthusiast': 20,\n",
       "          'sit': 400,\n",
       "          'separ': 68,\n",
       "          'scene': 110,\n",
       "          'tigress': 1,\n",
       "          'wretch': 91,\n",
       "          'polit': 188,\n",
       "          'famili': 112,\n",
       "          'problem': 59,\n",
       "          'jump': 185,\n",
       "          'swim': 23,\n",
       "          'scream': 91,\n",
       "          'chase': 29,\n",
       "          ...})"
      ]
     },
     "execution_count": 158,
     "metadata": {},
     "output_type": "execute_result"
    }
   ],
   "source": [
    "#NN is nouns\n",
    "conrad_cfdist_POStoWord['NN']"
   ]
  },
  {
   "cell_type": "code",
   "execution_count": null,
   "metadata": {},
   "outputs": [
    {
     "data": {
      "text/plain": [
       "[('man', 4687),\n",
       " ('time', 3285),\n",
       " ('eye', 2941),\n",
       " ('hand', 2844),\n",
       " ('look', 2699),\n",
       " ('veri', 2447),\n",
       " ('head', 2351),\n",
       " ('face', 2204),\n",
       " ('thing', 1885),\n",
       " ('way', 1865)]"
      ]
     },
     "execution_count": 159,
     "metadata": {},
     "output_type": "execute_result"
    }
   ],
   "source": [
    "#this function will print out the most common nouns. How many can be modulated by changing the number in the parantheses. \n",
    "conrad_cfdist_POStoWord['NN'].most_common(10)"
   ]
  },
  {
   "cell_type": "code",
   "execution_count": null,
   "metadata": {},
   "outputs": [],
   "source": [
    "conrad_cfdist_POStoWord['NN'].plot()"
   ]
  },
  {
   "cell_type": "code",
   "execution_count": null,
   "metadata": {},
   "outputs": [],
   "source": [
    "conrad_cpdist_POStoWord = nltk.ConditionalProbDist(conrad_cfdist_POStoWord, nltk.ELEProbDist)\n",
    "\n",
    "#print the most common nouns\n",
    "print(conrad_cpdist_POStoWord['NN'].max())\n",
    "\n",
    "#And its probability\n",
    "print(conrad_cpdist_POStoWord['NN'].prob(conrad_cpdist_POStoWord['NN'].max()))"
   ]
  },
  {
   "cell_type": "code",
   "execution_count": null,
   "metadata": {},
   "outputs": [],
   "source": [
    "wc = wordcloud.WordCloud(background_color=\"white\", max_words=500, width= 1000, height = 1000, mode ='RGBA', scale=.5).generate(' '.join(conrad_df['normalized_tokens'].sum()))\n",
    "plt.imshow(wc)\n",
    "plt.axis(\"off\")\n",
    "plt.savefig(\"conrad_word_cloud.pdf\", format = 'pdf')"
   ]
  },
  {
   "cell_type": "markdown",
   "metadata": {},
   "source": [
    "From some of the word distributions displayed above we can see the topics that preoccupied conrad in his novels. Far off colonies, accessed by the sea, with explorations of human existence. "
   ]
  },
  {
   "cell_type": "markdown",
   "metadata": {},
   "source": [
    "# Collocations"
   ]
  },
  {
   "cell_type": "markdown",
   "metadata": {},
   "source": [
    "As illustrated above, we might want to find significant bigrams (two-word phrases), trigrams (three-word phrases), n-grams (*n*-word phrases) or skip-grams (noncontinguous 'phrases' with skip-length *n*). We will begin with the [`nltk.collocations.BigramCollocationFinder`](http://www.nltk.org/api/nltk.html?highlight=bigramcollocationfinder#nltk.collocations.BigramCollocationFinder) class, which can be given raw lists of strings with the `from_words()` method. By default it only looks at continuous bigrams but there is an option (`window_size`) to allow skip-grams."
   ]
  },
  {
   "cell_type": "code",
   "execution_count": 35,
   "metadata": {},
   "outputs": [
    {
     "name": "stdout",
     "output_type": "stream",
     "text": [
      "There are 1999 bigrams in the finder\n"
     ]
    }
   ],
=======
   "execution_count": null,
   "metadata": {
    "collapsed": false
   },
   "outputs": [],
>>>>>>> d195bdb541288306c8d9b6aa1962ebe4ae022cde
   "source": [
    "whBigrams = nltk.collocations.BigramCollocationFinder.from_words(whReleases['normalized_tokens'].sum())\n",
    "print(\"There are {} bigrams in the finder\".format(whBigrams.N))"
   ]
  },
  {
   "cell_type": "markdown",
   "metadata": {},
   "source": [
    "To compare the bigrams we need to tell nltk what our score function is. Initially, we will look at the raw counts."
   ]
  },
  {
   "cell_type": "code",
<<<<<<< HEAD
   "execution_count": 36,
   "metadata": {},
   "outputs": [
    {
     "name": "stdout",
     "output_type": "stream",
     "text": [
      "[('rhode', 'island'), ('presid', 'bush'), ('sheldon', 'whitehous'), ('stem', 'cell'), ('whitehous', 'said'), ('bush', 'administr'), ('american', 'peopl'), ('bring', 'troop'), ('senat', 'sheldon'), ('troop', 'home')]\n"
     ]
    }
   ],
=======
   "execution_count": null,
   "metadata": {
    "collapsed": false
   },
   "outputs": [],
>>>>>>> d195bdb541288306c8d9b6aa1962ebe4ae022cde
   "source": [
    "def bigramScoring(count, wordsTuple, total):\n",
    "    return count\n",
    "\n",
    "print(whBigrams.nbest(bigramScoring, 10))"
   ]
  },
  {
   "cell_type": "markdown",
   "metadata": {},
   "source": [
    "One note about how `BigramCollocationFinder` works. It doesn't use the strings internally."
   ]
  },
  {
   "cell_type": "code",
<<<<<<< HEAD
   "execution_count": 37,
   "metadata": {},
   "outputs": [
    {
     "name": "stdout",
     "output_type": "stream",
     "text": [
      "The first word is:  40, The second word is: 4\n",
      "The first word is:  4, The second word is: 2\n",
      "The first word is:  2, The second word is: 2\n",
      "The first word is:  2, The second word is: 2\n",
      "The first word is:  2, The second word is: 2\n",
      "The first word is:  2, The second word is: 12\n",
      "The first word is:  12, The second word is: 12\n",
      "The first word is:  12, The second word is: 9\n",
      "The first word is:  9, The second word is: 4\n",
      "The first word is:  4, The second word is: 2\n"
     ]
    }
   ],
=======
   "execution_count": null,
   "metadata": {
    "collapsed": false
   },
   "outputs": [],
>>>>>>> d195bdb541288306c8d9b6aa1962ebe4ae022cde
   "source": [
    "birgramScores = []\n",
    "\n",
    "def bigramPrinting(count, wordsTuple, total):\n",
    "    global birgramScores\n",
    "    birgramScores.append(\"The first word is:  {}, The second word is: {}\".format(*wordsTuple))\n",
    "    #Returns None so all the tuples are considered to have the same rank\n",
    "\n",
    "whBigrams.nbest(bigramPrinting, 10)\n",
    "print('\\n'.join(birgramScores[:10]))"
   ]
  },
  {
   "cell_type": "markdown",
   "metadata": {},
   "source": [
    "The words are each given numeric IDs and there is a dictionary that maps the IDs to the words they represent. This is a common performance optimization.\n",
    "\n",
<<<<<<< HEAD
    "Two words can appear together by chance. Recall from  Manning and Schütze's textbook that a t-value can be computed for each bigram to see how significant the association is. You may also want to try computing the $\\chi^2$, likelihood ratio, and pointwise mutual information statistics. "
=======
    "Two words can appear together by chance. Recall from  Manning and Schütze's textbook that a $t-value can be computed for each bigram to see how significant the association is. You may also want to try computing the $\\chi^2$, likelihood ratio, and pointwise mutual information statistics. "
>>>>>>> d195bdb541288306c8d9b6aa1962ebe4ae022cde
   ]
  },
  {
   "cell_type": "code",
<<<<<<< HEAD
   "execution_count": 38,
   "metadata": {},
   "outputs": [
    {
     "data": {
      "text/plain": [
       "[(('rhode', 'island'), 223.98603169548517),\n",
       " (('stem', 'cell'), 146.69971583676724),\n",
       " (('presid', 'bush'), 124.78339903371592),\n",
       " (('sheldon', 'whitehous'), 97.83057167237577),\n",
       " (('unit', 'state'), 63.7408597571739),\n",
       " (('whitehous', 'said'), 50.85365409523493),\n",
       " (('jack', 'reed'), 46.61449955206517),\n",
       " (('honor', 'societi'), 45.00623576992483),\n",
       " (('american', 'peopl'), 44.4949166648486),\n",
       " (('bring', 'troop'), 43.29082241816299),\n",
       " (('bush', 'administr'), 42.73672706610401),\n",
       " (('cell', 'research'), 41.25934273451902),\n",
       " (('youth', 'program'), 38.276119099832265),\n",
       " (('troop', 'home'), 36.87601441962918),\n",
       " (('come', 'home'), 36.661589434392276),\n",
       " (('senat', 'sheldon'), 36.08708619238288),\n",
       " (('epw', 'committe'), 34.42122395939712),\n",
       " (('potenti', 'close'), 33.7794434582587),\n",
       " (('budget', 'resolut'), 32.192797473966614),\n",
       " (('district', 'columbia'), 31.62701894759353),\n",
       " (('humpti', 'dumpti'), 31.62701894759353),\n",
       " (('jose', 'socrat'), 31.62701894759353),\n",
       " (('prime', 'minist'), 31.62701894759353),\n",
       " (('weaver', 'cove'), 31.62701894759353),\n",
       " (('chang', 'cours'), 31.55001446652071),\n",
       " (('confirm', 'hear'), 27.80793393782465),\n",
       " (('harm', 'way'), 27.80793393782465),\n",
       " (('interest', 'payment'), 27.80793393782465),\n",
       " (('trillion', 'foregon'), 27.80793393782465),\n",
       " (('foregon', 'surplus'), 26.081841503113964),\n",
       " (('senat', 'youth'), 25.938248175532106),\n",
       " (('consul', 'provid'), 25.75753014835219),\n",
       " (('year', 'ago'), 25.07814446954526),\n",
       " (('high', 'school'), 24.896902277500963),\n",
       " (('reconsid', 'potenti'), 24.896902277500963),\n",
       " (('one', 'thing'), 23.98985093210625),\n",
       " (('circuit', 'court'), 23.988848928055774),\n",
       " (('cost', 'america'), 23.988848928055774),\n",
       " (('general', 'counsel'), 23.988848928055774),\n",
       " (('misguid', 'polici'), 23.988848928055774)]"
      ]
     },
     "execution_count": 38,
     "metadata": {},
     "output_type": "execute_result"
    }
   ],
=======
   "execution_count": null,
   "metadata": {
    "collapsed": false
   },
   "outputs": [],
>>>>>>> d195bdb541288306c8d9b6aa1962ebe4ae022cde
   "source": [
    "bigram_measures = nltk.collocations.BigramAssocMeasures()\n",
    "whBigrams.score_ngrams(bigram_measures.likelihood_ratio)[:40]\n",
    "# other options include student_t, chi_sq, likelihood_ratio, pmi"
   ]
  },
  {
   "cell_type": "markdown",
   "metadata": {},
   "source": [
    "There are a few other available measures"
   ]
  },
  {
   "cell_type": "code",
<<<<<<< HEAD
   "execution_count": 39,
   "metadata": {},
   "outputs": [
    {
     "data": {
      "text/plain": [
       "['chi_sq',\n",
       " 'dice',\n",
       " 'fisher',\n",
       " 'jaccard',\n",
       " 'likelihood_ratio',\n",
       " 'mi_like',\n",
       " 'phi_sq',\n",
       " 'pmi',\n",
       " 'poisson_stirling',\n",
       " 'raw_freq',\n",
       " 'student_t']"
      ]
     },
     "execution_count": 39,
     "metadata": {},
     "output_type": "execute_result"
    }
   ],
=======
   "execution_count": null,
   "metadata": {
    "collapsed": false
   },
   "outputs": [],
>>>>>>> d195bdb541288306c8d9b6aa1962ebe4ae022cde
   "source": [
    "[s for s in dir(bigram_measures) if s[0] != '_']"
   ]
  },
  {
   "cell_type": "markdown",
   "metadata": {},
   "source": [
    "We can also look at trigrams"
   ]
  },
  {
   "cell_type": "code",
<<<<<<< HEAD
   "execution_count": 40,
   "metadata": {},
   "outputs": [
    {
     "data": {
      "text/plain": [
       "[(('bring', 'troop', 'home'), 2.449202865677887),\n",
       " (('senat', 'sheldon', 'whitehous'), 2.4481166557834917),\n",
       " (('stem', 'cell', 'research'), 2.2359229352888974),\n",
       " (('whitehous', 'said', 'today'), 1.9987987990993996),\n",
       " (('jack', 'reed', 'sheldon'), 1.7319953264758123),\n",
       " (('senat', 'youth', 'program'), 1.7319901251233376),\n",
       " (('unit', 'state', 'senat'), 1.73173525885207),\n",
       " (('new', 'direct', 'iraq'), 1.7316624399174225),\n",
       " (('reed', 'sheldon', 'whitehous'), 1.7314959966382275),\n",
       " (('sheldon', 'whitehous', 'said'), 1.7309411857075774),\n",
       " (('trillion', 'foregon', 'surplus'), 1.414209315486583),\n",
       " (('reconsid', 'potenti', 'close'), 1.4142064842289084),\n",
       " (('sent', 'clear', 'messag'), 1.414205599460885),\n",
       " (('today', 'confirm', 'hear'), 1.4141976365486753),\n",
       " (('select', 'committe', 'intellig'), 1.4141965748270473),\n",
       " (('general', 'david', 'petraeus'), 1.4141923279405353),\n",
       " (('take', 'respons', 'secur'), 1.4141923279405353),\n",
       " (('cell', 'enhanc', 'act'), 1.4141880810540235),\n",
       " (('respons', 'secur', 'govern'), 1.4141880810540235),\n",
       " (('new', 'sourc', 'review'), 1.41416897006472)]"
      ]
     },
     "execution_count": 40,
     "metadata": {},
     "output_type": "execute_result"
    }
   ],
=======
   "execution_count": null,
   "metadata": {
    "collapsed": false
   },
   "outputs": [],
>>>>>>> d195bdb541288306c8d9b6aa1962ebe4ae022cde
   "source": [
    "trigram_measures = nltk.collocations.TrigramAssocMeasures()\n",
    "whTrigrams = nltk.collocations.TrigramCollocationFinder.from_words(whReleases['normalized_tokens'].sum())\n",
    "whTrigrams.score_ngrams(trigram_measures.student_t)[:20]"
   ]
  },
  {
   "cell_type": "markdown",
   "metadata": {},
   "source": [
    "Or n-grams (for any number n)"
   ]
  },
  {
   "cell_type": "code",
<<<<<<< HEAD
   "execution_count": 41,
   "metadata": {},
   "outputs": [
    {
     "name": "stdout",
     "output_type": "stream",
     "text": [
      "{('stem', 'cell', 'research', 'whitehous'): 2, ('stem', 'cell', 'enhanc', 'act'): 2, ('begin', 'bring', 'troop', 'home'): 2, ('bring', 'troop', 'home', 'iraq'): 2, ('senat', 'sheldon', 'whitehous', 'said'): 3, ('sheldon', 'whitehous', 'said', 'today'): 3, ('member', 'senat', 'select', 'committe'): 2, ('senat', 'select', 'committe', 'intellig'): 2, ('take', 'respons', 'secur', 'govern'): 2, ('senat', 'jack', 'reed', 'sheldon'): 2, ('jack', 'reed', 'sheldon', 'whitehous'): 3, ('whitehous', 'welcom', 'rhode', 'island'): 2, ('portugues', 'american', 'citizen', 'rhode'): 2, ('american', 'citizen', 'rhode', 'island'): 2}\n"
     ]
    }
   ],
=======
   "execution_count": null,
   "metadata": {
    "collapsed": false
   },
   "outputs": [],
>>>>>>> d195bdb541288306c8d9b6aa1962ebe4ae022cde
   "source": [
    "Ngrams = nltk.ngrams(whReleases['normalized_tokens'].sum(), 4)\n",
    "Counts = {}\n",
    "for ngram in list(Ngrams):\n",
    "    if ngram in Counts.keys():\n",
    "        Counts[ngram] += 1\n",
    "    else:\n",
    "        Counts[ngram] = 1\n",
    "Filtered = {}\n",
    "for key in Counts.keys():\n",
    "    if Counts[key] < 2:\n",
    "        pass\n",
    "    else:\n",
    "        Filtered[key] = Counts[key]\n",
    "print(Filtered)"
   ]
  },
  {
   "cell_type": "markdown",
   "metadata": {},
   "source": [
    "## <span style=\"color:red\">*Exercise 3*</span>\n",
    "\n",
    "<span style=\"color:red\">Construct cells immediately below this that identify statistically significant bigrams, trigrams, quadgrams, higher-order *n*grams and skipgrams. Explore whether these collocations are idiomatic and so irreducible to the semantic sum of their component words. You can do this by examination of conditional frequencies (e.g., what else is 'united' besides the 'United States'). If these phrases are idiomatic, what do they suggest about the culture of the world producing them?\n",
    "\n",
    "<span style=\"color:red\">**Stretch**: In Manning and Schütze's textbook, there Section 5.3.2 explores how to use the *t*-test to find words whose co-occurance patterns best distinguish two words. Implement that and use it to explore phrases in your corpus. For instance, you could tell what words come after \"America\" much more often than after \"Iraq\"?</span> "
   ]
  },
  {
<<<<<<< HEAD
   "cell_type": "code",
   "execution_count": null,
   "metadata": {},
   "outputs": [],
   "source": [
    "#This prints the number of bigrams in the corpus\n",
    "conrad_Bigrams = nltk.collocations.BigramCollocationFinder.from_words(conrad_df['normalized_tokens'].sum())\n",
    "print(\"There are {} bigrams in the finder\".format(conrad_Bigrams.N))"
   ]
  },
  {
   "cell_type": "code",
   "execution_count": null,
   "metadata": {},
   "outputs": [],
   "source": [
    "#This prints some of the bigrams but the underlying function doesn't store the \n",
    "#words as strings but instead aassigns them a numeric value so it looks strange.\n",
    "def bigramScoring(count, wordsTuple, total):\n",
    "    return count\n",
    "\n",
    "print(conrad_Bigrams.nbest(bigramScoring, 10))"
   ]
  },
  {
   "cell_type": "code",
   "execution_count": null,
   "metadata": {},
   "outputs": [],
   "source": [
    "#This uses a t-test to determine whether or not the\n",
    "#bigrams are occuring due to chance. There are other tests as well \n",
    "bigram_measures = nltk.collocations.BigramAssocMeasures()\n",
    "conrad_Bigrams.score_ngrams(bigram_measures.likelihood_ratio)[:40]\n",
    "# other options include student_t, chi_sq, likelihood_ratio, pmi"
   ]
  },
  {
   "cell_type": "code",
   "execution_count": null,
   "metadata": {},
   "outputs": [],
   "source": [
    "#this does the same as the code in the cell immediatley above but for trigrams\n",
    "trigram_measures = nltk.collocations.TrigramAssocMeasures()\n",
    "whTrigrams = nltk.collocations.TrigramCollocationFinder.from_words(conrad_df['normalized_tokens'].sum())\n",
    "whTrigrams.score_ngrams(trigram_measures.student_t)[:20]"
   ]
  },
  {
   "cell_type": "code",
   "execution_count": 1,
   "metadata": {},
   "outputs": [
    {
     "ename": "NameError",
     "evalue": "name 'nltk' is not defined",
     "output_type": "error",
     "traceback": [
      "\u001b[0;31m---------------------------------------------------------------------------\u001b[0m",
      "\u001b[0;31mNameError\u001b[0m                                 Traceback (most recent call last)",
      "\u001b[0;32m<ipython-input-1-b37f152e6e55>\u001b[0m in \u001b[0;36m<module>\u001b[0;34m()\u001b[0m\n\u001b[0;32m----> 1\u001b[0;31m \u001b[0mNgrams\u001b[0m \u001b[0;34m=\u001b[0m \u001b[0mnltk\u001b[0m\u001b[0;34m.\u001b[0m\u001b[0mngrams\u001b[0m\u001b[0;34m(\u001b[0m\u001b[0mconrad_df\u001b[0m\u001b[0;34m[\u001b[0m\u001b[0;34m'normalized_tokens'\u001b[0m\u001b[0;34m]\u001b[0m\u001b[0;34m.\u001b[0m\u001b[0msum\u001b[0m\u001b[0;34m(\u001b[0m\u001b[0;34m)\u001b[0m\u001b[0;34m,\u001b[0m \u001b[0;36m4\u001b[0m\u001b[0;34m)\u001b[0m\u001b[0;34m\u001b[0m\u001b[0m\n\u001b[0m\u001b[1;32m      2\u001b[0m \u001b[0mCounts\u001b[0m \u001b[0;34m=\u001b[0m \u001b[0;34m{\u001b[0m\u001b[0;34m}\u001b[0m\u001b[0;34m\u001b[0m\u001b[0m\n\u001b[1;32m      3\u001b[0m \u001b[0;32mfor\u001b[0m \u001b[0mngram\u001b[0m \u001b[0;32min\u001b[0m \u001b[0mlist\u001b[0m\u001b[0;34m(\u001b[0m\u001b[0mNgrams\u001b[0m\u001b[0;34m)\u001b[0m\u001b[0;34m:\u001b[0m\u001b[0;34m\u001b[0m\u001b[0m\n\u001b[1;32m      4\u001b[0m     \u001b[0;32mif\u001b[0m \u001b[0mngram\u001b[0m \u001b[0;32min\u001b[0m \u001b[0mCounts\u001b[0m\u001b[0;34m.\u001b[0m\u001b[0mkeys\u001b[0m\u001b[0;34m(\u001b[0m\u001b[0;34m)\u001b[0m\u001b[0;34m:\u001b[0m\u001b[0;34m\u001b[0m\u001b[0m\n\u001b[1;32m      5\u001b[0m         \u001b[0mCounts\u001b[0m\u001b[0;34m[\u001b[0m\u001b[0mngram\u001b[0m\u001b[0;34m]\u001b[0m \u001b[0;34m+=\u001b[0m \u001b[0;36m1\u001b[0m\u001b[0;34m\u001b[0m\u001b[0m\n",
      "\u001b[0;31mNameError\u001b[0m: name 'nltk' is not defined"
     ]
    }
   ],
   "source": [
    "Ngrams = nltk.ngrams(conrad_df['normalized_tokens'].sum(), 4)\n",
    "Counts = {}\n",
    "for ngram in list(Ngrams):\n",
    "    if ngram in Counts.keys():\n",
    "        Counts[ngram] += 1\n",
    "    else:\n",
    "        Counts[ngram] = 1\n",
    "Filtered = {}\n",
    "for key in Counts.keys():\n",
    "    if Counts[key] < 2:\n",
    "        pass\n",
    "    else:\n",
    "        Filtered[key] = Counts[key]\n",
    "print(Filtered)"
   ]
  },
  {
   "cell_type": "markdown",
   "metadata": {},
   "source": [
    "Many of the n-grams listed above have content related to social station. Bigrams and trigrams which indicate a person's position in the social strucutre, such as Inspector Heat and then the frequent mentions of Mr.s and Mrs.s. Such topics would be import in the Victorian era Conrad is writing in. "
   ]
  },
  {
=======
>>>>>>> d195bdb541288306c8d9b6aa1962ebe4ae022cde
   "cell_type": "markdown",
   "metadata": {},
   "source": [
    "# Distributional distances\n",
    "\n",
    "If we want to compare different corpora, we need a distance or divergence that compares the two distributions.\n",
    "\n",
    "We will use the: \n",
    "\n",
    "+ Kullback-Leibler (KL) divergence\n",
    "+ $\\chi^2$ divergence\n",
    "+ Kolmogorov-Smirnov (KS) distance\n",
    "+ Wasserstein distance\n",
    "\n",
    "### Kullback-Leibler and $x^2$ divergences ###\n",
    "\n",
    "KL and $\\chi^2$ divergences are members of the broader <a \"href=https://en.wikipedia.org/wiki/F-divergence\" target=\"_blank\">$f$-divergence</a> family, a function of $D_f (P || Q)$ that calculates the difference between two probability distributions P and Q. The KL $f(t)$ is $ t \\text{ log } t $, while the $\\chi^2$ is $t^2-1$. KL comes from information and $\\chi^2$ from measure theory. As such, the KL divergence computes the relative entropy between two distributions--how they differ in bits, while the $\\chi^2$ whether the same statistical inferences can be drawn from them both.  \n",
    "\n",
    "Specifically, given two discrete probability distributions $P$ and $Q$, the Kullback-Leibler divergence from $Q$ to $P$ is defined as:\n",
    "\n",
    "$D_{\\mathrm{KL}}(P\\|Q) = \\sum_i P(i) \\, \\log\\frac{P(i)}{Q(i)}$.\n",
    "\n",
    "The [scipy.stats.entropy()](https://docs.scipy.org/doc/scipy/reference/generated/scipy.stats.entropy.html) function does the calculation for you, which takes in two arrays of probabilities and computes the KL divergence. Note that the KL divergence is in general not commutative, i.e. $D_{\\mathrm{KL}}(P\\|Q) \\neq D_{\\mathrm{KL}}(Q\\|P)$ .\n",
    "\n",
    "Also note that the KL divernce is the sum of elementwise divergences. Scipy provides [scipy.special.kl_div()](https://docs.scipy.org/doc/scipy/reference/generated/scipy.special.kl_div.html#scipy-special-kl-div) which calculates elementwise divergences for you.\n",
    "\n",
    "The $\\chi^2$ Divergence is defined as:\n",
    "\n",
    "$D_{\\mathrm{\\chi^2}}(P\\|Q) = \\sum_i \\left(\\frac{P(i)}{Q(i)}-1\\right)^2$. \n",
    "\n",
    "This is also noncommutative, and the code can be drawn directly from scipy.\n",
    "\n",
    "### Kolmogorov-Smirnov ###\n",
    "\n",
    "The two-sample Kolmogovorov-Smirnov test statistic calculates the distance between the cumulative distribution function of the two distributions to be compared, and, along with the $x^2$ divergence, is among the most common approaches two calculating a distance in statistics. It can be interpreted as a test of whether two distributions are drawn from the same underlying distribution. As with the others, the code is readily available in scipy.\n",
    "\n",
    "### Wasserstein Distance ###\n",
    "\n",
    "When this is computed on a Euclidian metric structure (e.g., numbers of words), this is also known as the earth mover’s distance, because it can be seen as the minimum amount of \"work\" required to transform $P$ into $Q$, where \"work\" is measured as the amount of distribution weight that must be moved, multiplied by the distance it has to be moved.\n",
    "\n",
    "### Computing ###\n",
    "\n",
    "To do this we will need to create the arrays, lets compare the Whitehouse releases with the Kennedy releases. First we have to download them and load them into a DataFrame."
   ]
  },
  {
   "cell_type": "code",
<<<<<<< HEAD
   "execution_count": 1,
   "metadata": {},
   "outputs": [
    {
     "ename": "NameError",
     "evalue": "name 'getGithubFiles' is not defined",
     "output_type": "error",
     "traceback": [
      "\u001b[0;31m---------------------------------------------------------------------------\u001b[0m",
      "\u001b[0;31mNameError\u001b[0m                                 Traceback (most recent call last)",
      "\u001b[0;32m<ipython-input-1-40df0a8dcc5a>\u001b[0m in \u001b[0;36m<module>\u001b[0;34m()\u001b[0m\n\u001b[0;32m----> 1\u001b[0;31m \u001b[0mkenReleases\u001b[0m \u001b[0;34m=\u001b[0m \u001b[0mgetGithubFiles\u001b[0m\u001b[0;34m(\u001b[0m\u001b[0;34m'https://api.github.com/repos/lintool/GrimmerSenatePressReleases/contents/raw/Kennedy'\u001b[0m\u001b[0;34m,\u001b[0m \u001b[0mmaxFiles\u001b[0m \u001b[0;34m=\u001b[0m \u001b[0;36m10\u001b[0m\u001b[0;34m)\u001b[0m\u001b[0;34m\u001b[0m\u001b[0m\n\u001b[0m\u001b[1;32m      2\u001b[0m \u001b[0mkenReleases\u001b[0m\u001b[0;34m[\u001b[0m\u001b[0;34m:\u001b[0m\u001b[0;36m5\u001b[0m\u001b[0;34m]\u001b[0m\u001b[0;34m\u001b[0m\u001b[0m\n",
      "\u001b[0;31mNameError\u001b[0m: name 'getGithubFiles' is not defined"
     ]
    }
   ],
   "source": [
    "kenReleases = getGithubFiles('https://api.github.com/repos/lintool/GrimmerSenatePressReleases/contents/raw/Kennedy', maxFiles = 10)\n",
    "kenReleases[:5]"
   ]
  },
  {
   "cell_type": "markdown",
   "metadata": {},
   "source": [
    "Then we can tokenize, stem and remove stop words, like we did for the Whitehouse press releases"
   ]
  },
  {
   "cell_type": "code",
   "execution_count": null,
   "metadata": {
    "collapsed": true
   },
   "outputs": [],
   "source": [
    "kenReleases['tokenized_text'] = kenReleases['text'].apply(lambda x: nltk.word_tokenize(x))\n",
    "kenReleases['normalized_tokens'] = kenReleases['tokenized_text'].apply(lambda x: normlizeTokens(x, stopwordLst = stop_words_nltk, stemmer = snowball))"
   ]
  },
  {
   "cell_type": "markdown",
   "metadata": {},
   "source": [
    "Now we need to compare the two collection of words, remove those not found in both, and assign the remaining ones indices."
   ]
  },
  {
   "cell_type": "code",
   "execution_count": null,
   "metadata": {},
   "outputs": [],
   "source": [
    "whWords = set(whReleases['normalized_tokens'].sum())\n",
    "kenWords = set(kenReleases['normalized_tokens'].sum())\n",
    "\n",
    "#Change & to | if you want to keep all words\n",
    "overlapWords = whWords & kenWords\n",
    "\n",
    "overlapWordsDict = {word: index for index, word in enumerate(overlapWords)}\n",
    "overlapWordsDict['student']"
   ]
  },
  {
   "cell_type": "markdown",
   "metadata": {},
   "source": [
    "Now we can count the occurrences of each word in the corpora and create our arrays. Note that we don't have to use numpy arrays as we do here. We could just use a list, but the arrays are faster in numpy so we encourage you to get in the habit of using them."
   ]
  },
  {
   "cell_type": "code",
   "execution_count": null,
   "metadata": {},
   "outputs": [],
   "source": [
    "def makeProbsArray(dfColumn, overlapDict):\n",
    "    words = dfColumn.sum()\n",
    "    countList = [0] * len(overlapDict)\n",
    "    for word in words:\n",
    "        try:\n",
    "            countList[overlapDict[word]] += 1\n",
    "        except KeyError:\n",
    "            #The word is not common so we skip it\n",
    "            pass\n",
    "    countArray = np.array(countList)\n",
    "    return countArray / countArray.sum()\n",
    "\n",
    "whProbArray = makeProbsArray(whReleases['normalized_tokens'], overlapWordsDict)\n",
    "kenProbArray = makeProbsArray(kenReleases['normalized_tokens'], overlapWordsDict)\n",
    "kenProbArray.sum()\n",
    "#There is a little bit of a floating point math error\n",
    "#but it's too small to see with print and too small matter here"
   ]
  },
  {
   "cell_type": "markdown",
   "metadata": {},
   "source": [
    "We can now compute the KL divergence. Pay attention to the asymmetry. Use [the Jensen–Shannon divergence](https://en.wikipedia.org/wiki/Jensen%E2%80%93Shannon_divergence), which is the average KL divergence between each distribution and the average of both distributions (i.e., the midpoint), if you want symmetry."
   ]
  },
  {
   "cell_type": "code",
   "execution_count": null,
   "metadata": {},
   "outputs": [],
   "source": [
    "wh_kenDivergence = scipy.stats.entropy(whProbArray, kenProbArray)\n",
    "print (wh_kenDivergence)\n",
    "ken_whDivergence = scipy.stats.entropy(kenProbArray, whProbArray)\n",
    "print (ken_whDivergence)"
   ]
  },
  {
   "cell_type": "markdown",
   "metadata": {},
   "source": [
    "Then, we can do the elementwise calculation and see which words best distinguish the two corpora."
   ]
  },
  {
   "cell_type": "code",
   "execution_count": null,
   "metadata": {},
   "outputs": [],
   "source": [
    "wh_kenDivergence_ew = scipy.special.kl_div(whProbArray, kenProbArray)\n",
    "kl_df = pandas.DataFrame(list(overlapWordsDict.keys()), columns = ['word'], index = list(overlapWordsDict.values()))\n",
    "kl_df = kl_df.sort_index()\n",
    "kl_df['elementwise divergence'] = wh_kenDivergence_ew\n",
    "kl_df[:10]"
   ]
  },
  {
   "cell_type": "code",
   "execution_count": null,
   "metadata": {},
   "outputs": [],
   "source": [
    "kl_df.sort_values(by='elementwise divergence', ascending=False)[:10]"
   ]
  },
  {
   "cell_type": "markdown",
   "metadata": {},
   "source": [
    "Now we will apply what we learned today to the Guternberg texts in nltk and see if we can detect patterns between them. \n",
    "\n",
    "First, let's transform every text into normalized tokens. Note that in this first step, no stopword is removed. "
   ]
  },
  {
   "cell_type": "code",
   "execution_count": 2,
   "metadata": {},
   "outputs": [
    {
     "ename": "NameError",
     "evalue": "name 'nltk' is not defined",
     "output_type": "error",
     "traceback": [
      "\u001b[0;31m---------------------------------------------------------------------------\u001b[0m",
      "\u001b[0;31mNameError\u001b[0m                                 Traceback (most recent call last)",
      "\u001b[0;32m<ipython-input-2-8a78e9f4a904>\u001b[0m in \u001b[0;36m<module>\u001b[0;34m()\u001b[0m\n\u001b[0;32m----> 1\u001b[0;31m \u001b[0mfileids\u001b[0m \u001b[0;34m=\u001b[0m \u001b[0mnltk\u001b[0m\u001b[0;34m.\u001b[0m\u001b[0mcorpus\u001b[0m\u001b[0;34m.\u001b[0m\u001b[0mgutenberg\u001b[0m\u001b[0;34m.\u001b[0m\u001b[0mfileids\u001b[0m\u001b[0;34m(\u001b[0m\u001b[0;34m)\u001b[0m\u001b[0;34m\u001b[0m\u001b[0m\n\u001b[0m\u001b[1;32m      2\u001b[0m \u001b[0mcorpora\u001b[0m \u001b[0;34m=\u001b[0m \u001b[0;34m[\u001b[0m\u001b[0;34m]\u001b[0m\u001b[0;34m\u001b[0m\u001b[0m\n\u001b[1;32m      3\u001b[0m \u001b[0;32mfor\u001b[0m \u001b[0mfileid\u001b[0m \u001b[0;32min\u001b[0m \u001b[0mfileids\u001b[0m\u001b[0;34m:\u001b[0m\u001b[0;34m\u001b[0m\u001b[0m\n\u001b[1;32m      4\u001b[0m     \u001b[0mwords\u001b[0m \u001b[0;34m=\u001b[0m \u001b[0mnltk\u001b[0m\u001b[0;34m.\u001b[0m\u001b[0mcorpus\u001b[0m\u001b[0;34m.\u001b[0m\u001b[0mgutenberg\u001b[0m\u001b[0;34m.\u001b[0m\u001b[0mwords\u001b[0m\u001b[0;34m(\u001b[0m\u001b[0mfileid\u001b[0m\u001b[0;34m)\u001b[0m\u001b[0;34m\u001b[0m\u001b[0m\n\u001b[1;32m      5\u001b[0m     \u001b[0mnormalized_tokens\u001b[0m \u001b[0;34m=\u001b[0m \u001b[0mnormlizeTokens\u001b[0m\u001b[0;34m(\u001b[0m\u001b[0mwords\u001b[0m\u001b[0;34m,\u001b[0m \u001b[0mstopwordLst\u001b[0m \u001b[0;34m=\u001b[0m \u001b[0;34m[\u001b[0m\u001b[0;34m]\u001b[0m\u001b[0;34m,\u001b[0m \u001b[0mstemmer\u001b[0m \u001b[0;34m=\u001b[0m \u001b[0msnowball\u001b[0m\u001b[0;34m)\u001b[0m\u001b[0;34m\u001b[0m\u001b[0m\n",
      "\u001b[0;31mNameError\u001b[0m: name 'nltk' is not defined"
     ]
    }
   ],
   "source": [
    "fileids = nltk.corpus.gutenberg.fileids()\n",
    "corpora = []\n",
    "for fileid in fileids:\n",
    "    words = nltk.corpus.gutenberg.words(fileid)\n",
    "    normalized_tokens = normlizeTokens(words, stopwordLst = [], stemmer = snowball)\n",
    "    corpora.append(normalized_tokens)"
   ]
  },
  {
   "cell_type": "code",
   "execution_count": 5,
   "metadata": {},
   "outputs": [
    {
     "name": "stdout",
     "output_type": "stream",
     "text": [
      "['austen-emma.txt', 'austen-persuasion.txt', 'austen-sense.txt', 'bible-kjv.txt', 'blake-poems.txt', 'bryant-stories.txt', 'burgess-busterbrown.txt', 'carroll-alice.txt', 'chesterton-ball.txt', 'chesterton-brown.txt', 'chesterton-thursday.txt', 'edgeworth-parents.txt', 'melville-moby_dick.txt', 'milton-paradise.txt', 'shakespeare-caesar.txt', 'shakespeare-hamlet.txt', 'shakespeare-macbeth.txt', 'whitman-leaves.txt']\n"
     ]
    }
   ],
   "source": [
    "print(nltk.corpus.gutenberg.fileids())"
   ]
  },
  {
   "cell_type": "markdown",
   "metadata": {},
   "source": [
    "Then, let's separate the normalized tokens into stopwords and non-stopwords."
   ]
  },
  {
   "cell_type": "code",
   "execution_count": null,
   "metadata": {
    "collapsed": true
   },
   "outputs": [],
   "source": [
    "corpora_s = []\n",
    "corpora_nons = []\n",
    "for corpus in corpora:\n",
    "    s = []\n",
    "    nons = []\n",
    "    for word in corpus:\n",
    "        if word in stop_words_nltk:\n",
    "            s.append(word)\n",
    "        else:\n",
    "            nons.append(word)\n",
    "    corpora_s.append(s)\n",
    "    corpora_nons.append(nons)"
   ]
  },
  {
   "cell_type": "markdown",
   "metadata": {},
   "source": [
    "Define some covenient funtions for calculating divergence and distances."
   ]
  },
  {
   "cell_type": "code",
   "execution_count": null,
   "metadata": {
    "collapsed": true
   },
   "outputs": [],
   "source": [
    "def kl_divergence(X, Y):\n",
    "    P = X.copy()\n",
    "    Q = Y.copy()\n",
    "    P.columns = ['P']\n",
    "    Q.columns = ['Q']\n",
    "    df = Q.join(P).fillna(0)\n",
    "    p = df.iloc[:,1]\n",
    "    q = df.iloc[:,0]\n",
    "    D_kl = scipy.stats.entropy(p, q)\n",
    "    return D_kl\n",
    "\n",
    "def chi2_divergence(X,Y):\n",
    "    P = X.copy()\n",
    "    Q = Y.copy()\n",
    "    P.columns = ['P']\n",
    "    Q.columns = ['Q']\n",
    "    df = Q.join(P).fillna(0)\n",
    "    p = df.iloc[:,1]\n",
    "    q = df.iloc[:,0]\n",
    "    return scipy.stats.chisquare(p, q).statistic\n",
    "\n",
    "def Divergence(corpus1, corpus2, difference=\"KL\"):\n",
    "    \"\"\"Difference parameter can equal KL, Chi2, or Wass\"\"\"\n",
    "    freqP = nltk.FreqDist(corpus1)\n",
    "    P = pandas.DataFrame(list(freqP.values()), columns = ['frequency'], index = list(freqP.keys()))\n",
    "    freqQ = nltk.FreqDist(corpus2)\n",
    "    Q = pandas.DataFrame(list(freqQ.values()), columns = ['frequency'], index = list(freqQ.keys()))\n",
    "    if difference == \"KL\":\n",
    "        return kl_divergence(P, Q)\n",
    "    elif difference == \"Chi2\":\n",
    "        return chi2_divergence(P, Q)\n",
    "    elif difference == \"KS\":\n",
    "        try:\n",
    "            return scipy.stats.ks_2samp(P['frequency'], Q['frequency']).statistic\n",
    "        except:\n",
    "            return scipy.stats.ks_2samp(P['frequency'], Q['frequency'])\n",
    "    elif difference == \"Wasserstein\":\n",
    "        try:\n",
    "            return scipy.stats.wasserstein_distance(P['frequency'], Q['frequency'], u_weights=None, v_weights=None).statistic\n",
    "        except:\n",
    "            return scipy.stats.wasserstein_distance(P['frequency'], Q['frequency'], u_weights=None, v_weights=None)"
   ]
  },
  {
   "cell_type": "markdown",
   "metadata": {},
   "source": [
    "Now we will calculate the KL divergence for each pair of corpora, turn the results into a matrix, and visualize the matrix as a heatmap. Recall that $D_{\\mathrm{KL}}(P\\|Q)$ measures the amount of information loss when $Q$ is used to approximate $P$. Here, the rows are the $P$s used for calculating KL divergences, and the columns are the $Q$s. So, each cell measures the amount of information loss when the word distribution of the column text is used to approximate the word distribution of the row text. Because the KL divergence is directional, such that the divergence of $P$ from $Q$ is different from the same of $Q$ from $P$, the matrix is assymetric and contains unique information above and below the diagonal. The same is true for the $\\chi^2$ divergence."
   ]
  },
  {
   "cell_type": "code",
   "execution_count": null,
   "metadata": {},
   "outputs": [],
   "source": [
    "L = []\n",
    "for p in corpora:\n",
    "    l = []\n",
    "    for q in corpora:\n",
    "        l.append(Divergence(p,q, difference = 'KL'))\n",
    "    L.append(l)\n",
    "M = np.array(L)\n",
    "fig = plt.figure()\n",
    "div = pandas.DataFrame(M, columns = fileids, index = fileids)\n",
    "ax = sns.heatmap(div)\n",
    "plt.show()"
   ]
  },
  {
   "cell_type": "markdown",
   "metadata": {},
   "source": [
    "Note that works by the same author have the lowest within-group KL divergences. \n",
    "\n",
    "To reveal more patterns, let's do a multidimensional scaling of the matrix."
   ]
  },
  {
   "cell_type": "code",
   "execution_count": null,
   "metadata": {},
   "outputs": [],
   "source": [
    "mds = sklearn.manifold.MDS()\n",
    "pos = mds.fit(M).embedding_\n",
    "x = pos[:,0]\n",
    "y = pos[:,1]\n",
    "fig, ax = plt.subplots(figsize = (6,6))\n",
    "plt.plot(x, y, ' ')\n",
    "for i, txt in enumerate(fileids):\n",
    "    ax.annotate(txt, (x[i],y[i]))"
   ]
  },
  {
   "cell_type": "markdown",
   "metadata": {},
   "source": [
    "Do you see any patterns in the image shown above? Does it make sense?\n",
    "\n",
    "We may just want to focus on the distrbution of stopwords or non-stopwords. Let's do the analysis again first for stopwords and then for non-stopwords."
   ]
  },
  {
   "cell_type": "code",
   "execution_count": null,
   "metadata": {},
   "outputs": [],
   "source": [
    "L = []\n",
    "for p in corpora_s:\n",
    "    l = []\n",
    "    for q in corpora_s:\n",
    "        l.append(Divergence(p,q, difference='KL'))\n",
    "    L.append(l)\n",
    "M = np.array(L)\n",
    "fig = plt.figure()\n",
    "div = pandas.DataFrame(M, columns = fileids, index = fileids)\n",
    "ax = sns.heatmap(div)\n",
    "plt.show()"
   ]
  },
  {
   "cell_type": "code",
   "execution_count": null,
   "metadata": {},
   "outputs": [],
   "source": [
    "L = []\n",
    "for p in corpora_nons:\n",
    "    l = []\n",
    "    for q in corpora_nons:\n",
    "        l.append(Divergence(p,q, difference='KL'))\n",
    "    L.append(l)\n",
    "M = np.array(L)\n",
    "fig = plt.figure()\n",
    "div = pandas.DataFrame(M, columns = fileids, index = fileids)\n",
    "ax = sns.heatmap(div)\n",
    "plt.show()"
   ]
  },
  {
   "cell_type": "markdown",
   "metadata": {},
   "source": [
    "Now we compute the same for the assymmetric $\\chi^2$ Divergence."
   ]
  },
  {
   "cell_type": "code",
   "execution_count": null,
   "metadata": {},
   "outputs": [],
   "source": [
    "L = []\n",
    "for p in corpora_nons:\n",
    "    l = []\n",
    "    for q in corpora_nons:\n",
    "        l.append(Divergence(p,q, difference='Chi2'))\n",
    "    L.append(l)\n",
    "M = np.array(L)\n",
    "fig = plt.figure()\n",
    "div = pandas.DataFrame(M, columns = fileids, index = fileids)\n",
    "ax = sns.heatmap(div)\n",
    "plt.show()"
   ]
  },
  {
   "cell_type": "markdown",
   "metadata": {
    "scrolled": true
   },
   "source": [
    "For the KS distance:"
   ]
  },
  {
   "cell_type": "code",
   "execution_count": null,
   "metadata": {},
   "outputs": [],
   "source": [
    "L = []\n",
    "for p in corpora_nons:\n",
    "    l = []\n",
    "    for q in corpora_nons:\n",
    "        l.append(Divergence(p,q, difference='KS'))\n",
    "    L.append(l)\n",
    "M = np.array(L)\n",
    "fig = plt.figure()\n",
    "div = pandas.DataFrame(M, columns = fileids, index = fileids)\n",
    "ax = sns.heatmap(div)\n",
    "plt.show()"
   ]
  },
  {
   "cell_type": "markdown",
   "metadata": {},
   "source": [
    "And finally for the Wasserstein or \"earth mover's\" Distance."
   ]
  },
  {
   "cell_type": "code",
   "execution_count": null,
   "metadata": {},
   "outputs": [],
   "source": [
    "L = []\n",
    "for p in corpora_nons:\n",
    "    l = []\n",
    "    for q in corpora_nons:\n",
    "        l.append(Divergence(p,q, difference='Wasserstein'))\n",
    "    L.append(l)\n",
    "M = np.array(L)\n",
    "fig = plt.figure()\n",
    "div = pandas.DataFrame(M, columns = fileids, index = fileids)\n",
    "ax = sns.heatmap(div)\n",
    "plt.show()"
   ]
  },
  {
   "cell_type": "markdown",
   "metadata": {},
   "source": [
    "You can see that the Bible is highly divergent and this makes reading the plot somewhat difficult. Let's fix this by taking the log of each cell, which will reduce the distance of the Bible from other texts as an outlier."
   ]
  },
  {
   "cell_type": "code",
   "execution_count": null,
   "metadata": {},
   "outputs": [],
   "source": [
    "ax = sns.heatmap(div.apply(np.log).replace([np.inf, -np.inf], np.nan))\n",
    "plt.show()"
=======
   "execution_count": null,
   "metadata": {
    "collapsed": false
   },
   "outputs": [],
   "source": [
    "kenReleases = getGithubFiles('https://api.github.com/repos/lintool/GrimmerSenatePressReleases/contents/raw/Kennedy', maxFiles = 10)\n",
    "kenReleases[:5]"
>>>>>>> d195bdb541288306c8d9b6aa1962ebe4ae022cde
   ]
  },
  {
   "cell_type": "markdown",
   "metadata": {},
   "source": [
<<<<<<< HEAD
    "This is more legible, as it continues to show that the Bible is divergent, but other structure is also visible, such as the divergence of Austen's *Emma* and *Sense and Sensibility*, and Edgeworth's *The Parent's Assistant*. \n",
    "\n",
    "If we want to rerun this on a new data set of our own composition, we can be a bit more efficient with our coding. Let's use the Shakespeare texts from last week as example: "
=======
    "Then we can tokenize, stem and remove stop words, like we did for the Whitehouse press releases"
>>>>>>> d195bdb541288306c8d9b6aa1962ebe4ae022cde
   ]
  },
  {
   "cell_type": "code",
   "execution_count": null,
   "metadata": {
    "collapsed": true
   },
   "outputs": [],
   "source": [
<<<<<<< HEAD
    "shakespeare_df = lucem_illud.loadTextDirectory('../data/Shakespeare')"
=======
    "kenReleases['tokenized_text'] = kenReleases['text'].apply(lambda x: nltk.word_tokenize(x))\n",
    "kenReleases['normalized_tokens'] = kenReleases['tokenized_text'].apply(lambda x: normlizeTokens(x, stopwordLst = stop_words_nltk, stemmer = snowball))"
>>>>>>> d195bdb541288306c8d9b6aa1962ebe4ae022cde
   ]
  },
  {
   "cell_type": "markdown",
   "metadata": {},
   "source": [
<<<<<<< HEAD
    "Now we stem and remove stopwords"
=======
    "Now we need to compare the two collection of words, remove those not found in both, and assign the remaining ones indices."
>>>>>>> d195bdb541288306c8d9b6aa1962ebe4ae022cde
   ]
  },
  {
   "cell_type": "code",
   "execution_count": null,
   "metadata": {
<<<<<<< HEAD
    "collapsed": true
   },
   "outputs": [],
   "source": [
    "shakespeare_df['tokenized_text'] = shakespeare_df['text'].apply(lambda x: nltk.word_tokenize(x))\n",
    "shakespeare_df['normalized_tokens'] = shakespeare_df['tokenized_text'].apply(lambda x: normlizeTokens(x, stopwordLst = stop_words_nltk, stemmer = porter))"
   ]
  },
  {
   "cell_type": "markdown",
   "metadata": {},
   "source": [
    "Create the corpus file and generate the heatmap:"
   ]
  },
  {
   "cell_type": "code",
   "execution_count": null,
   "metadata": {},
   "outputs": [],
   "source": [
    "measure = 'KS' #\"KL\", \"Chi2\", \"KS\", \"Wasserstein\"\n",
    "num_of_texts = 10 #The bigger this number the slower it will run, you can also try selecting your own plays\n",
    "fileids_sp = list(shakespeare_df[:num_of_texts].index)\n",
    "corpora_sp = list(shakespeare_df[:num_of_texts]['normalized_tokens'])\n",
    "L = []\n",
    "for p in corpora_sp:\n",
    "    l = []\n",
    "    for q in corpora_sp:\n",
    "        l.append(Divergence(p,q, difference=measure))\n",
    "    L.append(l)\n",
    "M = np.array(L)\n",
    "fig = plt.figure()\n",
    "div = pandas.DataFrame(M, columns = fileids_sp, index = fileids_sp)\n",
    "ax = sns.heatmap(div)\n",
    "plt.show()"
   ]
  },
  {
   "cell_type": "markdown",
   "metadata": {},
   "source": [
    "What are \"The Passionate Pilgrim\" and \"The Phoenix and the Turtle\"? Little known poems by Shakespeare that are unsurprisingly hard to classify, as they are so different from everything else he wrote."
   ]
  },
  {
   "cell_type": "markdown",
   "metadata": {},
   "source": [
    "## <span style=\"color:red\">*Exercise 4*</span>\n",
    "\n",
    "<span style=\"color:red\">Construct cells immediately below this that calculate the KL and $\\chi^2$ divergences, and the KS and Wasserstein distances between four separate corpora, plot these with heatmaps, and then array them in two dimensions with multidimensional scaling as above. What does this reveal about relations between the corpora? Which analysis (and divergence or distribution) distinguishes the authors or documents better? \n",
    "\n",
    "<span style=\"color:red\">**Stretch**: Calculate the <a \"href=https://en.wikipedia.org/wiki/Jensen–Shannon_divergence\" target=\"_blank\">Jensen-Shannon Divergence</a> between your four corpora. What is the relationship between the KL and JS divergences?</span> "
   ]
  },
  {
   "cell_type": "code",
   "execution_count": 6,
   "metadata": {},
   "outputs": [],
   "source": [
    "targetDir = '../James Joyce'\n",
    "joyceText = []\n",
    "joyceFileName = []\n",
    "\n",
    "for file in (file for file in os.scandir(targetDir) if file.is_file() and not file.name.startswith('.')):\n",
    "    with open(file.path) as f:\n",
    "        joyceText.append(f.read())\n",
    "    joyceFileName.append(file.name)"
   ]
  },
  {
   "cell_type": "code",
   "execution_count": 7,
   "metadata": {},
   "outputs": [
    {
     "data": {
      "text/html": [
       "<div>\n",
       "<style scoped>\n",
       "    .dataframe tbody tr th:only-of-type {\n",
       "        vertical-align: middle;\n",
       "    }\n",
       "\n",
       "    .dataframe tbody tr th {\n",
       "        vertical-align: top;\n",
       "    }\n",
       "\n",
       "    .dataframe thead th {\n",
       "        text-align: right;\n",
       "    }\n",
       "</style>\n",
       "<table border=\"1\" class=\"dataframe\">\n",
       "  <thead>\n",
       "    <tr style=\"text-align: right;\">\n",
       "      <th></th>\n",
       "      <th>text</th>\n",
       "    </tr>\n",
       "  </thead>\n",
       "  <tbody>\n",
       "    <tr>\n",
       "      <th>ulysses.txt</th>\n",
       "      <td>﻿\\nThe Project Gutenberg EBook of Ulysses, by ...</td>\n",
       "    </tr>\n",
       "    <tr>\n",
       "      <th>the_dubliners.txt</th>\n",
       "      <td>﻿\\nThe Project Gutenberg EBook of Dubliners, b...</td>\n",
       "    </tr>\n",
       "  </tbody>\n",
       "</table>\n",
       "</div>"
      ],
      "text/plain": [
       "                                                                text\n",
       "ulysses.txt        ﻿\\nThe Project Gutenberg EBook of Ulysses, by ...\n",
       "the_dubliners.txt  ﻿\\nThe Project Gutenberg EBook of Dubliners, b..."
      ]
     },
     "execution_count": 7,
     "metadata": {},
     "output_type": "execute_result"
    }
   ],
   "source": [
    "joyce_df = pandas.DataFrame({'text' : joyceText}, index =joyceFileName)\n",
    "joyce_df"
   ]
  },
  {
   "cell_type": "code",
   "execution_count": null,
   "metadata": {},
   "outputs": [],
   "source": [
    "joyceTokens = nltk.word_tokenize(joyce_df['text'].sum())"
   ]
  },
  {
   "cell_type": "code",
   "execution_count": null,
   "metadata": {},
   "outputs": [],
   "source": [
    "joyce_df['tokenized_text'] = joyce_df['text'].apply(lambda x: nltk.word_tokenize(x))"
   ]
  },
  {
   "cell_type": "code",
   "execution_count": null,
   "metadata": {},
   "outputs": [],
   "source": [
    "joyce_df['word_counts'] = joyce_df['tokenized_text'].apply(lambda x: len(x))\n",
    "joyce_df['word_counts']"
   ]
  },
  {
   "cell_type": "code",
   "execution_count": null,
   "metadata": {},
   "outputs": [],
   "source": [
    "countsDict = {}\n",
    "for word in joyceTokens:\n",
    "    if word in countsDict:\n",
    "        countsDict[word] += 1\n",
    "    else:\n",
    "        countsDict[word] = 1\n",
    "word_counts = sorted(countsDict.items(), key = lambda x : x[1], reverse = True)\n",
    "word_counts[:500]"
   ]
  },
  {
   "cell_type": "code",
   "execution_count": 8,
   "metadata": {},
   "outputs": [
    {
     "ename": "NameError",
     "evalue": "name 'word_counts' is not defined",
     "output_type": "error",
     "traceback": [
      "\u001b[0;31m---------------------------------------------------------------------------\u001b[0m",
      "\u001b[0;31mNameError\u001b[0m                                 Traceback (most recent call last)",
      "\u001b[0;32m<ipython-input-8-0a56be5dd65f>\u001b[0m in \u001b[0;36m<module>\u001b[0;34m()\u001b[0m\n\u001b[1;32m      1\u001b[0m \u001b[0mstop_words_freq\u001b[0m \u001b[0;34m=\u001b[0m \u001b[0;34m[\u001b[0m\u001b[0;34m]\u001b[0m\u001b[0;34m\u001b[0m\u001b[0m\n\u001b[0;32m----> 2\u001b[0;31m \u001b[0;32mfor\u001b[0m \u001b[0mword\u001b[0m\u001b[0;34m,\u001b[0m \u001b[0mcount\u001b[0m \u001b[0;32min\u001b[0m \u001b[0mword_counts\u001b[0m\u001b[0;34m:\u001b[0m\u001b[0;34m\u001b[0m\u001b[0m\n\u001b[0m\u001b[1;32m      3\u001b[0m     \u001b[0;32mif\u001b[0m \u001b[0mword\u001b[0m \u001b[0;34m==\u001b[0m \u001b[0;34m'Mr'\u001b[0m\u001b[0;34m:\u001b[0m\u001b[0;34m\u001b[0m\u001b[0m\n\u001b[1;32m      4\u001b[0m         \u001b[0;32mbreak\u001b[0m\u001b[0;34m\u001b[0m\u001b[0m\n\u001b[1;32m      5\u001b[0m     \u001b[0;32melse\u001b[0m\u001b[0;34m:\u001b[0m\u001b[0;34m\u001b[0m\u001b[0m\n",
      "\u001b[0;31mNameError\u001b[0m: name 'word_counts' is not defined"
     ]
    }
   ],
   "source": [
    "stop_words_freq = []\n",
    "for word, count in word_counts:\n",
    "    if word == 'Mr':\n",
    "        break\n",
    "    else:\n",
    "        stop_words_freq.append(word)\n",
    "stop_words_freq\n",
    "wordnet = nltk.stem.WordNetLemmatizer()\n",
    "wordnet.lemmatize('are')"
   ]
  },
  {
   "cell_type": "code",
   "execution_count": null,
   "metadata": {},
   "outputs": [],
   "source": [
    "stop_words_nltk = stopwords.words('english')\n",
    "#stop_words = [\"the\",\"it\",\"she\",\"he\", \"a\"] #Uncomment this line if you want to use your own list of stopwords.\n",
    "\n",
    "#The stemmers and lemmers need to be initialized before bing run\n",
    "porter = nltk.stem.porter.PorterStemmer()\n",
    "snowball = nltk.stem.snowball.SnowballStemmer('english')\n",
    "wordnet = nltk.stem.WordNetLemmatizer()\n",
    "\n",
    "def normlizeTokens(tokenLst, stopwordLst = None, stemmer = None, lemmer = None):\n",
    "    #We can use a generator here as we just need to iterate over it\n",
    "\n",
    "    #Lowering the case and removing non-words\n",
    "    workingIter = (w.lower() for w in tokenLst if w.isalpha())\n",
    "\n",
    "    #Now we can use the semmer, if provided\n",
    "    if stemmer is not None:\n",
    "        workingIter = (stemmer.stem(w) for w in workingIter)\n",
    "        \n",
    "    #And the lemmer\n",
    "    if lemmer is not None:\n",
    "        workingIter = (lemmer.lemmatize(w) for w in workingIter)\n",
    "    \n",
    "    #And remove the stopwords\n",
    "    if stopwordLst is not None:\n",
    "        workingIter = (w for w in workingIter if w not in stopwordLst)\n",
    "    #We will return a list with the stopwords removed\n",
    "    return list(workingIter)\n",
    "\n",
    "joyce_df['normalized_tokens'] = joyce_df['tokenized_text'].apply(lambda x: normlizeTokens(x, stopwordLst = stop_words_nltk, stemmer = porter))\n",
    "\n",
    "joyce_df['normalized_tokens_count'] = joyce_df['normalized_tokens'].apply(lambda x: len(x))\n",
    "\n",
    "joyce_df"
   ]
  },
  {
   "cell_type": "code",
   "execution_count": null,
   "metadata": {},
   "outputs": [],
   "source": [
    "conrad_Words = set(conrad_df['normalized_tokens'].sum())\n",
    "joyce_Words = set(joyce_df['normalized_tokens'].sum())\n",
    "\n",
    "#Change & to | if you want to keep all words\n",
    "overlapWords = conrad_Words & joyce_Words\n",
=======
    "collapsed": false
   },
   "outputs": [],
   "source": [
    "whWords = set(whReleases['normalized_tokens'].sum())\n",
    "kenWords = set(kenReleases['normalized_tokens'].sum())\n",
    "\n",
    "#Change & to | if you want to keep all words\n",
    "overlapWords = whWords & kenWords\n",
>>>>>>> d195bdb541288306c8d9b6aa1962ebe4ae022cde
    "\n",
    "overlapWordsDict = {word: index for index, word in enumerate(overlapWords)}\n",
    "overlapWordsDict['student']"
   ]
  },
  {
<<<<<<< HEAD
   "cell_type": "code",
   "execution_count": null,
   "metadata": {},
=======
   "cell_type": "markdown",
   "metadata": {},
   "source": [
    "Now we can count the occurrences of each word in the corpora and create our arrays. Note that we don't have to use numpy arrays as we do here. We could just use a list, but the arrays are faster in numpy so we encourage you to get in the habit of using them."
   ]
  },
  {
   "cell_type": "code",
   "execution_count": null,
   "metadata": {
    "collapsed": false
   },
>>>>>>> d195bdb541288306c8d9b6aa1962ebe4ae022cde
   "outputs": [],
   "source": [
    "def makeProbsArray(dfColumn, overlapDict):\n",
    "    words = dfColumn.sum()\n",
    "    countList = [0] * len(overlapDict)\n",
    "    for word in words:\n",
    "        try:\n",
    "            countList[overlapDict[word]] += 1\n",
    "        except KeyError:\n",
    "            #The word is not common so we skip it\n",
    "            pass\n",
    "    countArray = np.array(countList)\n",
    "    return countArray / countArray.sum()\n",
    "\n",
<<<<<<< HEAD
    "conrad_ProbArray = makeProbsArray(conrad_df['normalized_tokens'], overlapWordsDict)\n",
    "joyce_ProbArray = makeProbsArray(joyce_df['normalized_tokens'], overlapWordsDict)\n",
    "joyce_ProbArray.sum()\n",
=======
    "whProbArray = makeProbsArray(whReleases['normalized_tokens'], overlapWordsDict)\n",
    "kenProbArray = makeProbsArray(kenReleases['normalized_tokens'], overlapWordsDict)\n",
    "kenProbArray.sum()\n",
>>>>>>> d195bdb541288306c8d9b6aa1962ebe4ae022cde
    "#There is a little bit of a floating point math error\n",
    "#but it's too small to see with print and too small matter here"
   ]
  },
  {
<<<<<<< HEAD
   "cell_type": "code",
   "execution_count": null,
   "metadata": {},
   "outputs": [],
   "source": [
    "conrad_kenDivergence = scipy.stats.entropy(conrad_ProbArray, joyce_ProbArray)\n",
    "print (conrad_kenDivergence)\n",
    "joyce_whDivergence = scipy.stats.entropy(joyce_ProbArray, conrad_ProbArray)\n",
    "print (joyce_whDivergence)"
   ]
  },
  {
   "cell_type": "code",
   "execution_count": 9,
   "metadata": {},
   "outputs": [
    {
     "ename": "NameError",
     "evalue": "name 'conrad_ProbArray' is not defined",
     "output_type": "error",
     "traceback": [
      "\u001b[0;31m---------------------------------------------------------------------------\u001b[0m",
      "\u001b[0;31mNameError\u001b[0m                                 Traceback (most recent call last)",
      "\u001b[0;32m<ipython-input-9-93bbe28cb768>\u001b[0m in \u001b[0;36m<module>\u001b[0;34m()\u001b[0m\n\u001b[0;32m----> 1\u001b[0;31m \u001b[0mconrad_kenDivergence_ew\u001b[0m \u001b[0;34m=\u001b[0m \u001b[0mscipy\u001b[0m\u001b[0;34m.\u001b[0m\u001b[0mspecial\u001b[0m\u001b[0;34m.\u001b[0m\u001b[0mkl_div\u001b[0m\u001b[0;34m(\u001b[0m\u001b[0mconrad_ProbArray\u001b[0m\u001b[0;34m,\u001b[0m \u001b[0mjoyce_ProbArray\u001b[0m\u001b[0;34m)\u001b[0m\u001b[0;34m\u001b[0m\u001b[0m\n\u001b[0m\u001b[1;32m      2\u001b[0m \u001b[0mkl_df\u001b[0m \u001b[0;34m=\u001b[0m \u001b[0mpandas\u001b[0m\u001b[0;34m.\u001b[0m\u001b[0mDataFrame\u001b[0m\u001b[0;34m(\u001b[0m\u001b[0mlist\u001b[0m\u001b[0;34m(\u001b[0m\u001b[0moverlapWordsDict\u001b[0m\u001b[0;34m.\u001b[0m\u001b[0mkeys\u001b[0m\u001b[0;34m(\u001b[0m\u001b[0;34m)\u001b[0m\u001b[0;34m)\u001b[0m\u001b[0;34m,\u001b[0m \u001b[0mcolumns\u001b[0m \u001b[0;34m=\u001b[0m \u001b[0;34m[\u001b[0m\u001b[0;34m'word'\u001b[0m\u001b[0;34m]\u001b[0m\u001b[0;34m,\u001b[0m \u001b[0mindex\u001b[0m \u001b[0;34m=\u001b[0m \u001b[0mlist\u001b[0m\u001b[0;34m(\u001b[0m\u001b[0moverlapWordsDict\u001b[0m\u001b[0;34m.\u001b[0m\u001b[0mvalues\u001b[0m\u001b[0;34m(\u001b[0m\u001b[0;34m)\u001b[0m\u001b[0;34m)\u001b[0m\u001b[0;34m)\u001b[0m\u001b[0;34m\u001b[0m\u001b[0m\n\u001b[1;32m      3\u001b[0m \u001b[0mkl_df\u001b[0m \u001b[0;34m=\u001b[0m \u001b[0mkl_df\u001b[0m\u001b[0;34m.\u001b[0m\u001b[0msort_index\u001b[0m\u001b[0;34m(\u001b[0m\u001b[0;34m)\u001b[0m\u001b[0;34m\u001b[0m\u001b[0m\n\u001b[1;32m      4\u001b[0m \u001b[0mkl_df\u001b[0m\u001b[0;34m[\u001b[0m\u001b[0;34m'elementwise divergence'\u001b[0m\u001b[0;34m]\u001b[0m \u001b[0;34m=\u001b[0m \u001b[0mconrad_kenDivergence_ew\u001b[0m\u001b[0;34m\u001b[0m\u001b[0m\n\u001b[1;32m      5\u001b[0m \u001b[0mkl_df\u001b[0m\u001b[0;34m[\u001b[0m\u001b[0;34m:\u001b[0m\u001b[0;36m10\u001b[0m\u001b[0;34m]\u001b[0m\u001b[0;34m\u001b[0m\u001b[0m\n",
      "\u001b[0;31mNameError\u001b[0m: name 'conrad_ProbArray' is not defined"
     ]
    }
   ],
   "source": [
    "conrad_kenDivergence_ew = scipy.special.kl_div(conrad_ProbArray, joyce_ProbArray)\n",
    "kl_df = pandas.DataFrame(list(overlapWordsDict.keys()), columns = ['word'], index = list(overlapWordsDict.values()))\n",
    "kl_df = kl_df.sort_index()\n",
    "kl_df['elementwise divergence'] = conrad_kenDivergence_ew\n",
=======
   "cell_type": "markdown",
   "metadata": {},
   "source": [
    "We can now compute the KL divergence. Pay attention to the asymmetry. Use [the Jensen–Shannon divergence](https://en.wikipedia.org/wiki/Jensen%E2%80%93Shannon_divergence), which is the average KL divergence between each distribution and the average of both distributions (i.e., the midpoint), if you want symmetry."
   ]
  },
  {
   "cell_type": "code",
   "execution_count": null,
   "metadata": {
    "collapsed": false
   },
   "outputs": [],
   "source": [
    "wh_kenDivergence = scipy.stats.entropy(whProbArray, kenProbArray)\n",
    "print (wh_kenDivergence)\n",
    "ken_whDivergence = scipy.stats.entropy(kenProbArray, whProbArray)\n",
    "print (ken_whDivergence)"
   ]
  },
  {
   "cell_type": "markdown",
   "metadata": {},
   "source": [
    "Then, we can do the elementwise calculation and see which words best distinguish the two corpora."
   ]
  },
  {
   "cell_type": "code",
   "execution_count": null,
   "metadata": {
    "collapsed": false
   },
   "outputs": [],
   "source": [
    "wh_kenDivergence_ew = scipy.special.kl_div(whProbArray, kenProbArray)\n",
    "kl_df = pandas.DataFrame(list(overlapWordsDict.keys()), columns = ['word'], index = list(overlapWordsDict.values()))\n",
    "kl_df = kl_df.sort_index()\n",
    "kl_df['elementwise divergence'] = wh_kenDivergence_ew\n",
>>>>>>> d195bdb541288306c8d9b6aa1962ebe4ae022cde
    "kl_df[:10]"
   ]
  },
  {
   "cell_type": "code",
   "execution_count": null,
<<<<<<< HEAD
   "metadata": {},
=======
   "metadata": {
    "collapsed": false
   },
>>>>>>> d195bdb541288306c8d9b6aa1962ebe4ae022cde
   "outputs": [],
   "source": [
    "kl_df.sort_values(by='elementwise divergence', ascending=False)[:10]"
   ]
  },
  {
<<<<<<< HEAD
   "cell_type": "code",
   "execution_count": null,
   "metadata": {},
   "outputs": [],
   "source": [
    "#fileids = nltk.corpus.gutenberg.fileids()\n",
    "corpora = []\n",
    "for text in conradText:\n",
    "    words = text\n",
=======
   "cell_type": "markdown",
   "metadata": {},
   "source": [
    "Now we will apply what we learned today to the Guternberg texts in nltk and see if we can detect patterns between them. \n",
    "\n",
    "First, let's transform every text into normalized tokens. Note that in this first step, no stopword is removed. "
   ]
  },
  {
   "cell_type": "code",
   "execution_count": null,
   "metadata": {
    "collapsed": true
   },
   "outputs": [],
   "source": [
    "fileids = nltk.corpus.gutenberg.fileids()\n",
    "corpora = []\n",
    "for fileid in fileids:\n",
    "    words = nltk.corpus.gutenberg.words(fileid)\n",
>>>>>>> d195bdb541288306c8d9b6aa1962ebe4ae022cde
    "    normalized_tokens = normlizeTokens(words, stopwordLst = [], stemmer = snowball)\n",
    "    corpora.append(normalized_tokens)"
   ]
  },
  {
<<<<<<< HEAD
   "cell_type": "code",
   "execution_count": null,
   "metadata": {},
=======
   "cell_type": "markdown",
   "metadata": {},
   "source": [
    "Then, let's separate the normalized tokens into stopwords and non-stopwords."
   ]
  },
  {
   "cell_type": "code",
   "execution_count": null,
   "metadata": {
    "collapsed": true
   },
>>>>>>> d195bdb541288306c8d9b6aa1962ebe4ae022cde
   "outputs": [],
   "source": [
    "corpora_s = []\n",
    "corpora_nons = []\n",
    "for corpus in corpora:\n",
    "    s = []\n",
    "    nons = []\n",
    "    for word in corpus:\n",
    "        if word in stop_words_nltk:\n",
    "            s.append(word)\n",
    "        else:\n",
    "            nons.append(word)\n",
    "    corpora_s.append(s)\n",
    "    corpora_nons.append(nons)"
   ]
  },
  {
<<<<<<< HEAD
   "cell_type": "code",
   "execution_count": 10,
   "metadata": {},
=======
   "cell_type": "markdown",
   "metadata": {},
   "source": [
    "Define some covenient funtions for calculating divergence and distances."
   ]
  },
  {
   "cell_type": "code",
   "execution_count": null,
   "metadata": {
    "collapsed": true
   },
>>>>>>> d195bdb541288306c8d9b6aa1962ebe4ae022cde
   "outputs": [],
   "source": [
    "def kl_divergence(X, Y):\n",
    "    P = X.copy()\n",
    "    Q = Y.copy()\n",
    "    P.columns = ['P']\n",
    "    Q.columns = ['Q']\n",
    "    df = Q.join(P).fillna(0)\n",
    "    p = df.iloc[:,1]\n",
    "    q = df.iloc[:,0]\n",
    "    D_kl = scipy.stats.entropy(p, q)\n",
    "    return D_kl\n",
    "\n",
    "def chi2_divergence(X,Y):\n",
    "    P = X.copy()\n",
    "    Q = Y.copy()\n",
    "    P.columns = ['P']\n",
    "    Q.columns = ['Q']\n",
    "    df = Q.join(P).fillna(0)\n",
    "    p = df.iloc[:,1]\n",
    "    q = df.iloc[:,0]\n",
    "    return scipy.stats.chisquare(p, q).statistic\n",
    "\n",
    "def Divergence(corpus1, corpus2, difference=\"KL\"):\n",
    "    \"\"\"Difference parameter can equal KL, Chi2, or Wass\"\"\"\n",
    "    freqP = nltk.FreqDist(corpus1)\n",
    "    P = pandas.DataFrame(list(freqP.values()), columns = ['frequency'], index = list(freqP.keys()))\n",
    "    freqQ = nltk.FreqDist(corpus2)\n",
    "    Q = pandas.DataFrame(list(freqQ.values()), columns = ['frequency'], index = list(freqQ.keys()))\n",
    "    if difference == \"KL\":\n",
    "        return kl_divergence(P, Q)\n",
    "    elif difference == \"Chi2\":\n",
    "        return chi2_divergence(P, Q)\n",
    "    elif difference == \"KS\":\n",
    "        try:\n",
    "            return scipy.stats.ks_2samp(P['frequency'], Q['frequency']).statistic\n",
    "        except:\n",
    "            return scipy.stats.ks_2samp(P['frequency'], Q['frequency'])\n",
    "    elif difference == \"Wasserstein\":\n",
    "        try:\n",
    "            return scipy.stats.wasserstein_distance(P['frequency'], Q['frequency'], u_weights=None, v_weights=None).statistic\n",
    "        except:\n",
    "            return scipy.stats.wasserstein_distance(P['frequency'], Q['frequency'], u_weights=None, v_weights=None)"
   ]
  },
  {
<<<<<<< HEAD
   "cell_type": "code",
   "execution_count": null,
   "metadata": {},
=======
   "cell_type": "markdown",
   "metadata": {},
   "source": [
    "Now we will calculate the KL divergence for each pair of corpora, turn the results into a matrix, and visualize the matrix as a heatmap. Recall that $D_{\\mathrm{KL}}(P\\|Q)$ measures the amount of information loss when $Q$ is used to approximate $P$. Here, the rows are the $P$s used for calculating KL divergences, and the columns are the $Q$s. So, each cell measures the amount of information loss when the word distribution of the column text is used to approximate the word distribution of the row text. Because the KL divergence is directional, such that the divergence of $P$ from $Q$ is different from the same of $Q$ from $P$, the matrix is assymetric and contains unique information above and below the diagonal. The same is true for the $\\chi^2$ divergence."
   ]
  },
  {
   "cell_type": "code",
   "execution_count": null,
   "metadata": {
    "collapsed": false
   },
>>>>>>> d195bdb541288306c8d9b6aa1962ebe4ae022cde
   "outputs": [],
   "source": [
    "L = []\n",
    "for p in corpora:\n",
    "    l = []\n",
    "    for q in corpora:\n",
    "        l.append(Divergence(p,q, difference = 'KL'))\n",
    "    L.append(l)\n",
    "M = np.array(L)\n",
    "fig = plt.figure()\n",
    "div = pandas.DataFrame(M, columns = fileids, index = fileids)\n",
    "ax = sns.heatmap(div)\n",
    "plt.show()"
   ]
  },
  {
<<<<<<< HEAD
   "cell_type": "code",
   "execution_count": null,
   "metadata": {},
=======
   "cell_type": "markdown",
   "metadata": {},
   "source": [
    "Note that works by the same author have the lowest within-group KL divergences. \n",
    "\n",
    "To reveal more patterns, let's do a multidimensional scaling of the matrix."
   ]
  },
  {
   "cell_type": "code",
   "execution_count": null,
   "metadata": {
    "collapsed": false
   },
>>>>>>> d195bdb541288306c8d9b6aa1962ebe4ae022cde
   "outputs": [],
   "source": [
    "mds = sklearn.manifold.MDS()\n",
    "pos = mds.fit(M).embedding_\n",
    "x = pos[:,0]\n",
    "y = pos[:,1]\n",
    "fig, ax = plt.subplots(figsize = (6,6))\n",
    "plt.plot(x, y, ' ')\n",
    "for i, txt in enumerate(fileids):\n",
    "    ax.annotate(txt, (x[i],y[i]))"
   ]
  },
  {
<<<<<<< HEAD
   "cell_type": "code",
   "execution_count": null,
   "metadata": {},
=======
   "cell_type": "markdown",
   "metadata": {},
   "source": [
    "Do you see any patterns in the image shown above? Does it make sense?\n",
    "\n",
    "We may just want to focus on the distrbution of stopwords or non-stopwords. Let's do the analysis again first for stopwords and then for non-stopwords."
   ]
  },
  {
   "cell_type": "code",
   "execution_count": null,
   "metadata": {
    "collapsed": false
   },
>>>>>>> d195bdb541288306c8d9b6aa1962ebe4ae022cde
   "outputs": [],
   "source": [
    "L = []\n",
    "for p in corpora_s:\n",
    "    l = []\n",
    "    for q in corpora_s:\n",
    "        l.append(Divergence(p,q, difference='KL'))\n",
    "    L.append(l)\n",
    "M = np.array(L)\n",
    "fig = plt.figure()\n",
    "div = pandas.DataFrame(M, columns = fileids, index = fileids)\n",
    "ax = sns.heatmap(div)\n",
    "plt.show()"
   ]
  },
  {
   "cell_type": "code",
<<<<<<< HEAD
   "execution_count": 11,
   "metadata": {},
   "outputs": [
    {
     "ename": "NameError",
     "evalue": "name 'corpora_nons' is not defined",
     "output_type": "error",
     "traceback": [
      "\u001b[0;31m---------------------------------------------------------------------------\u001b[0m",
      "\u001b[0;31mNameError\u001b[0m                                 Traceback (most recent call last)",
      "\u001b[0;32m<ipython-input-11-3f30db9df3ce>\u001b[0m in \u001b[0;36m<module>\u001b[0;34m()\u001b[0m\n\u001b[1;32m      1\u001b[0m \u001b[0mL\u001b[0m \u001b[0;34m=\u001b[0m \u001b[0;34m[\u001b[0m\u001b[0;34m]\u001b[0m\u001b[0;34m\u001b[0m\u001b[0m\n\u001b[0;32m----> 2\u001b[0;31m \u001b[0;32mfor\u001b[0m \u001b[0mp\u001b[0m \u001b[0;32min\u001b[0m \u001b[0mcorpora_nons\u001b[0m\u001b[0;34m:\u001b[0m\u001b[0;34m\u001b[0m\u001b[0m\n\u001b[0m\u001b[1;32m      3\u001b[0m     \u001b[0ml\u001b[0m \u001b[0;34m=\u001b[0m \u001b[0;34m[\u001b[0m\u001b[0;34m]\u001b[0m\u001b[0;34m\u001b[0m\u001b[0m\n\u001b[1;32m      4\u001b[0m     \u001b[0;32mfor\u001b[0m \u001b[0mq\u001b[0m \u001b[0;32min\u001b[0m \u001b[0mcorpora_nons\u001b[0m\u001b[0;34m:\u001b[0m\u001b[0;34m\u001b[0m\u001b[0m\n\u001b[1;32m      5\u001b[0m         \u001b[0ml\u001b[0m\u001b[0;34m.\u001b[0m\u001b[0mappend\u001b[0m\u001b[0;34m(\u001b[0m\u001b[0mDivergence\u001b[0m\u001b[0;34m(\u001b[0m\u001b[0mp\u001b[0m\u001b[0;34m,\u001b[0m\u001b[0mq\u001b[0m\u001b[0;34m,\u001b[0m \u001b[0mdifference\u001b[0m\u001b[0;34m=\u001b[0m\u001b[0;34m'KL'\u001b[0m\u001b[0;34m)\u001b[0m\u001b[0;34m)\u001b[0m\u001b[0;34m\u001b[0m\u001b[0m\n",
      "\u001b[0;31mNameError\u001b[0m: name 'corpora_nons' is not defined"
     ]
    }
   ],
=======
   "execution_count": null,
   "metadata": {
    "collapsed": false
   },
   "outputs": [],
>>>>>>> d195bdb541288306c8d9b6aa1962ebe4ae022cde
   "source": [
    "L = []\n",
    "for p in corpora_nons:\n",
    "    l = []\n",
    "    for q in corpora_nons:\n",
    "        l.append(Divergence(p,q, difference='KL'))\n",
    "    L.append(l)\n",
    "M = np.array(L)\n",
    "fig = plt.figure()\n",
    "div = pandas.DataFrame(M, columns = fileids, index = fileids)\n",
    "ax = sns.heatmap(div)\n",
    "plt.show()"
   ]
  },
  {
<<<<<<< HEAD
   "cell_type": "code",
   "execution_count": null,
   "metadata": {},
=======
   "cell_type": "markdown",
   "metadata": {},
   "source": [
    "Now we compute the same for the assymmetric $\\chi^2$ Divergence."
   ]
  },
  {
   "cell_type": "code",
   "execution_count": null,
   "metadata": {
    "collapsed": false
   },
>>>>>>> d195bdb541288306c8d9b6aa1962ebe4ae022cde
   "outputs": [],
   "source": [
    "L = []\n",
    "for p in corpora_nons:\n",
    "    l = []\n",
    "    for q in corpora_nons:\n",
    "        l.append(Divergence(p,q, difference='Chi2'))\n",
    "    L.append(l)\n",
    "M = np.array(L)\n",
    "fig = plt.figure()\n",
    "div = pandas.DataFrame(M, columns = fileids, index = fileids)\n",
    "ax = sns.heatmap(div)\n",
    "plt.show()"
   ]
  },
  {
<<<<<<< HEAD
   "cell_type": "code",
   "execution_count": null,
   "metadata": {},
=======
   "cell_type": "markdown",
   "metadata": {
    "scrolled": true
   },
   "source": [
    "For the KS distance:"
   ]
  },
  {
   "cell_type": "code",
   "execution_count": null,
   "metadata": {
    "collapsed": false
   },
>>>>>>> d195bdb541288306c8d9b6aa1962ebe4ae022cde
   "outputs": [],
   "source": [
    "L = []\n",
    "for p in corpora_nons:\n",
    "    l = []\n",
    "    for q in corpora_nons:\n",
    "        l.append(Divergence(p,q, difference='KS'))\n",
    "    L.append(l)\n",
    "M = np.array(L)\n",
    "fig = plt.figure()\n",
    "div = pandas.DataFrame(M, columns = fileids, index = fileids)\n",
    "ax = sns.heatmap(div)\n",
    "plt.show()"
   ]
  },
  {
<<<<<<< HEAD
   "cell_type": "code",
   "execution_count": null,
   "metadata": {},
=======
   "cell_type": "markdown",
   "metadata": {},
   "source": [
    "And finally for the Wasserstein or \"earth mover's\" Distance."
   ]
  },
  {
   "cell_type": "code",
   "execution_count": null,
   "metadata": {
    "collapsed": false
   },
>>>>>>> d195bdb541288306c8d9b6aa1962ebe4ae022cde
   "outputs": [],
   "source": [
    "L = []\n",
    "for p in corpora_nons:\n",
    "    l = []\n",
    "    for q in corpora_nons:\n",
    "        l.append(Divergence(p,q, difference='Wasserstein'))\n",
    "    L.append(l)\n",
    "M = np.array(L)\n",
    "fig = plt.figure()\n",
    "div = pandas.DataFrame(M, columns = fileids, index = fileids)\n",
    "ax = sns.heatmap(div)\n",
    "plt.show()"
   ]
  },
  {
<<<<<<< HEAD
   "cell_type": "code",
   "execution_count": null,
   "metadata": {},
=======
   "cell_type": "markdown",
   "metadata": {},
   "source": [
    "You can see that the Bible is highly divergent and this makes reading the plot somewhat difficult. Let's fix this by taking the log of each cell, which will reduce the distance of the Bible from other texts as an outlier."
   ]
  },
  {
   "cell_type": "code",
   "execution_count": null,
   "metadata": {
    "collapsed": false
   },
>>>>>>> d195bdb541288306c8d9b6aa1962ebe4ae022cde
   "outputs": [],
   "source": [
    "ax = sns.heatmap(div.apply(np.log).replace([np.inf, -np.inf], np.nan))\n",
    "plt.show()"
   ]
<<<<<<< HEAD
=======
  },
  {
   "cell_type": "markdown",
   "metadata": {},
   "source": [
    "This is more legible, as it continues to show that the Bible is divergent, but other structure is also visible, such as the divergence of Austen's *Emma* and *Sense and Sensibility*, and Edgeworth's *The Parent's Assistant*. \n",
    "\n",
    "If we want to rerun this on a new data set of our own composition, we can be a bit more efficient with our coding. Let's use the Shakespeare texts from last week as example: "
   ]
  },
  {
   "cell_type": "code",
   "execution_count": null,
   "metadata": {
    "collapsed": true
   },
   "outputs": [],
   "source": [
    "shakespeare_df = lucem_illud.loadTextDirectory('../data/Shakespeare')"
   ]
  },
  {
   "cell_type": "markdown",
   "metadata": {},
   "source": [
    "Now we stem and remove stopwords"
   ]
  },
  {
   "cell_type": "code",
   "execution_count": null,
   "metadata": {
    "collapsed": true
   },
   "outputs": [],
   "source": [
    "shakespeare_df['tokenized_text'] = shakespeare_df['text'].apply(lambda x: nltk.word_tokenize(x))\n",
    "shakespeare_df['normalized_tokens'] = shakespeare_df['tokenized_text'].apply(lambda x: normlizeTokens(x, stopwordLst = stop_words_nltk, stemmer = porter))"
   ]
  },
  {
   "cell_type": "markdown",
   "metadata": {},
   "source": [
    "Create the corpus file and generate the heatmap:"
   ]
  },
  {
   "cell_type": "code",
   "execution_count": null,
   "metadata": {
    "collapsed": false
   },
   "outputs": [],
   "source": [
    "measure = 'KS' #\"KL\", \"Chi2\", \"KS\", \"Wasserstein\"\n",
    "num_of_texts = 10 #The bigger this number the slower it will run, you can also try selecting your own plays\n",
    "fileids_sp = list(shakespeare_df[:num_of_texts].index)\n",
    "corpora_sp = list(shakespeare_df[:num_of_texts]['normalized_tokens'])\n",
    "L = []\n",
    "for p in corpora_sp:\n",
    "    l = []\n",
    "    for q in corpora_sp:\n",
    "        l.append(Divergence(p,q, difference=measure))\n",
    "    L.append(l)\n",
    "M = np.array(L)\n",
    "fig = plt.figure()\n",
    "div = pandas.DataFrame(M, columns = fileids_sp, index = fileids_sp)\n",
    "ax = sns.heatmap(div)\n",
    "plt.show()"
   ]
  },
  {
   "cell_type": "markdown",
   "metadata": {},
   "source": [
    "What are \"The Passionate Pilgrim\" and \"The Phoenix and the Turtle\"? Little known poems by Shakespeare that are unsurprisingly hard to classify, as they are so different from everything else he wrote."
   ]
  },
  {
   "cell_type": "markdown",
   "metadata": {},
   "source": [
    "## <span style=\"color:red\">*Exercise 4*</span>\n",
    "\n",
    "<span style=\"color:red\">Construct cells immediately below this that calculate the KL and $\\chi^2$ divergences, and the KS and Wasserstein distances between four separate corpora, plot these with heatmaps, and then array them in two dimensions with multidimensional scaling as above. What does this reveal about relations between the corpora? Which analysis (and divergence or distribution) distinguishes the authors or documents better? \n",
    "\n",
    "<span style=\"color:red\">**Stretch**: Calculate the <a \"href=https://en.wikipedia.org/wiki/Jensen–Shannon_divergence\" target=\"_blank\">Jensen-Shannon Divergence</a> between your four corpora. What is the relationship between the KL and JS divergences?</span> "
   ]
>>>>>>> d195bdb541288306c8d9b6aa1962ebe4ae022cde
  }
 ],
 "metadata": {
  "anaconda-cloud": {},
  "kernelspec": {
   "display_name": "Python 3",
   "language": "python",
   "name": "python3"
  },
  "language_info": {
   "codemirror_mode": {
    "name": "ipython",
    "version": 3
   },
   "file_extension": ".py",
   "mimetype": "text/x-python",
   "name": "python",
   "nbconvert_exporter": "python",
   "pygments_lexer": "ipython3",
<<<<<<< HEAD
   "version": "3.6.2"
=======
   "version": "3.6.0"
>>>>>>> d195bdb541288306c8d9b6aa1962ebe4ae022cde
  }
 },
 "nbformat": 4,
 "nbformat_minor": 1
}
