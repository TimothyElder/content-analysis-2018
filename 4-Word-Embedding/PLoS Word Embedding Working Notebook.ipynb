{
 "cells": [
  {
   "cell_type": "markdown",
   "metadata": {},
   "source": [
    "# PLoS One Word Embeddings "
   ]
  },
  {
   "cell_type": "code",
   "execution_count": 1,
   "metadata": {},
   "outputs": [],
   "source": [
    "import lucem_illud #pip install -U git+git://github.com/Computational-Content-Analysis-2018/lucem_illud.git\n",
    "\n",
    "\n",
    "#All these packages need to be installed from pip\n",
    "import gensim#For word2vec, etc\n",
    "import requests #For downloading our datasets\n",
    "import nltk #For stop words and stemmers\n",
    "import numpy as np #For arrays\n",
    "import pandas #Gives us DataFrames\n",
    "import matplotlib.pyplot as plt #For graphics\n",
    "import seaborn #Makes the graphics look nicer\n",
    "import sklearn.metrics.pairwise #For cosine similarity\n",
    "import sklearn.manifold #For T-SNE\n",
    "import sklearn.decomposition #For PCA\n",
    "\n",
    "#gensim uses a couple of deprecated features\n",
    "#we can't do anything about them so lets ignore them \n",
    "import warnings\n",
    "warnings.filterwarnings(\"ignore\", category=DeprecationWarning) \n",
    "\n",
    "#This 'magic' command makes the plots work better\n",
    "#in the notebook, don't use it outside of a notebook.\n",
    "#Also you can ignore the warning\n",
    "%matplotlib inline\n",
    "\n",
    "import os #For looking through files\n",
    "import os.path #For managing file paths\n",
    "import pandas as pd"
   ]
  },
  {
   "cell_type": "code",
   "execution_count": null,
   "metadata": {},
   "outputs": [],
   "source": [
    "#loads dataframe\n",
    "plos_df = pd.read_pickle('../data/plos_analysis/plos_normalized_sents_sample.pk1')\n",
    "plos_df"
   ]
  },
  {
   "cell_type": "code",
   "execution_count": 4,
   "metadata": {},
   "outputs": [
    {
     "data": {
      "text/html": [
       "<div>\n",
       "<style scoped>\n",
       "    .dataframe tbody tr th:only-of-type {\n",
       "        vertical-align: middle;\n",
       "    }\n",
       "\n",
       "    .dataframe tbody tr th {\n",
       "        vertical-align: top;\n",
       "    }\n",
       "\n",
       "    .dataframe thead th {\n",
       "        text-align: right;\n",
       "    }\n",
       "</style>\n",
       "<table border=\"1\" class=\"dataframe\">\n",
       "  <thead>\n",
       "    <tr style=\"text-align: right;\">\n",
       "      <th></th>\n",
       "      <th>Article Contents</th>\n",
       "      <th>Copyright Year</th>\n",
       "      <th>Journal Title</th>\n",
       "      <th>Titles</th>\n",
       "      <th>tokenized_text</th>\n",
       "      <th>word_counts</th>\n",
       "      <th>normalized_tokens</th>\n",
       "      <th>normalized_tokens_count</th>\n",
       "      <th>tokenized_sents</th>\n",
       "      <th>normalized_sents</th>\n",
       "    </tr>\n",
       "  </thead>\n",
       "  <tbody>\n",
       "    <tr>\n",
       "      <th>0</th>\n",
       "      <td>The study of animal communication is a complex...</td>\n",
       "      <td>2011</td>\n",
       "      <td>PLoS ONE</td>\n",
       "      <td>UV-Deprived Coloration Reduces Success in Mate...</td>\n",
       "      <td>[The, study, of, animal, communication, is, a,...</td>\n",
       "      <td>2239</td>\n",
       "      <td>[studi, anim, commun, complex, scienc, address...</td>\n",
       "      <td>1055</td>\n",
       "      <td>[[The, study, of, animal, communication, is, a...</td>\n",
       "      <td>[[study, animal, communication, complex, scien...</td>\n",
       "    </tr>\n",
       "    <tr>\n",
       "      <th>1</th>\n",
       "      <td>Aneurysms in general represent a Damocles swor...</td>\n",
       "      <td>2017</td>\n",
       "      <td>PLOS ONE</td>\n",
       "      <td>Metabolomic profiling of ascending thoracic ao...</td>\n",
       "      <td>[Aneurysms, in, general, represent, a, Damocle...</td>\n",
       "      <td>5547</td>\n",
       "      <td>[aneurysm, gener, repres, damocl, sword, class...</td>\n",
       "      <td>2663</td>\n",
       "      <td>[[Aneurysms, in, general, represent, a, Damocl...</td>\n",
       "      <td>[[aneurysms, general, represent, damocles, swo...</td>\n",
       "    </tr>\n",
       "    <tr>\n",
       "      <th>2</th>\n",
       "      <td>Prognostic information about life expectancy i...</td>\n",
       "      <td>2013</td>\n",
       "      <td>PLoS ONE</td>\n",
       "      <td>Predictive Value of a Profile of Routine Blood...</td>\n",
       "      <td>[Prognostic, information, about, life, expecta...</td>\n",
       "      <td>4275</td>\n",
       "      <td>[prognost, inform, life, expect, older, peopl,...</td>\n",
       "      <td>2011</td>\n",
       "      <td>[[Prognostic, information, about, life, expect...</td>\n",
       "      <td>[[prognostic, information, life, expectancy, o...</td>\n",
       "    </tr>\n",
       "    <tr>\n",
       "      <th>3</th>\n",
       "      <td>Interleukin (IL)-23 has been associated with t...</td>\n",
       "      <td>2017</td>\n",
       "      <td>PLOS ONE</td>\n",
       "      <td>Continuous IL-23 stimulation drives ILC3 deple...</td>\n",
       "      <td>[Interleukin, (, IL, ), -23, has, been, associ...</td>\n",
       "      <td>5091</td>\n",
       "      <td>[interleukin, il, ha, associ, develop, sever, ...</td>\n",
       "      <td>2413</td>\n",
       "      <td>[[Interleukin, (, IL, ), -23, has, been, assoc...</td>\n",
       "      <td>[[interleukin, il, associated, development, se...</td>\n",
       "    </tr>\n",
       "    <tr>\n",
       "      <th>4</th>\n",
       "      <td>Labor represents a stress test for the fetus. ...</td>\n",
       "      <td>2014</td>\n",
       "      <td>PLoS ONE</td>\n",
       "      <td>Assessment of Coupling between Trans-Abdominal...</td>\n",
       "      <td>[Labor, represents, a, stress, test, for, the,...</td>\n",
       "      <td>3149</td>\n",
       "      <td>[labor, repres, stress, test, fetu, inde, feta...</td>\n",
       "      <td>1543</td>\n",
       "      <td>[[Labor, represents, a, stress, test, for, the...</td>\n",
       "      <td>[[labor, represents, stress, test, fetus], [in...</td>\n",
       "    </tr>\n",
       "  </tbody>\n",
       "</table>\n",
       "</div>"
      ],
      "text/plain": [
       "                                    Article Contents Copyright Year  \\\n",
       "0  The study of animal communication is a complex...           2011   \n",
       "1  Aneurysms in general represent a Damocles swor...           2017   \n",
       "2  Prognostic information about life expectancy i...           2013   \n",
       "3  Interleukin (IL)-23 has been associated with t...           2017   \n",
       "4  Labor represents a stress test for the fetus. ...           2014   \n",
       "\n",
       "  Journal Title                                             Titles  \\\n",
       "0      PLoS ONE  UV-Deprived Coloration Reduces Success in Mate...   \n",
       "1      PLOS ONE  Metabolomic profiling of ascending thoracic ao...   \n",
       "2      PLoS ONE  Predictive Value of a Profile of Routine Blood...   \n",
       "3      PLOS ONE  Continuous IL-23 stimulation drives ILC3 deple...   \n",
       "4      PLoS ONE  Assessment of Coupling between Trans-Abdominal...   \n",
       "\n",
       "                                      tokenized_text  word_counts  \\\n",
       "0  [The, study, of, animal, communication, is, a,...         2239   \n",
       "1  [Aneurysms, in, general, represent, a, Damocle...         5547   \n",
       "2  [Prognostic, information, about, life, expecta...         4275   \n",
       "3  [Interleukin, (, IL, ), -23, has, been, associ...         5091   \n",
       "4  [Labor, represents, a, stress, test, for, the,...         3149   \n",
       "\n",
       "                                   normalized_tokens  normalized_tokens_count  \\\n",
       "0  [studi, anim, commun, complex, scienc, address...                     1055   \n",
       "1  [aneurysm, gener, repres, damocl, sword, class...                     2663   \n",
       "2  [prognost, inform, life, expect, older, peopl,...                     2011   \n",
       "3  [interleukin, il, ha, associ, develop, sever, ...                     2413   \n",
       "4  [labor, repres, stress, test, fetu, inde, feta...                     1543   \n",
       "\n",
       "                                     tokenized_sents  \\\n",
       "0  [[The, study, of, animal, communication, is, a...   \n",
       "1  [[Aneurysms, in, general, represent, a, Damocl...   \n",
       "2  [[Prognostic, information, about, life, expect...   \n",
       "3  [[Interleukin, (, IL, ), -23, has, been, assoc...   \n",
       "4  [[Labor, represents, a, stress, test, for, the...   \n",
       "\n",
       "                                    normalized_sents  \n",
       "0  [[study, animal, communication, complex, scien...  \n",
       "1  [[aneurysms, general, represent, damocles, swo...  \n",
       "2  [[prognostic, information, life, expectancy, o...  \n",
       "3  [[interleukin, il, associated, development, se...  \n",
       "4  [[labor, represents, stress, test, fetus], [in...  "
      ]
     },
     "execution_count": 4,
     "metadata": {},
     "output_type": "execute_result"
    }
   ],
   "source": [
    "\n",
    "#Apply our functions, notice each row is a list of lists now\n",
    "plos_df['tokenized_sents'] = plos_df['Article Contents'].apply(lambda x: \n",
    "                                                               [nltk.word_tokenize(s) for s in nltk.sent_tokenize(x)])\n",
    "plos_df['normalized_sents'] = plos_df['tokenized_sents'].apply(lambda x: \n",
    "                                                                           [lucem_illud.normalizeTokens(s, \n",
    "                                                                                           stopwordLst = lucem_illud.stop_words_basic, \n",
    "                                                                                           stemmer = None) \n",
    "                                                                            for s in x])\n",
    "\n",
    "plos_df[:5]"
   ]
  },
  {
   "cell_type": "code",
   "execution_count": 5,
   "metadata": {},
   "outputs": [],
   "source": [
    "plos_df.to_pickle('../data/plos_normalized_sents_sample.pk1') #saves"
   ]
  },
  {
   "cell_type": "markdown",
   "metadata": {},
   "source": [
    "The following cells use the Gensim implementation of word2vec. The first cell takes all the tokenized sentences into the word2vec trainer. "
   ]
  },
  {
   "cell_type": "code",
   "execution_count": 3,
   "metadata": {},
   "outputs": [],
   "source": [
    "plosW2V = gensim.models.word2vec.Word2Vec(plos_df['normalized_sents'].sum())"
   ]
  },
  {
   "cell_type": "code",
   "execution_count": null,
   "metadata": {},
   "outputs": [],
   "source": [
    "#Now each word has an associated vector and this cell allows me \n",
    "#access the vector directly using (__getitem__) method.\n",
    "print(\"A {} dimesional vector:\".format(plosW2V['cells'].shape[0]))\n",
    "plosW2V['cells']"
   ]
  },
  {
   "cell_type": "code",
   "execution_count": 5,
   "metadata": {},
   "outputs": [
    {
     "data": {
      "text/plain": [
       "array([[-2.25990806e-02,  4.62590456e-02, -1.21213675e+00, ...,\n",
       "         2.82858282e-01, -1.98473966e+00,  1.11585386e-01],\n",
       "       [ 9.46114302e-01, -3.78612266e-03, -5.19030154e-01, ...,\n",
       "        -7.64820874e-01, -1.84790373e+00, -2.22513008e+00],\n",
       "       [-1.40066326e+00,  8.69177639e-01,  5.14193833e-01, ...,\n",
       "         5.59368543e-02, -1.81151062e-01, -3.56481344e-01],\n",
       "       ...,\n",
       "       [-1.31203057e-02,  1.85989514e-02, -5.00813266e-03, ...,\n",
       "         1.36835850e-03, -5.57862855e-02, -1.80729688e-03],\n",
       "       [ 7.63154775e-03,  5.24544604e-02, -3.85386944e-02, ...,\n",
       "        -1.20272313e-03, -3.34557751e-03,  1.11565413e-02],\n",
       "       [-1.94520727e-02,  4.67076199e-03, -7.91246593e-02, ...,\n",
       "         4.86306101e-03, -8.52972940e-02,  4.22476903e-02]], dtype=float32)"
      ]
     },
     "execution_count": 5,
     "metadata": {},
     "output_type": "execute_result"
    }
   ],
   "source": [
    "#This gives me all the vectors, stored in syn0\n",
    "plosW2V.wv.syn0"
   ]
  },
  {
   "cell_type": "code",
   "execution_count": 22,
   "metadata": {},
   "outputs": [
    {
     "data": {
      "text/plain": [
       "'cells'"
      ]
     },
     "execution_count": 22,
     "metadata": {},
     "output_type": "execute_result"
    }
   ],
   "source": [
    "#index2word translates from the matrix to words, taking a matrix index item and giving the word assoicated with that index position. \n",
    "plosW2V.wv.index2word[0]"
   ]
  },
  {
   "cell_type": "code",
   "execution_count": 12,
   "metadata": {},
   "outputs": [
    {
     "data": {
      "text/plain": [
       "[('meaningful', 0.8223455548286438),\n",
       " ('caution', 0.7975347638130188),\n",
       " ('conflicting', 0.7864636778831482),\n",
       " ('nonetheless', 0.7825688123703003),\n",
       " ('inconsistent', 0.781834602355957),\n",
       " ('reliable', 0.7796393036842346),\n",
       " ('rigorous', 0.7721487283706665),\n",
       " ('confirmatory', 0.7702212333679199),\n",
       " ('generalizable', 0.7670527696609497),\n",
       " ('corroborate', 0.766918420791626)]"
      ]
     },
     "execution_count": 12,
     "metadata": {},
     "output_type": "execute_result"
    }
   ],
   "source": [
    "#the 'most_similar' method gives the most similar vectors using cosine similarity. \n",
    "#Essentially these are words with similar vectors. \n",
    "plosW2V.most_similar('reproducible')"
   ]
  },
  {
   "cell_type": "code",
   "execution_count": 14,
   "metadata": {},
   "outputs": [
    {
     "data": {
      "text/plain": [
       "[('supported', 0.7510549426078796),\n",
       " ('agreement', 0.7427080869674683),\n",
       " ('demonstrate', 0.7070618867874146),\n",
       " ('supports', 0.7007169127464294),\n",
       " ('demonstrating', 0.6952240467071533),\n",
       " ('contrary', 0.6941182613372803),\n",
       " ('inconsistent', 0.6514440774917603),\n",
       " ('suggest', 0.6512267589569092),\n",
       " ('similar', 0.6504983901977539),\n",
       " ('furthermore', 0.6492356061935425)]"
      ]
     },
     "execution_count": 14,
     "metadata": {},
     "output_type": "execute_result"
    }
   ],
   "source": [
    "plosW2V.most_similar('consistent')"
   ]
  },
  {
   "cell_type": "code",
   "execution_count": 4,
   "metadata": {},
   "outputs": [
    {
     "data": {
      "text/plain": [
       "[('probabilities', 0.8544307947158813),\n",
       " ('entropy', 0.7909424304962158),\n",
       " ('assuming', 0.7880439758300781),\n",
       " ('likelihood', 0.7580218315124512),\n",
       " ('frequencies', 0.7538721561431885),\n",
       " ('weighted', 0.7325769662857056),\n",
       " ('thresholds', 0.7312763929367065),\n",
       " ('metric', 0.7292221188545227),\n",
       " ('parameter', 0.7238290309906006),\n",
       " ('marginal', 0.7216755747795105)]"
      ]
     },
     "execution_count": 4,
     "metadata": {},
     "output_type": "execute_result"
    }
   ],
   "source": [
    "plosW2V.most_similar('probability')"
   ]
  },
  {
   "cell_type": "code",
   "execution_count": 8,
   "metadata": {},
   "outputs": [
    {
     "data": {
      "text/plain": [
       "[('inheritance', 0.8642765879631042),\n",
       " ('trait', 0.8327957391738892),\n",
       " ('informative', 0.8189888596534729),\n",
       " ('exists', 0.8111979961395264),\n",
       " ('linkage', 0.8111421465873718),\n",
       " ('disequilibrium', 0.8076508641242981),\n",
       " ('true', 0.8063018321990967),\n",
       " ('predicting', 0.7968686819076538),\n",
       " ('attribute', 0.7964696884155273),\n",
       " ('explains', 0.7909074425697327)]"
      ]
     },
     "execution_count": 8,
     "metadata": {},
     "output_type": "execute_result"
    }
   ],
   "source": [
    "plosW2V.most_similar('causal')"
   ]
  },
  {
   "cell_type": "code",
   "execution_count": 10,
   "metadata": {},
   "outputs": [
    {
     "data": {
      "text/plain": [
       "[('mechanisms', 0.9035069346427917),\n",
       " ('actions', 0.8432531356811523),\n",
       " ('mediating', 0.802331805229187),\n",
       " ('modulation', 0.7917881608009338),\n",
       " ('mediator', 0.7892719507217407),\n",
       " ('phenomenon', 0.7882250547409058),\n",
       " ('roles', 0.7816320657730103),\n",
       " ('regulation', 0.7804035544395447),\n",
       " ('plasticity', 0.772865891456604),\n",
       " ('acts', 0.7728011608123779)]"
      ]
     },
     "execution_count": 10,
     "metadata": {},
     "output_type": "execute_result"
    }
   ],
   "source": [
    "plosW2V.most_similar('mechanism')"
   ]
  },
  {
   "cell_type": "code",
   "execution_count": 13,
   "metadata": {},
   "outputs": [
    {
     "data": {
      "text/plain": [
       "[('statistical', 0.7757536768913269),\n",
       " ('student', 0.7381414771080017),\n",
       " ('comparisons', 0.7325276732444763),\n",
       " ('statistic', 0.7286056876182556),\n",
       " ('bonferroni', 0.7283371686935425),\n",
       " ('correlations', 0.7217651605606079),\n",
       " ('exact', 0.7139477729797363),\n",
       " ('pearson', 0.7137863636016846),\n",
       " ('correction', 0.7083830833435059),\n",
       " ('rank', 0.7082436680793762)]"
      ]
     },
     "execution_count": 13,
     "metadata": {},
     "output_type": "execute_result"
    }
   ],
   "source": [
    "plosW2V.most_similar('significance')"
   ]
  },
  {
   "cell_type": "code",
   "execution_count": 20,
   "metadata": {},
   "outputs": [],
   "source": [
    "def cos_difference(embedding,word1,word2):\n",
    "    return sklearn.metrics.pairwise.cosine_similarity(embedding[word1].reshape(1,-1),embedding[word2].reshape(1,-1))"
   ]
  },
  {
   "cell_type": "code",
   "execution_count": 35,
   "metadata": {},
   "outputs": [
    {
     "data": {
      "text/plain": [
       "array([[0.50376946]], dtype=float32)"
      ]
     },
     "execution_count": 35,
     "metadata": {},
     "output_type": "execute_result"
    }
   ],
   "source": [
    "#cos_difference gives the cosine difference between two words \n",
    "cos_difference(plosW2V, 'reproducible', 'consistent')"
   ]
  },
  {
   "cell_type": "code",
   "execution_count": 29,
   "metadata": {},
   "outputs": [
    {
     "data": {
      "text/plain": [
       "'credible'"
      ]
     },
     "execution_count": 29,
     "metadata": {},
     "output_type": "execute_result"
    }
   ],
   "source": [
    "#This allows me to see which word matches least to the other given words\n",
    "plosW2V.doesnt_match(['certainty', 'reproducible', 'credible', 'corroborated', 'correctness'])"
   ]
  },
  {
   "cell_type": "markdown",
   "metadata": {},
   "source": [
    "This following cell finds the vecotr that best fits the result of the given semantic equation X + Y - Z = _. For the given example risk is to error what mortality is to the list of given terms. Looks like 'morbidity' has the highest cosine similarity which makes sense. "
   ]
  },
  {
   "cell_type": "code",
   "execution_count": 30,
   "metadata": {},
   "outputs": [
    {
     "data": {
      "text/plain": [
       "[('morbidity', 0.7816211581230164),\n",
       " ('illness', 0.7312541007995605),\n",
       " ('complications', 0.7242752313613892),\n",
       " ('prognosis', 0.7210699915885925),\n",
       " ('incidence', 0.7206058502197266),\n",
       " ('burden', 0.7169721126556396),\n",
       " ('stroke', 0.7139813899993896),\n",
       " ('chronic', 0.7076979875564575),\n",
       " ('hypertension', 0.7045683860778809),\n",
       " ('asthma', 0.7015550136566162)]"
      ]
     },
     "execution_count": 30,
     "metadata": {},
     "output_type": "execute_result"
    }
   ],
   "source": [
    "plosW2V.most_similar(positive=['risk', 'mortality'], negative = ['error'])"
   ]
  },
  {
   "cell_type": "markdown",
   "metadata": {},
   "source": [
    "# Establishing Confidence Intervals \n",
    "## Bootstrapping Approach\n",
    "My corpus may be too large for the bootstrapping approach. "
   ]
  },
  {
   "cell_type": "code",
   "execution_count": null,
   "metadata": {},
   "outputs": [],
   "source": [
    "estimatesB=[]\n",
    "for x in range(20):\n",
    "    plosW2VB = gensim.models.word2vec.Word2Vec(plos_df['normalized_sents'].sample(frac=1.0, replace=True).sum())\n",
    "    try:\n",
    "        estimatesB.append(cos_difference(plosW2VB, 'reproducible', 'consistent')[0,0])\n",
    "    except KeyError:\n",
    "        #Missing one of the words from the vocab\n",
    "        pass\n",
    "                                                      \n",
    "estimatesB.sort()         \n",
    "estimatesB"
   ]
  },
  {
   "cell_type": "code",
   "execution_count": null,
   "metadata": {},
   "outputs": [],
   "source": [
    "print(\"The 90% confidence interval for the cosine distance between reproducible and consistent is:\\n\",estimatesB[1], estimatesB[-2])"
   ]
  },
  {
   "cell_type": "code",
   "execution_count": null,
   "metadata": {},
   "outputs": [],
   "source": [
    "count = 0\n",
    "for i in range(20):\n",
    "    print(count)\n",
    "    count = count + 1"
   ]
  },
  {
   "cell_type": "markdown",
   "metadata": {},
   "source": [
    "## Subsampling Approach "
   ]
  },
  {
   "cell_type": "code",
   "execution_count": 39,
   "metadata": {},
   "outputs": [
    {
     "name": "stdout",
     "output_type": "stream",
     "text": [
      "[0.99676597 0.96255332 0.97447199 0.99856055 0.97682631 0.98937196]\n",
      "[100.  98. 122.  95. 114.  98.]\n"
     ]
    }
   ],
   "source": [
    "n_samples = 10\n",
    "sample_indices = np.random.randint(0,n_samples,(len(plos_df),))\n",
    "\n",
    "s_k =np.array([])\n",
    "tau_k=np.array([])\n",
    "\n",
    "for i in range(n_samples):\n",
    "    sample_w2v = gensim.models.word2vec.Word2Vec(plos_df[sample_indices == i]['normalized_sents'].sum())\n",
    "    try:\n",
    "        #Need to use words present in most samples\n",
    "        s_k = np.append(s_k, cos_difference(sample_w2v, 'reproducible', 'consistent')[0,0])\n",
    "    except KeyError:\n",
    "        pass\n",
    "    else:\n",
    "        tau_k = np.append(tau_k, len(plos_df[sample_indices == i]))\n",
    "\n",
    "print(s_k)\n",
    "print(tau_k)\n",
    "\n",
    "tau = tau_k.sum()\n",
    "s = s_k.mean()\n",
    "B_k = np.sqrt(tau_k) * s_k-s_k.mean()"
   ]
  },
  {
   "cell_type": "code",
   "execution_count": 41,
   "metadata": {},
   "outputs": [
    {
     "name": "stdout",
     "output_type": "stream",
     "text": [
      "The 90% confidence interval for the cosine distance between reproducible and consistent is:\n",
      " 0.6058324440558707 0.6418092955391084\n"
     ]
    }
   ],
   "source": [
    "print(\"The 90% confidence interval for the cosine distance between reproducible and consistent is:\\n\",s-B_k[-2]/np.sqrt(tau), s-B_k[1]/np.sqrt(tau))"
   ]
  },
  {
   "cell_type": "code",
   "execution_count": 42,
   "metadata": {},
   "outputs": [],
   "source": [
    "#Saves vectors for later use\n",
    "plosW2V.save(\"plosWORD2Vec.mm\")\n",
    "#Load with senReleasesW2V = gensim.models.word2vec.Word2Vec.load('senpressreleasesWORD2Vec.mm')"
   ]
  },
  {
   "cell_type": "code",
   "execution_count": 55,
   "metadata": {},
   "outputs": [],
   "source": [
    "#The following cells will visualize the vectors I was just working with\n",
    "#Frirst I need to select a subset of the words to plot\n",
    "numWords = 150\n",
    "targetWords = plosW2V.wv.index2word[300:550]"
   ]
  },
  {
   "cell_type": "code",
   "execution_count": 56,
   "metadata": {},
   "outputs": [
    {
     "data": {
      "text/plain": [
       "array([[-1.2460146 ,  1.3008761 , -0.13415109, ...,  0.10260558,\n",
       "         1.4993452 ,  0.12039173],\n",
       "       [ 0.57468045,  0.8052336 , -0.04317578, ..., -0.93916696,\n",
       "         0.69151855, -0.47127777],\n",
       "       [ 1.0412905 , -1.2743227 ,  0.9639282 , ..., -0.5172845 ,\n",
       "        -1.0753914 , -2.3644407 ],\n",
       "       ...,\n",
       "       [ 0.8299264 ,  1.8758932 ,  0.60948753, ...,  0.80645925,\n",
       "         0.19794191, -0.94825643],\n",
       "       [-0.43143967, -0.57168627, -0.42768764, ..., -1.8073826 ,\n",
       "        -0.7492994 , -0.45382914],\n",
       "       [ 0.31770554,  0.24673975, -1.6611096 , ..., -0.44333106,\n",
       "        -1.9360582 , -0.27129084]], dtype=float32)"
      ]
     },
     "execution_count": 56,
     "metadata": {},
     "output_type": "execute_result"
    }
   ],
   "source": [
    "#This cell extracts the vectors from the subset of words and then creates a smaller matrix while preserving the distances from the original\n",
    "wordsSubMatrix = []\n",
    "for word in targetWords:\n",
    "    wordsSubMatrix.append(plosW2V[word])\n",
    "wordsSubMatrix = np.array(wordsSubMatrix)\n",
    "wordsSubMatrix"
   ]
  },
  {
   "cell_type": "code",
   "execution_count": 57,
   "metadata": {},
   "outputs": [],
   "source": [
    "#Dimension reduction using PCA, then projecting them down to the two I want to visualize\n",
    "pcaWords = sklearn.decomposition.PCA(n_components = 50).fit(wordsSubMatrix)\n",
    "reducedPCA_data = pcaWords.transform(wordsSubMatrix)\n",
    "#T-SNE is theoretically better, but you should experiment\n",
    "tsneWords = sklearn.manifold.TSNE(n_components = 2, early_exaggeration = 25).fit_transform(reducedPCA_data)"
   ]
  },
  {
   "cell_type": "code",
   "execution_count": 58,
   "metadata": {},
   "outputs": [
    {
     "data": {
      "image/png": "[encoded data removed]",
      "text/plain": [
       "<matplotlib.figure.Figure at 0x7fca9b8fb9e8>"
      ]
     },
     "metadata": {},
     "output_type": "display_data"
    }
   ],
   "source": [
    "fig = plt.figure(figsize = (15,10))\n",
    "ax = fig.add_subplot(111)\n",
    "ax.set_frame_on(False)\n",
    "plt.scatter(tsneWords[:, 0], tsneWords[:, 1], alpha = 0)#Making the points invisible \n",
    "for i, word in enumerate(targetWords):\n",
    "    ax.annotate(word, \n",
    "                (tsneWords[:, 0][i],tsneWords[:, 1][i]), \n",
    "                size =  20 * (numWords - i) / numWords, \n",
    "                alpha = .8 * (numWords - i) / numWords + .2)\n",
    "plt.xticks(())\n",
    "plt.yticks(())\n",
    "plt.show()"
   ]
  },
  {
   "cell_type": "markdown",
   "metadata": {},
   "source": [
    "There is  one more step that can be useful for knowing if the parameters of the model are correct. Some commentary from the homework is as follows:\n",
    "\n",
    "\"Another thing to consider in training is how we know that our parameters for the model are correct. We can do this by looking at the training loss of the model. Let's tart by training a new model, but this time we will expose most of the options and train it one epoch at a time.\"\n",
    "\n",
    "Instructions follow about plotting training loss.\n",
    "\n",
    "# Doc2Vec"
   ]
  },
  {
   "cell_type": "code",
   "execution_count": null,
   "metadata": {},
   "outputs": [],
   "source": [
    "keywords = ["
   ]
  },
  {
   "cell_type": "code",
   "execution_count": null,
   "metadata": {},
   "outputs": [],
   "source": [
    "plos_dfF['tokenized_words'] = plos_df['Article Contents'].apply(lambda x: nltk.word_tokenize(x))\n",
    "plos_df['normalized_words'] = plos_df['tokenized_words'].apply(lambda x: lucem_illud.normalizeTokens(x, stopwordLst = lucem_illud.stop_words_basic, stemmer = None))"
   ]
  },
  {
   "cell_type": "code",
   "execution_count": null,
   "metadata": {},
   "outputs": [],
   "source": []
  },
  {
   "cell_type": "code",
   "execution_count": null,
   "metadata": {},
   "outputs": [],
   "source": [
    "keywords = []"
   ]
  },
  {
   "cell_type": "code",
   "execution_count": null,
   "metadata": {},
   "outputs": [],
   "source": [
    "taggedDocs = []\n",
    "for index, row in apsDF.iterrows():\n",
    "    #Just doing a simple keyword assignment\n",
    "    docKeywords = [s for s in keywords if s in row['normalized_words']]\n",
    "    docKeywords.append(row['copyrightYear'])\n",
    "    docKeywords.append(row['doi']) #This lets us extract individual documnets since doi's are unique\n",
    "    taggedDocs.append(gensim.models.doc2vec.LabeledSentence(words = row['normalized_words'], tags = docKeywords))\n",
    "apsDF['TaggedAbstracts'] = taggedDocs"
   ]
  }
 ],
 "metadata": {
  "kernelspec": {
   "display_name": "Python 3",
   "language": "python",
   "name": "python3"
  },
  "language_info": {
   "codemirror_mode": {
    "name": "ipython",
    "version": 3
   },
   "file_extension": ".py",
   "mimetype": "text/x-python",
   "name": "python",
   "nbconvert_exporter": "python",
   "pygments_lexer": "ipython3",
   "version": "3.6.2"
  }
 },
 "nbformat": 4,
 "nbformat_minor": 2
}
