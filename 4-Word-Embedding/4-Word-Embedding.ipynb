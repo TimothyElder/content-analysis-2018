{
 "cells": [
  {
   "cell_type": "markdown",
   "metadata": {},
   "source": [
    "# Week 4 - Word Embeddings\n",
    "\n",
    "This week, we build on last week's topic modeling techniques by taking a text corpus we have developed, specifying an underlying number of dimensions, and training a model with a neural network auto-encoder (one of Google's word2vec  algorithms) that best describes corpus words in their local linguistic contexts, and exploring their locations in the resulting space to learn about the discursive culture that produced them. Documents here are represented as densely indexed locations in dimensions, rather than sparse mixtures of topics (as in LDA topic modeling), so that distances between those documents (and words) are consistently superior, though they require the full vector of dimension loadings (rather than just a few selected topic loadings) to describe. We will explore these spaces to understand complex, semantic relationships between words, index documents with descriptive words, identify the likelihood that a given document would have been produced by a given vector model, and explore how semantic categories can help us understand the cultures that produced them.\n",
    "\n",
    "For this notebook we will be using the following packages"
   ]
  },
  {
   "cell_type": "code",
   "execution_count": 1,
   "metadata": {},
   "outputs": [],
   "source": [
    "#Special module written for this class\n",
    "#This provides access to data and to helper functions from previous weeks\n",
    "#Make sure you update it before starting this notebook\n",
    "import lucem_illud #pip install -U git+git://github.com/Computational-Content-Analysis-2018/lucem_illud.git\n",
    "\n",
    "#All these packages need to be installed from pip\n",
    "import gensim#For word2vec, etc\n",
    "import requests #For downloading our datasets\n",
    "import nltk #For stop words and stemmers\n",
    "import numpy as np #For arrays\n",
    "import pandas #Gives us DataFrames\n",
    "import matplotlib.pyplot as plt #For graphics\n",
    "import seaborn #Makes the graphics look nicer\n",
    "import sklearn.metrics.pairwise #For cosine similarity\n",
    "import sklearn.manifold #For T-SNE\n",
    "import sklearn.decomposition #For PCA\n",
    "\n",
    "#gensim uses a couple of deprecated features\n",
    "#we can't do anything about them so lets ignore them \n",
    "import warnings\n",
    "warnings.filterwarnings(\"ignore\", category=DeprecationWarning) \n",
    "\n",
    "#This 'magic' command makes the plots work better\n",
    "#in the notebook, don't use it outside of a notebook.\n",
    "#Also you can ignore the warning\n",
    "%matplotlib inline\n",
    "\n",
    "import os #For looking through files\n",
    "import os.path #For managing file paths\n",
    "from bs4 import BeautifulSoup"
   ]
  },
  {
   "cell_type": "markdown",
   "metadata": {},
   "source": [
    "# Getting our corpora\n",
    "\n",
    "Instead of downloading our corpora, we have download them in advance; a subset of the [senate press releases](https://github.com/lintool/GrimmerSenatePressReleases) are in `grimmerPressReleases`. We will load them into a DataFrame, using a function from a couple weeks ago `loadTextDirectory`:"
   ]
  },
  {
   "cell_type": "code",
   "execution_count": 42,
   "metadata": {},
   "outputs": [
    {
     "data": {
      "text/html": [
       "<div>\n",
       "<style scoped>\n",
       "    .dataframe tbody tr th:only-of-type {\n",
       "        vertical-align: middle;\n",
       "    }\n",
       "\n",
       "    .dataframe tbody tr th {\n",
       "        vertical-align: top;\n",
       "    }\n",
       "\n",
       "    .dataframe thead th {\n",
       "        text-align: right;\n",
       "    }\n",
       "</style>\n",
       "<table border=\"1\" class=\"dataframe\">\n",
       "  <thead>\n",
       "    <tr style=\"text-align: right;\">\n",
       "      <th></th>\n",
       "      <th>text</th>\n",
       "    </tr>\n",
       "  </thead>\n",
       "  <tbody>\n",
       "    <tr>\n",
       "      <th>25Jan2007Kennedy4.txt</th>\n",
       "      <td>FOR IMMEDIATE RELEASE    FACT SHEET I...</td>\n",
       "    </tr>\n",
       "    <tr>\n",
       "      <th>20Oct2005Kennedy14.txt</th>\n",
       "      <td>FOR IMMEDIATE RELEASE     As this bil...</td>\n",
       "    </tr>\n",
       "    <tr>\n",
       "      <th>03Mar2007Kennedy7.txt</th>\n",
       "      <td>FOR IMMEDIATE RELEASE     Ann Coulter...</td>\n",
       "    </tr>\n",
       "    <tr>\n",
       "      <th>10Jul2007Kennedy8.txt</th>\n",
       "      <td>FOR IMMEDIATE RELEASE  Thank you all ...</td>\n",
       "    </tr>\n",
       "    <tr>\n",
       "      <th>20Jul2007Kennedy14.txt</th>\n",
       "      <td>FOR IMMEDIATE RELEASE  WASHINGTON  DC...</td>\n",
       "    </tr>\n",
       "  </tbody>\n",
       "</table>\n",
       "</div>"
      ],
      "text/plain": [
       "                                                                     text\n",
       "25Jan2007Kennedy4.txt            FOR IMMEDIATE RELEASE    FACT SHEET I...\n",
       "20Oct2005Kennedy14.txt           FOR IMMEDIATE RELEASE     As this bil...\n",
       "03Mar2007Kennedy7.txt            FOR IMMEDIATE RELEASE     Ann Coulter...\n",
       "10Jul2007Kennedy8.txt            FOR IMMEDIATE RELEASE  Thank you all ...\n",
       "20Jul2007Kennedy14.txt           FOR IMMEDIATE RELEASE  WASHINGTON  DC..."
      ]
     },
     "execution_count": 42,
     "metadata": {},
     "output_type": "execute_result"
    }
   ],
   "source": [
    "kennedyDF = lucem_illud.loadTextDirectory('../data/grimmerPressReleases/Kennedy/')\n",
    "kennedyDF[:5]"
   ]
  },
  {
   "cell_type": "markdown",
   "metadata": {},
   "source": [
    "This gets us one Senator's data, but with no metadata, we can add a category column with a simple command:"
   ]
  },
  {
   "cell_type": "code",
   "execution_count": 43,
   "metadata": {},
   "outputs": [
    {
     "data": {
      "text/html": [
       "<div>\n",
       "<style scoped>\n",
       "    .dataframe tbody tr th:only-of-type {\n",
       "        vertical-align: middle;\n",
       "    }\n",
       "\n",
       "    .dataframe tbody tr th {\n",
       "        vertical-align: top;\n",
       "    }\n",
       "\n",
       "    .dataframe thead th {\n",
       "        text-align: right;\n",
       "    }\n",
       "</style>\n",
       "<table border=\"1\" class=\"dataframe\">\n",
       "  <thead>\n",
       "    <tr style=\"text-align: right;\">\n",
       "      <th></th>\n",
       "      <th>text</th>\n",
       "      <th>category</th>\n",
       "    </tr>\n",
       "  </thead>\n",
       "  <tbody>\n",
       "    <tr>\n",
       "      <th>25Jan2007Kennedy4.txt</th>\n",
       "      <td>FOR IMMEDIATE RELEASE    FACT SHEET I...</td>\n",
       "      <td>Kennedy</td>\n",
       "    </tr>\n",
       "    <tr>\n",
       "      <th>20Oct2005Kennedy14.txt</th>\n",
       "      <td>FOR IMMEDIATE RELEASE     As this bil...</td>\n",
       "      <td>Kennedy</td>\n",
       "    </tr>\n",
       "    <tr>\n",
       "      <th>03Mar2007Kennedy7.txt</th>\n",
       "      <td>FOR IMMEDIATE RELEASE     Ann Coulter...</td>\n",
       "      <td>Kennedy</td>\n",
       "    </tr>\n",
       "    <tr>\n",
       "      <th>10Jul2007Kennedy8.txt</th>\n",
       "      <td>FOR IMMEDIATE RELEASE  Thank you all ...</td>\n",
       "      <td>Kennedy</td>\n",
       "    </tr>\n",
       "    <tr>\n",
       "      <th>20Jul2007Kennedy14.txt</th>\n",
       "      <td>FOR IMMEDIATE RELEASE  WASHINGTON  DC...</td>\n",
       "      <td>Kennedy</td>\n",
       "    </tr>\n",
       "  </tbody>\n",
       "</table>\n",
       "</div>"
      ],
      "text/plain": [
       "                                                                     text  \\\n",
       "25Jan2007Kennedy4.txt            FOR IMMEDIATE RELEASE    FACT SHEET I...   \n",
       "20Oct2005Kennedy14.txt           FOR IMMEDIATE RELEASE     As this bil...   \n",
       "03Mar2007Kennedy7.txt            FOR IMMEDIATE RELEASE     Ann Coulter...   \n",
       "10Jul2007Kennedy8.txt            FOR IMMEDIATE RELEASE  Thank you all ...   \n",
       "20Jul2007Kennedy14.txt           FOR IMMEDIATE RELEASE  WASHINGTON  DC...   \n",
       "\n",
       "                       category  \n",
       "25Jan2007Kennedy4.txt   Kennedy  \n",
       "20Oct2005Kennedy14.txt  Kennedy  \n",
       "03Mar2007Kennedy7.txt   Kennedy  \n",
       "10Jul2007Kennedy8.txt   Kennedy  \n",
       "20Jul2007Kennedy14.txt  Kennedy  "
      ]
     },
     "execution_count": 43,
     "metadata": {},
     "output_type": "execute_result"
    }
   ],
   "source": [
    "kennedyDF['category'] = 'Kennedy'\n",
    "kennedyDF[:5]"
   ]
  },
  {
   "cell_type": "markdown",
   "metadata": {},
   "source": [
    "We also will be wanting to load all the senators so we will need to loop over all the directories"
   ]
  },
  {
   "cell_type": "code",
   "execution_count": 44,
   "metadata": {},
   "outputs": [
    {
     "data": {
      "text/html": [
       "<div>\n",
       "<style scoped>\n",
       "    .dataframe tbody tr th:only-of-type {\n",
       "        vertical-align: middle;\n",
       "    }\n",
       "\n",
       "    .dataframe tbody tr th {\n",
       "        vertical-align: top;\n",
       "    }\n",
       "\n",
       "    .dataframe thead th {\n",
       "        text-align: right;\n",
       "    }\n",
       "</style>\n",
       "<table border=\"1\" class=\"dataframe\">\n",
       "  <thead>\n",
       "    <tr style=\"text-align: right;\">\n",
       "      <th></th>\n",
       "      <th>text</th>\n",
       "      <th>category</th>\n",
       "    </tr>\n",
       "  </thead>\n",
       "  <tbody>\n",
       "    <tr>\n",
       "      <th>19Mar2007Kyl117.txt</th>\n",
       "      <td>SECURITY ON STRIKE\\n  The U.S. Senate recently...</td>\n",
       "      <td>Kyl</td>\n",
       "    </tr>\n",
       "    <tr>\n",
       "      <th>10Nov2005Kyl304.txt</th>\n",
       "      <td>SEN. KYL AMENDMENT ON HUMVEE UPGRADE PASSES SE...</td>\n",
       "      <td>Kyl</td>\n",
       "    </tr>\n",
       "    <tr>\n",
       "      <th>6Dec2007Kyl46.txt</th>\n",
       "      <td>SEN. KYL ELECTED ASSISTANT SENATE REPUBLICAN L...</td>\n",
       "      <td>Kyl</td>\n",
       "    </tr>\n",
       "    <tr>\n",
       "      <th>29Aug2005Kyl347.txt</th>\n",
       "      <td>SEN. KYL: GOOD NEWS AND BAD NEWS FOR BACK TO S...</td>\n",
       "      <td>Kyl</td>\n",
       "    </tr>\n",
       "    <tr>\n",
       "      <th>11Sep2006Kyl161.txt</th>\n",
       "      <td>SENATE COMMEMORATES FIVE YEAR MARK OF 9/11 ATT...</td>\n",
       "      <td>Kyl</td>\n",
       "    </tr>\n",
       "    <tr>\n",
       "      <th>13Jul2006Kyl186.txt</th>\n",
       "      <td>SEN. KYL WINS AMENDMENT TO CURTAIL 'CATCH AND ...</td>\n",
       "      <td>Kyl</td>\n",
       "    </tr>\n",
       "    <tr>\n",
       "      <th>28Jun2005Kyl370.txt</th>\n",
       "      <td>SENS. MCCAIN, KYL SAY NO TO ENERGY BILL\\n  Sen...</td>\n",
       "      <td>Kyl</td>\n",
       "    </tr>\n",
       "    <tr>\n",
       "      <th>14Jul2004Kyl473.txt</th>\n",
       "      <td>SEN. KYL COSPONSORS BILL TO FIGHT CRIME, TERRO...</td>\n",
       "      <td>Kyl</td>\n",
       "    </tr>\n",
       "    <tr>\n",
       "      <th>9Mar2006Kyl246.txt</th>\n",
       "      <td>SEN. KYL, REP. GRIJALVA APPLAUD SENATE COMMITT...</td>\n",
       "      <td>Kyl</td>\n",
       "    </tr>\n",
       "    <tr>\n",
       "      <th>15Dec2005Kyl288.txt</th>\n",
       "      <td>SEN. KYL CITES EPA 'FLEXIBILITY' ON AZ WATER\\n...</td>\n",
       "      <td>Kyl</td>\n",
       "    </tr>\n",
       "    <tr>\n",
       "      <th>10Aug2007Kyl74.txt</th>\n",
       "      <td>SEN. KYL ISSUES STATEMENT ON WHITE HOUSE BORDE...</td>\n",
       "      <td>Kyl</td>\n",
       "    </tr>\n",
       "    <tr>\n",
       "      <th>26Apr2006Kyl228.txt</th>\n",
       "      <td>SEN. KYL, SENATE APPROVES $1.9 BILLION FOR BOR...</td>\n",
       "      <td>Kyl</td>\n",
       "    </tr>\n",
       "    <tr>\n",
       "      <th>22Jun2004Kyl485.txt</th>\n",
       "      <td>SUBCOMMITTEE HEARING REVIEWS NEW TOOLS FOR FIG...</td>\n",
       "      <td>Kyl</td>\n",
       "    </tr>\n",
       "    <tr>\n",
       "      <th>6Mar2006Kyl250.txt</th>\n",
       "      <td>SEN. KYL MEASURE ENSURES ARIZONA'S SHARE OF HO...</td>\n",
       "      <td>Kyl</td>\n",
       "    </tr>\n",
       "    <tr>\n",
       "      <th>27Jul2006Kyl176.txt</th>\n",
       "      <td>SEN. KYL HAILS ENACTMENT OF CHILD PROTECTION A...</td>\n",
       "      <td>Kyl</td>\n",
       "    </tr>\n",
       "    <tr>\n",
       "      <th>25Jan2007Kyl134.txt</th>\n",
       "      <td>SEN. KYL-BACKED BILL CREATES FIVE NEW FEDERAL ...</td>\n",
       "      <td>Kyl</td>\n",
       "    </tr>\n",
       "    <tr>\n",
       "      <th>3Jan2005Kyl422.txt</th>\n",
       "      <td>GOOD NEWS, BAD NEWS ABOUT LOWERING PRESCRIPTIO...</td>\n",
       "      <td>Kyl</td>\n",
       "    </tr>\n",
       "    <tr>\n",
       "      <th>6Mar2006Kyl251.txt</th>\n",
       "      <td>THE STATE OF NATIONAL SECURITY\\n  By U.S. Sena...</td>\n",
       "      <td>Kyl</td>\n",
       "    </tr>\n",
       "    <tr>\n",
       "      <th>4Jun2007Kyl94.txt</th>\n",
       "      <td>LEGISLATIVE BLACKMAIL\\n  Congress recently app...</td>\n",
       "      <td>Kyl</td>\n",
       "    </tr>\n",
       "    <tr>\n",
       "      <th>24Dec2007Kyl36.txt</th>\n",
       "      <td>WRAPPING UP THE YEAR\\n  The Senate's last day ...</td>\n",
       "      <td>Kyl</td>\n",
       "    </tr>\n",
       "    <tr>\n",
       "      <th>15Nov2004Kyl436.txt</th>\n",
       "      <td>SEN. KYL COMMENTS ON BUSH CABINET DEPARTURES\\n...</td>\n",
       "      <td>Kyl</td>\n",
       "    </tr>\n",
       "    <tr>\n",
       "      <th>1Aug2006Kyl174.txt</th>\n",
       "      <td>SEN. KYL, SENATE APPROVE GULF OF MEXICO ENERGY...</td>\n",
       "      <td>Kyl</td>\n",
       "    </tr>\n",
       "    <tr>\n",
       "      <th>17Mar2005Kyl399.txt</th>\n",
       "      <td>SEN. KYL CRITICIZES MEXICAN PRESIDENT FOR THRE...</td>\n",
       "      <td>Kyl</td>\n",
       "    </tr>\n",
       "    <tr>\n",
       "      <th>14Apr2008Kyl3.txt</th>\n",
       "      <td>FURTHER PROGRESS IN IRAQ\\n  Last week, the U.S...</td>\n",
       "      <td>Kyl</td>\n",
       "    </tr>\n",
       "    <tr>\n",
       "      <th>28Sep2005Kyl327.txt</th>\n",
       "      <td>SEN. KYL ADDRESSES HISPANIC LEADERSHIP SUMMIT ...</td>\n",
       "      <td>Kyl</td>\n",
       "    </tr>\n",
       "    <tr>\n",
       "      <th>26Jul2004Kyl467.txt</th>\n",
       "      <td>AN AUGUST REPORT FROM THE SENATE\\n  By Sen. Jo...</td>\n",
       "      <td>Kyl</td>\n",
       "    </tr>\n",
       "    <tr>\n",
       "      <th>26Feb2007Kyl125.txt</th>\n",
       "      <td>CAUTIOUS OPTIMISM\\n  I recently had the opport...</td>\n",
       "      <td>Kyl</td>\n",
       "    </tr>\n",
       "    <tr>\n",
       "      <th>31Jul2006Kyl175.txt</th>\n",
       "      <td>GETTING TOUGH ON CHILD PREDATORS\\n  It was onl...</td>\n",
       "      <td>Kyl</td>\n",
       "    </tr>\n",
       "    <tr>\n",
       "      <th>8Jun2006Kyl204.txt</th>\n",
       "      <td>SEN. KYL ISSUES STATEMENT REGARDING DEATH OF A...</td>\n",
       "      <td>Kyl</td>\n",
       "    </tr>\n",
       "    <tr>\n",
       "      <th>11Dec2006Kyl147.txt</th>\n",
       "      <td>SEN. KYL NAMES NEW LEADERSHIP STAFF TEAM TO SE...</td>\n",
       "      <td>Kyl</td>\n",
       "    </tr>\n",
       "    <tr>\n",
       "      <th>...</th>\n",
       "      <td>...</td>\n",
       "      <td>...</td>\n",
       "    </tr>\n",
       "    <tr>\n",
       "      <th>17Jul2006Kerry86.txt</th>\n",
       "      <td>Releases                               ...</td>\n",
       "      <td>Kerry</td>\n",
       "    </tr>\n",
       "    <tr>\n",
       "      <th>21Dec2005Kerry1.txt</th>\n",
       "      <td>Releases                               ...</td>\n",
       "      <td>Kerry</td>\n",
       "    </tr>\n",
       "    <tr>\n",
       "      <th>08Dec2005Kerry6.txt</th>\n",
       "      <td>Releases                               ...</td>\n",
       "      <td>Kerry</td>\n",
       "    </tr>\n",
       "    <tr>\n",
       "      <th>02Feb2005Kerry261.txt</th>\n",
       "      <td>Releases                               ...</td>\n",
       "      <td>Kerry</td>\n",
       "    </tr>\n",
       "    <tr>\n",
       "      <th>07Jul2007Kerry261.txt</th>\n",
       "      <td>Releases                               ...</td>\n",
       "      <td>Kerry</td>\n",
       "    </tr>\n",
       "    <tr>\n",
       "      <th>12Oct2005Kerry63.txt</th>\n",
       "      <td>Releases                               ...</td>\n",
       "      <td>Kerry</td>\n",
       "    </tr>\n",
       "    <tr>\n",
       "      <th>19May2005Kerry179.txt</th>\n",
       "      <td>Releases                               ...</td>\n",
       "      <td>Kerry</td>\n",
       "    </tr>\n",
       "    <tr>\n",
       "      <th>26Jun2007Kerry285.txt</th>\n",
       "      <td>Releases                               ...</td>\n",
       "      <td>Kerry</td>\n",
       "    </tr>\n",
       "    <tr>\n",
       "      <th>04Aug2006Kerry65.txt</th>\n",
       "      <td>Releases                               ...</td>\n",
       "      <td>Kerry</td>\n",
       "    </tr>\n",
       "    <tr>\n",
       "      <th>03Aug2007Kerry201.txt</th>\n",
       "      <td>Releases                               ...</td>\n",
       "      <td>Kerry</td>\n",
       "    </tr>\n",
       "    <tr>\n",
       "      <th>18Jul2005Kerry120.txt</th>\n",
       "      <td>Releases                               ...</td>\n",
       "      <td>Kerry</td>\n",
       "    </tr>\n",
       "    <tr>\n",
       "      <th>23Apr2006Kerry137.txt</th>\n",
       "      <td>Releases                               ...</td>\n",
       "      <td>Kerry</td>\n",
       "    </tr>\n",
       "    <tr>\n",
       "      <th>15Feb2007Kerry458.txt</th>\n",
       "      <td>Releases                               ...</td>\n",
       "      <td>Kerry</td>\n",
       "    </tr>\n",
       "    <tr>\n",
       "      <th>19Jul2005Kerry117.txt</th>\n",
       "      <td>Releases                               ...</td>\n",
       "      <td>Kerry</td>\n",
       "    </tr>\n",
       "    <tr>\n",
       "      <th>08Jun2007Kerry318.txt</th>\n",
       "      <td>Releases                               ...</td>\n",
       "      <td>Kerry</td>\n",
       "    </tr>\n",
       "    <tr>\n",
       "      <th>12Apr2007Kerry378.txt</th>\n",
       "      <td>Releases                               ...</td>\n",
       "      <td>Kerry</td>\n",
       "    </tr>\n",
       "    <tr>\n",
       "      <th>10Jul2007Kerry255.txt</th>\n",
       "      <td>Releases                               ...</td>\n",
       "      <td>Kerry</td>\n",
       "    </tr>\n",
       "    <tr>\n",
       "      <th>06Mar2007Kerry435.txt</th>\n",
       "      <td>Releases                               ...</td>\n",
       "      <td>Kerry</td>\n",
       "    </tr>\n",
       "    <tr>\n",
       "      <th>19Sep2006Kerry41.txt</th>\n",
       "      <td>Releases                               ...</td>\n",
       "      <td>Kerry</td>\n",
       "    </tr>\n",
       "    <tr>\n",
       "      <th>12Jul2007Kerry251.txt</th>\n",
       "      <td>Releases                               ...</td>\n",
       "      <td>Kerry</td>\n",
       "    </tr>\n",
       "    <tr>\n",
       "      <th>17Sep2007Kerry157.txt</th>\n",
       "      <td>Releases                               ...</td>\n",
       "      <td>Kerry</td>\n",
       "    </tr>\n",
       "    <tr>\n",
       "      <th>04Nov2005Kerry34.txt</th>\n",
       "      <td>Releases                               ...</td>\n",
       "      <td>Kerry</td>\n",
       "    </tr>\n",
       "    <tr>\n",
       "      <th>12Aug2005Kerry97.txt</th>\n",
       "      <td>Releases                               ...</td>\n",
       "      <td>Kerry</td>\n",
       "    </tr>\n",
       "    <tr>\n",
       "      <th>24Apr2007Kerry363.txt</th>\n",
       "      <td>Releases                               ...</td>\n",
       "      <td>Kerry</td>\n",
       "    </tr>\n",
       "    <tr>\n",
       "      <th>05Sep2007Kerry174.txt</th>\n",
       "      <td>Releases                               ...</td>\n",
       "      <td>Kerry</td>\n",
       "    </tr>\n",
       "    <tr>\n",
       "      <th>12Apr2005Kerry207.txt</th>\n",
       "      <td>Releases                               ...</td>\n",
       "      <td>Kerry</td>\n",
       "    </tr>\n",
       "    <tr>\n",
       "      <th>12Jun2007Kerry315.txt</th>\n",
       "      <td>Releases                               ...</td>\n",
       "      <td>Kerry</td>\n",
       "    </tr>\n",
       "    <tr>\n",
       "      <th>07May2007Kerry353.txt</th>\n",
       "      <td>Releases                               ...</td>\n",
       "      <td>Kerry</td>\n",
       "    </tr>\n",
       "    <tr>\n",
       "      <th>20Sep2007Kerry147.txt</th>\n",
       "      <td>Releases                               ...</td>\n",
       "      <td>Kerry</td>\n",
       "    </tr>\n",
       "    <tr>\n",
       "      <th>25Aug2006Kerry56.txt</th>\n",
       "      <td>Releases                               ...</td>\n",
       "      <td>Kerry</td>\n",
       "    </tr>\n",
       "  </tbody>\n",
       "</table>\n",
       "<p>3904 rows × 2 columns</p>\n",
       "</div>"
      ],
      "text/plain": [
       "                                                                    text  \\\n",
       "19Mar2007Kyl117.txt    SECURITY ON STRIKE\\n  The U.S. Senate recently...   \n",
       "10Nov2005Kyl304.txt    SEN. KYL AMENDMENT ON HUMVEE UPGRADE PASSES SE...   \n",
       "6Dec2007Kyl46.txt      SEN. KYL ELECTED ASSISTANT SENATE REPUBLICAN L...   \n",
       "29Aug2005Kyl347.txt    SEN. KYL: GOOD NEWS AND BAD NEWS FOR BACK TO S...   \n",
       "11Sep2006Kyl161.txt    SENATE COMMEMORATES FIVE YEAR MARK OF 9/11 ATT...   \n",
       "13Jul2006Kyl186.txt    SEN. KYL WINS AMENDMENT TO CURTAIL 'CATCH AND ...   \n",
       "28Jun2005Kyl370.txt    SENS. MCCAIN, KYL SAY NO TO ENERGY BILL\\n  Sen...   \n",
       "14Jul2004Kyl473.txt    SEN. KYL COSPONSORS BILL TO FIGHT CRIME, TERRO...   \n",
       "9Mar2006Kyl246.txt     SEN. KYL, REP. GRIJALVA APPLAUD SENATE COMMITT...   \n",
       "15Dec2005Kyl288.txt    SEN. KYL CITES EPA 'FLEXIBILITY' ON AZ WATER\\n...   \n",
       "10Aug2007Kyl74.txt     SEN. KYL ISSUES STATEMENT ON WHITE HOUSE BORDE...   \n",
       "26Apr2006Kyl228.txt    SEN. KYL, SENATE APPROVES $1.9 BILLION FOR BOR...   \n",
       "22Jun2004Kyl485.txt    SUBCOMMITTEE HEARING REVIEWS NEW TOOLS FOR FIG...   \n",
       "6Mar2006Kyl250.txt     SEN. KYL MEASURE ENSURES ARIZONA'S SHARE OF HO...   \n",
       "27Jul2006Kyl176.txt    SEN. KYL HAILS ENACTMENT OF CHILD PROTECTION A...   \n",
       "25Jan2007Kyl134.txt    SEN. KYL-BACKED BILL CREATES FIVE NEW FEDERAL ...   \n",
       "3Jan2005Kyl422.txt     GOOD NEWS, BAD NEWS ABOUT LOWERING PRESCRIPTIO...   \n",
       "6Mar2006Kyl251.txt     THE STATE OF NATIONAL SECURITY\\n  By U.S. Sena...   \n",
       "4Jun2007Kyl94.txt      LEGISLATIVE BLACKMAIL\\n  Congress recently app...   \n",
       "24Dec2007Kyl36.txt     WRAPPING UP THE YEAR\\n  The Senate's last day ...   \n",
       "15Nov2004Kyl436.txt    SEN. KYL COMMENTS ON BUSH CABINET DEPARTURES\\n...   \n",
       "1Aug2006Kyl174.txt     SEN. KYL, SENATE APPROVE GULF OF MEXICO ENERGY...   \n",
       "17Mar2005Kyl399.txt    SEN. KYL CRITICIZES MEXICAN PRESIDENT FOR THRE...   \n",
       "14Apr2008Kyl3.txt      FURTHER PROGRESS IN IRAQ\\n  Last week, the U.S...   \n",
       "28Sep2005Kyl327.txt    SEN. KYL ADDRESSES HISPANIC LEADERSHIP SUMMIT ...   \n",
       "26Jul2004Kyl467.txt    AN AUGUST REPORT FROM THE SENATE\\n  By Sen. Jo...   \n",
       "26Feb2007Kyl125.txt    CAUTIOUS OPTIMISM\\n  I recently had the opport...   \n",
       "31Jul2006Kyl175.txt    GETTING TOUGH ON CHILD PREDATORS\\n  It was onl...   \n",
       "8Jun2006Kyl204.txt     SEN. KYL ISSUES STATEMENT REGARDING DEATH OF A...   \n",
       "11Dec2006Kyl147.txt    SEN. KYL NAMES NEW LEADERSHIP STAFF TEAM TO SE...   \n",
       "...                                                                  ...   \n",
       "17Jul2006Kerry86.txt          Releases                               ...   \n",
       "21Dec2005Kerry1.txt           Releases                               ...   \n",
       "08Dec2005Kerry6.txt           Releases                               ...   \n",
       "02Feb2005Kerry261.txt         Releases                               ...   \n",
       "07Jul2007Kerry261.txt         Releases                               ...   \n",
       "12Oct2005Kerry63.txt          Releases                               ...   \n",
       "19May2005Kerry179.txt         Releases                               ...   \n",
       "26Jun2007Kerry285.txt         Releases                               ...   \n",
       "04Aug2006Kerry65.txt          Releases                               ...   \n",
       "03Aug2007Kerry201.txt         Releases                               ...   \n",
       "18Jul2005Kerry120.txt         Releases                               ...   \n",
       "23Apr2006Kerry137.txt         Releases                               ...   \n",
       "15Feb2007Kerry458.txt         Releases                               ...   \n",
       "19Jul2005Kerry117.txt         Releases                               ...   \n",
       "08Jun2007Kerry318.txt         Releases                               ...   \n",
       "12Apr2007Kerry378.txt         Releases                               ...   \n",
       "10Jul2007Kerry255.txt         Releases                               ...   \n",
       "06Mar2007Kerry435.txt         Releases                               ...   \n",
       "19Sep2006Kerry41.txt          Releases                               ...   \n",
       "12Jul2007Kerry251.txt         Releases                               ...   \n",
       "17Sep2007Kerry157.txt         Releases                               ...   \n",
       "04Nov2005Kerry34.txt          Releases                               ...   \n",
       "12Aug2005Kerry97.txt          Releases                               ...   \n",
       "24Apr2007Kerry363.txt         Releases                               ...   \n",
       "05Sep2007Kerry174.txt         Releases                               ...   \n",
       "12Apr2005Kerry207.txt         Releases                               ...   \n",
       "12Jun2007Kerry315.txt         Releases                               ...   \n",
       "07May2007Kerry353.txt         Releases                               ...   \n",
       "20Sep2007Kerry147.txt         Releases                               ...   \n",
       "25Aug2006Kerry56.txt          Releases                               ...   \n",
       "\n",
       "                      category  \n",
       "19Mar2007Kyl117.txt        Kyl  \n",
       "10Nov2005Kyl304.txt        Kyl  \n",
       "6Dec2007Kyl46.txt          Kyl  \n",
       "29Aug2005Kyl347.txt        Kyl  \n",
       "11Sep2006Kyl161.txt        Kyl  \n",
       "13Jul2006Kyl186.txt        Kyl  \n",
       "28Jun2005Kyl370.txt        Kyl  \n",
       "14Jul2004Kyl473.txt        Kyl  \n",
       "9Mar2006Kyl246.txt         Kyl  \n",
       "15Dec2005Kyl288.txt        Kyl  \n",
       "10Aug2007Kyl74.txt         Kyl  \n",
       "26Apr2006Kyl228.txt        Kyl  \n",
       "22Jun2004Kyl485.txt        Kyl  \n",
       "6Mar2006Kyl250.txt         Kyl  \n",
       "27Jul2006Kyl176.txt        Kyl  \n",
       "25Jan2007Kyl134.txt        Kyl  \n",
       "3Jan2005Kyl422.txt         Kyl  \n",
       "6Mar2006Kyl251.txt         Kyl  \n",
       "4Jun2007Kyl94.txt          Kyl  \n",
       "24Dec2007Kyl36.txt         Kyl  \n",
       "15Nov2004Kyl436.txt        Kyl  \n",
       "1Aug2006Kyl174.txt         Kyl  \n",
       "17Mar2005Kyl399.txt        Kyl  \n",
       "14Apr2008Kyl3.txt          Kyl  \n",
       "28Sep2005Kyl327.txt        Kyl  \n",
       "26Jul2004Kyl467.txt        Kyl  \n",
       "26Feb2007Kyl125.txt        Kyl  \n",
       "31Jul2006Kyl175.txt        Kyl  \n",
       "8Jun2006Kyl204.txt         Kyl  \n",
       "11Dec2006Kyl147.txt        Kyl  \n",
       "...                        ...  \n",
       "17Jul2006Kerry86.txt     Kerry  \n",
       "21Dec2005Kerry1.txt      Kerry  \n",
       "08Dec2005Kerry6.txt      Kerry  \n",
       "02Feb2005Kerry261.txt    Kerry  \n",
       "07Jul2007Kerry261.txt    Kerry  \n",
       "12Oct2005Kerry63.txt     Kerry  \n",
       "19May2005Kerry179.txt    Kerry  \n",
       "26Jun2007Kerry285.txt    Kerry  \n",
       "04Aug2006Kerry65.txt     Kerry  \n",
       "03Aug2007Kerry201.txt    Kerry  \n",
       "18Jul2005Kerry120.txt    Kerry  \n",
       "23Apr2006Kerry137.txt    Kerry  \n",
       "15Feb2007Kerry458.txt    Kerry  \n",
       "19Jul2005Kerry117.txt    Kerry  \n",
       "08Jun2007Kerry318.txt    Kerry  \n",
       "12Apr2007Kerry378.txt    Kerry  \n",
       "10Jul2007Kerry255.txt    Kerry  \n",
       "06Mar2007Kerry435.txt    Kerry  \n",
       "19Sep2006Kerry41.txt     Kerry  \n",
       "12Jul2007Kerry251.txt    Kerry  \n",
       "17Sep2007Kerry157.txt    Kerry  \n",
       "04Nov2005Kerry34.txt     Kerry  \n",
       "12Aug2005Kerry97.txt     Kerry  \n",
       "24Apr2007Kerry363.txt    Kerry  \n",
       "05Sep2007Kerry174.txt    Kerry  \n",
       "12Apr2005Kerry207.txt    Kerry  \n",
       "12Jun2007Kerry315.txt    Kerry  \n",
       "07May2007Kerry353.txt    Kerry  \n",
       "20Sep2007Kerry147.txt    Kerry  \n",
       "25Aug2006Kerry56.txt     Kerry  \n",
       "\n",
       "[3904 rows x 2 columns]"
      ]
     },
     "execution_count": 44,
     "metadata": {},
     "output_type": "execute_result"
    }
   ],
   "source": [
    "dataDir = '../data/grimmerPressReleases'\n",
    "\n",
    "senReleasesDF = pandas.DataFrame()\n",
    "\n",
    "for senatorDir in (file for file in os.scandir(dataDir) if not file.name.startswith('.') and file.is_dir()):\n",
    "    senDF = lucem_illud.loadTextDirectory(senatorDir.path)\n",
    "    senDF['category'] = senatorDir.name\n",
    "    senReleasesDF = senReleasesDF.append(senDF, ignore_index = False)\n",
    "\n",
    "senReleasesDF"
   ]
  },
  {
   "cell_type": "markdown",
   "metadata": {},
   "source": [
    "We also want to remove stop words and stem. Tokenizing requires two steps. Word2Vec needs to retain the sentence structure so as to capture a \"continuous bag of words (CBOW)\" and all of the skip-grams within a word window. The algorithm tries to preserve the distances induced by one of these two local structures. This is very different from clustering and LDA topic modeling which extract unordered words alone. As such, tokenizing is slightly more involved, but we can still use `lucem_illud`."
   ]
  },
  {
   "cell_type": "code",
   "execution_count": 45,
   "metadata": {},
   "outputs": [
    {
     "data": {
      "text/html": [
       "<div>\n",
       "<style scoped>\n",
       "    .dataframe tbody tr th:only-of-type {\n",
       "        vertical-align: middle;\n",
       "    }\n",
       "\n",
       "    .dataframe tbody tr th {\n",
       "        vertical-align: top;\n",
       "    }\n",
       "\n",
       "    .dataframe thead th {\n",
       "        text-align: right;\n",
       "    }\n",
       "</style>\n",
       "<table border=\"1\" class=\"dataframe\">\n",
       "  <thead>\n",
       "    <tr style=\"text-align: right;\">\n",
       "      <th></th>\n",
       "      <th>text</th>\n",
       "      <th>category</th>\n",
       "      <th>tokenized_sents</th>\n",
       "      <th>normalized_sents</th>\n",
       "    </tr>\n",
       "  </thead>\n",
       "  <tbody>\n",
       "    <tr>\n",
       "      <th>19Mar2007Kyl117.txt</th>\n",
       "      <td>SECURITY ON STRIKE\\n  The U.S. Senate recently...</td>\n",
       "      <td>Kyl</td>\n",
       "      <td>[[SECURITY, ON, STRIKE, The, U.S., Senate, rec...</td>\n",
       "      <td>[[security, strike, senate, recently, approved...</td>\n",
       "    </tr>\n",
       "    <tr>\n",
       "      <th>10Nov2005Kyl304.txt</th>\n",
       "      <td>SEN. KYL AMENDMENT ON HUMVEE UPGRADE PASSES SE...</td>\n",
       "      <td>Kyl</td>\n",
       "      <td>[[SEN., KYL, AMENDMENT, ON, HUMVEE, UPGRADE, P...</td>\n",
       "      <td>[[kyl, amendment, humvee, upgrade, passes, sen...</td>\n",
       "    </tr>\n",
       "    <tr>\n",
       "      <th>6Dec2007Kyl46.txt</th>\n",
       "      <td>SEN. KYL ELECTED ASSISTANT SENATE REPUBLICAN L...</td>\n",
       "      <td>Kyl</td>\n",
       "      <td>[[SEN., KYL, ELECTED, ASSISTANT, SENATE, REPUB...</td>\n",
       "      <td>[[kyl, elected, assistant, senate, republican,...</td>\n",
       "    </tr>\n",
       "    <tr>\n",
       "      <th>29Aug2005Kyl347.txt</th>\n",
       "      <td>SEN. KYL: GOOD NEWS AND BAD NEWS FOR BACK TO S...</td>\n",
       "      <td>Kyl</td>\n",
       "      <td>[[SEN., KYL, :, GOOD, NEWS, AND, BAD, NEWS, FO...</td>\n",
       "      <td>[[kyl, good, news, bad, news, back, school, st...</td>\n",
       "    </tr>\n",
       "    <tr>\n",
       "      <th>11Sep2006Kyl161.txt</th>\n",
       "      <td>SENATE COMMEMORATES FIVE YEAR MARK OF 9/11 ATT...</td>\n",
       "      <td>Kyl</td>\n",
       "      <td>[[SENATE, COMMEMORATES, FIVE, YEAR, MARK, OF, ...</td>\n",
       "      <td>[[senate, commemorates, five, year, mark, atta...</td>\n",
       "    </tr>\n",
       "  </tbody>\n",
       "</table>\n",
       "</div>"
      ],
      "text/plain": [
       "                                                                  text  \\\n",
       "19Mar2007Kyl117.txt  SECURITY ON STRIKE\\n  The U.S. Senate recently...   \n",
       "10Nov2005Kyl304.txt  SEN. KYL AMENDMENT ON HUMVEE UPGRADE PASSES SE...   \n",
       "6Dec2007Kyl46.txt    SEN. KYL ELECTED ASSISTANT SENATE REPUBLICAN L...   \n",
       "29Aug2005Kyl347.txt  SEN. KYL: GOOD NEWS AND BAD NEWS FOR BACK TO S...   \n",
       "11Sep2006Kyl161.txt  SENATE COMMEMORATES FIVE YEAR MARK OF 9/11 ATT...   \n",
       "\n",
       "                    category  \\\n",
       "19Mar2007Kyl117.txt      Kyl   \n",
       "10Nov2005Kyl304.txt      Kyl   \n",
       "6Dec2007Kyl46.txt        Kyl   \n",
       "29Aug2005Kyl347.txt      Kyl   \n",
       "11Sep2006Kyl161.txt      Kyl   \n",
       "\n",
       "                                                       tokenized_sents  \\\n",
       "19Mar2007Kyl117.txt  [[SECURITY, ON, STRIKE, The, U.S., Senate, rec...   \n",
       "10Nov2005Kyl304.txt  [[SEN., KYL, AMENDMENT, ON, HUMVEE, UPGRADE, P...   \n",
       "6Dec2007Kyl46.txt    [[SEN., KYL, ELECTED, ASSISTANT, SENATE, REPUB...   \n",
       "29Aug2005Kyl347.txt  [[SEN., KYL, :, GOOD, NEWS, AND, BAD, NEWS, FO...   \n",
       "11Sep2006Kyl161.txt  [[SENATE, COMMEMORATES, FIVE, YEAR, MARK, OF, ...   \n",
       "\n",
       "                                                      normalized_sents  \n",
       "19Mar2007Kyl117.txt  [[security, strike, senate, recently, approved...  \n",
       "10Nov2005Kyl304.txt  [[kyl, amendment, humvee, upgrade, passes, sen...  \n",
       "6Dec2007Kyl46.txt    [[kyl, elected, assistant, senate, republican,...  \n",
       "29Aug2005Kyl347.txt  [[kyl, good, news, bad, news, back, school, st...  \n",
       "11Sep2006Kyl161.txt  [[senate, commemorates, five, year, mark, atta...  "
      ]
     },
     "execution_count": 45,
     "metadata": {},
     "output_type": "execute_result"
    }
   ],
   "source": [
    "#Apply our functions, notice each row is a list of lists now\n",
    "senReleasesDF['tokenized_sents'] = senReleasesDF['text'].apply(lambda x: \n",
    "                                                               [nltk.word_tokenize(s) for s in nltk.sent_tokenize(x)])\n",
    "senReleasesDF['normalized_sents'] = senReleasesDF['tokenized_sents'].apply(lambda x: \n",
    "                                                                           [lucem_illud.normalizeTokens(s, \n",
    "                                                                                           stopwordLst = lucem_illud.stop_words_basic, \n",
    "                                                                                           stemmer = None) \n",
    "                                                                            for s in x])\n",
    "\n",
    "senReleasesDF[:5]"
   ]
  },
  {
   "cell_type": "markdown",
   "metadata": {},
   "source": [
    "# Word2Vec\n",
    "\n",
    "We will be using the gensim implementation of [Word2Vec](https://radimrehurek.com/gensim/models/word2vec.html#gensim.models.word2vec.Word2Vec).\n",
    "\n",
    "To load our data, we give all the sentences to the trainer. We just need to add the words as a list of sentences:"
   ]
  },
  {
   "cell_type": "code",
   "execution_count": 46,
   "metadata": {},
   "outputs": [],
   "source": [
    "senReleasesW2V = gensim.models.word2vec.Word2Vec(senReleasesDF['normalized_sents'].sum())"
   ]
  },
  {
   "cell_type": "markdown",
   "metadata": {},
   "source": [
    "Inside the word2vec object, the words each have a vector. To access the vector directly, use the square braces (`__getitem__`) method:"
   ]
  },
  {
   "cell_type": "code",
   "execution_count": 47,
   "metadata": {},
   "outputs": [
    {
     "name": "stdout",
     "output_type": "stream",
     "text": [
      "A 100 dimesional vector:\n"
     ]
    },
    {
     "data": {
      "text/plain": [
       "array([ 0.66003484,  0.1353259 , -0.66630566,  0.2951509 , -0.83661884,\n",
       "       -2.1746569 , -1.8468269 , -0.3963578 , -0.16473307, -2.1584938 ,\n",
       "        0.9034446 ,  0.10094557,  1.0838957 ,  0.7703045 ,  1.1569129 ,\n",
       "        2.633093  , -0.29318625, -3.6911745 , -0.37081796,  0.636411  ,\n",
       "        0.02448608,  0.5029936 ,  1.5220181 ,  0.6258907 , -0.19358593,\n",
       "       -1.0931089 ,  1.699003  , -0.45712125,  0.6368619 , -0.01291246,\n",
       "       -0.87287617,  0.09606469,  1.3218967 ,  0.98581666,  2.001717  ,\n",
       "        0.2994608 ,  0.88521576,  3.9159734 , -0.22462434, -0.769249  ,\n",
       "        0.16213219, -1.6413091 ,  1.6927967 ,  0.8302806 , -0.04949675,\n",
       "       -1.0201474 ,  2.2786262 ,  0.3258771 , -0.37036297, -0.35962564,\n",
       "       -0.187062  , -1.8286273 ,  0.4824961 , -1.5408006 ,  1.721792  ,\n",
       "        0.85938406,  0.36149615, -0.24210787, -1.259495  ,  1.3112833 ,\n",
       "       -1.3496232 ,  0.38359892, -2.2040856 ,  0.05977793, -0.29683638,\n",
       "        1.3244182 ,  0.9181565 , -1.7311661 ,  2.0247061 ,  2.1904917 ,\n",
       "        0.13614827,  4.162794  ,  0.49554113,  1.37103   ,  1.303953  ,\n",
       "       -0.16157839,  1.6794015 , -0.34894195,  0.3346613 , -1.6091496 ,\n",
       "       -1.5134162 , -2.1707478 , -1.6481185 , -2.0926373 , -0.7246059 ,\n",
       "       -0.03988665,  0.10455646, -0.5883203 ,  0.8940575 ,  2.020382  ,\n",
       "       -2.4317863 ,  0.13152485,  0.97650814,  1.6588206 ,  3.026155  ,\n",
       "       -0.30263868,  0.32997128, -1.3513094 ,  0.7493107 ,  0.37409446],\n",
       "      dtype=float32)"
      ]
     },
     "execution_count": 47,
     "metadata": {},
     "output_type": "execute_result"
    }
   ],
   "source": [
    "print(\"A {} dimesional vector:\".format(senReleasesW2V['president'].shape[0]))\n",
    "senReleasesW2V['president']"
   ]
  },
  {
   "cell_type": "markdown",
   "metadata": {},
   "source": [
    "If you want the full matrix, `syn0` stores all the vectors:"
   ]
  },
  {
   "cell_type": "code",
   "execution_count": 48,
   "metadata": {},
   "outputs": [
    {
     "data": {
      "text/plain": [
       "array([[ 1.6852286 ,  1.7122341 ,  0.9666992 , ...,  0.47595277,\n",
       "         1.990731  , -1.9987786 ],\n",
       "       [-1.123223  , -0.8349325 , -1.684908  , ..., -2.4763992 ,\n",
       "         2.543544  , -0.14432253],\n",
       "       [ 0.35632548,  0.18523595,  1.6843476 , ...,  1.1953984 ,\n",
       "         2.3762257 ,  1.3430041 ],\n",
       "       ...,\n",
       "       [-0.04144522, -0.02365595,  0.04216363, ..., -0.0347128 ,\n",
       "        -0.04107979, -0.04652602],\n",
       "       [-0.05978194, -0.03466261,  0.07863412, ...,  0.01057711,\n",
       "        -0.0845713 , -0.0395176 ],\n",
       "       [-0.02994238,  0.00607603,  0.03715546, ...,  0.0551722 ,\n",
       "        -0.01264153, -0.02425737]], dtype=float32)"
      ]
     },
     "execution_count": 48,
     "metadata": {},
     "output_type": "execute_result"
    }
   ],
   "source": [
    "senReleasesW2V.wv.syn0"
   ]
  },
  {
   "cell_type": "code",
   "execution_count": 65,
   "metadata": {},
   "outputs": [
    {
     "name": "stdout",
     "output_type": "stream",
     "text": [
      "0      [[Fluorescence, superresolution, (, SR, ), ima...\n",
      "1      [[Gastric, cancer, is, one, of, the, most, com...\n",
      "2      [[Robust, and, reproducible, generation, of, p...\n",
      "3      [[Type, II, diabetes, mellitus, (, T2DM, ), is...\n",
      "4      [[Tannic, acid, (, TA, ), is, a, polyphenolic,...\n",
      "5      [[The, introduction, of, the, first, valves, f...\n",
      "6      [[Postnatal, mammalian, brain, development, pr...\n",
      "7      [[Horizontal, gene, transfer, (, HGT, ), is, u...\n",
      "8      [[Leaf, senescence, is, an, endogenously, cont...\n",
      "9      [[In, 1796, Edward, Jenner, invented, and, tes...\n",
      "10     [[Colorectal, carcinoma, (, CRC, ), is, a, one...\n",
      "11     [[The, retina, ganglion, cell, layer, (, GCL, ...\n",
      "12     [[Neural, crest, cells, (, NCCs, ), ,, a, tran...\n",
      "13     [[DUSP3, ,, or, Vaccinia, H1-Related, (, VHR, ...\n",
      "14     [[Understanding, the, spatial, dynamics, of, a...\n",
      "15     [[The, quest, for, identifying, objective, ind...\n",
      "16     [[PC12, cells, serve, as, a, model, for, neuro...\n",
      "17     [[While, Bangladesh, has, achieved, notable, a...\n",
      "18     [[Auxin, is, the, most, important, hormone, in...\n",
      "19     [[Modern, therapeutic, approaches, should, not...\n",
      "20     [[The, first, author, ’, s, name, is, incorrec...\n",
      "21     [[Nematodes, belong, to, the, clade, of, ecdys...\n",
      "22     [[Narcolepsy, type, 1, (, NT1, ), is, a, rare,...\n",
      "23     [[Lung, cancer, is, the, major, cause, of, can...\n",
      "24     [[Pluripotent, stem, cells, ,, including, embr...\n",
      "25     [[Hematopoiesis, is, the, production, of, bloo...\n",
      "26     [[MicroRNAs, (, miRs, ), are, small, non-codin...\n",
      "27     [[Distant, cousins, of, photosynthetic, bacter...\n",
      "28     [[There, was, an, error, in, the, Funding, sta...\n",
      "29     [[The, published, Financial, Disclosure, is, m...\n",
      "                             ...                        \n",
      "129    [[Admixed, populations, form, when, individual...\n",
      "130    [[Transmission, of, HIV-1, through, breast, mi...\n",
      "131    [[The, efficiency, of, male, moths, searching,...\n",
      "132    [[Insomnia, is, one, of, the, most, frequent, ...\n",
      "133    [[Tuberculosis, (, TB, ), occurs, in, all, pop...\n",
      "134    [[In, an, era, of, heightened, competition, fo...\n",
      "135    [[Systemic, lupus, erythematosus, (, SLE, ), i...\n",
      "136    [[Over, the, last, decade, ,, there, has, been...\n",
      "137    [[Inflammatory, bowel, diseases, (, IBDs, ), ,...\n",
      "138    [[Avian-origin, influenza, A, (, H7N9, ), viru...\n",
      "139    [[Cells, regulate, nuclear, and, cellular, str...\n",
      "140    [[Liquid, chromatography-mass, spectrometry, i...\n",
      "141    [[Schistosomiasis, is, an, important, parasiti...\n",
      "142    [[Local, administration, of, therapeutic, agen...\n",
      "143    [[Oral, squamous, cell, carcinoma, (, OSCC, ),...\n",
      "144    [[Many, studies, attempt, to, predict, species...\n",
      "145    [[Range, expansion, of, exotic, species, can, ...\n",
      "146    [[Chemical, messengers, released, by, neurons,...\n",
      "147    [[Traditional, cephalometric, analysis, has, l...\n",
      "148    [[The, bacterial, endosymbiont, Wolbachia, is,...\n",
      "149    [[The, African, continent, is, disproportionat...\n",
      "150    [[Rabies, is, an, acute, ,, viral, zoonosis, g...\n",
      "151    [[Group, meal, preparation, training, builds, ...\n",
      "152    [[Drug, discovery, and, development, in, oncol...\n",
      "153    [[Every, year, approximately, 1.7, million, pe...\n",
      "154    [[The, entry, of, HIV-1, into, susceptible, ho...\n",
      "155    [[The, 2H, phosphoesterase, superfamily, is, a...\n",
      "156    [[Most, individuals, from, the, Americas, are,...\n",
      "157    [[Multiple, myeloma, (, MM, ), is, a, debilita...\n",
      "158    [[Hsp90, is, an, ATP-dependent, molecular, cha...\n",
      "Name: tokenized_sents, Length: 159, dtype: object\n"
     ]
    }
   ],
   "source": [
    "print(plosDF['tokenized_sents'])"
   ]
  },
  {
   "cell_type": "markdown",
   "metadata": {},
   "source": [
    "Then, `index2word` lets you translate from the matrix to words"
   ]
  },
  {
   "cell_type": "code",
   "execution_count": 72,
   "metadata": {},
   "outputs": [
    {
     "data": {
      "text/plain": [
       "'american'"
      ]
     },
     "execution_count": 72,
     "metadata": {},
     "output_type": "execute_result"
    }
   ],
   "source": [
    "senReleasesW2V.wv.index2word[10]"
   ]
  },
  {
   "cell_type": "code",
   "execution_count": 73,
   "metadata": {},
   "outputs": [
    {
     "data": {
      "text/plain": [
       "[('explosive', 0.8972276449203491),\n",
       " ('avian', 0.8871203660964966),\n",
       " ('detect', 0.8859502077102661),\n",
       " ('biological', 0.8817800283432007),\n",
       " ('detecting', 0.8815858364105225),\n",
       " ('improvised', 0.8696045875549316),\n",
       " ('influenza', 0.8632650971412659),\n",
       " ('detection', 0.8590594530105591),\n",
       " ('linked', 0.858392059803009),\n",
       " ('countermeasures', 0.8371022939682007)]"
      ]
     },
     "execution_count": 73,
     "metadata": {},
     "output_type": "execute_result"
    }
   ],
   "source": [
    "senReleasesW2V.most_similar('chemical')"
   ]
  },
  {
   "cell_type": "markdown",
   "metadata": {},
   "source": [
    "Now we can look at a few things that come from the word vectors. The first is to find similar vectors (cosine similarity):"
   ]
  },
  {
   "cell_type": "code",
   "execution_count": 71,
   "metadata": {},
   "outputs": [
    {
     "data": {
      "text/plain": [
       "[('explosive', 0.8972276449203491),\n",
       " ('avian', 0.8871203660964966),\n",
       " ('detect', 0.8859502077102661),\n",
       " ('biological', 0.8817800283432007),\n",
       " ('detecting', 0.8815858364105225),\n",
       " ('improvised', 0.8696045875549316),\n",
       " ('influenza', 0.8632650971412659),\n",
       " ('detection', 0.8590594530105591),\n",
       " ('linked', 0.858392059803009),\n",
       " ('countermeasures', 0.8371022939682007)]"
      ]
     },
     "execution_count": 71,
     "metadata": {},
     "output_type": "execute_result"
    }
   ],
   "source": [
    "senReleasesW2V.most_similar('chemical')"
   ]
  },
  {
   "cell_type": "code",
   "execution_count": 51,
   "metadata": {},
   "outputs": [
    {
     "data": {
      "text/plain": [
       "[('descending', 0.7469289302825928),\n",
       " ('foment', 0.7020086050033569),\n",
       " ('afghanistan', 0.7010031342506409),\n",
       " ('unresisted', 0.6936907768249512),\n",
       " ('chaos', 0.6834272146224976),\n",
       " ('sending', 0.6805846691131592),\n",
       " ('escalation', 0.6704967021942139),\n",
       " ('battle', 0.6643950939178467),\n",
       " ('terror', 0.6624481081962585),\n",
       " ('wars', 0.6570940613746643)]"
      ]
     },
     "execution_count": 51,
     "metadata": {},
     "output_type": "execute_result"
    }
   ],
   "source": [
    "senReleasesW2V.most_similar('war')"
   ]
  },
  {
   "cell_type": "markdown",
   "metadata": {},
   "source": [
    "Or we can get this directly (calculated slightly differently):"
   ]
  },
  {
   "cell_type": "code",
   "execution_count": 52,
   "metadata": {},
   "outputs": [],
   "source": [
    "def cos_difference(embedding,word1,word2):\n",
    "    return sklearn.metrics.pairwise.cosine_similarity(embedding[word1].reshape(1,-1),embedding[word2].reshape(1,-1))"
   ]
  },
  {
   "cell_type": "code",
   "execution_count": 53,
   "metadata": {},
   "outputs": [
    {
     "data": {
      "text/plain": [
       "array([[0.53289634]], dtype=float32)"
      ]
     },
     "execution_count": 53,
     "metadata": {},
     "output_type": "execute_result"
    }
   ],
   "source": [
    "cos_difference(senReleasesW2V, 'war', 'unwinnable')"
   ]
  },
  {
   "cell_type": "markdown",
   "metadata": {},
   "source": [
    "We can also find which word least matches the others within a word set (cosine similarity):"
   ]
  },
  {
   "cell_type": "code",
   "execution_count": 54,
   "metadata": {},
   "outputs": [
    {
     "data": {
      "text/plain": [
       "'washington'"
      ]
     },
     "execution_count": 54,
     "metadata": {},
     "output_type": "execute_result"
    }
   ],
   "source": [
    "senReleasesW2V.doesnt_match(['administration', 'administrations', 'presidents', 'president', 'washington'])"
   ]
  },
  {
   "cell_type": "markdown",
   "metadata": {},
   "source": [
    "Find which word best matches the result of a semantic *equation* (here, we seek the words whose vectors best fit the missing entry from the equation: **X + Y - Z = _**."
   ]
  },
  {
   "cell_type": "code",
   "execution_count": 55,
   "metadata": {},
   "outputs": [
    {
     "data": {
      "text/plain": [
       "[('veto', 0.7357845306396484),\n",
       " ('signature', 0.7175729274749756),\n",
       " ('bush', 0.7175062894821167),\n",
       " ('bushs', 0.6918985843658447),\n",
       " ('signed', 0.6816868185997009),\n",
       " ('vetoed', 0.6782186031341553),\n",
       " ('presidents', 0.6668652296066284),\n",
       " ('vetoes', 0.6611536741256714),\n",
       " ('lyndon', 0.6547707319259644),\n",
       " ('signing', 0.6469038724899292)]"
      ]
     },
     "execution_count": 55,
     "metadata": {},
     "output_type": "execute_result"
    }
   ],
   "source": [
    "senReleasesW2V.most_similar(positive=['clinton', 'republican'], negative = ['democrat'])"
   ]
  },
  {
   "cell_type": "markdown",
   "metadata": {},
   "source": [
    "Here we see that **Clinton + Republican - Democrat = Bush**. In other words, in this dataset and period, **Clinton** was to **Democrat** as **Bush** was to **Republican**. Whoah!"
   ]
  },
  {
   "cell_type": "markdown",
   "metadata": {},
   "source": [
    " But how do we argue that these are stable distances or associations?"
   ]
  },
  {
   "cell_type": "markdown",
   "metadata": {},
   "source": [
    "## Establishing Credible or Confidence Intervals"
   ]
  },
  {
   "cell_type": "markdown",
   "metadata": {},
   "source": [
    "### Boostrapping approach"
   ]
  },
  {
   "cell_type": "markdown",
   "metadata": {},
   "source": [
    "We propose well-established bootstrapping and subsampling methods to nonparametrically demonstrate the stability and significance of word associations within our embedding model. These allow us to establish conservative confidence intervals to both (a) distances between words in a model and (b) projections of words onto an induced dimension (e.g., man-woman). If we assume that the texts (e.g., newspapers, books) underlying our word embedding model are observations drawn from an independent and identically distributed (i.i.d.) population of cultural observations, then bootstrapping allows us to estimate the variance of word distances and projections by measuring those properties through sampling the empirical distribution of texts with replacement (Efron and Tibshirani 1994; Efron 2003). Operationally, if we wanted to bootstrap a 90% confidence interval of a word-word distance or word-dimension projection, we would sample a corpus the same size as the original corpus, but with replacement, 20 times, estimate word embedding models on each sample. Then we take the 2nd order (2nd smallest) statistic $s_{(2)}$--either distance or projection--as our confidence interval’s lower bound, and 19th order statistic $s_{(19)}$ as its upper bound. The distance between $s_{(2)}$ and $s_{(19)}$ across 20 bootstrap samples span the 5th to the 95th percentiles of the statistic’s variance, bounding the 90th confidence interval. A 95% confidence interval would span $s_{(2)}$ and $s_{(39)}$ in word embedding distances or projections estimated on 40 bootstrap samples of a corpus, tracing the 2.5th to 97.5th percentiles. "
   ]
  },
  {
   "cell_type": "code",
   "execution_count": 76,
   "metadata": {},
   "outputs": [
    {
     "data": {
      "text/plain": [
       "[0.19430842,\n",
       " 0.2448551,\n",
       " 0.32964244,\n",
       " 0.36093366,\n",
       " 0.40676242,\n",
       " 0.4298533,\n",
       " 0.43709835,\n",
       " 0.44737804,\n",
       " 0.4508052,\n",
       " 0.48368144,\n",
       " 0.4987959,\n",
       " 0.5008853,\n",
       " 0.51110137,\n",
       " 0.54612446,\n",
       " 0.57208437,\n",
       " 0.6246742]"
      ]
     },
     "execution_count": 76,
     "metadata": {},
     "output_type": "execute_result"
    }
   ],
   "source": [
    "estimatesB=[]\n",
    "for x in range(20):\n",
    "    senReleasesW2VB = gensim.models.word2vec.Word2Vec(senReleasesDF['normalized_sents'].sample(frac=1.0, replace=True).sum())\n",
    "    try:\n",
    "        estimatesB.append(cos_difference(senReleasesW2VB, 'war', 'unwinnable')[0,0])\n",
    "    except KeyError:\n",
    "        #Missing one of the words from the vocab\n",
    "        pass\n",
    "                                                      \n",
    "estimatesB.sort()         \n",
    "estimatesB"
   ]
  },
  {
   "cell_type": "code",
   "execution_count": 77,
   "metadata": {},
   "outputs": [
    {
     "name": "stdout",
     "output_type": "stream",
     "text": [
      "The 90% confidence interval for the cosine distance between war and unwinnable is:\n",
      " 0.2448551 0.57208437\n"
     ]
    }
   ],
   "source": [
    "print(\"The 90% confidence interval for the cosine distance between war and unwinnable is:\\n\",estimatesB[1], estimatesB[-2])"
   ]
  },
  {
   "cell_type": "markdown",
   "metadata": {},
   "source": [
    "### Subsampling approach"
   ]
  },
  {
   "cell_type": "markdown",
   "metadata": {},
   "source": [
    "If the corpus is large, then we may take a subsampling approach, which randomly partitions the corpus into non-overlapping samples, then estimates the word-embedding models on these subsets and calculates confidence intervals as a function of the empirical distribution of distance or projection statistics and number of texts in the subsample (Politis and Romano 1997). Subsampling requires the same i.i.d. assumption as the bootrap (Politis and Romano 1992; Politis and Romano 1994). For 90% confidence intervals, we randomly partition the corpus into 20 subcorpora, then calculate $B^k=\\sqrt{\\tau_k}\\left(s^k-\\bar{s}\\right)$ for each $k$th sample, where $k$ is the number of texts and $s^k$ is the embedding distance or projection for the $k$th sample, and $\\bar{s}$ is the average statistic for all samples. The 90% confidence interval spans the 5th to 95th percentile variances, inscribed by $\\bar{s}-\\frac{B_{(19)}^k}{\\sqrt{\\tau}}$ and $\\bar{s}-\\frac{B_{(2)}^k}{\\sqrt{\\tau}}$, where $\\tau$ the number of texts in the total corpus and $s$ is the average statistic across all subsamples. As with bootrapping, a 95% confidence interval would require 40 subsamples; a 99% confidence would require 200 (.5th to 99.5th percentiles)."
   ]
  },
  {
   "cell_type": "code",
   "execution_count": null,
   "metadata": {},
   "outputs": [],
   "source": [
    "senReleasesDF[sample_indices == i]"
   ]
  },
  {
   "cell_type": "code",
   "execution_count": null,
   "metadata": {},
   "outputs": [],
   "source": [
    "n_samples = 10\n",
    "sample_indices = np.random.randint(0,n_samples,(len(senReleasesDF),))\n",
    "\n",
    "s_k =np.array([])\n",
    "tau_k=np.array([])\n",
    "\n",
    "for i in range(n_samples):\n",
    "    sample_w2v = gensim.models.word2vec.Word2Vec(senReleasesDF[sample_indices == i]['normalized_sents'].sum())\n",
    "    try:\n",
    "        #Need to use words present in most samples\n",
    "        s_k = np.append(s_k, cos_difference(sample_w2v, 'war', 'responsibility')[0,0])\n",
    "    except KeyError:\n",
    "        pass\n",
    "    else:\n",
    "        tau_k = np.append(tau_k, len(senReleasesDF[sample_indices == i]))\n",
    "\n",
    "print(s_k)\n",
    "print(tau_k)\n",
    "\n",
    "tau = tau_k.sum()\n",
    "s = s_k.mean()\n",
    "B_k = np.sqrt(tau_k) * s_k-s_k.mean()"
   ]
  },
  {
   "cell_type": "code",
   "execution_count": null,
   "metadata": {},
   "outputs": [],
   "source": [
    "print(\"The 90% confidence interval for the cosine distance between war and responsibility is:\\n\",s-B_k[-2]/np.sqrt(tau), s-B_k[1]/np.sqrt(tau))"
   ]
  },
  {
   "cell_type": "markdown",
   "metadata": {},
   "source": [
    "We can also save the vectors for later use:"
   ]
  },
  {
   "cell_type": "code",
   "execution_count": null,
   "metadata": {
    "collapsed": true
   },
   "outputs": [],
   "source": [
    "senReleasesW2V.save(\"senpressreleasesWORD2Vec.mm\")\n",
    "#Load with senReleasesW2V = gensim.models.word2vec.Word2Vec.load('senpressreleasesWORD2Vec.mm')"
   ]
  },
  {
   "cell_type": "markdown",
   "metadata": {},
   "source": [
    "## Visualize"
   ]
  },
  {
   "cell_type": "markdown",
   "metadata": {},
   "source": [
    "We can also use dimension reduction to visulize the vectors. We will start by selecting a subset we want to plot. Let's look at the top words from the set:"
   ]
  },
  {
   "cell_type": "code",
   "execution_count": 2,
   "metadata": {},
   "outputs": [
    {
     "ename": "NameError",
     "evalue": "name 'senReleasesW2V' is not defined",
     "output_type": "error",
     "traceback": [
      "\u001b[0;31m---------------------------------------------------------------------------\u001b[0m",
      "\u001b[0;31mNameError\u001b[0m                                 Traceback (most recent call last)",
      "\u001b[0;32m<ipython-input-2-8fd842afa471>\u001b[0m in \u001b[0;36m<module>\u001b[0;34m()\u001b[0m\n\u001b[1;32m      1\u001b[0m \u001b[0mnumWords\u001b[0m \u001b[0;34m=\u001b[0m \u001b[0;36m150\u001b[0m\u001b[0;34m\u001b[0m\u001b[0m\n\u001b[0;32m----> 2\u001b[0;31m \u001b[0mtargetWords\u001b[0m \u001b[0;34m=\u001b[0m \u001b[0msenReleasesW2V\u001b[0m\u001b[0;34m.\u001b[0m\u001b[0mwv\u001b[0m\u001b[0;34m.\u001b[0m\u001b[0mindex2word\u001b[0m\u001b[0;34m[\u001b[0m\u001b[0;34m:\u001b[0m\u001b[0mnumWords\u001b[0m\u001b[0;34m]\u001b[0m\u001b[0;34m\u001b[0m\u001b[0m\n\u001b[0m",
      "\u001b[0;31mNameError\u001b[0m: name 'senReleasesW2V' is not defined"
     ]
    }
   ],
   "source": [
    "numWords = 150\n",
    "targetWords = senReleasesW2V.wv.index2word[:numWords]"
   ]
  },
  {
   "cell_type": "markdown",
   "metadata": {},
   "source": [
    "We can then extract their vectors and create our own smaller matrix that preserved the distances from the original:"
   ]
  },
  {
   "cell_type": "code",
   "execution_count": null,
   "metadata": {},
   "outputs": [],
   "source": [
    "wordsSubMatrix = []\n",
    "for word in targetWords:\n",
    "    wordsSubMatrix.append(senReleasesW2V[word])\n",
    "wordsSubMatrix = np.array(wordsSubMatrix)\n",
    "wordsSubMatrix"
   ]
  },
  {
   "cell_type": "markdown",
   "metadata": {},
   "source": [
    "Then we can use PCA to reduce the dimesions (e.g., to 50), and [T-SNE](https://en.wikipedia.org/wiki/T-distributed_stochastic_neighbor_embedding) to project them down to the two we will visualize. We note that this is nondeterministic process, and so you can repeat and achieve alternative projectsions/visualizations of the words:"
   ]
  },
  {
   "cell_type": "code",
   "execution_count": null,
   "metadata": {
    "collapsed": true
   },
   "outputs": [],
   "source": [
    "pcaWords = sklearn.decomposition.PCA(n_components = 50).fit(wordsSubMatrix)\n",
    "reducedPCA_data = pcaWords.transform(wordsSubMatrix)\n",
    "#T-SNE is theoretically better, but you should experiment\n",
    "tsneWords = sklearn.manifold.TSNE(n_components = 2, early_exaggeration = 25).fit_transform(reducedPCA_data)"
   ]
  },
  {
   "cell_type": "markdown",
   "metadata": {},
   "source": [
    "We now can plot the points"
   ]
  },
  {
   "cell_type": "code",
   "execution_count": null,
   "metadata": {},
   "outputs": [],
   "source": [
    "fig = plt.figure(figsize = (15,10))\n",
    "ax = fig.add_subplot(111)\n",
    "ax.set_frame_on(False)\n",
    "plt.scatter(tsneWords[:, 0], tsneWords[:, 1], alpha = 0)#Making the points invisible \n",
    "for i, word in enumerate(targetWords):\n",
    "    ax.annotate(word, \n",
    "                (tsneWords[:, 0][i],tsneWords[:, 1][i]), \n",
    "                size =  20 * (numWords - i) / numWords, \n",
    "                alpha = .8 * (numWords - i) / numWords + .2)\n",
    "plt.xticks(())\n",
    "plt.yticks(())\n",
    "plt.show()"
   ]
  },
  {
   "cell_type": "markdown",
   "metadata": {},
   "source": [
    "My visualization above puts ``iraq`` next to ``time`` and ``bill`` near ``help``. <img src='../data/examplewordcloud.svg'>"
   ]
  },
  {
   "cell_type": "markdown",
   "metadata": {},
   "source": [
    "What if a new senator come along with whose names starts with K? Could we analyse their releases too without rerunning the entire embedding? Lets try with Cardin in `../data/grimmerPressReleases_extra/Cardin`. First we need to load and proccess the releases:"
   ]
  },
  {
   "cell_type": "code",
   "execution_count": null,
   "metadata": {},
   "outputs": [],
   "source": [
    "cardinDF = lucem_illud.loadTextDirectory('../data/grimmerPressReleases_extra/Cardin')\n",
    "cardinDF['category'] = 'Cardin'\n",
    "\n",
    "cardinDF['tokenized_sents'] = cardinDF['text'].apply(lambda x: \n",
    "                                                               [nltk.word_tokenize(s) for s in nltk.sent_tokenize(x)])\n",
    "cardinDF['normalized_sents'] = cardinDF['tokenized_sents'].apply(lambda x: \n",
    "                                                                           [lucem_illud.normalizeTokens(s, \n",
    "                                                                                           stopwordLst = lucem_illud.stop_words_basic, \n",
    "                                                                                           stemmer = None) \n",
    "                                                                            for s in x])\n",
    "\n",
    "cardinDF[:10]"
   ]
  },
  {
   "cell_type": "markdown",
   "metadata": {},
   "source": [
    "We can now merge Cardin's releases with the rest. This can update all the weights in *w2v* model, so be careful."
   ]
  },
  {
   "cell_type": "code",
   "execution_count": null,
   "metadata": {
    "collapsed": true
   },
   "outputs": [],
   "source": [
    "#This is using a newer API so we have to tell it a little bit more for it to work right\n",
    "senReleasesW2V.build_vocab(cardinDF['normalized_sents'].sum(), update=True)\n",
    "senReleasesW2V.train(cardinDF['normalized_sents'].sum(), \n",
    "                     total_examples=senReleasesW2V.corpus_count, \n",
    "                     epochs=senReleasesW2V.iter)\n",
    "senReleasesW2V.save(\"senpressreleasesWORD2Vec_new.mm\")"
   ]
  },
  {
   "cell_type": "markdown",
   "metadata": {},
   "source": [
    "As the model is updated by this, we need to load our old copy to do a comparison."
   ]
  },
  {
   "cell_type": "code",
   "execution_count": null,
   "metadata": {
    "collapsed": true
   },
   "outputs": [],
   "source": [
    "senReleasesW2V_old = gensim.models.word2vec.Word2Vec.load('senpressreleasesWORD2Vec.mm')"
   ]
  },
  {
   "cell_type": "code",
   "execution_count": null,
   "metadata": {},
   "outputs": [],
   "source": [
    "print(\"A {} dimesional vector:\".format(senReleasesW2V['president'].shape[0]))\n",
    "senReleasesW2V['president'][:10]"
   ]
  },
  {
   "cell_type": "code",
   "execution_count": null,
   "metadata": {},
   "outputs": [],
   "source": [
    "print(\"A {} dimesional vector:\".format(senReleasesW2V_old['president'].shape[0]))\n",
    "senReleasesW2V_old['president'][:10]"
   ]
  },
  {
   "cell_type": "code",
   "execution_count": null,
   "metadata": {},
   "outputs": [],
   "source": [
    "(senReleasesW2V_old['president'] - senReleasesW2V['president'])[:10]"
   ]
  },
  {
   "cell_type": "markdown",
   "metadata": {},
   "source": [
    "As you can see the vector for 'president' has changed a little bit and the word cloud should also be a bit different too"
   ]
  },
  {
   "cell_type": "code",
   "execution_count": null,
   "metadata": {
    "collapsed": true
   },
   "outputs": [],
   "source": [
    "pcaWords = sklearn.decomposition.PCA(n_components = 50).fit(wordsSubMatrix)\n",
    "reducedPCA_data = pcaWords.transform(wordsSubMatrix)\n",
    "#T-SNE is theoretically better, but you should experiment\n",
    "tsneWords = sklearn.manifold.TSNE(n_components = 2, early_exaggeration = 25).fit_transform(reducedPCA_data)"
   ]
  },
  {
   "cell_type": "code",
   "execution_count": null,
   "metadata": {},
   "outputs": [],
   "source": [
    "fig = plt.figure(figsize = (15,10))\n",
    "ax = fig.add_subplot(111)\n",
    "ax.set_frame_on(False)\n",
    "plt.scatter(tsneWords[:, 0], tsneWords[:, 1], alpha = 0)#Making the points invisible \n",
    "for i, word in enumerate(targetWords):\n",
    "    ax.annotate(word, \n",
    "                (tsneWords[:, 0][i],tsneWords[:, 1][i]), \n",
    "                size =  20 * (numWords - i) / numWords, \n",
    "                alpha = .8 * (numWords - i) / numWords + .2)\n",
    "plt.xticks(())\n",
    "plt.yticks(())\n",
    "plt.show()"
   ]
  },
  {
   "cell_type": "markdown",
   "metadata": {},
   "source": [
    "Another thing to consider in training is how we know that our parameters for the model are correct. We can do this by looking at the training loss of the model. Let's tart by training a new model, but this time we will expose most of the options and train it one epoch at a time. Look [here](https://radimrehurek.com/gensim/models/word2vec.html#gensim.models.word2vec.Word2Vec) for more detail: "
   ]
  },
  {
   "cell_type": "code",
   "execution_count": null,
   "metadata": {},
   "outputs": [],
   "source": [
    "senReleasesW2V_loss = gensim.models.word2vec.Word2Vec(size = 100, #dimensions\n",
    "                                                      alpha=0.025,\n",
    "                                                      window=5,\n",
    "                                                      min_count=5,\n",
    "                                                      hs=0,  #hierarchical softmax toggle\n",
    "                                                      compute_loss = True,\n",
    "                                                     )\n",
    "senReleasesW2V_loss.build_vocab(senReleasesDF['normalized_sents'].sum())\n",
    "senReleasesW2V_loss.train(senReleasesDF['normalized_sents'].sum(), \n",
    "                     total_examples=senReleasesW2V.corpus_count, \n",
    "                     epochs=1, #This the running_training_loss is a total so we have to do 1 epoch at a time\n",
    "                    )\n",
    "#Using a list so we can capture every epoch\n",
    "losses = [senReleasesW2V_loss.running_training_loss]\n",
    "losses[0]"
   ]
  },
  {
   "cell_type": "markdown",
   "metadata": {},
   "source": [
    "Now we have the training loss and can optimize training to minimize it."
   ]
  },
  {
   "cell_type": "code",
   "execution_count": null,
   "metadata": {},
   "outputs": [],
   "source": [
    "for i in range(19):\n",
    "    senReleasesW2V_loss.train(senReleasesDF['normalized_sents'].sum(), \n",
    "                     total_examples=senReleasesW2V.corpus_count, \n",
    "                     epochs=1,\n",
    "                             )\n",
    "    losses.append(senReleasesW2V_loss.running_training_loss)\n",
    "    print(\"Done epoch {}\".format(i + 2), end = '\\r')"
   ]
  },
  {
   "cell_type": "markdown",
   "metadata": {},
   "source": [
    "Lets plot the loss vs epoch"
   ]
  },
  {
   "cell_type": "code",
   "execution_count": null,
   "metadata": {},
   "outputs": [],
   "source": [
    "lossesDF = pandas.DataFrame({'loss' : losses, 'epoch' : range(len(losses))})\n",
    "lossesDF.plot(y = 'loss', x = 'epoch', logy=False, figsize=(15, 7))\n",
    "plt.show()"
   ]
  },
  {
   "cell_type": "markdown",
   "metadata": {},
   "source": [
    "You should see that the loss is almost monotonic, but that the rate decreases as epoch increases. Since we are testing on our training data monotonicity is a common result and we must try to avoid over fitting. A simple way to do this is to stop training when there is significant change in the rate of decrease. In this run, that looks to be approximately 8 or 9. If we were to do another analysis, we might use an `iter=9` instead of the default 5."
   ]
  },
  {
   "cell_type": "markdown",
   "metadata": {},
   "source": [
    "Even more culturally interesting is how many dimensions are required to achieve an optimal embedding. The use of words in complex ways and contradictory contexts will require more dimensions to represent them with integrity. For example, if one word, $w_a$, is \"nearby\" $w_b$, but $w_b$ is not near the other words beside $w_a$, then a new dimension will be required for the two words to be uniquely together. "
   ]
  },
  {
   "cell_type": "code",
   "execution_count": null,
   "metadata": {},
   "outputs": [],
   "source": [
    "losses_dims=[]\n",
    "\n",
    "for d in [50,100,150,200,250,300,350,400,450,500, 550, 600, 650, 700, 750]:\n",
    "    senReleasesW2V_loss_dims = gensim.models.word2vec.Word2Vec(size = d, #dimensions\n",
    "                                                      alpha=0.025,\n",
    "                                                      window=5,\n",
    "                                                      min_count=5,\n",
    "                                                      hs=0,  #hierarchical softmax toggle\n",
    "                                                      compute_loss = True,\n",
    "                                                     )\n",
    "    senReleasesW2V_loss_dims.build_vocab(senReleasesDF['normalized_sents'].sum())\n",
    "    senReleasesW2V_loss_dims.train(senReleasesDF['normalized_sents'].sum(), \n",
    "                     total_examples=senReleasesW2V.corpus_count, \n",
    "                     epochs=7, #This the running_training_loss is a total so we have to do 1 epoch at a time\n",
    "                    )\n",
    "    senReleasesW2V_loss_dims.train(senReleasesDF['normalized_sents'].sum(), \n",
    "                     total_examples=senReleasesW2V.corpus_count, \n",
    "                     epochs=1, #This the running_training_loss is a total so we have to do 1 epoch at a time\n",
    "                    )\n",
    "    \n",
    "    losses_dims.append(senReleasesW2V_loss_dims.running_training_loss/(10+d*10))"
   ]
  },
  {
   "cell_type": "code",
   "execution_count": null,
   "metadata": {},
   "outputs": [],
   "source": [
    "losses_dimsDF = pandas.DataFrame({'loss' : losses_dims, 'dimensions' : [50,100,150,200,250,300,350,400,450,500,550,600,650,700,750]})\n",
    "losses_dimsDF.plot(y = 'loss', x = 'dimensions', logy=False, figsize=(15, 7))\n",
    "plt.show()"
   ]
  },
  {
   "cell_type": "markdown",
   "metadata": {},
   "source": [
    "This is a work in progress for Gensim, but its clear that most of the word distance variation is captured by 300 dimensions."
   ]
  },
  {
   "cell_type": "markdown",
   "metadata": {},
   "source": [
    "# Chinese examples"
   ]
  },
  {
   "cell_type": "code",
   "execution_count": null,
   "metadata": {},
   "outputs": [],
   "source": [
    "model=gensim.models.Word2Vec.load('../data/1992embeddings_hs_new3.sg')"
   ]
  },
  {
   "cell_type": "markdown",
   "metadata": {},
   "source": [
    "## analogy\n",
    "\n",
    "King+man-Queen? A few examples based on a corpus of Chinese news. \n",
    "\n",
    "First, location analogy: **province -> capital**"
   ]
  },
  {
   "cell_type": "code",
   "execution_count": null,
   "metadata": {},
   "outputs": [],
   "source": [
    "mm = model.most_similar(positive=[u'长沙',u'陕西'], negative=[u'湖南']) # Changsha + Shaanxi - Hunan\n",
    "for m in mm:\n",
    "    print(m[0],m[1])\n",
    "    print(\"Xi'an\")\n",
    "    break"
   ]
  },
  {
   "cell_type": "code",
   "execution_count": null,
   "metadata": {},
   "outputs": [],
   "source": [
    "mm = model.most_similar(positive=[u'广州',u'湖北'], negative=[u'广东']) # Guangzhou + Hubei - Guangdong\n",
    "for m in mm:\n",
    "    print(m[0],m[1])\n",
    "    print(\"Wuhan\")\n",
    "    break"
   ]
  },
  {
   "cell_type": "markdown",
   "metadata": {},
   "source": [
    "Second, location analogy: **country -> capital**"
   ]
  },
  {
   "cell_type": "code",
   "execution_count": null,
   "metadata": {},
   "outputs": [],
   "source": [
    "mm = model.most_similar(positive=[u'东京',u'美国'], negative=[u'日本']) # Tokyo + US - Japan\n",
    "for m in mm:\n",
    "    print(m[0],m[1])\n",
    "    print(\"(Washington DC)\")\n",
    "    break"
   ]
  },
  {
   "cell_type": "markdown",
   "metadata": {},
   "source": [
    "## similar words"
   ]
  },
  {
   "cell_type": "code",
   "execution_count": null,
   "metadata": {},
   "outputs": [],
   "source": [
    "word = u'社会主义'  #socialism\n",
    "ss = model.similar_by_word(word,topn=10)\n",
    "print(\"the most similar words to \" + word + \" is: \")\n",
    "for s in ss:\n",
    "    print(s[0])\n",
    "print(\"\")"
   ]
  },
  {
   "cell_type": "code",
   "execution_count": null,
   "metadata": {},
   "outputs": [],
   "source": [
    "word = u'玉米'  # corn\n",
    "ss = model.similar_by_word(word,topn=10)\n",
    "print(\"the most similar words to \" + word + \" is: \")\n",
    "for s in ss:\n",
    "    print(s[0])\n",
    "print(\"\")"
   ]
  },
  {
   "cell_type": "markdown",
   "metadata": {},
   "source": [
    "## <span style=\"color:red\">*Exercise 1*</span>\n",
    "\n",
    "<span style=\"color:red\">Construct cells immediately below this that build a word2vec model with your corpus. Interrogate word relationships in the resulting space, including estimating 90% confidence intervals for specific word cosine distances of interest. Plot a subset of your words. What do these word relationships reveal about the *social* and *cultural game* underlying your corpus? What was surprising--what violated your prior understanding of the corpus? What was expected--what confirmed your knowledge about this domain?"
   ]
  },
  {
   "cell_type": "code",
   "execution_count": 7,
   "metadata": {},
   "outputs": [],
   "source": [
    "target_dir = '../data/PLOSone'\n",
    "plosText = []\n",
    "plosFileName = []"
   ]
  },
  {
   "cell_type": "code",
   "execution_count": 8,
   "metadata": {},
   "outputs": [],
   "source": [
    "for file in (file for file in os.scandir(target_dir) if file.is_file() and not file.name.startswith('.')):\n",
    "    with open(file.path) as f:\n",
    "        plosText.append(f.read())\n",
    "    plosFileName.append(file.name)"
   ]
  },
  {
   "cell_type": "code",
   "execution_count": 9,
   "metadata": {},
   "outputs": [],
   "source": [
    "parsedText = []\n",
    "for file in plosText:\n",
    "    #print(file[1000:1250])\n",
    "    #print(\"**\"*50)\n",
    "    parsedText.append(BeautifulSoup(file, 'xml'))"
   ]
  },
  {
   "cell_type": "code",
   "execution_count": 10,
   "metadata": {},
   "outputs": [],
   "source": [
    "titles = []\n",
    "for file in parsedText:\n",
    "    title_meta = file.find('title-group')\n",
    "    titles.append(title_meta.find_all('article-title'))"
   ]
  },
  {
   "cell_type": "code",
   "execution_count": 11,
   "metadata": {},
   "outputs": [],
   "source": [
    "journal_titles = []\n",
    "for file in parsedText:\n",
    "    journal_titles.append(file.find_all('journal-title'))"
   ]
  },
  {
   "cell_type": "code",
   "execution_count": 12,
   "metadata": {},
   "outputs": [],
   "source": [
    "#bodies = []\n",
    "#for file in parsedText:\n",
    " #   body_meta = file.find('body')\n",
    "  #  bodies.append(body_meta.find_all('p'))"
   ]
  },
  {
   "cell_type": "code",
   "execution_count": 13,
   "metadata": {},
   "outputs": [],
   "source": [
    "bodies = []\n",
    "for file in parsedText:\n",
    "    bodies.append(file.body.find('p'))"
   ]
  },
  {
   "cell_type": "code",
   "execution_count": 14,
   "metadata": {},
   "outputs": [],
   "source": [
    "bodies_clean = []\n",
    "for pTag in bodies:\n",
    "    bodies_clean.append(pTag.text)"
   ]
  },
  {
   "cell_type": "code",
   "execution_count": 15,
   "metadata": {},
   "outputs": [
    {
     "name": "stdout",
     "output_type": "stream",
     "text": [
      "159\n"
     ]
    }
   ],
   "source": [
    "print(len(bodies_clean))"
   ]
  },
  {
   "cell_type": "code",
   "execution_count": 16,
   "metadata": {},
   "outputs": [],
   "source": [
    "plosDF = pandas.DataFrame({'Titles': titles, 'Article Contents': bodies_clean, 'Journal Title' : journal_titles})\n"
   ]
  },
  {
   "cell_type": "code",
   "execution_count": 17,
   "metadata": {},
   "outputs": [
    {
     "data": {
      "text/html": [
       "<div>\n",
       "<style scoped>\n",
       "    .dataframe tbody tr th:only-of-type {\n",
       "        vertical-align: middle;\n",
       "    }\n",
       "\n",
       "    .dataframe tbody tr th {\n",
       "        vertical-align: top;\n",
       "    }\n",
       "\n",
       "    .dataframe thead th {\n",
       "        text-align: right;\n",
       "    }\n",
       "</style>\n",
       "<table border=\"1\" class=\"dataframe\">\n",
       "  <thead>\n",
       "    <tr style=\"text-align: right;\">\n",
       "      <th></th>\n",
       "      <th>Article Contents</th>\n",
       "      <th>Journal Title</th>\n",
       "      <th>Titles</th>\n",
       "      <th>tokenized_sents</th>\n",
       "      <th>normalized_sents</th>\n",
       "    </tr>\n",
       "  </thead>\n",
       "  <tbody>\n",
       "    <tr>\n",
       "      <th>0</th>\n",
       "      <td>Fluorescence superresolution (SR) imaging has ...</td>\n",
       "      <td>[&lt;journal-title&gt;PLOS ONE&lt;/journal-title&gt;]</td>\n",
       "      <td>[&lt;article-title&gt;Sequential Superresolution Ima...</td>\n",
       "      <td>[[Fluorescence, superresolution, (, SR, ), ima...</td>\n",
       "      <td>[[fluorescence, superresolution, sr, imaging, ...</td>\n",
       "    </tr>\n",
       "    <tr>\n",
       "      <th>1</th>\n",
       "      <td>Gastric cancer is one of the most common gastr...</td>\n",
       "      <td>[&lt;journal-title&gt;PLOS ONE&lt;/journal-title&gt;]</td>\n",
       "      <td>[&lt;article-title&gt;The Prognostic Significance of...</td>\n",
       "      <td>[[Gastric, cancer, is, one, of, the, most, com...</td>\n",
       "      <td>[[gastric, cancer, one, common, gastrointestin...</td>\n",
       "    </tr>\n",
       "    <tr>\n",
       "      <th>2</th>\n",
       "      <td>Robust and reproducible generation of patterne...</td>\n",
       "      <td>[&lt;journal-title&gt;PLOS Computational Biology&lt;/jo...</td>\n",
       "      <td>[&lt;article-title&gt;Stochastic Regulation of her1/...</td>\n",
       "      <td>[[Robust, and, reproducible, generation, of, p...</td>\n",
       "      <td>[[robust, reproducible, generation, patterned,...</td>\n",
       "    </tr>\n",
       "    <tr>\n",
       "      <th>3</th>\n",
       "      <td>Type II diabetes mellitus (T2DM) is now the th...</td>\n",
       "      <td>[&lt;journal-title&gt;PLOS ONE&lt;/journal-title&gt;]</td>\n",
       "      <td>[&lt;article-title&gt;Leaf Extract from &lt;italic&gt;Lith...</td>\n",
       "      <td>[[Type, II, diabetes, mellitus, (, T2DM, ), is...</td>\n",
       "      <td>[[type, ii, diabetes, mellitus, third, largest...</td>\n",
       "    </tr>\n",
       "    <tr>\n",
       "      <th>4</th>\n",
       "      <td>Tannic acid (TA) is a polyphenolic compound co...</td>\n",
       "      <td>[&lt;journal-title&gt;PLOS ONE&lt;/journal-title&gt;]</td>\n",
       "      <td>[&lt;article-title&gt;Effects of dietary level of ta...</td>\n",
       "      <td>[[Tannic, acid, (, TA, ), is, a, polyphenolic,...</td>\n",
       "      <td>[[tannic, acid, ta, polyphenolic, compound, co...</td>\n",
       "    </tr>\n",
       "  </tbody>\n",
       "</table>\n",
       "</div>"
      ],
      "text/plain": [
       "                                    Article Contents  \\\n",
       "0  Fluorescence superresolution (SR) imaging has ...   \n",
       "1  Gastric cancer is one of the most common gastr...   \n",
       "2  Robust and reproducible generation of patterne...   \n",
       "3  Type II diabetes mellitus (T2DM) is now the th...   \n",
       "4  Tannic acid (TA) is a polyphenolic compound co...   \n",
       "\n",
       "                                       Journal Title  \\\n",
       "0          [<journal-title>PLOS ONE</journal-title>]   \n",
       "1          [<journal-title>PLOS ONE</journal-title>]   \n",
       "2  [<journal-title>PLOS Computational Biology</jo...   \n",
       "3          [<journal-title>PLOS ONE</journal-title>]   \n",
       "4          [<journal-title>PLOS ONE</journal-title>]   \n",
       "\n",
       "                                              Titles  \\\n",
       "0  [<article-title>Sequential Superresolution Ima...   \n",
       "1  [<article-title>The Prognostic Significance of...   \n",
       "2  [<article-title>Stochastic Regulation of her1/...   \n",
       "3  [<article-title>Leaf Extract from <italic>Lith...   \n",
       "4  [<article-title>Effects of dietary level of ta...   \n",
       "\n",
       "                                     tokenized_sents  \\\n",
       "0  [[Fluorescence, superresolution, (, SR, ), ima...   \n",
       "1  [[Gastric, cancer, is, one, of, the, most, com...   \n",
       "2  [[Robust, and, reproducible, generation, of, p...   \n",
       "3  [[Type, II, diabetes, mellitus, (, T2DM, ), is...   \n",
       "4  [[Tannic, acid, (, TA, ), is, a, polyphenolic,...   \n",
       "\n",
       "                                    normalized_sents  \n",
       "0  [[fluorescence, superresolution, sr, imaging, ...  \n",
       "1  [[gastric, cancer, one, common, gastrointestin...  \n",
       "2  [[robust, reproducible, generation, patterned,...  \n",
       "3  [[type, ii, diabetes, mellitus, third, largest...  \n",
       "4  [[tannic, acid, ta, polyphenolic, compound, co...  "
      ]
     },
     "execution_count": 17,
     "metadata": {},
     "output_type": "execute_result"
    }
   ],
   "source": [
    "plosDF['tokenized_sents'] = plosDF['Article Contents'].apply(lambda x: \n",
    "                                                               [nltk.word_tokenize(s) for s in nltk.sent_tokenize(x)])\n",
    "plosDF['normalized_sents'] = plosDF['tokenized_sents'].apply(lambda x: \n",
    "                                                                           [lucem_illud.normalizeTokens(s, \n",
    "                                                                                           stopwordLst = lucem_illud.stop_words_basic, \n",
    "                                                                                           stemmer = None) \n",
    "                                                                            for s in x])\n",
    "\n",
    "plosDF[:5]\n"
   ]
  },
  {
   "cell_type": "code",
   "execution_count": 18,
   "metadata": {},
   "outputs": [],
   "source": [
    "plosW2V = gensim.models.word2vec.Word2Vec(plosDF['normalized_sents'].sum())\n"
   ]
  },
  {
   "cell_type": "code",
   "execution_count": 19,
   "metadata": {},
   "outputs": [
    {
     "name": "stdout",
     "output_type": "stream",
     "text": [
      "A 100 dimesional vector:\n"
     ]
    },
    {
     "data": {
      "text/plain": [
       "array([ 2.9967099e-03,  4.5425884e-04, -5.1321153e-04, -1.5006867e-03,\n",
       "       -2.0240503e-04,  5.1731570e-03,  2.7285016e-03, -5.7121326e-04,\n",
       "       -4.0834742e-03,  3.4652355e-03, -4.3702996e-03, -2.3986900e-03,\n",
       "       -1.1279467e-03,  8.0922840e-04,  1.4458925e-03, -1.4846812e-03,\n",
       "        4.4848328e-03,  2.0009874e-04,  3.5859598e-03, -6.1439797e-03,\n",
       "       -2.3587120e-03, -6.0470786e-04,  4.3367115e-03,  3.1326080e-03,\n",
       "        4.9123047e-03,  1.5197857e-03,  1.5205004e-03, -1.7358467e-03,\n",
       "       -3.1407704e-03, -4.2035389e-03, -2.0456146e-03,  4.8822700e-03,\n",
       "        4.9405411e-04,  2.6504465e-03,  5.5469172e-03, -7.8882492e-04,\n",
       "        5.8218171e-03,  4.6759658e-03, -1.8852949e-03,  3.2007825e-03,\n",
       "       -1.3895344e-04, -2.7644394e-03,  5.3509302e-04,  2.9951294e-03,\n",
       "        4.7977129e-03,  3.9544693e-04, -4.3891915e-03, -1.6975675e-03,\n",
       "        2.9711754e-03,  4.5309248e-03,  4.6164194e-05,  3.2363296e-06,\n",
       "       -3.0396457e-03, -1.6310735e-03,  7.8806322e-04,  3.7159522e-03,\n",
       "        1.5528222e-03, -5.6171017e-03,  2.9108960e-03, -3.8525617e-05,\n",
       "        3.3135733e-03,  1.8147470e-03, -3.8804719e-03,  4.0441863e-03,\n",
       "        2.2317197e-03,  3.6586344e-03, -8.7280024e-04,  4.8113158e-03,\n",
       "        4.0298438e-04,  3.7744751e-03,  3.1060770e-03, -1.2612363e-03,\n",
       "       -1.3501032e-03, -1.4532608e-04,  3.7084774e-03,  4.7831326e-03,\n",
       "       -1.6739418e-03,  3.0037208e-04, -1.2209021e-03, -4.6514454e-03,\n",
       "        4.2887824e-03, -1.3297497e-03,  2.9328573e-04,  1.2408490e-03,\n",
       "        2.0060451e-03, -1.0028115e-03,  6.2266859e-04,  1.8411904e-03,\n",
       "       -1.6432557e-03,  3.2270064e-03,  2.9297010e-03,  4.5514316e-03,\n",
       "        3.7451359e-03, -3.0297022e-03,  2.7382716e-03, -3.0598873e-03,\n",
       "       -1.7077527e-03,  3.5073878e-03, -2.2700664e-05,  1.2373336e-04],\n",
       "      dtype=float32)"
      ]
     },
     "execution_count": 19,
     "metadata": {},
     "output_type": "execute_result"
    }
   ],
   "source": [
    "print(\"A {} dimesional vector:\".format(plosW2V['science'].shape[0]))\n",
    "plosW2V['science']"
   ]
  },
  {
   "cell_type": "code",
   "execution_count": 20,
   "metadata": {},
   "outputs": [
    {
     "data": {
      "text/plain": [
       "'important'"
      ]
     },
     "execution_count": 20,
     "metadata": {},
     "output_type": "execute_result"
    }
   ],
   "source": [
    "plosW2V.wv.index2word[10]\n"
   ]
  },
  {
   "cell_type": "code",
   "execution_count": 21,
   "metadata": {},
   "outputs": [
    {
     "data": {
      "text/plain": [
       "[('life', 0.43471139669418335),\n",
       " ('groups', 0.4189869165420532),\n",
       " ('risk', 0.40753498673439026),\n",
       " ('diagnosis', 0.3909338712692261),\n",
       " ('however', 0.38886576890945435),\n",
       " ('increased', 0.388526976108551),\n",
       " ('breast', 0.3862612843513489),\n",
       " ('diverse', 0.3844144940376282),\n",
       " ('research', 0.38183438777923584),\n",
       " ('factors', 0.38131946325302124)]"
      ]
     },
     "execution_count": 21,
     "metadata": {},
     "output_type": "execute_result"
    }
   ],
   "source": [
    "plosW2V.most_similar('science')\n"
   ]
  },
  {
   "cell_type": "code",
   "execution_count": 22,
   "metadata": {},
   "outputs": [
    {
     "data": {
      "text/plain": [
       "[('year', 0.3745501637458801),\n",
       " ('respiratory', 0.3743797838687897),\n",
       " ('bacteria', 0.3457646369934082),\n",
       " ('used', 0.34509140253067017),\n",
       " ('characterized', 0.3187691867351532),\n",
       " ('receptor', 0.31651681661605835),\n",
       " ('either', 0.31357499957084656),\n",
       " ('range', 0.31033992767333984),\n",
       " ('populations', 0.3029939532279968),\n",
       " ('quality', 0.30269962549209595)]"
      ]
     },
     "execution_count": 22,
     "metadata": {},
     "output_type": "execute_result"
    }
   ],
   "source": [
    "plosW2V.most_similar('funding')"
   ]
  },
  {
   "cell_type": "code",
   "execution_count": 23,
   "metadata": {},
   "outputs": [
    {
     "data": {
      "text/plain": [
       "[('genes', 0.4673379361629486),\n",
       " ('study', 0.43642082810401917),\n",
       " ('common', 0.4351637363433838),\n",
       " ('process', 0.4349774718284607),\n",
       " ('lung', 0.4161657392978668),\n",
       " ('reported', 0.4120592176914215),\n",
       " ('used', 0.40368273854255676),\n",
       " ('biochemical', 0.3921893239021301),\n",
       " ('based', 0.38650205731391907),\n",
       " ('health', 0.3846777677536011)]"
      ]
     },
     "execution_count": 23,
     "metadata": {},
     "output_type": "execute_result"
    }
   ],
   "source": [
    "plosW2V.most_similar('medical')\n"
   ]
  },
  {
   "cell_type": "code",
   "execution_count": 24,
   "metadata": {},
   "outputs": [
    {
     "data": {
      "text/plain": [
       "[('health', 0.7379155158996582),\n",
       " ('may', 0.7283487319946289),\n",
       " ('study', 0.7156020402908325),\n",
       " ('associated', 0.7153629660606384),\n",
       " ('effects', 0.714919924736023),\n",
       " ('cancer', 0.7129269242286682),\n",
       " ('often', 0.7054803371429443),\n",
       " ('genetic', 0.704578161239624),\n",
       " ('increased', 0.7039088010787964),\n",
       " ('disease', 0.6932690143585205)]"
      ]
     },
     "execution_count": 24,
     "metadata": {},
     "output_type": "execute_result"
    }
   ],
   "source": [
    "plosW2V.most_similar('risk')\n"
   ]
  },
  {
   "cell_type": "code",
   "execution_count": 25,
   "metadata": {},
   "outputs": [],
   "source": [
    "def cos_difference(embedding,word1,word2):\n",
    "    return sklearn.metrics.pairwise.cosine_similarity(embedding[word1].reshape(1,-1),embedding[word2].reshape(1,-1))\n",
    "\n",
    "\n"
   ]
  },
  {
   "cell_type": "code",
   "execution_count": 26,
   "metadata": {},
   "outputs": [
    {
     "data": {
      "text/plain": [
       "array([[0.13170506]], dtype=float32)"
      ]
     },
     "execution_count": 26,
     "metadata": {},
     "output_type": "execute_result"
    }
   ],
   "source": [
    "cos_difference(plosW2V, 'medical', 'scientific')\n"
   ]
  },
  {
   "cell_type": "code",
   "execution_count": 27,
   "metadata": {},
   "outputs": [
    {
     "data": {
      "text/plain": [
       "'funding'"
      ]
     },
     "execution_count": 27,
     "metadata": {},
     "output_type": "execute_result"
    }
   ],
   "source": [
    "plosW2V.doesnt_match(['funding', 'medical', 'scientific', 'interaction', 'risk']) \n"
   ]
  },
  {
   "cell_type": "code",
   "execution_count": 28,
   "metadata": {},
   "outputs": [
    {
     "data": {
      "text/plain": [
       "[('women', 0.2682781517505646),\n",
       " ('size', 0.26311928033828735),\n",
       " ('highest', 0.23653234541416168),\n",
       " ('malnutrition', 0.2278934270143509),\n",
       " ('biochemical', 0.21713167428970337),\n",
       " ('environmental', 0.1738651692867279),\n",
       " ('regulating', 0.173843652009964),\n",
       " ('oa', 0.1730891466140747),\n",
       " ('typical', 0.16912047564983368),\n",
       " ('repair', 0.16227155923843384)]"
      ]
     },
     "execution_count": 28,
     "metadata": {},
     "output_type": "execute_result"
    }
   ],
   "source": [
    "plosW2V.most_similar(positive=['medical', 'scientific'], negative = ['risk'])\n"
   ]
  },
  {
   "cell_type": "code",
   "execution_count": 29,
   "metadata": {},
   "outputs": [
    {
     "data": {
      "text/plain": [
       "[0.100148566,\n",
       " 0.11386822,\n",
       " 0.14289951,\n",
       " 0.16055126,\n",
       " 0.2077907,\n",
       " 0.2154465,\n",
       " 0.28303757,\n",
       " 0.36495763]"
      ]
     },
     "execution_count": 29,
     "metadata": {},
     "output_type": "execute_result"
    }
   ],
   "source": [
    "estimatesB=[]\n",
    "for x in range(20):\n",
    "    plosW2VB = gensim.models.word2vec.Word2Vec(plosDF['normalized_sents'].sample(frac=1.0, replace=True).sum())\n",
    "    try:\n",
    "        estimatesB.append(cos_difference(plosW2VB, 'scientific', 'medical')[0,0])\n",
    "    except KeyError:\n",
    "        #Missing one of the words from the vocab\n",
    "        pass\n",
    "                                                      \n",
    "estimatesB.sort()         \n",
    "estimatesB"
   ]
  },
  {
   "cell_type": "code",
   "execution_count": 30,
   "metadata": {},
   "outputs": [
    {
     "name": "stdout",
     "output_type": "stream",
     "text": [
      "The 90% confidence interval for the cosine distance between scientific and medical is:\n",
      " 0.11386822 0.28303757\n"
     ]
    }
   ],
   "source": [
    "print(\"The 90% confidence interval for the cosine distance between scientific and medical is:\\n\",estimatesB[1], estimatesB[-2])\n",
    "\n"
   ]
  },
  {
   "cell_type": "code",
   "execution_count": 31,
   "metadata": {},
   "outputs": [],
   "source": [
    "#This will save the vectors for later use. \n",
    "plosW2V.save(\"plosWORD2Vec.mm\")\n",
    "#Load with plosW2V = gensim.models.word2vec.Word2Vec.load('plosWORD2Vec.mm')\n"
   ]
  },
  {
   "cell_type": "code",
   "execution_count": 32,
   "metadata": {},
   "outputs": [],
   "source": [
    "numWords = 150\n",
    "targetWords = plosW2V.wv.index2word[:numWords]\n"
   ]
  },
  {
   "cell_type": "code",
   "execution_count": 33,
   "metadata": {},
   "outputs": [
    {
     "data": {
      "text/plain": [
       "array([[-3.3759819e-03, -4.8188912e-03, -2.3716781e-03, ...,\n",
       "        -2.8950046e-03,  2.3618368e-03, -4.1274754e-03],\n",
       "       [ 2.0004921e-03, -6.1492291e-03, -2.5958309e-03, ...,\n",
       "         2.9081985e-04,  3.6463842e-03,  2.0350511e-04],\n",
       "       [ 1.0638677e-03,  1.1031323e-03, -7.3463591e-03, ...,\n",
       "        -1.2727572e-03, -2.8443965e-03, -5.6537860e-03],\n",
       "       ...,\n",
       "       [ 2.1234979e-03, -4.7700973e-03, -1.9561988e-03, ...,\n",
       "         1.2041329e-03, -2.7194321e-03, -2.9568207e-03],\n",
       "       [ 1.8313159e-03, -2.9196180e-03,  3.1283314e-03, ...,\n",
       "         5.4322663e-03,  3.4197802e-03,  3.3338782e-03],\n",
       "       [-5.5441428e-03, -2.6689549e-03, -4.5167846e-03, ...,\n",
       "        -3.6994868e-03, -1.4319965e-03,  4.1736159e-05]], dtype=float32)"
      ]
     },
     "execution_count": 33,
     "metadata": {},
     "output_type": "execute_result"
    }
   ],
   "source": [
    "wordsSubMatrix = []\n",
    "for word in targetWords:\n",
    "    wordsSubMatrix.append(plosW2V[word])\n",
    "wordsSubMatrix = np.array(wordsSubMatrix)\n",
    "wordsSubMatrix"
   ]
  },
  {
   "cell_type": "code",
   "execution_count": 34,
   "metadata": {},
   "outputs": [],
   "source": [
    "pcaWords = sklearn.decomposition.PCA(n_components = 50).fit(wordsSubMatrix)\n",
    "reducedPCA_data = pcaWords.transform(wordsSubMatrix)\n",
    "#T-SNE is theoretically better, but you should experiment\n",
    "tsneWords = sklearn.manifold.TSNE(n_components = 2, early_exaggeration = 25).fit_transform(reducedPCA_data)\n"
   ]
  },
  {
   "cell_type": "code",
   "execution_count": 35,
   "metadata": {},
   "outputs": [
    {
     "data": {
      "image/png": "[encoded data removed]",
      "text/plain": [
       "<matplotlib.figure.Figure at 0x7f069c53e6a0>"
      ]
     },
     "metadata": {},
     "output_type": "display_data"
    }
   ],
   "source": [
    "fig = plt.figure(figsize = (15,10))\n",
    "ax = fig.add_subplot(111)\n",
    "ax.set_frame_on(False)\n",
    "plt.scatter(tsneWords[:, 0], tsneWords[:, 1], alpha = 0)#Making the points invisible \n",
    "for i, word in enumerate(targetWords):\n",
    "    ax.annotate(word, \n",
    "                (tsneWords[:, 0][i],tsneWords[:, 1][i]), \n",
    "                size =  20 * (numWords - i) / numWords, \n",
    "                alpha = .8 * (numWords - i) / numWords + .2)\n",
    "plt.xticks(())\n",
    "plt.yticks(())\n",
    "plt.show()"
   ]
  },
  {
   "cell_type": "code",
   "execution_count": 36,
   "metadata": {},
   "outputs": [
    {
     "data": {
      "text/plain": [
       "20627.125"
      ]
     },
     "execution_count": 36,
     "metadata": {},
     "output_type": "execute_result"
    }
   ],
   "source": [
    "plosW2V_loss = gensim.models.word2vec.Word2Vec(size = 100, #dimensions\n",
    "                                                      alpha=0.025,\n",
    "                                                      window=5,\n",
    "                                                      min_count=5,\n",
    "                                                      hs=0,  #hierarchical softmax toggle\n",
    "                                                      compute_loss = True,\n",
    "                                                     )\n",
    "plosW2V_loss.build_vocab(plosDF['normalized_sents'].sum())\n",
    "plosW2V_loss.train(plosDF['normalized_sents'].sum(), \n",
    "                     total_examples=plosW2V.corpus_count, \n",
    "                     epochs=1, #This the running_training_loss is a total so we have to do 1 epoch at a time\n",
    "                    )\n",
    "#Using a list so we can capture every epoch\n",
    "losses = [plosW2V_loss.running_training_loss]\n",
    "losses[0]"
   ]
  },
  {
   "cell_type": "markdown",
   "metadata": {},
   "source": [
    "# Doc2Vec"
   ]
  },
  {
   "cell_type": "markdown",
   "metadata": {
    "collapsed": true
   },
   "source": [
    "Instead of just looking at just how words embed within in the space, we can look at how the different documents relate to each other within the space. First lets load our data--abstracts of most U.S. physics papers from the 1950s."
   ]
  },
  {
   "cell_type": "code",
   "execution_count": 2,
   "metadata": {},
   "outputs": [
    {
     "ename": "FileNotFoundError",
     "evalue": "File b'../data/APSabstracts1950s.csv' does not exist",
     "output_type": "error",
     "traceback": [
      "\u001b[0;31m---------------------------------------------------------------------------\u001b[0m",
      "\u001b[0;31mFileNotFoundError\u001b[0m                         Traceback (most recent call last)",
      "\u001b[0;32m<ipython-input-2-0627e47ed9b0>\u001b[0m in \u001b[0;36m<module>\u001b[0;34m()\u001b[0m\n\u001b[0;32m----> 1\u001b[0;31m \u001b[0mapsDF\u001b[0m \u001b[0;34m=\u001b[0m \u001b[0mpandas\u001b[0m\u001b[0;34m.\u001b[0m\u001b[0mread_csv\u001b[0m\u001b[0;34m(\u001b[0m\u001b[0;34m'../data/APSabstracts1950s.csv'\u001b[0m\u001b[0;34m,\u001b[0m \u001b[0mindex_col\u001b[0m \u001b[0;34m=\u001b[0m \u001b[0;36m0\u001b[0m\u001b[0;34m)\u001b[0m\u001b[0;34m\u001b[0m\u001b[0m\n\u001b[0m\u001b[1;32m      2\u001b[0m \u001b[0mapsDF\u001b[0m\u001b[0;34m[\u001b[0m\u001b[0;34m:\u001b[0m\u001b[0;36m10\u001b[0m\u001b[0;34m]\u001b[0m\u001b[0;34m\u001b[0m\u001b[0m\n",
      "\u001b[0;32m~/.local/lib/python3.6/site-packages/pandas/io/parsers.py\u001b[0m in \u001b[0;36mparser_f\u001b[0;34m(filepath_or_buffer, sep, delimiter, header, names, index_col, usecols, squeeze, prefix, mangle_dupe_cols, dtype, engine, converters, true_values, false_values, skipinitialspace, skiprows, nrows, na_values, keep_default_na, na_filter, verbose, skip_blank_lines, parse_dates, infer_datetime_format, keep_date_col, date_parser, dayfirst, iterator, chunksize, compression, thousands, decimal, lineterminator, quotechar, quoting, escapechar, comment, encoding, dialect, tupleize_cols, error_bad_lines, warn_bad_lines, skipfooter, skip_footer, doublequote, delim_whitespace, as_recarray, compact_ints, use_unsigned, low_memory, buffer_lines, memory_map, float_precision)\u001b[0m\n\u001b[1;32m    707\u001b[0m                     skip_blank_lines=skip_blank_lines)\n\u001b[1;32m    708\u001b[0m \u001b[0;34m\u001b[0m\u001b[0m\n\u001b[0;32m--> 709\u001b[0;31m         \u001b[0;32mreturn\u001b[0m \u001b[0m_read\u001b[0m\u001b[0;34m(\u001b[0m\u001b[0mfilepath_or_buffer\u001b[0m\u001b[0;34m,\u001b[0m \u001b[0mkwds\u001b[0m\u001b[0;34m)\u001b[0m\u001b[0;34m\u001b[0m\u001b[0m\n\u001b[0m\u001b[1;32m    710\u001b[0m \u001b[0;34m\u001b[0m\u001b[0m\n\u001b[1;32m    711\u001b[0m     \u001b[0mparser_f\u001b[0m\u001b[0;34m.\u001b[0m\u001b[0m__name__\u001b[0m \u001b[0;34m=\u001b[0m \u001b[0mname\u001b[0m\u001b[0;34m\u001b[0m\u001b[0m\n",
      "\u001b[0;32m~/.local/lib/python3.6/site-packages/pandas/io/parsers.py\u001b[0m in \u001b[0;36m_read\u001b[0;34m(filepath_or_buffer, kwds)\u001b[0m\n\u001b[1;32m    447\u001b[0m \u001b[0;34m\u001b[0m\u001b[0m\n\u001b[1;32m    448\u001b[0m     \u001b[0;31m# Create the parser.\u001b[0m\u001b[0;34m\u001b[0m\u001b[0;34m\u001b[0m\u001b[0m\n\u001b[0;32m--> 449\u001b[0;31m     \u001b[0mparser\u001b[0m \u001b[0;34m=\u001b[0m \u001b[0mTextFileReader\u001b[0m\u001b[0;34m(\u001b[0m\u001b[0mfilepath_or_buffer\u001b[0m\u001b[0;34m,\u001b[0m \u001b[0;34m**\u001b[0m\u001b[0mkwds\u001b[0m\u001b[0;34m)\u001b[0m\u001b[0;34m\u001b[0m\u001b[0m\n\u001b[0m\u001b[1;32m    450\u001b[0m \u001b[0;34m\u001b[0m\u001b[0m\n\u001b[1;32m    451\u001b[0m     \u001b[0;32mif\u001b[0m \u001b[0mchunksize\u001b[0m \u001b[0;32mor\u001b[0m \u001b[0miterator\u001b[0m\u001b[0;34m:\u001b[0m\u001b[0;34m\u001b[0m\u001b[0m\n",
      "\u001b[0;32m~/.local/lib/python3.6/site-packages/pandas/io/parsers.py\u001b[0m in \u001b[0;36m__init__\u001b[0;34m(self, f, engine, **kwds)\u001b[0m\n\u001b[1;32m    816\u001b[0m             \u001b[0mself\u001b[0m\u001b[0;34m.\u001b[0m\u001b[0moptions\u001b[0m\u001b[0;34m[\u001b[0m\u001b[0;34m'has_index_names'\u001b[0m\u001b[0;34m]\u001b[0m \u001b[0;34m=\u001b[0m \u001b[0mkwds\u001b[0m\u001b[0;34m[\u001b[0m\u001b[0;34m'has_index_names'\u001b[0m\u001b[0;34m]\u001b[0m\u001b[0;34m\u001b[0m\u001b[0m\n\u001b[1;32m    817\u001b[0m \u001b[0;34m\u001b[0m\u001b[0m\n\u001b[0;32m--> 818\u001b[0;31m         \u001b[0mself\u001b[0m\u001b[0;34m.\u001b[0m\u001b[0m_make_engine\u001b[0m\u001b[0;34m(\u001b[0m\u001b[0mself\u001b[0m\u001b[0;34m.\u001b[0m\u001b[0mengine\u001b[0m\u001b[0;34m)\u001b[0m\u001b[0;34m\u001b[0m\u001b[0m\n\u001b[0m\u001b[1;32m    819\u001b[0m \u001b[0;34m\u001b[0m\u001b[0m\n\u001b[1;32m    820\u001b[0m     \u001b[0;32mdef\u001b[0m \u001b[0mclose\u001b[0m\u001b[0;34m(\u001b[0m\u001b[0mself\u001b[0m\u001b[0;34m)\u001b[0m\u001b[0;34m:\u001b[0m\u001b[0;34m\u001b[0m\u001b[0m\n",
      "\u001b[0;32m~/.local/lib/python3.6/site-packages/pandas/io/parsers.py\u001b[0m in \u001b[0;36m_make_engine\u001b[0;34m(self, engine)\u001b[0m\n\u001b[1;32m   1047\u001b[0m     \u001b[0;32mdef\u001b[0m \u001b[0m_make_engine\u001b[0m\u001b[0;34m(\u001b[0m\u001b[0mself\u001b[0m\u001b[0;34m,\u001b[0m \u001b[0mengine\u001b[0m\u001b[0;34m=\u001b[0m\u001b[0;34m'c'\u001b[0m\u001b[0;34m)\u001b[0m\u001b[0;34m:\u001b[0m\u001b[0;34m\u001b[0m\u001b[0m\n\u001b[1;32m   1048\u001b[0m         \u001b[0;32mif\u001b[0m \u001b[0mengine\u001b[0m \u001b[0;34m==\u001b[0m \u001b[0;34m'c'\u001b[0m\u001b[0;34m:\u001b[0m\u001b[0;34m\u001b[0m\u001b[0m\n\u001b[0;32m-> 1049\u001b[0;31m             \u001b[0mself\u001b[0m\u001b[0;34m.\u001b[0m\u001b[0m_engine\u001b[0m \u001b[0;34m=\u001b[0m \u001b[0mCParserWrapper\u001b[0m\u001b[0;34m(\u001b[0m\u001b[0mself\u001b[0m\u001b[0;34m.\u001b[0m\u001b[0mf\u001b[0m\u001b[0;34m,\u001b[0m \u001b[0;34m**\u001b[0m\u001b[0mself\u001b[0m\u001b[0;34m.\u001b[0m\u001b[0moptions\u001b[0m\u001b[0;34m)\u001b[0m\u001b[0;34m\u001b[0m\u001b[0m\n\u001b[0m\u001b[1;32m   1050\u001b[0m         \u001b[0;32melse\u001b[0m\u001b[0;34m:\u001b[0m\u001b[0;34m\u001b[0m\u001b[0m\n\u001b[1;32m   1051\u001b[0m             \u001b[0;32mif\u001b[0m \u001b[0mengine\u001b[0m \u001b[0;34m==\u001b[0m \u001b[0;34m'python'\u001b[0m\u001b[0;34m:\u001b[0m\u001b[0;34m\u001b[0m\u001b[0m\n",
      "\u001b[0;32m~/.local/lib/python3.6/site-packages/pandas/io/parsers.py\u001b[0m in \u001b[0;36m__init__\u001b[0;34m(self, src, **kwds)\u001b[0m\n\u001b[1;32m   1693\u001b[0m         \u001b[0mkwds\u001b[0m\u001b[0;34m[\u001b[0m\u001b[0;34m'allow_leading_cols'\u001b[0m\u001b[0;34m]\u001b[0m \u001b[0;34m=\u001b[0m \u001b[0mself\u001b[0m\u001b[0;34m.\u001b[0m\u001b[0mindex_col\u001b[0m \u001b[0;32mis\u001b[0m \u001b[0;32mnot\u001b[0m \u001b[0;32mFalse\u001b[0m\u001b[0;34m\u001b[0m\u001b[0m\n\u001b[1;32m   1694\u001b[0m \u001b[0;34m\u001b[0m\u001b[0m\n\u001b[0;32m-> 1695\u001b[0;31m         \u001b[0mself\u001b[0m\u001b[0;34m.\u001b[0m\u001b[0m_reader\u001b[0m \u001b[0;34m=\u001b[0m \u001b[0mparsers\u001b[0m\u001b[0;34m.\u001b[0m\u001b[0mTextReader\u001b[0m\u001b[0;34m(\u001b[0m\u001b[0msrc\u001b[0m\u001b[0;34m,\u001b[0m \u001b[0;34m**\u001b[0m\u001b[0mkwds\u001b[0m\u001b[0;34m)\u001b[0m\u001b[0;34m\u001b[0m\u001b[0m\n\u001b[0m\u001b[1;32m   1696\u001b[0m \u001b[0;34m\u001b[0m\u001b[0m\n\u001b[1;32m   1697\u001b[0m         \u001b[0;31m# XXX\u001b[0m\u001b[0;34m\u001b[0m\u001b[0;34m\u001b[0m\u001b[0m\n",
      "\u001b[0;32mpandas/_libs/parsers.pyx\u001b[0m in \u001b[0;36mpandas._libs.parsers.TextReader.__cinit__\u001b[0;34m()\u001b[0m\n",
      "\u001b[0;32mpandas/_libs/parsers.pyx\u001b[0m in \u001b[0;36mpandas._libs.parsers.TextReader._setup_parser_source\u001b[0;34m()\u001b[0m\n",
      "\u001b[0;31mFileNotFoundError\u001b[0m: File b'../data/APSabstracts1950s.csv' does not exist"
     ]
    }
   ],
   "source": [
    "apsDF = pandas.read_csv('../data/APSabstracts1950s.csv', index_col = 0)\n",
    "apsDF[:10]"
   ]
  },
  {
   "cell_type": "markdown",
   "metadata": {},
   "source": [
    "We will load these as documents into Word2Vec, but first we need to normalize and pick some tags"
   ]
  },
  {
   "cell_type": "code",
   "execution_count": null,
   "metadata": {
    "collapsed": true
   },
   "outputs": [],
   "source": [
    "keywords = ['photomagnetoelectric', 'quantum', 'boltzmann', 'proton', 'positron', 'feynman', 'classical', 'relativity']"
   ]
  },
  {
   "cell_type": "code",
   "execution_count": null,
   "metadata": {
    "collapsed": true
   },
   "outputs": [],
   "source": [
    "apsDF['tokenized_words'] = apsDF['abstract'].apply(lambda x: nltk.word_tokenize(x))\n",
    "apsDF['normalized_words'] = apsDF['tokenized_words'].apply(lambda x: lucem_illud.normalizeTokens(x, stopwordLst = lucem_illud.stop_words_basic, stemmer = None))"
   ]
  },
  {
   "cell_type": "code",
   "execution_count": null,
   "metadata": {
    "collapsed": true
   },
   "outputs": [],
   "source": [
    "taggedDocs = []\n",
    "for index, row in apsDF.iterrows():\n",
    "    #Just doing a simple keyword assignment\n",
    "    docKeywords = [s for s in keywords if s in row['normalized_words']]\n",
    "    docKeywords.append(row['copyrightYear'])\n",
    "    docKeywords.append(row['doi']) #This lets us extract individual documnets since doi's are unique\n",
    "    taggedDocs.append(gensim.models.doc2vec.LabeledSentence(words = row['normalized_words'], tags = docKeywords))\n",
    "apsDF['TaggedAbstracts'] = taggedDocs"
   ]
  },
  {
   "cell_type": "markdown",
   "metadata": {},
   "source": [
    "Now we can train a Doc2Vec model:"
   ]
  },
  {
   "cell_type": "code",
   "execution_count": null,
   "metadata": {
    "collapsed": true
   },
   "outputs": [],
   "source": [
    "apsD2V = gensim.models.doc2vec.Doc2Vec(apsDF['TaggedAbstracts'], size = 100) #Limiting to 100 dimensions"
   ]
  },
  {
   "cell_type": "markdown",
   "metadata": {},
   "source": [
    "We can get vectors for the tags/documents, just as we did with words. Documents are actually the centroids (high dimensional average points) of their words. "
   ]
  },
  {
   "cell_type": "code",
   "execution_count": null,
   "metadata": {
    "scrolled": true
   },
   "outputs": [],
   "source": [
    "apsD2V.docvecs[1952]"
   ]
  },
  {
   "cell_type": "markdown",
   "metadata": {},
   "source": [
    "The words can still be accessed in the same way:"
   ]
  },
  {
   "cell_type": "code",
   "execution_count": null,
   "metadata": {},
   "outputs": [],
   "source": [
    "apsD2V['atom']"
   ]
  },
  {
   "cell_type": "markdown",
   "metadata": {},
   "source": [
    "We can still use the ``most_similar`` command to perform simple semantic equations:"
   ]
  },
  {
   "cell_type": "code",
   "execution_count": null,
   "metadata": {},
   "outputs": [],
   "source": [
    "apsD2V.most_similar(positive = ['atom','electrons'], negative = ['electron'], topn = 1)"
   ]
  },
  {
   "cell_type": "markdown",
   "metadata": {},
   "source": [
    "This is interesting. **Electron** is to **electrons** as **atom** is to **atoms**. Another way to understand this, developed below is: **electrons - electron** induces a singular to plural dimension, so when we subtract **electron** from **atom** and add **electrons**, we get **atoms**! "
   ]
  },
  {
   "cell_type": "code",
   "execution_count": null,
   "metadata": {},
   "outputs": [],
   "source": [
    "apsD2V.most_similar(positive = ['einstein','law'], negative = ['equation'], topn = 1)"
   ]
  },
  {
   "cell_type": "markdown",
   "metadata": {},
   "source": [
    "In other words **Einstein** minus **equation** plus **law** equals **Meissner**--Walthur Meissner studied mechanical engineering and physics ... and was more likely to produce a \"law\" than a \"equation\", like the Meissner effect, the damping of the magnetic field in superconductors. If we built our word-embedding with a bigger corpus like the entire arXiv, a massive repository of physics preprints, we would see many more such relationships like **gravity - Newton + Einstein = relativity**."
   ]
  },
  {
   "cell_type": "markdown",
   "metadata": {},
   "source": [
    "We can also compute all of these *by hand*--explicitly wth vector algebra: "
   ]
  },
  {
   "cell_type": "code",
   "execution_count": null,
   "metadata": {},
   "outputs": [],
   "source": [
    "sklearn.metrics.pairwise.cosine_similarity(apsD2V['electron'].reshape(1,-1), apsD2V['positron'].reshape(1,-1))\n",
    "#We reorient the vectors with .reshape(1, -1) so that they can be computed without a warning in sklearn"
   ]
  },
  {
   "cell_type": "markdown",
   "metadata": {},
   "source": [
    "In the doc2vec model, the documents have vectors just as the words do, so that we can compare documents with each other and also with words (similar to how a search engine locates a webpage with a query). First, we will calculate the distance between a word and documents in the dataset:"
   ]
  },
  {
   "cell_type": "code",
   "execution_count": null,
   "metadata": {},
   "outputs": [],
   "source": [
    "apsD2V.docvecs.most_similar([ apsD2V['electron'] ], topn=5 )"
   ]
  },
  {
   "cell_type": "markdown",
   "metadata": {},
   "source": [
    "If we search for the first of these on the web (these are doi codes), we find the following...a pretty good match:\n",
    "<img src='../data/PhysRev.98.875.jpg'>"
   ]
  },
  {
   "cell_type": "markdown",
   "metadata": {},
   "source": [
    "Now let's go the other way around and find words most similar to this document:"
   ]
  },
  {
   "cell_type": "code",
   "execution_count": null,
   "metadata": {},
   "outputs": [],
   "source": [
    "apsD2V.most_similar( [ apsD2V.docvecs['10.1103/PhysRev.98.875'] ], topn=5) "
   ]
  },
  {
   "cell_type": "markdown",
   "metadata": {},
   "source": [
    "We can even look for documents most like a query composed of multiple words:"
   ]
  },
  {
   "cell_type": "code",
   "execution_count": null,
   "metadata": {},
   "outputs": [],
   "source": [
    "apsD2V.docvecs.most_similar([ apsD2V['electron']+apsD2V['positron']+apsD2V['neutron']], topn=5 )"
   ]
  },
  {
   "cell_type": "markdown",
   "metadata": {},
   "source": [
    "Now let's plot some words and documents against one another with a heatmap:"
   ]
  },
  {
   "cell_type": "code",
   "execution_count": null,
   "metadata": {
    "collapsed": true
   },
   "outputs": [],
   "source": [
    "heatmapMatrix = []\n",
    "for tagOuter in keywords:\n",
    "    column = []\n",
    "    tagVec = apsD2V.docvecs[tagOuter].reshape(1, -1)\n",
    "    for tagInner in keywords:\n",
    "        column.append(sklearn.metrics.pairwise.cosine_similarity(tagVec, apsD2V.docvecs[tagInner].reshape(1, -1))[0][0])\n",
    "    heatmapMatrix.append(column)\n",
    "heatmapMatrix = np.array(heatmapMatrix)"
   ]
  },
  {
   "cell_type": "code",
   "execution_count": null,
   "metadata": {},
   "outputs": [],
   "source": [
    "fig, ax = plt.subplots()\n",
    "hmap = ax.pcolor(heatmapMatrix, cmap='terrain')\n",
    "cbar = plt.colorbar(hmap)\n",
    "\n",
    "cbar.set_label('cosine similarity', rotation=270)\n",
    "a = ax.set_xticks(np.arange(heatmapMatrix.shape[1]) + 0.5, minor=False)\n",
    "a = ax.set_yticks(np.arange(heatmapMatrix.shape[0]) + 0.5, minor=False)\n",
    "\n",
    "a = ax.set_xticklabels(keywords, minor=False, rotation=270)\n",
    "a = ax.set_yticklabels(keywords, minor=False)"
   ]
  },
  {
   "cell_type": "markdown",
   "metadata": {},
   "source": [
    "Now let's look at a heatmap of similarities between the first ten documents in the corpus:"
   ]
  },
  {
   "cell_type": "code",
   "execution_count": null,
   "metadata": {
    "collapsed": true
   },
   "outputs": [],
   "source": [
    "targetDocs = apsDF['doi'][:10]\n",
    "\n",
    "heatmapMatrixD = []\n",
    "\n",
    "for tagOuter in targetDocs:\n",
    "    column = []\n",
    "    tagVec = apsD2V.docvecs[tagOuter].reshape(1, -1)\n",
    "    for tagInner in targetDocs:\n",
    "        column.append(sklearn.metrics.pairwise.cosine_similarity(tagVec, apsD2V.docvecs[tagInner].reshape(1, -1))[0][0])\n",
    "    heatmapMatrixD.append(column)\n",
    "heatmapMatrixD = np.array(heatmapMatrixD)"
   ]
  },
  {
   "cell_type": "code",
   "execution_count": null,
   "metadata": {},
   "outputs": [],
   "source": [
    "fig, ax = plt.subplots()\n",
    "hmap = ax.pcolor(heatmapMatrixD, cmap='terrain')\n",
    "cbar = plt.colorbar(hmap)\n",
    "\n",
    "cbar.set_label('cosine similarity', rotation=270)\n",
    "a = ax.set_xticks(np.arange(heatmapMatrixD.shape[1]) + 0.5, minor=False)\n",
    "a = ax.set_yticks(np.arange(heatmapMatrixD.shape[0]) + 0.5, minor=False)\n",
    "\n",
    "a = ax.set_xticklabels(targetDocs, minor=False, rotation=270)\n",
    "a = ax.set_yticklabels(targetDocs, minor=False)"
   ]
  },
  {
   "cell_type": "markdown",
   "metadata": {},
   "source": [
    "Now let's look at a heatmap of similarities between the first ten documents and our keywords:"
   ]
  },
  {
   "cell_type": "code",
   "execution_count": null,
   "metadata": {
    "collapsed": true
   },
   "outputs": [],
   "source": [
    "heatmapMatrixC = []\n",
    "\n",
    "for tagOuter in targetDocs:\n",
    "    column = []\n",
    "    tagVec = apsD2V.docvecs[tagOuter].reshape(1, -1)\n",
    "    for tagInner in keywords:\n",
    "        column.append(sklearn.metrics.pairwise.cosine_similarity(tagVec, apsD2V.docvecs[tagInner].reshape(1, -1))[0][0])\n",
    "    heatmapMatrixC.append(column)\n",
    "heatmapMatrixC = np.array(heatmapMatrixC)"
   ]
  },
  {
   "cell_type": "code",
   "execution_count": null,
   "metadata": {},
   "outputs": [],
   "source": [
    "fig, ax = plt.subplots()\n",
    "hmap = ax.pcolor(heatmapMatrixC, cmap='terrain')\n",
    "cbar = plt.colorbar(hmap)\n",
    "\n",
    "cbar.set_label('cosine similarity', rotation=270)\n",
    "a = ax.set_xticks(np.arange(heatmapMatrixC.shape[1]) + 0.5, minor=False)\n",
    "a = ax.set_yticks(np.arange(heatmapMatrixC.shape[0]) + 0.5, minor=False)\n",
    "\n",
    "a = ax.set_xticklabels(keywords, minor=False, rotation=270)\n",
    "a = ax.set_yticklabels(targetDocs, minor=False)"
   ]
  },
  {
   "cell_type": "markdown",
   "metadata": {},
   "source": [
    "We will save the model in case we would like to use it again."
   ]
  },
  {
   "cell_type": "code",
   "execution_count": null,
   "metadata": {
    "collapsed": true
   },
   "outputs": [],
   "source": [
    "apsD2V.save('apsW2V')"
   ]
  },
  {
   "cell_type": "markdown",
   "metadata": {},
   "source": [
    "We can later load it:"
   ]
  },
  {
   "cell_type": "code",
   "execution_count": null,
   "metadata": {
    "collapsed": true
   },
   "outputs": [],
   "source": [
    "#apsD2V = gensim.models.word2vec.Word2Vec.load('data/apsW2V')"
   ]
  },
  {
   "cell_type": "markdown",
   "metadata": {},
   "source": [
    "## <span style=\"color:red\">*Exercise 2*</span>\n",
    "\n",
    "<span style=\"color:red\">Construct cells immediately below this that build a doc2vec model with your corpus. Interrogate document and word relationships in the resulting space. Construct a heatmap that plots the distances between a subset of your documents against each other, and against a set of informative words. Find distances between *every* document in your corpus and a word or query of interest. What do these doc-doc proximities reveal about your corpus? What do these word-doc proximities highlight? Demonstrate and document one reasonable way to select a defensible subset of query-relevant documents for subsequent analysis."
   ]
  },
  {
   "cell_type": "markdown",
   "metadata": {},
   "source": [
    "# Projection"
   ]
  },
  {
   "cell_type": "markdown",
   "metadata": {},
   "source": [
    "We can also project word vectors to an arbitray semantic dimension. To demonstrate this possibility, let's first load a model trained with New York Times news articles. "
   ]
  },
  {
   "cell_type": "code",
   "execution_count": null,
   "metadata": {
    "collapsed": true
   },
   "outputs": [],
   "source": [
    "nytimes_model = gensim.models.KeyedVectors.load_word2vec_format('../data/nytimes_cbow.reduced.txt')"
   ]
  },
  {
   "cell_type": "markdown",
   "metadata": {},
   "source": [
    "First we can visualize with dimension reduction"
   ]
  },
  {
   "cell_type": "code",
   "execution_count": null,
   "metadata": {},
   "outputs": [],
   "source": [
    "#words to create dimensions\n",
    "tnytTargetWords = ['man','him','he', 'woman', 'her', 'she', 'black','blacks','African', 'white', 'whites', 'Caucasian', 'rich', 'richer', 'richest', 'expensive', 'wealthy', 'poor', 'poorer', 'poorest', 'cheap', 'inexpensive']\n",
    "#words we will be mapping\n",
    "tnytTargetWords += [\"doctor\",\"lawyer\",\"plumber\",\"scientist\",\"hairdresser\", \"nanny\",\"carpenter\",\"entrepreneur\",\"musician\",\"writer\", \"banker\",\"poet\",\"nurse\", \"steak\", \"bacon\", \"croissant\", \"cheesecake\", \"salad\", \"cheeseburger\", \"vegetables\", \"beer\", \"wine\", \"pastry\", \"basketball\", \"baseball\", \"boxing\", \"softball\", \"volleyball\", \"tennis\", \"golf\", \"hockey\", \"soccer\"]\n",
    "\n",
    "\n",
    "wordsSubMatrix = []\n",
    "for word in tnytTargetWords:\n",
    "    wordsSubMatrix.append(nytimes_model[word])\n",
    "wordsSubMatrix = np.array(wordsSubMatrix)\n",
    "wordsSubMatrix"
   ]
  },
  {
   "cell_type": "code",
   "execution_count": null,
   "metadata": {
    "collapsed": true
   },
   "outputs": [],
   "source": [
    "pcaWordsNYT = sklearn.decomposition.PCA(n_components = 50).fit(wordsSubMatrix)\n",
    "reducedPCA_dataNYT = pcaWordsNYT.transform(wordsSubMatrix)\n",
    "#T-SNE is theoretically better, but you should experiment\n",
    "tsneWordsNYT = sklearn.manifold.TSNE(n_components = 2).fit_transform(reducedPCA_dataNYT)"
   ]
  },
  {
   "cell_type": "code",
   "execution_count": null,
   "metadata": {},
   "outputs": [],
   "source": [
    "fig = plt.figure(figsize = (10,6))\n",
    "ax = fig.add_subplot(111)\n",
    "ax.set_frame_on(False)\n",
    "plt.scatter(tsneWordsNYT[:, 0], tsneWordsNYT[:, 1], alpha = 0) #Making the points invisible\n",
    "for i, word in enumerate(tnytTargetWords):\n",
    "    ax.annotate(word, (tsneWordsNYT[:, 0][i],tsneWordsNYT[:, 1][i]), size =  20 * (len(tnytTargetWords) - i) / len(tnytTargetWords))\n",
    "plt.xticks(())\n",
    "plt.yticks(())\n",
    "plt.show()"
   ]
  },
  {
   "cell_type": "markdown",
   "metadata": {},
   "source": [
    "Define some convenient functions for getting dimensions. "
   ]
  },
  {
   "cell_type": "code",
   "execution_count": null,
   "metadata": {
    "collapsed": true
   },
   "outputs": [],
   "source": [
    "def normalize(vector):\n",
    "    normalized_vector = vector / np.linalg.norm(vector)\n",
    "    return normalized_vector\n",
    "\n",
    "def dimension(model, positives, negatives):\n",
    "    diff = sum([normalize(model[x]) for x in positives]) - sum([normalize(model[y]) for y in negatives])\n",
    "    return diff"
   ]
  },
  {
   "cell_type": "markdown",
   "metadata": {},
   "source": [
    "Let's calculate three dimensions: gender, race, and class."
   ]
  },
  {
   "cell_type": "code",
   "execution_count": null,
   "metadata": {
    "collapsed": true
   },
   "outputs": [],
   "source": [
    "Gender = dimension(nytimes_model, ['man','him','he'], ['woman', 'her', 'she'])\n",
    "Race = dimension(nytimes_model, ['black','blacks','African'], ['white', 'whites', 'Caucasian'])\n",
    "Class = dimension(nytimes_model, ['rich', 'richer', 'richest', 'expensive', 'wealthy'], ['poor', 'poorer', 'poorest', 'cheap', 'inexpensive'])"
   ]
  },
  {
   "cell_type": "markdown",
   "metadata": {},
   "source": [
    "Here we have some words."
   ]
  },
  {
   "cell_type": "code",
   "execution_count": null,
   "metadata": {
    "collapsed": true
   },
   "outputs": [],
   "source": [
    "Occupations = [\"doctor\",\"lawyer\",\"plumber\",\"scientist\",\"hairdresser\", \"nanny\",\"carpenter\",\"entrepreneur\",\"musician\",\"writer\", \"banker\",\"poet\",\"nurse\"]\n",
    "\n",
    "Foods = [\"steak\", \"bacon\", \"croissant\", \"cheesecake\", \"salad\", \"cheeseburger\", \"vegetables\", \"beer\", \"wine\", \"pastry\"]\n",
    "\n",
    "Sports  = [\"basketball\", \"baseball\", \"boxing\", \"softball\", \"volleyball\", \"tennis\", \"golf\", \"hockey\", \"soccer\"]"
   ]
  },
  {
   "cell_type": "markdown",
   "metadata": {},
   "source": [
    "Define a function to project words in a word list to each of the three dimensions."
   ]
  },
  {
   "cell_type": "code",
   "execution_count": null,
   "metadata": {
    "collapsed": true
   },
   "outputs": [],
   "source": [
    "def makeDF(model, word_list):\n",
    "    g = []\n",
    "    r = []\n",
    "    c = []\n",
    "    for word in word_list:\n",
    "        g.append(sklearn.metrics.pairwise.cosine_similarity(nytimes_model[word].reshape(1,-1), Gender.reshape(1,-1))[0][0])\n",
    "        r.append(sklearn.metrics.pairwise.cosine_similarity(nytimes_model[word].reshape(1,-1), Race.reshape(1,-1))[0][0])\n",
    "        c.append(sklearn.metrics.pairwise.cosine_similarity(nytimes_model[word].reshape(1,-1), Class.reshape(1,-1))[0][0])\n",
    "    df = pandas.DataFrame({'gender': g, 'race': r, 'class': c}, index = word_list)\n",
    "    return df"
   ]
  },
  {
   "cell_type": "markdown",
   "metadata": {},
   "source": [
    "Get the projections."
   ]
  },
  {
   "cell_type": "code",
   "execution_count": null,
   "metadata": {
    "collapsed": true
   },
   "outputs": [],
   "source": [
    "OCCdf = makeDF(nytimes_model, Occupations) \n",
    "Fooddf = makeDF(nytimes_model, Foods)\n",
    "Sportsdf = makeDF(nytimes_model, Sports)"
   ]
  },
  {
   "cell_type": "markdown",
   "metadata": {},
   "source": [
    "Define some useful functions for plotting."
   ]
  },
  {
   "cell_type": "code",
   "execution_count": null,
   "metadata": {
    "collapsed": true
   },
   "outputs": [],
   "source": [
    "def Coloring(Series):\n",
    "    x = Series.values\n",
    "    y = x-x.min()\n",
    "    z = y/y.max()\n",
    "    c = list(plt.cm.rainbow(z))\n",
    "    return c\n",
    "\n",
    "def PlotDimension(ax,df, dim):\n",
    "    ax.set_frame_on(False)\n",
    "    ax.set_title(dim, fontsize = 20)\n",
    "    colors = Coloring(df[dim])\n",
    "    for i, word in enumerate(df.index):\n",
    "        ax.annotate(word, (0, df[dim][i]), color = colors[i], alpha = 0.6, fontsize = 12)\n",
    "    MaxY = df[dim].max()\n",
    "    MinY = df[dim].min()\n",
    "    plt.ylim(MinY,MaxY)\n",
    "    plt.yticks(())\n",
    "    plt.xticks(())"
   ]
  },
  {
   "cell_type": "markdown",
   "metadata": {},
   "source": [
    "Plot the occupational words in each of the three dimensions."
   ]
  },
  {
   "cell_type": "code",
   "execution_count": null,
   "metadata": {
    "scrolled": true
   },
   "outputs": [],
   "source": [
    "fig = plt.figure(figsize = (12,4))\n",
    "ax1 = fig.add_subplot(131)\n",
    "PlotDimension(ax1, OCCdf, 'gender')\n",
    "ax2 = fig.add_subplot(132)\n",
    "PlotDimension(ax2, OCCdf, 'race')\n",
    "ax3 = fig.add_subplot(133)\n",
    "PlotDimension(ax3, OCCdf, 'class')\n",
    "plt.show()"
   ]
  },
  {
   "cell_type": "markdown",
   "metadata": {},
   "source": [
    "Foods:"
   ]
  },
  {
   "cell_type": "code",
   "execution_count": null,
   "metadata": {},
   "outputs": [],
   "source": [
    "fig = plt.figure(figsize = (12,4))\n",
    "ax1 = fig.add_subplot(131)\n",
    "PlotDimension(ax1, Fooddf, 'gender')\n",
    "ax2 = fig.add_subplot(132)\n",
    "PlotDimension(ax2, Fooddf, 'race')\n",
    "ax3 = fig.add_subplot(133)\n",
    "PlotDimension(ax3, Fooddf, 'class')\n",
    "plt.show()"
   ]
  },
  {
   "cell_type": "markdown",
   "metadata": {},
   "source": [
    "Sports:"
   ]
  },
  {
   "cell_type": "code",
   "execution_count": null,
   "metadata": {},
   "outputs": [],
   "source": [
    "fig = plt.figure(figsize = (12,4))\n",
    "ax1 = fig.add_subplot(131)\n",
    "PlotDimension(ax1, Sportsdf, 'gender')\n",
    "ax2 = fig.add_subplot(132)\n",
    "PlotDimension(ax2, Sportsdf, 'race')\n",
    "ax3 = fig.add_subplot(133)\n",
    "PlotDimension(ax3, Sportsdf, 'class')\n",
    "plt.show()"
   ]
  },
  {
   "cell_type": "markdown",
   "metadata": {},
   "source": [
    "## <span style=\"color:red\">*Exercise 3*</span>\n",
    "\n",
    "<span style=\"color:red\">Construct cells immediately below this that identify semantic dimensions of interest from your data (e.g., gender: man-woman) and project words onto these dimensions. Plot the array of relevant words along each semantic dimension. Which words are most different. Which dimensions are most different? On which dimension are your words most different? Print three short textual examples from the corpus that illustrate the association you have explored.\n",
    "\n",
    "<span style=\"color:red\">***Stretch***: Project documents from your corpus along a dimension of interest. Sample relevant documents from your corpus with this functionality and explain your rationale? Calculate the cosine of the angle between two dimensions (encoded as vectors) of interest. What does this suggest about the relationship between them within your corpus? \n",
    "\n",
    "<span style=\"color:red\">***Stretch***: Create 90% bootstrap confidence intervals around your word projections onto a given dimension. Which words are *significantly* different on your semantic dimension of interest?"
   ]
  },
  {
   "cell_type": "code",
   "execution_count": null,
   "metadata": {
    "collapsed": true
   },
   "outputs": [],
   "source": []
  }
 ],
 "metadata": {
  "anaconda-cloud": {},
  "kernelspec": {
   "display_name": "Python 3",
   "language": "python",
   "name": "python3"
  },
  "language_info": {
   "codemirror_mode": {
    "name": "ipython",
    "version": 3
   },
   "file_extension": ".py",
   "mimetype": "text/x-python",
   "name": "python",
   "nbconvert_exporter": "python",
   "pygments_lexer": "ipython3",
   "version": "3.6.2"
  }
 },
 "nbformat": 4,
 "nbformat_minor": 1
}
