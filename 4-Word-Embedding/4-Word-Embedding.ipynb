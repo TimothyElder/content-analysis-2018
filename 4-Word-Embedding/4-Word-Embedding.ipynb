{
 "cells": [
  {
   "cell_type": "markdown",
   "metadata": {},
   "source": [
    "# Week 4 - Word Embeddings\n",
    "\n",
    "This week, we build on last week's topic modeling techniques by taking a text corpus we have developed, specifying an underlying number of dimensions, and training a model with a neural network auto-encoder (one of Google's word2vec  algorithms) that best describes corpus words in their local linguistic contexts, and exploring their locations in the resulting space to learn about the discursive culture that produced them. Documents here are represented as densely indexed locations in dimensions, rather than sparse mixtures of topics (as in LDA topic modeling), so that distances between those documents (and words) are consistently superior, though they require the full vector of dimension loadings (rather than just a few selected topic loadings) to describe. We will explore these spaces to understand complex, semantic relationships between words, index documents with descriptive words, identify the likelihood that a given document would have been produced by a given vector model, and explore how semantic categories can help us understand the cultures that produced them.\n",
    "\n",
    "For this notebook we will be using the following packages"
   ]
  },
  {
   "cell_type": "code",
   "execution_count": 2,
   "metadata": {},
   "outputs": [],
   "source": [
    "#Special module written for this class\n",
    "#This provides access to data and to helper functions from previous weeks\n",
    "#Make sure you update it before starting this notebook\n",
    "import lucem_illud #pip install -U git+git://github.com/Computational-Content-Analysis-2018/lucem_illud.git\n",
    "\n",
    "#All these packages need to be installed from pip\n",
    "import gensim#For word2vec, etc\n",
    "import requests #For downloading our datasets\n",
    "import nltk #For stop words and stemmers\n",
    "import numpy as np #For arrays\n",
    "import pandas #Gives us DataFrames\n",
    "import matplotlib.pyplot as plt #For graphics\n",
    "import seaborn #Makes the graphics look nicer\n",
    "import sklearn.metrics.pairwise #For cosine similarity\n",
    "import sklearn.manifold #For T-SNE\n",
    "import sklearn.decomposition #For PCA\n",
    "\n",
    "#gensim uses a couple of deprecated features\n",
    "#we can't do anything about them so lets ignore them \n",
    "import warnings\n",
    "warnings.filterwarnings(\"ignore\", category=DeprecationWarning) \n",
    "\n",
    "#This 'magic' command makes the plots work better\n",
    "#in the notebook, don't use it outside of a notebook.\n",
    "#Also you can ignore the warning\n",
    "%matplotlib inline\n",
    "\n",
    "import os #For looking through files\n",
    "import os.path #For managing file paths\n",
    "from bs4 import BeautifulSoup"
   ]
  },
  {
   "cell_type": "markdown",
   "metadata": {},
   "source": [
    "# Getting our corpora\n",
    "\n",
    "Instead of downloading our corpora, we have download them in advance; a subset of the [senate press releases](https://github.com/lintool/GrimmerSenatePressReleases) are in `grimmerPressReleases`. We will load them into a DataFrame, using a function from a couple weeks ago `loadTextDirectory`:"
   ]
  },
  {
   "cell_type": "code",
   "execution_count": 2,
   "metadata": {},
   "outputs": [
    {
     "data": {
      "text/html": [
       "<div>\n",
       "<style scoped>\n",
       "    .dataframe tbody tr th:only-of-type {\n",
       "        vertical-align: middle;\n",
       "    }\n",
       "\n",
       "    .dataframe tbody tr th {\n",
       "        vertical-align: top;\n",
       "    }\n",
       "\n",
       "    .dataframe thead th {\n",
       "        text-align: right;\n",
       "    }\n",
       "</style>\n",
       "<table border=\"1\" class=\"dataframe\">\n",
       "  <thead>\n",
       "    <tr style=\"text-align: right;\">\n",
       "      <th></th>\n",
       "      <th>text</th>\n",
       "    </tr>\n",
       "  </thead>\n",
       "  <tbody>\n",
       "    <tr>\n",
       "      <th>25Jan2007Kennedy4.txt</th>\n",
       "      <td>FOR IMMEDIATE RELEASE    FACT SHEET I...</td>\n",
       "    </tr>\n",
       "    <tr>\n",
       "      <th>20Oct2005Kennedy14.txt</th>\n",
       "      <td>FOR IMMEDIATE RELEASE     As this bil...</td>\n",
       "    </tr>\n",
       "    <tr>\n",
       "      <th>03Mar2007Kennedy7.txt</th>\n",
       "      <td>FOR IMMEDIATE RELEASE     Ann Coulter...</td>\n",
       "    </tr>\n",
       "    <tr>\n",
       "      <th>10Jul2007Kennedy8.txt</th>\n",
       "      <td>FOR IMMEDIATE RELEASE  Thank you all ...</td>\n",
       "    </tr>\n",
       "    <tr>\n",
       "      <th>20Jul2007Kennedy14.txt</th>\n",
       "      <td>FOR IMMEDIATE RELEASE  WASHINGTON  DC...</td>\n",
       "    </tr>\n",
       "  </tbody>\n",
       "</table>\n",
       "</div>"
      ],
      "text/plain": [
       "                                                                     text\n",
       "25Jan2007Kennedy4.txt            FOR IMMEDIATE RELEASE    FACT SHEET I...\n",
       "20Oct2005Kennedy14.txt           FOR IMMEDIATE RELEASE     As this bil...\n",
       "03Mar2007Kennedy7.txt            FOR IMMEDIATE RELEASE     Ann Coulter...\n",
       "10Jul2007Kennedy8.txt            FOR IMMEDIATE RELEASE  Thank you all ...\n",
       "20Jul2007Kennedy14.txt           FOR IMMEDIATE RELEASE  WASHINGTON  DC..."
      ]
     },
     "execution_count": 2,
     "metadata": {},
     "output_type": "execute_result"
    }
   ],
   "source": [
    "kennedyDF = lucem_illud.loadTextDirectory('../data/grimmerPressReleases/Kennedy/')\n",
    "kennedyDF[:5]"
   ]
  },
  {
   "cell_type": "markdown",
   "metadata": {},
   "source": [
    "This gets us one Senator's data, but with no metadata, we can add a category column with a simple command:"
   ]
  },
  {
   "cell_type": "code",
   "execution_count": 3,
   "metadata": {},
   "outputs": [
    {
     "data": {
      "text/html": [
       "<div>\n",
       "<style scoped>\n",
       "    .dataframe tbody tr th:only-of-type {\n",
       "        vertical-align: middle;\n",
       "    }\n",
       "\n",
       "    .dataframe tbody tr th {\n",
       "        vertical-align: top;\n",
       "    }\n",
       "\n",
       "    .dataframe thead th {\n",
       "        text-align: right;\n",
       "    }\n",
       "</style>\n",
       "<table border=\"1\" class=\"dataframe\">\n",
       "  <thead>\n",
       "    <tr style=\"text-align: right;\">\n",
       "      <th></th>\n",
       "      <th>text</th>\n",
       "      <th>category</th>\n",
       "    </tr>\n",
       "  </thead>\n",
       "  <tbody>\n",
       "    <tr>\n",
       "      <th>25Jan2007Kennedy4.txt</th>\n",
       "      <td>FOR IMMEDIATE RELEASE    FACT SHEET I...</td>\n",
       "      <td>Kennedy</td>\n",
       "    </tr>\n",
       "    <tr>\n",
       "      <th>20Oct2005Kennedy14.txt</th>\n",
       "      <td>FOR IMMEDIATE RELEASE     As this bil...</td>\n",
       "      <td>Kennedy</td>\n",
       "    </tr>\n",
       "    <tr>\n",
       "      <th>03Mar2007Kennedy7.txt</th>\n",
       "      <td>FOR IMMEDIATE RELEASE     Ann Coulter...</td>\n",
       "      <td>Kennedy</td>\n",
       "    </tr>\n",
       "    <tr>\n",
       "      <th>10Jul2007Kennedy8.txt</th>\n",
       "      <td>FOR IMMEDIATE RELEASE  Thank you all ...</td>\n",
       "      <td>Kennedy</td>\n",
       "    </tr>\n",
       "    <tr>\n",
       "      <th>20Jul2007Kennedy14.txt</th>\n",
       "      <td>FOR IMMEDIATE RELEASE  WASHINGTON  DC...</td>\n",
       "      <td>Kennedy</td>\n",
       "    </tr>\n",
       "  </tbody>\n",
       "</table>\n",
       "</div>"
      ],
      "text/plain": [
       "                                                                     text  \\\n",
       "25Jan2007Kennedy4.txt            FOR IMMEDIATE RELEASE    FACT SHEET I...   \n",
       "20Oct2005Kennedy14.txt           FOR IMMEDIATE RELEASE     As this bil...   \n",
       "03Mar2007Kennedy7.txt            FOR IMMEDIATE RELEASE     Ann Coulter...   \n",
       "10Jul2007Kennedy8.txt            FOR IMMEDIATE RELEASE  Thank you all ...   \n",
       "20Jul2007Kennedy14.txt           FOR IMMEDIATE RELEASE  WASHINGTON  DC...   \n",
       "\n",
       "                       category  \n",
       "25Jan2007Kennedy4.txt   Kennedy  \n",
       "20Oct2005Kennedy14.txt  Kennedy  \n",
       "03Mar2007Kennedy7.txt   Kennedy  \n",
       "10Jul2007Kennedy8.txt   Kennedy  \n",
       "20Jul2007Kennedy14.txt  Kennedy  "
      ]
     },
     "execution_count": 3,
     "metadata": {},
     "output_type": "execute_result"
    }
   ],
   "source": [
    "kennedyDF['category'] = 'Kennedy'\n",
    "kennedyDF[:5]"
   ]
  },
  {
   "cell_type": "markdown",
   "metadata": {},
   "source": [
    "We also will be wanting to load all the senators so we will need to loop over all the directories"
   ]
  },
  {
   "cell_type": "code",
   "execution_count": 4,
   "metadata": {},
   "outputs": [
    {
     "data": {
      "text/html": [
       "<div>\n",
       "<style scoped>\n",
       "    .dataframe tbody tr th:only-of-type {\n",
       "        vertical-align: middle;\n",
       "    }\n",
       "\n",
       "    .dataframe tbody tr th {\n",
       "        vertical-align: top;\n",
       "    }\n",
       "\n",
       "    .dataframe thead th {\n",
       "        text-align: right;\n",
       "    }\n",
       "</style>\n",
       "<table border=\"1\" class=\"dataframe\">\n",
       "  <thead>\n",
       "    <tr style=\"text-align: right;\">\n",
       "      <th></th>\n",
       "      <th>text</th>\n",
       "      <th>category</th>\n",
       "    </tr>\n",
       "  </thead>\n",
       "  <tbody>\n",
       "    <tr>\n",
       "      <th>19Mar2007Kyl117.txt</th>\n",
       "      <td>SECURITY ON STRIKE\\n  The U.S. Senate recently...</td>\n",
       "      <td>Kyl</td>\n",
       "    </tr>\n",
       "    <tr>\n",
       "      <th>10Nov2005Kyl304.txt</th>\n",
       "      <td>SEN. KYL AMENDMENT ON HUMVEE UPGRADE PASSES SE...</td>\n",
       "      <td>Kyl</td>\n",
       "    </tr>\n",
       "    <tr>\n",
       "      <th>6Dec2007Kyl46.txt</th>\n",
       "      <td>SEN. KYL ELECTED ASSISTANT SENATE REPUBLICAN L...</td>\n",
       "      <td>Kyl</td>\n",
       "    </tr>\n",
       "    <tr>\n",
       "      <th>29Aug2005Kyl347.txt</th>\n",
       "      <td>SEN. KYL: GOOD NEWS AND BAD NEWS FOR BACK TO S...</td>\n",
       "      <td>Kyl</td>\n",
       "    </tr>\n",
       "    <tr>\n",
       "      <th>11Sep2006Kyl161.txt</th>\n",
       "      <td>SENATE COMMEMORATES FIVE YEAR MARK OF 9/11 ATT...</td>\n",
       "      <td>Kyl</td>\n",
       "    </tr>\n",
       "    <tr>\n",
       "      <th>13Jul2006Kyl186.txt</th>\n",
       "      <td>SEN. KYL WINS AMENDMENT TO CURTAIL 'CATCH AND ...</td>\n",
       "      <td>Kyl</td>\n",
       "    </tr>\n",
       "    <tr>\n",
       "      <th>28Jun2005Kyl370.txt</th>\n",
       "      <td>SENS. MCCAIN, KYL SAY NO TO ENERGY BILL\\n  Sen...</td>\n",
       "      <td>Kyl</td>\n",
       "    </tr>\n",
       "    <tr>\n",
       "      <th>14Jul2004Kyl473.txt</th>\n",
       "      <td>SEN. KYL COSPONSORS BILL TO FIGHT CRIME, TERRO...</td>\n",
       "      <td>Kyl</td>\n",
       "    </tr>\n",
       "    <tr>\n",
       "      <th>9Mar2006Kyl246.txt</th>\n",
       "      <td>SEN. KYL, REP. GRIJALVA APPLAUD SENATE COMMITT...</td>\n",
       "      <td>Kyl</td>\n",
       "    </tr>\n",
       "    <tr>\n",
       "      <th>15Dec2005Kyl288.txt</th>\n",
       "      <td>SEN. KYL CITES EPA 'FLEXIBILITY' ON AZ WATER\\n...</td>\n",
       "      <td>Kyl</td>\n",
       "    </tr>\n",
       "    <tr>\n",
       "      <th>10Aug2007Kyl74.txt</th>\n",
       "      <td>SEN. KYL ISSUES STATEMENT ON WHITE HOUSE BORDE...</td>\n",
       "      <td>Kyl</td>\n",
       "    </tr>\n",
       "    <tr>\n",
       "      <th>26Apr2006Kyl228.txt</th>\n",
       "      <td>SEN. KYL, SENATE APPROVES $1.9 BILLION FOR BOR...</td>\n",
       "      <td>Kyl</td>\n",
       "    </tr>\n",
       "    <tr>\n",
       "      <th>22Jun2004Kyl485.txt</th>\n",
       "      <td>SUBCOMMITTEE HEARING REVIEWS NEW TOOLS FOR FIG...</td>\n",
       "      <td>Kyl</td>\n",
       "    </tr>\n",
       "    <tr>\n",
       "      <th>6Mar2006Kyl250.txt</th>\n",
       "      <td>SEN. KYL MEASURE ENSURES ARIZONA'S SHARE OF HO...</td>\n",
       "      <td>Kyl</td>\n",
       "    </tr>\n",
       "    <tr>\n",
       "      <th>27Jul2006Kyl176.txt</th>\n",
       "      <td>SEN. KYL HAILS ENACTMENT OF CHILD PROTECTION A...</td>\n",
       "      <td>Kyl</td>\n",
       "    </tr>\n",
       "    <tr>\n",
       "      <th>25Jan2007Kyl134.txt</th>\n",
       "      <td>SEN. KYL-BACKED BILL CREATES FIVE NEW FEDERAL ...</td>\n",
       "      <td>Kyl</td>\n",
       "    </tr>\n",
       "    <tr>\n",
       "      <th>3Jan2005Kyl422.txt</th>\n",
       "      <td>GOOD NEWS, BAD NEWS ABOUT LOWERING PRESCRIPTIO...</td>\n",
       "      <td>Kyl</td>\n",
       "    </tr>\n",
       "    <tr>\n",
       "      <th>6Mar2006Kyl251.txt</th>\n",
       "      <td>THE STATE OF NATIONAL SECURITY\\n  By U.S. Sena...</td>\n",
       "      <td>Kyl</td>\n",
       "    </tr>\n",
       "    <tr>\n",
       "      <th>4Jun2007Kyl94.txt</th>\n",
       "      <td>LEGISLATIVE BLACKMAIL\\n  Congress recently app...</td>\n",
       "      <td>Kyl</td>\n",
       "    </tr>\n",
       "    <tr>\n",
       "      <th>24Dec2007Kyl36.txt</th>\n",
       "      <td>WRAPPING UP THE YEAR\\n  The Senate's last day ...</td>\n",
       "      <td>Kyl</td>\n",
       "    </tr>\n",
       "    <tr>\n",
       "      <th>15Nov2004Kyl436.txt</th>\n",
       "      <td>SEN. KYL COMMENTS ON BUSH CABINET DEPARTURES\\n...</td>\n",
       "      <td>Kyl</td>\n",
       "    </tr>\n",
       "    <tr>\n",
       "      <th>1Aug2006Kyl174.txt</th>\n",
       "      <td>SEN. KYL, SENATE APPROVE GULF OF MEXICO ENERGY...</td>\n",
       "      <td>Kyl</td>\n",
       "    </tr>\n",
       "    <tr>\n",
       "      <th>17Mar2005Kyl399.txt</th>\n",
       "      <td>SEN. KYL CRITICIZES MEXICAN PRESIDENT FOR THRE...</td>\n",
       "      <td>Kyl</td>\n",
       "    </tr>\n",
       "    <tr>\n",
       "      <th>14Apr2008Kyl3.txt</th>\n",
       "      <td>FURTHER PROGRESS IN IRAQ\\n  Last week, the U.S...</td>\n",
       "      <td>Kyl</td>\n",
       "    </tr>\n",
       "    <tr>\n",
       "      <th>28Sep2005Kyl327.txt</th>\n",
       "      <td>SEN. KYL ADDRESSES HISPANIC LEADERSHIP SUMMIT ...</td>\n",
       "      <td>Kyl</td>\n",
       "    </tr>\n",
       "    <tr>\n",
       "      <th>26Jul2004Kyl467.txt</th>\n",
       "      <td>AN AUGUST REPORT FROM THE SENATE\\n  By Sen. Jo...</td>\n",
       "      <td>Kyl</td>\n",
       "    </tr>\n",
       "    <tr>\n",
       "      <th>26Feb2007Kyl125.txt</th>\n",
       "      <td>CAUTIOUS OPTIMISM\\n  I recently had the opport...</td>\n",
       "      <td>Kyl</td>\n",
       "    </tr>\n",
       "    <tr>\n",
       "      <th>31Jul2006Kyl175.txt</th>\n",
       "      <td>GETTING TOUGH ON CHILD PREDATORS\\n  It was onl...</td>\n",
       "      <td>Kyl</td>\n",
       "    </tr>\n",
       "    <tr>\n",
       "      <th>8Jun2006Kyl204.txt</th>\n",
       "      <td>SEN. KYL ISSUES STATEMENT REGARDING DEATH OF A...</td>\n",
       "      <td>Kyl</td>\n",
       "    </tr>\n",
       "    <tr>\n",
       "      <th>11Dec2006Kyl147.txt</th>\n",
       "      <td>SEN. KYL NAMES NEW LEADERSHIP STAFF TEAM TO SE...</td>\n",
       "      <td>Kyl</td>\n",
       "    </tr>\n",
       "    <tr>\n",
       "      <th>...</th>\n",
       "      <td>...</td>\n",
       "      <td>...</td>\n",
       "    </tr>\n",
       "    <tr>\n",
       "      <th>17Jul2006Kerry86.txt</th>\n",
       "      <td>Releases                               ...</td>\n",
       "      <td>Kerry</td>\n",
       "    </tr>\n",
       "    <tr>\n",
       "      <th>21Dec2005Kerry1.txt</th>\n",
       "      <td>Releases                               ...</td>\n",
       "      <td>Kerry</td>\n",
       "    </tr>\n",
       "    <tr>\n",
       "      <th>08Dec2005Kerry6.txt</th>\n",
       "      <td>Releases                               ...</td>\n",
       "      <td>Kerry</td>\n",
       "    </tr>\n",
       "    <tr>\n",
       "      <th>02Feb2005Kerry261.txt</th>\n",
       "      <td>Releases                               ...</td>\n",
       "      <td>Kerry</td>\n",
       "    </tr>\n",
       "    <tr>\n",
       "      <th>07Jul2007Kerry261.txt</th>\n",
       "      <td>Releases                               ...</td>\n",
       "      <td>Kerry</td>\n",
       "    </tr>\n",
       "    <tr>\n",
       "      <th>12Oct2005Kerry63.txt</th>\n",
       "      <td>Releases                               ...</td>\n",
       "      <td>Kerry</td>\n",
       "    </tr>\n",
       "    <tr>\n",
       "      <th>19May2005Kerry179.txt</th>\n",
       "      <td>Releases                               ...</td>\n",
       "      <td>Kerry</td>\n",
       "    </tr>\n",
       "    <tr>\n",
       "      <th>26Jun2007Kerry285.txt</th>\n",
       "      <td>Releases                               ...</td>\n",
       "      <td>Kerry</td>\n",
       "    </tr>\n",
       "    <tr>\n",
       "      <th>04Aug2006Kerry65.txt</th>\n",
       "      <td>Releases                               ...</td>\n",
       "      <td>Kerry</td>\n",
       "    </tr>\n",
       "    <tr>\n",
       "      <th>03Aug2007Kerry201.txt</th>\n",
       "      <td>Releases                               ...</td>\n",
       "      <td>Kerry</td>\n",
       "    </tr>\n",
       "    <tr>\n",
       "      <th>18Jul2005Kerry120.txt</th>\n",
       "      <td>Releases                               ...</td>\n",
       "      <td>Kerry</td>\n",
       "    </tr>\n",
       "    <tr>\n",
       "      <th>23Apr2006Kerry137.txt</th>\n",
       "      <td>Releases                               ...</td>\n",
       "      <td>Kerry</td>\n",
       "    </tr>\n",
       "    <tr>\n",
       "      <th>15Feb2007Kerry458.txt</th>\n",
       "      <td>Releases                               ...</td>\n",
       "      <td>Kerry</td>\n",
       "    </tr>\n",
       "    <tr>\n",
       "      <th>19Jul2005Kerry117.txt</th>\n",
       "      <td>Releases                               ...</td>\n",
       "      <td>Kerry</td>\n",
       "    </tr>\n",
       "    <tr>\n",
       "      <th>08Jun2007Kerry318.txt</th>\n",
       "      <td>Releases                               ...</td>\n",
       "      <td>Kerry</td>\n",
       "    </tr>\n",
       "    <tr>\n",
       "      <th>12Apr2007Kerry378.txt</th>\n",
       "      <td>Releases                               ...</td>\n",
       "      <td>Kerry</td>\n",
       "    </tr>\n",
       "    <tr>\n",
       "      <th>10Jul2007Kerry255.txt</th>\n",
       "      <td>Releases                               ...</td>\n",
       "      <td>Kerry</td>\n",
       "    </tr>\n",
       "    <tr>\n",
       "      <th>06Mar2007Kerry435.txt</th>\n",
       "      <td>Releases                               ...</td>\n",
       "      <td>Kerry</td>\n",
       "    </tr>\n",
       "    <tr>\n",
       "      <th>19Sep2006Kerry41.txt</th>\n",
       "      <td>Releases                               ...</td>\n",
       "      <td>Kerry</td>\n",
       "    </tr>\n",
       "    <tr>\n",
       "      <th>12Jul2007Kerry251.txt</th>\n",
       "      <td>Releases                               ...</td>\n",
       "      <td>Kerry</td>\n",
       "    </tr>\n",
       "    <tr>\n",
       "      <th>17Sep2007Kerry157.txt</th>\n",
       "      <td>Releases                               ...</td>\n",
       "      <td>Kerry</td>\n",
       "    </tr>\n",
       "    <tr>\n",
       "      <th>04Nov2005Kerry34.txt</th>\n",
       "      <td>Releases                               ...</td>\n",
       "      <td>Kerry</td>\n",
       "    </tr>\n",
       "    <tr>\n",
       "      <th>12Aug2005Kerry97.txt</th>\n",
       "      <td>Releases                               ...</td>\n",
       "      <td>Kerry</td>\n",
       "    </tr>\n",
       "    <tr>\n",
       "      <th>24Apr2007Kerry363.txt</th>\n",
       "      <td>Releases                               ...</td>\n",
       "      <td>Kerry</td>\n",
       "    </tr>\n",
       "    <tr>\n",
       "      <th>05Sep2007Kerry174.txt</th>\n",
       "      <td>Releases                               ...</td>\n",
       "      <td>Kerry</td>\n",
       "    </tr>\n",
       "    <tr>\n",
       "      <th>12Apr2005Kerry207.txt</th>\n",
       "      <td>Releases                               ...</td>\n",
       "      <td>Kerry</td>\n",
       "    </tr>\n",
       "    <tr>\n",
       "      <th>12Jun2007Kerry315.txt</th>\n",
       "      <td>Releases                               ...</td>\n",
       "      <td>Kerry</td>\n",
       "    </tr>\n",
       "    <tr>\n",
       "      <th>07May2007Kerry353.txt</th>\n",
       "      <td>Releases                               ...</td>\n",
       "      <td>Kerry</td>\n",
       "    </tr>\n",
       "    <tr>\n",
       "      <th>20Sep2007Kerry147.txt</th>\n",
       "      <td>Releases                               ...</td>\n",
       "      <td>Kerry</td>\n",
       "    </tr>\n",
       "    <tr>\n",
       "      <th>25Aug2006Kerry56.txt</th>\n",
       "      <td>Releases                               ...</td>\n",
       "      <td>Kerry</td>\n",
       "    </tr>\n",
       "  </tbody>\n",
       "</table>\n",
       "<p>3904 rows × 2 columns</p>\n",
       "</div>"
      ],
      "text/plain": [
       "                                                                    text  \\\n",
       "19Mar2007Kyl117.txt    SECURITY ON STRIKE\\n  The U.S. Senate recently...   \n",
       "10Nov2005Kyl304.txt    SEN. KYL AMENDMENT ON HUMVEE UPGRADE PASSES SE...   \n",
       "6Dec2007Kyl46.txt      SEN. KYL ELECTED ASSISTANT SENATE REPUBLICAN L...   \n",
       "29Aug2005Kyl347.txt    SEN. KYL: GOOD NEWS AND BAD NEWS FOR BACK TO S...   \n",
       "11Sep2006Kyl161.txt    SENATE COMMEMORATES FIVE YEAR MARK OF 9/11 ATT...   \n",
       "13Jul2006Kyl186.txt    SEN. KYL WINS AMENDMENT TO CURTAIL 'CATCH AND ...   \n",
       "28Jun2005Kyl370.txt    SENS. MCCAIN, KYL SAY NO TO ENERGY BILL\\n  Sen...   \n",
       "14Jul2004Kyl473.txt    SEN. KYL COSPONSORS BILL TO FIGHT CRIME, TERRO...   \n",
       "9Mar2006Kyl246.txt     SEN. KYL, REP. GRIJALVA APPLAUD SENATE COMMITT...   \n",
       "15Dec2005Kyl288.txt    SEN. KYL CITES EPA 'FLEXIBILITY' ON AZ WATER\\n...   \n",
       "10Aug2007Kyl74.txt     SEN. KYL ISSUES STATEMENT ON WHITE HOUSE BORDE...   \n",
       "26Apr2006Kyl228.txt    SEN. KYL, SENATE APPROVES $1.9 BILLION FOR BOR...   \n",
       "22Jun2004Kyl485.txt    SUBCOMMITTEE HEARING REVIEWS NEW TOOLS FOR FIG...   \n",
       "6Mar2006Kyl250.txt     SEN. KYL MEASURE ENSURES ARIZONA'S SHARE OF HO...   \n",
       "27Jul2006Kyl176.txt    SEN. KYL HAILS ENACTMENT OF CHILD PROTECTION A...   \n",
       "25Jan2007Kyl134.txt    SEN. KYL-BACKED BILL CREATES FIVE NEW FEDERAL ...   \n",
       "3Jan2005Kyl422.txt     GOOD NEWS, BAD NEWS ABOUT LOWERING PRESCRIPTIO...   \n",
       "6Mar2006Kyl251.txt     THE STATE OF NATIONAL SECURITY\\n  By U.S. Sena...   \n",
       "4Jun2007Kyl94.txt      LEGISLATIVE BLACKMAIL\\n  Congress recently app...   \n",
       "24Dec2007Kyl36.txt     WRAPPING UP THE YEAR\\n  The Senate's last day ...   \n",
       "15Nov2004Kyl436.txt    SEN. KYL COMMENTS ON BUSH CABINET DEPARTURES\\n...   \n",
       "1Aug2006Kyl174.txt     SEN. KYL, SENATE APPROVE GULF OF MEXICO ENERGY...   \n",
       "17Mar2005Kyl399.txt    SEN. KYL CRITICIZES MEXICAN PRESIDENT FOR THRE...   \n",
       "14Apr2008Kyl3.txt      FURTHER PROGRESS IN IRAQ\\n  Last week, the U.S...   \n",
       "28Sep2005Kyl327.txt    SEN. KYL ADDRESSES HISPANIC LEADERSHIP SUMMIT ...   \n",
       "26Jul2004Kyl467.txt    AN AUGUST REPORT FROM THE SENATE\\n  By Sen. Jo...   \n",
       "26Feb2007Kyl125.txt    CAUTIOUS OPTIMISM\\n  I recently had the opport...   \n",
       "31Jul2006Kyl175.txt    GETTING TOUGH ON CHILD PREDATORS\\n  It was onl...   \n",
       "8Jun2006Kyl204.txt     SEN. KYL ISSUES STATEMENT REGARDING DEATH OF A...   \n",
       "11Dec2006Kyl147.txt    SEN. KYL NAMES NEW LEADERSHIP STAFF TEAM TO SE...   \n",
       "...                                                                  ...   \n",
       "17Jul2006Kerry86.txt          Releases                               ...   \n",
       "21Dec2005Kerry1.txt           Releases                               ...   \n",
       "08Dec2005Kerry6.txt           Releases                               ...   \n",
       "02Feb2005Kerry261.txt         Releases                               ...   \n",
       "07Jul2007Kerry261.txt         Releases                               ...   \n",
       "12Oct2005Kerry63.txt          Releases                               ...   \n",
       "19May2005Kerry179.txt         Releases                               ...   \n",
       "26Jun2007Kerry285.txt         Releases                               ...   \n",
       "04Aug2006Kerry65.txt          Releases                               ...   \n",
       "03Aug2007Kerry201.txt         Releases                               ...   \n",
       "18Jul2005Kerry120.txt         Releases                               ...   \n",
       "23Apr2006Kerry137.txt         Releases                               ...   \n",
       "15Feb2007Kerry458.txt         Releases                               ...   \n",
       "19Jul2005Kerry117.txt         Releases                               ...   \n",
       "08Jun2007Kerry318.txt         Releases                               ...   \n",
       "12Apr2007Kerry378.txt         Releases                               ...   \n",
       "10Jul2007Kerry255.txt         Releases                               ...   \n",
       "06Mar2007Kerry435.txt         Releases                               ...   \n",
       "19Sep2006Kerry41.txt          Releases                               ...   \n",
       "12Jul2007Kerry251.txt         Releases                               ...   \n",
       "17Sep2007Kerry157.txt         Releases                               ...   \n",
       "04Nov2005Kerry34.txt          Releases                               ...   \n",
       "12Aug2005Kerry97.txt          Releases                               ...   \n",
       "24Apr2007Kerry363.txt         Releases                               ...   \n",
       "05Sep2007Kerry174.txt         Releases                               ...   \n",
       "12Apr2005Kerry207.txt         Releases                               ...   \n",
       "12Jun2007Kerry315.txt         Releases                               ...   \n",
       "07May2007Kerry353.txt         Releases                               ...   \n",
       "20Sep2007Kerry147.txt         Releases                               ...   \n",
       "25Aug2006Kerry56.txt          Releases                               ...   \n",
       "\n",
       "                      category  \n",
       "19Mar2007Kyl117.txt        Kyl  \n",
       "10Nov2005Kyl304.txt        Kyl  \n",
       "6Dec2007Kyl46.txt          Kyl  \n",
       "29Aug2005Kyl347.txt        Kyl  \n",
       "11Sep2006Kyl161.txt        Kyl  \n",
       "13Jul2006Kyl186.txt        Kyl  \n",
       "28Jun2005Kyl370.txt        Kyl  \n",
       "14Jul2004Kyl473.txt        Kyl  \n",
       "9Mar2006Kyl246.txt         Kyl  \n",
       "15Dec2005Kyl288.txt        Kyl  \n",
       "10Aug2007Kyl74.txt         Kyl  \n",
       "26Apr2006Kyl228.txt        Kyl  \n",
       "22Jun2004Kyl485.txt        Kyl  \n",
       "6Mar2006Kyl250.txt         Kyl  \n",
       "27Jul2006Kyl176.txt        Kyl  \n",
       "25Jan2007Kyl134.txt        Kyl  \n",
       "3Jan2005Kyl422.txt         Kyl  \n",
       "6Mar2006Kyl251.txt         Kyl  \n",
       "4Jun2007Kyl94.txt          Kyl  \n",
       "24Dec2007Kyl36.txt         Kyl  \n",
       "15Nov2004Kyl436.txt        Kyl  \n",
       "1Aug2006Kyl174.txt         Kyl  \n",
       "17Mar2005Kyl399.txt        Kyl  \n",
       "14Apr2008Kyl3.txt          Kyl  \n",
       "28Sep2005Kyl327.txt        Kyl  \n",
       "26Jul2004Kyl467.txt        Kyl  \n",
       "26Feb2007Kyl125.txt        Kyl  \n",
       "31Jul2006Kyl175.txt        Kyl  \n",
       "8Jun2006Kyl204.txt         Kyl  \n",
       "11Dec2006Kyl147.txt        Kyl  \n",
       "...                        ...  \n",
       "17Jul2006Kerry86.txt     Kerry  \n",
       "21Dec2005Kerry1.txt      Kerry  \n",
       "08Dec2005Kerry6.txt      Kerry  \n",
       "02Feb2005Kerry261.txt    Kerry  \n",
       "07Jul2007Kerry261.txt    Kerry  \n",
       "12Oct2005Kerry63.txt     Kerry  \n",
       "19May2005Kerry179.txt    Kerry  \n",
       "26Jun2007Kerry285.txt    Kerry  \n",
       "04Aug2006Kerry65.txt     Kerry  \n",
       "03Aug2007Kerry201.txt    Kerry  \n",
       "18Jul2005Kerry120.txt    Kerry  \n",
       "23Apr2006Kerry137.txt    Kerry  \n",
       "15Feb2007Kerry458.txt    Kerry  \n",
       "19Jul2005Kerry117.txt    Kerry  \n",
       "08Jun2007Kerry318.txt    Kerry  \n",
       "12Apr2007Kerry378.txt    Kerry  \n",
       "10Jul2007Kerry255.txt    Kerry  \n",
       "06Mar2007Kerry435.txt    Kerry  \n",
       "19Sep2006Kerry41.txt     Kerry  \n",
       "12Jul2007Kerry251.txt    Kerry  \n",
       "17Sep2007Kerry157.txt    Kerry  \n",
       "04Nov2005Kerry34.txt     Kerry  \n",
       "12Aug2005Kerry97.txt     Kerry  \n",
       "24Apr2007Kerry363.txt    Kerry  \n",
       "05Sep2007Kerry174.txt    Kerry  \n",
       "12Apr2005Kerry207.txt    Kerry  \n",
       "12Jun2007Kerry315.txt    Kerry  \n",
       "07May2007Kerry353.txt    Kerry  \n",
       "20Sep2007Kerry147.txt    Kerry  \n",
       "25Aug2006Kerry56.txt     Kerry  \n",
       "\n",
       "[3904 rows x 2 columns]"
      ]
     },
     "execution_count": 4,
     "metadata": {},
     "output_type": "execute_result"
    }
   ],
   "source": [
    "dataDir = '../data/grimmerPressReleases'\n",
    "\n",
    "senReleasesDF = pandas.DataFrame()\n",
    "\n",
    "for senatorDir in (file for file in os.scandir(dataDir) if not file.name.startswith('.') and file.is_dir()):\n",
    "    senDF = lucem_illud.loadTextDirectory(senatorDir.path)\n",
    "    senDF['category'] = senatorDir.name\n",
    "    senReleasesDF = senReleasesDF.append(senDF, ignore_index = False)\n",
    "\n",
    "senReleasesDF"
   ]
  },
  {
   "cell_type": "markdown",
   "metadata": {},
   "source": [
    "We also want to remove stop words and stem. Tokenizing requires two steps. Word2Vec needs to retain the sentence structure so as to capture a \"continuous bag of words (CBOW)\" and all of the skip-grams within a word window. The algorithm tries to preserve the distances induced by one of these two local structures. This is very different from clustering and LDA topic modeling which extract unordered words alone. As such, tokenizing is slightly more involved, but we can still use `lucem_illud`."
   ]
  },
  {
   "cell_type": "code",
   "execution_count": 5,
   "metadata": {},
   "outputs": [
    {
     "data": {
      "text/html": [
       "<div>\n",
       "<style scoped>\n",
       "    .dataframe tbody tr th:only-of-type {\n",
       "        vertical-align: middle;\n",
       "    }\n",
       "\n",
       "    .dataframe tbody tr th {\n",
       "        vertical-align: top;\n",
       "    }\n",
       "\n",
       "    .dataframe thead th {\n",
       "        text-align: right;\n",
       "    }\n",
       "</style>\n",
       "<table border=\"1\" class=\"dataframe\">\n",
       "  <thead>\n",
       "    <tr style=\"text-align: right;\">\n",
       "      <th></th>\n",
       "      <th>text</th>\n",
       "      <th>category</th>\n",
       "      <th>tokenized_sents</th>\n",
       "      <th>normalized_sents</th>\n",
       "    </tr>\n",
       "  </thead>\n",
       "  <tbody>\n",
       "    <tr>\n",
       "      <th>19Mar2007Kyl117.txt</th>\n",
       "      <td>SECURITY ON STRIKE\\n  The U.S. Senate recently...</td>\n",
       "      <td>Kyl</td>\n",
       "      <td>[[SECURITY, ON, STRIKE, The, U.S., Senate, rec...</td>\n",
       "      <td>[[security, strike, senate, recently, approved...</td>\n",
       "    </tr>\n",
       "    <tr>\n",
       "      <th>10Nov2005Kyl304.txt</th>\n",
       "      <td>SEN. KYL AMENDMENT ON HUMVEE UPGRADE PASSES SE...</td>\n",
       "      <td>Kyl</td>\n",
       "      <td>[[SEN., KYL, AMENDMENT, ON, HUMVEE, UPGRADE, P...</td>\n",
       "      <td>[[kyl, amendment, humvee, upgrade, passes, sen...</td>\n",
       "    </tr>\n",
       "    <tr>\n",
       "      <th>6Dec2007Kyl46.txt</th>\n",
       "      <td>SEN. KYL ELECTED ASSISTANT SENATE REPUBLICAN L...</td>\n",
       "      <td>Kyl</td>\n",
       "      <td>[[SEN., KYL, ELECTED, ASSISTANT, SENATE, REPUB...</td>\n",
       "      <td>[[kyl, elected, assistant, senate, republican,...</td>\n",
       "    </tr>\n",
       "    <tr>\n",
       "      <th>29Aug2005Kyl347.txt</th>\n",
       "      <td>SEN. KYL: GOOD NEWS AND BAD NEWS FOR BACK TO S...</td>\n",
       "      <td>Kyl</td>\n",
       "      <td>[[SEN., KYL, :, GOOD, NEWS, AND, BAD, NEWS, FO...</td>\n",
       "      <td>[[kyl, good, news, bad, news, back, school, st...</td>\n",
       "    </tr>\n",
       "    <tr>\n",
       "      <th>11Sep2006Kyl161.txt</th>\n",
       "      <td>SENATE COMMEMORATES FIVE YEAR MARK OF 9/11 ATT...</td>\n",
       "      <td>Kyl</td>\n",
       "      <td>[[SENATE, COMMEMORATES, FIVE, YEAR, MARK, OF, ...</td>\n",
       "      <td>[[senate, commemorates, five, year, mark, atta...</td>\n",
       "    </tr>\n",
       "  </tbody>\n",
       "</table>\n",
       "</div>"
      ],
      "text/plain": [
       "                                                                  text  \\\n",
       "19Mar2007Kyl117.txt  SECURITY ON STRIKE\\n  The U.S. Senate recently...   \n",
       "10Nov2005Kyl304.txt  SEN. KYL AMENDMENT ON HUMVEE UPGRADE PASSES SE...   \n",
       "6Dec2007Kyl46.txt    SEN. KYL ELECTED ASSISTANT SENATE REPUBLICAN L...   \n",
       "29Aug2005Kyl347.txt  SEN. KYL: GOOD NEWS AND BAD NEWS FOR BACK TO S...   \n",
       "11Sep2006Kyl161.txt  SENATE COMMEMORATES FIVE YEAR MARK OF 9/11 ATT...   \n",
       "\n",
       "                    category  \\\n",
       "19Mar2007Kyl117.txt      Kyl   \n",
       "10Nov2005Kyl304.txt      Kyl   \n",
       "6Dec2007Kyl46.txt        Kyl   \n",
       "29Aug2005Kyl347.txt      Kyl   \n",
       "11Sep2006Kyl161.txt      Kyl   \n",
       "\n",
       "                                                       tokenized_sents  \\\n",
       "19Mar2007Kyl117.txt  [[SECURITY, ON, STRIKE, The, U.S., Senate, rec...   \n",
       "10Nov2005Kyl304.txt  [[SEN., KYL, AMENDMENT, ON, HUMVEE, UPGRADE, P...   \n",
       "6Dec2007Kyl46.txt    [[SEN., KYL, ELECTED, ASSISTANT, SENATE, REPUB...   \n",
       "29Aug2005Kyl347.txt  [[SEN., KYL, :, GOOD, NEWS, AND, BAD, NEWS, FO...   \n",
       "11Sep2006Kyl161.txt  [[SENATE, COMMEMORATES, FIVE, YEAR, MARK, OF, ...   \n",
       "\n",
       "                                                      normalized_sents  \n",
       "19Mar2007Kyl117.txt  [[security, strike, senate, recently, approved...  \n",
       "10Nov2005Kyl304.txt  [[kyl, amendment, humvee, upgrade, passes, sen...  \n",
       "6Dec2007Kyl46.txt    [[kyl, elected, assistant, senate, republican,...  \n",
       "29Aug2005Kyl347.txt  [[kyl, good, news, bad, news, back, school, st...  \n",
       "11Sep2006Kyl161.txt  [[senate, commemorates, five, year, mark, atta...  "
      ]
     },
     "execution_count": 5,
     "metadata": {},
     "output_type": "execute_result"
    }
   ],
   "source": [
    "#Apply our functions, notice each row is a list of lists now\n",
    "senReleasesDF['tokenized_sents'] = senReleasesDF['text'].apply(lambda x: \n",
    "                                                               [nltk.word_tokenize(s) for s in nltk.sent_tokenize(x)])\n",
    "senReleasesDF['normalized_sents'] = senReleasesDF['tokenized_sents'].apply(lambda x: \n",
    "                                                                           [lucem_illud.normalizeTokens(s, \n",
    "                                                                                           stopwordLst = lucem_illud.stop_words_basic, \n",
    "                                                                                           stemmer = None) \n",
    "                                                                            for s in x])\n",
    "\n",
    "senReleasesDF[:5]"
   ]
  },
  {
   "cell_type": "markdown",
   "metadata": {},
   "source": [
    "# Word2Vec\n",
    "\n",
    "We will be using the gensim implementation of [Word2Vec](https://radimrehurek.com/gensim/models/word2vec.html#gensim.models.word2vec.Word2Vec).\n",
    "\n",
    "To load our data, we give all the sentences to the trainer. We just need to add the words as a list of sentences:"
   ]
  },
  {
   "cell_type": "code",
   "execution_count": 6,
   "metadata": {},
   "outputs": [],
   "source": [
    "senReleasesW2V = gensim.models.word2vec.Word2Vec(senReleasesDF['normalized_sents'].sum())"
   ]
  },
  {
   "cell_type": "markdown",
   "metadata": {},
   "source": [
    "Inside the word2vec object, the words each have a vector. To access the vector directly, use the square braces (`__getitem__`) method:"
   ]
  },
  {
   "cell_type": "code",
   "execution_count": 7,
   "metadata": {},
   "outputs": [
    {
     "name": "stdout",
     "output_type": "stream",
     "text": [
      "A 100 dimesional vector:\n"
     ]
    },
    {
     "data": {
      "text/plain": [
       "array([-1.1612496 , -0.34979254, -1.7845087 , -0.7422989 , -0.83034307,\n",
       "        2.3871052 ,  0.5511531 , -1.627232  ,  0.94557273, -2.5222175 ,\n",
       "       -0.8177938 , -1.0792105 ,  1.2152193 , -0.51077026,  1.3977041 ,\n",
       "       -0.9408718 ,  1.2603208 ,  1.6997703 , -0.76453745, -0.87722737,\n",
       "        0.7397908 , -1.9562287 ,  1.1217123 , -0.64296955,  0.36521795,\n",
       "       -1.3027692 , -1.3012578 , -0.58911   ,  0.1368531 , -2.760058  ,\n",
       "        0.28762785, -2.456077  ,  1.3575312 , -3.0087075 ,  1.566025  ,\n",
       "       -2.0246284 , -0.42660794, -0.11108097, -1.4524753 , -0.09036647,\n",
       "        1.7516907 ,  0.6645983 , -0.20644297, -1.7495657 ,  1.5934776 ,\n",
       "        2.6969266 ,  1.1941406 ,  2.1285503 , -0.8086446 , -1.2006962 ,\n",
       "       -0.6820805 ,  0.95138705, -1.0687737 , -0.20029488, -2.133996  ,\n",
       "       -2.8859575 ,  1.2801344 , -1.8771993 ,  0.68922126, -1.6144116 ,\n",
       "        0.34019133,  1.6902592 , -0.51899785,  0.09182058,  1.1183133 ,\n",
       "       -1.289596  ,  1.3288268 ,  2.1597393 ,  0.13786064, -1.9569899 ,\n",
       "       -0.07361024,  0.26278865, -1.6017567 ,  2.6614408 ,  0.48585597,\n",
       "        0.13901618,  1.1091841 ,  0.19292806,  0.560567  ,  3.4393508 ,\n",
       "       -2.4267597 ,  0.2142014 ,  1.4780482 ,  1.3784087 , -1.2974209 ,\n",
       "        0.38211793,  0.6013526 , -0.04009198,  0.05364478,  1.0043015 ,\n",
       "        0.03859589, -0.58027786,  0.46290725,  0.21003276, -3.4535594 ,\n",
       "        0.02890075, -0.21959557,  0.6433629 ,  1.4632232 , -2.1783617 ],\n",
       "      dtype=float32)"
      ]
     },
     "execution_count": 7,
     "metadata": {},
     "output_type": "execute_result"
    }
   ],
   "source": [
    "print(\"A {} dimesional vector:\".format(senReleasesW2V['president'].shape[0]))\n",
    "senReleasesW2V['president']"
   ]
  },
  {
   "cell_type": "markdown",
   "metadata": {},
   "source": [
    "If you want the full matrix, `syn0` stores all the vectors:"
   ]
  },
  {
   "cell_type": "code",
   "execution_count": 8,
   "metadata": {},
   "outputs": [
    {
     "data": {
      "text/plain": [
       "array([[ 1.0920005 ,  0.28490698, -0.3365984 , ..., -0.17683847,\n",
       "         0.78599966, -0.0263191 ],\n",
       "       [ 1.4285475 ,  2.1337514 ,  1.1058681 , ..., -0.9147211 ,\n",
       "        -1.1514524 , -0.24814175],\n",
       "       [-0.24705407,  1.6042693 , -3.7026982 , ..., -0.847259  ,\n",
       "         0.26744103, -1.7346829 ],\n",
       "       ...,\n",
       "       [-0.04739187, -0.03409063,  0.00667371, ..., -0.07806084,\n",
       "         0.04230804,  0.0396407 ],\n",
       "       [-0.07199617, -0.03366331, -0.01885601, ..., -0.04761082,\n",
       "         0.00388888,  0.07138941],\n",
       "       [-0.01953797,  0.02424859, -0.02700901, ..., -0.03293501,\n",
       "         0.01026284,  0.02045847]], dtype=float32)"
      ]
     },
     "execution_count": 8,
     "metadata": {},
     "output_type": "execute_result"
    }
   ],
   "source": [
    "senReleasesW2V.wv.syn0"
   ]
  },
  {
   "cell_type": "markdown",
   "metadata": {},
   "source": [
    "Then, `index2word` lets you translate from the matrix to words"
   ]
  },
  {
   "cell_type": "code",
   "execution_count": 10,
   "metadata": {},
   "outputs": [
    {
     "data": {
      "text/plain": [
       "'american'"
      ]
     },
     "execution_count": 10,
     "metadata": {},
     "output_type": "execute_result"
    }
   ],
   "source": [
    "senReleasesW2V.wv.index2word[10]"
   ]
  },
  {
   "cell_type": "code",
   "execution_count": 11,
   "metadata": {},
   "outputs": [
    {
     "data": {
      "text/plain": [
       "[('biological', 0.8709032535552979),\n",
       " ('influenza', 0.8537678718566895),\n",
       " ('detect', 0.8516038656234741),\n",
       " ('explosive', 0.8512119650840759),\n",
       " ('linked', 0.848827600479126),\n",
       " ('avian', 0.8467196226119995),\n",
       " ('hazardous', 0.8442001342773438),\n",
       " ('intercept', 0.837726354598999),\n",
       " ('detection', 0.8376779556274414),\n",
       " ('bioterrorist', 0.8375983238220215)]"
      ]
     },
     "execution_count": 11,
     "metadata": {},
     "output_type": "execute_result"
    }
   ],
   "source": [
    "senReleasesW2V.most_similar('chemical')"
   ]
  },
  {
   "cell_type": "markdown",
   "metadata": {},
   "source": [
    "Now we can look at a few things that come from the word vectors. The first is to find similar vectors (cosine similarity):"
   ]
  },
  {
   "cell_type": "code",
   "execution_count": 12,
   "metadata": {},
   "outputs": [
    {
     "data": {
      "text/plain": [
       "[('biological', 0.8709032535552979),\n",
       " ('influenza', 0.8537678718566895),\n",
       " ('detect', 0.8516038656234741),\n",
       " ('explosive', 0.8512119650840759),\n",
       " ('linked', 0.848827600479126),\n",
       " ('avian', 0.8467196226119995),\n",
       " ('hazardous', 0.8442001342773438),\n",
       " ('intercept', 0.837726354598999),\n",
       " ('detection', 0.8376779556274414),\n",
       " ('bioterrorist', 0.8375983238220215)]"
      ]
     },
     "execution_count": 12,
     "metadata": {},
     "output_type": "execute_result"
    }
   ],
   "source": [
    "senReleasesW2V.most_similar('chemical')"
   ]
  },
  {
   "cell_type": "code",
   "execution_count": 13,
   "metadata": {},
   "outputs": [
    {
     "data": {
      "text/plain": [
       "[('sending', 0.7000702619552612),\n",
       " ('disobedience', 0.6955959796905518),\n",
       " ('militarily', 0.6936396360397339),\n",
       " ('afghanistan', 0.6893623471260071),\n",
       " ('wars', 0.6791874170303345),\n",
       " ('bloody', 0.6680072546005249),\n",
       " ('terror', 0.6662676930427551),\n",
       " ('misguided', 0.661850094795227),\n",
       " ('descending', 0.6598259210586548),\n",
       " ('escalation', 0.6581718921661377)]"
      ]
     },
     "execution_count": 13,
     "metadata": {},
     "output_type": "execute_result"
    }
   ],
   "source": [
    "senReleasesW2V.most_similar('war')"
   ]
  },
  {
   "cell_type": "markdown",
   "metadata": {},
   "source": [
    "Or we can get this directly (calculated slightly differently):"
   ]
  },
  {
   "cell_type": "code",
   "execution_count": 14,
   "metadata": {},
   "outputs": [],
   "source": [
    "def cos_difference(embedding,word1,word2):\n",
    "    return sklearn.metrics.pairwise.cosine_similarity(embedding[word1].reshape(1,-1),embedding[word2].reshape(1,-1))"
   ]
  },
  {
   "cell_type": "code",
   "execution_count": 15,
   "metadata": {},
   "outputs": [
    {
     "data": {
      "text/plain": [
       "array([[0.5452876]], dtype=float32)"
      ]
     },
     "execution_count": 15,
     "metadata": {},
     "output_type": "execute_result"
    }
   ],
   "source": [
    "cos_difference(senReleasesW2V, 'war', 'unwinnable')"
   ]
  },
  {
   "cell_type": "markdown",
   "metadata": {},
   "source": [
    "We can also find which word least matches the others within a word set (cosine similarity):"
   ]
  },
  {
   "cell_type": "code",
   "execution_count": 16,
   "metadata": {},
   "outputs": [
    {
     "data": {
      "text/plain": [
       "'washington'"
      ]
     },
     "execution_count": 16,
     "metadata": {},
     "output_type": "execute_result"
    }
   ],
   "source": [
    "senReleasesW2V.doesnt_match(['administration', 'administrations', 'presidents', 'president', 'washington'])"
   ]
  },
  {
   "cell_type": "markdown",
   "metadata": {},
   "source": [
    "Find which word best matches the result of a semantic *equation* (here, we seek the words whose vectors best fit the missing entry from the equation: **X + Y - Z = _**."
   ]
  },
  {
   "cell_type": "code",
   "execution_count": 17,
   "metadata": {},
   "outputs": [
    {
     "data": {
      "text/plain": [
       "[('veto', 0.7179357409477234),\n",
       " ('presidents', 0.7073612809181213),\n",
       " ('bush', 0.704666018486023),\n",
       " ('signing', 0.7004280090332031),\n",
       " ('bushs', 0.6851851940155029),\n",
       " ('signature', 0.6792793869972229),\n",
       " ('vetoes', 0.6733696460723877),\n",
       " ('signed', 0.6553030014038086),\n",
       " ('vetoed', 0.647515594959259),\n",
       " ('sign', 0.6293946504592896)]"
      ]
     },
     "execution_count": 17,
     "metadata": {},
     "output_type": "execute_result"
    }
   ],
   "source": [
    "senReleasesW2V.most_similar(positive=['clinton', 'republican'], negative = ['democrat'])"
   ]
  },
  {
   "cell_type": "markdown",
   "metadata": {},
   "source": [
    "Here we see that **Clinton + Republican - Democrat = Bush**. In other words, in this dataset and period, **Clinton** was to **Democrat** as **Bush** was to **Republican**. Whoah!"
   ]
  },
  {
   "cell_type": "markdown",
   "metadata": {},
   "source": [
    " But how do we argue that these are stable distances or associations?"
   ]
  },
  {
   "cell_type": "markdown",
   "metadata": {},
   "source": [
    "## Establishing Credible or Confidence Intervals"
   ]
  },
  {
   "cell_type": "markdown",
   "metadata": {},
   "source": [
    "### Boostrapping approach"
   ]
  },
  {
   "cell_type": "markdown",
   "metadata": {},
   "source": [
    "We propose well-established bootstrapping and subsampling methods to nonparametrically demonstrate the stability and significance of word associations within our embedding model. These allow us to establish conservative confidence intervals to both (a) distances between words in a model and (b) projections of words onto an induced dimension (e.g., man-woman). If we assume that the texts (e.g., newspapers, books) underlying our word embedding model are observations drawn from an independent and identically distributed (i.i.d.) population of cultural observations, then bootstrapping allows us to estimate the variance of word distances and projections by measuring those properties through sampling the empirical distribution of texts with replacement (Efron and Tibshirani 1994; Efron 2003). Operationally, if we wanted to bootstrap a 90% confidence interval of a word-word distance or word-dimension projection, we would sample a corpus the same size as the original corpus, but with replacement, 20 times, estimate word embedding models on each sample. Then we take the 2nd order (2nd smallest) statistic $s_{(2)}$--either distance or projection--as our confidence interval’s lower bound, and 19th order statistic $s_{(19)}$ as its upper bound. The distance between $s_{(2)}$ and $s_{(19)}$ across 20 bootstrap samples span the 5th to the 95th percentiles of the statistic’s variance, bounding the 90th confidence interval. A 95% confidence interval would span $s_{(2)}$ and $s_{(39)}$ in word embedding distances or projections estimated on 40 bootstrap samples of a corpus, tracing the 2.5th to 97.5th percentiles. "
   ]
  },
  {
   "cell_type": "code",
   "execution_count": 18,
   "metadata": {},
   "outputs": [
    {
     "data": {
      "text/plain": [
       "[0.2457773,\n",
       " 0.263746,\n",
       " 0.28924927,\n",
       " 0.30116916,\n",
       " 0.33592796,\n",
       " 0.36775208,\n",
       " 0.36809576,\n",
       " 0.37311158,\n",
       " 0.3889744,\n",
       " 0.39531228,\n",
       " 0.39981422,\n",
       " 0.41434115,\n",
       " 0.4556836,\n",
       " 0.47250408,\n",
       " 0.4782111,\n",
       " 0.5150233,\n",
       " 0.5168287,\n",
       " 0.52414954,\n",
       " 0.5303141,\n",
       " 0.592142]"
      ]
     },
     "execution_count": 18,
     "metadata": {},
     "output_type": "execute_result"
    }
   ],
   "source": [
    "estimatesB=[]\n",
    "for x in range(20):\n",
    "    senReleasesW2VB = gensim.models.word2vec.Word2Vec(senReleasesDF['normalized_sents'].sample(frac=1.0, replace=True).sum())\n",
    "    try:\n",
    "        estimatesB.append(cos_difference(senReleasesW2VB, 'war', 'unwinnable')[0,0])\n",
    "    except KeyError:\n",
    "        #Missing one of the words from the vocab\n",
    "        pass\n",
    "                                                      \n",
    "estimatesB.sort()         \n",
    "estimatesB"
   ]
  },
  {
   "cell_type": "code",
   "execution_count": 19,
   "metadata": {},
   "outputs": [
    {
     "name": "stdout",
     "output_type": "stream",
     "text": [
      "The 90% confidence interval for the cosine distance between war and unwinnable is:\n",
      " 0.263746 0.5303141\n"
     ]
    }
   ],
   "source": [
    "print(\"The 90% confidence interval for the cosine distance between war and unwinnable is:\\n\",estimatesB[1], estimatesB[-2])"
   ]
  },
  {
   "cell_type": "markdown",
   "metadata": {},
   "source": [
    "### Subsampling approach"
   ]
  },
  {
   "cell_type": "markdown",
   "metadata": {},
   "source": [
    "If the corpus is large, then we may take a subsampling approach, which randomly partitions the corpus into non-overlapping samples, then estimates the word-embedding models on these subsets and calculates confidence intervals as a function of the empirical distribution of distance or projection statistics and number of texts in the subsample (Politis and Romano 1997). Subsampling requires the same i.i.d. assumption as the bootrap (Politis and Romano 1992; Politis and Romano 1994). For 90% confidence intervals, we randomly partition the corpus into 20 subcorpora, then calculate $B^k=\\sqrt{\\tau_k}\\left(s^k-\\bar{s}\\right)$ for each $k$th sample, where $k$ is the number of texts and $s^k$ is the embedding distance or projection for the $k$th sample, and $\\bar{s}$ is the average statistic for all samples. The 90% confidence interval spans the 5th to 95th percentile variances, inscribed by $\\bar{s}-\\frac{B_{(19)}^k}{\\sqrt{\\tau}}$ and $\\bar{s}-\\frac{B_{(2)}^k}{\\sqrt{\\tau}}$, where $\\tau$ the number of texts in the total corpus and $s$ is the average statistic across all subsamples. As with bootrapping, a 95% confidence interval would require 40 subsamples; a 99% confidence would require 200 (.5th to 99.5th percentiles)."
   ]
  },
  {
   "cell_type": "code",
   "execution_count": 21,
   "metadata": {},
   "outputs": [
    {
     "ename": "NameError",
     "evalue": "name 'sample_indices' is not defined",
     "output_type": "error",
     "traceback": [
      "\u001b[0;31m---------------------------------------------------------------------------\u001b[0m",
      "\u001b[0;31mNameError\u001b[0m                                 Traceback (most recent call last)",
      "\u001b[0;32m<ipython-input-21-03d107c17b3e>\u001b[0m in \u001b[0;36m<module>\u001b[0;34m()\u001b[0m\n\u001b[0;32m----> 1\u001b[0;31m \u001b[0msenReleasesDF\u001b[0m\u001b[0;34m[\u001b[0m\u001b[0msample_indices\u001b[0m \u001b[0;34m==\u001b[0m \u001b[0mi\u001b[0m\u001b[0;34m]\u001b[0m\u001b[0;34m\u001b[0m\u001b[0m\n\u001b[0m",
      "\u001b[0;31mNameError\u001b[0m: name 'sample_indices' is not defined"
     ]
    }
   ],
   "source": [
    "senReleasesDF[sample_indices == i]"
   ]
  },
  {
   "cell_type": "code",
   "execution_count": null,
   "metadata": {},
   "outputs": [],
   "source": [
    "n_samples = 10\n",
    "sample_indices = np.random.randint(0,n_samples,(len(senReleasesDF),))\n",
    "\n",
    "s_k =np.array([])\n",
    "tau_k=np.array([])\n",
    "\n",
    "for i in range(n_samples):\n",
    "    sample_w2v = gensim.models.word2vec.Word2Vec(senReleasesDF[sample_indices == i]['normalized_sents'].sum())\n",
    "    try:\n",
    "        #Need to use words present in most samples\n",
    "        s_k = np.append(s_k, cos_difference(sample_w2v, 'war', 'responsibility')[0,0])\n",
    "    except KeyError:\n",
    "        pass\n",
    "    else:\n",
    "        tau_k = np.append(tau_k, len(senReleasesDF[sample_indices == i]))\n",
    "\n",
    "print(s_k)\n",
    "print(tau_k)\n",
    "\n",
    "tau = tau_k.sum()\n",
    "s = s_k.mean()\n",
    "B_k = np.sqrt(tau_k) * s_k-s_k.mean()"
   ]
  },
  {
   "cell_type": "code",
   "execution_count": null,
   "metadata": {},
   "outputs": [],
   "source": [
    "print(\"The 90% confidence interval for the cosine distance between war and responsibility is:\\n\",s-B_k[-2]/np.sqrt(tau), s-B_k[1]/np.sqrt(tau))"
   ]
  },
  {
   "cell_type": "markdown",
   "metadata": {},
   "source": [
    "We can also save the vectors for later use:"
   ]
  },
  {
   "cell_type": "code",
   "execution_count": 22,
   "metadata": {},
   "outputs": [],
   "source": [
    "senReleasesW2V.save(\"senpressreleasesWORD2Vec.mm\")\n",
    "#Load with senReleasesW2V = gensim.models.word2vec.Word2Vec.load('senpressreleasesWORD2Vec.mm')"
   ]
  },
  {
   "cell_type": "markdown",
   "metadata": {},
   "source": [
    "## Visualize"
   ]
  },
  {
   "cell_type": "markdown",
   "metadata": {},
   "source": [
    "We can also use dimension reduction to visulize the vectors. We will start by selecting a subset we want to plot. Let's look at the top words from the set:"
   ]
  },
  {
   "cell_type": "code",
   "execution_count": 23,
   "metadata": {},
   "outputs": [],
   "source": [
    "numWords = 150\n",
    "targetWords = senReleasesW2V.wv.index2word[:numWords]"
   ]
  },
  {
   "cell_type": "markdown",
   "metadata": {},
   "source": [
    "We can then extract their vectors and create our own smaller matrix that preserved the distances from the original:"
   ]
  },
  {
   "cell_type": "code",
   "execution_count": 24,
   "metadata": {},
   "outputs": [
    {
     "data": {
      "text/plain": [
       "array([[ 1.0920005e+00,  2.8490698e-01, -3.3659840e-01, ...,\n",
       "        -1.7683847e-01,  7.8599966e-01, -2.6319100e-02],\n",
       "       [ 1.4285475e+00,  2.1337514e+00,  1.1058681e+00, ...,\n",
       "        -9.1472107e-01, -1.1514524e+00, -2.4814175e-01],\n",
       "       [-2.4705407e-01,  1.6042693e+00, -3.7026982e+00, ...,\n",
       "        -8.4725899e-01,  2.6744103e-01, -1.7346829e+00],\n",
       "       ...,\n",
       "       [-2.2001095e+00, -2.0004969e+00, -4.3425165e-02, ...,\n",
       "        -2.2376430e+00,  9.0409958e-01, -1.5601286e-01],\n",
       "       [ 1.0720867e+00,  8.5040249e-02, -1.7407887e-02, ...,\n",
       "        -3.7164468e-01, -3.2188264e-01,  2.0151217e-01],\n",
       "       [ 4.0221006e-01,  5.3680259e-01,  5.8879995e-01, ...,\n",
       "        -1.2945470e-01, -2.2934330e-01,  3.1696071e-03]], dtype=float32)"
      ]
     },
     "execution_count": 24,
     "metadata": {},
     "output_type": "execute_result"
    }
   ],
   "source": [
    "wordsSubMatrix = []\n",
    "for word in targetWords:\n",
    "    wordsSubMatrix.append(senReleasesW2V[word])\n",
    "wordsSubMatrix = np.array(wordsSubMatrix)\n",
    "wordsSubMatrix"
   ]
  },
  {
   "cell_type": "markdown",
   "metadata": {},
   "source": [
    "Then we can use PCA to reduce the dimesions (e.g., to 50), and [T-SNE](https://en.wikipedia.org/wiki/T-distributed_stochastic_neighbor_embedding) to project them down to the two we will visualize. We note that this is nondeterministic process, and so you can repeat and achieve alternative projectsions/visualizations of the words:"
   ]
  },
  {
   "cell_type": "code",
   "execution_count": 25,
   "metadata": {},
   "outputs": [],
   "source": [
    "pcaWords = sklearn.decomposition.PCA(n_components = 50).fit(wordsSubMatrix)\n",
    "reducedPCA_data = pcaWords.transform(wordsSubMatrix)\n",
    "#T-SNE is theoretically better, but you should experiment\n",
    "tsneWords = sklearn.manifold.TSNE(n_components = 2, early_exaggeration = 25).fit_transform(reducedPCA_data)"
   ]
  },
  {
   "cell_type": "markdown",
   "metadata": {},
   "source": [
    "We now can plot the points"
   ]
  },
  {
   "cell_type": "code",
   "execution_count": 26,
   "metadata": {},
   "outputs": [
    {
     "data": {
      "image/png": "[encoded data removed]",
      "text/plain": [
       "<matplotlib.figure.Figure at 0x7fa0442f6a58>"
      ]
     },
     "metadata": {},
     "output_type": "display_data"
    }
   ],
   "source": [
    "fig = plt.figure(figsize = (15,10))\n",
    "ax = fig.add_subplot(111)\n",
    "ax.set_frame_on(False)\n",
    "plt.scatter(tsneWords[:, 0], tsneWords[:, 1], alpha = 0)#Making the points invisible \n",
    "for i, word in enumerate(targetWords):\n",
    "    ax.annotate(word, \n",
    "                (tsneWords[:, 0][i],tsneWords[:, 1][i]), \n",
    "                size =  20 * (numWords - i) / numWords, \n",
    "                alpha = .8 * (numWords - i) / numWords + .2)\n",
    "plt.xticks(())\n",
    "plt.yticks(())\n",
    "plt.show()"
   ]
  },
  {
   "cell_type": "markdown",
   "metadata": {},
   "source": [
    "My visualization above puts ``iraq`` next to ``time`` and ``bill`` near ``help``. <img src='../data/examplewordcloud.svg'>"
   ]
  },
  {
   "cell_type": "markdown",
   "metadata": {},
   "source": [
    "What if a new senator come along with whose names starts with K? Could we analyse their releases too without rerunning the entire embedding? Lets try with Cardin in `../data/grimmerPressReleases_extra/Cardin`. First we need to load and proccess the releases:"
   ]
  },
  {
   "cell_type": "code",
   "execution_count": 27,
   "metadata": {},
   "outputs": [
    {
     "data": {
      "text/html": [
       "<div>\n",
       "<style scoped>\n",
       "    .dataframe tbody tr th:only-of-type {\n",
       "        vertical-align: middle;\n",
       "    }\n",
       "\n",
       "    .dataframe tbody tr th {\n",
       "        vertical-align: top;\n",
       "    }\n",
       "\n",
       "    .dataframe thead th {\n",
       "        text-align: right;\n",
       "    }\n",
       "</style>\n",
       "<table border=\"1\" class=\"dataframe\">\n",
       "  <thead>\n",
       "    <tr style=\"text-align: right;\">\n",
       "      <th></th>\n",
       "      <th>text</th>\n",
       "      <th>category</th>\n",
       "      <th>tokenized_sents</th>\n",
       "      <th>normalized_sents</th>\n",
       "    </tr>\n",
       "  </thead>\n",
       "  <tbody>\n",
       "    <tr>\n",
       "      <th>21Jun2007Cardin189.txt</th>\n",
       "      <td>...</td>\n",
       "      <td>Cardin</td>\n",
       "      <td>[[CARDIN, DEEPLY, DISAPPOINTED, BY, PRESIDENT,...</td>\n",
       "      <td>[[cardin, deeply, disappointed, president, dec...</td>\n",
       "    </tr>\n",
       "    <tr>\n",
       "      <th>07Nov2007Cardin47.txt</th>\n",
       "      <td>...</td>\n",
       "      <td>Cardin</td>\n",
       "      <td>[[SENATE, COMMITTEE, OVERWHELMINGLY, APPROVES,...</td>\n",
       "      <td>[[senate, committee, overwhelmingly, approves,...</td>\n",
       "    </tr>\n",
       "    <tr>\n",
       "      <th>06Sep2007Cardin126.txt</th>\n",
       "      <td>...</td>\n",
       "      <td>Cardin</td>\n",
       "      <td>[[CARDIN, HAILS, COMMITTEE, PASSAGE, OF, BILL,...</td>\n",
       "      <td>[[cardin, hails, committee, passage, bill, end...</td>\n",
       "    </tr>\n",
       "    <tr>\n",
       "      <th>24Jul2007Cardin165.txt</th>\n",
       "      <td>...</td>\n",
       "      <td>Cardin</td>\n",
       "      <td>[[SENATOR, CARDIN, CALLS, ON, ATTORNEY, GENERA...</td>\n",
       "      <td>[[senator, cardin, calls, attorney, general, g...</td>\n",
       "    </tr>\n",
       "    <tr>\n",
       "      <th>24Apr2007Cardin234.txt</th>\n",
       "      <td>...</td>\n",
       "      <td>Cardin</td>\n",
       "      <td>[[CARDIN, AND, MIKULKSI, INTRODUCE, BILL, TO, ...</td>\n",
       "      <td>[[cardin, mikulksi, introduce, bill, give, sta...</td>\n",
       "    </tr>\n",
       "    <tr>\n",
       "      <th>20Jun2007Cardin193.txt</th>\n",
       "      <td>...</td>\n",
       "      <td>Cardin</td>\n",
       "      <td>[[CARDIN, EXPRESSES, DISAPPOINTMENT, ON, FAILU...</td>\n",
       "      <td>[[cardin, expresses, disappointment, failure, ...</td>\n",
       "    </tr>\n",
       "    <tr>\n",
       "      <th>10Sep2007Cardin116.txt</th>\n",
       "      <td>...</td>\n",
       "      <td>Cardin</td>\n",
       "      <td>[[CARDIN, DEMANDS, CORRECTION, TO, HELP, SENIO...</td>\n",
       "      <td>[[cardin, demands, correction, help, seniors, ...</td>\n",
       "    </tr>\n",
       "    <tr>\n",
       "      <th>12Jul2007Cardin174.txt</th>\n",
       "      <td>...</td>\n",
       "      <td>Cardin</td>\n",
       "      <td>[[CARDIN, MIKULSKI, ANNOUNCE, 144, 200, FOR, C...</td>\n",
       "      <td>[[cardin, mikulski, announce, cumberland, vall...</td>\n",
       "    </tr>\n",
       "    <tr>\n",
       "      <th>02Mar2007Cardin276.txt</th>\n",
       "      <td>...</td>\n",
       "      <td>Cardin</td>\n",
       "      <td>[[CARDIN, MIKULSKI, ANNOUNCE, 365, 744, IN, FE...</td>\n",
       "      <td>[[cardin, mikulski, announce, federal, funding...</td>\n",
       "    </tr>\n",
       "    <tr>\n",
       "      <th>06Dec2007Cardin21.txt</th>\n",
       "      <td>...</td>\n",
       "      <td>Cardin</td>\n",
       "      <td>[[CARDIN, MIKULSKI, ANNOUNCE, FEDERAL, FUNDING...</td>\n",
       "      <td>[[cardin, mikulski, announce, federal, funding...</td>\n",
       "    </tr>\n",
       "  </tbody>\n",
       "</table>\n",
       "</div>"
      ],
      "text/plain": [
       "                                                                     text  \\\n",
       "21Jun2007Cardin189.txt                                                ...   \n",
       "07Nov2007Cardin47.txt                                                 ...   \n",
       "06Sep2007Cardin126.txt                                                ...   \n",
       "24Jul2007Cardin165.txt                                                ...   \n",
       "24Apr2007Cardin234.txt                                                ...   \n",
       "20Jun2007Cardin193.txt                                                ...   \n",
       "10Sep2007Cardin116.txt                                                ...   \n",
       "12Jul2007Cardin174.txt                                                ...   \n",
       "02Mar2007Cardin276.txt                                                ...   \n",
       "06Dec2007Cardin21.txt                                                 ...   \n",
       "\n",
       "                       category  \\\n",
       "21Jun2007Cardin189.txt   Cardin   \n",
       "07Nov2007Cardin47.txt    Cardin   \n",
       "06Sep2007Cardin126.txt   Cardin   \n",
       "24Jul2007Cardin165.txt   Cardin   \n",
       "24Apr2007Cardin234.txt   Cardin   \n",
       "20Jun2007Cardin193.txt   Cardin   \n",
       "10Sep2007Cardin116.txt   Cardin   \n",
       "12Jul2007Cardin174.txt   Cardin   \n",
       "02Mar2007Cardin276.txt   Cardin   \n",
       "06Dec2007Cardin21.txt    Cardin   \n",
       "\n",
       "                                                          tokenized_sents  \\\n",
       "21Jun2007Cardin189.txt  [[CARDIN, DEEPLY, DISAPPOINTED, BY, PRESIDENT,...   \n",
       "07Nov2007Cardin47.txt   [[SENATE, COMMITTEE, OVERWHELMINGLY, APPROVES,...   \n",
       "06Sep2007Cardin126.txt  [[CARDIN, HAILS, COMMITTEE, PASSAGE, OF, BILL,...   \n",
       "24Jul2007Cardin165.txt  [[SENATOR, CARDIN, CALLS, ON, ATTORNEY, GENERA...   \n",
       "24Apr2007Cardin234.txt  [[CARDIN, AND, MIKULKSI, INTRODUCE, BILL, TO, ...   \n",
       "20Jun2007Cardin193.txt  [[CARDIN, EXPRESSES, DISAPPOINTMENT, ON, FAILU...   \n",
       "10Sep2007Cardin116.txt  [[CARDIN, DEMANDS, CORRECTION, TO, HELP, SENIO...   \n",
       "12Jul2007Cardin174.txt  [[CARDIN, MIKULSKI, ANNOUNCE, 144, 200, FOR, C...   \n",
       "02Mar2007Cardin276.txt  [[CARDIN, MIKULSKI, ANNOUNCE, 365, 744, IN, FE...   \n",
       "06Dec2007Cardin21.txt   [[CARDIN, MIKULSKI, ANNOUNCE, FEDERAL, FUNDING...   \n",
       "\n",
       "                                                         normalized_sents  \n",
       "21Jun2007Cardin189.txt  [[cardin, deeply, disappointed, president, dec...  \n",
       "07Nov2007Cardin47.txt   [[senate, committee, overwhelmingly, approves,...  \n",
       "06Sep2007Cardin126.txt  [[cardin, hails, committee, passage, bill, end...  \n",
       "24Jul2007Cardin165.txt  [[senator, cardin, calls, attorney, general, g...  \n",
       "24Apr2007Cardin234.txt  [[cardin, mikulksi, introduce, bill, give, sta...  \n",
       "20Jun2007Cardin193.txt  [[cardin, expresses, disappointment, failure, ...  \n",
       "10Sep2007Cardin116.txt  [[cardin, demands, correction, help, seniors, ...  \n",
       "12Jul2007Cardin174.txt  [[cardin, mikulski, announce, cumberland, vall...  \n",
       "02Mar2007Cardin276.txt  [[cardin, mikulski, announce, federal, funding...  \n",
       "06Dec2007Cardin21.txt   [[cardin, mikulski, announce, federal, funding...  "
      ]
     },
     "execution_count": 27,
     "metadata": {},
     "output_type": "execute_result"
    }
   ],
   "source": [
    "cardinDF = lucem_illud.loadTextDirectory('../data/grimmerPressReleases_extra/Cardin')\n",
    "cardinDF['category'] = 'Cardin'\n",
    "\n",
    "cardinDF['tokenized_sents'] = cardinDF['text'].apply(lambda x: \n",
    "                                                               [nltk.word_tokenize(s) for s in nltk.sent_tokenize(x)])\n",
    "cardinDF['normalized_sents'] = cardinDF['tokenized_sents'].apply(lambda x: \n",
    "                                                                           [lucem_illud.normalizeTokens(s, \n",
    "                                                                                           stopwordLst = lucem_illud.stop_words_basic, \n",
    "                                                                                           stemmer = None) \n",
    "                                                                            for s in x])\n",
    "\n",
    "cardinDF[:10]"
   ]
  },
  {
   "cell_type": "markdown",
   "metadata": {},
   "source": [
    "We can now merge Cardin's releases with the rest. This can update all the weights in *w2v* model, so be careful."
   ]
  },
  {
   "cell_type": "code",
   "execution_count": 28,
   "metadata": {},
   "outputs": [],
   "source": [
    "#This is using a newer API so we have to tell it a little bit more for it to work right\n",
    "senReleasesW2V.build_vocab(cardinDF['normalized_sents'].sum(), update=True)\n",
    "senReleasesW2V.train(cardinDF['normalized_sents'].sum(), \n",
    "                     total_examples=senReleasesW2V.corpus_count, \n",
    "                     epochs=senReleasesW2V.iter)\n",
    "senReleasesW2V.save(\"senpressreleasesWORD2Vec_new.mm\")"
   ]
  },
  {
   "cell_type": "markdown",
   "metadata": {},
   "source": [
    "As the model is updated by this, we need to load our old copy to do a comparison."
   ]
  },
  {
   "cell_type": "code",
   "execution_count": 29,
   "metadata": {},
   "outputs": [],
   "source": [
    "senReleasesW2V_old = gensim.models.word2vec.Word2Vec.load('senpressreleasesWORD2Vec.mm')"
   ]
  },
  {
   "cell_type": "code",
   "execution_count": 30,
   "metadata": {},
   "outputs": [
    {
     "name": "stdout",
     "output_type": "stream",
     "text": [
      "A 100 dimesional vector:\n"
     ]
    },
    {
     "data": {
      "text/plain": [
       "array([-1.3467878 , -0.41038728, -2.4234583 , -0.6766143 , -1.0730798 ,\n",
       "        2.1979308 ,  1.0005707 , -1.9794214 ,  1.1356072 , -2.1841385 ],\n",
       "      dtype=float32)"
      ]
     },
     "execution_count": 30,
     "metadata": {},
     "output_type": "execute_result"
    }
   ],
   "source": [
    "print(\"A {} dimesional vector:\".format(senReleasesW2V['president'].shape[0]))\n",
    "senReleasesW2V['president'][:10]"
   ]
  },
  {
   "cell_type": "code",
   "execution_count": 31,
   "metadata": {},
   "outputs": [
    {
     "name": "stdout",
     "output_type": "stream",
     "text": [
      "A 100 dimesional vector:\n"
     ]
    },
    {
     "data": {
      "text/plain": [
       "array([-1.1612496 , -0.34979254, -1.7845087 , -0.7422989 , -0.83034307,\n",
       "        2.3871052 ,  0.5511531 , -1.627232  ,  0.94557273, -2.5222175 ],\n",
       "      dtype=float32)"
      ]
     },
     "execution_count": 31,
     "metadata": {},
     "output_type": "execute_result"
    }
   ],
   "source": [
    "print(\"A {} dimesional vector:\".format(senReleasesW2V_old['president'].shape[0]))\n",
    "senReleasesW2V_old['president'][:10]"
   ]
  },
  {
   "cell_type": "code",
   "execution_count": 32,
   "metadata": {},
   "outputs": [
    {
     "data": {
      "text/plain": [
       "array([ 0.18553817,  0.06059474,  0.63894963, -0.06568462,  0.24273676,\n",
       "        0.18917441, -0.44941753,  0.35218942, -0.19003451, -0.33807898],\n",
       "      dtype=float32)"
      ]
     },
     "execution_count": 32,
     "metadata": {},
     "output_type": "execute_result"
    }
   ],
   "source": [
    "(senReleasesW2V_old['president'] - senReleasesW2V['president'])[:10]"
   ]
  },
  {
   "cell_type": "markdown",
   "metadata": {},
   "source": [
    "As you can see the vector for 'president' has changed a little bit and the word cloud should also be a bit different too"
   ]
  },
  {
   "cell_type": "code",
   "execution_count": 33,
   "metadata": {},
   "outputs": [],
   "source": [
    "pcaWords = sklearn.decomposition.PCA(n_components = 50).fit(wordsSubMatrix)\n",
    "reducedPCA_data = pcaWords.transform(wordsSubMatrix)\n",
    "#T-SNE is theoretically better, but you should experiment\n",
    "tsneWords = sklearn.manifold.TSNE(n_components = 2, early_exaggeration = 25).fit_transform(reducedPCA_data)"
   ]
  },
  {
   "cell_type": "code",
   "execution_count": 34,
   "metadata": {},
   "outputs": [
    {
     "data": {
      "image/png": "[encoded data removed]",
      "text/plain": [
       "<matplotlib.figure.Figure at 0x7fa03c093208>"
      ]
     },
     "metadata": {},
     "output_type": "display_data"
    }
   ],
   "source": [
    "fig = plt.figure(figsize = (15,10))\n",
    "ax = fig.add_subplot(111)\n",
    "ax.set_frame_on(False)\n",
    "plt.scatter(tsneWords[:, 0], tsneWords[:, 1], alpha = 0)#Making the points invisible \n",
    "for i, word in enumerate(targetWords):\n",
    "    ax.annotate(word, \n",
    "                (tsneWords[:, 0][i],tsneWords[:, 1][i]), \n",
    "                size =  20 * (numWords - i) / numWords, \n",
    "                alpha = .8 * (numWords - i) / numWords + .2)\n",
    "plt.xticks(())\n",
    "plt.yticks(())\n",
    "plt.show()"
   ]
  },
  {
   "cell_type": "markdown",
   "metadata": {},
   "source": [
    "Another thing to consider in training is how we know that our parameters for the model are correct. We can do this by looking at the training loss of the model. Let's tart by training a new model, but this time we will expose most of the options and train it one epoch at a time. Look [here](https://radimrehurek.com/gensim/models/word2vec.html#gensim.models.word2vec.Word2Vec) for more detail: "
   ]
  },
  {
   "cell_type": "code",
   "execution_count": 35,
   "metadata": {},
   "outputs": [
    {
     "data": {
      "text/plain": [
       "1992789.125"
      ]
     },
     "execution_count": 35,
     "metadata": {},
     "output_type": "execute_result"
    }
   ],
   "source": [
    "senReleasesW2V_loss = gensim.models.word2vec.Word2Vec(size = 100, #dimensions\n",
    "                                                      alpha=0.025,\n",
    "                                                      window=5,\n",
    "                                                      min_count=5,\n",
    "                                                      hs=0,  #hierarchical softmax toggle\n",
    "                                                      compute_loss = True,\n",
    "                                                     )\n",
    "senReleasesW2V_loss.build_vocab(senReleasesDF['normalized_sents'].sum())\n",
    "senReleasesW2V_loss.train(senReleasesDF['normalized_sents'].sum(), \n",
    "                     total_examples=senReleasesW2V.corpus_count, \n",
    "                     epochs=1, #This the running_training_loss is a total so we have to do 1 epoch at a time\n",
    "                    )\n",
    "#Using a list so we can capture every epoch\n",
    "losses = [senReleasesW2V_loss.running_training_loss]\n",
    "losses[0]"
   ]
  },
  {
   "cell_type": "markdown",
   "metadata": {},
   "source": [
    "Now we have the training loss and can optimize training to minimize it."
   ]
  },
  {
   "cell_type": "code",
   "execution_count": 36,
   "metadata": {},
   "outputs": [
    {
     "name": "stdout",
     "output_type": "stream",
     "text": [
      "Done epoch 20\r"
     ]
    }
   ],
   "source": [
    "for i in range(19):\n",
    "    senReleasesW2V_loss.train(senReleasesDF['normalized_sents'].sum(), \n",
    "                     total_examples=senReleasesW2V.corpus_count, \n",
    "                     epochs=1,\n",
    "                             )\n",
    "    losses.append(senReleasesW2V_loss.running_training_loss)\n",
    "    print(\"Done epoch {}\".format(i + 2), end = '\\r')"
   ]
  },
  {
   "cell_type": "markdown",
   "metadata": {},
   "source": [
    "Lets plot the loss vs epoch"
   ]
  },
  {
   "cell_type": "code",
   "execution_count": null,
   "metadata": {},
   "outputs": [
    {
     "data": {
      "image/png": "[encoded data removed]",
      "text/plain": [
       "<matplotlib.figure.Figure at 0x7fa02e092f60>"
      ]
     },
     "metadata": {},
     "output_type": "display_data"
    }
   ],
   "source": [
    "lossesDF = pandas.DataFrame({'loss' : losses, 'epoch' : range(len(losses))})\n",
    "lossesDF.plot(y = 'loss', x = 'epoch', logy=False, figsize=(15, 7))\n",
    "plt.show()"
   ]
  },
  {
   "cell_type": "markdown",
   "metadata": {},
   "source": [
    "You should see that the loss is almost monotonic, but that the rate decreases as epoch increases. Since we are testing on our training data monotonicity is a common result and we must try to avoid over fitting. A simple way to do this is to stop training when there is significant change in the rate of decrease. In this run, that looks to be approximately 8 or 9. If we were to do another analysis, we might use an `iter=9` instead of the default 5."
   ]
  },
  {
   "cell_type": "markdown",
   "metadata": {},
   "source": [
    "Even more culturally interesting is how many dimensions are required to achieve an optimal embedding. The use of words in complex ways and contradictory contexts will require more dimensions to represent them with integrity. For example, if one word, $w_a$, is \"nearby\" $w_b$, but $w_b$ is not near the other words beside $w_a$, then a new dimension will be required for the two words to be uniquely together. "
   ]
  },
  {
   "cell_type": "code",
   "execution_count": null,
   "metadata": {},
   "outputs": [],
   "source": [
    "losses_dims=[]\n",
    "\n",
    "for d in [50,100,150,200,250,300,350,400,450,500, 550, 600, 650, 700, 750]:\n",
    "    senReleasesW2V_loss_dims = gensim.models.word2vec.Word2Vec(size = d, #dimensions\n",
    "                                                      alpha=0.025,\n",
    "                                                      window=5,\n",
    "                                                      min_count=5,\n",
    "                                                      hs=0,  #hierarchical softmax toggle\n",
    "                                                      compute_loss = True,\n",
    "                                                     )\n",
    "    senReleasesW2V_loss_dims.build_vocab(senReleasesDF['normalized_sents'].sum())\n",
    "    senReleasesW2V_loss_dims.train(senReleasesDF['normalized_sents'].sum(), \n",
    "                     total_examples=senReleasesW2V.corpus_count, \n",
    "                     epochs=7, #This the running_training_loss is a total so we have to do 1 epoch at a time\n",
    "                    )\n",
    "    senReleasesW2V_loss_dims.train(senReleasesDF['normalized_sents'].sum(), \n",
    "                     total_examples=senReleasesW2V.corpus_count, \n",
    "                     epochs=1, #This the running_training_loss is a total so we have to do 1 epoch at a time\n",
    "                    )\n",
    "    \n",
    "    losses_dims.append(senReleasesW2V_loss_dims.running_training_loss/(10+d*10))"
   ]
  },
  {
   "cell_type": "code",
   "execution_count": null,
   "metadata": {},
   "outputs": [],
   "source": [
    "losses_dimsDF = pandas.DataFrame({'loss' : losses_dims, 'dimensions' : [50,100,150,200,250,300,350,400,450,500,550,600,650,700,750]})\n",
    "losses_dimsDF.plot(y = 'loss', x = 'dimensions', logy=False, figsize=(15, 7))\n",
    "plt.show()"
   ]
  },
  {
   "cell_type": "markdown",
   "metadata": {},
   "source": [
    "This is a work in progress for Gensim, but its clear that most of the word distance variation is captured by 300 dimensions."
   ]
  },
  {
   "cell_type": "markdown",
   "metadata": {},
   "source": [
    "# Chinese examples"
   ]
  },
  {
   "cell_type": "code",
   "execution_count": null,
   "metadata": {},
   "outputs": [],
   "source": [
    "model=gensim.models.Word2Vec.load('../data/1992embeddings_hs_new3.sg')"
   ]
  },
  {
   "cell_type": "markdown",
   "metadata": {},
   "source": [
    "## analogy\n",
    "\n",
    "King+man-Queen? A few examples based on a corpus of Chinese news. \n",
    "\n",
    "First, location analogy: **province -> capital**"
   ]
  },
  {
   "cell_type": "code",
   "execution_count": 189,
   "metadata": {},
   "outputs": [
    {
     "ename": "NameError",
     "evalue": "name 'model' is not defined",
     "output_type": "error",
     "traceback": [
      "\u001b[0;31m---------------------------------------------------------------------------\u001b[0m",
      "\u001b[0;31mNameError\u001b[0m                                 Traceback (most recent call last)",
      "\u001b[0;32m<ipython-input-189-a61ec4dae69e>\u001b[0m in \u001b[0;36m<module>\u001b[0;34m()\u001b[0m\n\u001b[0;32m----> 1\u001b[0;31m \u001b[0mmm\u001b[0m \u001b[0;34m=\u001b[0m \u001b[0mmodel\u001b[0m\u001b[0;34m.\u001b[0m\u001b[0mmost_similar\u001b[0m\u001b[0;34m(\u001b[0m\u001b[0mpositive\u001b[0m\u001b[0;34m=\u001b[0m\u001b[0;34m[\u001b[0m\u001b[0;34mu'长沙'\u001b[0m\u001b[0;34m,\u001b[0m\u001b[0;34mu'陕西'\u001b[0m\u001b[0;34m]\u001b[0m\u001b[0;34m,\u001b[0m \u001b[0mnegative\u001b[0m\u001b[0;34m=\u001b[0m\u001b[0;34m[\u001b[0m\u001b[0;34mu'湖南'\u001b[0m\u001b[0;34m]\u001b[0m\u001b[0;34m)\u001b[0m \u001b[0;31m# Changsha + Shaanxi - Hunan\u001b[0m\u001b[0;34m\u001b[0m\u001b[0m\n\u001b[0m\u001b[1;32m      2\u001b[0m \u001b[0;32mfor\u001b[0m \u001b[0mm\u001b[0m \u001b[0;32min\u001b[0m \u001b[0mmm\u001b[0m\u001b[0;34m:\u001b[0m\u001b[0;34m\u001b[0m\u001b[0m\n\u001b[1;32m      3\u001b[0m     \u001b[0mprint\u001b[0m\u001b[0;34m(\u001b[0m\u001b[0mm\u001b[0m\u001b[0;34m[\u001b[0m\u001b[0;36m0\u001b[0m\u001b[0;34m]\u001b[0m\u001b[0;34m,\u001b[0m\u001b[0mm\u001b[0m\u001b[0;34m[\u001b[0m\u001b[0;36m1\u001b[0m\u001b[0;34m]\u001b[0m\u001b[0;34m)\u001b[0m\u001b[0;34m\u001b[0m\u001b[0m\n\u001b[1;32m      4\u001b[0m     \u001b[0mprint\u001b[0m\u001b[0;34m(\u001b[0m\u001b[0;34m\"Xi'an\"\u001b[0m\u001b[0;34m)\u001b[0m\u001b[0;34m\u001b[0m\u001b[0m\n\u001b[1;32m      5\u001b[0m     \u001b[0;32mbreak\u001b[0m\u001b[0;34m\u001b[0m\u001b[0m\n",
      "\u001b[0;31mNameError\u001b[0m: name 'model' is not defined"
     ]
    }
   ],
   "source": [
    "mm = model.most_similar(positive=[u'长沙',u'陕西'], negative=[u'湖南']) # Changsha + Shaanxi - Hunan\n",
    "for m in mm:\n",
    "    print(m[0],m[1])\n",
    "    print(\"Xi'an\")\n",
    "    break"
   ]
  },
  {
   "cell_type": "code",
   "execution_count": 192,
   "metadata": {},
   "outputs": [
    {
     "name": "stdout",
     "output_type": "stream",
     "text": [
      "<a href=\"http://example.com/\">I linked to <i>example.com</i></a>\n"
     ]
    }
   ],
   "source": [
    "print(a_tag)"
   ]
  },
  {
   "cell_type": "code",
   "execution_count": null,
   "metadata": {},
   "outputs": [],
   "source": []
  },
  {
   "cell_type": "code",
   "execution_count": null,
   "metadata": {},
   "outputs": [],
   "source": []
  },
  {
   "cell_type": "code",
   "execution_count": null,
   "metadata": {},
   "outputs": [],
   "source": [
    "mm = model.most_similar(positive=[u'广州',u'湖北'], negative=[u'广东']) # Guangzhou + Hubei - Guangdong\n",
    "for m in mm:\n",
    "    print(m[0],m[1])\n",
    "    print(\"Wuhan\")\n",
    "    break"
   ]
  },
  {
   "cell_type": "markdown",
   "metadata": {},
   "source": [
    "Second, location analogy: **country -> capital**"
   ]
  },
  {
   "cell_type": "code",
   "execution_count": null,
   "metadata": {},
   "outputs": [],
   "source": [
    "mm = model.most_similar(positive=[u'东京',u'美国'], negative=[u'日本']) # Tokyo + US - Japan\n",
    "for m in mm:\n",
    "    print(m[0],m[1])\n",
    "    print(\"(Washington DC)\")\n",
    "    break"
   ]
  },
  {
   "cell_type": "markdown",
   "metadata": {},
   "source": [
    "## similar words"
   ]
  },
  {
   "cell_type": "code",
   "execution_count": null,
   "metadata": {},
   "outputs": [],
   "source": [
    "word = u'社会主义'  #socialism\n",
    "ss = model.similar_by_word(word,topn=10)\n",
    "print(\"the most similar words to \" + word + \" is: \")\n",
    "for s in ss:\n",
    "    print(s[0])\n",
    "print(\"\")"
   ]
  },
  {
   "cell_type": "code",
   "execution_count": null,
   "metadata": {},
   "outputs": [],
   "source": [
    "word = u'玉米'  # corn\n",
    "ss = model.similar_by_word(word,topn=10)\n",
    "print(\"the most similar words to \" + word + \" is: \")\n",
    "for s in ss:\n",
    "    print(s[0])\n",
    "print(\"\")"
   ]
  },
  {
   "cell_type": "markdown",
   "metadata": {},
   "source": [
    "## <span style=\"color:red\">*Exercise 1*</span>\n",
    "\n",
    "<span style=\"color:red\">Construct cells immediately below this that build a word2vec model with your corpus. Interrogate word relationships in the resulting space, including estimating 90% confidence intervals for specific word cosine distances of interest. Plot a subset of your words. What do these word relationships reveal about the *social* and *cultural game* underlying your corpus? What was surprising--what violated your prior understanding of the corpus? What was expected--what confirmed your knowledge about this domain?"
   ]
  },
  {
   "cell_type": "markdown",
   "metadata": {},
   "source": [
    "I am interested in understanding how such topics as certainty, probability, risk and novelty are dealth with in scientific discourse. This is in service of elaborating the search and selection procedures that scientists, which as an aggregative process forms the basis for scienfitic orthodoxy. Using scientific articles from PLOS One for this assignment I will explore, at least attempt to explore how thse topics are treated. As the conepts I previously mentioned are heuristics which point towards social phenomena the precise language which refers to them will have to be largely inferred for the analysis to begin."
   ]
  },
  {
   "cell_type": "code",
   "execution_count": 2,
   "metadata": {},
   "outputs": [],
   "source": [
    "target_dir = '../data/PLOSone'\n",
    "plosText = []\n",
    "plosFileName = []"
   ]
  },
  {
   "cell_type": "code",
   "execution_count": 3,
   "metadata": {},
   "outputs": [],
   "source": [
    "for file in (file for file in os.scandir(target_dir) if file.is_file() and not file.name.startswith('.')):\n",
    "    with open(file.path) as f:\n",
    "        plosText.append(f.read())\n",
    "    plosFileName.append(file.name)"
   ]
  },
  {
   "cell_type": "code",
   "execution_count": 4,
   "metadata": {},
   "outputs": [],
   "source": [
    "parsedText = []\n",
    "for file in plosText:\n",
    "    #print(file[1000:1250])\n",
    "    #print(\"**\"*50)\n",
    "    parsedText.append(BeautifulSoup(file, 'xml'))"
   ]
  },
  {
   "cell_type": "code",
   "execution_count": 5,
   "metadata": {},
   "outputs": [],
   "source": [
    "titles = []\n",
    "for file in parsedText:\n",
    "    title_meta = file.find('title-group')\n",
    "    titles.append(title_meta.find_all('article-title'))"
   ]
  },
  {
   "cell_type": "code",
   "execution_count": 6,
   "metadata": {},
   "outputs": [],
   "source": [
    "flat_list_1 = []\n",
    "for sublist in titles:\n",
    "    for item in sublist:\n",
    "        flat_list_1.append(item)"
   ]
  },
  {
   "cell_type": "code",
   "execution_count": 7,
   "metadata": {},
   "outputs": [],
   "source": [
    "clean_titles = []\n",
    "for file in flat_list_1:\n",
    "    clean_titles.append(file.text)"
   ]
  },
  {
   "cell_type": "code",
   "execution_count": 9,
   "metadata": {},
   "outputs": [],
   "source": [
    "journal_titles = []\n",
    "for file in parsedText:\n",
    "    journal_titles.append(file.find('journal-title'))"
   ]
  },
  {
   "cell_type": "code",
   "execution_count": 10,
   "metadata": {},
   "outputs": [],
   "source": [
    "journal_titles_clean = []\n",
    "for file in journal_titles:\n",
    "    journal_titles_clean.append(file.text)"
   ]
  },
  {
   "cell_type": "code",
   "execution_count": 12,
   "metadata": {},
   "outputs": [],
   "source": [
    "bodies = []\n",
    "for file in parsedText:\n",
    "    bodies.append(file.body.find('p'))"
   ]
  },
  {
   "cell_type": "code",
   "execution_count": 13,
   "metadata": {},
   "outputs": [],
   "source": [
    "bodies_clean = []\n",
    "for pTag in bodies:\n",
    "    bodies_clean.append(pTag.text)"
   ]
  },
  {
   "cell_type": "code",
   "execution_count": 15,
   "metadata": {},
   "outputs": [],
   "source": [
    "years = []\n",
    "for file in parsedText:\n",
    "    years_meta = file.find('permissions')\n",
    "    years.append(years_meta.find_all('copyright-year'))"
   ]
  },
  {
   "cell_type": "code",
   "execution_count": 16,
   "metadata": {},
   "outputs": [],
   "source": [
    "flat_list_2 = []\n",
    "for sublist in years:\n",
    "    for item in sublist:\n",
    "        flat_list_2.append(item)"
   ]
  },
  {
   "cell_type": "code",
   "execution_count": 17,
   "metadata": {},
   "outputs": [],
   "source": [
    "clean_years = []\n",
    "for element in flat_list_2:\n",
    "    clean_years.append(element.text)"
   ]
  },
  {
   "cell_type": "code",
   "execution_count": 20,
   "metadata": {},
   "outputs": [],
   "source": [
    "#For some reason there are five missing years in the list so I just added five so I can get the data frame to work and finish the assignment \n",
    "#I figure it would be a better idea to just leave five cells empty but I can't figure out how to do that right now. \n",
    "more_years = [2015, 2014, 2013, 2012, 2011]\n",
    "for element in more_years:\n",
    "    clean_years.append(element)"
   ]
  },
  {
   "cell_type": "code",
   "execution_count": 22,
   "metadata": {},
   "outputs": [],
   "source": [
    "plosDF = pandas.DataFrame({'Titles': clean_titles, 'Article Contents': bodies_clean, 'Journal Title' : journal_titles_clean, 'Year' : clean_years})\n",
    "#plosDF"
   ]
  },
  {
   "cell_type": "code",
   "execution_count": 50,
   "metadata": {},
   "outputs": [
    {
     "data": {
      "text/html": [
       "<div>\n",
       "<style scoped>\n",
       "    .dataframe tbody tr th:only-of-type {\n",
       "        vertical-align: middle;\n",
       "    }\n",
       "\n",
       "    .dataframe tbody tr th {\n",
       "        vertical-align: top;\n",
       "    }\n",
       "\n",
       "    .dataframe thead th {\n",
       "        text-align: right;\n",
       "    }\n",
       "</style>\n",
       "<table border=\"1\" class=\"dataframe\">\n",
       "  <thead>\n",
       "    <tr style=\"text-align: right;\">\n",
       "      <th></th>\n",
       "      <th>Article Contents</th>\n",
       "      <th>Journal Title</th>\n",
       "      <th>Titles</th>\n",
       "      <th>Year</th>\n",
       "      <th>tokenized_sents</th>\n",
       "      <th>normalized_sents</th>\n",
       "    </tr>\n",
       "  </thead>\n",
       "  <tbody>\n",
       "    <tr>\n",
       "      <th>0</th>\n",
       "      <td>Fluorescence superresolution (SR) imaging has ...</td>\n",
       "      <td>PLOS ONE</td>\n",
       "      <td>Sequential Superresolution Imaging of Multiple...</td>\n",
       "      <td>2015</td>\n",
       "      <td>[[Fluorescence, superresolution, (, SR, ), ima...</td>\n",
       "      <td>[[fluorescence, superresolution, sr, imaging, ...</td>\n",
       "    </tr>\n",
       "    <tr>\n",
       "      <th>1</th>\n",
       "      <td>Gastric cancer is one of the most common gastr...</td>\n",
       "      <td>PLOS ONE</td>\n",
       "      <td>The Prognostic Significance of Pretreatment Se...</td>\n",
       "      <td>2015</td>\n",
       "      <td>[[Gastric, cancer, is, one, of, the, most, com...</td>\n",
       "      <td>[[gastric, cancer, one, common, gastrointestin...</td>\n",
       "    </tr>\n",
       "    <tr>\n",
       "      <th>2</th>\n",
       "      <td>Robust and reproducible generation of patterne...</td>\n",
       "      <td>PLOS Computational Biology</td>\n",
       "      <td>Stochastic Regulation of her1/7 Gene Expressio...</td>\n",
       "      <td>2015</td>\n",
       "      <td>[[Robust, and, reproducible, generation, of, p...</td>\n",
       "      <td>[[robust, reproducible, generation, patterned,...</td>\n",
       "    </tr>\n",
       "    <tr>\n",
       "      <th>3</th>\n",
       "      <td>Type II diabetes mellitus (T2DM) is now the th...</td>\n",
       "      <td>PLOS ONE</td>\n",
       "      <td>Leaf Extract from Lithocarpus polystachyus Reh...</td>\n",
       "      <td>2016</td>\n",
       "      <td>[[Type, II, diabetes, mellitus, (, T2DM, ), is...</td>\n",
       "      <td>[[type, ii, diabetes, mellitus, third, largest...</td>\n",
       "    </tr>\n",
       "    <tr>\n",
       "      <th>4</th>\n",
       "      <td>Tannic acid (TA) is a polyphenolic compound co...</td>\n",
       "      <td>PLOS ONE</td>\n",
       "      <td>Effects of dietary level of tannic acid and pr...</td>\n",
       "      <td>2018</td>\n",
       "      <td>[[Tannic, acid, (, TA, ), is, a, polyphenolic,...</td>\n",
       "      <td>[[tannic, acid, ta, polyphenolic, compound, co...</td>\n",
       "    </tr>\n",
       "  </tbody>\n",
       "</table>\n",
       "</div>"
      ],
      "text/plain": [
       "                                    Article Contents  \\\n",
       "0  Fluorescence superresolution (SR) imaging has ...   \n",
       "1  Gastric cancer is one of the most common gastr...   \n",
       "2  Robust and reproducible generation of patterne...   \n",
       "3  Type II diabetes mellitus (T2DM) is now the th...   \n",
       "4  Tannic acid (TA) is a polyphenolic compound co...   \n",
       "\n",
       "                Journal Title  \\\n",
       "0                    PLOS ONE   \n",
       "1                    PLOS ONE   \n",
       "2  PLOS Computational Biology   \n",
       "3                    PLOS ONE   \n",
       "4                    PLOS ONE   \n",
       "\n",
       "                                              Titles  Year  \\\n",
       "0  Sequential Superresolution Imaging of Multiple...  2015   \n",
       "1  The Prognostic Significance of Pretreatment Se...  2015   \n",
       "2  Stochastic Regulation of her1/7 Gene Expressio...  2015   \n",
       "3  Leaf Extract from Lithocarpus polystachyus Reh...  2016   \n",
       "4  Effects of dietary level of tannic acid and pr...  2018   \n",
       "\n",
       "                                     tokenized_sents  \\\n",
       "0  [[Fluorescence, superresolution, (, SR, ), ima...   \n",
       "1  [[Gastric, cancer, is, one, of, the, most, com...   \n",
       "2  [[Robust, and, reproducible, generation, of, p...   \n",
       "3  [[Type, II, diabetes, mellitus, (, T2DM, ), is...   \n",
       "4  [[Tannic, acid, (, TA, ), is, a, polyphenolic,...   \n",
       "\n",
       "                                    normalized_sents  \n",
       "0  [[fluorescence, superresolution, sr, imaging, ...  \n",
       "1  [[gastric, cancer, one, common, gastrointestin...  \n",
       "2  [[robust, reproducible, generation, patterned,...  \n",
       "3  [[type, ii, diabetes, mellitus, third, largest...  \n",
       "4  [[tannic, acid, ta, polyphenolic, compound, co...  "
      ]
     },
     "execution_count": 50,
     "metadata": {},
     "output_type": "execute_result"
    }
   ],
   "source": [
    "plosDF['tokenized_sents'] = plosDF['Article Contents'].apply(lambda x: \n",
    "                                                               [nltk.word_tokenize(s) for s in nltk.sent_tokenize(x)])\n",
    "plosDF['normalized_sents'] = plosDF['tokenized_sents'].apply(lambda x: \n",
    "                                                                           [lucem_illud.normalizeTokens(s, \n",
    "                                                                                           stopwordLst = lucem_illud.stop_words_basic, \n",
    "                                                                                           stemmer = None) \n",
    "                                                                            for s in x])\n",
    "\n",
    "plosDF[:5]\n"
   ]
  },
  {
   "cell_type": "code",
   "execution_count": 51,
   "metadata": {},
   "outputs": [],
   "source": [
    "plosW2V = gensim.models.word2vec.Word2Vec(plosDF['normalized_sents'].sum())\n"
   ]
  },
  {
   "cell_type": "code",
   "execution_count": 52,
   "metadata": {},
   "outputs": [
    {
     "name": "stdout",
     "output_type": "stream",
     "text": [
      "A 100 dimesional vector:\n"
     ]
    },
    {
     "data": {
      "text/plain": [
       "array([ 2.9280318e-03, -2.6236689e-03,  6.5225167e-03,  5.5551347e-03,\n",
       "       -3.3500253e-03,  3.9932127e-03, -4.3635387e-03,  1.4511197e-03,\n",
       "       -5.1502429e-04,  2.7273244e-03,  4.1203927e-03, -4.2146570e-03,\n",
       "        5.5706115e-03, -4.3224716e-03,  4.2604725e-03,  5.1201549e-03,\n",
       "       -1.6256906e-04,  3.9537819e-03,  1.5216275e-03, -1.7020449e-03,\n",
       "       -3.3124764e-03,  1.2960006e-04, -1.0865729e-03, -4.0491000e-03,\n",
       "       -1.4353824e-03,  4.1968501e-03, -3.0117881e-04, -4.3533756e-03,\n",
       "        4.7705695e-03, -2.5211801e-04, -1.2299659e-03,  3.6562022e-04,\n",
       "        6.3160225e-03,  2.8940209e-03, -1.0890715e-03, -1.4332125e-03,\n",
       "       -2.1142440e-03,  4.8134271e-03,  3.7671509e-03,  2.0211902e-03,\n",
       "       -1.7201336e-03, -7.8719435e-04, -1.7837313e-04,  2.6617432e-03,\n",
       "       -2.5665257e-04, -3.9073303e-03, -4.9672481e-03, -1.9011796e-03,\n",
       "       -4.2997934e-03,  3.6674170e-03,  2.6283683e-03, -1.4101255e-03,\n",
       "        2.2947409e-03, -1.7737311e-03, -2.1271375e-05, -1.1014111e-03,\n",
       "       -1.1672822e-03,  3.0484570e-03,  1.5924092e-03,  2.4091366e-03,\n",
       "        1.8927008e-03, -2.0232145e-03, -4.7364528e-03, -2.0268231e-03,\n",
       "       -3.0210000e-04, -4.5387591e-03, -2.7446477e-03,  3.8485951e-03,\n",
       "       -2.5733551e-03,  1.1090501e-03, -9.2091330e-04,  9.1611949e-04,\n",
       "       -2.1445067e-03,  2.4216783e-03, -1.0172372e-03,  2.0388274e-03,\n",
       "       -2.9554302e-03, -5.5733812e-03, -4.2274543e-03, -9.1000559e-04,\n",
       "       -3.4521949e-03, -3.6494841e-04,  2.3408630e-03,  3.2134636e-03,\n",
       "       -2.6822966e-03,  3.6736417e-03, -5.6343613e-04, -2.2717733e-03,\n",
       "       -3.7149929e-03, -1.6219778e-03,  7.7102234e-04,  4.9584787e-03,\n",
       "       -5.1836512e-04, -3.9740594e-04, -2.2159093e-03, -1.5069488e-03,\n",
       "       -3.7653954e-03, -5.0707236e-03, -4.9514225e-04,  3.6109053e-03],\n",
       "      dtype=float32)"
      ]
     },
     "execution_count": 52,
     "metadata": {},
     "output_type": "execute_result"
    }
   ],
   "source": [
    "print(\"A {} dimesional vector:\".format(plosW2V['scientific'].shape[0]))\n",
    "plosW2V['scientific']"
   ]
  },
  {
   "cell_type": "code",
   "execution_count": 53,
   "metadata": {},
   "outputs": [
    {
     "data": {
      "text/plain": [
       "['cancer',\n",
       " 'cells',\n",
       " 'disease',\n",
       " 'health',\n",
       " 'also',\n",
       " 'one',\n",
       " 'factors',\n",
       " 'however',\n",
       " 'development',\n",
       " 'may',\n",
       " 'important',\n",
       " 'including',\n",
       " 'cell',\n",
       " 'life',\n",
       " 'diseases',\n",
       " 'risk',\n",
       " 'study',\n",
       " 'species',\n",
       " 'high',\n",
       " 'used']"
      ]
     },
     "execution_count": 53,
     "metadata": {},
     "output_type": "execute_result"
    }
   ],
   "source": [
    "plosW2V.wv.index2word[:20]\n"
   ]
  },
  {
   "cell_type": "code",
   "execution_count": 54,
   "metadata": {},
   "outputs": [
    {
     "data": {
      "text/plain": [
       "[('rate', 0.3609101176261902),\n",
       " ('humans', 0.34125468134880066),\n",
       " ('inflammation', 0.3247091770172119),\n",
       " ('region', 0.3231348991394043),\n",
       " ('connectivity', 0.32313287258148193),\n",
       " ('deaths', 0.32195156812667847),\n",
       " ('natural', 0.312447726726532),\n",
       " ('report', 0.3040592670440674),\n",
       " ('diversity', 0.2855832874774933),\n",
       " ('number', 0.27935105562210083)]"
      ]
     },
     "execution_count": 54,
     "metadata": {},
     "output_type": "execute_result"
    }
   ],
   "source": [
    "plosW2V.most_similar('scientific')\n"
   ]
  },
  {
   "cell_type": "code",
   "execution_count": 55,
   "metadata": {},
   "outputs": [
    {
     "data": {
      "text/plain": [
       "[('including', 0.6723794937133789),\n",
       " ('cancer', 0.669094443321228),\n",
       " ('diseases', 0.6677350997924805),\n",
       " ('health', 0.6453661918640137),\n",
       " ('important', 0.6428107619285583),\n",
       " ('due', 0.6283413171768188),\n",
       " ('population', 0.6013338565826416),\n",
       " ('high', 0.5990245342254639),\n",
       " ('conservation', 0.5902145504951477),\n",
       " ('involved', 0.5867501497268677)]"
      ]
     },
     "execution_count": 55,
     "metadata": {},
     "output_type": "execute_result"
    }
   ],
   "source": [
    "plosW2V.most_similar('risk')"
   ]
  },
  {
   "cell_type": "code",
   "execution_count": 56,
   "metadata": {},
   "outputs": [
    {
     "data": {
      "text/plain": [
       "[('tumor', 0.3663042187690735),\n",
       " ('models', 0.34882354736328125),\n",
       " ('practitioners', 0.341457337141037),\n",
       " ('cell', 0.3260980248451233),\n",
       " ('molecular', 0.32248544692993164),\n",
       " ('cellular', 0.31596511602401733),\n",
       " ('main', 0.3104557991027832),\n",
       " ('may', 0.303704172372818),\n",
       " ('changes', 0.30320024490356445),\n",
       " ('result', 0.3031095862388611)]"
      ]
     },
     "execution_count": 56,
     "metadata": {},
     "output_type": "execute_result"
    }
   ],
   "source": [
    "plosW2V.most_similar('mechanism')\n"
   ]
  },
  {
   "cell_type": "code",
   "execution_count": 57,
   "metadata": {},
   "outputs": [
    {
     "data": {
      "text/plain": [
       "[('cause', 0.560478150844574),\n",
       " ('management', 0.5586832165718079),\n",
       " ('severe', 0.5536755323410034),\n",
       " ('including', 0.5529259443283081),\n",
       " ('study', 0.5417328476905823),\n",
       " ('often', 0.5361001491546631),\n",
       " ('protein', 0.5220832824707031),\n",
       " ('common', 0.5187759399414062),\n",
       " ('populations', 0.5164189338684082),\n",
       " ('information', 0.5153071880340576)]"
      ]
     },
     "execution_count": 57,
     "metadata": {},
     "output_type": "execute_result"
    }
   ],
   "source": [
    "plosW2V.most_similar('mortality')\n"
   ]
  },
  {
   "cell_type": "code",
   "execution_count": 58,
   "metadata": {},
   "outputs": [
    {
     "data": {
      "text/plain": [
       "[('human', 0.5547589063644409),\n",
       " ('may', 0.5499981641769409),\n",
       " ('used', 0.5203782320022583),\n",
       " ('host', 0.513389527797699),\n",
       " ('health', 0.5116571187973022),\n",
       " ('high', 0.4993569850921631),\n",
       " ('populations', 0.4992052912712097),\n",
       " ('age', 0.4987543821334839),\n",
       " ('natural', 0.4901893436908722),\n",
       " ('networks', 0.4867166578769684)]"
      ]
     },
     "execution_count": 58,
     "metadata": {},
     "output_type": "execute_result"
    }
   ],
   "source": [
    "plosW2V.most_similar('estimated')\n"
   ]
  },
  {
   "cell_type": "code",
   "execution_count": 34,
   "metadata": {},
   "outputs": [
    {
     "ename": "NameError",
     "evalue": "name 'plosW2V' is not defined",
     "output_type": "error",
     "traceback": [
      "\u001b[0;31m---------------------------------------------------------------------------\u001b[0m",
      "\u001b[0;31mNameError\u001b[0m                                 Traceback (most recent call last)",
      "\u001b[0;32m<ipython-input-34-27ea940052da>\u001b[0m in \u001b[0;36m<module>\u001b[0;34m()\u001b[0m\n\u001b[0;32m----> 1\u001b[0;31m \u001b[0mplosW2V\u001b[0m\u001b[0;34m.\u001b[0m\u001b[0mmost_similar\u001b[0m\u001b[0;34m(\u001b[0m\u001b[0;34m'cause'\u001b[0m\u001b[0;34m)\u001b[0m\u001b[0;34m\u001b[0m\u001b[0m\n\u001b[0m",
      "\u001b[0;31mNameError\u001b[0m: name 'plosW2V' is not defined"
     ]
    }
   ],
   "source": [
    "plosW2V.most_similar('cause')\n"
   ]
  },
  {
   "cell_type": "markdown",
   "metadata": {},
   "source": [
    "The documents seem to largely gathered from medical or clinical studies which is indicated from the 20 words from the index printed above. Considering the topical area these scientific papers are gathered from I think that the way of studying certainty, probability, and risk is through a controlled vocabulary which includes mortality, risk, scientifc, cause and mechanism. Mortality and risk are included as they likely relate to the principle testable measures of success in the application of studies interventions, and scientific, mechanism and cause are included as these are words that are likely to be deployed in discussions of certainty. "
   ]
  },
  {
   "cell_type": "code",
   "execution_count": 60,
   "metadata": {},
   "outputs": [],
   "source": [
    "def cos_difference(embedding,word1,word2):\n",
    "    return sklearn.metrics.pairwise.cosine_similarity(embedding[word1].reshape(1,-1),embedding[word2].reshape(1,-1))"
   ]
  },
  {
   "cell_type": "code",
   "execution_count": 61,
   "metadata": {},
   "outputs": [
    {
     "data": {
      "text/plain": [
       "array([[0.40544415]], dtype=float32)"
      ]
     },
     "execution_count": 61,
     "metadata": {},
     "output_type": "execute_result"
    }
   ],
   "source": [
    "cos_difference(plosW2V, 'risk', 'mortality')\n"
   ]
  },
  {
   "cell_type": "code",
   "execution_count": 36,
   "metadata": {},
   "outputs": [
    {
     "ename": "NameError",
     "evalue": "name 'cos_difference' is not defined",
     "output_type": "error",
     "traceback": [
      "\u001b[0;31m---------------------------------------------------------------------------\u001b[0m",
      "\u001b[0;31mNameError\u001b[0m                                 Traceback (most recent call last)",
      "\u001b[0;32m<ipython-input-36-04748ff2c990>\u001b[0m in \u001b[0;36m<module>\u001b[0;34m()\u001b[0m\n\u001b[0;32m----> 1\u001b[0;31m \u001b[0mcos_difference\u001b[0m\u001b[0;34m(\u001b[0m\u001b[0mplosW2V\u001b[0m\u001b[0;34m,\u001b[0m \u001b[0;34m'mechanism'\u001b[0m\u001b[0;34m,\u001b[0m \u001b[0;34m'cause'\u001b[0m\u001b[0;34m)\u001b[0m\u001b[0;34m\u001b[0m\u001b[0m\n\u001b[0m",
      "\u001b[0;31mNameError\u001b[0m: name 'cos_difference' is not defined"
     ]
    }
   ],
   "source": [
    "cos_difference(plosW2V, 'mechanism', 'cause')\n"
   ]
  },
  {
   "cell_type": "code",
   "execution_count": 67,
   "metadata": {},
   "outputs": [
    {
     "data": {
      "text/plain": [
       "'scientific'"
      ]
     },
     "execution_count": 67,
     "metadata": {},
     "output_type": "execute_result"
    }
   ],
   "source": [
    "plosW2V.doesnt_match(['scientific', 'mechanism', 'risk', 'mortality', 'cause']) \n"
   ]
  },
  {
   "cell_type": "code",
   "execution_count": 37,
   "metadata": {},
   "outputs": [
    {
     "ename": "NameError",
     "evalue": "name 'plosW2V' is not defined",
     "output_type": "error",
     "traceback": [
      "\u001b[0;31m---------------------------------------------------------------------------\u001b[0m",
      "\u001b[0;31mNameError\u001b[0m                                 Traceback (most recent call last)",
      "\u001b[0;32m<ipython-input-37-43e10f03ebfe>\u001b[0m in \u001b[0;36m<module>\u001b[0;34m()\u001b[0m\n\u001b[0;32m----> 1\u001b[0;31m \u001b[0mplosW2V\u001b[0m\u001b[0;34m.\u001b[0m\u001b[0mmost_similar\u001b[0m\u001b[0;34m(\u001b[0m\u001b[0mpositive\u001b[0m\u001b[0;34m=\u001b[0m\u001b[0;34m[\u001b[0m\u001b[0;34m'mechanism'\u001b[0m\u001b[0;34m,\u001b[0m \u001b[0;34m'risk'\u001b[0m\u001b[0;34m]\u001b[0m\u001b[0;34m,\u001b[0m \u001b[0mnegative\u001b[0m \u001b[0;34m=\u001b[0m \u001b[0;34m[\u001b[0m\u001b[0;34m'cause'\u001b[0m\u001b[0;34m]\u001b[0m\u001b[0;34m)\u001b[0m\u001b[0;34m\u001b[0m\u001b[0m\n\u001b[0m",
      "\u001b[0;31mNameError\u001b[0m: name 'plosW2V' is not defined"
     ]
    }
   ],
   "source": [
    "plosW2V.most_similar(positive=['mechanism', 'risk'], negative = ['cause'])\n"
   ]
  },
  {
   "cell_type": "markdown",
   "metadata": {},
   "source": [
    "I'm going to use the bootstrapping approach to test the word associations shown above, conisdering the limited scale of my data set. "
   ]
  },
  {
   "cell_type": "code",
   "execution_count": 71,
   "metadata": {},
   "outputs": [
    {
     "data": {
      "text/plain": [
       "[0.21385437,\n",
       " 0.21763282,\n",
       " 0.21859707,\n",
       " 0.22949375,\n",
       " 0.2297076,\n",
       " 0.23526636,\n",
       " 0.24366495,\n",
       " 0.24690756,\n",
       " 0.26960555,\n",
       " 0.27349886,\n",
       " 0.29659125,\n",
       " 0.31163183,\n",
       " 0.3261178,\n",
       " 0.33324662,\n",
       " 0.345583,\n",
       " 0.36346316,\n",
       " 0.36931753,\n",
       " 0.37264252,\n",
       " 0.40806213,\n",
       " 0.4120113]"
      ]
     },
     "execution_count": 71,
     "metadata": {},
     "output_type": "execute_result"
    }
   ],
   "source": [
    "estimatesB=[]\n",
    "for x in range(20):\n",
    "    plosW2VB = gensim.models.word2vec.Word2Vec(plosDF['normalized_sents'].sample(frac=1.0, replace=True).sum())\n",
    "    try:\n",
    "        estimatesB.append(cos_difference(plosW2VB, 'mechanism', 'cause')[0,0])\n",
    "    except KeyError:\n",
    "        #Missing one of the words from the vocab\n",
    "        pass\n",
    "                                                      \n",
    "estimatesB.sort()         \n",
    "estimatesB"
   ]
  },
  {
   "cell_type": "code",
   "execution_count": 74,
   "metadata": {},
   "outputs": [
    {
     "name": "stdout",
     "output_type": "stream",
     "text": [
      "The 90% confidence interval for the cosine distance between mechanism and cause is:\n",
      " 0.21763282 0.40806213\n"
     ]
    }
   ],
   "source": [
    "print(\"The 90% confidence interval for the cosine distance between mechanism and cause is:\\n\",estimatesB[1], estimatesB[-2])\n",
    "\n"
   ]
  },
  {
   "cell_type": "code",
   "execution_count": 76,
   "metadata": {},
   "outputs": [
    {
     "data": {
      "text/plain": [
       "[0.19180305,\n",
       " 0.2564038,\n",
       " 0.26109782,\n",
       " 0.26350114,\n",
       " 0.27298337,\n",
       " 0.31106177,\n",
       " 0.34177864,\n",
       " 0.40806368,\n",
       " 0.424083,\n",
       " 0.43856174,\n",
       " 0.46850932,\n",
       " 0.47846973,\n",
       " 0.47961447,\n",
       " 0.52932644,\n",
       " 0.58917785,\n",
       " 0.59639,\n",
       " 0.6180186,\n",
       " 0.6208344,\n",
       " 0.6482668,\n",
       " 0.6790702]"
      ]
     },
     "execution_count": 76,
     "metadata": {},
     "output_type": "execute_result"
    }
   ],
   "source": [
    "estimatesB=[]\n",
    "for x in range(20):\n",
    "    plosW2VB = gensim.models.word2vec.Word2Vec(plosDF['normalized_sents'].sample(frac=1.0, replace=True).sum())\n",
    "    try:\n",
    "        estimatesB.append(cos_difference(plosW2VB, 'mortality', 'risk')[0,0])\n",
    "    except KeyError:\n",
    "        #Missing one of the words from the vocab\n",
    "        pass\n",
    "                                                      \n",
    "estimatesB.sort()         \n",
    "estimatesB"
   ]
  },
  {
   "cell_type": "code",
   "execution_count": 79,
   "metadata": {},
   "outputs": [
    {
     "name": "stdout",
     "output_type": "stream",
     "text": [
      "The 90% confidence interval for the cosine distance between mortality and risk is:\n",
      " 0.2564038 0.6482668\n"
     ]
    }
   ],
   "source": [
    "print(\"The 90% confidence interval for the cosine distance between mortality and risk is:\\n\",estimatesB[1], estimatesB[-2])\n",
    "\n"
   ]
  },
  {
   "cell_type": "code",
   "execution_count": 88,
   "metadata": {},
   "outputs": [],
   "source": [
    "numWords = 150\n",
    "targetWords = plosW2V.wv.index2word[:numWords]\n",
    "#targetWords = ['mortality', 'risk', 'cause', 'mechanism', 'estimated']"
   ]
  },
  {
   "cell_type": "code",
   "execution_count": 89,
   "metadata": {},
   "outputs": [
    {
     "data": {
      "text/plain": [
       "array([[ 7.8421633e-04,  6.0366122e-03,  1.1709343e-02, ...,\n",
       "        -3.2304050e-03,  9.2862948e-04, -1.5528764e-03],\n",
       "       [-8.2983490e-04,  6.1384970e-03,  1.6347258e-03, ...,\n",
       "         3.7551478e-03,  1.6749183e-03,  2.1704268e-03],\n",
       "       [ 4.7248378e-03,  3.1992737e-03,  6.5307324e-03, ...,\n",
       "         1.6651250e-04,  1.3650048e-03, -5.3771108e-04],\n",
       "       ...,\n",
       "       [-5.8283337e-04,  3.6541754e-03, -2.0757862e-03, ...,\n",
       "         1.7802841e-03, -2.7901577e-03,  3.0184442e-03],\n",
       "       [ 2.6302233e-03, -7.0742557e-05,  6.3996166e-03, ...,\n",
       "        -2.8306798e-03,  2.5138517e-03,  5.3410190e-03],\n",
       "       [ 6.0793851e-03,  3.6152906e-03,  4.1091093e-03, ...,\n",
       "        -4.6548955e-03,  1.3031826e-03, -1.7732120e-03]], dtype=float32)"
      ]
     },
     "execution_count": 89,
     "metadata": {},
     "output_type": "execute_result"
    }
   ],
   "source": [
    "wordsSubMatrix = []\n",
    "for word in targetWords:\n",
    "    wordsSubMatrix.append(plosW2V[word])\n",
    "wordsSubMatrix = np.array(wordsSubMatrix)\n",
    "wordsSubMatrix"
   ]
  },
  {
   "cell_type": "code",
   "execution_count": 90,
   "metadata": {},
   "outputs": [],
   "source": [
    "pcaWords = sklearn.decomposition.PCA(n_components = 50).fit(wordsSubMatrix)\n",
    "reducedPCA_data = pcaWords.transform(wordsSubMatrix)\n",
    "#T-SNE is theoretically better, but you should experiment\n",
    "tsneWords = sklearn.manifold.TSNE(n_components = 2, early_exaggeration = 25).fit_transform(reducedPCA_data)\n"
   ]
  },
  {
   "cell_type": "code",
   "execution_count": 91,
   "metadata": {
    "scrolled": false
   },
   "outputs": [
    {
     "data": {
      "image/png": "[encoded data removed]",
      "text/plain": [
       "<matplotlib.figure.Figure at 0x7f555ca63da0>"
      ]
     },
     "metadata": {},
     "output_type": "display_data"
    }
   ],
   "source": [
    "fig = plt.figure(figsize = (15,10))\n",
    "ax = fig.add_subplot(111)\n",
    "ax.set_frame_on(False)\n",
    "plt.scatter(tsneWords[:, 0], tsneWords[:, 1], alpha = 0)#Making the points invisible \n",
    "for i, word in enumerate(targetWords):\n",
    "    ax.annotate(word, \n",
    "                (tsneWords[:, 0][i],tsneWords[:, 1][i]), \n",
    "                size =  20 * (numWords - i) / numWords, \n",
    "                alpha = .8 * (numWords - i) / numWords + .2)\n",
    "plt.xticks(())\n",
    "plt.yticks(())\n",
    "plt.show()"
   ]
  },
  {
   "cell_type": "code",
   "execution_count": 93,
   "metadata": {},
   "outputs": [
    {
     "data": {
      "text/plain": [
       "20630.798828125"
      ]
     },
     "execution_count": 93,
     "metadata": {},
     "output_type": "execute_result"
    }
   ],
   "source": [
    "plosW2V_loss = gensim.models.word2vec.Word2Vec(size = 100, #dimensions\n",
    "                                                      alpha=0.025,\n",
    "                                                      window=5,\n",
    "                                                      min_count=5,\n",
    "                                                      hs=0,  #hierarchical softmax toggle\n",
    "                                                      compute_loss = True,\n",
    "                                                     )\n",
    "plosW2V_loss.build_vocab(plosDF['normalized_sents'].sum())\n",
    "plosW2V_loss.train(plosDF['normalized_sents'].sum(), \n",
    "                     total_examples=plosW2V.corpus_count, \n",
    "                     epochs=1, #This the running_training_loss is a total so we have to do 1 epoch at a time\n",
    "                    )\n",
    "#Using a list so we can capture every epoch\n",
    "losses = [plosW2V_loss.running_training_loss]\n",
    "losses[0]"
   ]
  },
  {
   "cell_type": "code",
   "execution_count": 94,
   "metadata": {},
   "outputs": [
    {
     "name": "stdout",
     "output_type": "stream",
     "text": [
      "Done epoch 20\r"
     ]
    },
    {
     "data": {
      "image/png": "[encoded data removed]",
      "text/plain": [
       "<matplotlib.figure.Figure at 0x7f55608d4eb8>"
      ]
     },
     "metadata": {},
     "output_type": "display_data"
    }
   ],
   "source": [
    "for i in range(19):\n",
    "    plosW2V_loss.train(plosDF['normalized_sents'].sum(), \n",
    "                     total_examples=plosW2V.corpus_count, \n",
    "                     epochs=1,\n",
    "                             )\n",
    "    losses.append(plosW2V_loss.running_training_loss)\n",
    "    print(\"Done epoch {}\".format(i + 2), end = '\\r')\n",
    "\n",
    "#this plot the loss vs epoch\n",
    "lossesDF = pandas.DataFrame({'loss' : losses, 'epoch' : range(len(losses))})\n",
    "lossesDF.plot(y = 'loss', x = 'epoch', logy=False, figsize=(15, 7))\n",
    "plt.show()"
   ]
  },
  {
   "cell_type": "markdown",
   "metadata": {},
   "source": [
    "# Doc2Vec"
   ]
  },
  {
   "cell_type": "markdown",
   "metadata": {
    "collapsed": true
   },
   "source": [
    "Instead of just looking at just how words embed within in the space, we can look at how the different documents relate to each other within the space. First lets load our data--abstracts of most U.S. physics papers from the 1950s."
   ]
  },
  {
   "cell_type": "code",
   "execution_count": 204,
   "metadata": {},
   "outputs": [
    {
     "data": {
      "text/html": [
       "<div>\n",
       "<style scoped>\n",
       "    .dataframe tbody tr th:only-of-type {\n",
       "        vertical-align: middle;\n",
       "    }\n",
       "\n",
       "    .dataframe tbody tr th {\n",
       "        vertical-align: top;\n",
       "    }\n",
       "\n",
       "    .dataframe thead th {\n",
       "        text-align: right;\n",
       "    }\n",
       "</style>\n",
       "<table border=\"1\" class=\"dataframe\">\n",
       "  <thead>\n",
       "    <tr style=\"text-align: right;\">\n",
       "      <th></th>\n",
       "      <th>copyrightYear</th>\n",
       "      <th>doi</th>\n",
       "      <th>abstract</th>\n",
       "    </tr>\n",
       "  </thead>\n",
       "  <tbody>\n",
       "    <tr>\n",
       "      <th>0</th>\n",
       "      <td>1950</td>\n",
       "      <td>10.1103/RevModPhys.22.221</td>\n",
       "      <td>A summarizing account is given of the research...</td>\n",
       "    </tr>\n",
       "    <tr>\n",
       "      <th>1</th>\n",
       "      <td>1951</td>\n",
       "      <td>10.1103/RevModPhys.23.147</td>\n",
       "      <td>New tables of coulomb functions are presented ...</td>\n",
       "    </tr>\n",
       "    <tr>\n",
       "      <th>2</th>\n",
       "      <td>1951</td>\n",
       "      <td>10.1103/RevModPhys.23.185</td>\n",
       "      <td>Ionization by electron impact in diatomic gase...</td>\n",
       "    </tr>\n",
       "    <tr>\n",
       "      <th>3</th>\n",
       "      <td>1951</td>\n",
       "      <td>10.1103/RevModPhys.23.203</td>\n",
       "      <td>It is shown that the conductivity in the ohmic...</td>\n",
       "    </tr>\n",
       "    <tr>\n",
       "      <th>4</th>\n",
       "      <td>1951</td>\n",
       "      <td>10.1103/RevModPhys.23.21</td>\n",
       "      <td>The factorization method is an operational pro...</td>\n",
       "    </tr>\n",
       "    <tr>\n",
       "      <th>5</th>\n",
       "      <td>1951</td>\n",
       "      <td>10.1103/RevModPhys.23.311</td>\n",
       "      <td>A brief account is given of Dyson's proof of t...</td>\n",
       "    </tr>\n",
       "    <tr>\n",
       "      <th>6</th>\n",
       "      <td>1951</td>\n",
       "      <td>10.1103/RevModPhys.23.315</td>\n",
       "      <td>A systematics is given of all transitions for ...</td>\n",
       "    </tr>\n",
       "    <tr>\n",
       "      <th>7</th>\n",
       "      <td>1951</td>\n",
       "      <td>10.1103/RevModPhys.23.322</td>\n",
       "      <td>A systematics of the -transitions of even A nu...</td>\n",
       "    </tr>\n",
       "    <tr>\n",
       "      <th>8</th>\n",
       "      <td>1951</td>\n",
       "      <td>10.1103/RevModPhys.23.328</td>\n",
       "      <td>The available experiments on the absorption sp...</td>\n",
       "    </tr>\n",
       "    <tr>\n",
       "      <th>9</th>\n",
       "      <td>1952</td>\n",
       "      <td>10.1103/RevModPhys.24.108</td>\n",
       "      <td>The classical theory of the dynamics of viscou...</td>\n",
       "    </tr>\n",
       "    <tr>\n",
       "      <th>10</th>\n",
       "      <td>1952</td>\n",
       "      <td>10.1103/RevModPhys.24.258</td>\n",
       "      <td>The general formula for the angular distributi...</td>\n",
       "    </tr>\n",
       "    <tr>\n",
       "      <th>11</th>\n",
       "      <td>1952</td>\n",
       "      <td>10.1103/RevModPhys.24.28</td>\n",
       "      <td>It is shown that for aluminum absorbers, a sin...</td>\n",
       "    </tr>\n",
       "    <tr>\n",
       "      <th>12</th>\n",
       "      <td>1952</td>\n",
       "      <td>10.1103/RevModPhys.24.45</td>\n",
       "      <td>The Boltzmann theory treatment of electrical d...</td>\n",
       "    </tr>\n",
       "    <tr>\n",
       "      <th>13</th>\n",
       "      <td>1952</td>\n",
       "      <td>10.1103/RevModPhys.24.79</td>\n",
       "      <td>A survey is given of the absorption of radiati...</td>\n",
       "    </tr>\n",
       "    <tr>\n",
       "      <th>14</th>\n",
       "      <td>1953</td>\n",
       "      <td>10.1103/RevModPhys.25.100</td>\n",
       "      <td>Neutron diffraction measurements are reported ...</td>\n",
       "    </tr>\n",
       "    <tr>\n",
       "      <th>15</th>\n",
       "      <td>1953</td>\n",
       "      <td>10.1103/RevModPhys.25.108</td>\n",
       "      <td>The saturation moment of ferromagnetic alloys ...</td>\n",
       "    </tr>\n",
       "    <tr>\n",
       "      <th>16</th>\n",
       "      <td>1953</td>\n",
       "      <td>10.1103/RevModPhys.25.114</td>\n",
       "      <td>The chemical and magnetic structures of zinc f...</td>\n",
       "    </tr>\n",
       "    <tr>\n",
       "      <th>17</th>\n",
       "      <td>1953</td>\n",
       "      <td>10.1103/RevModPhys.25.122</td>\n",
       "      <td>The temperature range of magnetic susceptibili...</td>\n",
       "    </tr>\n",
       "    <tr>\n",
       "      <th>18</th>\n",
       "      <td>1953</td>\n",
       "      <td>10.1103/RevModPhys.25.131</td>\n",
       "      <td>Present theories of magnetization are based la...</td>\n",
       "    </tr>\n",
       "    <tr>\n",
       "      <th>19</th>\n",
       "      <td>1953</td>\n",
       "      <td>10.1103/RevModPhys.25.136</td>\n",
       "      <td>Measurements of the E effect and the decrement...</td>\n",
       "    </tr>\n",
       "    <tr>\n",
       "      <th>20</th>\n",
       "      <td>1953</td>\n",
       "      <td>10.1103/RevModPhys.25.140</td>\n",
       "      <td>A striking connection has been found between t...</td>\n",
       "    </tr>\n",
       "    <tr>\n",
       "      <th>21</th>\n",
       "      <td>1953</td>\n",
       "      <td>10.1103/RevModPhys.25.146</td>\n",
       "      <td>This paper discusses investigations into the d...</td>\n",
       "    </tr>\n",
       "    <tr>\n",
       "      <th>22</th>\n",
       "      <td>1953</td>\n",
       "      <td>10.1103/RevModPhys.25.151</td>\n",
       "      <td>Experimental results are reviewed for Fe, Co, ...</td>\n",
       "    </tr>\n",
       "    <tr>\n",
       "      <th>23</th>\n",
       "      <td>1953</td>\n",
       "      <td>10.1103/RevModPhys.25.167</td>\n",
       "      <td>The paramagnetic properties (in particular the...</td>\n",
       "    </tr>\n",
       "    <tr>\n",
       "      <th>24</th>\n",
       "      <td>1953</td>\n",
       "      <td>10.1103/RevModPhys.25.17</td>\n",
       "      <td>A brief description is given of the method use...</td>\n",
       "    </tr>\n",
       "    <tr>\n",
       "      <th>25</th>\n",
       "      <td>1953</td>\n",
       "      <td>10.1103/RevModPhys.25.170</td>\n",
       "      <td>The molar specific heat CI of neodymium ethyl ...</td>\n",
       "    </tr>\n",
       "    <tr>\n",
       "      <th>26</th>\n",
       "      <td>1953</td>\n",
       "      <td>10.1103/RevModPhys.25.174</td>\n",
       "      <td>Following a suggestion by A. Kastler, an attem...</td>\n",
       "    </tr>\n",
       "    <tr>\n",
       "      <th>27</th>\n",
       "      <td>1953</td>\n",
       "      <td>10.1103/RevModPhys.25.178</td>\n",
       "      <td>Bromine, even in small quantities, is known to...</td>\n",
       "    </tr>\n",
       "    <tr>\n",
       "      <th>28</th>\n",
       "      <td>1953</td>\n",
       "      <td>10.1103/RevModPhys.25.182</td>\n",
       "      <td>The magnet is an air core and water-cooled mas...</td>\n",
       "    </tr>\n",
       "    <tr>\n",
       "      <th>29</th>\n",
       "      <td>1953</td>\n",
       "      <td>10.1103/RevModPhys.25.191</td>\n",
       "      <td>THIS symposium consisted of a round-table disc...</td>\n",
       "    </tr>\n",
       "    <tr>\n",
       "      <th>...</th>\n",
       "      <td>...</td>\n",
       "      <td>...</td>\n",
       "      <td>...</td>\n",
       "    </tr>\n",
       "    <tr>\n",
       "      <th>9679</th>\n",
       "      <td>1955</td>\n",
       "      <td>10.1103/PhysRev.99.834</td>\n",
       "      <td>The longitudinal exchange contribution to the ...</td>\n",
       "    </tr>\n",
       "    <tr>\n",
       "      <th>9680</th>\n",
       "      <td>1955</td>\n",
       "      <td>10.1103/PhysRev.99.843</td>\n",
       "      <td>The \"elastic\" photoproduction of 0 mesons in h...</td>\n",
       "    </tr>\n",
       "    <tr>\n",
       "      <th>9681</th>\n",
       "      <td>1955</td>\n",
       "      <td>10.1103/PhysRev.99.849</td>\n",
       "      <td>Multiple-scattering corrections to the impulse...</td>\n",
       "    </tr>\n",
       "    <tr>\n",
       "      <th>9682</th>\n",
       "      <td>1955</td>\n",
       "      <td>10.1103/PhysRev.99.857</td>\n",
       "      <td>Integral angular distributions of 860-Mev prot...</td>\n",
       "    </tr>\n",
       "    <tr>\n",
       "      <th>9683</th>\n",
       "      <td>1955</td>\n",
       "      <td>10.1103/PhysRev.99.872</td>\n",
       "      <td>The results of a preliminary nature on the - d...</td>\n",
       "    </tr>\n",
       "    <tr>\n",
       "      <th>9684</th>\n",
       "      <td>1955</td>\n",
       "      <td>10.1103/PhysRev.99.875</td>\n",
       "      <td>The nuclear internal momentum distributions of...</td>\n",
       "    </tr>\n",
       "    <tr>\n",
       "      <th>9685</th>\n",
       "      <td>1955</td>\n",
       "      <td>10.1103/PhysRev.99.88</td>\n",
       "      <td>Random Wilson cloud-chamber photographs of cad...</td>\n",
       "    </tr>\n",
       "    <tr>\n",
       "      <th>9686</th>\n",
       "      <td>1955</td>\n",
       "      <td>10.1103/PhysRev.99.885</td>\n",
       "      <td>The spectrum of electrons arising from the dec...</td>\n",
       "    </tr>\n",
       "    <tr>\n",
       "      <th>9687</th>\n",
       "      <td>1955</td>\n",
       "      <td>10.1103/PhysRev.99.890</td>\n",
       "      <td>Asymmetries have been observed in double charg...</td>\n",
       "    </tr>\n",
       "    <tr>\n",
       "      <th>9688</th>\n",
       "      <td>1955</td>\n",
       "      <td>10.1103/PhysRev.99.892</td>\n",
       "      <td>Asymmetries in neutron and proton production h...</td>\n",
       "    </tr>\n",
       "    <tr>\n",
       "      <th>9689</th>\n",
       "      <td>1955</td>\n",
       "      <td>10.1103/PhysRev.99.895</td>\n",
       "      <td>High-energy protons from the unpolarized exter...</td>\n",
       "    </tr>\n",
       "    <tr>\n",
       "      <th>9690</th>\n",
       "      <td>1955</td>\n",
       "      <td>10.1103/PhysRev.99.897</td>\n",
       "      <td>The K-series x-rays from the -mesonic Be, B, C...</td>\n",
       "    </tr>\n",
       "    <tr>\n",
       "      <th>9691</th>\n",
       "      <td>1955</td>\n",
       "      <td>10.1103/PhysRev.99.905</td>\n",
       "      <td>The yields of the L-series x-ray lines from -m...</td>\n",
       "    </tr>\n",
       "    <tr>\n",
       "      <th>9692</th>\n",
       "      <td>1955</td>\n",
       "      <td>10.1103/PhysRev.99.911</td>\n",
       "      <td>The photographs obtained by the Ecole Polytech...</td>\n",
       "    </tr>\n",
       "    <tr>\n",
       "      <th>9693</th>\n",
       "      <td>1955</td>\n",
       "      <td>10.1103/PhysRev.99.915</td>\n",
       "      <td>The characteristics of the decay process +++-+...</td>\n",
       "    </tr>\n",
       "    <tr>\n",
       "      <th>9694</th>\n",
       "      <td>1955</td>\n",
       "      <td>10.1103/PhysRev.99.92</td>\n",
       "      <td>A careful search is made for evidence of possi...</td>\n",
       "    </tr>\n",
       "    <tr>\n",
       "      <th>9695</th>\n",
       "      <td>1955</td>\n",
       "      <td>10.1103/PhysRev.99.921</td>\n",
       "      <td>The multiple production theories are discussed...</td>\n",
       "    </tr>\n",
       "    <tr>\n",
       "      <th>9696</th>\n",
       "      <td>1955</td>\n",
       "      <td>10.1103/PhysRev.99.926</td>\n",
       "      <td>Some theorems developed by Sachs and Austern, ...</td>\n",
       "    </tr>\n",
       "    <tr>\n",
       "      <th>9697</th>\n",
       "      <td>1955</td>\n",
       "      <td>10.1103/PhysRev.99.931</td>\n",
       "      <td>Some electromagnetic properties of nucleons ar...</td>\n",
       "    </tr>\n",
       "    <tr>\n",
       "      <th>9698</th>\n",
       "      <td>1955</td>\n",
       "      <td>10.1103/PhysRev.99.944</td>\n",
       "      <td>By a method proposed by Gell-Mann and Goldberg...</td>\n",
       "    </tr>\n",
       "    <tr>\n",
       "      <th>9699</th>\n",
       "      <td>1955</td>\n",
       "      <td>10.1103/PhysRev.99.957</td>\n",
       "      <td>The pseudoscalar theory in the Tamm-Dancoff ap...</td>\n",
       "    </tr>\n",
       "    <tr>\n",
       "      <th>9700</th>\n",
       "      <td>1955</td>\n",
       "      <td>10.1103/PhysRev.99.96</td>\n",
       "      <td>Magnetic analysis of the reaction B11(p,)Be9 a...</td>\n",
       "    </tr>\n",
       "    <tr>\n",
       "      <th>9701</th>\n",
       "      <td>1955</td>\n",
       "      <td>10.1103/PhysRev.99.966</td>\n",
       "      <td>The Tamm-Dancoff method is applied to the calc...</td>\n",
       "    </tr>\n",
       "    <tr>\n",
       "      <th>9702</th>\n",
       "      <td>1955</td>\n",
       "      <td>10.1103/PhysRev.99.973</td>\n",
       "      <td>The effective neutron-electron interaction is ...</td>\n",
       "    </tr>\n",
       "    <tr>\n",
       "      <th>9703</th>\n",
       "      <td>1955</td>\n",
       "      <td>10.1103/PhysRev.99.979</td>\n",
       "      <td>The dispersion relations of Kramers and Kronig...</td>\n",
       "    </tr>\n",
       "    <tr>\n",
       "      <th>9704</th>\n",
       "      <td>1955</td>\n",
       "      <td>10.1103/PhysRev.99.98</td>\n",
       "      <td>Chemical separation of the products resulting ...</td>\n",
       "    </tr>\n",
       "    <tr>\n",
       "      <th>9705</th>\n",
       "      <td>1955</td>\n",
       "      <td>10.1103/PhysRev.99.986</td>\n",
       "      <td>The generalized Kramers-Kronig dispersion rela...</td>\n",
       "    </tr>\n",
       "    <tr>\n",
       "      <th>9706</th>\n",
       "      <td>1955</td>\n",
       "      <td>10.1103/PhysRev.99.989</td>\n",
       "      <td>The question is asked whether the lowest order...</td>\n",
       "    </tr>\n",
       "    <tr>\n",
       "      <th>9707</th>\n",
       "      <td>1955</td>\n",
       "      <td>10.1103/PhysRev.99.996</td>\n",
       "      <td>An explicit formula for the scattering spin ma...</td>\n",
       "    </tr>\n",
       "    <tr>\n",
       "      <th>9708</th>\n",
       "      <td>1955</td>\n",
       "      <td>10.1103/PhysRev.99.998</td>\n",
       "      <td>A general method is described whereby the low-...</td>\n",
       "    </tr>\n",
       "  </tbody>\n",
       "</table>\n",
       "<p>9709 rows × 3 columns</p>\n",
       "</div>"
      ],
      "text/plain": [
       "      copyrightYear                        doi  \\\n",
       "0              1950  10.1103/RevModPhys.22.221   \n",
       "1              1951  10.1103/RevModPhys.23.147   \n",
       "2              1951  10.1103/RevModPhys.23.185   \n",
       "3              1951  10.1103/RevModPhys.23.203   \n",
       "4              1951   10.1103/RevModPhys.23.21   \n",
       "5              1951  10.1103/RevModPhys.23.311   \n",
       "6              1951  10.1103/RevModPhys.23.315   \n",
       "7              1951  10.1103/RevModPhys.23.322   \n",
       "8              1951  10.1103/RevModPhys.23.328   \n",
       "9              1952  10.1103/RevModPhys.24.108   \n",
       "10             1952  10.1103/RevModPhys.24.258   \n",
       "11             1952   10.1103/RevModPhys.24.28   \n",
       "12             1952   10.1103/RevModPhys.24.45   \n",
       "13             1952   10.1103/RevModPhys.24.79   \n",
       "14             1953  10.1103/RevModPhys.25.100   \n",
       "15             1953  10.1103/RevModPhys.25.108   \n",
       "16             1953  10.1103/RevModPhys.25.114   \n",
       "17             1953  10.1103/RevModPhys.25.122   \n",
       "18             1953  10.1103/RevModPhys.25.131   \n",
       "19             1953  10.1103/RevModPhys.25.136   \n",
       "20             1953  10.1103/RevModPhys.25.140   \n",
       "21             1953  10.1103/RevModPhys.25.146   \n",
       "22             1953  10.1103/RevModPhys.25.151   \n",
       "23             1953  10.1103/RevModPhys.25.167   \n",
       "24             1953   10.1103/RevModPhys.25.17   \n",
       "25             1953  10.1103/RevModPhys.25.170   \n",
       "26             1953  10.1103/RevModPhys.25.174   \n",
       "27             1953  10.1103/RevModPhys.25.178   \n",
       "28             1953  10.1103/RevModPhys.25.182   \n",
       "29             1953  10.1103/RevModPhys.25.191   \n",
       "...             ...                        ...   \n",
       "9679           1955     10.1103/PhysRev.99.834   \n",
       "9680           1955     10.1103/PhysRev.99.843   \n",
       "9681           1955     10.1103/PhysRev.99.849   \n",
       "9682           1955     10.1103/PhysRev.99.857   \n",
       "9683           1955     10.1103/PhysRev.99.872   \n",
       "9684           1955     10.1103/PhysRev.99.875   \n",
       "9685           1955      10.1103/PhysRev.99.88   \n",
       "9686           1955     10.1103/PhysRev.99.885   \n",
       "9687           1955     10.1103/PhysRev.99.890   \n",
       "9688           1955     10.1103/PhysRev.99.892   \n",
       "9689           1955     10.1103/PhysRev.99.895   \n",
       "9690           1955     10.1103/PhysRev.99.897   \n",
       "9691           1955     10.1103/PhysRev.99.905   \n",
       "9692           1955     10.1103/PhysRev.99.911   \n",
       "9693           1955     10.1103/PhysRev.99.915   \n",
       "9694           1955      10.1103/PhysRev.99.92   \n",
       "9695           1955     10.1103/PhysRev.99.921   \n",
       "9696           1955     10.1103/PhysRev.99.926   \n",
       "9697           1955     10.1103/PhysRev.99.931   \n",
       "9698           1955     10.1103/PhysRev.99.944   \n",
       "9699           1955     10.1103/PhysRev.99.957   \n",
       "9700           1955      10.1103/PhysRev.99.96   \n",
       "9701           1955     10.1103/PhysRev.99.966   \n",
       "9702           1955     10.1103/PhysRev.99.973   \n",
       "9703           1955     10.1103/PhysRev.99.979   \n",
       "9704           1955      10.1103/PhysRev.99.98   \n",
       "9705           1955     10.1103/PhysRev.99.986   \n",
       "9706           1955     10.1103/PhysRev.99.989   \n",
       "9707           1955     10.1103/PhysRev.99.996   \n",
       "9708           1955     10.1103/PhysRev.99.998   \n",
       "\n",
       "                                               abstract  \n",
       "0     A summarizing account is given of the research...  \n",
       "1     New tables of coulomb functions are presented ...  \n",
       "2     Ionization by electron impact in diatomic gase...  \n",
       "3     It is shown that the conductivity in the ohmic...  \n",
       "4     The factorization method is an operational pro...  \n",
       "5     A brief account is given of Dyson's proof of t...  \n",
       "6     A systematics is given of all transitions for ...  \n",
       "7     A systematics of the -transitions of even A nu...  \n",
       "8     The available experiments on the absorption sp...  \n",
       "9     The classical theory of the dynamics of viscou...  \n",
       "10    The general formula for the angular distributi...  \n",
       "11    It is shown that for aluminum absorbers, a sin...  \n",
       "12    The Boltzmann theory treatment of electrical d...  \n",
       "13    A survey is given of the absorption of radiati...  \n",
       "14    Neutron diffraction measurements are reported ...  \n",
       "15    The saturation moment of ferromagnetic alloys ...  \n",
       "16    The chemical and magnetic structures of zinc f...  \n",
       "17    The temperature range of magnetic susceptibili...  \n",
       "18    Present theories of magnetization are based la...  \n",
       "19    Measurements of the E effect and the decrement...  \n",
       "20    A striking connection has been found between t...  \n",
       "21    This paper discusses investigations into the d...  \n",
       "22    Experimental results are reviewed for Fe, Co, ...  \n",
       "23    The paramagnetic properties (in particular the...  \n",
       "24    A brief description is given of the method use...  \n",
       "25    The molar specific heat CI of neodymium ethyl ...  \n",
       "26    Following a suggestion by A. Kastler, an attem...  \n",
       "27    Bromine, even in small quantities, is known to...  \n",
       "28    The magnet is an air core and water-cooled mas...  \n",
       "29    THIS symposium consisted of a round-table disc...  \n",
       "...                                                 ...  \n",
       "9679  The longitudinal exchange contribution to the ...  \n",
       "9680  The \"elastic\" photoproduction of 0 mesons in h...  \n",
       "9681  Multiple-scattering corrections to the impulse...  \n",
       "9682  Integral angular distributions of 860-Mev prot...  \n",
       "9683  The results of a preliminary nature on the - d...  \n",
       "9684  The nuclear internal momentum distributions of...  \n",
       "9685  Random Wilson cloud-chamber photographs of cad...  \n",
       "9686  The spectrum of electrons arising from the dec...  \n",
       "9687  Asymmetries have been observed in double charg...  \n",
       "9688  Asymmetries in neutron and proton production h...  \n",
       "9689  High-energy protons from the unpolarized exter...  \n",
       "9690  The K-series x-rays from the -mesonic Be, B, C...  \n",
       "9691  The yields of the L-series x-ray lines from -m...  \n",
       "9692  The photographs obtained by the Ecole Polytech...  \n",
       "9693  The characteristics of the decay process +++-+...  \n",
       "9694  A careful search is made for evidence of possi...  \n",
       "9695  The multiple production theories are discussed...  \n",
       "9696  Some theorems developed by Sachs and Austern, ...  \n",
       "9697  Some electromagnetic properties of nucleons ar...  \n",
       "9698  By a method proposed by Gell-Mann and Goldberg...  \n",
       "9699  The pseudoscalar theory in the Tamm-Dancoff ap...  \n",
       "9700  Magnetic analysis of the reaction B11(p,)Be9 a...  \n",
       "9701  The Tamm-Dancoff method is applied to the calc...  \n",
       "9702  The effective neutron-electron interaction is ...  \n",
       "9703  The dispersion relations of Kramers and Kronig...  \n",
       "9704  Chemical separation of the products resulting ...  \n",
       "9705  The generalized Kramers-Kronig dispersion rela...  \n",
       "9706  The question is asked whether the lowest order...  \n",
       "9707  An explicit formula for the scattering spin ma...  \n",
       "9708  A general method is described whereby the low-...  \n",
       "\n",
       "[9709 rows x 3 columns]"
      ]
     },
     "execution_count": 204,
     "metadata": {},
     "output_type": "execute_result"
    }
   ],
   "source": [
    "apsDF = pandas.read_csv('../data/APSabstracts1950s.csv', index_col = 0)\n",
    "apsDF[:]"
   ]
  },
  {
   "cell_type": "markdown",
   "metadata": {},
   "source": [
    "We will load these as documents into Word2Vec, but first we need to normalize and pick some tags"
   ]
  },
  {
   "cell_type": "code",
   "execution_count": 152,
   "metadata": {},
   "outputs": [],
   "source": [
    "keywords = ['photomagnetoelectric', 'quantum', 'boltzmann', 'proton', 'positron', 'feynman', 'classical', 'relativity']"
   ]
  },
  {
   "cell_type": "code",
   "execution_count": 153,
   "metadata": {},
   "outputs": [],
   "source": [
    "apsDF['tokenized_words'] = apsDF['abstract'].apply(lambda x: nltk.word_tokenize(x))\n",
    "apsDF['normalized_words'] = apsDF['tokenized_words'].apply(lambda x: lucem_illud.normalizeTokens(x, stopwordLst = lucem_illud.stop_words_basic, stemmer = None))"
   ]
  },
  {
   "cell_type": "code",
   "execution_count": 154,
   "metadata": {},
   "outputs": [],
   "source": [
    "#apsDF"
   ]
  },
  {
   "cell_type": "code",
   "execution_count": 155,
   "metadata": {},
   "outputs": [],
   "source": [
    "taggedDocs = []\n",
    "for index, row in apsDF.iterrows():\n",
    "    #Just doing a simple keyword assignment\n",
    "    docKeywords = [s for s in keywords if s in row['normalized_words']]\n",
    "    docKeywords.append(row['copyrightYear'])\n",
    "    docKeywords.append(row['doi']) #This lets us extract individual documnets since doi's are unique\n",
    "    taggedDocs.append(gensim.models.doc2vec.LabeledSentence(words = row['normalized_words'], tags = docKeywords))\n",
    "apsDF['TaggedAbstracts'] = taggedDocs"
   ]
  },
  {
   "cell_type": "code",
   "execution_count": 157,
   "metadata": {},
   "outputs": [],
   "source": [
    "#print(taggedDocs[0])"
   ]
  },
  {
   "cell_type": "code",
   "execution_count": 158,
   "metadata": {},
   "outputs": [],
   "source": [
    "#print(docKeywords)"
   ]
  },
  {
   "cell_type": "markdown",
   "metadata": {},
   "source": [
    "Now we can train a Doc2Vec model:"
   ]
  },
  {
   "cell_type": "code",
   "execution_count": 164,
   "metadata": {},
   "outputs": [],
   "source": [
    "apsD2V = gensim.models.doc2vec.Doc2Vec(apsDF['TaggedAbstracts'], size = 100) #Limiting to 100 dimensions"
   ]
  },
  {
   "cell_type": "markdown",
   "metadata": {},
   "source": [
    "We can get vectors for the tags/documents, just as we did with words. Documents are actually the centroids (high dimensional average points) of their words. "
   ]
  },
  {
   "cell_type": "code",
   "execution_count": 165,
   "metadata": {
    "scrolled": true
   },
   "outputs": [
    {
     "data": {
      "text/plain": [
       "array([ 0.48836014, -0.5631487 , -1.0536132 ,  0.89628285,  0.40691116,\n",
       "        0.9538817 ,  0.8396928 ,  0.97258925,  0.55897146, -0.634671  ,\n",
       "        0.22774704,  2.1146238 ,  1.9865346 , -0.5940903 , -0.40437657,\n",
       "        1.4274648 ,  0.6834805 ,  0.0767434 ,  1.6908249 ,  2.3822258 ,\n",
       "       -0.1085529 , -0.646042  , -0.48809916, -0.6671304 , -0.12086287,\n",
       "        1.0497019 , -0.32489145, -0.5838524 , -0.23287703,  0.87300783,\n",
       "        0.87975043, -0.38397527,  0.5400747 , -1.3482616 ,  1.2391784 ,\n",
       "        0.92626125,  1.8639097 , -0.38351038,  0.42908633,  0.16278295,\n",
       "        0.6942293 , -0.01295684, -0.3189215 , -1.0855725 , -0.08486653,\n",
       "       -1.0584068 ,  0.4869902 ,  2.2014835 , -0.53203493, -0.7718603 ,\n",
       "        0.5648759 , -1.4185153 , -1.5338997 , -0.58098   , -0.14433463,\n",
       "       -0.56632185,  0.21143638, -0.94638973,  1.123397  ,  1.111073  ,\n",
       "       -0.5139496 , -1.3833619 ,  0.21647985,  0.11972111,  0.61462516,\n",
       "       -0.09536569,  0.69906443,  0.0332945 ,  2.295611  ,  0.14827558,\n",
       "        0.1759097 , -0.40007067, -1.6373843 , -0.33440626, -0.09624119,\n",
       "       -0.9632976 ,  1.0511695 ,  0.40804696, -0.8393001 ,  0.6145382 ,\n",
       "       -0.5424019 , -0.9878095 , -0.389358  , -1.1080836 ,  0.15073793,\n",
       "        0.08092204, -0.60955215,  1.7203299 ,  0.08192047,  0.40748215,\n",
       "       -0.55706096,  0.11110449, -0.14635682,  0.8737549 ,  0.18143423,\n",
       "        0.5185533 , -0.83711296, -0.7554668 , -0.46460602,  1.2025177 ],\n",
       "      dtype=float32)"
      ]
     },
     "execution_count": 165,
     "metadata": {},
     "output_type": "execute_result"
    }
   ],
   "source": [
    "apsD2V.docvecs[1952]"
   ]
  },
  {
   "cell_type": "markdown",
   "metadata": {},
   "source": [
    "The words can still be accessed in the same way:"
   ]
  },
  {
   "cell_type": "code",
   "execution_count": 166,
   "metadata": {},
   "outputs": [
    {
     "data": {
      "text/plain": [
       "array([-0.05827416, -0.23482125, -0.5190048 ,  0.966869  ,  0.52992356,\n",
       "        0.5134348 ,  0.37272128,  0.16900404, -0.1099343 ,  1.2561175 ,\n",
       "        0.18536569, -0.20621304,  0.2714264 ,  0.04106963, -0.25775895,\n",
       "        0.2604693 ,  0.48805857, -0.26617083,  0.07675712,  0.40560588,\n",
       "        0.5692612 , -0.06917384,  0.02489346,  0.48068592,  0.44170514,\n",
       "        0.33993146, -1.1215568 , -0.26786792, -0.3282076 ,  0.7417421 ,\n",
       "       -0.07632335, -0.96654236, -0.20188352, -0.35379303, -0.3723812 ,\n",
       "       -0.05003082,  0.42501137,  0.63252175,  1.0624782 , -0.12766172,\n",
       "        0.16749963,  0.260249  ,  0.24537343,  0.3217391 ,  0.43056503,\n",
       "       -0.03288561,  0.17494431,  1.1153376 , -0.33983552, -0.5876047 ,\n",
       "       -0.40010327, -0.982891  , -0.06814817,  0.02858222,  0.7304325 ,\n",
       "       -0.67326546, -0.13228795, -0.47952247,  0.5231625 ,  0.12467799,\n",
       "        0.51475406,  0.07931995,  0.2701142 , -0.26921657, -0.56366587,\n",
       "        0.7802616 ,  0.10004473, -0.23550749,  0.5650743 , -0.45401362,\n",
       "       -0.20629223,  0.0534692 , -1.1550385 , -0.09084862,  0.22814137,\n",
       "       -1.245333  ,  0.38410363, -0.4805039 , -0.75959134,  0.50688696,\n",
       "       -0.36635146, -1.0822765 , -0.93033177, -1.2786815 , -0.03001501,\n",
       "        0.6510967 , -0.40627307,  0.30784968, -0.8505075 , -1.1759894 ,\n",
       "        0.37651417, -0.17098576,  0.37453598,  0.18153329, -0.15884839,\n",
       "        0.08895481, -0.1963872 , -0.48474097, -0.34605578,  0.00755778],\n",
       "      dtype=float32)"
      ]
     },
     "execution_count": 166,
     "metadata": {},
     "output_type": "execute_result"
    }
   ],
   "source": [
    "apsD2V['atom']"
   ]
  },
  {
   "cell_type": "markdown",
   "metadata": {},
   "source": [
    "We can still use the ``most_similar`` command to perform simple semantic equations:"
   ]
  },
  {
   "cell_type": "code",
   "execution_count": 167,
   "metadata": {},
   "outputs": [
    {
     "data": {
      "text/plain": [
       "[('atoms', 0.792777419090271)]"
      ]
     },
     "execution_count": 167,
     "metadata": {},
     "output_type": "execute_result"
    }
   ],
   "source": [
    "apsD2V.most_similar(positive = ['atom','electrons'], negative = ['electron'], topn = 1)"
   ]
  },
  {
   "cell_type": "markdown",
   "metadata": {},
   "source": [
    "This is interesting. **Electron** is to **electrons** as **atom** is to **atoms**. Another way to understand this, developed below is: **electrons - electron** induces a singular to plural dimension, so when we subtract **electron** from **atom** and add **electrons**, we get **atoms**! "
   ]
  },
  {
   "cell_type": "code",
   "execution_count": 168,
   "metadata": {},
   "outputs": [
    {
     "data": {
      "text/plain": [
       "[('antiferromagnet', 0.943079948425293)]"
      ]
     },
     "execution_count": 168,
     "metadata": {},
     "output_type": "execute_result"
    }
   ],
   "source": [
    "apsD2V.most_similar(positive = ['einstein','law'], negative = ['equation'], topn = 1)"
   ]
  },
  {
   "cell_type": "markdown",
   "metadata": {},
   "source": [
    "In other words **Einstein** minus **equation** plus **law** equals **Meissner**--Walthur Meissner studied mechanical engineering and physics ... and was more likely to produce a \"law\" than a \"equation\", like the Meissner effect, the damping of the magnetic field in superconductors. If we built our word-embedding with a bigger corpus like the entire arXiv, a massive repository of physics preprints, we would see many more such relationships like **gravity - Newton + Einstein = relativity**."
   ]
  },
  {
   "cell_type": "markdown",
   "metadata": {},
   "source": [
    "We can also compute all of these *by hand*--explicitly wth vector algebra: "
   ]
  },
  {
   "cell_type": "code",
   "execution_count": 169,
   "metadata": {},
   "outputs": [
    {
     "data": {
      "text/plain": [
       "array([[0.58750665]], dtype=float32)"
      ]
     },
     "execution_count": 169,
     "metadata": {},
     "output_type": "execute_result"
    }
   ],
   "source": [
    "sklearn.metrics.pairwise.cosine_similarity(apsD2V['electron'].reshape(1,-1), apsD2V['positron'].reshape(1,-1))\n",
    "#We reorient the vectors with .reshape(1, -1) so that they can be computed without a warning in sklearn"
   ]
  },
  {
   "cell_type": "markdown",
   "metadata": {},
   "source": [
    "In the doc2vec model, the documents have vectors just as the words do, so that we can compare documents with each other and also with words (similar to how a search engine locates a webpage with a query). First, we will calculate the distance between a word and documents in the dataset:"
   ]
  },
  {
   "cell_type": "code",
   "execution_count": 170,
   "metadata": {},
   "outputs": [
    {
     "data": {
      "text/plain": [
       "[('10.1103/PhysRev.100.1646', 0.6676969528198242),\n",
       " ('10.1103/PhysRev.102.369', 0.6562789082527161),\n",
       " ('10.1103/PhysRev.109.319', 0.6158905029296875),\n",
       " ('10.1103/PhysRev.113.91', 0.609717607498169),\n",
       " ('10.1103/PhysRev.103.94', 0.6097112894058228)]"
      ]
     },
     "execution_count": 170,
     "metadata": {},
     "output_type": "execute_result"
    }
   ],
   "source": [
    "apsD2V.docvecs.most_similar([ apsD2V['electron'] ], topn=5 )"
   ]
  },
  {
   "cell_type": "markdown",
   "metadata": {},
   "source": [
    "If we search for the first of these on the web (these are doi codes), we find the following...a pretty good match:\n",
    "<img src='../data/PhysRev.98.875.jpg'>"
   ]
  },
  {
   "cell_type": "markdown",
   "metadata": {},
   "source": [
    "Now let's go the other way around and find words most similar to this document:"
   ]
  },
  {
   "cell_type": "code",
   "execution_count": 171,
   "metadata": {},
   "outputs": [
    {
     "data": {
      "text/plain": [
       "[('gauss', 0.6672368049621582),\n",
       " ('centering', 0.6646749973297119),\n",
       " ('electric', 0.6571218371391296),\n",
       " ('magnitude', 0.6547156572341919),\n",
       " ('biasing', 0.6542493104934692)]"
      ]
     },
     "execution_count": 171,
     "metadata": {},
     "output_type": "execute_result"
    }
   ],
   "source": [
    "apsD2V.most_similar( [ apsD2V.docvecs['10.1103/PhysRev.98.875'] ], topn=5) "
   ]
  },
  {
   "cell_type": "markdown",
   "metadata": {},
   "source": [
    "We can even look for documents most like a query composed of multiple words:"
   ]
  },
  {
   "cell_type": "code",
   "execution_count": 172,
   "metadata": {},
   "outputs": [
    {
     "data": {
      "text/plain": [
       "[('10.1103/PhysRev.100.1646', 0.7965904474258423),\n",
       " ('10.1103/PhysRev.85.120', 0.7801182270050049),\n",
       " ('10.1103/PhysRev.85.249', 0.773056149482727),\n",
       " ('10.1103/PhysRev.85.107', 0.7655150890350342),\n",
       " ('10.1103/PhysRev.105.1037', 0.7603840827941895)]"
      ]
     },
     "execution_count": 172,
     "metadata": {},
     "output_type": "execute_result"
    }
   ],
   "source": [
    "apsD2V.docvecs.most_similar([ apsD2V['electron']+apsD2V['positron']+apsD2V['neutron']], topn=5 )"
   ]
  },
  {
   "cell_type": "markdown",
   "metadata": {},
   "source": [
    "Now let's plot some words and documents against one another with a heatmap:"
   ]
  },
  {
   "cell_type": "code",
   "execution_count": 173,
   "metadata": {},
   "outputs": [],
   "source": [
    "heatmapMatrix = []\n",
    "for tagOuter in keywords:\n",
    "    column = []\n",
    "    tagVec = apsD2V.docvecs[tagOuter].reshape(1, -1)\n",
    "    for tagInner in keywords:\n",
    "        column.append(sklearn.metrics.pairwise.cosine_similarity(tagVec, apsD2V.docvecs[tagInner].reshape(1, -1))[0][0])\n",
    "    heatmapMatrix.append(column)\n",
    "heatmapMatrix = np.array(heatmapMatrix)"
   ]
  },
  {
   "cell_type": "code",
   "execution_count": 174,
   "metadata": {},
   "outputs": [
    {
     "data": {
      "image/png": "[encoded data removed]",
      "text/plain": [
       "<matplotlib.figure.Figure at 0x7fadd1188160>"
      ]
     },
     "metadata": {},
     "output_type": "display_data"
    }
   ],
   "source": [
    "fig, ax = plt.subplots()\n",
    "hmap = ax.pcolor(heatmapMatrix, cmap='terrain')\n",
    "cbar = plt.colorbar(hmap)\n",
    "\n",
    "cbar.set_label('cosine similarity', rotation=270)\n",
    "a = ax.set_xticks(np.arange(heatmapMatrix.shape[1]) + 0.5, minor=False)\n",
    "a = ax.set_yticks(np.arange(heatmapMatrix.shape[0]) + 0.5, minor=False)\n",
    "\n",
    "a = ax.set_xticklabels(keywords, minor=False, rotation=270)\n",
    "a = ax.set_yticklabels(keywords, minor=False)"
   ]
  },
  {
   "cell_type": "markdown",
   "metadata": {},
   "source": [
    "Now let's look at a heatmap of similarities between the first ten documents in the corpus:"
   ]
  },
  {
   "cell_type": "code",
   "execution_count": 175,
   "metadata": {},
   "outputs": [],
   "source": [
    "targetDocs = apsDF['doi'][:10]\n",
    "\n",
    "heatmapMatrixD = []\n",
    "\n",
    "for tagOuter in targetDocs:\n",
    "    column = []\n",
    "    tagVec = apsD2V.docvecs[tagOuter].reshape(1, -1)\n",
    "    for tagInner in targetDocs:\n",
    "        column.append(sklearn.metrics.pairwise.cosine_similarity(tagVec, apsD2V.docvecs[tagInner].reshape(1, -1))[0][0])\n",
    "    heatmapMatrixD.append(column)\n",
    "heatmapMatrixD = np.array(heatmapMatrixD)"
   ]
  },
  {
   "cell_type": "code",
   "execution_count": 176,
   "metadata": {},
   "outputs": [
    {
     "data": {
      "image/png": "[encoded data removed]",
      "text/plain": [
       "<matplotlib.figure.Figure at 0x7fadd0de1518>"
      ]
     },
     "metadata": {},
     "output_type": "display_data"
    }
   ],
   "source": [
    "fig, ax = plt.subplots()\n",
    "hmap = ax.pcolor(heatmapMatrixD, cmap='terrain')\n",
    "cbar = plt.colorbar(hmap)\n",
    "\n",
    "cbar.set_label('cosine similarity', rotation=270)\n",
    "a = ax.set_xticks(np.arange(heatmapMatrixD.shape[1]) + 0.5, minor=False)\n",
    "a = ax.set_yticks(np.arange(heatmapMatrixD.shape[0]) + 0.5, minor=False)\n",
    "\n",
    "a = ax.set_xticklabels(targetDocs, minor=False, rotation=270)\n",
    "a = ax.set_yticklabels(targetDocs, minor=False)"
   ]
  },
  {
   "cell_type": "markdown",
   "metadata": {},
   "source": [
    "Now let's look at a heatmap of similarities between the first ten documents and our keywords:"
   ]
  },
  {
   "cell_type": "code",
   "execution_count": 177,
   "metadata": {},
   "outputs": [],
   "source": [
    "heatmapMatrixC = []\n",
    "\n",
    "for tagOuter in targetDocs:\n",
    "    column = []\n",
    "    tagVec = apsD2V.docvecs[tagOuter].reshape(1, -1)\n",
    "    for tagInner in keywords:\n",
    "        column.append(sklearn.metrics.pairwise.cosine_similarity(tagVec, apsD2V.docvecs[tagInner].reshape(1, -1))[0][0])\n",
    "    heatmapMatrixC.append(column)\n",
    "heatmapMatrixC = np.array(heatmapMatrixC)"
   ]
  },
  {
   "cell_type": "code",
   "execution_count": 178,
   "metadata": {},
   "outputs": [
    {
     "data": {
      "image/png": "[encoded data removed]",
      "text/plain": [
       "<matplotlib.figure.Figure at 0x7fadd0fcc518>"
      ]
     },
     "metadata": {},
     "output_type": "display_data"
    }
   ],
   "source": [
    "fig, ax = plt.subplots()\n",
    "hmap = ax.pcolor(heatmapMatrixC, cmap='terrain')\n",
    "cbar = plt.colorbar(hmap)\n",
    "\n",
    "cbar.set_label('cosine similarity', rotation=270)\n",
    "a = ax.set_xticks(np.arange(heatmapMatrixC.shape[1]) + 0.5, minor=False)\n",
    "a = ax.set_yticks(np.arange(heatmapMatrixC.shape[0]) + 0.5, minor=False)\n",
    "\n",
    "a = ax.set_xticklabels(keywords, minor=False, rotation=270)\n",
    "a = ax.set_yticklabels(targetDocs, minor=False)"
   ]
  },
  {
   "cell_type": "markdown",
   "metadata": {},
   "source": [
    "We will save the model in case we would like to use it again."
   ]
  },
  {
   "cell_type": "code",
   "execution_count": null,
   "metadata": {
    "collapsed": true
   },
   "outputs": [],
   "source": [
    "apsD2V.save('apsW2V')"
   ]
  },
  {
   "cell_type": "markdown",
   "metadata": {},
   "source": [
    "We can later load it:"
   ]
  },
  {
   "cell_type": "code",
   "execution_count": null,
   "metadata": {
    "collapsed": true
   },
   "outputs": [],
   "source": [
    "#apsD2V = gensim.models.word2vec.Word2Vec.load('data/apsW2V')"
   ]
  },
  {
   "cell_type": "markdown",
   "metadata": {},
   "source": [
    "## <span style=\"color:red\">*Exercise 2*</span>\n",
    "\n",
    "<span style=\"color:red\">Construct cells immediately below this that build a doc2vec model with your corpus. Interrogate document and word relationships in the resulting space. Construct a heatmap that plots the distances between a subset of your documents against each other, and against a set of informative words. Find distances between *every* document in your corpus and a word or query of interest. What do these doc-doc proximities reveal about your corpus? What do these word-doc proximities highlight? Demonstrate and document one reasonable way to select a defensible subset of query-relevant documents for subsequent analysis."
   ]
  },
  {
   "cell_type": "code",
   "execution_count": 181,
   "metadata": {},
   "outputs": [],
   "source": [
    "plosDF = pandas.DataFrame({ 'Article Contents': bodies_clean, 'Titles': clean_titles, 'Year' : clean_years})\n",
    "#plosDF"
   ]
  },
  {
   "cell_type": "code",
   "execution_count": 182,
   "metadata": {},
   "outputs": [],
   "source": [
    "plosDF = DF[['Year', 'Titles','Article Contents']]"
   ]
  },
  {
   "cell_type": "code",
   "execution_count": 183,
   "metadata": {},
   "outputs": [],
   "source": [
    "keywords = ['scientific', 'mechanism', 'cause', 'estimated', 'risk', 'tumor', 'death', 'development']\n",
    "#keywords = ['disease', 'human', 'genetic', 'cancer', 'cancer', 'health', 'clinical', 'mortality']\n",
    "\n",
    "plosDF['tokenized_words'] = plosDF['Article Contents'].apply(lambda x: nltk.word_tokenize(x))\n",
    "plosDF['normalized_words'] = plosDF['tokenized_words'].apply(lambda x: lucem_illud.normalizeTokens(x, stopwordLst = lucem_illud.stop_words_basic, stemmer = None))\n"
   ]
  },
  {
   "cell_type": "code",
   "execution_count": 184,
   "metadata": {},
   "outputs": [],
   "source": [
    "taggedDocs = []\n",
    "for index, row in plosDF.iterrows():\n",
    "    #Just doing a simple keyword assignment\n",
    "    docKeywords = [s for s in keywords if s in row['normalized_words']]\n",
    "    docKeywords.append(row['Year'])\n",
    "    docKeywords.append(row['Titles']) #This lets us extract individual documnets since doi's are unique\n",
    "    taggedDocs.append(gensim.models.doc2vec.LabeledSentence(words = row['normalized_words'], tags = docKeywords))\n",
    "plosDF['TaggedContents'] = taggedDocs\n"
   ]
  },
  {
   "cell_type": "code",
   "execution_count": 185,
   "metadata": {},
   "outputs": [
    {
     "name": "stdout",
     "output_type": "stream",
     "text": [
      "[2011, 'Mapping the Hsp90 Genetic Network Reveals Ergosterol Biosynthesis and Phosphatidylinositol-4-Kinase Signaling as Core Circuitry Governing Cellular Stress']\n"
     ]
    }
   ],
   "source": [
    "print(docKeywords)"
   ]
  },
  {
   "cell_type": "code",
   "execution_count": 186,
   "metadata": {},
   "outputs": [
    {
     "name": "stdout",
     "output_type": "stream",
     "text": [
      "[2011, 'Mapping the Hsp90 Genetic Network Reveals Ergosterol Biosynthesis and Phosphatidylinositol-4-Kinase Signaling as Core Circuitry Governing Cellular Stress']\n"
     ]
    }
   ],
   "source": [
    "print(docKeywords)"
   ]
  },
  {
   "cell_type": "code",
   "execution_count": 187,
   "metadata": {},
   "outputs": [],
   "source": [
    "plosD2V = gensim.models.doc2vec.Doc2Vec(plosDF['TaggedContents'], size = 100) #Limiting to 100 dimensions\n"
   ]
  },
  {
   "cell_type": "code",
   "execution_count": 188,
   "metadata": {},
   "outputs": [
    {
     "data": {
      "text/plain": [
       "array([-0.11178671,  0.00827274, -0.02009719,  0.04819037,  0.00074713,\n",
       "        0.09086523,  0.04349254, -0.02226882, -0.06070032,  0.03538235,\n",
       "       -0.05231275,  0.02317402,  0.02870336, -0.01715539,  0.0245973 ,\n",
       "        0.07097693,  0.07827755, -0.06356287,  0.01712934, -0.0118081 ,\n",
       "       -0.00467582, -0.02023794,  0.05333244,  0.02119438, -0.02790737,\n",
       "        0.04859636,  0.04526049, -0.03121435,  0.08058466, -0.08859407,\n",
       "        0.01768618, -0.03779075,  0.02153224, -0.03085185,  0.0113717 ,\n",
       "       -0.01843893, -0.02249671,  0.0011819 ,  0.03703623, -0.01322095,\n",
       "       -0.03724672, -0.13637277,  0.01479948, -0.01642579,  0.02987749,\n",
       "       -0.09021568, -0.03130775,  0.00405821, -0.02873402,  0.01757223,\n",
       "       -0.07615018,  0.02753103, -0.01217376,  0.05049045,  0.01323756,\n",
       "        0.02941667, -0.04642278,  0.03980707,  0.01200763, -0.02045499,\n",
       "        0.07544246, -0.02903613, -0.04215926, -0.02815187,  0.0322344 ,\n",
       "       -0.08344037, -0.05098976,  0.04726377,  0.05003338,  0.00374323,\n",
       "       -0.07159798, -0.04826576,  0.00667518,  0.0355922 ,  0.00023171,\n",
       "        0.04804524, -0.08562227, -0.10862277,  0.02591749, -0.07572242,\n",
       "        0.04276436, -0.03278287,  0.03303783, -0.00931123, -0.07607585,\n",
       "        0.02945704,  0.04000539,  0.12102849, -0.04377719,  0.01295562,\n",
       "        0.00193304, -0.04209077,  0.10632279, -0.0197902 ,  0.0346414 ,\n",
       "        0.02321808,  0.02908079, -0.03819063,  0.08469674, -0.041699  ],\n",
       "      dtype=float32)"
      ]
     },
     "execution_count": 188,
     "metadata": {},
     "output_type": "execute_result"
    }
   ],
   "source": [
    "plosD2V.docvecs[2011]"
   ]
  },
  {
   "cell_type": "code",
   "execution_count": 189,
   "metadata": {},
   "outputs": [
    {
     "data": {
      "text/plain": [
       "array([-0.1882822 ,  0.01828686, -0.03661085,  0.08612882,  0.00244856,\n",
       "        0.15258215,  0.07042729, -0.05090367, -0.09859278,  0.05230555,\n",
       "       -0.10033701,  0.03987865,  0.05406056, -0.02044567,  0.03781622,\n",
       "        0.12689951,  0.14256981, -0.1140989 ,  0.01923992, -0.01962957,\n",
       "       -0.00708523, -0.03011569,  0.0948935 ,  0.043154  , -0.04885593,\n",
       "        0.08640205,  0.07512943, -0.05828832,  0.1509726 , -0.15697151,\n",
       "        0.0401173 , -0.06659736,  0.03211148, -0.04647733,  0.0238375 ,\n",
       "       -0.02863187, -0.04800899,  0.00952967,  0.06914841, -0.01784235,\n",
       "       -0.06187784, -0.24062534,  0.03279935, -0.02120946,  0.04067557,\n",
       "       -0.15934543, -0.05044532,  0.01555926, -0.04863417,  0.03307179,\n",
       "       -0.13564445,  0.05539942, -0.01432117,  0.08527387,  0.01588775,\n",
       "        0.04192881, -0.08060976,  0.07638402,  0.01630969, -0.0279911 ,\n",
       "        0.14457868, -0.05195666, -0.07846396, -0.04532446,  0.0503679 ,\n",
       "       -0.14390633, -0.0979708 ,  0.08920176,  0.09871716,  0.01180228,\n",
       "       -0.11889775, -0.09537912,  0.0011798 ,  0.06809186,  0.00090949,\n",
       "        0.0847551 , -0.13974525, -0.192916  ,  0.04053159, -0.14031275,\n",
       "        0.08643214, -0.06709654,  0.05088255, -0.01770136, -0.13005085,\n",
       "        0.05745152,  0.08283208,  0.20366141, -0.07209407,  0.02648712,\n",
       "        0.00387741, -0.07652792,  0.18667547, -0.03203489,  0.06194942,\n",
       "        0.0492173 ,  0.0450227 , -0.07221515,  0.14661437, -0.07034423],\n",
       "      dtype=float32)"
      ]
     },
     "execution_count": 189,
     "metadata": {},
     "output_type": "execute_result"
    }
   ],
   "source": [
    "plosD2V['risk']"
   ]
  },
  {
   "cell_type": "code",
   "execution_count": 190,
   "metadata": {},
   "outputs": [
    {
     "data": {
      "text/plain": [
       "[('often', 0.9956365823745728)]"
      ]
     },
     "execution_count": 190,
     "metadata": {},
     "output_type": "execute_result"
    }
   ],
   "source": [
    "plosD2V.most_similar(positive = ['mechanism','risk'], negative = ['cause'], topn = 1)\n"
   ]
  },
  {
   "cell_type": "code",
   "execution_count": 191,
   "metadata": {},
   "outputs": [
    {
     "data": {
      "text/plain": [
       "[('important', 0.9980332255363464),\n",
       " ('study', 0.9980161190032959),\n",
       " ('high', 0.9978896975517273),\n",
       " ('within', 0.9978519678115845),\n",
       " ('individuals', 0.997819721698761)]"
      ]
     },
     "execution_count": 191,
     "metadata": {},
     "output_type": "execute_result"
    }
   ],
   "source": [
    "plosD2V.most_similar(positive = ['mortality','risk'], negative = ['death'], topn = 5)\n"
   ]
  },
  {
   "cell_type": "code",
   "execution_count": 192,
   "metadata": {},
   "outputs": [
    {
     "data": {
      "text/plain": [
       "[('death', 0.9992408752441406),\n",
       " ('scientific', 0.9992320537567139),\n",
       " ('estimated', 0.9992274045944214),\n",
       " ('2015', 0.9992262125015259),\n",
       " ('development', 0.999225914478302),\n",
       " ('risk', 0.9992231130599976),\n",
       " ('cause', 0.9992167949676514),\n",
       " ('2016', 0.9992147088050842),\n",
       " ('2017', 0.9992002248764038),\n",
       " ('mechanism', 0.9991811513900757),\n",
       " ('Effects of dietary level of tannic acid and protein on internal organ weights and biochemical blood parameters of rats',\n",
       "  0.9991675019264221),\n",
       " ('2014', 0.9991543292999268),\n",
       " ('2013', 0.999146580696106),\n",
       " ('tumor', 0.9991329312324524),\n",
       " ('2018', 0.9991177916526794),\n",
       " ('2008', 0.9990659952163696),\n",
       " ('2006', 0.9990624785423279),\n",
       " ('The Association of Levels of and Decline in Grip Strength in Old Age with Trajectories of Life Course Occupational Position',\n",
       "  0.9989210367202759),\n",
       " ('Translating statistical species-habitat models to interactive decision support tools',\n",
       "  0.998784065246582),\n",
       " ('Moribund Ants Do Not Call for Help', 0.9986968040466309)]"
      ]
     },
     "execution_count": 192,
     "metadata": {},
     "output_type": "execute_result"
    }
   ],
   "source": [
    "plosD2V.docvecs.most_similar([ plosD2V['mortality'] ], topn=20 )\n"
   ]
  },
  {
   "cell_type": "code",
   "execution_count": 39,
   "metadata": {},
   "outputs": [
    {
     "ename": "NameError",
     "evalue": "name 'plosD2V' is not defined",
     "output_type": "error",
     "traceback": [
      "\u001b[0;31m---------------------------------------------------------------------------\u001b[0m",
      "\u001b[0;31mNameError\u001b[0m                                 Traceback (most recent call last)",
      "\u001b[0;32m<ipython-input-39-68ecfc6e302a>\u001b[0m in \u001b[0;36m<module>\u001b[0;34m()\u001b[0m\n\u001b[0;32m----> 1\u001b[0;31m \u001b[0mplosD2V\u001b[0m\u001b[0;34m.\u001b[0m\u001b[0mdocvecs\u001b[0m\u001b[0;34m.\u001b[0m\u001b[0mmost_similar\u001b[0m\u001b[0;34m(\u001b[0m\u001b[0;34m[\u001b[0m \u001b[0mplosD2V\u001b[0m\u001b[0;34m[\u001b[0m\u001b[0;34m'cause'\u001b[0m\u001b[0;34m]\u001b[0m \u001b[0;34m]\u001b[0m\u001b[0;34m,\u001b[0m \u001b[0mtopn\u001b[0m\u001b[0;34m=\u001b[0m\u001b[0;36m5\u001b[0m \u001b[0;34m)\u001b[0m\u001b[0;34m\u001b[0m\u001b[0m\n\u001b[0m",
      "\u001b[0;31mNameError\u001b[0m: name 'plosD2V' is not defined"
     ]
    }
   ],
   "source": [
    "plosD2V.docvecs.most_similar([ plosD2V['cause'] ], topn=5 )"
   ]
  },
  {
   "cell_type": "code",
   "execution_count": 194,
   "metadata": {},
   "outputs": [
    {
     "data": {
      "text/plain": [
       "[('Effects of dietary level of tannic acid and protein on internal organ weights and biochemical blood parameters of rats',\n",
       "  0.9963940382003784),\n",
       " ('cause', 0.9962664246559143),\n",
       " ('2014', 0.996247410774231),\n",
       " ('2018', 0.9962443709373474),\n",
       " ('2008', 0.9962379932403564)]"
      ]
     },
     "execution_count": 194,
     "metadata": {},
     "output_type": "execute_result"
    }
   ],
   "source": [
    "plosD2V.docvecs.most_similar([ plosD2V['mechanism'] ], topn=5 )\n"
   ]
  },
  {
   "cell_type": "code",
   "execution_count": 40,
   "metadata": {},
   "outputs": [
    {
     "ename": "NameError",
     "evalue": "name 'plosD2V' is not defined",
     "output_type": "error",
     "traceback": [
      "\u001b[0;31m---------------------------------------------------------------------------\u001b[0m",
      "\u001b[0;31mNameError\u001b[0m                                 Traceback (most recent call last)",
      "\u001b[0;32m<ipython-input-40-62280905c19c>\u001b[0m in \u001b[0;36m<module>\u001b[0;34m()\u001b[0m\n\u001b[0;32m----> 1\u001b[0;31m \u001b[0mplosD2V\u001b[0m\u001b[0;34m.\u001b[0m\u001b[0mmost_similar\u001b[0m\u001b[0;34m(\u001b[0m \u001b[0;34m[\u001b[0m \u001b[0mplosD2V\u001b[0m\u001b[0;34m.\u001b[0m\u001b[0mdocvecs\u001b[0m\u001b[0;34m[\u001b[0m\u001b[0;34m'Effects of dietary level of tannic acid and protein on internal organ weights and biochemical blood parameters of rats'\u001b[0m\u001b[0;34m]\u001b[0m \u001b[0;34m]\u001b[0m\u001b[0;34m,\u001b[0m \u001b[0mtopn\u001b[0m\u001b[0;34m=\u001b[0m\u001b[0;36m5\u001b[0m\u001b[0;34m)\u001b[0m\u001b[0;34m\u001b[0m\u001b[0m\n\u001b[0m",
      "\u001b[0;31mNameError\u001b[0m: name 'plosD2V' is not defined"
     ]
    }
   ],
   "source": [
    "plosD2V.most_similar( [ plosD2V.docvecs['Effects of dietary level of tannic acid and protein on internal organ weights and biochemical blood parameters of rats'] ], topn=5) \n"
   ]
  },
  {
   "cell_type": "markdown",
   "metadata": {},
   "source": [
    "I can't seem to get the above lines of code to give any meaningful information about the corpus. I can't tell if this is due to something that iam failing to do in the code or if it is due to the limited size of my corpus. "
   ]
  },
  {
   "cell_type": "code",
   "execution_count": 196,
   "metadata": {},
   "outputs": [
    {
     "data": {
      "text/plain": [
       "[('risk', 0.9996227025985718),\n",
       " ('death', 0.9996209144592285),\n",
       " ('2015', 0.9996204376220703),\n",
       " ('development', 0.9996199607849121),\n",
       " ('estimated', 0.9996192455291748)]"
      ]
     },
     "execution_count": 196,
     "metadata": {},
     "output_type": "execute_result"
    }
   ],
   "source": [
    "plosD2V.docvecs.most_similar([ plosD2V['risk']+plosD2V['mortality']+plosD2V['mechanism']], topn=5 )\n"
   ]
  },
  {
   "cell_type": "code",
   "execution_count": 197,
   "metadata": {},
   "outputs": [],
   "source": [
    "heatmapMatrix = []\n",
    "for tagOuter in keywords:\n",
    "    column = []\n",
    "    tagVec = plosD2V.docvecs[tagOuter].reshape(1, -1)\n",
    "    for tagInner in keywords:\n",
    "        column.append(sklearn.metrics.pairwise.cosine_similarity(tagVec, plosD2V.docvecs[tagInner].reshape(1, -1))[0][0])\n",
    "    heatmapMatrix.append(column)\n",
    "heatmapMatrix = np.array(heatmapMatrix)"
   ]
  },
  {
   "cell_type": "code",
   "execution_count": 198,
   "metadata": {},
   "outputs": [
    {
     "data": {
      "image/png": "[encoded data removed]",
      "text/plain": [
       "<matplotlib.figure.Figure at 0x7fadf66954e0>"
      ]
     },
     "metadata": {},
     "output_type": "display_data"
    }
   ],
   "source": [
    "fig, ax = plt.subplots()\n",
    "hmap = ax.pcolor(heatmapMatrix, cmap='terrain')\n",
    "cbar = plt.colorbar(hmap)\n",
    "\n",
    "cbar.set_label('cosine similarity', rotation=270)\n",
    "a = ax.set_xticks(np.arange(heatmapMatrix.shape[1]) + 0.5, minor=False)\n",
    "a = ax.set_yticks(np.arange(heatmapMatrix.shape[0]) + 0.5, minor=False)\n",
    "\n",
    "a = ax.set_xticklabels(keywords, minor=False, rotation=270)\n",
    "a = ax.set_yticklabels(keywords, minor=False)\n",
    "heatmapMatrix = np.array(heatmapMatrix)"
   ]
  },
  {
   "cell_type": "code",
   "execution_count": 199,
   "metadata": {},
   "outputs": [],
   "source": [
    "targetDocs = plosDF['Titles'][:10]\n",
    "\n",
    "heatmapMatrixD = []\n",
    "\n",
    "for tagOuter in targetDocs:\n",
    "    column = []\n",
    "    tagVec = plosD2V.docvecs[tagOuter].reshape(1, -1)\n",
    "    for tagInner in targetDocs:\n",
    "        column.append(sklearn.metrics.pairwise.cosine_similarity(tagVec, plosD2V.docvecs[tagInner].reshape(1, -1))[0][0])\n",
    "    heatmapMatrixD.append(column)\n",
    "heatmapMatrixD = np.array(heatmapMatrixD)"
   ]
  },
  {
   "cell_type": "code",
   "execution_count": 200,
   "metadata": {},
   "outputs": [
    {
     "data": {
      "image/png": "[encoded data removed]",
      "text/plain": [
       "<matplotlib.figure.Figure at 0x7fadf4854f98>"
      ]
     },
     "metadata": {},
     "output_type": "display_data"
    }
   ],
   "source": [
    "fig, ax = plt.subplots()\n",
    "hmap = ax.pcolor(heatmapMatrixD, cmap='terrain')\n",
    "cbar = plt.colorbar(hmap)\n",
    "\n",
    "cbar.set_label('cosine similarity', rotation=270)\n",
    "a = ax.set_xticks(np.arange(heatmapMatrixD.shape[1]) + 0.5, minor=False)\n",
    "a = ax.set_yticks(np.arange(heatmapMatrixD.shape[0]) + 0.5, minor=False)\n",
    "\n",
    "a = ax.set_xticklabels(targetDocs, minor=False, rotation=270)\n",
    "a = ax.set_yticklabels(targetDocs, minor=False)"
   ]
  },
  {
   "cell_type": "code",
   "execution_count": 201,
   "metadata": {},
   "outputs": [],
   "source": [
    "heatmapMatrixC = []\n",
    "\n",
    "for tagOuter in targetDocs:\n",
    "    column = []\n",
    "    tagVec = plosD2V.docvecs[tagOuter].reshape(1, -1)\n",
    "    for tagInner in keywords:\n",
    "        column.append(sklearn.metrics.pairwise.cosine_similarity(tagVec, plosD2V.docvecs[tagInner].reshape(1, -1))[0][0])\n",
    "    heatmapMatrixC.append(column)\n",
    "heatmapMatrixC = np.array(heatmapMatrixC)"
   ]
  },
  {
   "cell_type": "code",
   "execution_count": 38,
   "metadata": {},
   "outputs": [
    {
     "ename": "NameError",
     "evalue": "name 'heatmapMatrixC' is not defined",
     "output_type": "error",
     "traceback": [
      "\u001b[0;31m---------------------------------------------------------------------------\u001b[0m",
      "\u001b[0;31mNameError\u001b[0m                                 Traceback (most recent call last)",
      "\u001b[0;32m<ipython-input-38-58d74a2a44f0>\u001b[0m in \u001b[0;36m<module>\u001b[0;34m()\u001b[0m\n\u001b[1;32m      1\u001b[0m \u001b[0mfig\u001b[0m\u001b[0;34m,\u001b[0m \u001b[0max\u001b[0m \u001b[0;34m=\u001b[0m \u001b[0mplt\u001b[0m\u001b[0;34m.\u001b[0m\u001b[0msubplots\u001b[0m\u001b[0;34m(\u001b[0m\u001b[0;34m)\u001b[0m\u001b[0;34m\u001b[0m\u001b[0m\n\u001b[0;32m----> 2\u001b[0;31m \u001b[0mhmap\u001b[0m \u001b[0;34m=\u001b[0m \u001b[0max\u001b[0m\u001b[0;34m.\u001b[0m\u001b[0mpcolor\u001b[0m\u001b[0;34m(\u001b[0m\u001b[0mheatmapMatrixC\u001b[0m\u001b[0;34m,\u001b[0m \u001b[0mcmap\u001b[0m\u001b[0;34m=\u001b[0m\u001b[0;34m'terrain'\u001b[0m\u001b[0;34m)\u001b[0m\u001b[0;34m\u001b[0m\u001b[0m\n\u001b[0m\u001b[1;32m      3\u001b[0m \u001b[0mcbar\u001b[0m \u001b[0;34m=\u001b[0m \u001b[0mplt\u001b[0m\u001b[0;34m.\u001b[0m\u001b[0mcolorbar\u001b[0m\u001b[0;34m(\u001b[0m\u001b[0mhmap\u001b[0m\u001b[0;34m)\u001b[0m\u001b[0;34m\u001b[0m\u001b[0m\n\u001b[1;32m      4\u001b[0m \u001b[0;34m\u001b[0m\u001b[0m\n\u001b[1;32m      5\u001b[0m \u001b[0mcbar\u001b[0m\u001b[0;34m.\u001b[0m\u001b[0mset_label\u001b[0m\u001b[0;34m(\u001b[0m\u001b[0;34m'cosine similarity'\u001b[0m\u001b[0;34m,\u001b[0m \u001b[0mrotation\u001b[0m\u001b[0;34m=\u001b[0m\u001b[0;36m270\u001b[0m\u001b[0;34m)\u001b[0m\u001b[0;34m\u001b[0m\u001b[0m\n",
      "\u001b[0;31mNameError\u001b[0m: name 'heatmapMatrixC' is not defined"
     ]
    },
    {
     "data": {
      "image/png": "[encoded data removed]",
      "text/plain": [
       "<matplotlib.figure.Figure at 0x7f2ee6987128>"
      ]
     },
     "metadata": {},
     "output_type": "display_data"
    }
   ],
   "source": [
    "fig, ax = plt.subplots()\n",
    "hmap = ax.pcolor(heatmapMatrixC, cmap='terrain')\n",
    "cbar = plt.colorbar(hmap)\n",
    "\n",
    "cbar.set_label('cosine similarity', rotation=270)\n",
    "a = ax.set_xticks(np.arange(heatmapMatrixC.shape[1]) + 0.5, minor=False)\n",
    "a = ax.set_yticks(np.arange(heatmapMatrixC.shape[0]) + 0.5, minor=False)\n",
    "\n",
    "a = ax.set_xticklabels(keywords, minor=False, rotation=270)\n",
    "a = ax.set_yticklabels(targetDocs, minor=False)"
   ]
  },
  {
   "cell_type": "markdown",
   "metadata": {},
   "source": [
    "I suspect that in the above three heatmaps that the corpus I am using is far too small to reveal any meaningful variation. Overall I think that in Exercise 2 my analysis severely suffered from a small corpus. With only 159 rows in the dataframe, it represents little more than 1% of the volume of information that was used in the example. "
   ]
  },
  {
   "cell_type": "markdown",
   "metadata": {},
   "source": [
    "# Projection"
   ]
  },
  {
   "cell_type": "markdown",
   "metadata": {},
   "source": [
    "We can also project word vectors to an arbitray semantic dimension. To demonstrate this possibility, let's first load a model trained with New York Times news articles. "
   ]
  },
  {
   "cell_type": "code",
   "execution_count": 32,
   "metadata": {},
   "outputs": [],
   "source": [
    "nytimes_model = gensim.models.KeyedVectors.load_word2vec_format('../data/nytimes_cbow.reduced.txt')"
   ]
  },
  {
   "cell_type": "markdown",
   "metadata": {},
   "source": [
    "First we can visualize with dimension reduction"
   ]
  },
  {
   "cell_type": "code",
   "execution_count": 33,
   "metadata": {},
   "outputs": [
    {
     "data": {
      "text/plain": [
       "array([[-0.343139, -0.117117, -0.50773 , ..., -0.995696,  0.921299,\n",
       "         0.943769],\n",
       "       [-0.362909, -0.263528,  0.032661, ..., -0.043032, -0.178965,\n",
       "         0.353556],\n",
       "       [-0.70167 , -0.344525, -0.320714, ...,  0.009001,  0.11055 ,\n",
       "         0.751077],\n",
       "       ...,\n",
       "       [-2.391626, -1.90143 ,  1.031182, ...,  2.947464,  1.01588 ,\n",
       "         2.00033 ],\n",
       "       [-2.432387, -1.161415,  1.060064, ...,  4.402381,  0.500471,\n",
       "         1.644596],\n",
       "       [ 0.981931,  0.628094, -0.747547, ...,  1.612927,  1.148063,\n",
       "         1.063776]], dtype=float32)"
      ]
     },
     "execution_count": 33,
     "metadata": {},
     "output_type": "execute_result"
    }
   ],
   "source": [
    "#words to create dimensions\n",
    "tnytTargetWords = ['man','him','he', 'woman', 'her', 'she', 'black','blacks','African', 'white', 'whites', 'Caucasian', 'rich', 'richer', 'richest', 'expensive', 'wealthy', 'poor', 'poorer', 'poorest', 'cheap', 'inexpensive']\n",
    "#words we will be mapping\n",
    "tnytTargetWords += [\"doctor\",\"lawyer\",\"plumber\",\"scientist\",\"hairdresser\", \"nanny\",\"carpenter\",\"entrepreneur\",\"musician\",\"writer\", \"banker\",\"poet\",\"nurse\", \"steak\", \"bacon\", \"croissant\", \"cheesecake\", \"salad\", \"cheeseburger\", \"vegetables\", \"beer\", \"wine\", \"pastry\", \"basketball\", \"baseball\", \"boxing\", \"softball\", \"volleyball\", \"tennis\", \"golf\", \"hockey\", \"soccer\"]\n",
    "\n",
    "\n",
    "wordsSubMatrix = []\n",
    "for word in tnytTargetWords:\n",
    "    wordsSubMatrix.append(nytimes_model[word])\n",
    "wordsSubMatrix = np.array(wordsSubMatrix)\n",
    "wordsSubMatrix"
   ]
  },
  {
   "cell_type": "code",
   "execution_count": 6,
   "metadata": {},
   "outputs": [],
   "source": [
    "pcaWordsNYT = sklearn.decomposition.PCA(n_components = 50).fit(wordsSubMatrix)\n",
    "reducedPCA_dataNYT = pcaWordsNYT.transform(wordsSubMatrix)\n",
    "#T-SNE is theoretically better, but you should experiment\n",
    "tsneWordsNYT = sklearn.manifold.TSNE(n_components = 2).fit_transform(reducedPCA_dataNYT)"
   ]
  },
  {
   "cell_type": "code",
   "execution_count": 7,
   "metadata": {},
   "outputs": [
    {
     "data": {
      "image/png": "[encoded data removed]",
      "text/plain": [
       "<matplotlib.figure.Figure at 0x7f2eea6e7a90>"
      ]
     },
     "metadata": {},
     "output_type": "display_data"
    }
   ],
   "source": [
    "fig = plt.figure(figsize = (10,6))\n",
    "ax = fig.add_subplot(111)\n",
    "ax.set_frame_on(False)\n",
    "plt.scatter(tsneWordsNYT[:, 0], tsneWordsNYT[:, 1], alpha = 0) #Making the points invisible\n",
    "for i, word in enumerate(tnytTargetWords):\n",
    "    ax.annotate(word, (tsneWordsNYT[:, 0][i],tsneWordsNYT[:, 1][i]), size =  20 * (len(tnytTargetWords) - i) / len(tnytTargetWords))\n",
    "plt.xticks(())\n",
    "plt.yticks(())\n",
    "plt.show()"
   ]
  },
  {
   "cell_type": "markdown",
   "metadata": {},
   "source": [
    "Define some convenient functions for getting dimensions. "
   ]
  },
  {
   "cell_type": "code",
   "execution_count": 9,
   "metadata": {},
   "outputs": [],
   "source": [
    "def normalize(vector):\n",
    "    normalized_vector = vector / np.linalg.norm(vector)\n",
    "    return normalized_vector\n",
    "\n",
    "def dimension(model, positives, negatives):\n",
    "    diff = sum([normalize(model[x]) for x in positives]) - sum([normalize(model[y]) for y in negatives])\n",
    "    return diff"
   ]
  },
  {
   "cell_type": "markdown",
   "metadata": {},
   "source": [
    "Let's calculate three dimensions: gender, race, and class."
   ]
  },
  {
   "cell_type": "code",
   "execution_count": 10,
   "metadata": {},
   "outputs": [],
   "source": [
    "Gender = dimension(nytimes_model, ['man','him','he'], ['woman', 'her', 'she'])\n",
    "Race = dimension(nytimes_model, ['black','blacks','African'], ['white', 'whites', 'Caucasian'])\n",
    "Class = dimension(nytimes_model, ['rich', 'richer', 'richest', 'expensive', 'wealthy'], ['poor', 'poorer', 'poorest', 'cheap', 'inexpensive'])"
   ]
  },
  {
   "cell_type": "markdown",
   "metadata": {},
   "source": [
    "Here we have some words."
   ]
  },
  {
   "cell_type": "code",
   "execution_count": 11,
   "metadata": {},
   "outputs": [],
   "source": [
    "Occupations = [\"doctor\",\"lawyer\",\"plumber\",\"scientist\",\"hairdresser\", \"nanny\",\"carpenter\",\"entrepreneur\",\"musician\",\"writer\", \"banker\",\"poet\",\"nurse\"]\n",
    "\n",
    "Foods = [\"steak\", \"bacon\", \"croissant\", \"cheesecake\", \"salad\", \"cheeseburger\", \"vegetables\", \"beer\", \"wine\", \"pastry\"]\n",
    "\n",
    "Sports  = [\"basketball\", \"baseball\", \"boxing\", \"softball\", \"volleyball\", \"tennis\", \"golf\", \"hockey\", \"soccer\"]"
   ]
  },
  {
   "cell_type": "markdown",
   "metadata": {},
   "source": [
    "Define a function to project words in a word list to each of the three dimensions."
   ]
  },
  {
   "cell_type": "code",
   "execution_count": 12,
   "metadata": {},
   "outputs": [],
   "source": [
    "def makeDF(model, word_list):\n",
    "    g = []\n",
    "    r = []\n",
    "    c = []\n",
    "    for word in word_list:\n",
    "        g.append(sklearn.metrics.pairwise.cosine_similarity(nytimes_model[word].reshape(1,-1), Gender.reshape(1,-1))[0][0])\n",
    "        r.append(sklearn.metrics.pairwise.cosine_similarity(nytimes_model[word].reshape(1,-1), Race.reshape(1,-1))[0][0])\n",
    "        c.append(sklearn.metrics.pairwise.cosine_similarity(nytimes_model[word].reshape(1,-1), Class.reshape(1,-1))[0][0])\n",
    "    df = pandas.DataFrame({'gender': g, 'race': r, 'class': c}, index = word_list)\n",
    "    return df"
   ]
  },
  {
   "cell_type": "markdown",
   "metadata": {},
   "source": [
    "Get the projections."
   ]
  },
  {
   "cell_type": "code",
   "execution_count": 13,
   "metadata": {},
   "outputs": [],
   "source": [
    "OCCdf = makeDF(nytimes_model, Occupations) \n",
    "Fooddf = makeDF(nytimes_model, Foods)\n",
    "Sportsdf = makeDF(nytimes_model, Sports)"
   ]
  },
  {
   "cell_type": "markdown",
   "metadata": {},
   "source": [
    "Define some useful functions for plotting."
   ]
  },
  {
   "cell_type": "code",
   "execution_count": 15,
   "metadata": {},
   "outputs": [],
   "source": [
    "def Coloring(Series):\n",
    "    x = Series.values\n",
    "    y = x-x.min()\n",
    "    z = y/y.max()\n",
    "    c = list(plt.cm.rainbow(z))\n",
    "    return c\n",
    "\n",
    "def PlotDimension(ax,df, dim):\n",
    "    ax.set_frame_on(False)\n",
    "    ax.set_title(dim, fontsize = 20)\n",
    "    colors = Coloring(df[dim])\n",
    "    for i, word in enumerate(df.index):\n",
    "        ax.annotate(word, (0, df[dim][i]), color = colors[i], alpha = 0.6, fontsize = 12)\n",
    "    MaxY = df[dim].max()\n",
    "    MinY = df[dim].min()\n",
    "    plt.ylim(MinY,MaxY)\n",
    "    plt.yticks(())\n",
    "    plt.xticks(())"
   ]
  },
  {
   "cell_type": "markdown",
   "metadata": {},
   "source": [
    "Plot the occupational words in each of the three dimensions."
   ]
  },
  {
   "cell_type": "code",
   "execution_count": 16,
   "metadata": {
    "scrolled": true
   },
   "outputs": [
    {
     "data": {
      "image/png": "[encoded data removed]",
      "text/plain": [
       "<matplotlib.figure.Figure at 0x7f2eea673c50>"
      ]
     },
     "metadata": {},
     "output_type": "display_data"
    }
   ],
   "source": [
    "fig = plt.figure(figsize = (12,4))\n",
    "ax1 = fig.add_subplot(131)\n",
    "PlotDimension(ax1, OCCdf, 'gender')\n",
    "ax2 = fig.add_subplot(132)\n",
    "PlotDimension(ax2, OCCdf, 'race')\n",
    "ax3 = fig.add_subplot(133)\n",
    "PlotDimension(ax3, OCCdf, 'class')\n",
    "plt.show()"
   ]
  },
  {
   "cell_type": "markdown",
   "metadata": {},
   "source": [
    "Foods:"
   ]
  },
  {
   "cell_type": "code",
   "execution_count": 17,
   "metadata": {},
   "outputs": [
    {
     "data": {
      "image/png": "[encoded data removed]",
      "text/plain": [
       "<matplotlib.figure.Figure at 0x7f2ee7a24048>"
      ]
     },
     "metadata": {},
     "output_type": "display_data"
    }
   ],
   "source": [
    "fig = plt.figure(figsize = (12,4))\n",
    "ax1 = fig.add_subplot(131)\n",
    "PlotDimension(ax1, Fooddf, 'gender')\n",
    "ax2 = fig.add_subplot(132)\n",
    "PlotDimension(ax2, Fooddf, 'race')\n",
    "ax3 = fig.add_subplot(133)\n",
    "PlotDimension(ax3, Fooddf, 'class')\n",
    "plt.show()"
   ]
  },
  {
   "cell_type": "markdown",
   "metadata": {},
   "source": [
    "Sports:"
   ]
  },
  {
   "cell_type": "code",
   "execution_count": 18,
   "metadata": {},
   "outputs": [
    {
     "data": {
      "image/png": "[encoded data removed]",
      "text/plain": [
       "<matplotlib.figure.Figure at 0x7f2ee79215f8>"
      ]
     },
     "metadata": {},
     "output_type": "display_data"
    }
   ],
   "source": [
    "fig = plt.figure(figsize = (12,4))\n",
    "ax1 = fig.add_subplot(131)\n",
    "PlotDimension(ax1, Sportsdf, 'gender')\n",
    "ax2 = fig.add_subplot(132)\n",
    "PlotDimension(ax2, Sportsdf, 'race')\n",
    "ax3 = fig.add_subplot(133)\n",
    "PlotDimension(ax3, Sportsdf, 'class')\n",
    "plt.show()"
   ]
  },
  {
   "cell_type": "markdown",
   "metadata": {},
   "source": [
    "## <span style=\"color:red\">*Exercise 3*</span>\n",
    "\n",
    "<span style=\"color:red\">Construct cells immediately below this that identify semantic dimensions of interest from your data (e.g., gender: man-woman) and project words onto these dimensions. Plot the array of relevant words along each semantic dimension. Which words are most different. Which dimensions are most different? On which dimension are your words most different? Print three short textual examples from the corpus that illustrate the association you have explored.\n",
    "\n",
    "<span style=\"color:red\">***Stretch***: Project documents from your corpus along a dimension of interest. Sample relevant documents from your corpus with this functionality and explain your rationale? Calculate the cosine of the angle between two dimensions (encoded as vectors) of interest. What does this suggest about the relationship between them within your corpus? \n",
    "\n",
    "<span style=\"color:red\">***Stretch***: Create 90% bootstrap confidence intervals around your word projections onto a given dimension. Which words are *significantly* different on your semantic dimension of interest?"
   ]
  },
  {
   "cell_type": "code",
   "execution_count": 19,
   "metadata": {},
   "outputs": [],
   "source": [
    "#words to create dimensions\n",
    "tnytTargetWords = ['man','him','he', 'woman', 'her', 'she', 'black','blacks','African', 'white', 'whites', 'Caucasian', 'rich', 'richer', 'richest', 'expensive', 'wealthy', 'poor', 'poorer', 'poorest', 'cheap', 'inexpensive']\n"
   ]
  },
  {
   "cell_type": "code",
   "execution_count": 30,
   "metadata": {},
   "outputs": [],
   "source": [
    "#words we will be mapping\n",
    "tnytTargetWords += [\"probability\",\"risk\",\"credibility\",\"insight\", \"knowledge\",\"discovery\",\"risk\",\"uncertainty\",\"ignorance\", \"doubt\",\"disbelief\",\"confidence\", \"reliability\", \"trust\", \"reliability\", \"trustworthy\", \"dependable\", \"innovative\"]\n"
   ]
  },
  {
   "cell_type": "code",
   "execution_count": 31,
   "metadata": {},
   "outputs": [
    {
     "ename": "KeyError",
     "evalue": "\"word 'certainty' not in vocabulary\"",
     "output_type": "error",
     "traceback": [
      "\u001b[0;31m---------------------------------------------------------------------------\u001b[0m",
      "\u001b[0;31mKeyError\u001b[0m                                  Traceback (most recent call last)",
      "\u001b[0;32m<ipython-input-31-6ded885cec37>\u001b[0m in \u001b[0;36m<module>\u001b[0;34m()\u001b[0m\n\u001b[1;32m      1\u001b[0m \u001b[0mwordsSubMatrix\u001b[0m \u001b[0;34m=\u001b[0m \u001b[0;34m[\u001b[0m\u001b[0;34m]\u001b[0m\u001b[0;34m\u001b[0m\u001b[0m\n\u001b[1;32m      2\u001b[0m \u001b[0;32mfor\u001b[0m \u001b[0mword\u001b[0m \u001b[0;32min\u001b[0m \u001b[0mtnytTargetWords\u001b[0m\u001b[0;34m:\u001b[0m\u001b[0;34m\u001b[0m\u001b[0m\n\u001b[0;32m----> 3\u001b[0;31m     \u001b[0mwordsSubMatrix\u001b[0m\u001b[0;34m.\u001b[0m\u001b[0mappend\u001b[0m\u001b[0;34m(\u001b[0m\u001b[0mnytimes_model\u001b[0m\u001b[0;34m[\u001b[0m\u001b[0mword\u001b[0m\u001b[0;34m]\u001b[0m\u001b[0;34m)\u001b[0m\u001b[0;34m\u001b[0m\u001b[0m\n\u001b[0m\u001b[1;32m      4\u001b[0m \u001b[0mwordsSubMatrix\u001b[0m \u001b[0;34m=\u001b[0m \u001b[0mnp\u001b[0m\u001b[0;34m.\u001b[0m\u001b[0marray\u001b[0m\u001b[0;34m(\u001b[0m\u001b[0mwordsSubMatrix\u001b[0m\u001b[0;34m)\u001b[0m\u001b[0;34m\u001b[0m\u001b[0m\n\u001b[1;32m      5\u001b[0m \u001b[0mwordsSubMatrix\u001b[0m\u001b[0;34m\u001b[0m\u001b[0m\n",
      "\u001b[0;32m~/.local/lib/python3.6/site-packages/gensim/models/keyedvectors.py\u001b[0m in \u001b[0;36m__getitem__\u001b[0;34m(self, words)\u001b[0m\n\u001b[1;32m    324\u001b[0m         \u001b[0;32mif\u001b[0m \u001b[0misinstance\u001b[0m\u001b[0;34m(\u001b[0m\u001b[0mwords\u001b[0m\u001b[0;34m,\u001b[0m \u001b[0mstring_types\u001b[0m\u001b[0;34m)\u001b[0m\u001b[0;34m:\u001b[0m\u001b[0;34m\u001b[0m\u001b[0m\n\u001b[1;32m    325\u001b[0m             \u001b[0;31m# allow calls like trained_model['office'], as a shorthand for trained_model[['office']]\u001b[0m\u001b[0;34m\u001b[0m\u001b[0;34m\u001b[0m\u001b[0m\n\u001b[0;32m--> 326\u001b[0;31m             \u001b[0;32mreturn\u001b[0m \u001b[0mself\u001b[0m\u001b[0;34m.\u001b[0m\u001b[0mword_vec\u001b[0m\u001b[0;34m(\u001b[0m\u001b[0mwords\u001b[0m\u001b[0;34m)\u001b[0m\u001b[0;34m\u001b[0m\u001b[0m\n\u001b[0m\u001b[1;32m    327\u001b[0m \u001b[0;34m\u001b[0m\u001b[0m\n\u001b[1;32m    328\u001b[0m         \u001b[0;32mreturn\u001b[0m \u001b[0mvstack\u001b[0m\u001b[0;34m(\u001b[0m\u001b[0;34m[\u001b[0m\u001b[0mself\u001b[0m\u001b[0;34m.\u001b[0m\u001b[0mword_vec\u001b[0m\u001b[0;34m(\u001b[0m\u001b[0mword\u001b[0m\u001b[0;34m)\u001b[0m \u001b[0;32mfor\u001b[0m \u001b[0mword\u001b[0m \u001b[0;32min\u001b[0m \u001b[0mwords\u001b[0m\u001b[0;34m]\u001b[0m\u001b[0;34m)\u001b[0m\u001b[0;34m\u001b[0m\u001b[0m\n",
      "\u001b[0;32m~/.local/lib/python3.6/site-packages/gensim/models/keyedvectors.py\u001b[0m in \u001b[0;36mword_vec\u001b[0;34m(self, word, use_norm)\u001b[0m\n\u001b[1;32m    451\u001b[0m             \u001b[0;32mreturn\u001b[0m \u001b[0mresult\u001b[0m\u001b[0;34m\u001b[0m\u001b[0m\n\u001b[1;32m    452\u001b[0m         \u001b[0;32melse\u001b[0m\u001b[0;34m:\u001b[0m\u001b[0;34m\u001b[0m\u001b[0m\n\u001b[0;32m--> 453\u001b[0;31m             \u001b[0;32mraise\u001b[0m \u001b[0mKeyError\u001b[0m\u001b[0;34m(\u001b[0m\u001b[0;34m\"word '%s' not in vocabulary\"\u001b[0m \u001b[0;34m%\u001b[0m \u001b[0mword\u001b[0m\u001b[0;34m)\u001b[0m\u001b[0;34m\u001b[0m\u001b[0m\n\u001b[0m\u001b[1;32m    454\u001b[0m \u001b[0;34m\u001b[0m\u001b[0m\n\u001b[1;32m    455\u001b[0m     \u001b[0;32mdef\u001b[0m \u001b[0mmost_similar\u001b[0m\u001b[0;34m(\u001b[0m\u001b[0mself\u001b[0m\u001b[0;34m,\u001b[0m \u001b[0mpositive\u001b[0m\u001b[0;34m=\u001b[0m\u001b[0;32mNone\u001b[0m\u001b[0;34m,\u001b[0m \u001b[0mnegative\u001b[0m\u001b[0;34m=\u001b[0m\u001b[0;32mNone\u001b[0m\u001b[0;34m,\u001b[0m \u001b[0mtopn\u001b[0m\u001b[0;34m=\u001b[0m\u001b[0;36m10\u001b[0m\u001b[0;34m,\u001b[0m \u001b[0mrestrict_vocab\u001b[0m\u001b[0;34m=\u001b[0m\u001b[0;32mNone\u001b[0m\u001b[0;34m,\u001b[0m \u001b[0mindexer\u001b[0m\u001b[0;34m=\u001b[0m\u001b[0;32mNone\u001b[0m\u001b[0;34m)\u001b[0m\u001b[0;34m:\u001b[0m\u001b[0;34m\u001b[0m\u001b[0m\n",
      "\u001b[0;31mKeyError\u001b[0m: \"word 'certainty' not in vocabulary\""
     ]
    }
   ],
   "source": [
    "wordsSubMatrix = []\n",
    "for word in tnytTargetWords:\n",
    "    wordsSubMatrix.append(nytimes_model[word])\n",
    "wordsSubMatrix = np.array(wordsSubMatrix)\n",
    "wordsSubMatrix"
   ]
  },
  {
   "cell_type": "code",
   "execution_count": null,
   "metadata": {},
   "outputs": [],
   "source": []
  },
  {
   "cell_type": "code",
   "execution_count": null,
   "metadata": {},
   "outputs": [],
   "source": []
  },
  {
   "cell_type": "code",
   "execution_count": null,
   "metadata": {},
   "outputs": [],
   "source": []
  },
  {
   "cell_type": "code",
   "execution_count": null,
   "metadata": {},
   "outputs": [],
   "source": []
  }
 ],
 "metadata": {
  "anaconda-cloud": {},
  "kernelspec": {
   "display_name": "Python 3",
   "language": "python",
   "name": "python3"
  },
  "language_info": {
   "codemirror_mode": {
    "name": "ipython",
    "version": 3
   },
   "file_extension": ".py",
   "mimetype": "text/x-python",
   "name": "python",
   "nbconvert_exporter": "python",
   "pygments_lexer": "ipython3",
   "version": "3.6.2"
  }
 },
 "nbformat": 4,
 "nbformat_minor": 1
}
